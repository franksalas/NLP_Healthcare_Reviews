{
 "cells": [
  {
   "cell_type": "code",
   "execution_count": 1,
   "metadata": {},
   "outputs": [],
   "source": [
    "import warnings\n",
    "warnings.filterwarnings('ignore')"
   ]
  },
  {
   "cell_type": "code",
   "execution_count": 2,
   "metadata": {},
   "outputs": [],
   "source": [
    "import pandas as pd\n",
    "import numpy as np\n",
    "import os\n",
    "import seaborn as sns\n",
    "import matplotlib.pyplot as plt\n",
    "import pickle"
   ]
  },
  {
   "cell_type": "code",
   "execution_count": 3,
   "metadata": {},
   "outputs": [],
   "source": [
    "data_directory_pickle = os.path.join('..','data','pickle')\n",
    "img_directory= os.path.join( '..','images')\n",
    "\n",
    "dataset = os.path.join(data_directory_pickle,'health_data.pkl')"
   ]
  },
  {
   "cell_type": "code",
   "execution_count": 4,
   "metadata": {},
   "outputs": [],
   "source": [
    "df = pd.read_pickle(dataset)"
   ]
  },
  {
   "cell_type": "code",
   "execution_count": 5,
   "metadata": {},
   "outputs": [
    {
     "name": "stdout",
     "output_type": "stream",
     "text": [
      "<class 'pandas.core.frame.DataFrame'>\n",
      "RangeIndex: 44918 entries, 0 to 44917\n",
      "Data columns (total 9 columns):\n",
      "business_id        44918 non-null object\n",
      "review_id          44918 non-null object\n",
      "health_business    44918 non-null object\n",
      "name               44918 non-null object\n",
      "stars              44918 non-null int64\n",
      "text               44918 non-null object\n",
      "processed          44918 non-null object\n",
      "polarity           44918 non-null float64\n",
      "subjectivity       44918 non-null float64\n",
      "dtypes: float64(2), int64(1), object(6)\n",
      "memory usage: 3.1+ MB\n"
     ]
    }
   ],
   "source": [
    "df.info()"
   ]
  },
  {
   "cell_type": "code",
   "execution_count": 6,
   "metadata": {},
   "outputs": [
    {
     "data": {
      "text/html": [
       "<div>\n",
       "<style scoped>\n",
       "    .dataframe tbody tr th:only-of-type {\n",
       "        vertical-align: middle;\n",
       "    }\n",
       "\n",
       "    .dataframe tbody tr th {\n",
       "        vertical-align: top;\n",
       "    }\n",
       "\n",
       "    .dataframe thead th {\n",
       "        text-align: right;\n",
       "    }\n",
       "</style>\n",
       "<table border=\"1\" class=\"dataframe\">\n",
       "  <thead>\n",
       "    <tr style=\"text-align: right;\">\n",
       "      <th></th>\n",
       "      <th>business_id</th>\n",
       "      <th>review_id</th>\n",
       "      <th>health_business</th>\n",
       "      <th>name</th>\n",
       "      <th>stars</th>\n",
       "      <th>text</th>\n",
       "      <th>processed</th>\n",
       "      <th>polarity</th>\n",
       "      <th>subjectivity</th>\n",
       "    </tr>\n",
       "  </thead>\n",
       "  <tbody>\n",
       "    <tr>\n",
       "      <th>0</th>\n",
       "      <td>2hpi6pXIFf0taDIYCoNIuw</td>\n",
       "      <td>4ar9LmGU4rQ3vXFj325HCg</td>\n",
       "      <td>urgent care</td>\n",
       "      <td>Healthcare Partner</td>\n",
       "      <td>1</td>\n",
       "      <td>If your aim is to waste hours upon hours of yo...</td>\n",
       "      <td>if your aim is to waste hours upon hours of yo...</td>\n",
       "      <td>-0.062605</td>\n",
       "      <td>0.532773</td>\n",
       "    </tr>\n",
       "    <tr>\n",
       "      <th>1</th>\n",
       "      <td>2hpi6pXIFf0taDIYCoNIuw</td>\n",
       "      <td>mZo59NzNBPr9RegkzjIGVA</td>\n",
       "      <td>urgent care</td>\n",
       "      <td>Healthcare Partner</td>\n",
       "      <td>5</td>\n",
       "      <td>Memorial Day Weekend..  I cannot Thank Doctor ...</td>\n",
       "      <td>memorial day weekend i cannot thank doctor shu...</td>\n",
       "      <td>0.281250</td>\n",
       "      <td>0.553125</td>\n",
       "    </tr>\n",
       "  </tbody>\n",
       "</table>\n",
       "</div>"
      ],
      "text/plain": [
       "              business_id               review_id health_business  \\\n",
       "0  2hpi6pXIFf0taDIYCoNIuw  4ar9LmGU4rQ3vXFj325HCg     urgent care   \n",
       "1  2hpi6pXIFf0taDIYCoNIuw  mZo59NzNBPr9RegkzjIGVA     urgent care   \n",
       "\n",
       "                 name  stars  \\\n",
       "0  Healthcare Partner      1   \n",
       "1  Healthcare Partner      5   \n",
       "\n",
       "                                                text  \\\n",
       "0  If your aim is to waste hours upon hours of yo...   \n",
       "1  Memorial Day Weekend..  I cannot Thank Doctor ...   \n",
       "\n",
       "                                           processed  polarity  subjectivity  \n",
       "0  if your aim is to waste hours upon hours of yo... -0.062605      0.532773  \n",
       "1  memorial day weekend i cannot thank doctor shu...  0.281250      0.553125  "
      ]
     },
     "execution_count": 6,
     "metadata": {},
     "output_type": "execute_result"
    }
   ],
   "source": [
    "df.head(2)"
   ]
  },
  {
   "cell_type": "code",
   "execution_count": 7,
   "metadata": {},
   "outputs": [
    {
     "data": {
      "text/plain": [
       "5    21365\n",
       "1    15753\n",
       "4     3279\n",
       "2     2778\n",
       "3     1743\n",
       "Name: stars, dtype: int64"
      ]
     },
     "execution_count": 7,
     "metadata": {},
     "output_type": "execute_result"
    }
   ],
   "source": [
    "df.stars.value_counts()"
   ]
  },
  {
   "cell_type": "code",
   "execution_count": 8,
   "metadata": {},
   "outputs": [
    {
     "data": {
      "text/plain": [
       "hospital              8247\n",
       "family practice       6869\n",
       "urgent care           6637\n",
       "obstetrician          5846\n",
       "chiropractors         5739\n",
       "diagnostic service    5011\n",
       "internal medicine     3577\n",
       "physical therapy      1818\n",
       "mental health         1174\n",
       "Name: health_business, dtype: int64"
      ]
     },
     "execution_count": 8,
     "metadata": {},
     "output_type": "execute_result"
    }
   ],
   "source": [
    "df.health_business.value_counts()"
   ]
  },
  {
   "cell_type": "markdown",
   "metadata": {},
   "source": [
    "## combine 1& 2 star values and 5"
   ]
  },
  {
   "cell_type": "code",
   "execution_count": 9,
   "metadata": {},
   "outputs": [],
   "source": [
    "data = df.ix[np.where((df.stars<=2)|(df.stars==5))]"
   ]
  },
  {
   "cell_type": "code",
   "execution_count": 10,
   "metadata": {},
   "outputs": [
    {
     "data": {
      "text/plain": [
       "5    21365\n",
       "1    15753\n",
       "2     2778\n",
       "Name: stars, dtype: int64"
      ]
     },
     "execution_count": 10,
     "metadata": {},
     "output_type": "execute_result"
    }
   ],
   "source": [
    "data.stars.value_counts()"
   ]
  },
  {
   "cell_type": "code",
   "execution_count": 11,
   "metadata": {},
   "outputs": [],
   "source": [
    "data['review'] = np.where((data.stars<=2),'bad_review','good_review')"
   ]
  },
  {
   "cell_type": "code",
   "execution_count": 12,
   "metadata": {},
   "outputs": [
    {
     "data": {
      "text/plain": [
       "good_review    21365\n",
       "bad_review     18531\n",
       "Name: review, dtype: int64"
      ]
     },
     "execution_count": 12,
     "metadata": {},
     "output_type": "execute_result"
    }
   ],
   "source": [
    "data.review.value_counts()"
   ]
  },
  {
   "cell_type": "code",
   "execution_count": 13,
   "metadata": {},
   "outputs": [
    {
     "name": "stdout",
     "output_type": "stream",
     "text": [
      "<class 'pandas.core.frame.DataFrame'>\n",
      "Int64Index: 39896 entries, 0 to 44917\n",
      "Data columns (total 10 columns):\n",
      "business_id        39896 non-null object\n",
      "review_id          39896 non-null object\n",
      "health_business    39896 non-null object\n",
      "name               39896 non-null object\n",
      "stars              39896 non-null int64\n",
      "text               39896 non-null object\n",
      "processed          39896 non-null object\n",
      "polarity           39896 non-null float64\n",
      "subjectivity       39896 non-null float64\n",
      "review             39896 non-null object\n",
      "dtypes: float64(2), int64(1), object(7)\n",
      "memory usage: 3.3+ MB\n"
     ]
    }
   ],
   "source": [
    "data.info()"
   ]
  },
  {
   "cell_type": "code",
   "execution_count": 14,
   "metadata": {},
   "outputs": [
    {
     "data": {
      "text/html": [
       "<div>\n",
       "<style scoped>\n",
       "    .dataframe tbody tr th:only-of-type {\n",
       "        vertical-align: middle;\n",
       "    }\n",
       "\n",
       "    .dataframe tbody tr th {\n",
       "        vertical-align: top;\n",
       "    }\n",
       "\n",
       "    .dataframe thead th {\n",
       "        text-align: right;\n",
       "    }\n",
       "</style>\n",
       "<table border=\"1\" class=\"dataframe\">\n",
       "  <thead>\n",
       "    <tr style=\"text-align: right;\">\n",
       "      <th></th>\n",
       "      <th>business_id</th>\n",
       "      <th>review_id</th>\n",
       "      <th>health_business</th>\n",
       "      <th>name</th>\n",
       "      <th>stars</th>\n",
       "      <th>text</th>\n",
       "      <th>processed</th>\n",
       "      <th>polarity</th>\n",
       "      <th>subjectivity</th>\n",
       "      <th>review</th>\n",
       "    </tr>\n",
       "  </thead>\n",
       "  <tbody>\n",
       "    <tr>\n",
       "      <th>0</th>\n",
       "      <td>2hpi6pXIFf0taDIYCoNIuw</td>\n",
       "      <td>4ar9LmGU4rQ3vXFj325HCg</td>\n",
       "      <td>urgent care</td>\n",
       "      <td>Healthcare Partner</td>\n",
       "      <td>1</td>\n",
       "      <td>If your aim is to waste hours upon hours of yo...</td>\n",
       "      <td>if your aim is to waste hours upon hours of yo...</td>\n",
       "      <td>-0.062605</td>\n",
       "      <td>0.532773</td>\n",
       "      <td>bad_review</td>\n",
       "    </tr>\n",
       "    <tr>\n",
       "      <th>1</th>\n",
       "      <td>2hpi6pXIFf0taDIYCoNIuw</td>\n",
       "      <td>mZo59NzNBPr9RegkzjIGVA</td>\n",
       "      <td>urgent care</td>\n",
       "      <td>Healthcare Partner</td>\n",
       "      <td>5</td>\n",
       "      <td>Memorial Day Weekend..  I cannot Thank Doctor ...</td>\n",
       "      <td>memorial day weekend i cannot thank doctor shu...</td>\n",
       "      <td>0.281250</td>\n",
       "      <td>0.553125</td>\n",
       "      <td>good_review</td>\n",
       "    </tr>\n",
       "  </tbody>\n",
       "</table>\n",
       "</div>"
      ],
      "text/plain": [
       "              business_id               review_id health_business  \\\n",
       "0  2hpi6pXIFf0taDIYCoNIuw  4ar9LmGU4rQ3vXFj325HCg     urgent care   \n",
       "1  2hpi6pXIFf0taDIYCoNIuw  mZo59NzNBPr9RegkzjIGVA     urgent care   \n",
       "\n",
       "                 name  stars  \\\n",
       "0  Healthcare Partner      1   \n",
       "1  Healthcare Partner      5   \n",
       "\n",
       "                                                text  \\\n",
       "0  If your aim is to waste hours upon hours of yo...   \n",
       "1  Memorial Day Weekend..  I cannot Thank Doctor ...   \n",
       "\n",
       "                                           processed  polarity  subjectivity  \\\n",
       "0  if your aim is to waste hours upon hours of yo... -0.062605      0.532773   \n",
       "1  memorial day weekend i cannot thank doctor shu...  0.281250      0.553125   \n",
       "\n",
       "        review  \n",
       "0   bad_review  \n",
       "1  good_review  "
      ]
     },
     "execution_count": 14,
     "metadata": {},
     "output_type": "execute_result"
    }
   ],
   "source": [
    "data.head(2)"
   ]
  },
  {
   "cell_type": "markdown",
   "metadata": {},
   "source": [
    "# Split data"
   ]
  },
  {
   "cell_type": "code",
   "execution_count": 16,
   "metadata": {},
   "outputs": [],
   "source": [
    "X1 = data.text  # \n",
    "X2 = data.processed\n",
    "#X3 = data.lemmatize_text\n",
    "y = data.review"
   ]
  },
  {
   "cell_type": "code",
   "execution_count": null,
   "metadata": {},
   "outputs": [],
   "source": [
    "# from sklearn.model_selection import train_test_split\n",
    "# X_train, X_test, y_train, y_test = train_test_split(X, y_s, test_size=0.33, random_state=42)"
   ]
  },
  {
   "cell_type": "markdown",
   "metadata": {},
   "source": [
    "# import libraries"
   ]
  },
  {
   "cell_type": "code",
   "execution_count": 19,
   "metadata": {},
   "outputs": [],
   "source": [
    "from __future__ import print_function\n",
    "\n",
    "from pprint import pprint\n",
    "import time\n",
    "import logging\n",
    "\n",
    "from sklearn.feature_extraction.text import CountVectorizer,TfidfVectorizer\n",
    "from sklearn.feature_extraction.text import TfidfTransformer\n",
    "from sklearn.linear_model import SGDClassifier\n",
    "from sklearn.svm import LinearSVC\n",
    "from sklearn.naive_bayes import MultinomialNB\n",
    "\n",
    "from sklearn.model_selection import GridSearchCV\n",
    "from sklearn.pipeline import Pipeline\n",
    "\n",
    "from sklearn import metrics\n",
    "from sklearn.metrics import confusion_matrix, classification_report, accuracy_score,recall_score,precision_score"
   ]
  },
  {
   "cell_type": "markdown",
   "metadata": {},
   "source": [
    "##  Define a pipeline combining\n",
    "## a text feature extractor with a simple classifier\n",
    "\n"
   ]
  },
  {
   "cell_type": "code",
   "execution_count": 18,
   "metadata": {},
   "outputs": [],
   "source": [
    "pipeline = Pipeline([\n",
    "    ('vect', CountVectorizer()),\n",
    "    ('tfidf', TfidfTransformer()),\n",
    "    ('clf', LinearSVC()),\n",
    "])"
   ]
  },
  {
   "cell_type": "code",
   "execution_count": 20,
   "metadata": {},
   "outputs": [],
   "source": [
    "#pipeline.get_params()"
   ]
  },
  {
   "cell_type": "markdown",
   "metadata": {},
   "source": [
    "## Default Parameters\n",
    "\n",
    "```JSON\n",
    "'vect__analyzer': 'word',\n",
    " 'vect__binary': False,\n",
    " 'vect__decode_error': 'strict',\n",
    " 'vect__dtype': numpy.int64,\n",
    " 'vect__encoding': 'utf-8',\n",
    " 'vect__input': 'content',\n",
    " 'vect__lowercase': True,\n",
    " 'vect__max_df': 1.0,\n",
    " 'vect__max_features': None,\n",
    " 'vect__min_df': 1,\n",
    " 'vect__ngram_range': (1, 1),\n",
    " 'vect__preprocessor': None,\n",
    " 'vect__stop_words': None,\n",
    " 'vect__strip_accents': None,\n",
    " 'vect__token_pattern': '(?u)\\\\b\\\\w\\\\w+\\\\b',\n",
    " 'vect__tokenizer': None,\n",
    " 'vect__vocabulary': None,\n",
    " 'tfidf__norm': 'l2',\n",
    " 'tfidf__smooth_idf': True,\n",
    " 'tfidf__sublinear_tf': False,\n",
    " 'tfidf__use_idf': True,\n",
    " 'clf__C': 1.0,\n",
    " 'clf__class_weight': None,\n",
    " 'clf__dual': True,\n",
    " 'clf__fit_intercept': True,\n",
    " 'clf__intercept_scaling': 1,\n",
    " 'clf__loss': 'squared_hinge',\n",
    " 'clf__max_iter': 1000,\n",
    " 'clf__multi_class': 'ovr',\n",
    " 'clf__penalty': 'l2',\n",
    " 'clf__random_state': None,\n",
    " 'clf__tol': 0.0001,\n",
    " 'clf__verbose': 0}\n",
    " ```"
   ]
  },
  {
   "cell_type": "code",
   "execution_count": null,
   "metadata": {},
   "outputs": [],
   "source": []
  },
  {
   "cell_type": "markdown",
   "metadata": {},
   "source": [
    "## TEST"
   ]
  },
  {
   "cell_type": "code",
   "execution_count": 22,
   "metadata": {},
   "outputs": [
    {
     "name": "stdout",
     "output_type": "stream",
     "text": [
      "--------------------------------\n",
      "    GRID SEARCH ACTIVE\n",
      "\n",
      "\n",
      "--------------------------------\n",
      "PIPELINE: ['vect', 'tfidf', 'clf']\n",
      "PARAMETERS:\n",
      "{}\n",
      "--------------------------------\n",
      "start: 10/30/2018 20:43:03\n",
      "--------------------------------\n",
      "Fitting 5 folds for each of 1 candidates, totalling 5 fits\n"
     ]
    },
    {
     "name": "stderr",
     "output_type": "stream",
     "text": [
      "[Parallel(n_jobs=-1)]: Using backend LokyBackend with 16 concurrent workers.\n",
      "[Parallel(n_jobs=-1)]: Done   5 out of   5 | elapsed:   48.1s finished\n"
     ]
    },
    {
     "name": "stdout",
     "output_type": "stream",
     "text": [
      "--------------------------------\n",
      "End: 10/30/2018 20:43:57\n",
      "--------------------------------\n",
      "done in 54.303s\n",
      "\n",
      "Best score: 0.959\n",
      "Best parameters set:\n"
     ]
    }
   ],
   "source": [
    "parameters = {}  # for test\n",
    "grid_search = GridSearchCV(pipeline, \n",
    "                           parameters, \n",
    "                           cv=5,\n",
    "                           n_jobs=-1, \n",
    "                           verbose=1)\n",
    "print('--------------------------------')\n",
    "print(\"    GRID SEARCH ACTIVE\\n\\n\")\n",
    "print('--------------------------------')\n",
    "\n",
    "print(\"PIPELINE:\", [name for name, _ in pipeline.steps])\n",
    "print(\"PARAMETERS:\")\n",
    "pprint(parameters)\n",
    "print('--------------------------------')\n",
    "t0 = time.time()\n",
    "start = time.strftime('%m/%d/%Y %H:%M:%S',  time.localtime())\n",
    "\n",
    "print('start: {}'.format(start))\n",
    "print('--------------------------------')\n",
    "grid_search.fit(X1,y)\n",
    "end = time.strftime('%m/%d/%Y %H:%M:%S',  time.localtime())\n",
    "print('--------------------------------')\n",
    "print('End: {}'.format(end))\n",
    "print('--------------------------------')\n",
    "\n",
    "seconds = time.time() - t0\n",
    "\n",
    "print(\"done in %0.3fs\" % (seconds))\n",
    "print()\n",
    "\n",
    "print(\"Best score: %0.3f\" % grid_search.best_score_)\n",
    "print(\"Best parameters set:\")\n",
    "best_parameters = grid_search.best_estimator_.get_params()\n",
    "for param_name in sorted(parameters.keys()):\n",
    "    print(\"\\t%s: %r\" % (param_name, best_parameters[param_name]))"
   ]
  },
  {
   "cell_type": "code",
   "execution_count": null,
   "metadata": {},
   "outputs": [],
   "source": []
  },
  {
   "cell_type": "markdown",
   "metadata": {},
   "source": [
    "## User parameters"
   ]
  },
  {
   "cell_type": "code",
   "execution_count": 24,
   "metadata": {},
   "outputs": [],
   "source": [
    "parameters = { \n",
    "'vect__ngram_range':( (1, 2),),\n",
    "'vect__max_df': (0.5, 0.75, 1.0), # 1.0,\n",
    "'vect__max_features':  (None, 5000, 10000, 50000), # None,\n",
    " 'clf__C': (1,5,10,15,),\n",
    "             }"
   ]
  },
  {
   "cell_type": "code",
   "execution_count": null,
   "metadata": {},
   "outputs": [],
   "source": []
  },
  {
   "cell_type": "markdown",
   "metadata": {},
   "source": [
    "# Cross Validation: 1\n",
    "- time: 12 minutes"
   ]
  },
  {
   "cell_type": "code",
   "execution_count": 26,
   "metadata": {},
   "outputs": [
    {
     "name": "stdout",
     "output_type": "stream",
     "text": [
      "--------------------------------\n",
      "    GRID SEARCH ACTIVE\n",
      "\n",
      "\n",
      "--------------------------------\n",
      "PIPELINE: ['vect', 'tfidf', 'clf']\n",
      "PARAMETERS:\n",
      "{'clf__C': (1, 5, 10, 15),\n",
      " 'vect__max_df': (0.5, 0.75, 1.0),\n",
      " 'vect__max_features': (None, 5000, 10000, 50000),\n",
      " 'vect__ngram_range': ((1, 2),)}\n",
      "--------------------------------\n",
      "start: 10/30/2018 20:45:12\n",
      "--------------------------------\n",
      "Fitting 5 folds for each of 48 candidates, totalling 240 fits\n"
     ]
    },
    {
     "name": "stderr",
     "output_type": "stream",
     "text": [
      "[Parallel(n_jobs=-1)]: Using backend LokyBackend with 16 concurrent workers.\n",
      "[Parallel(n_jobs=-1)]: Done  18 tasks      | elapsed:  2.2min\n",
      "[Parallel(n_jobs=-1)]: Done 168 tasks      | elapsed: 10.0min\n",
      "[Parallel(n_jobs=-1)]: Done 240 out of 240 | elapsed: 13.9min finished\n"
     ]
    },
    {
     "name": "stdout",
     "output_type": "stream",
     "text": [
      "--------------------------------\n",
      "End: 10/30/2018 20:59:35\n",
      "--------------------------------\n",
      "done in 863.204s\n",
      "\n",
      "Best score: 0.971\n",
      "Best parameters set:\n",
      "\tclf__C: 5\n",
      "\tvect__max_df: 0.5\n",
      "\tvect__max_features: None\n",
      "\tvect__ngram_range: (1, 2)\n"
     ]
    }
   ],
   "source": [
    "#parameters = {}  # for test\n",
    "grid_search = GridSearchCV(pipeline, \n",
    "                           parameters, \n",
    "                           cv=5,\n",
    "                           n_jobs=-1, \n",
    "                           verbose=1)\n",
    "print('--------------------------------')\n",
    "print(\"    GRID SEARCH ACTIVE\\n\\n\")\n",
    "print('--------------------------------')\n",
    "\n",
    "print(\"PIPELINE:\", [name for name, _ in pipeline.steps])\n",
    "print(\"PARAMETERS:\")\n",
    "pprint(parameters)\n",
    "print('--------------------------------')\n",
    "t0 = time.time()\n",
    "start = time.strftime('%m/%d/%Y %H:%M:%S',  time.localtime())\n",
    "\n",
    "print('start: {}'.format(start))\n",
    "print('--------------------------------')\n",
    "grid_search.fit(X1,y)\n",
    "end = time.strftime('%m/%d/%Y %H:%M:%S',  time.localtime())\n",
    "print('--------------------------------')\n",
    "print('End: {}'.format(end))\n",
    "print('--------------------------------')\n",
    "\n",
    "seconds = time.time() - t0\n",
    "\n",
    "print(\"done in %0.3fs\" % (seconds))\n",
    "print()\n",
    "\n",
    "print(\"Best score: %0.3f\" % grid_search.best_score_)\n",
    "print(\"Best parameters set:\")\n",
    "best_parameters = grid_search.best_estimator_.get_params()\n",
    "for param_name in sorted(parameters.keys()):\n",
    "    print(\"\\t%s: %r\" % (param_name, best_parameters[param_name]))"
   ]
  },
  {
   "cell_type": "markdown",
   "metadata": {},
   "source": [
    "## health_business\n",
    "## split data"
   ]
  },
  {
   "cell_type": "code",
   "execution_count": 38,
   "metadata": {},
   "outputs": [
    {
     "data": {
      "text/plain": [
       "hospital              8247\n",
       "family practice       6869\n",
       "urgent care           6637\n",
       "obstetrician          5846\n",
       "chiropractors         5739\n",
       "diagnostic service    5011\n",
       "internal medicine     3577\n",
       "physical therapy      1818\n",
       "mental health         1174\n",
       "Name: health_business, dtype: int64"
      ]
     },
     "execution_count": 38,
     "metadata": {},
     "output_type": "execute_result"
    }
   ],
   "source": [
    "df.health_business.value_counts()"
   ]
  },
  {
   "cell_type": "code",
   "execution_count": 23,
   "metadata": {},
   "outputs": [],
   "source": [
    "X1=df.text \n",
    "X2= df.processed\n",
    "y = df.health_business.values"
   ]
  },
  {
   "cell_type": "code",
   "execution_count": null,
   "metadata": {},
   "outputs": [],
   "source": []
  },
  {
   "cell_type": "markdown",
   "metadata": {},
   "source": [
    "## Cross Validation: 1"
   ]
  },
  {
   "cell_type": "code",
   "execution_count": 40,
   "metadata": {},
   "outputs": [
    {
     "name": "stdout",
     "output_type": "stream",
     "text": [
      "--------------------------------\n",
      "    GRID SEARCH ACTIVE\n",
      "\n",
      "\n",
      "--------------------------------\n",
      "PIPELINE: ['vect', 'tfidf', 'clf']\n",
      "PARAMETERS:\n",
      "{}\n",
      "--------------------------------\n",
      "start: 10/30/2018 21:07:54\n",
      "--------------------------------\n",
      "Fitting 5 folds for each of 1 candidates, totalling 5 fits\n"
     ]
    },
    {
     "name": "stderr",
     "output_type": "stream",
     "text": [
      "[Parallel(n_jobs=-1)]: Using backend LokyBackend with 16 concurrent workers.\n",
      "[Parallel(n_jobs=-1)]: Done   5 out of   5 | elapsed:  1.0min finished\n"
     ]
    },
    {
     "name": "stdout",
     "output_type": "stream",
     "text": [
      "--------------------------------\n",
      "End: 10/30/2018 21:09:08\n",
      "--------------------------------\n",
      "done in 74.067s\n",
      "\n",
      "Best score: 0.602\n",
      "Best parameters set:\n"
     ]
    }
   ],
   "source": [
    "### TEST ###\n",
    "parameters = {}  # for test\n",
    "grid_search = GridSearchCV(pipeline, \n",
    "                           parameters, \n",
    "                           cv=5,\n",
    "                           n_jobs=-1, \n",
    "                           verbose=1)\n",
    "print('--------------------------------')\n",
    "print(\"    GRID SEARCH ACTIVE\\n\\n\")\n",
    "print('--------------------------------')\n",
    "\n",
    "print(\"PIPELINE:\", [name for name, _ in pipeline.steps])\n",
    "print(\"PARAMETERS:\")\n",
    "pprint(parameters)\n",
    "print('--------------------------------')\n",
    "t0 = time.time()\n",
    "start = time.strftime('%m/%d/%Y %H:%M:%S',  time.localtime())\n",
    "\n",
    "print('start: {}'.format(start))\n",
    "print('--------------------------------')\n",
    "grid_search.fit(X1,y)\n",
    "end = time.strftime('%m/%d/%Y %H:%M:%S',  time.localtime())\n",
    "print('--------------------------------')\n",
    "print('End: {}'.format(end))\n",
    "print('--------------------------------')\n",
    "\n",
    "seconds = time.time() - t0\n",
    "\n",
    "print(\"done in %0.3fs\" % (seconds))\n",
    "print()\n",
    "\n",
    "print(\"Best score: %0.3f\" % grid_search.best_score_)\n",
    "print(\"Best parameters set:\")\n",
    "best_parameters = grid_search.best_estimator_.get_params()\n",
    "for param_name in sorted(parameters.keys()):\n",
    "    print(\"\\t%s: %r\" % (param_name, best_parameters[param_name]))"
   ]
  },
  {
   "cell_type": "code",
   "execution_count": 41,
   "metadata": {},
   "outputs": [],
   "source": [
    "parameters = { \n",
    "'vect__ngram_range':( (1, 2),),\n",
    "'vect__max_df': (0.5, 0.75, 1.0), # 1.0,\n",
    "'vect__max_features':  (None, 5000, 10000, 50000), # None,\n",
    " 'clf__C': (1,5,10,15,),\n",
    "             }"
   ]
  },
  {
   "cell_type": "code",
   "execution_count": 42,
   "metadata": {},
   "outputs": [
    {
     "name": "stdout",
     "output_type": "stream",
     "text": [
      "--------------------------------\n",
      "    GRID SEARCH ACTIVE\n",
      "\n",
      "\n",
      "--------------------------------\n",
      "PIPELINE: ['vect', 'tfidf', 'clf']\n",
      "PARAMETERS:\n",
      "{'clf__C': (1, 5, 10, 15),\n",
      " 'vect__max_df': (0.5, 0.75, 1.0),\n",
      " 'vect__max_features': (None, 5000, 10000, 50000),\n",
      " 'vect__ngram_range': ((1, 2),)}\n",
      "--------------------------------\n",
      "start: 10/30/2018 21:09:23\n",
      "--------------------------------\n",
      "Fitting 5 folds for each of 48 candidates, totalling 240 fits\n"
     ]
    },
    {
     "name": "stderr",
     "output_type": "stream",
     "text": [
      "[Parallel(n_jobs=-1)]: Using backend LokyBackend with 16 concurrent workers.\n",
      "[Parallel(n_jobs=-1)]: Done  18 tasks      | elapsed:  2.9min\n",
      "[Parallel(n_jobs=-1)]: Done 168 tasks      | elapsed: 26.4min\n",
      "[Parallel(n_jobs=-1)]: Done 240 out of 240 | elapsed: 45.2min finished\n"
     ]
    },
    {
     "name": "stdout",
     "output_type": "stream",
     "text": [
      "--------------------------------\n",
      "End: 10/30/2018 21:55:26\n",
      "--------------------------------\n",
      "done in 2763.054s\n",
      "\n",
      "Best score: 0.623\n",
      "Best parameters set:\n",
      "\tclf__C: 1\n",
      "\tvect__max_df: 1.0\n",
      "\tvect__max_features: None\n",
      "\tvect__ngram_range: (1, 2)\n"
     ]
    }
   ],
   "source": [
    "#parameters = {}  # for test\n",
    "grid_search = GridSearchCV(pipeline, \n",
    "                           parameters, \n",
    "                           cv=5,\n",
    "                           n_jobs=-1, \n",
    "                           verbose=1)\n",
    "print('--------------------------------')\n",
    "print(\"    GRID SEARCH ACTIVE\\n\\n\")\n",
    "print('--------------------------------')\n",
    "\n",
    "print(\"PIPELINE:\", [name for name, _ in pipeline.steps])\n",
    "print(\"PARAMETERS:\")\n",
    "pprint(parameters)\n",
    "print('--------------------------------')\n",
    "t0 = time.time()\n",
    "start = time.strftime('%m/%d/%Y %H:%M:%S',  time.localtime())\n",
    "\n",
    "print('start: {}'.format(start))\n",
    "print('--------------------------------')\n",
    "grid_search.fit(X1,y)\n",
    "end = time.strftime('%m/%d/%Y %H:%M:%S',  time.localtime())\n",
    "print('--------------------------------')\n",
    "print('End: {}'.format(end))\n",
    "print('--------------------------------')\n",
    "\n",
    "seconds = time.time() - t0\n",
    "\n",
    "print(\"done in %0.3fs\" % (seconds))\n",
    "print()\n",
    "\n",
    "print(\"Best score: %0.3f\" % grid_search.best_score_)\n",
    "print(\"Best parameters set:\")\n",
    "best_parameters = grid_search.best_estimator_.get_params()\n",
    "for param_name in sorted(parameters.keys()):\n",
    "    print(\"\\t%s: %r\" % (param_name, best_parameters[param_name]))"
   ]
  },
  {
   "cell_type": "markdown",
   "metadata": {},
   "source": [
    "cvalues\n",
    "https://medium.com/@pushkarmandot/what-is-the-significance-of-c-value-in-support-vector-machine-28224e852c5a"
   ]
  },
  {
   "cell_type": "code",
   "execution_count": null,
   "metadata": {},
   "outputs": [],
   "source": []
  }
 ],
 "metadata": {
  "kernelspec": {
   "display_name": "Python 3",
   "language": "python",
   "name": "python3"
  },
  "language_info": {
   "codemirror_mode": {
    "name": "ipython",
    "version": 3
   },
   "file_extension": ".py",
   "mimetype": "text/x-python",
   "name": "python",
   "nbconvert_exporter": "python",
   "pygments_lexer": "ipython3",
   "version": "3.5.6"
  }
 },
 "nbformat": 4,
 "nbformat_minor": 2
}
