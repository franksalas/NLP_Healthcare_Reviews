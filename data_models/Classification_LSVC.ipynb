{
 "cells": [
  {
   "cell_type": "code",
   "execution_count": 1,
   "metadata": {},
   "outputs": [],
   "source": [
    "import warnings\n",
    "warnings.filterwarnings('ignore')"
   ]
  },
  {
   "cell_type": "code",
   "execution_count": 2,
   "metadata": {},
   "outputs": [],
   "source": [
    "import pandas as pd\n",
    "import numpy as np\n",
    "import os\n",
    "import seaborn as sns\n",
    "import matplotlib.pyplot as plt\n",
    "import pickle"
   ]
  },
  {
   "cell_type": "code",
   "execution_count": 3,
   "metadata": {},
   "outputs": [],
   "source": [
    "data_directory_pickle = os.path.join('..','data','pickle')\n",
    "img_directory= os.path.join( '..','images')\n",
    "\n",
    "dataset = os.path.join(data_directory_pickle,'health_data.pkl')"
   ]
  },
  {
   "cell_type": "code",
   "execution_count": 4,
   "metadata": {},
   "outputs": [],
   "source": [
    "df = pd.read_pickle(dataset)"
   ]
  },
  {
   "cell_type": "code",
   "execution_count": 5,
   "metadata": {},
   "outputs": [
    {
     "name": "stdout",
     "output_type": "stream",
     "text": [
      "<class 'pandas.core.frame.DataFrame'>\n",
      "RangeIndex: 44918 entries, 0 to 44917\n",
      "Data columns (total 9 columns):\n",
      "business_id        44918 non-null object\n",
      "review_id          44918 non-null object\n",
      "health_business    44918 non-null object\n",
      "name               44918 non-null object\n",
      "stars              44918 non-null int64\n",
      "text               44918 non-null object\n",
      "processed          44918 non-null object\n",
      "polarity           44918 non-null float64\n",
      "subjectivity       44918 non-null float64\n",
      "dtypes: float64(2), int64(1), object(6)\n",
      "memory usage: 3.1+ MB\n"
     ]
    }
   ],
   "source": [
    "df.info()"
   ]
  },
  {
   "cell_type": "code",
   "execution_count": 6,
   "metadata": {},
   "outputs": [
    {
     "data": {
      "text/html": [
       "<div>\n",
       "<style scoped>\n",
       "    .dataframe tbody tr th:only-of-type {\n",
       "        vertical-align: middle;\n",
       "    }\n",
       "\n",
       "    .dataframe tbody tr th {\n",
       "        vertical-align: top;\n",
       "    }\n",
       "\n",
       "    .dataframe thead th {\n",
       "        text-align: right;\n",
       "    }\n",
       "</style>\n",
       "<table border=\"1\" class=\"dataframe\">\n",
       "  <thead>\n",
       "    <tr style=\"text-align: right;\">\n",
       "      <th></th>\n",
       "      <th>business_id</th>\n",
       "      <th>review_id</th>\n",
       "      <th>health_business</th>\n",
       "      <th>name</th>\n",
       "      <th>stars</th>\n",
       "      <th>text</th>\n",
       "      <th>processed</th>\n",
       "      <th>polarity</th>\n",
       "      <th>subjectivity</th>\n",
       "    </tr>\n",
       "  </thead>\n",
       "  <tbody>\n",
       "    <tr>\n",
       "      <th>0</th>\n",
       "      <td>2hpi6pXIFf0taDIYCoNIuw</td>\n",
       "      <td>4ar9LmGU4rQ3vXFj325HCg</td>\n",
       "      <td>urgent care</td>\n",
       "      <td>Healthcare Partner</td>\n",
       "      <td>1</td>\n",
       "      <td>If your aim is to waste hours upon hours of yo...</td>\n",
       "      <td>if your aim is to waste hours upon hours of yo...</td>\n",
       "      <td>-0.062605</td>\n",
       "      <td>0.532773</td>\n",
       "    </tr>\n",
       "    <tr>\n",
       "      <th>1</th>\n",
       "      <td>2hpi6pXIFf0taDIYCoNIuw</td>\n",
       "      <td>mZo59NzNBPr9RegkzjIGVA</td>\n",
       "      <td>urgent care</td>\n",
       "      <td>Healthcare Partner</td>\n",
       "      <td>5</td>\n",
       "      <td>Memorial Day Weekend..  I cannot Thank Doctor ...</td>\n",
       "      <td>memorial day weekend i cannot thank doctor shu...</td>\n",
       "      <td>0.281250</td>\n",
       "      <td>0.553125</td>\n",
       "    </tr>\n",
       "  </tbody>\n",
       "</table>\n",
       "</div>"
      ],
      "text/plain": [
       "              business_id               review_id health_business  \\\n",
       "0  2hpi6pXIFf0taDIYCoNIuw  4ar9LmGU4rQ3vXFj325HCg     urgent care   \n",
       "1  2hpi6pXIFf0taDIYCoNIuw  mZo59NzNBPr9RegkzjIGVA     urgent care   \n",
       "\n",
       "                 name  stars  \\\n",
       "0  Healthcare Partner      1   \n",
       "1  Healthcare Partner      5   \n",
       "\n",
       "                                                text  \\\n",
       "0  If your aim is to waste hours upon hours of yo...   \n",
       "1  Memorial Day Weekend..  I cannot Thank Doctor ...   \n",
       "\n",
       "                                           processed  polarity  subjectivity  \n",
       "0  if your aim is to waste hours upon hours of yo... -0.062605      0.532773  \n",
       "1  memorial day weekend i cannot thank doctor shu...  0.281250      0.553125  "
      ]
     },
     "execution_count": 6,
     "metadata": {},
     "output_type": "execute_result"
    }
   ],
   "source": [
    "df.head(2)"
   ]
  },
  {
   "cell_type": "code",
   "execution_count": 7,
   "metadata": {},
   "outputs": [
    {
     "data": {
      "text/plain": [
       "5    21365\n",
       "1    15753\n",
       "4     3279\n",
       "2     2778\n",
       "3     1743\n",
       "Name: stars, dtype: int64"
      ]
     },
     "execution_count": 7,
     "metadata": {},
     "output_type": "execute_result"
    }
   ],
   "source": [
    "df.stars.value_counts()"
   ]
  },
  {
   "cell_type": "code",
   "execution_count": 8,
   "metadata": {},
   "outputs": [
    {
     "data": {
      "text/plain": [
       "hospital              8247\n",
       "family practice       6869\n",
       "urgent care           6637\n",
       "obstetrician          5846\n",
       "chiropractors         5739\n",
       "diagnostic service    5011\n",
       "internal medicine     3577\n",
       "physical therapy      1818\n",
       "mental health         1174\n",
       "Name: health_business, dtype: int64"
      ]
     },
     "execution_count": 8,
     "metadata": {},
     "output_type": "execute_result"
    }
   ],
   "source": [
    "df.health_business.value_counts()"
   ]
  },
  {
   "cell_type": "markdown",
   "metadata": {},
   "source": [
    "## combine 1& 2 star values and 5"
   ]
  },
  {
   "cell_type": "code",
   "execution_count": 307,
   "metadata": {},
   "outputs": [],
   "source": [
    "data = df.ix[np.where((df.stars<=2)|(df.stars==5))]"
   ]
  },
  {
   "cell_type": "code",
   "execution_count": 308,
   "metadata": {},
   "outputs": [
    {
     "data": {
      "text/plain": [
       "5    21365\n",
       "1    15753\n",
       "2     2778\n",
       "Name: stars, dtype: int64"
      ]
     },
     "execution_count": 308,
     "metadata": {},
     "output_type": "execute_result"
    }
   ],
   "source": [
    "data.stars.value_counts()"
   ]
  },
  {
   "cell_type": "code",
   "execution_count": 309,
   "metadata": {},
   "outputs": [],
   "source": [
    "data['review'] = np.where((data.stars<=2),'bad_review','good_review')"
   ]
  },
  {
   "cell_type": "code",
   "execution_count": 310,
   "metadata": {},
   "outputs": [
    {
     "data": {
      "text/plain": [
       "good_review    21365\n",
       "bad_review     18531\n",
       "Name: review, dtype: int64"
      ]
     },
     "execution_count": 310,
     "metadata": {},
     "output_type": "execute_result"
    }
   ],
   "source": [
    "data.review.value_counts()"
   ]
  },
  {
   "cell_type": "code",
   "execution_count": 311,
   "metadata": {},
   "outputs": [
    {
     "name": "stdout",
     "output_type": "stream",
     "text": [
      "<class 'pandas.core.frame.DataFrame'>\n",
      "Int64Index: 39896 entries, 0 to 44917\n",
      "Data columns (total 11 columns):\n",
      "business_id        39896 non-null object\n",
      "review_id          39896 non-null object\n",
      "health_business    39896 non-null object\n",
      "name               39896 non-null object\n",
      "stars              39896 non-null int64\n",
      "text               39896 non-null object\n",
      "processed          39896 non-null object\n",
      "polarity           39896 non-null float64\n",
      "subjectivity       39896 non-null float64\n",
      "lemmatize_text     39896 non-null object\n",
      "review             39896 non-null object\n",
      "dtypes: float64(2), int64(1), object(8)\n",
      "memory usage: 3.7+ MB\n"
     ]
    }
   ],
   "source": [
    "data.info()"
   ]
  },
  {
   "cell_type": "code",
   "execution_count": 312,
   "metadata": {},
   "outputs": [
    {
     "data": {
      "text/html": [
       "<div>\n",
       "<style scoped>\n",
       "    .dataframe tbody tr th:only-of-type {\n",
       "        vertical-align: middle;\n",
       "    }\n",
       "\n",
       "    .dataframe tbody tr th {\n",
       "        vertical-align: top;\n",
       "    }\n",
       "\n",
       "    .dataframe thead th {\n",
       "        text-align: right;\n",
       "    }\n",
       "</style>\n",
       "<table border=\"1\" class=\"dataframe\">\n",
       "  <thead>\n",
       "    <tr style=\"text-align: right;\">\n",
       "      <th></th>\n",
       "      <th>business_id</th>\n",
       "      <th>review_id</th>\n",
       "      <th>health_business</th>\n",
       "      <th>name</th>\n",
       "      <th>stars</th>\n",
       "      <th>text</th>\n",
       "      <th>processed</th>\n",
       "      <th>polarity</th>\n",
       "      <th>subjectivity</th>\n",
       "      <th>lemmatize_text</th>\n",
       "      <th>review</th>\n",
       "    </tr>\n",
       "  </thead>\n",
       "  <tbody>\n",
       "    <tr>\n",
       "      <th>0</th>\n",
       "      <td>2hpi6pXIFf0taDIYCoNIuw</td>\n",
       "      <td>4ar9LmGU4rQ3vXFj325HCg</td>\n",
       "      <td>urgent care</td>\n",
       "      <td>Healthcare Partner</td>\n",
       "      <td>1</td>\n",
       "      <td>If your aim is to waste hours upon hours of yo...</td>\n",
       "      <td>if your aim is to waste hours upon hours of yo...</td>\n",
       "      <td>-0.062605</td>\n",
       "      <td>0.532773</td>\n",
       "      <td>if your aim be to waste hour upon hour of your...</td>\n",
       "      <td>bad_review</td>\n",
       "    </tr>\n",
       "    <tr>\n",
       "      <th>1</th>\n",
       "      <td>2hpi6pXIFf0taDIYCoNIuw</td>\n",
       "      <td>mZo59NzNBPr9RegkzjIGVA</td>\n",
       "      <td>urgent care</td>\n",
       "      <td>Healthcare Partner</td>\n",
       "      <td>5</td>\n",
       "      <td>Memorial Day Weekend..  I cannot Thank Doctor ...</td>\n",
       "      <td>memorial day weekend i cannot thank doctor shu...</td>\n",
       "      <td>0.281250</td>\n",
       "      <td>0.553125</td>\n",
       "      <td>memorial day weekend i can not thank doctor sh...</td>\n",
       "      <td>good_review</td>\n",
       "    </tr>\n",
       "  </tbody>\n",
       "</table>\n",
       "</div>"
      ],
      "text/plain": [
       "              business_id               review_id health_business  \\\n",
       "0  2hpi6pXIFf0taDIYCoNIuw  4ar9LmGU4rQ3vXFj325HCg     urgent care   \n",
       "1  2hpi6pXIFf0taDIYCoNIuw  mZo59NzNBPr9RegkzjIGVA     urgent care   \n",
       "\n",
       "                 name  stars  \\\n",
       "0  Healthcare Partner      1   \n",
       "1  Healthcare Partner      5   \n",
       "\n",
       "                                                text  \\\n",
       "0  If your aim is to waste hours upon hours of yo...   \n",
       "1  Memorial Day Weekend..  I cannot Thank Doctor ...   \n",
       "\n",
       "                                           processed  polarity  subjectivity  \\\n",
       "0  if your aim is to waste hours upon hours of yo... -0.062605      0.532773   \n",
       "1  memorial day weekend i cannot thank doctor shu...  0.281250      0.553125   \n",
       "\n",
       "                                      lemmatize_text       review  \n",
       "0  if your aim be to waste hour upon hour of your...   bad_review  \n",
       "1  memorial day weekend i can not thank doctor sh...  good_review  "
      ]
     },
     "execution_count": 312,
     "metadata": {},
     "output_type": "execute_result"
    }
   ],
   "source": [
    "data.head(2)"
   ]
  },
  {
   "cell_type": "markdown",
   "metadata": {},
   "source": [
    "# Split data"
   ]
  },
  {
   "cell_type": "code",
   "execution_count": 313,
   "metadata": {},
   "outputs": [],
   "source": [
    "X1 = data.text  # \n",
    "X2 = data.processed\n",
    "X3 = data.lemmatize_text\n",
    "y = data.review"
   ]
  },
  {
   "cell_type": "code",
   "execution_count": null,
   "metadata": {},
   "outputs": [],
   "source": [
    "# from sklearn.model_selection import train_test_split\n",
    "# X_train, X_test, y_train, y_test = train_test_split(X, y_s, test_size=0.33, random_state=42)"
   ]
  },
  {
   "cell_type": "markdown",
   "metadata": {},
   "source": [
    "# import libraries"
   ]
  },
  {
   "cell_type": "code",
   "execution_count": 16,
   "metadata": {},
   "outputs": [],
   "source": [
    "from __future__ import print_function\n",
    "\n",
    "from pprint import pprint\n",
    "import time\n",
    "import logging\n",
    "\n",
    "from sklearn.feature_extraction.text import CountVectorizer,TfidfVectorizer\n",
    "from sklearn.feature_extraction.text import TfidfTransformer\n",
    "from sklearn.linear_model import SGDClassifier\n",
    "from sklearn.svm import LinearSVC\n",
    "from sklearn.naive_bayes import MultinomialNB\n",
    "\n",
    "from sklearn.model_selection import GridSearchCV\n",
    "from sklearn.pipeline import Pipeline\n",
    "\n",
    "from sklearn import metrics\n",
    "from sklearn.metrics import confusion_matrix, classification_report, accuracy_score,recall_score,precision_score"
   ]
  },
  {
   "cell_type": "markdown",
   "metadata": {},
   "source": [
    "##  Define a pipeline combining\n",
    "## a text feature extractor with a simple classifier\n",
    "\n"
   ]
  },
  {
   "cell_type": "code",
   "execution_count": 18,
   "metadata": {},
   "outputs": [],
   "source": [
    "pipeline = Pipeline([\n",
    "    ('vect', CountVectorizer()),\n",
    "    ('tfidf', TfidfTransformer()),\n",
    "    ('clf', LinearSVC()),\n",
    "])"
   ]
  },
  {
   "cell_type": "code",
   "execution_count": 20,
   "metadata": {},
   "outputs": [],
   "source": [
    "#pipeline.get_params()"
   ]
  },
  {
   "cell_type": "markdown",
   "metadata": {},
   "source": [
    "## Default Parameters\n",
    "\n",
    "```JSON\n",
    "'vect__analyzer': 'word',\n",
    " 'vect__binary': False,\n",
    " 'vect__decode_error': 'strict',\n",
    " 'vect__dtype': numpy.int64,\n",
    " 'vect__encoding': 'utf-8',\n",
    " 'vect__input': 'content',\n",
    " 'vect__lowercase': True,\n",
    " 'vect__max_df': 1.0,\n",
    " 'vect__max_features': None,\n",
    " 'vect__min_df': 1,\n",
    " 'vect__ngram_range': (1, 1),\n",
    " 'vect__preprocessor': None,\n",
    " 'vect__stop_words': None,\n",
    " 'vect__strip_accents': None,\n",
    " 'vect__token_pattern': '(?u)\\\\b\\\\w\\\\w+\\\\b',\n",
    " 'vect__tokenizer': None,\n",
    " 'vect__vocabulary': None,\n",
    " 'tfidf__norm': 'l2',\n",
    " 'tfidf__smooth_idf': True,\n",
    " 'tfidf__sublinear_tf': False,\n",
    " 'tfidf__use_idf': True,\n",
    " 'clf__C': 1.0,\n",
    " 'clf__class_weight': None,\n",
    " 'clf__dual': True,\n",
    " 'clf__fit_intercept': True,\n",
    " 'clf__intercept_scaling': 1,\n",
    " 'clf__loss': 'squared_hinge',\n",
    " 'clf__max_iter': 1000,\n",
    " 'clf__multi_class': 'ovr',\n",
    " 'clf__penalty': 'l2',\n",
    " 'clf__random_state': None,\n",
    " 'clf__tol': 0.0001,\n",
    " 'clf__verbose': 0}\n",
    " ```"
   ]
  },
  {
   "cell_type": "code",
   "execution_count": null,
   "metadata": {},
   "outputs": [],
   "source": []
  },
  {
   "cell_type": "markdown",
   "metadata": {},
   "source": [
    "## TEST"
   ]
  },
  {
   "cell_type": "code",
   "execution_count": 22,
   "metadata": {},
   "outputs": [
    {
     "name": "stdout",
     "output_type": "stream",
     "text": [
      "--------------------------------\n",
      "    GRID SEARCH ACTIVE\n",
      "\n",
      "\n",
      "--------------------------------\n",
      "PIPELINE: ['vect', 'tfidf', 'clf']\n",
      "PARAMETERS:\n",
      "{}\n",
      "--------------------------------\n",
      "start: 10/30/2018 20:43:03\n",
      "--------------------------------\n",
      "Fitting 5 folds for each of 1 candidates, totalling 5 fits\n"
     ]
    },
    {
     "name": "stderr",
     "output_type": "stream",
     "text": [
      "[Parallel(n_jobs=-1)]: Using backend LokyBackend with 16 concurrent workers.\n",
      "[Parallel(n_jobs=-1)]: Done   5 out of   5 | elapsed:   48.1s finished\n"
     ]
    },
    {
     "name": "stdout",
     "output_type": "stream",
     "text": [
      "--------------------------------\n",
      "End: 10/30/2018 20:43:57\n",
      "--------------------------------\n",
      "done in 54.303s\n",
      "\n",
      "Best score: 0.959\n",
      "Best parameters set:\n"
     ]
    }
   ],
   "source": [
    "parameters = {}  # for test\n",
    "grid_search = GridSearchCV(pipeline, \n",
    "                           parameters, \n",
    "                           cv=5,\n",
    "                           n_jobs=-1, \n",
    "                           verbose=1)\n",
    "print('--------------------------------')\n",
    "print(\"    GRID SEARCH ACTIVE\\n\\n\")\n",
    "print('--------------------------------')\n",
    "\n",
    "print(\"PIPELINE:\", [name for name, _ in pipeline.steps])\n",
    "print(\"PARAMETERS:\")\n",
    "pprint(parameters)\n",
    "print('--------------------------------')\n",
    "t0 = time.time()\n",
    "start = time.strftime('%m/%d/%Y %H:%M:%S',  time.localtime())\n",
    "\n",
    "print('start: {}'.format(start))\n",
    "print('--------------------------------')\n",
    "grid_search.fit(X1,y)\n",
    "end = time.strftime('%m/%d/%Y %H:%M:%S',  time.localtime())\n",
    "print('--------------------------------')\n",
    "print('End: {}'.format(end))\n",
    "print('--------------------------------')\n",
    "\n",
    "seconds = time.time() - t0\n",
    "\n",
    "print(\"done in %0.3fs\" % (seconds))\n",
    "print()\n",
    "\n",
    "print(\"Best score: %0.3f\" % grid_search.best_score_)\n",
    "print(\"Best parameters set:\")\n",
    "best_parameters = grid_search.best_estimator_.get_params()\n",
    "for param_name in sorted(parameters.keys()):\n",
    "    print(\"\\t%s: %r\" % (param_name, best_parameters[param_name]))"
   ]
  },
  {
   "cell_type": "code",
   "execution_count": null,
   "metadata": {},
   "outputs": [],
   "source": []
  },
  {
   "cell_type": "markdown",
   "metadata": {},
   "source": [
    "## User parameters"
   ]
  },
  {
   "cell_type": "code",
   "execution_count": 24,
   "metadata": {},
   "outputs": [],
   "source": [
    "parameters = { \n",
    "'vect__ngram_range':( (1, 2),),\n",
    "'vect__max_df': (0.5, 0.75, 1.0), # 1.0,\n",
    "'vect__max_features':  (None, 5000, 10000, 50000), # None,\n",
    " 'clf__C': (1,5,10,15,),\n",
    "             }"
   ]
  },
  {
   "cell_type": "code",
   "execution_count": null,
   "metadata": {},
   "outputs": [],
   "source": []
  },
  {
   "cell_type": "markdown",
   "metadata": {},
   "source": [
    "# Cross Validation: 1\n",
    "- original text\n",
    "- star value\n",
    "- time: 12 minutes"
   ]
  },
  {
   "cell_type": "code",
   "execution_count": 26,
   "metadata": {},
   "outputs": [
    {
     "name": "stdout",
     "output_type": "stream",
     "text": [
      "--------------------------------\n",
      "    GRID SEARCH ACTIVE\n",
      "\n",
      "\n",
      "--------------------------------\n",
      "PIPELINE: ['vect', 'tfidf', 'clf']\n",
      "PARAMETERS:\n",
      "{'clf__C': (1, 5, 10, 15),\n",
      " 'vect__max_df': (0.5, 0.75, 1.0),\n",
      " 'vect__max_features': (None, 5000, 10000, 50000),\n",
      " 'vect__ngram_range': ((1, 2),)}\n",
      "--------------------------------\n",
      "start: 10/30/2018 20:45:12\n",
      "--------------------------------\n",
      "Fitting 5 folds for each of 48 candidates, totalling 240 fits\n"
     ]
    },
    {
     "name": "stderr",
     "output_type": "stream",
     "text": [
      "[Parallel(n_jobs=-1)]: Using backend LokyBackend with 16 concurrent workers.\n",
      "[Parallel(n_jobs=-1)]: Done  18 tasks      | elapsed:  2.2min\n",
      "[Parallel(n_jobs=-1)]: Done 168 tasks      | elapsed: 10.0min\n",
      "[Parallel(n_jobs=-1)]: Done 240 out of 240 | elapsed: 13.9min finished\n"
     ]
    },
    {
     "name": "stdout",
     "output_type": "stream",
     "text": [
      "--------------------------------\n",
      "End: 10/30/2018 20:59:35\n",
      "--------------------------------\n",
      "done in 863.204s\n",
      "\n",
      "Best score: 0.971\n",
      "Best parameters set:\n",
      "\tclf__C: 5\n",
      "\tvect__max_df: 0.5\n",
      "\tvect__max_features: None\n",
      "\tvect__ngram_range: (1, 2)\n"
     ]
    }
   ],
   "source": [
    "#parameters = {}  # for test\n",
    "grid_search = GridSearchCV(pipeline, \n",
    "                           parameters, \n",
    "                           cv=5,\n",
    "                           n_jobs=-1, \n",
    "                           verbose=1)\n",
    "print('--------------------------------')\n",
    "print(\"    GRID SEARCH ACTIVE\\n\\n\")\n",
    "print('--------------------------------')\n",
    "\n",
    "print(\"PIPELINE:\", [name for name, _ in pipeline.steps])\n",
    "print(\"PARAMETERS:\")\n",
    "pprint(parameters)\n",
    "print('--------------------------------')\n",
    "t0 = time.time()\n",
    "start = time.strftime('%m/%d/%Y %H:%M:%S',  time.localtime())\n",
    "\n",
    "print('start: {}'.format(start))\n",
    "print('--------------------------------')\n",
    "grid_search.fit(X1,y)\n",
    "end = time.strftime('%m/%d/%Y %H:%M:%S',  time.localtime())\n",
    "print('--------------------------------')\n",
    "print('End: {}'.format(end))\n",
    "print('--------------------------------')\n",
    "\n",
    "seconds = time.time() - t0\n",
    "\n",
    "print(\"done in %0.3fs\" % (seconds))\n",
    "print()\n",
    "\n",
    "print(\"Best score: %0.3f\" % grid_search.best_score_)\n",
    "print(\"Best parameters set:\")\n",
    "best_parameters = grid_search.best_estimator_.get_params()\n",
    "for param_name in sorted(parameters.keys()):\n",
    "    print(\"\\t%s: %r\" % (param_name, best_parameters[param_name]))"
   ]
  },
  {
   "cell_type": "markdown",
   "metadata": {},
   "source": [
    "## Test Results"
   ]
  },
  {
   "cell_type": "code",
   "execution_count": 322,
   "metadata": {},
   "outputs": [],
   "source": [
    "from sklearn.model_selection import train_test_split\n",
    "X_train, X_test, y_train, y_test = train_test_split(X1, y, test_size=0.33, random_state=42)"
   ]
  },
  {
   "cell_type": "code",
   "execution_count": 323,
   "metadata": {},
   "outputs": [
    {
     "name": "stdout",
     "output_type": "stream",
     "text": [
      "accuracy:   0.976\n"
     ]
    }
   ],
   "source": [
    "#x1 accuracy:   0.976\n",
    "\n",
    "tfidf_vectorizer = TfidfVectorizer(ngram_range=(1,2),max_df=0.5)\n",
    "tfidf_train = tfidf_vectorizer.fit_transform(X_train)\n",
    "tfidf_test = tfidf_vectorizer.transform(X_test)\n",
    "\n",
    "svc_tfidf_clf = LinearSVC(C=5)\n",
    "svc_tfidf_clf.fit(tfidf_train, y_train)\n",
    "pred = svc_tfidf_clf.predict(tfidf_test)\n",
    "score = metrics.accuracy_score(y_test, pred)\n",
    "print(\"accuracy:   %0.3f\" % score)"
   ]
  },
  {
   "cell_type": "code",
   "execution_count": 324,
   "metadata": {},
   "outputs": [
    {
     "name": "stdout",
     "output_type": "stream",
     "text": [
      "              precision    recall  f1-score   support\n",
      "\n",
      "  bad_review       0.97      0.98      0.97      6118\n",
      " good_review       0.98      0.97      0.98      7048\n",
      "\n",
      "   micro avg       0.98      0.98      0.98     13166\n",
      "   macro avg       0.98      0.98      0.98     13166\n",
      "weighted avg       0.98      0.98      0.98     13166\n",
      "\n"
     ]
    }
   ],
   "source": [
    "print(classification_report(y_test, pred))"
   ]
  },
  {
   "cell_type": "code",
   "execution_count": null,
   "metadata": {},
   "outputs": [],
   "source": []
  },
  {
   "cell_type": "code",
   "execution_count": 31,
   "metadata": {},
   "outputs": [
    {
     "data": {
      "image/png": "[encoded data removed]",
      "text/plain": [
       "<Figure size 576x288 with 1 Axes>"
      ]
     },
     "metadata": {
      "needs_background": "light"
     },
     "output_type": "display_data"
    }
   ],
   "source": [
    "title = 'LinearSVC : Good vs Bad Review'\n",
    "labels =list(np.unique(y))\n",
    "cm = confusion_matrix(y_test, pred,labels=labels)\n",
    "plt.figure(figsize = (8,4))\n",
    "g = sns.heatmap(cm, annot=True, fmt=\"d\", cbar=False, cmap=\"Greens\",xticklabels=True,yticklabels=True)\n",
    "g.set_yticklabels(labels, rotation =0)\n",
    "g.set_xticklabels(labels, rotation =90)\n",
    "plt.title(title)\n",
    "plt.ylabel('True label')\n",
    "plt.xlabel('Predicted label')\n",
    "plt.tight_layout()\n",
    "plt.savefig('{}/{}.png'.format(img_directory,title.replace(\" \", \"_\")))\n",
    "plt.show()"
   ]
  },
  {
   "cell_type": "markdown",
   "metadata": {},
   "source": [
    "# Cross Validation: 2\n",
    "- process text\n",
    "- star value"
   ]
  },
  {
   "cell_type": "code",
   "execution_count": null,
   "metadata": {},
   "outputs": [],
   "source": [
    "parameters = { \n",
    "'vect__ngram_range':( (1, 2),),\n",
    "'vect__max_df': (0.5, 0.75, 1.0), # 1.0,\n",
    "'vect__max_features':  (None, 5000, 10000, 50000), # None,\n",
    " 'clf__C': (1,5,10,15,),\n",
    "             }"
   ]
  },
  {
   "cell_type": "code",
   "execution_count": null,
   "metadata": {},
   "outputs": [],
   "source": [
    "grid_search = GridSearchCV(pipeline, \n",
    "                           parameters, \n",
    "                           cv=5,\n",
    "                           n_jobs=-1, \n",
    "                           verbose=1)\n",
    "print('--------------------------------')\n",
    "print(\"    GRID SEARCH ACTIVE\\n\\n\")\n",
    "print('--------------------------------')\n",
    "\n",
    "print(\"PIPELINE:\", [name for name, _ in pipeline.steps])\n",
    "print(\"PARAMETERS:\")\n",
    "pprint(parameters)\n",
    "print('--------------------------------')\n",
    "t0 = time()\n",
    "print('start:{}'.format(t0))\n",
    "grid_search.fit(X2,y)\n",
    "print(\"done in %0.3fs\" % (time() - t0))\n",
    "print()\n",
    "\n",
    "print(\"Best score: %0.3f\" % grid_search.best_score_)\n",
    "print(\"Best parameters set:\")\n",
    "best_parameters = grid_search.best_estimator_.get_params()\n",
    "for param_name in sorted(parameters.keys()):\n",
    "    print(\"\\t%s: %r\" % (param_name, best_parameters[param_name]))"
   ]
  },
  {
   "cell_type": "markdown",
   "metadata": {},
   "source": [
    "## Apply results"
   ]
  },
  {
   "cell_type": "code",
   "execution_count": 34,
   "metadata": {},
   "outputs": [],
   "source": [
    "from sklearn.model_selection import train_test_split\n",
    "X_train, X_test, y_train, y_test = train_test_split(X2, y, test_size=0.33, random_state=42)"
   ]
  },
  {
   "cell_type": "code",
   "execution_count": 35,
   "metadata": {},
   "outputs": [
    {
     "name": "stdout",
     "output_type": "stream",
     "text": [
      "accuracy:   0.976\n"
     ]
    }
   ],
   "source": [
    "tfidf_vectorizer = TfidfVectorizer(max_df=0.5,ngram_range=(1,2))\n",
    "tfidf_train = tfidf_vectorizer.fit_transform(X_train)\n",
    "tfidf_test = tfidf_vectorizer.transform(X_test)\n",
    "\n",
    "svc_tfidf_clf = LinearSVC(C=5)\n",
    "svc_tfidf_clf.fit(tfidf_train, y_train)\n",
    "pred = svc_tfidf_clf.predict(tfidf_test)\n",
    "score = metrics.accuracy_score(y_test, pred)\n",
    "print(\"accuracy:   %0.3f\" % score)"
   ]
  },
  {
   "cell_type": "code",
   "execution_count": 36,
   "metadata": {},
   "outputs": [
    {
     "name": "stdout",
     "output_type": "stream",
     "text": [
      "              precision    recall  f1-score   support\n",
      "\n",
      "  bad_review       0.97      0.98      0.97      6118\n",
      " good_review       0.98      0.97      0.98      7048\n",
      "\n",
      "   micro avg       0.98      0.98      0.98     13166\n",
      "   macro avg       0.98      0.98      0.98     13166\n",
      "weighted avg       0.98      0.98      0.98     13166\n",
      "\n"
     ]
    }
   ],
   "source": [
    "print(classification_report(y_test, pred))"
   ]
  },
  {
   "cell_type": "code",
   "execution_count": 37,
   "metadata": {},
   "outputs": [
    {
     "data": {
      "image/png": "[encoded data removed]",
      "text/plain": [
       "<Figure size 576x288 with 1 Axes>"
      ]
     },
     "metadata": {
      "needs_background": "light"
     },
     "output_type": "display_data"
    }
   ],
   "source": [
    "title = 'Confusion matrix'\n",
    "labels =list(np.unique(y))\n",
    "cm = confusion_matrix(y_test, pred,labels=labels)\n",
    "plt.figure(figsize = (8,4))\n",
    "g = sns.heatmap(cm, annot=True, fmt=\"d\", cbar=False, cmap=\"Greens\",xticklabels=True,yticklabels=True)\n",
    "g.set_yticklabels(labels, rotation =0)\n",
    "g.set_xticklabels(labels, rotation =90)\n",
    "plt.title(title)\n",
    "plt.ylabel('True label')\n",
    "plt.xlabel('Predicted label')\n",
    "plt.tight_layout()\n",
    "plt.savefig('{}/{}.png'.format(img_directory,title.replace(\" \", \"_\")))\n",
    "plt.show()"
   ]
  },
  {
   "cell_type": "markdown",
   "metadata": {},
   "source": [
    "## health_business\n",
    "## split data"
   ]
  },
  {
   "cell_type": "code",
   "execution_count": 38,
   "metadata": {},
   "outputs": [
    {
     "data": {
      "text/plain": [
       "hospital              8247\n",
       "family practice       6869\n",
       "urgent care           6637\n",
       "obstetrician          5846\n",
       "chiropractors         5739\n",
       "diagnostic service    5011\n",
       "internal medicine     3577\n",
       "physical therapy      1818\n",
       "mental health         1174\n",
       "Name: health_business, dtype: int64"
      ]
     },
     "execution_count": 38,
     "metadata": {},
     "output_type": "execute_result"
    }
   ],
   "source": [
    "df.health_business.value_counts()"
   ]
  },
  {
   "cell_type": "code",
   "execution_count": 39,
   "metadata": {},
   "outputs": [],
   "source": [
    "X1=df.text \n",
    "X2= df.processed\n",
    "y = df.health_business.values"
   ]
  },
  {
   "cell_type": "code",
   "execution_count": null,
   "metadata": {},
   "outputs": [],
   "source": []
  },
  {
   "cell_type": "markdown",
   "metadata": {},
   "source": [
    "## Cross Validation: 1"
   ]
  },
  {
   "cell_type": "code",
   "execution_count": 40,
   "metadata": {},
   "outputs": [
    {
     "name": "stdout",
     "output_type": "stream",
     "text": [
      "--------------------------------\n",
      "    GRID SEARCH ACTIVE\n",
      "\n",
      "\n",
      "--------------------------------\n",
      "PIPELINE: ['vect', 'tfidf', 'clf']\n",
      "PARAMETERS:\n",
      "{}\n",
      "--------------------------------\n",
      "start: 10/30/2018 21:07:54\n",
      "--------------------------------\n",
      "Fitting 5 folds for each of 1 candidates, totalling 5 fits\n"
     ]
    },
    {
     "name": "stderr",
     "output_type": "stream",
     "text": [
      "[Parallel(n_jobs=-1)]: Using backend LokyBackend with 16 concurrent workers.\n",
      "[Parallel(n_jobs=-1)]: Done   5 out of   5 | elapsed:  1.0min finished\n"
     ]
    },
    {
     "name": "stdout",
     "output_type": "stream",
     "text": [
      "--------------------------------\n",
      "End: 10/30/2018 21:09:08\n",
      "--------------------------------\n",
      "done in 74.067s\n",
      "\n",
      "Best score: 0.602\n",
      "Best parameters set:\n"
     ]
    }
   ],
   "source": [
    "### TEST ###\n",
    "parameters = {}  # for test\n",
    "grid_search = GridSearchCV(pipeline, \n",
    "                           parameters, \n",
    "                           cv=5,\n",
    "                           n_jobs=-1, \n",
    "                           verbose=1)\n",
    "print('--------------------------------')\n",
    "print(\"    GRID SEARCH ACTIVE\\n\\n\")\n",
    "print('--------------------------------')\n",
    "\n",
    "print(\"PIPELINE:\", [name for name, _ in pipeline.steps])\n",
    "print(\"PARAMETERS:\")\n",
    "pprint(parameters)\n",
    "print('--------------------------------')\n",
    "t0 = time.time()\n",
    "start = time.strftime('%m/%d/%Y %H:%M:%S',  time.localtime())\n",
    "\n",
    "print('start: {}'.format(start))\n",
    "print('--------------------------------')\n",
    "grid_search.fit(X1,y)\n",
    "end = time.strftime('%m/%d/%Y %H:%M:%S',  time.localtime())\n",
    "print('--------------------------------')\n",
    "print('End: {}'.format(end))\n",
    "print('--------------------------------')\n",
    "\n",
    "seconds = time.time() - t0\n",
    "\n",
    "print(\"done in %0.3fs\" % (seconds))\n",
    "print()\n",
    "\n",
    "print(\"Best score: %0.3f\" % grid_search.best_score_)\n",
    "print(\"Best parameters set:\")\n",
    "best_parameters = grid_search.best_estimator_.get_params()\n",
    "for param_name in sorted(parameters.keys()):\n",
    "    print(\"\\t%s: %r\" % (param_name, best_parameters[param_name]))"
   ]
  },
  {
   "cell_type": "code",
   "execution_count": 41,
   "metadata": {},
   "outputs": [],
   "source": [
    "parameters = { \n",
    "'vect__ngram_range':( (1, 2),),\n",
    "'vect__max_df': (0.5, 0.75, 1.0), # 1.0,\n",
    "'vect__max_features':  (None, 5000, 10000, 50000), # None,\n",
    " 'clf__C': (1,5,10,15,),\n",
    "             }"
   ]
  },
  {
   "cell_type": "code",
   "execution_count": 42,
   "metadata": {},
   "outputs": [
    {
     "name": "stdout",
     "output_type": "stream",
     "text": [
      "--------------------------------\n",
      "    GRID SEARCH ACTIVE\n",
      "\n",
      "\n",
      "--------------------------------\n",
      "PIPELINE: ['vect', 'tfidf', 'clf']\n",
      "PARAMETERS:\n",
      "{'clf__C': (1, 5, 10, 15),\n",
      " 'vect__max_df': (0.5, 0.75, 1.0),\n",
      " 'vect__max_features': (None, 5000, 10000, 50000),\n",
      " 'vect__ngram_range': ((1, 2),)}\n",
      "--------------------------------\n",
      "start: 10/30/2018 21:09:23\n",
      "--------------------------------\n",
      "Fitting 5 folds for each of 48 candidates, totalling 240 fits\n"
     ]
    },
    {
     "name": "stderr",
     "output_type": "stream",
     "text": [
      "[Parallel(n_jobs=-1)]: Using backend LokyBackend with 16 concurrent workers.\n",
      "[Parallel(n_jobs=-1)]: Done  18 tasks      | elapsed:  2.9min\n",
      "[Parallel(n_jobs=-1)]: Done 168 tasks      | elapsed: 26.4min\n",
      "[Parallel(n_jobs=-1)]: Done 240 out of 240 | elapsed: 45.2min finished\n"
     ]
    },
    {
     "name": "stdout",
     "output_type": "stream",
     "text": [
      "--------------------------------\n",
      "End: 10/30/2018 21:55:26\n",
      "--------------------------------\n",
      "done in 2763.054s\n",
      "\n",
      "Best score: 0.623\n",
      "Best parameters set:\n",
      "\tclf__C: 1\n",
      "\tvect__max_df: 1.0\n",
      "\tvect__max_features: None\n",
      "\tvect__ngram_range: (1, 2)\n"
     ]
    }
   ],
   "source": [
    "#parameters = {}  # for test\n",
    "grid_search = GridSearchCV(pipeline, \n",
    "                           parameters, \n",
    "                           cv=5,\n",
    "                           n_jobs=-1, \n",
    "                           verbose=1)\n",
    "print('--------------------------------')\n",
    "print(\"    GRID SEARCH ACTIVE\\n\\n\")\n",
    "print('--------------------------------')\n",
    "\n",
    "print(\"PIPELINE:\", [name for name, _ in pipeline.steps])\n",
    "print(\"PARAMETERS:\")\n",
    "pprint(parameters)\n",
    "print('--------------------------------')\n",
    "t0 = time.time()\n",
    "start = time.strftime('%m/%d/%Y %H:%M:%S',  time.localtime())\n",
    "\n",
    "print('start: {}'.format(start))\n",
    "print('--------------------------------')\n",
    "grid_search.fit(X1,y)\n",
    "end = time.strftime('%m/%d/%Y %H:%M:%S',  time.localtime())\n",
    "print('--------------------------------')\n",
    "print('End: {}'.format(end))\n",
    "print('--------------------------------')\n",
    "\n",
    "seconds = time.time() - t0\n",
    "\n",
    "print(\"done in %0.3fs\" % (seconds))\n",
    "print()\n",
    "\n",
    "print(\"Best score: %0.3f\" % grid_search.best_score_)\n",
    "print(\"Best parameters set:\")\n",
    "best_parameters = grid_search.best_estimator_.get_params()\n",
    "for param_name in sorted(parameters.keys()):\n",
    "    print(\"\\t%s: %r\" % (param_name, best_parameters[param_name]))"
   ]
  },
  {
   "cell_type": "markdown",
   "metadata": {},
   "source": [
    "cvalues\n",
    "https://medium.com/@pushkarmandot/what-is-the-significance-of-c-value-in-support-vector-machine-28224e852c5a"
   ]
  },
  {
   "cell_type": "markdown",
   "metadata": {},
   "source": [
    "# Apply Results"
   ]
  },
  {
   "cell_type": "code",
   "execution_count": 84,
   "metadata": {},
   "outputs": [],
   "source": [
    "from sklearn.model_selection import train_test_split\n",
    "X_train, X_test, y_train, y_test = train_test_split(X1, y, test_size=0.33, random_state=42)"
   ]
  },
  {
   "cell_type": "code",
   "execution_count": null,
   "metadata": {},
   "outputs": [],
   "source": []
  },
  {
   "cell_type": "code",
   "execution_count": 86,
   "metadata": {},
   "outputs": [
    {
     "name": "stdout",
     "output_type": "stream",
     "text": [
      "accuracy:   0.678\n"
     ]
    }
   ],
   "source": [
    "tfidf_vectorizer = TfidfVectorizer(stop_words='english',ngram_range=(1,2))\n",
    "tfidf_train = tfidf_vectorizer.fit_transform(X_train)\n",
    "tfidf_test = tfidf_vectorizer.transform(X_test)\n",
    "\n",
    "svc_tfidf_clf = LinearSVC(C=2)\n",
    "svc_tfidf_clf.fit(tfidf_train, y_train)\n",
    "pred = svc_tfidf_clf.predict(tfidf_test)\n",
    "score = metrics.accuracy_score(y_test, pred)\n",
    "print(\"accuracy:   %0.3f\" % score)"
   ]
  },
  {
   "cell_type": "code",
   "execution_count": 117,
   "metadata": {},
   "outputs": [
    {
     "name": "stdout",
     "output_type": "stream",
     "text": [
      "accuracy:   0.678\n"
     ]
    }
   ],
   "source": [
    "# accuracy:   0.678\n",
    "tfidf_vectorizer = TfidfVectorizer(stop_words='english',ngram_range=(1,2),max_df=0.6)\n",
    "tfidf_train = tfidf_vectorizer.fit_transform(X_train)\n",
    "tfidf_test = tfidf_vectorizer.transform(X_test)\n",
    "\n",
    "svc_tfidf_clf = LinearSVC(C=2)\n",
    "svc_tfidf_clf.fit(tfidf_train, y_train)\n",
    "pred = svc_tfidf_clf.predict(tfidf_test)\n",
    "score = metrics.accuracy_score(y_test, pred)\n",
    "print(\"accuracy:   %0.3f\" % score)"
   ]
  },
  {
   "cell_type": "code",
   "execution_count": null,
   "metadata": {},
   "outputs": [],
   "source": []
  },
  {
   "cell_type": "code",
   "execution_count": 114,
   "metadata": {},
   "outputs": [
    {
     "name": "stdout",
     "output_type": "stream",
     "text": [
      "accuracy:   0.678\n"
     ]
    }
   ],
   "source": [
    "# accuracy:   0.678\n",
    "tfidf_vectorizer = TfidfVectorizer(stop_words='english',ngram_range=(1,2),max_df=0.55)\n",
    "tfidf_train = tfidf_vectorizer.fit_transform(X_train)\n",
    "tfidf_test = tfidf_vectorizer.transform(X_test)\n",
    "\n",
    "svc_tfidf_clf = LinearSVC(C=2)\n",
    "svc_tfidf_clf.fit(tfidf_train, y_train)\n",
    "pred = svc_tfidf_clf.predict(tfidf_test)\n",
    "score = metrics.accuracy_score(y_test, pred)\n",
    "print(\"accuracy:   %0.3f\" % score)"
   ]
  },
  {
   "cell_type": "code",
   "execution_count": 115,
   "metadata": {},
   "outputs": [
    {
     "name": "stdout",
     "output_type": "stream",
     "text": [
      "                    precision    recall  f1-score   support\n",
      "\n",
      "     chiropractors       0.86      0.88      0.87      1882\n",
      "diagnostic service       0.66      0.70      0.68      1625\n",
      "   family practice       0.55      0.60      0.58      2233\n",
      "          hospital       0.61      0.63      0.62      2715\n",
      " internal medicine       0.75      0.74      0.74      1195\n",
      "     mental health       0.89      0.53      0.67       374\n",
      "      obstetrician       0.76      0.75      0.76      1950\n",
      "  physical therapy       0.80      0.54      0.64       586\n",
      "       urgent care       0.59      0.60      0.60      2263\n",
      "\n",
      "         micro avg       0.68      0.68      0.68     14823\n",
      "         macro avg       0.72      0.66      0.68     14823\n",
      "      weighted avg       0.68      0.68      0.68     14823\n",
      "\n"
     ]
    }
   ],
   "source": [
    "print(classification_report(y_test, pred))"
   ]
  },
  {
   "cell_type": "code",
   "execution_count": 116,
   "metadata": {},
   "outputs": [
    {
     "data": {
      "image/png": "[encoded data removed]",
      "text/plain": [
       "<Figure size 576x288 with 1 Axes>"
      ]
     },
     "metadata": {
      "needs_background": "light"
     },
     "output_type": "display_data"
    }
   ],
   "source": [
    "title = 'LinearSVC : Healthcare Type'\n",
    "labels =list(np.unique(y))\n",
    "cm = confusion_matrix(y_test, pred,labels=labels)\n",
    "plt.figure(figsize = (8,4))\n",
    "g = sns.heatmap(cm, annot=True, cbar=False, cmap=\"coolwarm\",fmt='2',xticklabels=True,yticklabels=True)\n",
    "g.set_yticklabels(labels, rotation =0)\n",
    "g.set_xticklabels(labels, rotation =90)\n",
    "plt.title(title)\n",
    "plt.ylabel('True label')\n",
    "plt.xlabel('Predicted label')\n",
    "plt.tight_layout()\n",
    "plt.savefig('{}/{}.png'.format(img_directory,title.replace(\" \", \"_\")))\n",
    "\n",
    "plt.show()"
   ]
  },
  {
   "cell_type": "code",
   "execution_count": 99,
   "metadata": {},
   "outputs": [],
   "source": [
    "feature_names = np.array(tfidf_vectorizer.get_feature_names())\n",
    "sorted_coef_index = svc_tfidf_clf.coef_[0].argsort()"
   ]
  },
  {
   "cell_type": "code",
   "execution_count": 100,
   "metadata": {},
   "outputs": [
    {
     "name": "stdout",
     "output_type": "stream",
     "text": [
      "Highest 10  Coef:\n",
      "----------------\n",
      "- neck\n",
      "- chiro\n",
      "- joint\n",
      "- massage\n",
      "- adjusted\n",
      "- adjustments\n",
      "- chiropractors\n",
      "- adjustment\n",
      "- chiropractic\n",
      "- chiropractor\n"
     ]
    }
   ],
   "source": [
    "print('Highest 10  Coef:')\n",
    "print('----------------')\n",
    "for i in feature_names[sorted_coef_index][-10:]:\n",
    "    print('- {}'.format(i))"
   ]
  },
  {
   "cell_type": "code",
   "execution_count": 101,
   "metadata": {},
   "outputs": [
    {
     "name": "stdout",
     "output_type": "stream",
     "text": [
      "Lowest 10  Coef:\n",
      "----------------\n",
      "- nurse\n",
      "- er\n",
      "- hospital\n",
      "- sick\n",
      "- blood\n",
      "- nurses\n",
      "- kids\n",
      "- urgent\n",
      "- staff\n",
      "- therapy\n"
     ]
    }
   ],
   "source": [
    "print('Lowest 10  Coef:')\n",
    "print('----------------')\n",
    "for i in feature_names[sorted_coef_index][:10]:\n",
    "    print('- {}'.format(i))"
   ]
  },
  {
   "cell_type": "code",
   "execution_count": 102,
   "metadata": {},
   "outputs": [],
   "source": []
  },
  {
   "cell_type": "code",
   "execution_count": null,
   "metadata": {},
   "outputs": [],
   "source": []
  },
  {
   "cell_type": "code",
   "execution_count": null,
   "metadata": {},
   "outputs": [],
   "source": []
  },
  {
   "cell_type": "markdown",
   "metadata": {},
   "source": [
    "# Cross Validation: 2"
   ]
  },
  {
   "cell_type": "code",
   "execution_count": null,
   "metadata": {},
   "outputs": [],
   "source": [
    "parameters = { \n",
    "'vect__ngram_range':( (1, 2),),\n",
    "'vect__max_df': (0.5, 0.75, 1.0), # 1.0,\n",
    "'vect__max_features':  (None, 5000, 10000, 50000), # None,\n",
    " 'clf__C': (1,5,10,15,),\n",
    "             }"
   ]
  },
  {
   "cell_type": "code",
   "execution_count": null,
   "metadata": {},
   "outputs": [],
   "source": [
    "#parameters = {}  # for test\n",
    "grid_search = GridSearchCV(pipeline, \n",
    "                           parameters, \n",
    "                           cv=5,\n",
    "                           n_jobs=-1, \n",
    "                           verbose=1)\n",
    "print('--------------------------------')\n",
    "print(\"    GRID SEARCH ACTIVE\\n\\n\")\n",
    "print('--------------------------------')\n",
    "\n",
    "print(\"PIPELINE:\", [name for name, _ in pipeline.steps])\n",
    "print(\"PARAMETERS:\")\n",
    "pprint(parameters)\n",
    "print('--------------------------------')\n",
    "t0 = time.time()\n",
    "start = time.strftime('%m/%d/%Y %H:%M:%S',  time.localtime())\n",
    "\n",
    "print('start: {}'.format(start))\n",
    "print('--------------------------------')\n",
    "grid_search.fit(X2,y)\n",
    "end = time.strftime('%m/%d/%Y %H:%M:%S',  time.localtime())\n",
    "print('--------------------------------')\n",
    "print('End: {}'.format(end))\n",
    "print('--------------------------------')\n",
    "\n",
    "seconds = time.time() - t0\n",
    "\n",
    "print(\"done in %0.3fs\" % (seconds))\n",
    "print()\n",
    "\n",
    "print(\"Best score: %0.3f\" % grid_search.best_score_)\n",
    "print(\"Best parameters set:\")\n",
    "best_parameters = grid_search.best_estimator_.get_params()\n",
    "for param_name in sorted(parameters.keys()):\n",
    "    print(\"\\t%s: %r\" % (param_name, best_parameters[param_name]))"
   ]
  },
  {
   "cell_type": "code",
   "execution_count": 139,
   "metadata": {},
   "outputs": [],
   "source": [
    "import spacy\n",
    "nlp = spacy.load('en_core_web_lg', parse = True, tag=True, entity=True)\n",
    "import nltk\n",
    "from nltk.tokenize.toktok import ToktokTokenizer\n",
    "\n",
    "tokenizer = ToktokTokenizer()\n",
    "stopword_list = nltk.corpus.stopwords.words('english')\n",
    "stopword_list.remove('no')\n",
    "stopword_list.remove('not')"
   ]
  },
  {
   "cell_type": "code",
   "execution_count": null,
   "metadata": {},
   "outputs": [],
   "source": []
  },
  {
   "cell_type": "code",
   "execution_count": null,
   "metadata": {},
   "outputs": [],
   "source": []
  },
  {
   "cell_type": "code",
   "execution_count": null,
   "metadata": {},
   "outputs": [],
   "source": []
  },
  {
   "cell_type": "code",
   "execution_count": 140,
   "metadata": {},
   "outputs": [
    {
     "data": {
      "text/plain": [
       "'My system keep crash ! his crash yesterday , ours crash daily'"
      ]
     },
     "execution_count": 140,
     "metadata": {},
     "output_type": "execute_result"
    }
   ],
   "source": [
    "def lemmatize_text(text):\n",
    "    text = nlp(text)\n",
    "    text = ' '.join([word.lemma_ if word.lemma_ != '-PRON-' else word.text for word in text])\n",
    "    return text\n",
    "\n",
    "lemmatize_text(\"My system keeps crashing! his crashed yesterday, ours crashes daily\")"
   ]
  },
  {
   "cell_type": "code",
   "execution_count": 144,
   "metadata": {},
   "outputs": [
    {
     "name": "stdout",
     "output_type": "stream",
     "text": [
      "CPU times: user 3h 42min 44s, sys: 23min 36s, total: 4h 6min 21s\n",
      "Wall time: 30min 48s\n"
     ]
    }
   ],
   "source": [
    "%%time\n",
    "df['lemmatize_text'] = df['processed'].apply(lemmatize_text)"
   ]
  },
  {
   "cell_type": "code",
   "execution_count": 145,
   "metadata": {},
   "outputs": [
    {
     "data": {
      "text/html": [
       "<div>\n",
       "<style scoped>\n",
       "    .dataframe tbody tr th:only-of-type {\n",
       "        vertical-align: middle;\n",
       "    }\n",
       "\n",
       "    .dataframe tbody tr th {\n",
       "        vertical-align: top;\n",
       "    }\n",
       "\n",
       "    .dataframe thead th {\n",
       "        text-align: right;\n",
       "    }\n",
       "</style>\n",
       "<table border=\"1\" class=\"dataframe\">\n",
       "  <thead>\n",
       "    <tr style=\"text-align: right;\">\n",
       "      <th></th>\n",
       "      <th>business_id</th>\n",
       "      <th>review_id</th>\n",
       "      <th>health_business</th>\n",
       "      <th>name</th>\n",
       "      <th>stars</th>\n",
       "      <th>text</th>\n",
       "      <th>processed</th>\n",
       "      <th>polarity</th>\n",
       "      <th>subjectivity</th>\n",
       "      <th>lemmatize_text</th>\n",
       "    </tr>\n",
       "  </thead>\n",
       "  <tbody>\n",
       "    <tr>\n",
       "      <th>0</th>\n",
       "      <td>2hpi6pXIFf0taDIYCoNIuw</td>\n",
       "      <td>4ar9LmGU4rQ3vXFj325HCg</td>\n",
       "      <td>urgent care</td>\n",
       "      <td>Healthcare Partner</td>\n",
       "      <td>1</td>\n",
       "      <td>If your aim is to waste hours upon hours of yo...</td>\n",
       "      <td>if your aim is to waste hours upon hours of yo...</td>\n",
       "      <td>-0.062605</td>\n",
       "      <td>0.532773</td>\n",
       "      <td>if your aim be to waste hour upon hour of your...</td>\n",
       "    </tr>\n",
       "    <tr>\n",
       "      <th>1</th>\n",
       "      <td>2hpi6pXIFf0taDIYCoNIuw</td>\n",
       "      <td>mZo59NzNBPr9RegkzjIGVA</td>\n",
       "      <td>urgent care</td>\n",
       "      <td>Healthcare Partner</td>\n",
       "      <td>5</td>\n",
       "      <td>Memorial Day Weekend..  I cannot Thank Doctor ...</td>\n",
       "      <td>memorial day weekend i cannot thank doctor shu...</td>\n",
       "      <td>0.281250</td>\n",
       "      <td>0.553125</td>\n",
       "      <td>memorial day weekend i can not thank doctor sh...</td>\n",
       "    </tr>\n",
       "    <tr>\n",
       "      <th>2</th>\n",
       "      <td>2hpi6pXIFf0taDIYCoNIuw</td>\n",
       "      <td>5wf0Y31knIyBcbS7ZKrW9Q</td>\n",
       "      <td>urgent care</td>\n",
       "      <td>Healthcare Partner</td>\n",
       "      <td>5</td>\n",
       "      <td>This is not my primary doctor and I was pleasa...</td>\n",
       "      <td>this is not my primary doctor and i was pleasa...</td>\n",
       "      <td>0.273214</td>\n",
       "      <td>0.619643</td>\n",
       "      <td>this be not my primary doctor and i be pleasan...</td>\n",
       "    </tr>\n",
       "    <tr>\n",
       "      <th>3</th>\n",
       "      <td>2hpi6pXIFf0taDIYCoNIuw</td>\n",
       "      <td>pNVZVifb7FHtr7xMAbLZ4Q</td>\n",
       "      <td>urgent care</td>\n",
       "      <td>Healthcare Partner</td>\n",
       "      <td>5</td>\n",
       "      <td>Went there the first time for myself and was n...</td>\n",
       "      <td>went there the first time for myself and was n...</td>\n",
       "      <td>0.178750</td>\n",
       "      <td>0.502083</td>\n",
       "      <td>go there the first time for myself and be not ...</td>\n",
       "    </tr>\n",
       "    <tr>\n",
       "      <th>4</th>\n",
       "      <td>2hpi6pXIFf0taDIYCoNIuw</td>\n",
       "      <td>OfFzPtU9N0ooeQbIg6yR-g</td>\n",
       "      <td>urgent care</td>\n",
       "      <td>Healthcare Partner</td>\n",
       "      <td>1</td>\n",
       "      <td>Terrible assistance. I was there to see a rash...</td>\n",
       "      <td>terrible assistance i was there to see a rash ...</td>\n",
       "      <td>-0.325000</td>\n",
       "      <td>0.825000</td>\n",
       "      <td>terrible assistance i be there to see a rash a...</td>\n",
       "    </tr>\n",
       "  </tbody>\n",
       "</table>\n",
       "</div>"
      ],
      "text/plain": [
       "              business_id               review_id health_business  \\\n",
       "0  2hpi6pXIFf0taDIYCoNIuw  4ar9LmGU4rQ3vXFj325HCg     urgent care   \n",
       "1  2hpi6pXIFf0taDIYCoNIuw  mZo59NzNBPr9RegkzjIGVA     urgent care   \n",
       "2  2hpi6pXIFf0taDIYCoNIuw  5wf0Y31knIyBcbS7ZKrW9Q     urgent care   \n",
       "3  2hpi6pXIFf0taDIYCoNIuw  pNVZVifb7FHtr7xMAbLZ4Q     urgent care   \n",
       "4  2hpi6pXIFf0taDIYCoNIuw  OfFzPtU9N0ooeQbIg6yR-g     urgent care   \n",
       "\n",
       "                 name  stars  \\\n",
       "0  Healthcare Partner      1   \n",
       "1  Healthcare Partner      5   \n",
       "2  Healthcare Partner      5   \n",
       "3  Healthcare Partner      5   \n",
       "4  Healthcare Partner      1   \n",
       "\n",
       "                                                text  \\\n",
       "0  If your aim is to waste hours upon hours of yo...   \n",
       "1  Memorial Day Weekend..  I cannot Thank Doctor ...   \n",
       "2  This is not my primary doctor and I was pleasa...   \n",
       "3  Went there the first time for myself and was n...   \n",
       "4  Terrible assistance. I was there to see a rash...   \n",
       "\n",
       "                                           processed  polarity  subjectivity  \\\n",
       "0  if your aim is to waste hours upon hours of yo... -0.062605      0.532773   \n",
       "1  memorial day weekend i cannot thank doctor shu...  0.281250      0.553125   \n",
       "2  this is not my primary doctor and i was pleasa...  0.273214      0.619643   \n",
       "3  went there the first time for myself and was n...  0.178750      0.502083   \n",
       "4  terrible assistance i was there to see a rash ... -0.325000      0.825000   \n",
       "\n",
       "                                      lemmatize_text  \n",
       "0  if your aim be to waste hour upon hour of your...  \n",
       "1  memorial day weekend i can not thank doctor sh...  \n",
       "2  this be not my primary doctor and i be pleasan...  \n",
       "3  go there the first time for myself and be not ...  \n",
       "4  terrible assistance i be there to see a rash a...  "
      ]
     },
     "execution_count": 145,
     "metadata": {},
     "output_type": "execute_result"
    }
   ],
   "source": [
    "df.head()"
   ]
  },
  {
   "cell_type": "code",
   "execution_count": 258,
   "metadata": {},
   "outputs": [],
   "source": [
    "X1=df.text \n",
    "X2= df.lemmatize_text\n",
    "X3 = df.processed\n",
    "y = df.health_business.values"
   ]
  },
  {
   "cell_type": "code",
   "execution_count": null,
   "metadata": {},
   "outputs": [],
   "source": []
  },
  {
   "cell_type": "code",
   "execution_count": null,
   "metadata": {},
   "outputs": [],
   "source": []
  },
  {
   "cell_type": "code",
   "execution_count": null,
   "metadata": {},
   "outputs": [],
   "source": []
  },
  {
   "cell_type": "code",
   "execution_count": null,
   "metadata": {},
   "outputs": [],
   "source": []
  },
  {
   "cell_type": "markdown",
   "metadata": {},
   "source": [
    "## Apply Results"
   ]
  },
  {
   "cell_type": "code",
   "execution_count": 299,
   "metadata": {},
   "outputs": [],
   "source": [
    "from sklearn.model_selection import train_test_split\n",
    "X_train, X_test, y_train, y_test = train_test_split(X2, y, test_size=0.33, random_state=42)"
   ]
  },
  {
   "cell_type": "code",
   "execution_count": 156,
   "metadata": {},
   "outputs": [
    {
     "name": "stdout",
     "output_type": "stream",
     "text": [
      "accuracy:   0.674\n"
     ]
    }
   ],
   "source": [
    "# accuracy:   0.678\n",
    "tfidf_vectorizer = TfidfVectorizer(stop_words='english',ngram_range=(1,2),max_df=0.5)\n",
    "tfidf_train = tfidf_vectorizer.fit_transform(X_train)\n",
    "tfidf_test = tfidf_vectorizer.transform(X_test)\n",
    "\n",
    "svc_tfidf_clf = LinearSVC(C=1)\n",
    "svc_tfidf_clf.fit(tfidf_train, y_train)\n",
    "pred = svc_tfidf_clf.predict(tfidf_test)\n",
    "score = metrics.accuracy_score(y_test, pred)\n",
    "print(\"accuracy:   %0.3f\" % score)"
   ]
  },
  {
   "cell_type": "code",
   "execution_count": 157,
   "metadata": {},
   "outputs": [
    {
     "name": "stdout",
     "output_type": "stream",
     "text": [
      "accuracy:   0.670\n"
     ]
    }
   ],
   "source": [
    "# accuracy:   0.678\n",
    "tfidf_vectorizer = TfidfVectorizer(stop_words='english',ngram_range=(1,3),max_df=0.5)\n",
    "tfidf_train = tfidf_vectorizer.fit_transform(X_train)\n",
    "tfidf_test = tfidf_vectorizer.transform(X_test)\n",
    "\n",
    "svc_tfidf_clf = LinearSVC(C=1)\n",
    "svc_tfidf_clf.fit(tfidf_train, y_train)\n",
    "pred = svc_tfidf_clf.predict(tfidf_test)\n",
    "score = metrics.accuracy_score(y_test, pred)\n",
    "print(\"accuracy:   %0.3f\" % score)"
   ]
  },
  {
   "cell_type": "code",
   "execution_count": 300,
   "metadata": {},
   "outputs": [
    {
     "name": "stdout",
     "output_type": "stream",
     "text": [
      "accuracy:   0.675\n"
     ]
    }
   ],
   "source": [
    "# accuracy:   0.678\n",
    "tfidf_vectorizer = TfidfVectorizer(stop_words='english',ngram_range=(1,2))\n",
    "tfidf_train = tfidf_vectorizer.fit_transform(X_train)\n",
    "tfidf_test = tfidf_vectorizer.transform(X_test)\n",
    "\n",
    "svc_tfidf_clf = LinearSVC(C=1)\n",
    "svc_tfidf_clf.fit(tfidf_train, y_train)\n",
    "pred = svc_tfidf_clf.predict(tfidf_test)\n",
    "score = metrics.accuracy_score(y_test, pred)\n",
    "print(\"accuracy:   %0.3f\" % score)"
   ]
  },
  {
   "cell_type": "code",
   "execution_count": null,
   "metadata": {},
   "outputs": [],
   "source": []
  },
  {
   "cell_type": "code",
   "execution_count": 296,
   "metadata": {},
   "outputs": [
    {
     "name": "stdout",
     "output_type": "stream",
     "text": [
      "                    precision    recall  f1-score   support\n",
      "\n",
      "     chiropractors       0.86      0.88      0.87      1882\n",
      "diagnostic service       0.66      0.70      0.68      1625\n",
      "   family practice       0.56      0.61      0.58      2233\n",
      "          hospital       0.61      0.63      0.62      2715\n",
      " internal medicine       0.75      0.73      0.74      1195\n",
      "     mental health       0.89      0.50      0.64       374\n",
      "      obstetrician       0.75      0.75      0.75      1950\n",
      "  physical therapy       0.80      0.52      0.63       586\n",
      "       urgent care       0.60      0.60      0.60      2263\n",
      "\n",
      "         micro avg       0.68      0.68      0.68     14823\n",
      "         macro avg       0.72      0.66      0.68     14823\n",
      "      weighted avg       0.68      0.68      0.68     14823\n",
      "\n"
     ]
    }
   ],
   "source": [
    "print(classification_report(y_test, pred))"
   ]
  },
  {
   "cell_type": "code",
   "execution_count": null,
   "metadata": {},
   "outputs": [],
   "source": []
  },
  {
   "cell_type": "code",
   "execution_count": 279,
   "metadata": {},
   "outputs": [
    {
     "data": {
      "image/png": "[encoded data removed]",
      "text/plain": [
       "<Figure size 576x288 with 1 Axes>"
      ]
     },
     "metadata": {
      "needs_background": "light"
     },
     "output_type": "display_data"
    }
   ],
   "source": [
    "title = 'Confusion matrix Healthcare Business'\n",
    "labels =list(np.unique(y))\n",
    "cm = confusion_matrix(y_test, pred,labels=labels)\n",
    "plt.figure(figsize = (8,4))\n",
    "g = sns.heatmap(cm, annot=True, fmt=\"d\", cbar=False, cmap=\"Greens\",xticklabels=True,yticklabels=True)\n",
    "g.set_yticklabels(labels, rotation =0)\n",
    "g.set_xticklabels(labels, rotation =90)\n",
    "plt.title(title)\n",
    "plt.ylabel('True label')\n",
    "plt.xlabel('Predicted label')\n",
    "plt.tight_layout()\n",
    "plt.savefig('{}/{}.png'.format(img_directory,title.replace(\" \", \"_\")))\n",
    "plt.show()"
   ]
  },
  {
   "cell_type": "code",
   "execution_count": 280,
   "metadata": {},
   "outputs": [
    {
     "name": "stdout",
     "output_type": "stream",
     "text": [
      "\t-1.9633\tnurse          \t\t8.2541\tchiropractor   \n",
      "\t-1.9153\thospital       \t\t7.8387\tchiropractic   \n",
      "\t-1.8828\ter             \t\t5.9000\tadjustment     \n",
      "\t-1.5391\tnurses         \t\t5.0733\tchiropractors  \n",
      "\t-1.4961\tblood          \t\t4.6141\tadjustments    \n",
      "\t-1.4612\tsick           \t\t4.4721\tadjusted       \n",
      "\t-1.3879\ttherapy        \t\t4.2427\tmassage        \n",
      "\t-1.3789\turgent         \t\t4.0407\tjoint          \n",
      "\t-1.3477\tstaff          \t\t3.2443\tchiro          \n",
      "\t-1.3410\tkids           \t\t3.1926\tneck           \n"
     ]
    }
   ],
   "source": [
    "feature_names = tfidf_vectorizer.get_feature_names()\n",
    "coefs = svc_tfidf_clf.coef_\n",
    "intercept = svc_tfidf_clf.intercept_\n",
    "coefs_w_fns = sorted(zip(svc_tfidf_clf.coef_[0],feature_names))\n",
    "n=10\n",
    "top_n_coefs = zip(coefs_w_fns[:n], coefs_w_fns[:-(n+1):-1])\n",
    "for (coef_1, fn_1), (coef_2, fn_2) in top_n_coefs:\n",
    "    print('\\t%.4f\\t%-15s\\t\\t%.4f\\t%-15s' % (coef_1,fn_1,coef_2, fn_2))"
   ]
  },
  {
   "cell_type": "code",
   "execution_count": 129,
   "metadata": {},
   "outputs": [
    {
     "name": "stdout",
     "output_type": "stream",
     "text": [
      "\t-1.9687\tnurse          \t\t8.2551\tchiropractor   \n",
      "\t-1.8805\thospital       \t\t7.8265\tchiropractic   \n",
      "\t-1.8647\ter             \t\t5.9063\tadjustment     \n",
      "\t-1.5226\tnurses         \t\t5.0821\tchiropractors  \n",
      "\t-1.4942\tsick           \t\t4.6082\tadjustments    \n",
      "\t-1.4866\tblood          \t\t4.4855\tadjusted       \n",
      "\t-1.3762\tstaff          \t\t4.2552\tmassage        \n",
      "\t-1.3648\tkids           \t\t4.0474\tjoint          \n",
      "\t-1.3644\turgent         \t\t3.2636\tchiro          \n",
      "\t-1.3304\ttherapy        \t\t3.1940\tneck           \n"
     ]
    }
   ],
   "source": [
    "feature_names = tfidf_vectorizer.get_feature_names()\n",
    "coefs = svc_tfidf_clf.coef_\n",
    "intercept = svc_tfidf_clf.intercept_\n",
    "coefs_w_fns = sorted(zip(svc_tfidf_clf.coef_[0],feature_names))\n",
    "n=10\n",
    "top_n_coefs = zip(coefs_w_fns[:n], coefs_w_fns[:-(n+1):-1])\n",
    "for (coef_1, fn_1), (coef_2, fn_2) in top_n_coefs:\n",
    "    print('\\t%.4f\\t%-15s\\t\\t%.4f\\t%-15s' % (coef_1,fn_1,coef_2, fn_2))"
   ]
  },
  {
   "cell_type": "code",
   "execution_count": 131,
   "metadata": {},
   "outputs": [],
   "source": [
    "feature_names = np.array(tfidf_vectorizer.get_feature_names())\n",
    "sorted_coef_index = svc_tfidf_clf.coef_[0].argsort()"
   ]
  },
  {
   "cell_type": "code",
   "execution_count": 132,
   "metadata": {},
   "outputs": [
    {
     "name": "stdout",
     "output_type": "stream",
     "text": [
      "Lowest 10 Coef:\n",
      "nurse\n",
      "hospital\n",
      "er\n",
      "nurses\n",
      "sick\n",
      "blood\n",
      "staff\n",
      "kids\n",
      "urgent\n",
      "therapy\n"
     ]
    }
   ],
   "source": [
    "print('Lowest 10 Coef:')\n",
    "for i in feature_names[sorted_coef_index][:10]:\n",
    "    print (i)"
   ]
  },
  {
   "cell_type": "code",
   "execution_count": 133,
   "metadata": {},
   "outputs": [
    {
     "name": "stdout",
     "output_type": "stream",
     "text": [
      "Highest 10 Coef:\n",
      "neck\n",
      "chiro\n",
      "joint\n",
      "massage\n",
      "adjusted\n",
      "adjustments\n",
      "chiropractors\n",
      "adjustment\n",
      "chiropractic\n",
      "chiropractor\n"
     ]
    }
   ],
   "source": [
    "print('Highest 10 Coef:')\n",
    "for i in feature_names[sorted_coef_index][-10:]:\n",
    "    print (i)"
   ]
  },
  {
   "cell_type": "code",
   "execution_count": null,
   "metadata": {},
   "outputs": [],
   "source": []
  }
 ],
 "metadata": {
  "kernelspec": {
   "display_name": "Python 3",
   "language": "python",
   "name": "python3"
  },
  "language_info": {
   "codemirror_mode": {
    "name": "ipython",
    "version": 3
   },
   "file_extension": ".py",
   "mimetype": "text/x-python",
   "name": "python",
   "nbconvert_exporter": "python",
   "pygments_lexer": "ipython3",
   "version": "3.6.6"
  }
 },
 "nbformat": 4,
 "nbformat_minor": 2
}
