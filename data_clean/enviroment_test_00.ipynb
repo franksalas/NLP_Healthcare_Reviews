{
 "cells": [
  {
   "cell_type": "markdown",
   "metadata": {},
   "source": [
    "## enviroment testing"
   ]
  },
  {
   "cell_type": "code",
   "execution_count": 32,
   "metadata": {},
   "outputs": [],
   "source": [
    "import pandas as pd\n",
    "import numpy as np\n",
    "import seaborn as sns\n",
    "import time\n",
    "import spacy\n",
    "import pickle\n",
    "import textacy\n",
    "import textblob\n",
    "import matplotlib\n",
    "import sklearn\n",
    "import nltk"
   ]
  },
  {
   "cell_type": "code",
   "execution_count": 33,
   "metadata": {},
   "outputs": [
    {
     "name": "stdout",
     "output_type": "stream",
     "text": [
      "pandas :0.23.4\n",
      "numpy :1.15.2\n",
      "seaborn :0.9.0\n",
      "spacy :2.0.12\n",
      "textacy :0.6.2\n",
      "Textblob :0.15.1\n",
      "Matplotlib :3.0.0\n",
      "Scikit-learn :0.20.0\n",
      "NLTK :3.3\n"
     ]
    }
   ],
   "source": [
    "print('pandas :{}'.format(pd.__version__))\n",
    "print('numpy :{}'.format(np.__version__))\n",
    "print('seaborn :{}'.format(sns.__version__))\n",
    "print('spacy :{}'.format(spacy.__version__))\n",
    "print('textacy :{}'.format(textacy.__version__))\n",
    "print('Textblob :{}'.format(textblob.__version__))\n",
    "print('Matplotlib :{}'.format(matplotlib.__version__))\n",
    "print('Scikit-learn :{}'.format(sklearn.__version__))\n",
    "print('NLTK :{}'.format(nltk.__version__))"
   ]
  },
  {
   "cell_type": "code",
   "execution_count": 25,
   "metadata": {},
   "outputs": [
    {
     "name": "stdout",
     "output_type": "stream",
     "text": [
      "Matplotlib :3.0.0\n"
     ]
    }
   ],
   "source": []
  },
  {
   "cell_type": "code",
   "execution_count": null,
   "metadata": {},
   "outputs": [],
   "source": []
  }
 ],
 "metadata": {
  "kernelspec": {
   "display_name": "Python 3",
   "language": "python",
   "name": "python3"
  },
  "language_info": {
   "codemirror_mode": {
    "name": "ipython",
    "version": 3
   },
   "file_extension": ".py",
   "mimetype": "text/x-python",
   "name": "python",
   "nbconvert_exporter": "python",
   "pygments_lexer": "ipython3",
   "version": "3.5.6"
  }
 },
 "nbformat": 4,
 "nbformat_minor": 2
}
