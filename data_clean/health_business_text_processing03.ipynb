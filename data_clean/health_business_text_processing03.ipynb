{
 "cells": [
  {
   "cell_type": "code",
   "execution_count": 1,
   "metadata": {},
   "outputs": [],
   "source": [
    "import warnings\n",
    "warnings.filterwarnings('ignore')"
   ]
  },
  {
   "cell_type": "code",
   "execution_count": 2,
   "metadata": {},
   "outputs": [],
   "source": [
    "import pandas as pd\n",
    "import numpy as np\n",
    "import os\n",
    "import seaborn as sns\n",
    "import time\n",
    "import spacy\n",
    "import pickle\n",
    "import textacy\n",
    "from textblob import TextBlob\n",
    "from contractions import MEDICAL_MAP,CONTRACTION_MAP"
   ]
  },
  {
   "cell_type": "markdown",
   "metadata": {},
   "source": [
    "## Data Directory"
   ]
  },
  {
   "cell_type": "code",
   "execution_count": 3,
   "metadata": {},
   "outputs": [],
   "source": [
    "# data folder path\n",
    "data_directory= os.path.join( '..','data','clean_data')\n",
    "data_directory_pickle = os.path.join('..','data','pickle')\n",
    "\n",
    "# data file location\n",
    "dataset = os.path.join(data_directory,'health_text_data.csv')"
   ]
  },
  {
   "cell_type": "code",
   "execution_count": 4,
   "metadata": {},
   "outputs": [],
   "source": [
    "df = pd.read_csv(dataset)\n",
    "df.drop(['Unnamed: 0'],axis=1,inplace=True)"
   ]
  },
  {
   "cell_type": "code",
   "execution_count": 5,
   "metadata": {},
   "outputs": [
    {
     "name": "stdout",
     "output_type": "stream",
     "text": [
      "<class 'pandas.core.frame.DataFrame'>\n",
      "RangeIndex: 44918 entries, 0 to 44917\n",
      "Data columns (total 6 columns):\n",
      "business_id        44918 non-null object\n",
      "review_id          44918 non-null object\n",
      "health_business    44918 non-null object\n",
      "name               44918 non-null object\n",
      "stars              44918 non-null int64\n",
      "text               44918 non-null object\n",
      "dtypes: int64(1), object(5)\n",
      "memory usage: 2.1+ MB\n"
     ]
    }
   ],
   "source": [
    "df.info()"
   ]
  },
  {
   "cell_type": "code",
   "execution_count": 6,
   "metadata": {},
   "outputs": [
    {
     "data": {
      "text/html": [
       "<div>\n",
       "<style scoped>\n",
       "    .dataframe tbody tr th:only-of-type {\n",
       "        vertical-align: middle;\n",
       "    }\n",
       "\n",
       "    .dataframe tbody tr th {\n",
       "        vertical-align: top;\n",
       "    }\n",
       "\n",
       "    .dataframe thead th {\n",
       "        text-align: right;\n",
       "    }\n",
       "</style>\n",
       "<table border=\"1\" class=\"dataframe\">\n",
       "  <thead>\n",
       "    <tr style=\"text-align: right;\">\n",
       "      <th></th>\n",
       "      <th>business_id</th>\n",
       "      <th>review_id</th>\n",
       "      <th>health_business</th>\n",
       "      <th>name</th>\n",
       "      <th>stars</th>\n",
       "      <th>text</th>\n",
       "    </tr>\n",
       "  </thead>\n",
       "  <tbody>\n",
       "    <tr>\n",
       "      <th>0</th>\n",
       "      <td>2hpi6pXIFf0taDIYCoNIuw</td>\n",
       "      <td>4ar9LmGU4rQ3vXFj325HCg</td>\n",
       "      <td>urgent care</td>\n",
       "      <td>Healthcare Partner</td>\n",
       "      <td>1</td>\n",
       "      <td>If your aim is to waste hours upon hours of yo...</td>\n",
       "    </tr>\n",
       "    <tr>\n",
       "      <th>1</th>\n",
       "      <td>2hpi6pXIFf0taDIYCoNIuw</td>\n",
       "      <td>mZo59NzNBPr9RegkzjIGVA</td>\n",
       "      <td>urgent care</td>\n",
       "      <td>Healthcare Partner</td>\n",
       "      <td>5</td>\n",
       "      <td>Memorial Day Weekend..  I can't Thank Dr, Shuc...</td>\n",
       "    </tr>\n",
       "    <tr>\n",
       "      <th>2</th>\n",
       "      <td>2hpi6pXIFf0taDIYCoNIuw</td>\n",
       "      <td>5wf0Y31knIyBcbS7ZKrW9Q</td>\n",
       "      <td>urgent care</td>\n",
       "      <td>Healthcare Partner</td>\n",
       "      <td>5</td>\n",
       "      <td>This is not my primary doctor and I was pleasa...</td>\n",
       "    </tr>\n",
       "    <tr>\n",
       "      <th>3</th>\n",
       "      <td>2hpi6pXIFf0taDIYCoNIuw</td>\n",
       "      <td>pNVZVifb7FHtr7xMAbLZ4Q</td>\n",
       "      <td>urgent care</td>\n",
       "      <td>Healthcare Partner</td>\n",
       "      <td>5</td>\n",
       "      <td>Went there the first time for myself and was n...</td>\n",
       "    </tr>\n",
       "    <tr>\n",
       "      <th>4</th>\n",
       "      <td>2hpi6pXIFf0taDIYCoNIuw</td>\n",
       "      <td>OfFzPtU9N0ooeQbIg6yR-g</td>\n",
       "      <td>urgent care</td>\n",
       "      <td>Healthcare Partner</td>\n",
       "      <td>1</td>\n",
       "      <td>Terrible assistance. I was there to see a rash...</td>\n",
       "    </tr>\n",
       "  </tbody>\n",
       "</table>\n",
       "</div>"
      ],
      "text/plain": [
       "              business_id               review_id health_business  \\\n",
       "0  2hpi6pXIFf0taDIYCoNIuw  4ar9LmGU4rQ3vXFj325HCg     urgent care   \n",
       "1  2hpi6pXIFf0taDIYCoNIuw  mZo59NzNBPr9RegkzjIGVA     urgent care   \n",
       "2  2hpi6pXIFf0taDIYCoNIuw  5wf0Y31knIyBcbS7ZKrW9Q     urgent care   \n",
       "3  2hpi6pXIFf0taDIYCoNIuw  pNVZVifb7FHtr7xMAbLZ4Q     urgent care   \n",
       "4  2hpi6pXIFf0taDIYCoNIuw  OfFzPtU9N0ooeQbIg6yR-g     urgent care   \n",
       "\n",
       "                 name  stars  \\\n",
       "0  Healthcare Partner      1   \n",
       "1  Healthcare Partner      5   \n",
       "2  Healthcare Partner      5   \n",
       "3  Healthcare Partner      5   \n",
       "4  Healthcare Partner      1   \n",
       "\n",
       "                                                text  \n",
       "0  If your aim is to waste hours upon hours of yo...  \n",
       "1  Memorial Day Weekend..  I can't Thank Dr, Shuc...  \n",
       "2  This is not my primary doctor and I was pleasa...  \n",
       "3  Went there the first time for myself and was n...  \n",
       "4  Terrible assistance. I was there to see a rash...  "
      ]
     },
     "execution_count": 6,
     "metadata": {},
     "output_type": "execute_result"
    }
   ],
   "source": [
    "df.head()"
   ]
  },
  {
   "cell_type": "markdown",
   "metadata": {},
   "source": [
    "## Replace medical titles and contractions"
   ]
  },
  {
   "cell_type": "code",
   "execution_count": 7,
   "metadata": {},
   "outputs": [],
   "source": [
    "def replace_contraction_medical(text):\n",
    "    for word in text.split():\n",
    "        if word  in MEDICAL_MAP:\n",
    "            text = text.replace(word, MEDICAL_MAP[word])\n",
    "        if word  in CONTRACTION_MAP:\n",
    "            text = text.replace(word, CONTRACTION_MAP[word])\n",
    "    return text"
   ]
  },
  {
   "cell_type": "markdown",
   "metadata": {},
   "source": [
    "## test"
   ]
  },
  {
   "cell_type": "code",
   "execution_count": 8,
   "metadata": {},
   "outputs": [
    {
     "data": {
      "text/plain": [
       "\"Memorial Day Weekend..  I can't Thank Dr, Shucmacher, his head nurse and staff for saving my Life...  I had an allergic reaction and they immediately went into action when I arrived and I can't Thank them enough... It just so happened (with follow up) that I have a growth on my tongue that swells when I have an allergic reaction causing me to not be able  to swallow and difficulty speaking and breathing...  The whole staff was amazing, caring and truly interested in what they could do to help me...  They were an AMAZING STAFF and I can't thank them enough....THANK YOU From THE Bottom of my HEART!  Holly Hernandez/Pahrump NV\""
      ]
     },
     "execution_count": 8,
     "metadata": {},
     "output_type": "execute_result"
    }
   ],
   "source": [
    "df.text[1]"
   ]
  },
  {
   "cell_type": "code",
   "execution_count": 9,
   "metadata": {},
   "outputs": [
    {
     "data": {
      "text/plain": [
       "'Memorial Day Weekend..  I cannot Thank Doctor Shucmacher, his head nurse and staff for saving my Life...  I had an allergic reaction and they immediately went into action when I arrived and I cannot Thank them enough... It just so happened (with follow up) that I have a growth on my tongue that swells when I have an allergic reaction causing me to not be able  to swallow and difficulty speaking and breathing...  The whole staff was amazing, caring and truly interested in what they could do to help me...  They were an AMAZING STAFF and I cannot thank them enough....THANK YOU From THE Bottom of my HEART!  Holly Hernandez/Pahrump NV'"
      ]
     },
     "execution_count": 9,
     "metadata": {},
     "output_type": "execute_result"
    }
   ],
   "source": [
    "replace_contraction_medical(df.text[1])"
   ]
  },
  {
   "cell_type": "markdown",
   "metadata": {},
   "source": [
    "## Apply it"
   ]
  },
  {
   "cell_type": "code",
   "execution_count": 10,
   "metadata": {},
   "outputs": [
    {
     "name": "stdout",
     "output_type": "stream",
     "text": [
      "CPU times: user 1.02 s, sys: 62.5 ms, total: 1.08 s\n",
      "Wall time: 1.05 s\n"
     ]
    }
   ],
   "source": [
    "%%time\n",
    "df['text'] = df['text'].apply(replace_contraction_medical)"
   ]
  },
  {
   "cell_type": "code",
   "execution_count": 11,
   "metadata": {},
   "outputs": [
    {
     "name": "stdout",
     "output_type": "stream",
     "text": [
      "<class 'pandas.core.frame.DataFrame'>\n",
      "RangeIndex: 44918 entries, 0 to 44917\n",
      "Data columns (total 6 columns):\n",
      "business_id        44918 non-null object\n",
      "review_id          44918 non-null object\n",
      "health_business    44918 non-null object\n",
      "name               44918 non-null object\n",
      "stars              44918 non-null int64\n",
      "text               44918 non-null object\n",
      "dtypes: int64(1), object(5)\n",
      "memory usage: 2.1+ MB\n"
     ]
    }
   ],
   "source": [
    "df.info()"
   ]
  },
  {
   "cell_type": "code",
   "execution_count": 12,
   "metadata": {},
   "outputs": [
    {
     "data": {
      "text/html": [
       "<div>\n",
       "<style scoped>\n",
       "    .dataframe tbody tr th:only-of-type {\n",
       "        vertical-align: middle;\n",
       "    }\n",
       "\n",
       "    .dataframe tbody tr th {\n",
       "        vertical-align: top;\n",
       "    }\n",
       "\n",
       "    .dataframe thead th {\n",
       "        text-align: right;\n",
       "    }\n",
       "</style>\n",
       "<table border=\"1\" class=\"dataframe\">\n",
       "  <thead>\n",
       "    <tr style=\"text-align: right;\">\n",
       "      <th></th>\n",
       "      <th>business_id</th>\n",
       "      <th>review_id</th>\n",
       "      <th>health_business</th>\n",
       "      <th>name</th>\n",
       "      <th>stars</th>\n",
       "      <th>text</th>\n",
       "    </tr>\n",
       "  </thead>\n",
       "  <tbody>\n",
       "    <tr>\n",
       "      <th>0</th>\n",
       "      <td>2hpi6pXIFf0taDIYCoNIuw</td>\n",
       "      <td>4ar9LmGU4rQ3vXFj325HCg</td>\n",
       "      <td>urgent care</td>\n",
       "      <td>Healthcare Partner</td>\n",
       "      <td>1</td>\n",
       "      <td>If your aim is to waste hours upon hours of yo...</td>\n",
       "    </tr>\n",
       "    <tr>\n",
       "      <th>1</th>\n",
       "      <td>2hpi6pXIFf0taDIYCoNIuw</td>\n",
       "      <td>mZo59NzNBPr9RegkzjIGVA</td>\n",
       "      <td>urgent care</td>\n",
       "      <td>Healthcare Partner</td>\n",
       "      <td>5</td>\n",
       "      <td>Memorial Day Weekend..  I cannot Thank Doctor ...</td>\n",
       "    </tr>\n",
       "    <tr>\n",
       "      <th>2</th>\n",
       "      <td>2hpi6pXIFf0taDIYCoNIuw</td>\n",
       "      <td>5wf0Y31knIyBcbS7ZKrW9Q</td>\n",
       "      <td>urgent care</td>\n",
       "      <td>Healthcare Partner</td>\n",
       "      <td>5</td>\n",
       "      <td>This is not my primary doctor and I was pleasa...</td>\n",
       "    </tr>\n",
       "    <tr>\n",
       "      <th>3</th>\n",
       "      <td>2hpi6pXIFf0taDIYCoNIuw</td>\n",
       "      <td>pNVZVifb7FHtr7xMAbLZ4Q</td>\n",
       "      <td>urgent care</td>\n",
       "      <td>Healthcare Partner</td>\n",
       "      <td>5</td>\n",
       "      <td>Went there the first time for myself and was n...</td>\n",
       "    </tr>\n",
       "    <tr>\n",
       "      <th>4</th>\n",
       "      <td>2hpi6pXIFf0taDIYCoNIuw</td>\n",
       "      <td>OfFzPtU9N0ooeQbIg6yR-g</td>\n",
       "      <td>urgent care</td>\n",
       "      <td>Healthcare Partner</td>\n",
       "      <td>1</td>\n",
       "      <td>Terrible assistance. I was there to see a rash...</td>\n",
       "    </tr>\n",
       "  </tbody>\n",
       "</table>\n",
       "</div>"
      ],
      "text/plain": [
       "              business_id               review_id health_business  \\\n",
       "0  2hpi6pXIFf0taDIYCoNIuw  4ar9LmGU4rQ3vXFj325HCg     urgent care   \n",
       "1  2hpi6pXIFf0taDIYCoNIuw  mZo59NzNBPr9RegkzjIGVA     urgent care   \n",
       "2  2hpi6pXIFf0taDIYCoNIuw  5wf0Y31knIyBcbS7ZKrW9Q     urgent care   \n",
       "3  2hpi6pXIFf0taDIYCoNIuw  pNVZVifb7FHtr7xMAbLZ4Q     urgent care   \n",
       "4  2hpi6pXIFf0taDIYCoNIuw  OfFzPtU9N0ooeQbIg6yR-g     urgent care   \n",
       "\n",
       "                 name  stars  \\\n",
       "0  Healthcare Partner      1   \n",
       "1  Healthcare Partner      5   \n",
       "2  Healthcare Partner      5   \n",
       "3  Healthcare Partner      5   \n",
       "4  Healthcare Partner      1   \n",
       "\n",
       "                                                text  \n",
       "0  If your aim is to waste hours upon hours of yo...  \n",
       "1  Memorial Day Weekend..  I cannot Thank Doctor ...  \n",
       "2  This is not my primary doctor and I was pleasa...  \n",
       "3  Went there the first time for myself and was n...  \n",
       "4  Terrible assistance. I was there to see a rash...  "
      ]
     },
     "execution_count": 12,
     "metadata": {},
     "output_type": "execute_result"
    }
   ],
   "source": [
    "df.head()"
   ]
  },
  {
   "cell_type": "code",
   "execution_count": 13,
   "metadata": {},
   "outputs": [
    {
     "data": {
      "text/plain": [
       "'Memorial Day Weekend..  I cannot Thank Doctor Shucmacher, his head nurse and staff for saving my Life...  I had an allergic reaction and they immediately went into action when I arrived and I cannot Thank them enough... It just so happened (with follow up) that I have a growth on my tongue that swells when I have an allergic reaction causing me to not be able  to swallow and difficulty speaking and breathing...  The whole staff was amazing, caring and truly interested in what they could do to help me...  They were an AMAZING STAFF and I cannot thank them enough....THANK YOU From THE Bottom of my HEART!  Holly Hernandez/Pahrump NV'"
      ]
     },
     "execution_count": 13,
     "metadata": {},
     "output_type": "execute_result"
    }
   ],
   "source": [
    "df.text[1]"
   ]
  },
  {
   "cell_type": "markdown",
   "metadata": {},
   "source": [
    "# Preprocess the text\n"
   ]
  },
  {
   "cell_type": "code",
   "execution_count": 14,
   "metadata": {},
   "outputs": [
    {
     "name": "stdout",
     "output_type": "stream",
     "text": [
      "CPU times: user 14.4 s, sys: 78.1 ms, total: 14.5 s\n",
      "Wall time: 14.5 s\n"
     ]
    }
   ],
   "source": [
    "%%time\n",
    "df['processed'] = df['text'].map(lambda x: textacy.preprocess.preprocess_text(x, lowercase=True, \n",
    "                                                                                    no_urls=True, \n",
    "                                                                                    no_punct=True, \n",
    "                                                                                    no_numbers=True))"
   ]
  },
  {
   "cell_type": "code",
   "execution_count": 17,
   "metadata": {},
   "outputs": [
    {
     "data": {
      "text/plain": [
       "'memorial day weekend i cannot thank doctor shucmacher his head nurse and staff for saving my life i had an allergic reaction and they immediately went into action when i arrived and i cannot thank them enough it just so happened with follow up that i have a growth on my tongue that swells when i have an allergic reaction causing me to not be able to swallow and difficulty speaking and breathing the whole staff was amazing caring and truly interested in what they could do to help me they were an amazing staff and i cannot thank them enough thank you from the bottom of my heart holly hernandez pahrump nv'"
      ]
     },
     "execution_count": 17,
     "metadata": {},
     "output_type": "execute_result"
    }
   ],
   "source": [
    "df.processedessed[1]"
   ]
  },
  {
   "cell_type": "markdown",
   "metadata": {},
   "source": [
    "## Sentiment Analysis\n",
    "   * **Polarity**: How positive or negative a word is. -1 is very negative. +1 is very positive.\n",
    "   * **Subjectivity**: How subjective, or opinionated a word is. 0 is fact. +1 is very much an opinion."
   ]
  },
  {
   "cell_type": "code",
   "execution_count": 15,
   "metadata": {},
   "outputs": [
    {
     "name": "stdout",
     "output_type": "stream",
     "text": [
      "CPU times: user 1min 5s, sys: 297 ms, total: 1min 5s\n",
      "Wall time: 1min 5s\n"
     ]
    }
   ],
   "source": [
    "%%time\n",
    "polarity = lambda x: TextBlob(x).sentiment.polarity\n",
    "subjectivity = lambda x: TextBlob(x).sentiment.subjectivity\n",
    "\n",
    "df['polarity'] = df['processed'].apply(polarity)\n",
    "df['subjectivity'] = df['processed'].apply(subjectivity)"
   ]
  },
  {
   "cell_type": "code",
   "execution_count": null,
   "metadata": {},
   "outputs": [],
   "source": []
  },
  {
   "cell_type": "markdown",
   "metadata": {},
   "source": [
    "## save dataframe data"
   ]
  },
  {
   "cell_type": "code",
   "execution_count": 16,
   "metadata": {},
   "outputs": [],
   "source": [
    "with open(data_directory_pickle + '/health_data.pkl', 'wb') as f:\n",
    "    pickle.dump(df, f)"
   ]
  }
 ],
 "metadata": {
  "kernelspec": {
   "display_name": "Python 3",
   "language": "python",
   "name": "python3"
  },
  "language_info": {
   "codemirror_mode": {
    "name": "ipython",
    "version": 3
   },
   "file_extension": ".py",
   "mimetype": "text/x-python",
   "name": "python",
   "nbconvert_exporter": "python",
   "pygments_lexer": "ipython3",
   "version": "3.6.6"
  }
 },
 "nbformat": 4,
 "nbformat_minor": 2
}
