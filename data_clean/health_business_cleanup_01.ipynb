{
 "cells": [
  {
   "cell_type": "code",
   "execution_count": 1,
   "metadata": {},
   "outputs": [],
   "source": [
    "import warnings\n",
    "warnings.filterwarnings('ignore')"
   ]
  },
  {
   "cell_type": "code",
   "execution_count": 2,
   "metadata": {},
   "outputs": [],
   "source": [
    "import pandas as pd\n",
    "import numpy as np\n",
    "import os\n",
    "import seaborn as sns"
   ]
  },
  {
   "cell_type": "markdown",
   "metadata": {},
   "source": [
    "## Data directory"
   ]
  },
  {
   "cell_type": "code",
   "execution_count": 3,
   "metadata": {},
   "outputs": [],
   "source": [
    "# data folder path\n",
    "data_directory = os.path.join('..','data','yelp_datasets')\n",
    "data_directory_saves = os.path.join( '..','data','clean_data')\n",
    "\n",
    "# data file location\n",
    "businesses_dataset = os.path.join(data_directory,'yelp_academic_dataset_business.json')"
   ]
  },
  {
   "cell_type": "code",
   "execution_count": 4,
   "metadata": {},
   "outputs": [
    {
     "data": {
      "text/plain": [
       "'../data/yelp_datasets'"
      ]
     },
     "execution_count": 4,
     "metadata": {},
     "output_type": "execute_result"
    }
   ],
   "source": [
    "data_directory"
   ]
  },
  {
   "cell_type": "code",
   "execution_count": 5,
   "metadata": {},
   "outputs": [
    {
     "name": "stdout",
     "output_type": "stream",
     "text": [
      "CPU times: user 6.2 s, sys: 3.44 s, total: 9.64 s\n",
      "Wall time: 9.66 s\n"
     ]
    }
   ],
   "source": [
    "%%time\n",
    "df = pd.read_json(businesses_dataset, lines=True)"
   ]
  },
  {
   "cell_type": "code",
   "execution_count": 6,
   "metadata": {},
   "outputs": [
    {
     "name": "stdout",
     "output_type": "stream",
     "text": [
      "<class 'pandas.core.frame.DataFrame'>\n",
      "RangeIndex: 188593 entries, 0 to 188592\n",
      "Data columns (total 15 columns):\n",
      "address         188593 non-null object\n",
      "attributes      162807 non-null object\n",
      "business_id     188593 non-null object\n",
      "categories      188052 non-null object\n",
      "city            188593 non-null object\n",
      "hours           143791 non-null object\n",
      "is_open         188593 non-null int64\n",
      "latitude        188587 non-null float64\n",
      "longitude       188587 non-null float64\n",
      "name            188593 non-null object\n",
      "neighborhood    188593 non-null object\n",
      "postal_code     188593 non-null object\n",
      "review_count    188593 non-null int64\n",
      "stars           188593 non-null float64\n",
      "state           188593 non-null object\n",
      "dtypes: float64(3), int64(2), object(10)\n",
      "memory usage: 21.6+ MB\n"
     ]
    }
   ],
   "source": [
    "df.info()"
   ]
  },
  {
   "cell_type": "code",
   "execution_count": 8,
   "metadata": {},
   "outputs": [
    {
     "data": {
      "text/html": [
       "<div>\n",
       "<style scoped>\n",
       "    .dataframe tbody tr th:only-of-type {\n",
       "        vertical-align: middle;\n",
       "    }\n",
       "\n",
       "    .dataframe tbody tr th {\n",
       "        vertical-align: top;\n",
       "    }\n",
       "\n",
       "    .dataframe thead th {\n",
       "        text-align: right;\n",
       "    }\n",
       "</style>\n",
       "<table border=\"1\" class=\"dataframe\">\n",
       "  <thead>\n",
       "    <tr style=\"text-align: right;\">\n",
       "      <th></th>\n",
       "      <th>address</th>\n",
       "      <th>attributes</th>\n",
       "      <th>business_id</th>\n",
       "      <th>categories</th>\n",
       "      <th>city</th>\n",
       "      <th>hours</th>\n",
       "      <th>is_open</th>\n",
       "      <th>latitude</th>\n",
       "      <th>longitude</th>\n",
       "      <th>name</th>\n",
       "      <th>neighborhood</th>\n",
       "      <th>postal_code</th>\n",
       "      <th>review_count</th>\n",
       "      <th>stars</th>\n",
       "      <th>state</th>\n",
       "    </tr>\n",
       "  </thead>\n",
       "  <tbody>\n",
       "    <tr>\n",
       "      <th>0</th>\n",
       "      <td>1314 44 Avenue NE</td>\n",
       "      <td>{'BikeParking': 'False', 'BusinessAcceptsCredi...</td>\n",
       "      <td>Apn5Q_b6Nz61Tq4XzPdf9A</td>\n",
       "      <td>Tours, Breweries, Pizza, Restaurants, Food, Ho...</td>\n",
       "      <td>Calgary</td>\n",
       "      <td>{'Monday': '8:30-17:0', 'Tuesday': '11:0-21:0'...</td>\n",
       "      <td>1</td>\n",
       "      <td>51.091813</td>\n",
       "      <td>-114.031675</td>\n",
       "      <td>Minhas Micro Brewery</td>\n",
       "      <td></td>\n",
       "      <td>T2E 6L6</td>\n",
       "      <td>24</td>\n",
       "      <td>4.0</td>\n",
       "      <td>AB</td>\n",
       "    </tr>\n",
       "    <tr>\n",
       "      <th>1</th>\n",
       "      <td></td>\n",
       "      <td>{'Alcohol': 'none', 'BikeParking': 'False', 'B...</td>\n",
       "      <td>AjEbIBw6ZFfln7ePHha9PA</td>\n",
       "      <td>Chicken Wings, Burgers, Caterers, Street Vendo...</td>\n",
       "      <td>Henderson</td>\n",
       "      <td>{'Friday': '17:0-23:0', 'Saturday': '17:0-23:0...</td>\n",
       "      <td>0</td>\n",
       "      <td>35.960734</td>\n",
       "      <td>-114.939821</td>\n",
       "      <td>CK'S BBQ &amp; Catering</td>\n",
       "      <td></td>\n",
       "      <td>89002</td>\n",
       "      <td>3</td>\n",
       "      <td>4.5</td>\n",
       "      <td>NV</td>\n",
       "    </tr>\n",
       "  </tbody>\n",
       "</table>\n",
       "</div>"
      ],
      "text/plain": [
       "             address                                         attributes  \\\n",
       "0  1314 44 Avenue NE  {'BikeParking': 'False', 'BusinessAcceptsCredi...   \n",
       "1                     {'Alcohol': 'none', 'BikeParking': 'False', 'B...   \n",
       "\n",
       "              business_id                                         categories  \\\n",
       "0  Apn5Q_b6Nz61Tq4XzPdf9A  Tours, Breweries, Pizza, Restaurants, Food, Ho...   \n",
       "1  AjEbIBw6ZFfln7ePHha9PA  Chicken Wings, Burgers, Caterers, Street Vendo...   \n",
       "\n",
       "        city                                              hours  is_open  \\\n",
       "0    Calgary  {'Monday': '8:30-17:0', 'Tuesday': '11:0-21:0'...        1   \n",
       "1  Henderson  {'Friday': '17:0-23:0', 'Saturday': '17:0-23:0...        0   \n",
       "\n",
       "    latitude   longitude                  name neighborhood postal_code  \\\n",
       "0  51.091813 -114.031675  Minhas Micro Brewery                  T2E 6L6   \n",
       "1  35.960734 -114.939821   CK'S BBQ & Catering                    89002   \n",
       "\n",
       "   review_count  stars state  \n",
       "0            24    4.0    AB  \n",
       "1             3    4.5    NV  "
      ]
     },
     "execution_count": 8,
     "metadata": {},
     "output_type": "execute_result"
    }
   ],
   "source": [
    "df.head(2)"
   ]
  },
  {
   "cell_type": "markdown",
   "metadata": {},
   "source": [
    "# Change column name\n",
    "- stars to star_avg"
   ]
  },
  {
   "cell_type": "code",
   "execution_count": 9,
   "metadata": {},
   "outputs": [],
   "source": [
    "df = df.rename(columns={'stars': 'star_avg'})"
   ]
  },
  {
   "cell_type": "markdown",
   "metadata": {},
   "source": [
    "## Drop null categories"
   ]
  },
  {
   "cell_type": "code",
   "execution_count": 10,
   "metadata": {},
   "outputs": [
    {
     "data": {
      "text/plain": [
       "541"
      ]
     },
     "execution_count": 10,
     "metadata": {},
     "output_type": "execute_result"
    }
   ],
   "source": [
    "len(df[df.categories.isnull()])"
   ]
  },
  {
   "cell_type": "markdown",
   "metadata": {},
   "source": [
    "## create null categorie filter "
   ]
  },
  {
   "cell_type": "code",
   "execution_count": 11,
   "metadata": {},
   "outputs": [],
   "source": [
    "null_cat = df.categories.isnull()"
   ]
  },
  {
   "cell_type": "code",
   "execution_count": 12,
   "metadata": {},
   "outputs": [
    {
     "data": {
      "text/plain": [
       "541"
      ]
     },
     "execution_count": 12,
     "metadata": {},
     "output_type": "execute_result"
    }
   ],
   "source": [
    "len(df[null_cat])"
   ]
  },
  {
   "cell_type": "code",
   "execution_count": 13,
   "metadata": {},
   "outputs": [
    {
     "data": {
      "text/plain": [
       "188052"
      ]
     },
     "execution_count": 13,
     "metadata": {},
     "output_type": "execute_result"
    }
   ],
   "source": [
    "len(df[~null_cat])"
   ]
  },
  {
   "cell_type": "code",
   "execution_count": 14,
   "metadata": {},
   "outputs": [],
   "source": [
    "df = df[~null_cat] # display rows NOT in null_cat filter"
   ]
  },
  {
   "cell_type": "code",
   "execution_count": 15,
   "metadata": {},
   "outputs": [],
   "source": [
    "df = df.reset_index(drop=True)  # reset index"
   ]
  },
  {
   "cell_type": "code",
   "execution_count": 16,
   "metadata": {},
   "outputs": [
    {
     "name": "stdout",
     "output_type": "stream",
     "text": [
      "<class 'pandas.core.frame.DataFrame'>\n",
      "RangeIndex: 188052 entries, 0 to 188051\n",
      "Data columns (total 15 columns):\n",
      "address         188052 non-null object\n",
      "attributes      162750 non-null object\n",
      "business_id     188052 non-null object\n",
      "categories      188052 non-null object\n",
      "city            188052 non-null object\n",
      "hours           143747 non-null object\n",
      "is_open         188052 non-null int64\n",
      "latitude        188046 non-null float64\n",
      "longitude       188046 non-null float64\n",
      "name            188052 non-null object\n",
      "neighborhood    188052 non-null object\n",
      "postal_code     188052 non-null object\n",
      "review_count    188052 non-null int64\n",
      "star_avg        188052 non-null float64\n",
      "state           188052 non-null object\n",
      "dtypes: float64(3), int64(2), object(10)\n",
      "memory usage: 21.5+ MB\n"
     ]
    }
   ],
   "source": [
    "df.info()"
   ]
  },
  {
   "cell_type": "markdown",
   "metadata": {},
   "source": [
    "## State\n",
    "- select only us locations\n",
    "    - sorry Canada"
   ]
  },
  {
   "cell_type": "code",
   "execution_count": 17,
   "metadata": {},
   "outputs": [
    {
     "data": {
      "text/plain": [
       "AZ    56296\n",
       "NV    35586\n",
       "ON    32315\n",
       "NC    14320\n",
       "OH    13628\n",
       "PA    10940\n",
       "QC     8727\n",
       "AB     7656\n",
       "WI     5034\n",
       "IL     1932\n",
       "Name: state, dtype: int64"
      ]
     },
     "execution_count": 17,
     "metadata": {},
     "output_type": "execute_result"
    }
   ],
   "source": [
    "df.state.value_counts(dropna=False)[:10]"
   ]
  },
  {
   "cell_type": "code",
   "execution_count": 18,
   "metadata": {},
   "outputs": [
    {
     "data": {
      "text/plain": [
       "array(['AB', 'NV', 'QC', 'AZ', 'ON', 'PA', 'OH', 'IL', 'WI', 'NC', 'BY',\n",
       "       'NYK', 'SC', 'C', 'XGM', 'ST', 'IN', 'RP', 'CMA', 'NI', 'NLK',\n",
       "       'VS', '6', 'CO', 'HE', 'VA', 'RCC', '01', 'SG', 'NY', 'OR', 'NW',\n",
       "       '4', '10', 'CC', 'CA', '45', 'LU', 'MT', 'G', 'PO', 'B', 'VT',\n",
       "       'AL', 'WAR', 'MO', 'HU', 'M', 'AR', 'O', 'FL', 'WA', 'CRF', 'TAM',\n",
       "       'NE', 'XMS', 'GA', 'AG', 'WHT', 'MA', 'V', 'BC', 'SP', 'DE', 'HH',\n",
       "       '11', 'CS', 'MN'], dtype=object)"
      ]
     },
     "execution_count": 18,
     "metadata": {},
     "output_type": "execute_result"
    }
   ],
   "source": [
    "df.state.unique()"
   ]
  },
  {
   "cell_type": "code",
   "execution_count": 19,
   "metadata": {},
   "outputs": [],
   "source": [
    "on = df.state == 'ON'\n",
    "qc = df.state == 'QC'\n",
    "ab = df.state == 'AB'\n",
    "ni = df.state == 'NI'\n",
    "nyk = df.state == 'NYK'"
   ]
  },
  {
   "cell_type": "code",
   "execution_count": 20,
   "metadata": {},
   "outputs": [],
   "source": [
    "df = df[~(on|qc|ab|ni|nyk)]\n",
    "df = df.reset_index(drop=True)"
   ]
  },
  {
   "cell_type": "code",
   "execution_count": 21,
   "metadata": {},
   "outputs": [
    {
     "name": "stdout",
     "output_type": "stream",
     "text": [
      "<class 'pandas.core.frame.DataFrame'>\n",
      "RangeIndex: 139057 entries, 0 to 139056\n",
      "Data columns (total 15 columns):\n",
      "address         139057 non-null object\n",
      "attributes      119919 non-null object\n",
      "business_id     139057 non-null object\n",
      "categories      139057 non-null object\n",
      "city            139057 non-null object\n",
      "hours           108394 non-null object\n",
      "is_open         139057 non-null int64\n",
      "latitude        139053 non-null float64\n",
      "longitude       139053 non-null float64\n",
      "name            139057 non-null object\n",
      "neighborhood    139057 non-null object\n",
      "postal_code     139057 non-null object\n",
      "review_count    139057 non-null int64\n",
      "star_avg        139057 non-null float64\n",
      "state           139057 non-null object\n",
      "dtypes: float64(3), int64(2), object(10)\n",
      "memory usage: 15.9+ MB\n"
     ]
    }
   ],
   "source": [
    "df.info()"
   ]
  },
  {
   "cell_type": "markdown",
   "metadata": {},
   "source": [
    "## drop columns\n",
    "- drop unused columns"
   ]
  },
  {
   "cell_type": "code",
   "execution_count": 22,
   "metadata": {},
   "outputs": [
    {
     "data": {
      "text/plain": [
       "['address',\n",
       " 'attributes',\n",
       " 'business_id',\n",
       " 'categories',\n",
       " 'city',\n",
       " 'hours',\n",
       " 'is_open',\n",
       " 'latitude',\n",
       " 'longitude',\n",
       " 'name',\n",
       " 'neighborhood',\n",
       " 'postal_code',\n",
       " 'review_count',\n",
       " 'star_avg',\n",
       " 'state']"
      ]
     },
     "execution_count": 22,
     "metadata": {},
     "output_type": "execute_result"
    }
   ],
   "source": [
    "list(df.columns)"
   ]
  },
  {
   "cell_type": "code",
   "execution_count": 23,
   "metadata": {},
   "outputs": [],
   "source": [
    "df.drop(['hours','is_open','latitude','longitude','neighborhood','postal_code','address' ,'attributes'],axis=1,inplace=True)"
   ]
  },
  {
   "cell_type": "code",
   "execution_count": 24,
   "metadata": {},
   "outputs": [
    {
     "data": {
      "text/html": [
       "<div>\n",
       "<style scoped>\n",
       "    .dataframe tbody tr th:only-of-type {\n",
       "        vertical-align: middle;\n",
       "    }\n",
       "\n",
       "    .dataframe tbody tr th {\n",
       "        vertical-align: top;\n",
       "    }\n",
       "\n",
       "    .dataframe thead th {\n",
       "        text-align: right;\n",
       "    }\n",
       "</style>\n",
       "<table border=\"1\" class=\"dataframe\">\n",
       "  <thead>\n",
       "    <tr style=\"text-align: right;\">\n",
       "      <th></th>\n",
       "      <th>business_id</th>\n",
       "      <th>categories</th>\n",
       "      <th>city</th>\n",
       "      <th>name</th>\n",
       "      <th>review_count</th>\n",
       "      <th>star_avg</th>\n",
       "      <th>state</th>\n",
       "    </tr>\n",
       "  </thead>\n",
       "  <tbody>\n",
       "    <tr>\n",
       "      <th>0</th>\n",
       "      <td>AjEbIBw6ZFfln7ePHha9PA</td>\n",
       "      <td>Chicken Wings, Burgers, Caterers, Street Vendo...</td>\n",
       "      <td>Henderson</td>\n",
       "      <td>CK'S BBQ &amp; Catering</td>\n",
       "      <td>3</td>\n",
       "      <td>4.5</td>\n",
       "      <td>NV</td>\n",
       "    </tr>\n",
       "    <tr>\n",
       "      <th>1</th>\n",
       "      <td>bFzdJJ3wp3PZssNEsyU23g</td>\n",
       "      <td>Insurance, Financial Services</td>\n",
       "      <td>Phoenix</td>\n",
       "      <td>Geico Insurance</td>\n",
       "      <td>8</td>\n",
       "      <td>1.5</td>\n",
       "      <td>AZ</td>\n",
       "    </tr>\n",
       "    <tr>\n",
       "      <th>2</th>\n",
       "      <td>45bWSZtniwPRiqlivpS8Og</td>\n",
       "      <td>Coffee &amp; Tea, Food</td>\n",
       "      <td>Phoenix</td>\n",
       "      <td>The Coffee Bean &amp; Tea Leaf</td>\n",
       "      <td>63</td>\n",
       "      <td>4.0</td>\n",
       "      <td>AZ</td>\n",
       "    </tr>\n",
       "    <tr>\n",
       "      <th>3</th>\n",
       "      <td>8-NRKkPY1UiFXW20WXKiXg</td>\n",
       "      <td>Mexican, Restaurants</td>\n",
       "      <td>Avondale</td>\n",
       "      <td>Filiberto's Mexican Food</td>\n",
       "      <td>40</td>\n",
       "      <td>2.5</td>\n",
       "      <td>AZ</td>\n",
       "    </tr>\n",
       "    <tr>\n",
       "      <th>4</th>\n",
       "      <td>UTm5QZThPQlT35mkAcGOjg</td>\n",
       "      <td>Flowers &amp; Gifts, Gift Shops, Shopping</td>\n",
       "      <td>Pittsburgh</td>\n",
       "      <td>Maggie &amp; Stella's Gifts</td>\n",
       "      <td>3</td>\n",
       "      <td>3.5</td>\n",
       "      <td>PA</td>\n",
       "    </tr>\n",
       "  </tbody>\n",
       "</table>\n",
       "</div>"
      ],
      "text/plain": [
       "              business_id                                         categories  \\\n",
       "0  AjEbIBw6ZFfln7ePHha9PA  Chicken Wings, Burgers, Caterers, Street Vendo...   \n",
       "1  bFzdJJ3wp3PZssNEsyU23g                      Insurance, Financial Services   \n",
       "2  45bWSZtniwPRiqlivpS8Og                                 Coffee & Tea, Food   \n",
       "3  8-NRKkPY1UiFXW20WXKiXg                               Mexican, Restaurants   \n",
       "4  UTm5QZThPQlT35mkAcGOjg              Flowers & Gifts, Gift Shops, Shopping   \n",
       "\n",
       "         city                        name  review_count  star_avg state  \n",
       "0   Henderson         CK'S BBQ & Catering             3       4.5    NV  \n",
       "1     Phoenix             Geico Insurance             8       1.5    AZ  \n",
       "2     Phoenix  The Coffee Bean & Tea Leaf            63       4.0    AZ  \n",
       "3    Avondale    Filiberto's Mexican Food            40       2.5    AZ  \n",
       "4  Pittsburgh     Maggie & Stella's Gifts             3       3.5    PA  "
      ]
     },
     "execution_count": 24,
     "metadata": {},
     "output_type": "execute_result"
    }
   ],
   "source": [
    "df.head()"
   ]
  },
  {
   "cell_type": "code",
   "execution_count": 25,
   "metadata": {},
   "outputs": [
    {
     "name": "stdout",
     "output_type": "stream",
     "text": [
      "<class 'pandas.core.frame.DataFrame'>\n",
      "RangeIndex: 139057 entries, 0 to 139056\n",
      "Data columns (total 7 columns):\n",
      "business_id     139057 non-null object\n",
      "categories      139057 non-null object\n",
      "city            139057 non-null object\n",
      "name            139057 non-null object\n",
      "review_count    139057 non-null int64\n",
      "star_avg        139057 non-null float64\n",
      "state           139057 non-null object\n",
      "dtypes: float64(1), int64(1), object(5)\n",
      "memory usage: 7.4+ MB\n"
     ]
    }
   ],
   "source": [
    "df.info()"
   ]
  },
  {
   "cell_type": "code",
   "execution_count": 26,
   "metadata": {},
   "outputs": [
    {
     "data": {
      "text/html": [
       "<div>\n",
       "<style scoped>\n",
       "    .dataframe tbody tr th:only-of-type {\n",
       "        vertical-align: middle;\n",
       "    }\n",
       "\n",
       "    .dataframe tbody tr th {\n",
       "        vertical-align: top;\n",
       "    }\n",
       "\n",
       "    .dataframe thead th {\n",
       "        text-align: right;\n",
       "    }\n",
       "</style>\n",
       "<table border=\"1\" class=\"dataframe\">\n",
       "  <thead>\n",
       "    <tr style=\"text-align: right;\">\n",
       "      <th></th>\n",
       "      <th>business_id</th>\n",
       "      <th>categories</th>\n",
       "      <th>city</th>\n",
       "      <th>name</th>\n",
       "      <th>review_count</th>\n",
       "      <th>star_avg</th>\n",
       "      <th>state</th>\n",
       "    </tr>\n",
       "  </thead>\n",
       "  <tbody>\n",
       "    <tr>\n",
       "      <th>0</th>\n",
       "      <td>AjEbIBw6ZFfln7ePHha9PA</td>\n",
       "      <td>Chicken Wings, Burgers, Caterers, Street Vendo...</td>\n",
       "      <td>Henderson</td>\n",
       "      <td>CK'S BBQ &amp; Catering</td>\n",
       "      <td>3</td>\n",
       "      <td>4.5</td>\n",
       "      <td>NV</td>\n",
       "    </tr>\n",
       "    <tr>\n",
       "      <th>1</th>\n",
       "      <td>bFzdJJ3wp3PZssNEsyU23g</td>\n",
       "      <td>Insurance, Financial Services</td>\n",
       "      <td>Phoenix</td>\n",
       "      <td>Geico Insurance</td>\n",
       "      <td>8</td>\n",
       "      <td>1.5</td>\n",
       "      <td>AZ</td>\n",
       "    </tr>\n",
       "    <tr>\n",
       "      <th>2</th>\n",
       "      <td>45bWSZtniwPRiqlivpS8Og</td>\n",
       "      <td>Coffee &amp; Tea, Food</td>\n",
       "      <td>Phoenix</td>\n",
       "      <td>The Coffee Bean &amp; Tea Leaf</td>\n",
       "      <td>63</td>\n",
       "      <td>4.0</td>\n",
       "      <td>AZ</td>\n",
       "    </tr>\n",
       "    <tr>\n",
       "      <th>3</th>\n",
       "      <td>8-NRKkPY1UiFXW20WXKiXg</td>\n",
       "      <td>Mexican, Restaurants</td>\n",
       "      <td>Avondale</td>\n",
       "      <td>Filiberto's Mexican Food</td>\n",
       "      <td>40</td>\n",
       "      <td>2.5</td>\n",
       "      <td>AZ</td>\n",
       "    </tr>\n",
       "    <tr>\n",
       "      <th>4</th>\n",
       "      <td>UTm5QZThPQlT35mkAcGOjg</td>\n",
       "      <td>Flowers &amp; Gifts, Gift Shops, Shopping</td>\n",
       "      <td>Pittsburgh</td>\n",
       "      <td>Maggie &amp; Stella's Gifts</td>\n",
       "      <td>3</td>\n",
       "      <td>3.5</td>\n",
       "      <td>PA</td>\n",
       "    </tr>\n",
       "  </tbody>\n",
       "</table>\n",
       "</div>"
      ],
      "text/plain": [
       "              business_id                                         categories  \\\n",
       "0  AjEbIBw6ZFfln7ePHha9PA  Chicken Wings, Burgers, Caterers, Street Vendo...   \n",
       "1  bFzdJJ3wp3PZssNEsyU23g                      Insurance, Financial Services   \n",
       "2  45bWSZtniwPRiqlivpS8Og                                 Coffee & Tea, Food   \n",
       "3  8-NRKkPY1UiFXW20WXKiXg                               Mexican, Restaurants   \n",
       "4  UTm5QZThPQlT35mkAcGOjg              Flowers & Gifts, Gift Shops, Shopping   \n",
       "\n",
       "         city                        name  review_count  star_avg state  \n",
       "0   Henderson         CK'S BBQ & Catering             3       4.5    NV  \n",
       "1     Phoenix             Geico Insurance             8       1.5    AZ  \n",
       "2     Phoenix  The Coffee Bean & Tea Leaf            63       4.0    AZ  \n",
       "3    Avondale    Filiberto's Mexican Food            40       2.5    AZ  \n",
       "4  Pittsburgh     Maggie & Stella's Gifts             3       3.5    PA  "
      ]
     },
     "execution_count": 26,
     "metadata": {},
     "output_type": "execute_result"
    }
   ],
   "source": [
    "df.head()"
   ]
  },
  {
   "cell_type": "code",
   "execution_count": 27,
   "metadata": {},
   "outputs": [
    {
     "data": {
      "text/plain": [
       "Las Vegas     28785\n",
       "Phoenix       18552\n",
       "Charlotte      9179\n",
       "Scottsdale     8803\n",
       "Pittsburgh     6790\n",
       "Mesa           6219\n",
       "Henderson      4802\n",
       "Tempe          4477\n",
       "Chandler       4259\n",
       "Madison        3504\n",
       "Name: city, dtype: int64"
      ]
     },
     "execution_count": 27,
     "metadata": {},
     "output_type": "execute_result"
    }
   ],
   "source": [
    "df.city.value_counts()[:10]"
   ]
  },
  {
   "cell_type": "markdown",
   "metadata": {},
   "source": [
    "## Categories"
   ]
  },
  {
   "cell_type": "code",
   "execution_count": 28,
   "metadata": {},
   "outputs": [],
   "source": [
    "df.categories = df.categories.str.lower()\n",
    "df['categories_list'] = df.categories.str.lower()\n",
    "df['categories_list']  = df['categories_list'].str.split(',')"
   ]
  },
  {
   "cell_type": "code",
   "execution_count": 29,
   "metadata": {},
   "outputs": [
    {
     "data": {
      "text/html": [
       "<div>\n",
       "<style scoped>\n",
       "    .dataframe tbody tr th:only-of-type {\n",
       "        vertical-align: middle;\n",
       "    }\n",
       "\n",
       "    .dataframe tbody tr th {\n",
       "        vertical-align: top;\n",
       "    }\n",
       "\n",
       "    .dataframe thead th {\n",
       "        text-align: right;\n",
       "    }\n",
       "</style>\n",
       "<table border=\"1\" class=\"dataframe\">\n",
       "  <thead>\n",
       "    <tr style=\"text-align: right;\">\n",
       "      <th></th>\n",
       "      <th>business_id</th>\n",
       "      <th>categories</th>\n",
       "      <th>city</th>\n",
       "      <th>name</th>\n",
       "      <th>review_count</th>\n",
       "      <th>star_avg</th>\n",
       "      <th>state</th>\n",
       "      <th>categories_list</th>\n",
       "    </tr>\n",
       "  </thead>\n",
       "  <tbody>\n",
       "    <tr>\n",
       "      <th>0</th>\n",
       "      <td>AjEbIBw6ZFfln7ePHha9PA</td>\n",
       "      <td>chicken wings, burgers, caterers, street vendo...</td>\n",
       "      <td>Henderson</td>\n",
       "      <td>CK'S BBQ &amp; Catering</td>\n",
       "      <td>3</td>\n",
       "      <td>4.5</td>\n",
       "      <td>NV</td>\n",
       "      <td>[chicken wings,  burgers,  caterers,  street v...</td>\n",
       "    </tr>\n",
       "    <tr>\n",
       "      <th>1</th>\n",
       "      <td>bFzdJJ3wp3PZssNEsyU23g</td>\n",
       "      <td>insurance, financial services</td>\n",
       "      <td>Phoenix</td>\n",
       "      <td>Geico Insurance</td>\n",
       "      <td>8</td>\n",
       "      <td>1.5</td>\n",
       "      <td>AZ</td>\n",
       "      <td>[insurance,  financial services]</td>\n",
       "    </tr>\n",
       "    <tr>\n",
       "      <th>2</th>\n",
       "      <td>45bWSZtniwPRiqlivpS8Og</td>\n",
       "      <td>coffee &amp; tea, food</td>\n",
       "      <td>Phoenix</td>\n",
       "      <td>The Coffee Bean &amp; Tea Leaf</td>\n",
       "      <td>63</td>\n",
       "      <td>4.0</td>\n",
       "      <td>AZ</td>\n",
       "      <td>[coffee &amp; tea,  food]</td>\n",
       "    </tr>\n",
       "    <tr>\n",
       "      <th>3</th>\n",
       "      <td>8-NRKkPY1UiFXW20WXKiXg</td>\n",
       "      <td>mexican, restaurants</td>\n",
       "      <td>Avondale</td>\n",
       "      <td>Filiberto's Mexican Food</td>\n",
       "      <td>40</td>\n",
       "      <td>2.5</td>\n",
       "      <td>AZ</td>\n",
       "      <td>[mexican,  restaurants]</td>\n",
       "    </tr>\n",
       "    <tr>\n",
       "      <th>4</th>\n",
       "      <td>UTm5QZThPQlT35mkAcGOjg</td>\n",
       "      <td>flowers &amp; gifts, gift shops, shopping</td>\n",
       "      <td>Pittsburgh</td>\n",
       "      <td>Maggie &amp; Stella's Gifts</td>\n",
       "      <td>3</td>\n",
       "      <td>3.5</td>\n",
       "      <td>PA</td>\n",
       "      <td>[flowers &amp; gifts,  gift shops,  shopping]</td>\n",
       "    </tr>\n",
       "  </tbody>\n",
       "</table>\n",
       "</div>"
      ],
      "text/plain": [
       "              business_id                                         categories  \\\n",
       "0  AjEbIBw6ZFfln7ePHha9PA  chicken wings, burgers, caterers, street vendo...   \n",
       "1  bFzdJJ3wp3PZssNEsyU23g                      insurance, financial services   \n",
       "2  45bWSZtniwPRiqlivpS8Og                                 coffee & tea, food   \n",
       "3  8-NRKkPY1UiFXW20WXKiXg                               mexican, restaurants   \n",
       "4  UTm5QZThPQlT35mkAcGOjg              flowers & gifts, gift shops, shopping   \n",
       "\n",
       "         city                        name  review_count  star_avg state  \\\n",
       "0   Henderson         CK'S BBQ & Catering             3       4.5    NV   \n",
       "1     Phoenix             Geico Insurance             8       1.5    AZ   \n",
       "2     Phoenix  The Coffee Bean & Tea Leaf            63       4.0    AZ   \n",
       "3    Avondale    Filiberto's Mexican Food            40       2.5    AZ   \n",
       "4  Pittsburgh     Maggie & Stella's Gifts             3       3.5    PA   \n",
       "\n",
       "                                     categories_list  \n",
       "0  [chicken wings,  burgers,  caterers,  street v...  \n",
       "1                   [insurance,  financial services]  \n",
       "2                              [coffee & tea,  food]  \n",
       "3                            [mexican,  restaurants]  \n",
       "4          [flowers & gifts,  gift shops,  shopping]  "
      ]
     },
     "execution_count": 29,
     "metadata": {},
     "output_type": "execute_result"
    }
   ],
   "source": [
    "df.head()"
   ]
  },
  {
   "cell_type": "code",
   "execution_count": 30,
   "metadata": {},
   "outputs": [
    {
     "name": "stdout",
     "output_type": "stream",
     "text": [
      "CPU times: user 5.94 s, sys: 15.6 ms, total: 5.95 s\n",
      "Wall time: 5.93 s\n"
     ]
    }
   ],
   "source": [
    "%%time\n",
    "# make sure that categories_list shows up as a list not as a string of lists\n",
    "counts = dict()\n",
    "for i in range(len(df.categories_list)):\n",
    "    for j in df.categories_list[i]:\n",
    "        j= j.lstrip()\n",
    "        counts[j] = counts.get(j, 0) + 1\n",
    "        \n",
    "cat_reviews = pd.DataFrame.from_dict(counts,columns=['total_reviews'],orient='index')\n",
    "cat_reviews.sort_values(by=['total_reviews'], ascending=False, inplace=True)"
   ]
  },
  {
   "cell_type": "code",
   "execution_count": 31,
   "metadata": {},
   "outputs": [
    {
     "name": "stdout",
     "output_type": "stream",
     "text": [
      "<class 'pandas.core.frame.DataFrame'>\n",
      "Index: 1275 entries, restaurants to makerspaces\n",
      "Data columns (total 1 columns):\n",
      "total_reviews    1275 non-null int64\n",
      "dtypes: int64(1)\n",
      "memory usage: 19.9+ KB\n"
     ]
    }
   ],
   "source": [
    "cat_reviews.info()"
   ]
  },
  {
   "cell_type": "code",
   "execution_count": 32,
   "metadata": {},
   "outputs": [
    {
     "data": {
      "text/html": [
       "<div>\n",
       "<style scoped>\n",
       "    .dataframe tbody tr th:only-of-type {\n",
       "        vertical-align: middle;\n",
       "    }\n",
       "\n",
       "    .dataframe tbody tr th {\n",
       "        vertical-align: top;\n",
       "    }\n",
       "\n",
       "    .dataframe thead th {\n",
       "        text-align: right;\n",
       "    }\n",
       "</style>\n",
       "<table border=\"1\" class=\"dataframe\">\n",
       "  <thead>\n",
       "    <tr style=\"text-align: right;\">\n",
       "      <th></th>\n",
       "      <th>total_reviews</th>\n",
       "    </tr>\n",
       "  </thead>\n",
       "  <tbody>\n",
       "    <tr>\n",
       "      <th>restaurants</th>\n",
       "      <td>34385</td>\n",
       "    </tr>\n",
       "    <tr>\n",
       "      <th>shopping</th>\n",
       "      <td>23189</td>\n",
       "    </tr>\n",
       "    <tr>\n",
       "      <th>food</th>\n",
       "      <td>17326</td>\n",
       "    </tr>\n",
       "    <tr>\n",
       "      <th>home services</th>\n",
       "      <td>17282</td>\n",
       "    </tr>\n",
       "    <tr>\n",
       "      <th>beauty &amp; spas</th>\n",
       "      <td>14621</td>\n",
       "    </tr>\n",
       "    <tr>\n",
       "      <th>health &amp; medical</th>\n",
       "      <td>14061</td>\n",
       "    </tr>\n",
       "    <tr>\n",
       "      <th>local services</th>\n",
       "      <td>11088</td>\n",
       "    </tr>\n",
       "    <tr>\n",
       "      <th>automotive</th>\n",
       "      <td>10866</td>\n",
       "    </tr>\n",
       "    <tr>\n",
       "      <th>nightlife</th>\n",
       "      <td>8487</td>\n",
       "    </tr>\n",
       "    <tr>\n",
       "      <th>event planning &amp; services</th>\n",
       "      <td>7546</td>\n",
       "    </tr>\n",
       "  </tbody>\n",
       "</table>\n",
       "</div>"
      ],
      "text/plain": [
       "                           total_reviews\n",
       "restaurants                        34385\n",
       "shopping                           23189\n",
       "food                               17326\n",
       "home services                      17282\n",
       "beauty & spas                      14621\n",
       "health & medical                   14061\n",
       "local services                     11088\n",
       "automotive                         10866\n",
       "nightlife                           8487\n",
       "event planning & services           7546"
      ]
     },
     "execution_count": 32,
     "metadata": {},
     "output_type": "execute_result"
    }
   ],
   "source": [
    "cat_reviews[:10]"
   ]
  },
  {
   "cell_type": "markdown",
   "metadata": {},
   "source": [
    "## Healthcare related\n",
    "https://www.yelp.com/developers/documentation/v3/category_list\n",
    "- select only healthcare related business\n",
    "\n",
    "## out of 140, remove unrelated\n",
    "- primary care\n",
    "- specialist\n",
    "- hospital\n",
    "- clinic\n",
    "- mental health\n",
    "\n",
    "\n",
    "no dentist\n",
    "no eyecare"
   ]
  },
  {
   "cell_type": "code",
   "execution_count": 33,
   "metadata": {},
   "outputs": [],
   "source": [
    "ll = '''Behavior Analysts\n",
    "Chiropractors\n",
    "Counseling & Mental Health\n",
    "Psychologists\n",
    "Sex Therapists\n",
    "Cryotherapy\n",
    "Diagnostic Services\n",
    "Diagnostic Imaging\n",
    "Laboratory Testing\n",
    "Dialysis Clinics\n",
    "Doctors\n",
    "Addiction Medicine\n",
    "Allergists\n",
    "Anesthesiologists\n",
    "Audiologist\n",
    "Cardiologists\n",
    "Cosmetic Surgeons\n",
    "Dermatologists\n",
    "Ear Nose & Throat\n",
    "Emergency Medicine\n",
    "Endocrinologists\n",
    "Family Practice\n",
    "Fertility\n",
    "Gastroenterologist\n",
    "Geneticists\n",
    "Gerontologists\n",
    "Hepatologists\n",
    "Hospitalists\n",
    "Immunodermatologists\n",
    "Infectious Disease Specialists\n",
    "Internal Medicine\n",
    "Neurologist\n",
    "Neuropathologists\n",
    "Neurotologists\n",
    "Obstetricians & Gynecologists\n",
    "Oncologist\n",
    "Ophthalmologists\n",
    "Orthopedists\n",
    "Osteopathic Physicians\n",
    "Otologists\n",
    "Pain Management\n",
    "Pathologists\n",
    "Pediatricians\n",
    "Phlebologists\n",
    "Plastic Surgeons\n",
    "Podiatrists\n",
    "Preventive Medicine\n",
    "Proctologists\n",
    "Psychiatrists\n",
    "Pulmonologist\n",
    "Radiologists\n",
    "Rheumatologists\n",
    "Spine Surgeons\n",
    "Surgeons\n",
    "Toxicologists\n",
    "Urologists\n",
    "Vascular Medicine\n",
    "Emergency Rooms\n",
    "Habilitative Services\n",
    "Hearing Aid Providers\n",
    "Hospitals\n",
    "Hypnosis/Hypnotherapy\n",
    "Lactation Services\n",
    "Medical Centers\n",
    "Walk-in Clinics\n",
    "Memory Care\n",
    "Nurse Practitioner\n",
    "Nutritionists\n",
    "Optometrists\n",
    "Organ & Tissue Donor Services\n",
    "Orthotics\n",
    "Physical Therapy\n",
    "Placenta Encapsulations\n",
    "Prenatal/Perinatal Care\n",
    "Prosthetics\n",
    "Prosthodontists\n",
    "Reflexology\n",
    "Rehabilitation Center\n",
    "Skilled Nursing\n",
    "Speech Therapists\n",
    "Sperm Clinic\n",
    "Ultrasound Imaging Centers\n",
    "Urgent Care'''"
   ]
  },
  {
   "cell_type": "code",
   "execution_count": 34,
   "metadata": {},
   "outputs": [],
   "source": [
    "ll = ll.lower()\n",
    "health_list  = ll.split('\\n')"
   ]
  },
  {
   "cell_type": "code",
   "execution_count": 35,
   "metadata": {},
   "outputs": [
    {
     "data": {
      "text/plain": [
       "83"
      ]
     },
     "execution_count": 35,
     "metadata": {},
     "output_type": "execute_result"
    }
   ],
   "source": [
    "len(health_list)"
   ]
  },
  {
   "cell_type": "code",
   "execution_count": 36,
   "metadata": {},
   "outputs": [
    {
     "data": {
      "text/plain": [
       "['behavior analysts',\n",
       " 'chiropractors',\n",
       " 'counseling & mental health',\n",
       " 'psychologists',\n",
       " 'sex therapists',\n",
       " 'cryotherapy',\n",
       " 'diagnostic services',\n",
       " 'diagnostic imaging',\n",
       " 'laboratory testing',\n",
       " 'dialysis clinics']"
      ]
     },
     "execution_count": 36,
     "metadata": {},
     "output_type": "execute_result"
    }
   ],
   "source": [
    "health_list[:10]"
   ]
  },
  {
   "cell_type": "markdown",
   "metadata": {},
   "source": [
    "## Create new dataframe with only healthcare categories"
   ]
  },
  {
   "cell_type": "code",
   "execution_count": 37,
   "metadata": {},
   "outputs": [],
   "source": [
    "health = df[df['categories'].apply(lambda x: pd.Series(x.split(', ')).isin(health_list).any())]"
   ]
  },
  {
   "cell_type": "code",
   "execution_count": 38,
   "metadata": {},
   "outputs": [],
   "source": [
    "health= health.reset_index(drop=True) # reset index"
   ]
  },
  {
   "cell_type": "code",
   "execution_count": 39,
   "metadata": {},
   "outputs": [
    {
     "name": "stdout",
     "output_type": "stream",
     "text": [
      "<class 'pandas.core.frame.DataFrame'>\n",
      "RangeIndex: 8850 entries, 0 to 8849\n",
      "Data columns (total 8 columns):\n",
      "business_id        8850 non-null object\n",
      "categories         8850 non-null object\n",
      "city               8850 non-null object\n",
      "name               8850 non-null object\n",
      "review_count       8850 non-null int64\n",
      "star_avg           8850 non-null float64\n",
      "state              8850 non-null object\n",
      "categories_list    8850 non-null object\n",
      "dtypes: float64(1), int64(1), object(6)\n",
      "memory usage: 553.2+ KB\n"
     ]
    }
   ],
   "source": [
    "health.info()"
   ]
  },
  {
   "cell_type": "code",
   "execution_count": 41,
   "metadata": {},
   "outputs": [
    {
     "data": {
      "text/html": [
       "<div>\n",
       "<style scoped>\n",
       "    .dataframe tbody tr th:only-of-type {\n",
       "        vertical-align: middle;\n",
       "    }\n",
       "\n",
       "    .dataframe tbody tr th {\n",
       "        vertical-align: top;\n",
       "    }\n",
       "\n",
       "    .dataframe thead th {\n",
       "        text-align: right;\n",
       "    }\n",
       "</style>\n",
       "<table border=\"1\" class=\"dataframe\">\n",
       "  <thead>\n",
       "    <tr style=\"text-align: right;\">\n",
       "      <th></th>\n",
       "      <th>business_id</th>\n",
       "      <th>categories</th>\n",
       "      <th>city</th>\n",
       "      <th>name</th>\n",
       "      <th>review_count</th>\n",
       "      <th>star_avg</th>\n",
       "      <th>state</th>\n",
       "      <th>categories_list</th>\n",
       "    </tr>\n",
       "  </thead>\n",
       "  <tbody>\n",
       "    <tr>\n",
       "      <th>0</th>\n",
       "      <td>pbluh-ZZi_i8XlprfWB1nQ</td>\n",
       "      <td>health &amp; medical, hair salons, skin care, hair...</td>\n",
       "      <td>Cave Creek</td>\n",
       "      <td>Pamper Me Perfect Beauty &amp; Wellness</td>\n",
       "      <td>12</td>\n",
       "      <td>4.5</td>\n",
       "      <td>AZ</td>\n",
       "      <td>[health &amp; medical,  hair salons,  skin care,  ...</td>\n",
       "    </tr>\n",
       "    <tr>\n",
       "      <th>1</th>\n",
       "      <td>iTZDPTc36guXhNhoK-jwmw</td>\n",
       "      <td>health &amp; medical, physical therapy, retirement...</td>\n",
       "      <td>Gilbert</td>\n",
       "      <td>Wellsprings of Gilbert</td>\n",
       "      <td>4</td>\n",
       "      <td>5.0</td>\n",
       "      <td>AZ</td>\n",
       "      <td>[health &amp; medical,  physical therapy,  retirem...</td>\n",
       "    </tr>\n",
       "  </tbody>\n",
       "</table>\n",
       "</div>"
      ],
      "text/plain": [
       "              business_id                                         categories  \\\n",
       "0  pbluh-ZZi_i8XlprfWB1nQ  health & medical, hair salons, skin care, hair...   \n",
       "1  iTZDPTc36guXhNhoK-jwmw  health & medical, physical therapy, retirement...   \n",
       "\n",
       "         city                                 name  review_count  star_avg  \\\n",
       "0  Cave Creek  Pamper Me Perfect Beauty & Wellness            12       4.5   \n",
       "1     Gilbert               Wellsprings of Gilbert             4       5.0   \n",
       "\n",
       "  state                                    categories_list  \n",
       "0    AZ  [health & medical,  hair salons,  skin care,  ...  \n",
       "1    AZ  [health & medical,  physical therapy,  retirem...  "
      ]
     },
     "execution_count": 41,
     "metadata": {},
     "output_type": "execute_result"
    }
   ],
   "source": [
    "health.head(2)"
   ]
  },
  {
   "cell_type": "markdown",
   "metadata": {},
   "source": [
    "## Count categories again"
   ]
  },
  {
   "cell_type": "code",
   "execution_count": 42,
   "metadata": {},
   "outputs": [
    {
     "name": "stdout",
     "output_type": "stream",
     "text": [
      "CPU times: user 391 ms, sys: 0 ns, total: 391 ms\n",
      "Wall time: 400 ms\n"
     ]
    }
   ],
   "source": [
    "%%time\n",
    "# make sure that categories_list shows up as a list not as a string of lists\n",
    "counts = dict()\n",
    "for i in range(len(health.categories_list)):\n",
    "    for j in health.categories_list[i]:\n",
    "        j= j.lstrip()\n",
    "        counts[j] = counts.get(j, 0) + 1\n",
    "        \n",
    "cat_reviews2 = pd.DataFrame.from_dict(counts,columns=['total_reviews'],orient='index')\n",
    "cat_reviews2.sort_values(by=['total_reviews'], ascending=False, inplace=True)"
   ]
  },
  {
   "cell_type": "code",
   "execution_count": 43,
   "metadata": {},
   "outputs": [
    {
     "data": {
      "text/plain": [
       "466"
      ]
     },
     "execution_count": 43,
     "metadata": {},
     "output_type": "execute_result"
    }
   ],
   "source": [
    "len(cat_reviews2)"
   ]
  },
  {
   "cell_type": "code",
   "execution_count": 44,
   "metadata": {},
   "outputs": [
    {
     "data": {
      "text/html": [
       "<div>\n",
       "<style scoped>\n",
       "    .dataframe tbody tr th:only-of-type {\n",
       "        vertical-align: middle;\n",
       "    }\n",
       "\n",
       "    .dataframe tbody tr th {\n",
       "        vertical-align: top;\n",
       "    }\n",
       "\n",
       "    .dataframe thead th {\n",
       "        text-align: right;\n",
       "    }\n",
       "</style>\n",
       "<table border=\"1\" class=\"dataframe\">\n",
       "  <thead>\n",
       "    <tr style=\"text-align: right;\">\n",
       "      <th></th>\n",
       "      <th>total_reviews</th>\n",
       "    </tr>\n",
       "  </thead>\n",
       "  <tbody>\n",
       "    <tr>\n",
       "      <th>health &amp; medical</th>\n",
       "      <td>8850</td>\n",
       "    </tr>\n",
       "    <tr>\n",
       "      <th>doctors</th>\n",
       "      <td>5011</td>\n",
       "    </tr>\n",
       "    <tr>\n",
       "      <th>medical centers</th>\n",
       "      <td>1284</td>\n",
       "    </tr>\n",
       "    <tr>\n",
       "      <th>beauty &amp; spas</th>\n",
       "      <td>1114</td>\n",
       "    </tr>\n",
       "    <tr>\n",
       "      <th>chiropractors</th>\n",
       "      <td>1105</td>\n",
       "    </tr>\n",
       "    <tr>\n",
       "      <th>optometrists</th>\n",
       "      <td>1004</td>\n",
       "    </tr>\n",
       "    <tr>\n",
       "      <th>shopping</th>\n",
       "      <td>909</td>\n",
       "    </tr>\n",
       "    <tr>\n",
       "      <th>physical therapy</th>\n",
       "      <td>757</td>\n",
       "    </tr>\n",
       "    <tr>\n",
       "      <th>massage therapy</th>\n",
       "      <td>704</td>\n",
       "    </tr>\n",
       "    <tr>\n",
       "      <th>eyewear &amp; opticians</th>\n",
       "      <td>675</td>\n",
       "    </tr>\n",
       "  </tbody>\n",
       "</table>\n",
       "</div>"
      ],
      "text/plain": [
       "                     total_reviews\n",
       "health & medical              8850\n",
       "doctors                       5011\n",
       "medical centers               1284\n",
       "beauty & spas                 1114\n",
       "chiropractors                 1105\n",
       "optometrists                  1004\n",
       "shopping                       909\n",
       "physical therapy               757\n",
       "massage therapy                704\n",
       "eyewear & opticians            675"
      ]
     },
     "execution_count": 44,
     "metadata": {},
     "output_type": "execute_result"
    }
   ],
   "source": [
    "cat_reviews2[:10]"
   ]
  },
  {
   "cell_type": "markdown",
   "metadata": {},
   "source": [
    "## Create list"
   ]
  },
  {
   "cell_type": "code",
   "execution_count": 45,
   "metadata": {},
   "outputs": [],
   "source": [
    "h_list = list(cat_reviews2.iloc[:].index)"
   ]
  },
  {
   "cell_type": "code",
   "execution_count": 46,
   "metadata": {},
   "outputs": [
    {
     "data": {
      "text/plain": [
       "466"
      ]
     },
     "execution_count": 46,
     "metadata": {},
     "output_type": "execute_result"
    }
   ],
   "source": [
    "len(h_list)"
   ]
  },
  {
   "cell_type": "code",
   "execution_count": 47,
   "metadata": {},
   "outputs": [
    {
     "data": {
      "text/plain": [
       "['health & medical',\n",
       " 'doctors',\n",
       " 'medical centers',\n",
       " 'beauty & spas',\n",
       " 'chiropractors',\n",
       " 'optometrists',\n",
       " 'shopping',\n",
       " 'physical therapy',\n",
       " 'massage therapy',\n",
       " 'eyewear & opticians']"
      ]
     },
     "execution_count": 47,
     "metadata": {},
     "output_type": "execute_result"
    }
   ],
   "source": [
    "h_list[:10]"
   ]
  },
  {
   "cell_type": "markdown",
   "metadata": {},
   "source": [
    "## What is in both list"
   ]
  },
  {
   "cell_type": "code",
   "execution_count": 48,
   "metadata": {},
   "outputs": [
    {
     "data": {
      "text/plain": [
       "79"
      ]
     },
     "execution_count": 48,
     "metadata": {},
     "output_type": "execute_result"
    }
   ],
   "source": [
    "## what is in both lists\n",
    "len(set(health_list) & set(h_list))"
   ]
  },
  {
   "cell_type": "code",
   "execution_count": 49,
   "metadata": {},
   "outputs": [
    {
     "data": {
      "text/plain": [
       "387"
      ]
     },
     "execution_count": 49,
     "metadata": {},
     "output_type": "execute_result"
    }
   ],
   "source": [
    "len(list(set(h_list) - set(health_list)))"
   ]
  },
  {
   "cell_type": "code",
   "execution_count": 50,
   "metadata": {},
   "outputs": [
    {
     "data": {
      "text/plain": [
       "['hospice',\n",
       " 'wigs',\n",
       " 'local services',\n",
       " 'sports bars',\n",
       " 'auto parts & supplies',\n",
       " 'aerial fitness',\n",
       " 'session photography',\n",
       " 'furniture stores',\n",
       " 'eyewear & opticians',\n",
       " 'boxing',\n",
       " 'wedding planning',\n",
       " 'furniture rental',\n",
       " 'transmission repair',\n",
       " 'oral surgeons',\n",
       " 'spray tanning',\n",
       " 'veterinarians',\n",
       " 'massage therapy',\n",
       " 'translation services',\n",
       " 'midwives',\n",
       " 'orthodontists',\n",
       " 'transportation',\n",
       " 'air duct cleaning',\n",
       " 'personal care services',\n",
       " 'acupuncture',\n",
       " 'osteopaths',\n",
       " 'health coach',\n",
       " 'police departments',\n",
       " 'gift shops',\n",
       " 'live/raw food',\n",
       " 'performing arts',\n",
       " 'baby gear & furniture',\n",
       " 'educational services',\n",
       " 'personal shopping',\n",
       " 'electronics',\n",
       " 'golf lessons',\n",
       " 'party supplies',\n",
       " 'venues & event spaces',\n",
       " 'uniforms',\n",
       " 'damage restoration',\n",
       " 'community service/non-profit',\n",
       " 'art galleries',\n",
       " 'personal injury law',\n",
       " 'laser hair removal',\n",
       " 'mediators',\n",
       " 'valet services',\n",
       " 'kids activities',\n",
       " 'qi gong',\n",
       " 'mobility equipment sales & services',\n",
       " 'vegetarian',\n",
       " 'cooking schools',\n",
       " 'local flavor',\n",
       " 'resorts',\n",
       " 'skin care',\n",
       " 'sports medicine',\n",
       " 'oil change stations',\n",
       " 'plumbing',\n",
       " 'department stores',\n",
       " 'meditation centers',\n",
       " 'towing',\n",
       " 'home & garden',\n",
       " 'advertising',\n",
       " 'pet services',\n",
       " 'tui na',\n",
       " 'apartments',\n",
       " 'thrift stores',\n",
       " 'airport shuttles',\n",
       " 'dui law',\n",
       " 'cupcakes',\n",
       " 'child care & day care',\n",
       " 'eyebrow services',\n",
       " 'food trucks',\n",
       " 'bars',\n",
       " 'pharmacy',\n",
       " 'legal services',\n",
       " 'medical supplies',\n",
       " 'soccer',\n",
       " 'childbirth education',\n",
       " 'lingerie',\n",
       " 'dentists',\n",
       " 'books',\n",
       " 'horse racing',\n",
       " 'permanent makeup',\n",
       " 'embroidery & crochet',\n",
       " 'animal assisted therapy',\n",
       " 'party equipment rentals',\n",
       " 'photographers',\n",
       " 'painters',\n",
       " 'desserts',\n",
       " 'sugaring',\n",
       " 'opera & ballet',\n",
       " 'tattoo',\n",
       " 'sports clubs',\n",
       " 'pets',\n",
       " 'music venues',\n",
       " 'cafes',\n",
       " 'windshield installation & repair',\n",
       " 'colonics',\n",
       " 'massage schools',\n",
       " 'art classes',\n",
       " 'sunglasses',\n",
       " 'retirement homes',\n",
       " 'swimwear',\n",
       " 'environmental testing',\n",
       " 'pet hospice',\n",
       " 'driving schools',\n",
       " 'tea rooms',\n",
       " 'herbs & spices',\n",
       " 'nightlife',\n",
       " 'water purification services',\n",
       " 'iv hydration',\n",
       " 'life coach',\n",
       " 'it services & computer repair',\n",
       " 'tanning beds',\n",
       " 'web design',\n",
       " 'feng shui',\n",
       " 'lawyers',\n",
       " 'undersea/hyperbaric medicine',\n",
       " 'security services',\n",
       " 'fruits & veggies',\n",
       " 'piercing',\n",
       " 'challenge courses',\n",
       " 'mags',\n",
       " 'mountain biking',\n",
       " 'diners',\n",
       " 'social security law',\n",
       " 'rolfing',\n",
       " 'gyms',\n",
       " 'officiants',\n",
       " 'body contouring',\n",
       " 'arts & entertainment',\n",
       " 'kickboxing',\n",
       " 'discount store',\n",
       " 'supernatural readings',\n",
       " 'breakfast & brunch',\n",
       " 'auto repair',\n",
       " 'hotels & travel',\n",
       " 'coffee & tea',\n",
       " 'sushi bars',\n",
       " 'caterers',\n",
       " 'tattoo removal',\n",
       " 'teeth whitening',\n",
       " 'specialty food',\n",
       " 'food delivery services',\n",
       " 'furniture repair',\n",
       " 'waxing',\n",
       " 'fitness/exercise equipment',\n",
       " 'talent agencies',\n",
       " 'oxygen bars',\n",
       " 'fashion',\n",
       " 'real estate services',\n",
       " 'swimming pools',\n",
       " 'organic stores',\n",
       " 'dietitians',\n",
       " 'first aid classes',\n",
       " 'jewelry',\n",
       " 'alternative medicine',\n",
       " 'saunas',\n",
       " 'data recovery',\n",
       " 'nephrologists',\n",
       " 'flowers & gifts',\n",
       " \"men's hair salons\",\n",
       " 'interval training gyms',\n",
       " 'wedding chapels',\n",
       " 'hair loss centers',\n",
       " 'home inspectors',\n",
       " 'pet stores',\n",
       " 'vacation rentals',\n",
       " 'medical spas',\n",
       " 'mobile phones',\n",
       " 'trainers',\n",
       " 'cosmetic dentists',\n",
       " 'emergency pet hospital',\n",
       " 'reiki',\n",
       " 'hiking',\n",
       " 'holistic animal care',\n",
       " 'cannabis collective',\n",
       " 'do-it-yourself food',\n",
       " 'cpr classes',\n",
       " 'social clubs',\n",
       " 'gluten-free',\n",
       " 'hair extensions',\n",
       " 'real estate',\n",
       " 'endodontists',\n",
       " 'mass media',\n",
       " 'cannabis tours',\n",
       " 'chimney sweeps',\n",
       " 'taekwondo',\n",
       " 'elder care planning',\n",
       " 'event photography',\n",
       " 'bridal',\n",
       " 'candy stores',\n",
       " 'blood & plasma donation centers',\n",
       " 'financial services',\n",
       " 'amusement parks',\n",
       " 'career counseling',\n",
       " 'pet groomers',\n",
       " 'music & video',\n",
       " 'golf',\n",
       " 'vocational & technical school',\n",
       " 'appliances',\n",
       " 'car dealers',\n",
       " 'barbers',\n",
       " 'notaries',\n",
       " 'halotherapy',\n",
       " 'ayurveda',\n",
       " 'tobacco shops',\n",
       " 'tanning',\n",
       " 'heating & air conditioning/hvac',\n",
       " 'health insurance offices',\n",
       " 'sports psychologists',\n",
       " 'pet boarding',\n",
       " 'livestock feed & supply',\n",
       " 'aestheticians',\n",
       " 'colleges & universities',\n",
       " 'laser eye surgery/lasik',\n",
       " 'real estate agents',\n",
       " 'tours',\n",
       " 'private investigation',\n",
       " 'hotels',\n",
       " 'vegan',\n",
       " 'junk removal & hauling',\n",
       " 'adult entertainment',\n",
       " 'sporting goods',\n",
       " 'float spa',\n",
       " 'traditional chinese medicine',\n",
       " 'nail salons',\n",
       " 'religious schools',\n",
       " 'food',\n",
       " \"children's clothing\",\n",
       " 'head shops',\n",
       " 'adult',\n",
       " 'horseback riding',\n",
       " 'party & event planning',\n",
       " 'barre classes',\n",
       " 'divorce & family law',\n",
       " 'videographers',\n",
       " 'building supplies',\n",
       " 'home decor',\n",
       " 'health markets',\n",
       " 'nanny services',\n",
       " 'shopping centers',\n",
       " 'tai chi',\n",
       " 'arts & crafts',\n",
       " 'paddleboarding',\n",
       " 'mediterranean',\n",
       " 'preschools',\n",
       " 'self storage',\n",
       " 'makeup artists',\n",
       " 'cosmetology schools',\n",
       " 'lice services',\n",
       " \"men's clothing\",\n",
       " 'magicians',\n",
       " 'dental hygienists',\n",
       " 'weight loss centers',\n",
       " 'day spas',\n",
       " 'home health care',\n",
       " 'retina specialists',\n",
       " 'psychics',\n",
       " 'language schools',\n",
       " 'herbal shops',\n",
       " 'disc golf',\n",
       " 'vitamins & supplements',\n",
       " 'concierge medicine',\n",
       " 'home services',\n",
       " 'sleep specialists',\n",
       " 'adult education',\n",
       " 'acne treatment',\n",
       " 'hair salons',\n",
       " 'office equipment',\n",
       " 'community centers',\n",
       " 'art tours',\n",
       " 'religious organizations',\n",
       " 'team building activities',\n",
       " 'massage',\n",
       " 'tutoring centers',\n",
       " 'leisure centers',\n",
       " 'boot camps',\n",
       " 'psychic mediums',\n",
       " 'juice bars & smoothies',\n",
       " 'churches',\n",
       " 'animal physical therapy',\n",
       " 'telecommunications',\n",
       " 'car stereo installation',\n",
       " 'grocery',\n",
       " 'climbing',\n",
       " 'convenience stores',\n",
       " 'public transportation',\n",
       " 'personal assistants',\n",
       " 'yoga',\n",
       " 'security systems',\n",
       " 'travel services',\n",
       " 'television stations',\n",
       " 'home organization',\n",
       " 'customized merchandise',\n",
       " 'american (traditional)',\n",
       " 'cooking classes',\n",
       " 'fingerprinting',\n",
       " 'photography stores & services',\n",
       " 'movers',\n",
       " 'appliances & repair',\n",
       " 'pizza',\n",
       " 'cosmetics & beauty supply',\n",
       " 'disability law',\n",
       " 'pet training',\n",
       " 'shoe repair',\n",
       " 'cannabis dispensaries',\n",
       " 'beverage store',\n",
       " 'hair stylists',\n",
       " 'accessories',\n",
       " 'pet sitting',\n",
       " 'veterans organizations',\n",
       " 'restaurants',\n",
       " 'cardio classes',\n",
       " 'salad',\n",
       " 'medical cannabis referrals',\n",
       " 'pet insurance',\n",
       " 'shopping',\n",
       " 'nail technicians',\n",
       " 'hydrotherapy',\n",
       " 'outdoor gear',\n",
       " 'cycling classes',\n",
       " 'batting cages',\n",
       " 'medical transportation',\n",
       " 'personal chefs',\n",
       " 'specialty schools',\n",
       " 'bankruptcy law',\n",
       " 'video/film production',\n",
       " 'public services & government',\n",
       " 'maternity wear',\n",
       " 'special education',\n",
       " 'health retreats',\n",
       " 'estheticians',\n",
       " 'insurance',\n",
       " 'sports wear',\n",
       " 'occupational therapy',\n",
       " 'active life',\n",
       " 'general dentistry',\n",
       " 'general litigation',\n",
       " 'beauty & spas',\n",
       " 'fitness & instruction',\n",
       " 'farmers market',\n",
       " 'doulas',\n",
       " 'threading services',\n",
       " 'gymnastics',\n",
       " 'assisted living facilities',\n",
       " 'contractors',\n",
       " 'pilates',\n",
       " 'recreation centers',\n",
       " 'naturopathic/holistic',\n",
       " 'water heater installation/repair',\n",
       " 'international grocery',\n",
       " 'adoption services',\n",
       " 'spiritual shop',\n",
       " 'health & medical',\n",
       " 'circuit training gyms',\n",
       " 'amateur sports teams',\n",
       " 'pediatric dentists',\n",
       " 'education',\n",
       " 'professional services',\n",
       " 'taxis',\n",
       " 'eyelash service',\n",
       " 'criminal defense law',\n",
       " 'american (new)',\n",
       " 'drugstores',\n",
       " 'shoe stores',\n",
       " 'business consulting',\n",
       " 'halfway houses',\n",
       " 'cannabis clinics',\n",
       " 'hair removal',\n",
       " 'senior centers',\n",
       " 'employment agencies',\n",
       " 'vape shops',\n",
       " 'martial arts',\n",
       " 'sandwiches',\n",
       " 'tapas/small plates',\n",
       " 'parenting classes',\n",
       " 'automotive',\n",
       " 'hearing aids',\n",
       " 'ticket sales',\n",
       " 'furniture assembly',\n",
       " 'periodontists',\n",
       " 'landscaping',\n",
       " 'wholesale stores',\n",
       " 'event planning & services',\n",
       " \"women's clothing\",\n",
       " 'college counseling',\n",
       " 'bookstores']"
      ]
     },
     "execution_count": 50,
     "metadata": {},
     "output_type": "execute_result"
    }
   ],
   "source": [
    "list(set(h_list) - set(health_list))"
   ]
  },
  {
   "cell_type": "code",
   "execution_count": 51,
   "metadata": {},
   "outputs": [],
   "source": [
    "remove =  list(set(h_list) - set(health_list))\n",
    "remove.remove('health & medical')  # we need it"
   ]
  },
  {
   "cell_type": "markdown",
   "metadata": {},
   "source": [
    "## create new dataframe with unwanted items"
   ]
  },
  {
   "cell_type": "code",
   "execution_count": 52,
   "metadata": {},
   "outputs": [
    {
     "name": "stdout",
     "output_type": "stream",
     "text": [
      "CPU times: user 4.02 s, sys: 15.6 ms, total: 4.03 s\n",
      "Wall time: 4 s\n"
     ]
    }
   ],
   "source": [
    "%%time\n",
    "remove_health = health[health['categories'].apply(lambda x: pd.Series(x.split(', ')).isin(remove).any())]"
   ]
  },
  {
   "cell_type": "code",
   "execution_count": 53,
   "metadata": {},
   "outputs": [
    {
     "name": "stdout",
     "output_type": "stream",
     "text": [
      "<class 'pandas.core.frame.DataFrame'>\n",
      "Int64Index: 4065 entries, 0 to 8848\n",
      "Data columns (total 8 columns):\n",
      "business_id        4065 non-null object\n",
      "categories         4065 non-null object\n",
      "city               4065 non-null object\n",
      "name               4065 non-null object\n",
      "review_count       4065 non-null int64\n",
      "star_avg           4065 non-null float64\n",
      "state              4065 non-null object\n",
      "categories_list    4065 non-null object\n",
      "dtypes: float64(1), int64(1), object(6)\n",
      "memory usage: 285.8+ KB\n"
     ]
    }
   ],
   "source": [
    "remove_health.info()"
   ]
  },
  {
   "cell_type": "code",
   "execution_count": 54,
   "metadata": {},
   "outputs": [
    {
     "data": {
      "text/html": [
       "<div>\n",
       "<style scoped>\n",
       "    .dataframe tbody tr th:only-of-type {\n",
       "        vertical-align: middle;\n",
       "    }\n",
       "\n",
       "    .dataframe tbody tr th {\n",
       "        vertical-align: top;\n",
       "    }\n",
       "\n",
       "    .dataframe thead th {\n",
       "        text-align: right;\n",
       "    }\n",
       "</style>\n",
       "<table border=\"1\" class=\"dataframe\">\n",
       "  <thead>\n",
       "    <tr style=\"text-align: right;\">\n",
       "      <th></th>\n",
       "      <th>business_id</th>\n",
       "      <th>categories</th>\n",
       "      <th>city</th>\n",
       "      <th>name</th>\n",
       "      <th>review_count</th>\n",
       "      <th>star_avg</th>\n",
       "      <th>state</th>\n",
       "      <th>categories_list</th>\n",
       "    </tr>\n",
       "  </thead>\n",
       "  <tbody>\n",
       "    <tr>\n",
       "      <th>0</th>\n",
       "      <td>pbluh-ZZi_i8XlprfWB1nQ</td>\n",
       "      <td>health &amp; medical, hair salons, skin care, hair...</td>\n",
       "      <td>Cave Creek</td>\n",
       "      <td>Pamper Me Perfect Beauty &amp; Wellness</td>\n",
       "      <td>12</td>\n",
       "      <td>4.5</td>\n",
       "      <td>AZ</td>\n",
       "      <td>[health &amp; medical,  hair salons,  skin care,  ...</td>\n",
       "    </tr>\n",
       "    <tr>\n",
       "      <th>1</th>\n",
       "      <td>iTZDPTc36guXhNhoK-jwmw</td>\n",
       "      <td>health &amp; medical, physical therapy, retirement...</td>\n",
       "      <td>Gilbert</td>\n",
       "      <td>Wellsprings of Gilbert</td>\n",
       "      <td>4</td>\n",
       "      <td>5.0</td>\n",
       "      <td>AZ</td>\n",
       "      <td>[health &amp; medical,  physical therapy,  retirem...</td>\n",
       "    </tr>\n",
       "  </tbody>\n",
       "</table>\n",
       "</div>"
      ],
      "text/plain": [
       "              business_id                                         categories  \\\n",
       "0  pbluh-ZZi_i8XlprfWB1nQ  health & medical, hair salons, skin care, hair...   \n",
       "1  iTZDPTc36guXhNhoK-jwmw  health & medical, physical therapy, retirement...   \n",
       "\n",
       "         city                                 name  review_count  star_avg  \\\n",
       "0  Cave Creek  Pamper Me Perfect Beauty & Wellness            12       4.5   \n",
       "1     Gilbert               Wellsprings of Gilbert             4       5.0   \n",
       "\n",
       "  state                                    categories_list  \n",
       "0    AZ  [health & medical,  hair salons,  skin care,  ...  \n",
       "1    AZ  [health & medical,  physical therapy,  retirem...  "
      ]
     },
     "execution_count": 54,
     "metadata": {},
     "output_type": "execute_result"
    }
   ],
   "source": [
    "remove_health.head(2)"
   ]
  },
  {
   "cell_type": "markdown",
   "metadata": {},
   "source": [
    "## remove rows bases on new dataframe\n",
    "- remove base on idx"
   ]
  },
  {
   "cell_type": "code",
   "execution_count": 55,
   "metadata": {},
   "outputs": [],
   "source": [
    "health.drop(remove_health.index, inplace=True)  # we are removing rows from health that are in remove_health by its index"
   ]
  },
  {
   "cell_type": "code",
   "execution_count": 56,
   "metadata": {},
   "outputs": [
    {
     "name": "stdout",
     "output_type": "stream",
     "text": [
      "<class 'pandas.core.frame.DataFrame'>\n",
      "RangeIndex: 4785 entries, 0 to 4784\n",
      "Data columns (total 8 columns):\n",
      "business_id        4785 non-null object\n",
      "categories         4785 non-null object\n",
      "city               4785 non-null object\n",
      "name               4785 non-null object\n",
      "review_count       4785 non-null int64\n",
      "star_avg           4785 non-null float64\n",
      "state              4785 non-null object\n",
      "categories_list    4785 non-null object\n",
      "dtypes: float64(1), int64(1), object(6)\n",
      "memory usage: 299.1+ KB\n"
     ]
    }
   ],
   "source": [
    "health = health.reset_index(drop=True)  # reset index\n",
    "health.info()"
   ]
  },
  {
   "cell_type": "code",
   "execution_count": 57,
   "metadata": {},
   "outputs": [
    {
     "data": {
      "text/html": [
       "<div>\n",
       "<style scoped>\n",
       "    .dataframe tbody tr th:only-of-type {\n",
       "        vertical-align: middle;\n",
       "    }\n",
       "\n",
       "    .dataframe tbody tr th {\n",
       "        vertical-align: top;\n",
       "    }\n",
       "\n",
       "    .dataframe thead th {\n",
       "        text-align: right;\n",
       "    }\n",
       "</style>\n",
       "<table border=\"1\" class=\"dataframe\">\n",
       "  <thead>\n",
       "    <tr style=\"text-align: right;\">\n",
       "      <th></th>\n",
       "      <th>business_id</th>\n",
       "      <th>categories</th>\n",
       "      <th>city</th>\n",
       "      <th>name</th>\n",
       "      <th>review_count</th>\n",
       "      <th>star_avg</th>\n",
       "      <th>state</th>\n",
       "      <th>categories_list</th>\n",
       "    </tr>\n",
       "  </thead>\n",
       "  <tbody>\n",
       "    <tr>\n",
       "      <th>0</th>\n",
       "      <td>y-4xTZNKVm8mAZpiXMS5ZA</td>\n",
       "      <td>urologists, doctors, health &amp; medical</td>\n",
       "      <td>Gilbert</td>\n",
       "      <td>Lauren Byrne, MD</td>\n",
       "      <td>9</td>\n",
       "      <td>2.5</td>\n",
       "      <td>AZ</td>\n",
       "      <td>[urologists,  doctors,  health &amp; medical]</td>\n",
       "    </tr>\n",
       "    <tr>\n",
       "      <th>1</th>\n",
       "      <td>STcSSjPOZ0FWtjvjqw99Dg</td>\n",
       "      <td>doctors, orthopedists, health &amp; medical</td>\n",
       "      <td>Henderson</td>\n",
       "      <td>Black Mountain Orthopaedics</td>\n",
       "      <td>5</td>\n",
       "      <td>3.5</td>\n",
       "      <td>NV</td>\n",
       "      <td>[doctors,  orthopedists,  health &amp; medical]</td>\n",
       "    </tr>\n",
       "  </tbody>\n",
       "</table>\n",
       "</div>"
      ],
      "text/plain": [
       "              business_id                               categories       city  \\\n",
       "0  y-4xTZNKVm8mAZpiXMS5ZA    urologists, doctors, health & medical    Gilbert   \n",
       "1  STcSSjPOZ0FWtjvjqw99Dg  doctors, orthopedists, health & medical  Henderson   \n",
       "\n",
       "                          name  review_count  star_avg state  \\\n",
       "0             Lauren Byrne, MD             9       2.5    AZ   \n",
       "1  Black Mountain Orthopaedics             5       3.5    NV   \n",
       "\n",
       "                               categories_list  \n",
       "0    [urologists,  doctors,  health & medical]  \n",
       "1  [doctors,  orthopedists,  health & medical]  "
      ]
     },
     "execution_count": 57,
     "metadata": {},
     "output_type": "execute_result"
    }
   ],
   "source": [
    "health.head(2)"
   ]
  },
  {
   "cell_type": "markdown",
   "metadata": {},
   "source": [
    "## Count categories one last time"
   ]
  },
  {
   "cell_type": "code",
   "execution_count": 58,
   "metadata": {},
   "outputs": [
    {
     "name": "stdout",
     "output_type": "stream",
     "text": [
      "CPU times: user 219 ms, sys: 0 ns, total: 219 ms\n",
      "Wall time: 215 ms\n"
     ]
    }
   ],
   "source": [
    "%%time\n",
    "# make sure that categories_list shows up as a list not as a string of lists\n",
    "counts = dict()\n",
    "for i in range(len(health.categories_list)):\n",
    "    for j in health.categories_list[i]:\n",
    "        j= j.lstrip()\n",
    "        counts[j] = counts.get(j, 0) + 1\n",
    "        \n",
    "cat_reviews3 = pd.DataFrame.from_dict(counts,columns=['total_reviews'],orient='index')\n",
    "cat_reviews3.sort_values(by=['total_reviews'], ascending=False, inplace=True)"
   ]
  },
  {
   "cell_type": "code",
   "execution_count": 59,
   "metadata": {},
   "outputs": [
    {
     "name": "stdout",
     "output_type": "stream",
     "text": [
      "<class 'pandas.core.frame.DataFrame'>\n",
      "Index: 75 entries, health & medical to otologists\n",
      "Data columns (total 1 columns):\n",
      "total_reviews    75 non-null int64\n",
      "dtypes: int64(1)\n",
      "memory usage: 1.2+ KB\n"
     ]
    }
   ],
   "source": [
    "cat_reviews3.info()"
   ]
  },
  {
   "cell_type": "code",
   "execution_count": 60,
   "metadata": {},
   "outputs": [
    {
     "data": {
      "text/html": [
       "<div>\n",
       "<style scoped>\n",
       "    .dataframe tbody tr th:only-of-type {\n",
       "        vertical-align: middle;\n",
       "    }\n",
       "\n",
       "    .dataframe tbody tr th {\n",
       "        vertical-align: top;\n",
       "    }\n",
       "\n",
       "    .dataframe thead th {\n",
       "        text-align: right;\n",
       "    }\n",
       "</style>\n",
       "<table border=\"1\" class=\"dataframe\">\n",
       "  <thead>\n",
       "    <tr style=\"text-align: right;\">\n",
       "      <th></th>\n",
       "      <th>total_reviews</th>\n",
       "    </tr>\n",
       "  </thead>\n",
       "  <tbody>\n",
       "    <tr>\n",
       "      <th>health &amp; medical</th>\n",
       "      <td>4785</td>\n",
       "    </tr>\n",
       "    <tr>\n",
       "      <th>doctors</th>\n",
       "      <td>3133</td>\n",
       "    </tr>\n",
       "    <tr>\n",
       "      <th>medical centers</th>\n",
       "      <td>795</td>\n",
       "    </tr>\n",
       "    <tr>\n",
       "      <th>chiropractors</th>\n",
       "      <td>557</td>\n",
       "    </tr>\n",
       "    <tr>\n",
       "      <th>family practice</th>\n",
       "      <td>492</td>\n",
       "    </tr>\n",
       "    <tr>\n",
       "      <th>urgent care</th>\n",
       "      <td>347</td>\n",
       "    </tr>\n",
       "    <tr>\n",
       "      <th>obstetricians &amp; gynecologists</th>\n",
       "      <td>345</td>\n",
       "    </tr>\n",
       "    <tr>\n",
       "      <th>diagnostic services</th>\n",
       "      <td>344</td>\n",
       "    </tr>\n",
       "    <tr>\n",
       "      <th>internal medicine</th>\n",
       "      <td>299</td>\n",
       "    </tr>\n",
       "    <tr>\n",
       "      <th>physical therapy</th>\n",
       "      <td>279</td>\n",
       "    </tr>\n",
       "    <tr>\n",
       "      <th>hospitals</th>\n",
       "      <td>279</td>\n",
       "    </tr>\n",
       "    <tr>\n",
       "      <th>pediatricians</th>\n",
       "      <td>276</td>\n",
       "    </tr>\n",
       "  </tbody>\n",
       "</table>\n",
       "</div>"
      ],
      "text/plain": [
       "                               total_reviews\n",
       "health & medical                        4785\n",
       "doctors                                 3133\n",
       "medical centers                          795\n",
       "chiropractors                            557\n",
       "family practice                          492\n",
       "urgent care                              347\n",
       "obstetricians & gynecologists            345\n",
       "diagnostic services                      344\n",
       "internal medicine                        299\n",
       "physical therapy                         279\n",
       "hospitals                                279\n",
       "pediatricians                            276"
      ]
     },
     "execution_count": 60,
     "metadata": {},
     "output_type": "execute_result"
    }
   ],
   "source": [
    "cat_reviews3[:12]"
   ]
  },
  {
   "cell_type": "code",
   "execution_count": 61,
   "metadata": {},
   "outputs": [
    {
     "data": {
      "text/html": [
       "<div>\n",
       "<style scoped>\n",
       "    .dataframe tbody tr th:only-of-type {\n",
       "        vertical-align: middle;\n",
       "    }\n",
       "\n",
       "    .dataframe tbody tr th {\n",
       "        vertical-align: top;\n",
       "    }\n",
       "\n",
       "    .dataframe thead th {\n",
       "        text-align: right;\n",
       "    }\n",
       "</style>\n",
       "<table border=\"1\" class=\"dataframe\">\n",
       "  <thead>\n",
       "    <tr style=\"text-align: right;\">\n",
       "      <th></th>\n",
       "      <th>total_reviews</th>\n",
       "    </tr>\n",
       "  </thead>\n",
       "  <tbody>\n",
       "    <tr>\n",
       "      <th>medical centers</th>\n",
       "      <td>795</td>\n",
       "    </tr>\n",
       "    <tr>\n",
       "      <th>chiropractors</th>\n",
       "      <td>557</td>\n",
       "    </tr>\n",
       "    <tr>\n",
       "      <th>family practice</th>\n",
       "      <td>492</td>\n",
       "    </tr>\n",
       "    <tr>\n",
       "      <th>urgent care</th>\n",
       "      <td>347</td>\n",
       "    </tr>\n",
       "    <tr>\n",
       "      <th>obstetricians &amp; gynecologists</th>\n",
       "      <td>345</td>\n",
       "    </tr>\n",
       "    <tr>\n",
       "      <th>diagnostic services</th>\n",
       "      <td>344</td>\n",
       "    </tr>\n",
       "    <tr>\n",
       "      <th>internal medicine</th>\n",
       "      <td>299</td>\n",
       "    </tr>\n",
       "    <tr>\n",
       "      <th>physical therapy</th>\n",
       "      <td>279</td>\n",
       "    </tr>\n",
       "    <tr>\n",
       "      <th>hospitals</th>\n",
       "      <td>279</td>\n",
       "    </tr>\n",
       "    <tr>\n",
       "      <th>pediatricians</th>\n",
       "      <td>276</td>\n",
       "    </tr>\n",
       "  </tbody>\n",
       "</table>\n",
       "</div>"
      ],
      "text/plain": [
       "                               total_reviews\n",
       "medical centers                          795\n",
       "chiropractors                            557\n",
       "family practice                          492\n",
       "urgent care                              347\n",
       "obstetricians & gynecologists            345\n",
       "diagnostic services                      344\n",
       "internal medicine                        299\n",
       "physical therapy                         279\n",
       "hospitals                                279\n",
       "pediatricians                            276"
      ]
     },
     "execution_count": 61,
     "metadata": {},
     "output_type": "execute_result"
    }
   ],
   "source": [
    "cat_reviews3[2:12]"
   ]
  },
  {
   "cell_type": "code",
   "execution_count": 62,
   "metadata": {},
   "outputs": [
    {
     "data": {
      "text/plain": [
       "4013"
      ]
     },
     "execution_count": 62,
     "metadata": {},
     "output_type": "execute_result"
    }
   ],
   "source": [
    "cat_reviews3[2:12].values.sum()"
   ]
  },
  {
   "cell_type": "markdown",
   "metadata": {},
   "source": [
    "## Categorise business"
   ]
  },
  {
   "cell_type": "code",
   "execution_count": 63,
   "metadata": {},
   "outputs": [],
   "source": [
    "# locations\n",
    "mc = health.categories.str.contains('medical centers') \n",
    "ho = health.categories.str.contains('hospitals')\n",
    "uc = health.categories.str.contains('urgent care')\n",
    "\n",
    "# specialist\n",
    "ch = health.categories.str.contains('chiropractors')\n",
    "fp = health.categories.str.contains('family practice')\n",
    "ob = health.categories.str.contains('obstetricians & gynecologists')\n",
    "ds = health.categories.str.contains('diagnostic services')\n",
    "im = health.categories.str.contains('internal medicine')\n",
    "pt = health.categories.str.contains('physical therapy')\n",
    "pd = health.categories.str.contains('pediatricians')\n",
    "mh = health.categories.str.contains('counseling & mental health')# counseling & mental health\t"
   ]
  },
  {
   "cell_type": "markdown",
   "metadata": {},
   "source": [
    "# Create dataframes\n",
    "- specialist :\n",
    "- locations"
   ]
  },
  {
   "cell_type": "code",
   "execution_count": 64,
   "metadata": {},
   "outputs": [],
   "source": [
    "specialist = health[ch|fp|ob|ds|im|pt|pd|mh]\n",
    "locations = health[mc|ho|uc]"
   ]
  },
  {
   "cell_type": "code",
   "execution_count": 65,
   "metadata": {},
   "outputs": [
    {
     "name": "stdout",
     "output_type": "stream",
     "text": [
      "<class 'pandas.core.frame.DataFrame'>\n",
      "Int64Index: 2473 entries, 2 to 4784\n",
      "Data columns (total 8 columns):\n",
      "business_id        2473 non-null object\n",
      "categories         2473 non-null object\n",
      "city               2473 non-null object\n",
      "name               2473 non-null object\n",
      "review_count       2473 non-null int64\n",
      "star_avg           2473 non-null float64\n",
      "state              2473 non-null object\n",
      "categories_list    2473 non-null object\n",
      "dtypes: float64(1), int64(1), object(6)\n",
      "memory usage: 173.9+ KB\n"
     ]
    }
   ],
   "source": [
    "specialist.info()"
   ]
  },
  {
   "cell_type": "code",
   "execution_count": 66,
   "metadata": {},
   "outputs": [
    {
     "name": "stdout",
     "output_type": "stream",
     "text": [
      "<class 'pandas.core.frame.DataFrame'>\n",
      "Int64Index: 1162 entries, 6 to 4779\n",
      "Data columns (total 8 columns):\n",
      "business_id        1162 non-null object\n",
      "categories         1162 non-null object\n",
      "city               1162 non-null object\n",
      "name               1162 non-null object\n",
      "review_count       1162 non-null int64\n",
      "star_avg           1162 non-null float64\n",
      "state              1162 non-null object\n",
      "categories_list    1162 non-null object\n",
      "dtypes: float64(1), int64(1), object(6)\n",
      "memory usage: 81.7+ KB\n"
     ]
    }
   ],
   "source": [
    "locations.info()"
   ]
  },
  {
   "cell_type": "code",
   "execution_count": 67,
   "metadata": {},
   "outputs": [],
   "source": [
    "clean_locations = locations[~locations.business_id.isin(specialist.business_id.unique())]  # remove business that are in the specialist dataframe"
   ]
  },
  {
   "cell_type": "code",
   "execution_count": null,
   "metadata": {},
   "outputs": [],
   "source": [
    "# clean_locations = clean_locations.reset_index(drop=True)  # reset index\n",
    "# clean_locations.info()\n"
   ]
  },
  {
   "cell_type": "code",
   "execution_count": null,
   "metadata": {},
   "outputs": [],
   "source": [
    "# specialist = specialist.reset_index(drop=True)  # reset index\n",
    "# specialist.info()"
   ]
  },
  {
   "cell_type": "code",
   "execution_count": 68,
   "metadata": {},
   "outputs": [],
   "source": [
    "# locations\n",
    "lmc = clean_locations.categories.str.contains('medical centers') \n",
    "lho = clean_locations.categories.str.contains('hospitals')\n",
    "luc = clean_locations.categories.str.contains('urgent care')\n",
    "\n",
    "# specialist\n",
    "sch = specialist.categories.str.contains('chiropractors')\n",
    "sfp = specialist.categories.str.contains('family practice')\n",
    "sob = specialist.categories.str.contains('obstetricians & gynecologists')\n",
    "sds = specialist.categories.str.contains('diagnostic services')\n",
    "sim = specialist.categories.str.contains('internal medicine')\n",
    "spt = specialist.categories.str.contains('physical therapy')\n",
    "spd = specialist.categories.str.contains('pediatricians')\n",
    "smh = specialist.categories.str.contains('counseling & mental health')# counseling & mental health\t"
   ]
  },
  {
   "cell_type": "code",
   "execution_count": null,
   "metadata": {},
   "outputs": [],
   "source": []
  },
  {
   "cell_type": "code",
   "execution_count": 69,
   "metadata": {},
   "outputs": [],
   "source": [
    "medical_center = clean_locations[lmc]\n",
    "hospital = clean_locations[lho]\n",
    "urgent_care = clean_locations[luc]"
   ]
  },
  {
   "cell_type": "code",
   "execution_count": 70,
   "metadata": {},
   "outputs": [
    {
     "name": "stdout",
     "output_type": "stream",
     "text": [
      "<class 'pandas.core.frame.DataFrame'>\n",
      "Int64Index: 241 entries, 26 to 4767\n",
      "Data columns (total 8 columns):\n",
      "business_id        241 non-null object\n",
      "categories         241 non-null object\n",
      "city               241 non-null object\n",
      "name               241 non-null object\n",
      "review_count       241 non-null int64\n",
      "star_avg           241 non-null float64\n",
      "state              241 non-null object\n",
      "categories_list    241 non-null object\n",
      "dtypes: float64(1), int64(1), object(6)\n",
      "memory usage: 16.9+ KB\n"
     ]
    }
   ],
   "source": [
    "urgent_care.info()"
   ]
  },
  {
   "cell_type": "code",
   "execution_count": 71,
   "metadata": {},
   "outputs": [
    {
     "name": "stdout",
     "output_type": "stream",
     "text": [
      "<class 'pandas.core.frame.DataFrame'>\n",
      "Int64Index: 503 entries, 20 to 4779\n",
      "Data columns (total 8 columns):\n",
      "business_id        503 non-null object\n",
      "categories         503 non-null object\n",
      "city               503 non-null object\n",
      "name               503 non-null object\n",
      "review_count       503 non-null int64\n",
      "star_avg           503 non-null float64\n",
      "state              503 non-null object\n",
      "categories_list    503 non-null object\n",
      "dtypes: float64(1), int64(1), object(6)\n",
      "memory usage: 35.4+ KB\n"
     ]
    }
   ],
   "source": [
    "medical_center.info()"
   ]
  },
  {
   "cell_type": "code",
   "execution_count": 72,
   "metadata": {},
   "outputs": [
    {
     "name": "stdout",
     "output_type": "stream",
     "text": [
      "<class 'pandas.core.frame.DataFrame'>\n",
      "Int64Index: 226 entries, 50 to 4774\n",
      "Data columns (total 8 columns):\n",
      "business_id        226 non-null object\n",
      "categories         226 non-null object\n",
      "city               226 non-null object\n",
      "name               226 non-null object\n",
      "review_count       226 non-null int64\n",
      "star_avg           226 non-null float64\n",
      "state              226 non-null object\n",
      "categories_list    226 non-null object\n",
      "dtypes: float64(1), int64(1), object(6)\n",
      "memory usage: 15.9+ KB\n"
     ]
    }
   ],
   "source": [
    "hospital.info()"
   ]
  },
  {
   "cell_type": "code",
   "execution_count": 73,
   "metadata": {},
   "outputs": [],
   "source": [
    "medical_center = medical_center[~medical_center.business_id.isin(urgent_care.business_id.unique())]\n",
    "medical_center = medical_center[~medical_center.business_id.isin(hospital.business_id.unique())]\n",
    "hospital = hospital[~hospital.business_id.isin(urgent_care.business_id.unique())]"
   ]
  },
  {
   "cell_type": "code",
   "execution_count": 74,
   "metadata": {},
   "outputs": [
    {
     "name": "stdout",
     "output_type": "stream",
     "text": [
      "<class 'pandas.core.frame.DataFrame'>\n",
      "Int64Index: 346 entries, 20 to 4779\n",
      "Data columns (total 8 columns):\n",
      "business_id        346 non-null object\n",
      "categories         346 non-null object\n",
      "city               346 non-null object\n",
      "name               346 non-null object\n",
      "review_count       346 non-null int64\n",
      "star_avg           346 non-null float64\n",
      "state              346 non-null object\n",
      "categories_list    346 non-null object\n",
      "dtypes: float64(1), int64(1), object(6)\n",
      "memory usage: 24.3+ KB\n"
     ]
    }
   ],
   "source": [
    "medical_center.info()"
   ]
  },
  {
   "cell_type": "code",
   "execution_count": 75,
   "metadata": {},
   "outputs": [
    {
     "name": "stdout",
     "output_type": "stream",
     "text": [
      "<class 'pandas.core.frame.DataFrame'>\n",
      "Int64Index: 199 entries, 50 to 4774\n",
      "Data columns (total 8 columns):\n",
      "business_id        199 non-null object\n",
      "categories         199 non-null object\n",
      "city               199 non-null object\n",
      "name               199 non-null object\n",
      "review_count       199 non-null int64\n",
      "star_avg           199 non-null float64\n",
      "state              199 non-null object\n",
      "categories_list    199 non-null object\n",
      "dtypes: float64(1), int64(1), object(6)\n",
      "memory usage: 14.0+ KB\n"
     ]
    }
   ],
   "source": [
    "hospital.info()"
   ]
  },
  {
   "cell_type": "code",
   "execution_count": null,
   "metadata": {},
   "outputs": [],
   "source": []
  },
  {
   "cell_type": "code",
   "execution_count": 76,
   "metadata": {},
   "outputs": [],
   "source": [
    "chiropractors = specialist[sch]\n",
    "family_practice =  specialist[sfp]\n",
    "obstetrician = specialist[sob]\n",
    "diagnostic_service = specialist[sds]\n",
    "internal_medicine = specialist[spd]\n",
    "physical_therapy = specialist[spt]\n",
    "pediatricians = specialist[spd]\n",
    "mental_health = specialist[smh]"
   ]
  },
  {
   "cell_type": "code",
   "execution_count": null,
   "metadata": {},
   "outputs": [],
   "source": []
  },
  {
   "cell_type": "code",
   "execution_count": null,
   "metadata": {},
   "outputs": [],
   "source": []
  },
  {
   "cell_type": "markdown",
   "metadata": {},
   "source": [
    "## Mental Health"
   ]
  },
  {
   "cell_type": "code",
   "execution_count": 77,
   "metadata": {},
   "outputs": [
    {
     "name": "stdout",
     "output_type": "stream",
     "text": [
      "<class 'pandas.core.frame.DataFrame'>\n",
      "Int64Index: 173 entries, 43 to 4775\n",
      "Data columns (total 8 columns):\n",
      "business_id        173 non-null object\n",
      "categories         173 non-null object\n",
      "city               173 non-null object\n",
      "name               173 non-null object\n",
      "review_count       173 non-null int64\n",
      "star_avg           173 non-null float64\n",
      "state              173 non-null object\n",
      "categories_list    173 non-null object\n",
      "dtypes: float64(1), int64(1), object(6)\n",
      "memory usage: 12.2+ KB\n"
     ]
    }
   ],
   "source": [
    "mental_health.info()"
   ]
  },
  {
   "cell_type": "code",
   "execution_count": 78,
   "metadata": {},
   "outputs": [],
   "source": [
    "mental_health = mental_health[~mental_health.business_id.isin(pediatricians.business_id.unique())]\n",
    "\n",
    "mental_health = mental_health[~mental_health.business_id.isin(physical_therapy.business_id.unique())]\n",
    "\n",
    "mental_health = mental_health[~mental_health.business_id.isin(internal_medicine.business_id.unique())]\n",
    "\n",
    "mental_health = mental_health[~mental_health.business_id.isin(diagnostic_service.business_id.unique())]\n",
    "\n",
    "mental_health = mental_health[~mental_health.business_id.isin(obstetrician.business_id.unique())]\n",
    "\n",
    "mental_health = mental_health[~mental_health.business_id.isin(family_practice.business_id.unique())]\n",
    "\n",
    "mental_health = mental_health[~mental_health.business_id.isin(chiropractors.business_id.unique())]"
   ]
  },
  {
   "cell_type": "code",
   "execution_count": 79,
   "metadata": {},
   "outputs": [
    {
     "name": "stdout",
     "output_type": "stream",
     "text": [
      "<class 'pandas.core.frame.DataFrame'>\n",
      "Int64Index: 158 entries, 43 to 4775\n",
      "Data columns (total 8 columns):\n",
      "business_id        158 non-null object\n",
      "categories         158 non-null object\n",
      "city               158 non-null object\n",
      "name               158 non-null object\n",
      "review_count       158 non-null int64\n",
      "star_avg           158 non-null float64\n",
      "state              158 non-null object\n",
      "categories_list    158 non-null object\n",
      "dtypes: float64(1), int64(1), object(6)\n",
      "memory usage: 11.1+ KB\n"
     ]
    }
   ],
   "source": [
    "mental_health.info()"
   ]
  },
  {
   "cell_type": "markdown",
   "metadata": {},
   "source": [
    "## pediatricians"
   ]
  },
  {
   "cell_type": "code",
   "execution_count": 80,
   "metadata": {},
   "outputs": [
    {
     "name": "stdout",
     "output_type": "stream",
     "text": [
      "<class 'pandas.core.frame.DataFrame'>\n",
      "Int64Index: 276 entries, 12 to 4778\n",
      "Data columns (total 8 columns):\n",
      "business_id        276 non-null object\n",
      "categories         276 non-null object\n",
      "city               276 non-null object\n",
      "name               276 non-null object\n",
      "review_count       276 non-null int64\n",
      "star_avg           276 non-null float64\n",
      "state              276 non-null object\n",
      "categories_list    276 non-null object\n",
      "dtypes: float64(1), int64(1), object(6)\n",
      "memory usage: 19.4+ KB\n"
     ]
    }
   ],
   "source": [
    "pediatricians.info()"
   ]
  },
  {
   "cell_type": "code",
   "execution_count": 81,
   "metadata": {},
   "outputs": [],
   "source": [
    "pediatricians[pediatricians.business_id.isin(physical_therapy.business_id.unique())]\n",
    "\n",
    "pediatricians = pediatricians[~pediatricians.business_id.isin(internal_medicine.business_id.unique())]\n",
    "\n",
    "pediatricians = pediatricians[~pediatricians.business_id.isin(diagnostic_service.business_id.unique())]\n",
    "\n",
    "pediatricians = pediatricians[~pediatricians.business_id.isin(obstetrician.business_id.unique())]\n",
    "\n",
    "pediatricians = pediatricians[~pediatricians.business_id.isin(family_practice.business_id.unique())]\n",
    "\n",
    "pediatricians = pediatricians[~pediatricians.business_id.isin(chiropractors.business_id.unique())]"
   ]
  },
  {
   "cell_type": "code",
   "execution_count": 82,
   "metadata": {},
   "outputs": [
    {
     "name": "stdout",
     "output_type": "stream",
     "text": [
      "<class 'pandas.core.frame.DataFrame'>\n",
      "Int64Index: 0 entries\n",
      "Data columns (total 8 columns):\n",
      "business_id        0 non-null object\n",
      "categories         0 non-null object\n",
      "city               0 non-null object\n",
      "name               0 non-null object\n",
      "review_count       0 non-null int64\n",
      "star_avg           0 non-null float64\n",
      "state              0 non-null object\n",
      "categories_list    0 non-null object\n",
      "dtypes: float64(1), int64(1), object(6)\n",
      "memory usage: 0.0+ bytes\n"
     ]
    }
   ],
   "source": [
    "pediatricians.info()"
   ]
  },
  {
   "cell_type": "markdown",
   "metadata": {},
   "source": [
    "## physical_therapy"
   ]
  },
  {
   "cell_type": "code",
   "execution_count": 83,
   "metadata": {},
   "outputs": [
    {
     "name": "stdout",
     "output_type": "stream",
     "text": [
      "<class 'pandas.core.frame.DataFrame'>\n",
      "Int64Index: 279 entries, 3 to 4776\n",
      "Data columns (total 8 columns):\n",
      "business_id        279 non-null object\n",
      "categories         279 non-null object\n",
      "city               279 non-null object\n",
      "name               279 non-null object\n",
      "review_count       279 non-null int64\n",
      "star_avg           279 non-null float64\n",
      "state              279 non-null object\n",
      "categories_list    279 non-null object\n",
      "dtypes: float64(1), int64(1), object(6)\n",
      "memory usage: 19.6+ KB\n"
     ]
    }
   ],
   "source": [
    "physical_therapy.info()"
   ]
  },
  {
   "cell_type": "code",
   "execution_count": 84,
   "metadata": {},
   "outputs": [],
   "source": [
    "physical_therapy[physical_therapy.business_id.isin(internal_medicine.business_id.unique())]\n",
    "\n",
    "physical_therapy = physical_therapy[~physical_therapy.business_id.isin(diagnostic_service.business_id.unique())]\n",
    "\n",
    "physical_therapy = physical_therapy[~physical_therapy.business_id.isin(obstetrician.business_id.unique())]\n",
    "\n",
    "physical_therapy = physical_therapy[~physical_therapy.business_id.isin(family_practice.business_id.unique())]\n",
    "\n",
    "physical_therapy = physical_therapy[~physical_therapy.business_id.isin(chiropractors.business_id.unique())]"
   ]
  },
  {
   "cell_type": "code",
   "execution_count": 85,
   "metadata": {},
   "outputs": [
    {
     "name": "stdout",
     "output_type": "stream",
     "text": [
      "<class 'pandas.core.frame.DataFrame'>\n",
      "Int64Index: 216 entries, 3 to 4776\n",
      "Data columns (total 8 columns):\n",
      "business_id        216 non-null object\n",
      "categories         216 non-null object\n",
      "city               216 non-null object\n",
      "name               216 non-null object\n",
      "review_count       216 non-null int64\n",
      "star_avg           216 non-null float64\n",
      "state              216 non-null object\n",
      "categories_list    216 non-null object\n",
      "dtypes: float64(1), int64(1), object(6)\n",
      "memory usage: 15.2+ KB\n"
     ]
    }
   ],
   "source": [
    "physical_therapy.info()"
   ]
  },
  {
   "cell_type": "markdown",
   "metadata": {},
   "source": [
    "## internal_medicine"
   ]
  },
  {
   "cell_type": "code",
   "execution_count": 86,
   "metadata": {},
   "outputs": [
    {
     "name": "stdout",
     "output_type": "stream",
     "text": [
      "<class 'pandas.core.frame.DataFrame'>\n",
      "Int64Index: 276 entries, 12 to 4778\n",
      "Data columns (total 8 columns):\n",
      "business_id        276 non-null object\n",
      "categories         276 non-null object\n",
      "city               276 non-null object\n",
      "name               276 non-null object\n",
      "review_count       276 non-null int64\n",
      "star_avg           276 non-null float64\n",
      "state              276 non-null object\n",
      "categories_list    276 non-null object\n",
      "dtypes: float64(1), int64(1), object(6)\n",
      "memory usage: 19.4+ KB\n"
     ]
    }
   ],
   "source": [
    "internal_medicine.info()"
   ]
  },
  {
   "cell_type": "code",
   "execution_count": 87,
   "metadata": {},
   "outputs": [],
   "source": [
    "internal_medicine = internal_medicine[~internal_medicine.business_id.isin(diagnostic_service.business_id.unique())]\n",
    "\n",
    "internal_medicine = internal_medicine[~internal_medicine.business_id.isin(obstetrician.business_id.unique())]\n",
    "\n",
    "internal_medicine = internal_medicine[~internal_medicine.business_id.isin(family_practice.business_id.unique())]\n",
    "\n",
    "internal_medicine = internal_medicine[~internal_medicine.business_id.isin(chiropractors.business_id.unique())]"
   ]
  },
  {
   "cell_type": "code",
   "execution_count": 88,
   "metadata": {},
   "outputs": [
    {
     "name": "stdout",
     "output_type": "stream",
     "text": [
      "<class 'pandas.core.frame.DataFrame'>\n",
      "Int64Index: 222 entries, 12 to 4778\n",
      "Data columns (total 8 columns):\n",
      "business_id        222 non-null object\n",
      "categories         222 non-null object\n",
      "city               222 non-null object\n",
      "name               222 non-null object\n",
      "review_count       222 non-null int64\n",
      "star_avg           222 non-null float64\n",
      "state              222 non-null object\n",
      "categories_list    222 non-null object\n",
      "dtypes: float64(1), int64(1), object(6)\n",
      "memory usage: 15.6+ KB\n"
     ]
    }
   ],
   "source": [
    "internal_medicine.info()"
   ]
  },
  {
   "cell_type": "markdown",
   "metadata": {},
   "source": [
    "## diagnostic_service"
   ]
  },
  {
   "cell_type": "code",
   "execution_count": 89,
   "metadata": {},
   "outputs": [
    {
     "name": "stdout",
     "output_type": "stream",
     "text": [
      "<class 'pandas.core.frame.DataFrame'>\n",
      "Int64Index: 344 entries, 4 to 4765\n",
      "Data columns (total 8 columns):\n",
      "business_id        344 non-null object\n",
      "categories         344 non-null object\n",
      "city               344 non-null object\n",
      "name               344 non-null object\n",
      "review_count       344 non-null int64\n",
      "star_avg           344 non-null float64\n",
      "state              344 non-null object\n",
      "categories_list    344 non-null object\n",
      "dtypes: float64(1), int64(1), object(6)\n",
      "memory usage: 24.2+ KB\n"
     ]
    }
   ],
   "source": [
    "diagnostic_service.info()"
   ]
  },
  {
   "cell_type": "code",
   "execution_count": 90,
   "metadata": {},
   "outputs": [],
   "source": [
    "diagnostic_service = diagnostic_service[~diagnostic_service.business_id.isin(obstetrician.business_id.unique())]\n",
    "\n",
    "diagnostic_service = diagnostic_service[~diagnostic_service.business_id.isin(family_practice.business_id.unique())]\n",
    "\n",
    "diagnostic_service = diagnostic_service[~diagnostic_service.business_id.isin(chiropractors.business_id.unique())]"
   ]
  },
  {
   "cell_type": "code",
   "execution_count": 91,
   "metadata": {},
   "outputs": [
    {
     "name": "stdout",
     "output_type": "stream",
     "text": [
      "<class 'pandas.core.frame.DataFrame'>\n",
      "Int64Index: 312 entries, 4 to 4765\n",
      "Data columns (total 8 columns):\n",
      "business_id        312 non-null object\n",
      "categories         312 non-null object\n",
      "city               312 non-null object\n",
      "name               312 non-null object\n",
      "review_count       312 non-null int64\n",
      "star_avg           312 non-null float64\n",
      "state              312 non-null object\n",
      "categories_list    312 non-null object\n",
      "dtypes: float64(1), int64(1), object(6)\n",
      "memory usage: 21.9+ KB\n"
     ]
    }
   ],
   "source": [
    "diagnostic_service.info()"
   ]
  },
  {
   "cell_type": "markdown",
   "metadata": {},
   "source": [
    "## obstetrician\n"
   ]
  },
  {
   "cell_type": "code",
   "execution_count": 92,
   "metadata": {},
   "outputs": [
    {
     "name": "stdout",
     "output_type": "stream",
     "text": [
      "<class 'pandas.core.frame.DataFrame'>\n",
      "Int64Index: 345 entries, 2 to 4782\n",
      "Data columns (total 8 columns):\n",
      "business_id        345 non-null object\n",
      "categories         345 non-null object\n",
      "city               345 non-null object\n",
      "name               345 non-null object\n",
      "review_count       345 non-null int64\n",
      "star_avg           345 non-null float64\n",
      "state              345 non-null object\n",
      "categories_list    345 non-null object\n",
      "dtypes: float64(1), int64(1), object(6)\n",
      "memory usage: 24.3+ KB\n"
     ]
    }
   ],
   "source": [
    "obstetrician.info()"
   ]
  },
  {
   "cell_type": "code",
   "execution_count": 94,
   "metadata": {},
   "outputs": [],
   "source": [
    "#obstetrician[obstetrician.business_id.isin(diagnostic_service.business_id.unique())]\n",
    "\n",
    "obstetrician = obstetrician[~obstetrician.business_id.isin(family_practice.business_id.unique())]\n",
    "\n",
    "#obstetrician[obstetrician.business_id.isin(chiropractors.business_id.unique())]"
   ]
  },
  {
   "cell_type": "code",
   "execution_count": 95,
   "metadata": {},
   "outputs": [
    {
     "name": "stdout",
     "output_type": "stream",
     "text": [
      "<class 'pandas.core.frame.DataFrame'>\n",
      "Int64Index: 332 entries, 2 to 4782\n",
      "Data columns (total 8 columns):\n",
      "business_id        332 non-null object\n",
      "categories         332 non-null object\n",
      "city               332 non-null object\n",
      "name               332 non-null object\n",
      "review_count       332 non-null int64\n",
      "star_avg           332 non-null float64\n",
      "state              332 non-null object\n",
      "categories_list    332 non-null object\n",
      "dtypes: float64(1), int64(1), object(6)\n",
      "memory usage: 23.3+ KB\n"
     ]
    }
   ],
   "source": [
    "obstetrician.info()"
   ]
  },
  {
   "cell_type": "markdown",
   "metadata": {},
   "source": [
    "## family_practice"
   ]
  },
  {
   "cell_type": "code",
   "execution_count": 96,
   "metadata": {},
   "outputs": [
    {
     "name": "stdout",
     "output_type": "stream",
     "text": [
      "<class 'pandas.core.frame.DataFrame'>\n",
      "Int64Index: 492 entries, 13 to 4784\n",
      "Data columns (total 8 columns):\n",
      "business_id        492 non-null object\n",
      "categories         492 non-null object\n",
      "city               492 non-null object\n",
      "name               492 non-null object\n",
      "review_count       492 non-null int64\n",
      "star_avg           492 non-null float64\n",
      "state              492 non-null object\n",
      "categories_list    492 non-null object\n",
      "dtypes: float64(1), int64(1), object(6)\n",
      "memory usage: 34.6+ KB\n"
     ]
    }
   ],
   "source": [
    "family_practice.info()"
   ]
  },
  {
   "cell_type": "code",
   "execution_count": 97,
   "metadata": {},
   "outputs": [],
   "source": [
    "family_practice = family_practice[~family_practice.business_id.isin(chiropractors.business_id.unique())]"
   ]
  },
  {
   "cell_type": "code",
   "execution_count": 98,
   "metadata": {},
   "outputs": [
    {
     "name": "stdout",
     "output_type": "stream",
     "text": [
      "<class 'pandas.core.frame.DataFrame'>\n",
      "Int64Index: 479 entries, 13 to 4784\n",
      "Data columns (total 8 columns):\n",
      "business_id        479 non-null object\n",
      "categories         479 non-null object\n",
      "city               479 non-null object\n",
      "name               479 non-null object\n",
      "review_count       479 non-null int64\n",
      "star_avg           479 non-null float64\n",
      "state              479 non-null object\n",
      "categories_list    479 non-null object\n",
      "dtypes: float64(1), int64(1), object(6)\n",
      "memory usage: 33.7+ KB\n"
     ]
    }
   ],
   "source": [
    "family_practice.info()"
   ]
  },
  {
   "cell_type": "markdown",
   "metadata": {},
   "source": [
    "## chiropractors"
   ]
  },
  {
   "cell_type": "code",
   "execution_count": 99,
   "metadata": {},
   "outputs": [
    {
     "name": "stdout",
     "output_type": "stream",
     "text": [
      "<class 'pandas.core.frame.DataFrame'>\n",
      "Int64Index: 557 entries, 11 to 4766\n",
      "Data columns (total 8 columns):\n",
      "business_id        557 non-null object\n",
      "categories         557 non-null object\n",
      "city               557 non-null object\n",
      "name               557 non-null object\n",
      "review_count       557 non-null int64\n",
      "star_avg           557 non-null float64\n",
      "state              557 non-null object\n",
      "categories_list    557 non-null object\n",
      "dtypes: float64(1), int64(1), object(6)\n",
      "memory usage: 39.2+ KB\n"
     ]
    }
   ],
   "source": [
    "chiropractors.info()"
   ]
  },
  {
   "cell_type": "code",
   "execution_count": null,
   "metadata": {},
   "outputs": [],
   "source": [
    "#chiropractors[chiropractors.business_id.isin(medical_center.business_id.unique())]"
   ]
  },
  {
   "cell_type": "code",
   "execution_count": null,
   "metadata": {},
   "outputs": [],
   "source": []
  },
  {
   "cell_type": "code",
   "execution_count": 100,
   "metadata": {},
   "outputs": [],
   "source": [
    "chiropractors['health_business'] = 'chiropractors'\n",
    "family_practice['health_business'] = 'family practice'\n",
    "obstetrician['health_business'] = 'obstetrician'\n",
    "diagnostic_service['health_business'] = 'diagnostic service'\n",
    "internal_medicine['health_business'] = 'internal medicine'\n",
    "physical_therapy['health_business'] = 'physical therapy'\n",
    "#pediatricians['health_business'] = 'pediatricians'\n",
    "mental_health['health_business'] = 'mental health'\n",
    "medical_center['health_business'] = 'hospital'\n",
    "hospital['health_business'] = 'hospital'\n",
    "urgent_care['health_business'] = 'urgent care'"
   ]
  },
  {
   "cell_type": "code",
   "execution_count": 101,
   "metadata": {},
   "outputs": [],
   "source": [
    "frames = [urgent_care,\n",
    "          hospital,\n",
    "          medical_center,\n",
    "          mental_health,\n",
    "          #pediatricians,\n",
    "          physical_therapy,\n",
    "          internal_medicine,\n",
    "          diagnostic_service,\n",
    "          obstetrician,\n",
    "         family_practice,\n",
    "          chiropractors]"
   ]
  },
  {
   "cell_type": "code",
   "execution_count": 103,
   "metadata": {},
   "outputs": [],
   "source": [
    "import pandas as pd"
   ]
  },
  {
   "cell_type": "code",
   "execution_count": 104,
   "metadata": {},
   "outputs": [],
   "source": [
    "final = pd.concat(frames, ignore_index=True)"
   ]
  },
  {
   "cell_type": "code",
   "execution_count": 105,
   "metadata": {},
   "outputs": [
    {
     "name": "stdout",
     "output_type": "stream",
     "text": [
      "<class 'pandas.core.frame.DataFrame'>\n",
      "RangeIndex: 3062 entries, 0 to 3061\n",
      "Data columns (total 9 columns):\n",
      "business_id        3062 non-null object\n",
      "categories         3062 non-null object\n",
      "city               3062 non-null object\n",
      "name               3062 non-null object\n",
      "review_count       3062 non-null int64\n",
      "star_avg           3062 non-null float64\n",
      "state              3062 non-null object\n",
      "categories_list    3062 non-null object\n",
      "health_business    3062 non-null object\n",
      "dtypes: float64(1), int64(1), object(7)\n",
      "memory usage: 215.4+ KB\n"
     ]
    }
   ],
   "source": [
    "final.info()"
   ]
  },
  {
   "cell_type": "code",
   "execution_count": null,
   "metadata": {},
   "outputs": [],
   "source": []
  },
  {
   "cell_type": "code",
   "execution_count": 106,
   "metadata": {},
   "outputs": [
    {
     "data": {
      "text/html": [
       "<div>\n",
       "<style scoped>\n",
       "    .dataframe tbody tr th:only-of-type {\n",
       "        vertical-align: middle;\n",
       "    }\n",
       "\n",
       "    .dataframe tbody tr th {\n",
       "        vertical-align: top;\n",
       "    }\n",
       "\n",
       "    .dataframe thead th {\n",
       "        text-align: right;\n",
       "    }\n",
       "</style>\n",
       "<table border=\"1\" class=\"dataframe\">\n",
       "  <thead>\n",
       "    <tr style=\"text-align: right;\">\n",
       "      <th></th>\n",
       "      <th>business_id</th>\n",
       "      <th>categories</th>\n",
       "      <th>city</th>\n",
       "      <th>name</th>\n",
       "      <th>review_count</th>\n",
       "      <th>star_avg</th>\n",
       "      <th>state</th>\n",
       "      <th>categories_list</th>\n",
       "      <th>health_business</th>\n",
       "    </tr>\n",
       "  </thead>\n",
       "  <tbody>\n",
       "    <tr>\n",
       "      <th>0</th>\n",
       "      <td>2hpi6pXIFf0taDIYCoNIuw</td>\n",
       "      <td>health &amp; medical, urgent care</td>\n",
       "      <td>Las Vegas</td>\n",
       "      <td>Healthcare Partner</td>\n",
       "      <td>80</td>\n",
       "      <td>2.5</td>\n",
       "      <td>NV</td>\n",
       "      <td>[health &amp; medical,  urgent care]</td>\n",
       "      <td>urgent care</td>\n",
       "    </tr>\n",
       "    <tr>\n",
       "      <th>1</th>\n",
       "      <td>EXS2vZ60ad1LGfJKBdwiWg</td>\n",
       "      <td>doctors, health &amp; medical, urgent care, medica...</td>\n",
       "      <td>Scottsdale</td>\n",
       "      <td>FastMed Urgent Care</td>\n",
       "      <td>122</td>\n",
       "      <td>2.5</td>\n",
       "      <td>AZ</td>\n",
       "      <td>[doctors,  health &amp; medical,  urgent care,  me...</td>\n",
       "      <td>urgent care</td>\n",
       "    </tr>\n",
       "    <tr>\n",
       "      <th>2</th>\n",
       "      <td>JdzoXkjb4uHLTEkiaSZRuQ</td>\n",
       "      <td>doctors, urgent care, health &amp; medical</td>\n",
       "      <td>Goodyear</td>\n",
       "      <td>Banner Urgent Care</td>\n",
       "      <td>27</td>\n",
       "      <td>3.0</td>\n",
       "      <td>AZ</td>\n",
       "      <td>[doctors,  urgent care,  health &amp; medical]</td>\n",
       "      <td>urgent care</td>\n",
       "    </tr>\n",
       "    <tr>\n",
       "      <th>3</th>\n",
       "      <td>3_dwAO5gWSX0zNtJ7xAB9w</td>\n",
       "      <td>hospitals, health &amp; medical, urgent care, doctors</td>\n",
       "      <td>Anthem</td>\n",
       "      <td>HonorHealth Immediate Care - Gavilan Peak</td>\n",
       "      <td>20</td>\n",
       "      <td>2.0</td>\n",
       "      <td>AZ</td>\n",
       "      <td>[hospitals,  health &amp; medical,  urgent care,  ...</td>\n",
       "      <td>urgent care</td>\n",
       "    </tr>\n",
       "    <tr>\n",
       "      <th>4</th>\n",
       "      <td>SPnKdy0k9npg8qonOQpaSw</td>\n",
       "      <td>urgent care, health &amp; medical</td>\n",
       "      <td>Indian Land</td>\n",
       "      <td>Doctors Care -  Indian Land</td>\n",
       "      <td>4</td>\n",
       "      <td>1.0</td>\n",
       "      <td>SC</td>\n",
       "      <td>[urgent care,  health &amp; medical]</td>\n",
       "      <td>urgent care</td>\n",
       "    </tr>\n",
       "  </tbody>\n",
       "</table>\n",
       "</div>"
      ],
      "text/plain": [
       "              business_id                                         categories  \\\n",
       "0  2hpi6pXIFf0taDIYCoNIuw                      health & medical, urgent care   \n",
       "1  EXS2vZ60ad1LGfJKBdwiWg  doctors, health & medical, urgent care, medica...   \n",
       "2  JdzoXkjb4uHLTEkiaSZRuQ             doctors, urgent care, health & medical   \n",
       "3  3_dwAO5gWSX0zNtJ7xAB9w  hospitals, health & medical, urgent care, doctors   \n",
       "4  SPnKdy0k9npg8qonOQpaSw                      urgent care, health & medical   \n",
       "\n",
       "          city                                       name  review_count  \\\n",
       "0    Las Vegas                         Healthcare Partner            80   \n",
       "1   Scottsdale                        FastMed Urgent Care           122   \n",
       "2     Goodyear                         Banner Urgent Care            27   \n",
       "3       Anthem  HonorHealth Immediate Care - Gavilan Peak            20   \n",
       "4  Indian Land                Doctors Care -  Indian Land             4   \n",
       "\n",
       "   star_avg state                                    categories_list  \\\n",
       "0       2.5    NV                   [health & medical,  urgent care]   \n",
       "1       2.5    AZ  [doctors,  health & medical,  urgent care,  me...   \n",
       "2       3.0    AZ         [doctors,  urgent care,  health & medical]   \n",
       "3       2.0    AZ  [hospitals,  health & medical,  urgent care,  ...   \n",
       "4       1.0    SC                   [urgent care,  health & medical]   \n",
       "\n",
       "  health_business  \n",
       "0     urgent care  \n",
       "1     urgent care  \n",
       "2     urgent care  \n",
       "3     urgent care  \n",
       "4     urgent care  "
      ]
     },
     "execution_count": 106,
     "metadata": {},
     "output_type": "execute_result"
    }
   ],
   "source": [
    "final.head()"
   ]
  },
  {
   "cell_type": "code",
   "execution_count": 107,
   "metadata": {},
   "outputs": [
    {
     "data": {
      "text/plain": [
       "chiropractors         557\n",
       "hospital              545\n",
       "family practice       479\n",
       "obstetrician          332\n",
       "diagnostic service    312\n",
       "urgent care           241\n",
       "internal medicine     222\n",
       "physical therapy      216\n",
       "mental health         158\n",
       "Name: health_business, dtype: int64"
      ]
     },
     "execution_count": 107,
     "metadata": {},
     "output_type": "execute_result"
    }
   ],
   "source": [
    "final.health_business.value_counts()"
   ]
  },
  {
   "cell_type": "markdown",
   "metadata": {},
   "source": [
    "## Save dataframe"
   ]
  },
  {
   "cell_type": "code",
   "execution_count": 109,
   "metadata": {},
   "outputs": [],
   "source": [
    "final.to_csv(data_directory_saves+'/final_health_business.csv')"
   ]
  },
  {
   "cell_type": "code",
   "execution_count": null,
   "metadata": {},
   "outputs": [],
   "source": []
  }
 ],
 "metadata": {
  "kernelspec": {
   "display_name": "Python 3",
   "language": "python",
   "name": "python3"
  },
  "language_info": {
   "codemirror_mode": {
    "name": "ipython",
    "version": 3
   },
   "file_extension": ".py",
   "mimetype": "text/x-python",
   "name": "python",
   "nbconvert_exporter": "python",
   "pygments_lexer": "ipython3",
   "version": "3.6.6"
  }
 },
 "nbformat": 4,
 "nbformat_minor": 2
}
