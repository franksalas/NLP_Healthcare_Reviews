{
 "cells": [
  {
   "cell_type": "code",
   "execution_count": 1,
   "metadata": {},
   "outputs": [],
   "source": [
    "import matplotlib.pyplot as plt\n",
    "import gensim\n",
    "import numpy as np\n",
    "import spacy\n",
    "from gensim.models import CoherenceModel, LdaModel, LsiModel, HdpModel\n",
    "from gensim.models.wrappers import LdaMallet\n",
    "from gensim.corpora import Dictionary\n",
    "import pyLDAvis.gensim\n",
    "import os, re, operator, warnings\n",
    "warnings.filterwarnings('ignore') # Let's not pay heed to them right now\n",
    "%matplotlib inline"
   ]
  },
  {
   "cell_type": "code",
   "execution_count": 2,
   "metadata": {},
   "outputs": [],
   "source": [
    "from gensim import corpora, models, similarities"
   ]
  },
  {
   "cell_type": "code",
   "execution_count": 3,
   "metadata": {},
   "outputs": [],
   "source": [
    "model =  models.LdaModel.load('onestar_lda.model')"
   ]
  },
  {
   "cell_type": "code",
   "execution_count": 4,
   "metadata": {},
   "outputs": [
    {
     "data": {
      "text/plain": [
       "<gensim.models.ldamodel.LdaModel at 0x7f11985bc320>"
      ]
     },
     "execution_count": 4,
     "metadata": {},
     "output_type": "execute_result"
    }
   ],
   "source": [
    "model"
   ]
  },
  {
   "cell_type": "code",
   "execution_count": 5,
   "metadata": {},
   "outputs": [],
   "source": [
    "lda_topics = model.show_topics(num_topics=5)"
   ]
  },
  {
   "cell_type": "code",
   "execution_count": 6,
   "metadata": {},
   "outputs": [
    {
     "data": {
      "text/plain": [
       "[(1,\n",
       "  '0.047*\"wait\" + 0.036*\"not\" + 0.027*\"time\" + 0.023*\"hour\" + 0.022*\"appointment\" + 0.020*\"see\" + 0.015*\"doctor\" + 0.015*\"go\" + 0.015*\"minute\" + 0.014*\"get\"'),\n",
       " (5,\n",
       "  '0.021*\"not\" + 0.020*\"doctor\" + 0.016*\"son\" + 0.015*\"dr\" + 0.014*\"get\" + 0.011*\"time\" + 0.011*\"say\" + 0.009*\"tell\" + 0.009*\"go\" + 0.008*\"see\"'),\n",
       " (3,\n",
       "  '0.042*\"bill\" + 0.025*\"pay\" + 0.023*\"not\" + 0.009*\"no\" + 0.008*\"tell\" + 0.008*\"billing\" + 0.008*\"doctor\" + 0.008*\"would\" + 0.007*\"get\" + 0.007*\"payment\"'),\n",
       " (7,\n",
       "  '0.046*\"not\" + 0.023*\"go\" + 0.019*\"get\" + 0.016*\"tell\" + 0.015*\"say\" + 0.014*\"doctor\" + 0.010*\"ask\" + 0.010*\"take\" + 0.010*\"would\" + 0.010*\"back\"'),\n",
       " (6,\n",
       "  '0.048*\"not\" + 0.019*\"staff\" + 0.016*\"patient\" + 0.015*\"office\" + 0.013*\"would\" + 0.012*\"rude\" + 0.012*\"doctor\" + 0.010*\"go\" + 0.009*\"dr\" + 0.008*\"see\"')]"
      ]
     },
     "execution_count": 6,
     "metadata": {},
     "output_type": "execute_result"
    }
   ],
   "source": [
    "lda_topics"
   ]
  },
  {
   "cell_type": "code",
   "execution_count": null,
   "metadata": {},
   "outputs": [],
   "source": []
  }
 ],
 "metadata": {
  "kernelspec": {
   "display_name": "Python 3",
   "language": "python",
   "name": "python3"
  },
  "language_info": {
   "codemirror_mode": {
    "name": "ipython",
    "version": 3
   },
   "file_extension": ".py",
   "mimetype": "text/x-python",
   "name": "python",
   "nbconvert_exporter": "python",
   "pygments_lexer": "ipython3",
   "version": "3.6.6"
  }
 },
 "nbformat": 4,
 "nbformat_minor": 2
}
