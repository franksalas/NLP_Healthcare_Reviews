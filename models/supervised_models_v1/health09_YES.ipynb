{
 "cells": [
  {
   "cell_type": "code",
   "execution_count": 1,
   "metadata": {},
   "outputs": [],
   "source": [
    "import warnings\n",
    "warnings.filterwarnings('ignore')\n",
    "import pandas as pd\n",
    "import numpy as np\n",
    "import sklearn\n",
    "import seaborn as sns\n",
    "import matplotlib.pyplot as plt\n",
    "plt.style.use('ggplot')"
   ]
  },
  {
   "cell_type": "code",
   "execution_count": 4,
   "metadata": {},
   "outputs": [],
   "source": [
    "path = 'yelp_data/health_text_sentiment.csv'\n",
    "df = pd.read_csv(path)\n",
    "df.drop(['Unnamed: 0'],axis=1,inplace=True)\n",
    "\n",
    "df = df[['stars',\n",
    " 'clean_text',\n",
    " 'sent_value_clean',\n",
    " 'sent_score_clean']]"
   ]
  },
  {
   "cell_type": "code",
   "execution_count": 5,
   "metadata": {},
   "outputs": [
    {
     "data": {
      "text/html": [
       "<div>\n",
       "<style scoped>\n",
       "    .dataframe tbody tr th:only-of-type {\n",
       "        vertical-align: middle;\n",
       "    }\n",
       "\n",
       "    .dataframe tbody tr th {\n",
       "        vertical-align: top;\n",
       "    }\n",
       "\n",
       "    .dataframe thead th {\n",
       "        text-align: right;\n",
       "    }\n",
       "</style>\n",
       "<table border=\"1\" class=\"dataframe\">\n",
       "  <thead>\n",
       "    <tr style=\"text-align: right;\">\n",
       "      <th></th>\n",
       "      <th>stars</th>\n",
       "      <th>clean_text</th>\n",
       "      <th>sent_value_clean</th>\n",
       "      <th>sent_score_clean</th>\n",
       "    </tr>\n",
       "  </thead>\n",
       "  <tbody>\n",
       "    <tr>\n",
       "      <th>0</th>\n",
       "      <td>1</td>\n",
       "      <td>please stay away place bad care imaginable sta...</td>\n",
       "      <td>-0.036719</td>\n",
       "      <td>negative</td>\n",
       "    </tr>\n",
       "    <tr>\n",
       "      <th>1</th>\n",
       "      <td>5</td>\n",
       "      <td>husband patient dr byrne last year half last m...</td>\n",
       "      <td>0.069479</td>\n",
       "      <td>positive</td>\n",
       "    </tr>\n",
       "    <tr>\n",
       "      <th>2</th>\n",
       "      <td>4</td>\n",
       "      <td>dr byrne great doctor great bed side manner ex...</td>\n",
       "      <td>0.317778</td>\n",
       "      <td>positive</td>\n",
       "    </tr>\n",
       "    <tr>\n",
       "      <th>3</th>\n",
       "      <td>3</td>\n",
       "      <td>raise review dr bryne receptive daughter go an...</td>\n",
       "      <td>0.002806</td>\n",
       "      <td>positive</td>\n",
       "    </tr>\n",
       "    <tr>\n",
       "      <th>4</th>\n",
       "      <td>1</td>\n",
       "      <td>wish could give star bad office ever horrible ...</td>\n",
       "      <td>-0.084259</td>\n",
       "      <td>negative</td>\n",
       "    </tr>\n",
       "  </tbody>\n",
       "</table>\n",
       "</div>"
      ],
      "text/plain": [
       "   stars                                         clean_text  sent_value_clean  \\\n",
       "0      1  please stay away place bad care imaginable sta...         -0.036719   \n",
       "1      5  husband patient dr byrne last year half last m...          0.069479   \n",
       "2      4  dr byrne great doctor great bed side manner ex...          0.317778   \n",
       "3      3  raise review dr bryne receptive daughter go an...          0.002806   \n",
       "4      1  wish could give star bad office ever horrible ...         -0.084259   \n",
       "\n",
       "  sent_score_clean  \n",
       "0         negative  \n",
       "1         positive  \n",
       "2         positive  \n",
       "3         positive  \n",
       "4         negative  "
      ]
     },
     "execution_count": 5,
     "metadata": {},
     "output_type": "execute_result"
    }
   ],
   "source": [
    "df.head()"
   ]
  },
  {
   "cell_type": "code",
   "execution_count": 6,
   "metadata": {},
   "outputs": [],
   "source": [
    "data = df.copy()"
   ]
  },
  {
   "cell_type": "code",
   "execution_count": 7,
   "metadata": {},
   "outputs": [
    {
     "data": {
      "text/html": [
       "<div>\n",
       "<style scoped>\n",
       "    .dataframe tbody tr th:only-of-type {\n",
       "        vertical-align: middle;\n",
       "    }\n",
       "\n",
       "    .dataframe tbody tr th {\n",
       "        vertical-align: top;\n",
       "    }\n",
       "\n",
       "    .dataframe thead th {\n",
       "        text-align: right;\n",
       "    }\n",
       "</style>\n",
       "<table border=\"1\" class=\"dataframe\">\n",
       "  <thead>\n",
       "    <tr style=\"text-align: right;\">\n",
       "      <th></th>\n",
       "      <th>stars</th>\n",
       "      <th>clean_text</th>\n",
       "      <th>sent_value_clean</th>\n",
       "      <th>sent_score_clean</th>\n",
       "    </tr>\n",
       "  </thead>\n",
       "  <tbody>\n",
       "    <tr>\n",
       "      <th>0</th>\n",
       "      <td>1</td>\n",
       "      <td>please stay away place bad care imaginable sta...</td>\n",
       "      <td>-0.036719</td>\n",
       "      <td>negative</td>\n",
       "    </tr>\n",
       "    <tr>\n",
       "      <th>1</th>\n",
       "      <td>5</td>\n",
       "      <td>husband patient dr byrne last year half last m...</td>\n",
       "      <td>0.069479</td>\n",
       "      <td>positive</td>\n",
       "    </tr>\n",
       "    <tr>\n",
       "      <th>4</th>\n",
       "      <td>1</td>\n",
       "      <td>wish could give star bad office ever horrible ...</td>\n",
       "      <td>-0.084259</td>\n",
       "      <td>negative</td>\n",
       "    </tr>\n",
       "    <tr>\n",
       "      <th>5</th>\n",
       "      <td>1</td>\n",
       "      <td>go emergency room kidney stone attack emergenc...</td>\n",
       "      <td>0.133618</td>\n",
       "      <td>positive</td>\n",
       "    </tr>\n",
       "    <tr>\n",
       "      <th>6</th>\n",
       "      <td>5</td>\n",
       "      <td>dr byrne excellent doctor right skill include ...</td>\n",
       "      <td>0.210708</td>\n",
       "      <td>positive</td>\n",
       "    </tr>\n",
       "  </tbody>\n",
       "</table>\n",
       "</div>"
      ],
      "text/plain": [
       "   stars                                         clean_text  sent_value_clean  \\\n",
       "0      1  please stay away place bad care imaginable sta...         -0.036719   \n",
       "1      5  husband patient dr byrne last year half last m...          0.069479   \n",
       "4      1  wish could give star bad office ever horrible ...         -0.084259   \n",
       "5      1  go emergency room kidney stone attack emergenc...          0.133618   \n",
       "6      5  dr byrne excellent doctor right skill include ...          0.210708   \n",
       "\n",
       "  sent_score_clean  \n",
       "0         negative  \n",
       "1         positive  \n",
       "4         negative  \n",
       "5         positive  \n",
       "6         positive  "
      ]
     },
     "execution_count": 7,
     "metadata": {},
     "output_type": "execute_result"
    }
   ],
   "source": [
    "data = data.ix[np.where((data.stars==1)|(data.stars==5))]\n",
    "\n",
    "data.head()"
   ]
  },
  {
   "cell_type": "code",
   "execution_count": 8,
   "metadata": {},
   "outputs": [],
   "source": [
    "data.stars.replace(1,0,inplace=True)\n",
    "data.stars.replace(5,1,inplace=True)"
   ]
  },
  {
   "cell_type": "code",
   "execution_count": 9,
   "metadata": {},
   "outputs": [
    {
     "data": {
      "text/html": [
       "<div>\n",
       "<style scoped>\n",
       "    .dataframe tbody tr th:only-of-type {\n",
       "        vertical-align: middle;\n",
       "    }\n",
       "\n",
       "    .dataframe tbody tr th {\n",
       "        vertical-align: top;\n",
       "    }\n",
       "\n",
       "    .dataframe thead th {\n",
       "        text-align: right;\n",
       "    }\n",
       "</style>\n",
       "<table border=\"1\" class=\"dataframe\">\n",
       "  <thead>\n",
       "    <tr style=\"text-align: right;\">\n",
       "      <th></th>\n",
       "      <th>stars</th>\n",
       "      <th>clean_text</th>\n",
       "      <th>sent_value_clean</th>\n",
       "      <th>sent_score_clean</th>\n",
       "    </tr>\n",
       "  </thead>\n",
       "  <tbody>\n",
       "    <tr>\n",
       "      <th>0</th>\n",
       "      <td>0</td>\n",
       "      <td>please stay away place bad care imaginable sta...</td>\n",
       "      <td>-0.036719</td>\n",
       "      <td>negative</td>\n",
       "    </tr>\n",
       "    <tr>\n",
       "      <th>1</th>\n",
       "      <td>1</td>\n",
       "      <td>husband patient dr byrne last year half last m...</td>\n",
       "      <td>0.069479</td>\n",
       "      <td>positive</td>\n",
       "    </tr>\n",
       "    <tr>\n",
       "      <th>4</th>\n",
       "      <td>0</td>\n",
       "      <td>wish could give star bad office ever horrible ...</td>\n",
       "      <td>-0.084259</td>\n",
       "      <td>negative</td>\n",
       "    </tr>\n",
       "    <tr>\n",
       "      <th>5</th>\n",
       "      <td>0</td>\n",
       "      <td>go emergency room kidney stone attack emergenc...</td>\n",
       "      <td>0.133618</td>\n",
       "      <td>positive</td>\n",
       "    </tr>\n",
       "    <tr>\n",
       "      <th>6</th>\n",
       "      <td>1</td>\n",
       "      <td>dr byrne excellent doctor right skill include ...</td>\n",
       "      <td>0.210708</td>\n",
       "      <td>positive</td>\n",
       "    </tr>\n",
       "  </tbody>\n",
       "</table>\n",
       "</div>"
      ],
      "text/plain": [
       "   stars                                         clean_text  sent_value_clean  \\\n",
       "0      0  please stay away place bad care imaginable sta...         -0.036719   \n",
       "1      1  husband patient dr byrne last year half last m...          0.069479   \n",
       "4      0  wish could give star bad office ever horrible ...         -0.084259   \n",
       "5      0  go emergency room kidney stone attack emergenc...          0.133618   \n",
       "6      1  dr byrne excellent doctor right skill include ...          0.210708   \n",
       "\n",
       "  sent_score_clean  \n",
       "0         negative  \n",
       "1         positive  \n",
       "4         negative  \n",
       "5         positive  \n",
       "6         positive  "
      ]
     },
     "execution_count": 9,
     "metadata": {},
     "output_type": "execute_result"
    }
   ],
   "source": [
    "data.head()"
   ]
  },
  {
   "cell_type": "markdown",
   "metadata": {},
   "source": [
    "## split test train"
   ]
  },
  {
   "cell_type": "code",
   "execution_count": 13,
   "metadata": {},
   "outputs": [],
   "source": [
    "from sklearn.model_selection import train_test_split"
   ]
  },
  {
   "cell_type": "code",
   "execution_count": 11,
   "metadata": {},
   "outputs": [],
   "source": [
    " train_test_split?"
   ]
  },
  {
   "cell_type": "code",
   "execution_count": 14,
   "metadata": {},
   "outputs": [],
   "source": [
    "review = data['clean_text'].values.astype(str)\n",
    "sentiments = data['stars'].values"
   ]
  },
  {
   "cell_type": "code",
   "execution_count": 15,
   "metadata": {},
   "outputs": [],
   "source": [
    "X_train, X_test, y_train, y_test = train_test_split(review, sentiments, test_size=0.33, random_state=42)"
   ]
  },
  {
   "cell_type": "code",
   "execution_count": null,
   "metadata": {},
   "outputs": [],
   "source": []
  },
  {
   "cell_type": "markdown",
   "metadata": {},
   "source": [
    "## Pre-processing"
   ]
  },
  {
   "cell_type": "code",
   "execution_count": 16,
   "metadata": {},
   "outputs": [],
   "source": [
    "from sklearn.feature_extraction.text import CountVectorizer\n",
    "from sklearn.preprocessing import LabelBinarizer  # two classes of text conv to 1&0's"
   ]
  },
  {
   "cell_type": "code",
   "execution_count": 17,
   "metadata": {},
   "outputs": [],
   "source": [
    "count_vect = CountVectorizer() # counts the occurance of text in doc"
   ]
  },
  {
   "cell_type": "code",
   "execution_count": 18,
   "metadata": {},
   "outputs": [],
   "source": [
    "X_train_counts = count_vect.fit_transform(X_train)"
   ]
  },
  {
   "cell_type": "code",
   "execution_count": 19,
   "metadata": {},
   "outputs": [
    {
     "data": {
      "text/plain": [
       "[('client', 5210), ('lenscrafter', 16571), ('year', 32366)]"
      ]
     },
     "execution_count": 19,
     "metadata": {},
     "output_type": "execute_result"
    }
   ],
   "source": [
    "list(count_vect.vocabulary_.items())[0:3]"
   ]
  },
  {
   "cell_type": "code",
   "execution_count": 20,
   "metadata": {},
   "outputs": [
    {
     "data": {
      "text/plain": [
       "32641"
      ]
     },
     "execution_count": 20,
     "metadata": {},
     "output_type": "execute_result"
    }
   ],
   "source": [
    "len(count_vect.vocabulary_)"
   ]
  },
  {
   "cell_type": "code",
   "execution_count": 21,
   "metadata": {},
   "outputs": [],
   "source": [
    "lab_bin = LabelBinarizer()\n",
    "y_train_bin = lab_bin.fit_transform(y_train)\n",
    "y_test_bin = lab_bin.fit_transform(y_test)"
   ]
  },
  {
   "cell_type": "markdown",
   "metadata": {},
   "source": [
    "## Train"
   ]
  },
  {
   "cell_type": "code",
   "execution_count": 22,
   "metadata": {},
   "outputs": [],
   "source": [
    "from sklearn.naive_bayes import MultinomialNB"
   ]
  },
  {
   "cell_type": "code",
   "execution_count": 23,
   "metadata": {},
   "outputs": [],
   "source": [
    "clf = MultinomialNB().fit(X_train_counts, y_train_bin.ravel())"
   ]
  },
  {
   "cell_type": "code",
   "execution_count": 24,
   "metadata": {},
   "outputs": [
    {
     "data": {
      "text/plain": [
       "32641"
      ]
     },
     "execution_count": 24,
     "metadata": {},
     "output_type": "execute_result"
    }
   ],
   "source": [
    "len(clf.coef_[0])"
   ]
  },
  {
   "cell_type": "code",
   "execution_count": 25,
   "metadata": {},
   "outputs": [],
   "source": [
    "import collections"
   ]
  },
  {
   "cell_type": "code",
   "execution_count": 26,
   "metadata": {},
   "outputs": [],
   "source": [
    "importanceCount = collections.Counter()"
   ]
  },
  {
   "cell_type": "code",
   "execution_count": 27,
   "metadata": {},
   "outputs": [],
   "source": [
    "for word, imp in zip(count_vect.vocabulary_.keys(), clf.coef_[0]):\n",
    "    importanceCount[word] = imp"
   ]
  },
  {
   "cell_type": "code",
   "execution_count": 28,
   "metadata": {},
   "outputs": [
    {
     "data": {
      "text/plain": [
       "[('partridg', -13.885211978371142),\n",
       " ('blurb', -13.885211978371142),\n",
       " ('deputy', -13.885211978371142),\n",
       " ('gunbelt', -13.885211978371142),\n",
       " ('lode', -13.885211978371142),\n",
       " ('baranoff', -13.885211978371142),\n",
       " ('sript', -13.885211978371142),\n",
       " ('winfrey', -13.885211978371142),\n",
       " ('schedd', -13.885211978371142),\n",
       " ('snort', -13.885211978371142)]"
      ]
     },
     "execution_count": 28,
     "metadata": {},
     "output_type": "execute_result"
    }
   ],
   "source": [
    "importanceCount.most_common()[-10:]"
   ]
  },
  {
   "cell_type": "code",
   "execution_count": 29,
   "metadata": {},
   "outputs": [
    {
     "data": {
      "text/plain": [
       "[('xiao', -3.7565429524952396),\n",
       " ('aliyah', -4.024579736141444),\n",
       " ('mattress', -4.472012398383457),\n",
       " ('expirienc', -4.495053179819124),\n",
       " ('subscriber', -4.501674887933563),\n",
       " ('askaris', -4.562436177065171),\n",
       " ('dx', -4.630759031776639),\n",
       " ('seizure', -4.639504462557669),\n",
       " ('christie', -4.655559295362586),\n",
       " ('bergner', -4.709256033256791)]"
      ]
     },
     "execution_count": 29,
     "metadata": {},
     "output_type": "execute_result"
    }
   ],
   "source": [
    "importanceCount.most_common()[0:10]"
   ]
  },
  {
   "cell_type": "markdown",
   "metadata": {},
   "source": [
    "## Now test"
   ]
  },
  {
   "cell_type": "code",
   "execution_count": 30,
   "metadata": {},
   "outputs": [],
   "source": [
    "X_test_counts = count_vect.transform(X_test)"
   ]
  },
  {
   "cell_type": "code",
   "execution_count": 31,
   "metadata": {},
   "outputs": [],
   "source": [
    "pred = clf.predict(X_test_counts)"
   ]
  },
  {
   "cell_type": "code",
   "execution_count": 32,
   "metadata": {},
   "outputs": [],
   "source": [
    "from sklearn.metrics import average_precision_score"
   ]
  },
  {
   "cell_type": "code",
   "execution_count": 33,
   "metadata": {},
   "outputs": [
    {
     "name": "stdout",
     "output_type": "stream",
     "text": [
      "Preicision = 0.955101\n"
     ]
    }
   ],
   "source": [
    "print('Preicision = {:f}'.format(average_precision_score(y_test_bin,pred)))"
   ]
  },
  {
   "cell_type": "markdown",
   "metadata": {},
   "source": [
    "## sanity check"
   ]
  },
  {
   "cell_type": "code",
   "execution_count": 34,
   "metadata": {},
   "outputs": [
    {
     "data": {
      "text/plain": [
       "array([0])"
      ]
     },
     "execution_count": 34,
     "metadata": {},
     "output_type": "execute_result"
    }
   ],
   "source": [
    "clf.predict(count_vect.transform(['this nurse couldnt even measure my temperature corectly']))"
   ]
  },
  {
   "cell_type": "markdown",
   "metadata": {},
   "source": [
    "## prob of the prediction"
   ]
  },
  {
   "cell_type": "code",
   "execution_count": 35,
   "metadata": {},
   "outputs": [
    {
     "data": {
      "text/plain": [
       "array([[0.93845429, 0.06154571]])"
      ]
     },
     "execution_count": 35,
     "metadata": {},
     "output_type": "execute_result"
    }
   ],
   "source": [
    "clf.predict_proba(count_vect.transform(['this nurse couldnt even measure my temperature corectly']))"
   ]
  },
  {
   "cell_type": "code",
   "execution_count": 36,
   "metadata": {},
   "outputs": [],
   "source": [
    "rev0 = '''\n",
    "If you plan on working here for benefits, run away, especially if you want to have a baby here. You would think being an employee would offer some perks, but it does not.  They changed their insurance plans at the end of the year, so people who planned a pregnancy in 2017 were screwed if their babies were born in 2018. $1000's in in hospital bills (and this is for an uncomplicated delivery). \n",
    "\n",
    "If Dinette is your nurse, ask for another one. My experience was terrible with her. I called to file a complaint about her and was told they would look into it. No one has ever contacted me!\n",
    "\n",
    "Watch out for your itemized billing statements. They charge you for the hospital, the nurses, the anesthesiologist, OB and labs all separately. This is why our healthcare is going down the hole. There is no possible way to tell if you are being charged properly. Also, they charge you to admit you.\n",
    "'''\n",
    "\n",
    "rev1 = '''\n",
    "First off this is a review of the cafe.  This is by far the best hospital food I've had.  Their cafe honestly better than Luby's cafe food.  They offer a wide variety of selections from fresh to order sandwiches, a BBQ area, Asian Stir frys, Homestyle cooking meals, Tex-Mex stand, Pasta Bar, Pizza, Sushi, fresh made salads and soup, and a made to order grill.  But what makes this a 5 star is their desserts.  Their desserts are amazing!  The presentation looks like something out of la madeline.  I am willing to make the walk from work to this cafe.\n",
    "'''\n",
    "\n",
    "rev00 = '''\n",
    "Attn Small Business Owners and Independence Insurance Policy Holders. Beginning in  March 2018, received a call from Houston Methodist Hospital concerning a bill for 289.20.  On March 16, 2018, paid the amount over the phone with a Customer Service representative receiving a confirmation from my bank stating the bill was paid with an authorization code time 11:53 a.m. As of May 3rd, 2018, my patient portal still reflecting a payment due on the same bill listed above. Contacted Houston Methodist Hospital again for the same bill their representative called me back in March 2018 and payment was not credited to my bill. \n",
    "\n",
    "I receive a call from the same customer service department dated 24th of May, 2108, this representative from Houston Methodist department stating my insurance payment has been posted from the EOB(Explanation of Benefits) for the outstanding bill of 30, 033.20 and an outstanding credit (REFUND) of $594.09 will be processed. The female representative will process the refund amount stated above.  She left the contact number 832-667-6291 (does not work) concerning her message. \n",
    "\n",
    "Now returning to my mailbox on June 7, 2018 inside I found a bill from Houston Methodist Hospital for the amount listed above for 30,033.20. OK- DUMB ASS - I am totally sick of you and will use all multimedia to post my complaint plus letters to the Board Members and Chief Executive Officer. I have kept a copy of this post for my file !\n",
    "'''\n",
    "rev11 = '''\n",
    "This review is solely based on being a visitor and not a patient.\n",
    "\n",
    "Houston Methodist is a top notch hospital in terms of patient care and customer service to visitors. From the cafeteria staff to nurses, from the security to the surgeons, every staff member greet you with a smile and goes above and beyond to serve you. \n",
    "\n",
    "Here are few compliments about this hospital:\n",
    "\n",
    "1. Food- The cafeteria food is amazing and reasonably price. From pasta, pizza, sushi, fried fish sandwiches and more, they have it all. Did I mentioned that it was reasonably priced? I love that the hospital is not trying to overcharge you when you are frequently visiting here. \n",
    "\n",
    "2. Staff- They are very friendly and sensitive to your reason of visiting the facility. The nurse staff was  personable to family and loved one needing the care. We felt comforted knowing that our loved one was in good hands.\n",
    "\n",
    "ONLY ISSUE is parking. There should be a special discount or program for visitors who frequently visit for weeks or months. Charging $13 a day can be very taxing on a family. Especially if they have more than one family member driving to the facility.\n",
    "'''\n",
    "\n",
    "rev000 = '''\n",
    "The medical care we received at Methodist was very good.\n",
    "\n",
    "Billing and customer service is beyond terrible! If I lost a leg across the street from Methodist...I would find a way to drive across town to a different hospital.\n",
    "\n",
    "My son got stitches from a nurse. The procedure never involved a doctor or any medicine, and probably took an hour from start to finish. I received a bill weeks later for nearly $2500! For stitches! \n",
    "\n",
    "I also received a bill from the physician's office for the same work (but only for about $250, which I happily paid). Mind you, the physician's office is billing for the people that actually did the work! Methodist is supposed to only be charging for use of the facility, equipment, and medications.\n",
    "\n",
    "Comparing the two bills, it became apparent that not only was Methodist charging me for work done by the physician's office (double charging), they were charging far more than the physicians were. Further, nearly all of the charges were incorrect (they listed the wrong trauma level, wrong part of the body!, and wrong length of the laceration). \n",
    "\n",
    "When I called billing to correct these issues, they were not able to answer anything. You may as well be talking to burger king workers about your medical billing. They insist that everything is correct, while not being able to explain what any of it means, or answer your questions. Finally they transfer you to their supervisor, which is always voicemail, and then they never call you back. I have made about 10 calls to their office now, and six months later, the issue is still unresolved.\n",
    "\n",
    "The physician's office even told me that Methodist is their worst client, and never handles their billing correctly.\n",
    "'''"
   ]
  },
  {
   "cell_type": "code",
   "execution_count": 37,
   "metadata": {},
   "outputs": [
    {
     "data": {
      "text/plain": [
       "array([0])"
      ]
     },
     "execution_count": 37,
     "metadata": {},
     "output_type": "execute_result"
    }
   ],
   "source": [
    "clf.predict(count_vect.transform([rev000]))"
   ]
  },
  {
   "cell_type": "code",
   "execution_count": 38,
   "metadata": {},
   "outputs": [
    {
     "data": {
      "text/plain": [
       "array([[1.00000000e+00, 1.13148292e-20]])"
      ]
     },
     "execution_count": 38,
     "metadata": {},
     "output_type": "execute_result"
    }
   ],
   "source": [
    "clf.predict_proba(count_vect.transform([rev000]))"
   ]
  }
 ],
 "metadata": {
  "kernelspec": {
   "display_name": "Python 3",
   "language": "python",
   "name": "python3"
  },
  "language_info": {
   "codemirror_mode": {
    "name": "ipython",
    "version": 3
   },
   "file_extension": ".py",
   "mimetype": "text/x-python",
   "name": "python",
   "nbconvert_exporter": "python",
   "pygments_lexer": "ipython3",
   "version": "3.6.6"
  }
 },
 "nbformat": 4,
 "nbformat_minor": 2
}
