{
 "cells": [
  {
   "cell_type": "code",
   "execution_count": 1,
   "metadata": {},
   "outputs": [],
   "source": [
    "import warnings\n",
    "warnings.filterwarnings('ignore')"
   ]
  },
  {
   "cell_type": "code",
   "execution_count": 2,
   "metadata": {},
   "outputs": [],
   "source": [
    "import numpy as np\n",
    "import pandas as pd"
   ]
  },
  {
   "cell_type": "code",
   "execution_count": 3,
   "metadata": {},
   "outputs": [],
   "source": [
    "import seaborn as sns\n",
    "import matplotlib.pyplot as plt\n",
    "plt.style.use('ggplot')"
   ]
  },
  {
   "cell_type": "code",
   "execution_count": 4,
   "metadata": {},
   "outputs": [],
   "source": [
    "from sklearn.svm import LinearSVC\n",
    "\n",
    "from sklearn.model_selection import train_test_split\n",
    "from sklearn.feature_extraction.text import CountVectorizer, TfidfVectorizer\n",
    "from sklearn import metrics\n",
    "from sklearn.metrics import confusion_matrix, classification_report, accuracy_score,recall_score,precision_score"
   ]
  },
  {
   "cell_type": "markdown",
   "metadata": {},
   "source": [
    "# Load data"
   ]
  },
  {
   "cell_type": "code",
   "execution_count": 5,
   "metadata": {},
   "outputs": [],
   "source": [
    "path = 'yelp_data/health_text_sentiment.csv'\n",
    "df = pd.read_csv(path)\n",
    "df.drop(['Unnamed: 0'],axis=1,inplace=True)\n",
    "\n",
    "df = df[['stars','text',\n",
    " 'clean_text']]"
   ]
  },
  {
   "cell_type": "markdown",
   "metadata": {},
   "source": [
    "## select 1 & 5 stars"
   ]
  },
  {
   "cell_type": "code",
   "execution_count": 6,
   "metadata": {},
   "outputs": [
    {
     "data": {
      "text/html": [
       "<div>\n",
       "<style scoped>\n",
       "    .dataframe tbody tr th:only-of-type {\n",
       "        vertical-align: middle;\n",
       "    }\n",
       "\n",
       "    .dataframe tbody tr th {\n",
       "        vertical-align: top;\n",
       "    }\n",
       "\n",
       "    .dataframe thead th {\n",
       "        text-align: right;\n",
       "    }\n",
       "</style>\n",
       "<table border=\"1\" class=\"dataframe\">\n",
       "  <thead>\n",
       "    <tr style=\"text-align: right;\">\n",
       "      <th></th>\n",
       "      <th>stars</th>\n",
       "      <th>text</th>\n",
       "      <th>clean_text</th>\n",
       "    </tr>\n",
       "  </thead>\n",
       "  <tbody>\n",
       "    <tr>\n",
       "      <th>0</th>\n",
       "      <td>1</td>\n",
       "      <td>Please stay away from this place if you can! I...</td>\n",
       "      <td>please stay away place bad care imaginable sta...</td>\n",
       "    </tr>\n",
       "    <tr>\n",
       "      <th>1</th>\n",
       "      <td>5</td>\n",
       "      <td>My husband has been a patient of Dr. Byrne for...</td>\n",
       "      <td>husband patient dr byrne last year half last m...</td>\n",
       "    </tr>\n",
       "    <tr>\n",
       "      <th>4</th>\n",
       "      <td>1</td>\n",
       "      <td>I wish I could give 0 stars. Worst office I've...</td>\n",
       "      <td>wish could give star bad office ever horrible ...</td>\n",
       "    </tr>\n",
       "    <tr>\n",
       "      <th>5</th>\n",
       "      <td>1</td>\n",
       "      <td>I went to the emergency room because i was hav...</td>\n",
       "      <td>go emergency room kidney stone attack emergenc...</td>\n",
       "    </tr>\n",
       "    <tr>\n",
       "      <th>6</th>\n",
       "      <td>5</td>\n",
       "      <td>Dr. Byrne is an excellent doctor with all the ...</td>\n",
       "      <td>dr byrne excellent doctor right skill include ...</td>\n",
       "    </tr>\n",
       "  </tbody>\n",
       "</table>\n",
       "</div>"
      ],
      "text/plain": [
       "   stars                                               text  \\\n",
       "0      1  Please stay away from this place if you can! I...   \n",
       "1      5  My husband has been a patient of Dr. Byrne for...   \n",
       "4      1  I wish I could give 0 stars. Worst office I've...   \n",
       "5      1  I went to the emergency room because i was hav...   \n",
       "6      5  Dr. Byrne is an excellent doctor with all the ...   \n",
       "\n",
       "                                          clean_text  \n",
       "0  please stay away place bad care imaginable sta...  \n",
       "1  husband patient dr byrne last year half last m...  \n",
       "4  wish could give star bad office ever horrible ...  \n",
       "5  go emergency room kidney stone attack emergenc...  \n",
       "6  dr byrne excellent doctor right skill include ...  "
      ]
     },
     "execution_count": 6,
     "metadata": {},
     "output_type": "execute_result"
    }
   ],
   "source": [
    "data = df.ix[np.where((df.stars==1)|(df.stars==5))]\n",
    "# data.stars.replace(1,0,inplace=True)\n",
    "# data.stars.replace(5,1,inplace=True)\n",
    "\n",
    "data.head()"
   ]
  },
  {
   "cell_type": "markdown",
   "metadata": {},
   "source": [
    "## split\n"
   ]
  },
  {
   "cell_type": "code",
   "execution_count": 7,
   "metadata": {},
   "outputs": [],
   "source": [
    "# split\n",
    "X = data['clean_text'].values.astype(str)\n",
    "\n",
    "y = data['stars'].values"
   ]
  },
  {
   "cell_type": "markdown",
   "metadata": {},
   "source": [
    "## train_test_split"
   ]
  },
  {
   "cell_type": "code",
   "execution_count": 8,
   "metadata": {},
   "outputs": [],
   "source": [
    "X_train, X_test, y_train, y_test = train_test_split(X, y, test_size=0.33, random_state=42)"
   ]
  },
  {
   "cell_type": "markdown",
   "metadata": {},
   "source": [
    "## CountVectorizer"
   ]
  },
  {
   "cell_type": "code",
   "execution_count": 9,
   "metadata": {},
   "outputs": [],
   "source": [
    "count_vectorizer = CountVectorizer()\n",
    "count_train = count_vectorizer.fit_transform(X_train)\n",
    "count_test = count_vectorizer.transform(X_test)"
   ]
  },
  {
   "cell_type": "markdown",
   "metadata": {},
   "source": [
    "## TfidfVectorizer"
   ]
  },
  {
   "cell_type": "code",
   "execution_count": 10,
   "metadata": {},
   "outputs": [],
   "source": [
    "tfidf_vectorizer = TfidfVectorizer()\n",
    "tfidf_train = tfidf_vectorizer.fit_transform(X_train)\n",
    "tfidf_test = tfidf_vectorizer.transform(X_test)"
   ]
  },
  {
   "cell_type": "code",
   "execution_count": null,
   "metadata": {},
   "outputs": [],
   "source": []
  },
  {
   "cell_type": "code",
   "execution_count": null,
   "metadata": {},
   "outputs": [],
   "source": []
  },
  {
   "cell_type": "markdown",
   "metadata": {},
   "source": [
    "# LinearSVC: CountVectorizer"
   ]
  },
  {
   "cell_type": "code",
   "execution_count": 11,
   "metadata": {},
   "outputs": [
    {
     "name": "stdout",
     "output_type": "stream",
     "text": [
      "accuracy:   0.961\n"
     ]
    }
   ],
   "source": [
    "svc_count_clf = LinearSVC()\n",
    "svc_count_clf.fit(count_train, y_train)\n",
    "pred = svc_count_clf.predict(count_test)\n",
    "score = metrics.accuracy_score(y_test, pred)\n",
    "print(\"accuracy:   %0.3f\" % score)"
   ]
  },
  {
   "cell_type": "code",
   "execution_count": null,
   "metadata": {},
   "outputs": [],
   "source": []
  },
  {
   "cell_type": "markdown",
   "metadata": {},
   "source": [
    "## C value"
   ]
  },
  {
   "cell_type": "code",
   "execution_count": 12,
   "metadata": {},
   "outputs": [
    {
     "data": {
      "text/plain": [
       "array([0.1, 0.2, 0.3, 0.4, 0.5, 0.6, 0.7, 0.8, 0.9])"
      ]
     },
     "execution_count": 12,
     "metadata": {},
     "output_type": "execute_result"
    }
   ],
   "source": [
    "c_results = dict()\n",
    "\n",
    "c_values = np.arange(0.1,1,.1)\n",
    "# c_values = np.around(c_values, decimals=2)\n",
    "#c_values = [1,2,3,4,5,10,15,20]\n",
    "c_values"
   ]
  },
  {
   "cell_type": "code",
   "execution_count": 13,
   "metadata": {},
   "outputs": [
    {
     "name": "stdout",
     "output_type": "stream",
     "text": [
      "C value: 0.10 Score: 0.96096\n",
      "C value: 0.20 Score: 0.96096\n",
      "C value: 0.30 Score: 0.96096\n",
      "C value: 0.40 Score: 0.96096\n",
      "C value: 0.50 Score: 0.96074\n",
      "C value: 0.60 Score: 0.96079\n",
      "C value: 0.70 Score: 0.96096\n",
      "C value: 0.80 Score: 0.96096\n",
      "C value: 0.90 Score: 0.96079\n"
     ]
    }
   ],
   "source": [
    "for c in c_values:\n",
    "    svc_count_clf = LinearSVC()\n",
    "    svc_count_clf.fit(count_train, y_train)\n",
    "    pred = svc_count_clf.predict(count_test)\n",
    "    score = metrics.accuracy_score(y_test, pred)\n",
    "    print(\"C value: {:.2f} Score: {:.5f}\".format(c, score))\n",
    "    c_results[c] = score"
   ]
  },
  {
   "cell_type": "code",
   "execution_count": 14,
   "metadata": {},
   "outputs": [
    {
     "data": {
      "image/png": "[encoded data removed]",
      "text/plain": [
       "<Figure size 432x288 with 1 Axes>"
      ]
     },
     "metadata": {
      "needs_background": "light"
     },
     "output_type": "display_data"
    }
   ],
   "source": [
    "fig = plt.figure()\n",
    "ax = fig.add_subplot(111)\n",
    "\n",
    "x=list(c_results.keys())\n",
    "y=list(c_results.values())\n",
    "line, = ax.plot(x, y)\n",
    "\n",
    "ymax = max(y)\n",
    "xpos = y.index(ymax)\n",
    "xmax = x[xpos]\n",
    "value = 'C value :{}\\nval:{:3f}'.format(xmax,ymax)\n",
    "ax.annotate(value, xy=(xmax, ymax),\n",
    "            arrowprops=dict(facecolor='black'), \n",
    "            xytext=(xmax+.01,ymax)\n",
    "            )\n",
    "plt.title('C values')\n",
    "plt.xlabel('C values')\n",
    "plt.ylabel('score')\n",
    "plt.show()"
   ]
  },
  {
   "cell_type": "code",
   "execution_count": 15,
   "metadata": {},
   "outputs": [
    {
     "name": "stdout",
     "output_type": "stream",
     "text": [
      "accuracy:   0.967\n"
     ]
    }
   ],
   "source": [
    "svc_count_clf = LinearSVC(C=0.1)\n",
    "svc_count_clf.fit(count_train, y_train)\n",
    "pred = svc_count_clf.predict(count_test)\n",
    "score = metrics.accuracy_score(y_test, pred)\n",
    "print(\"accuracy:   %0.3f\" % score)"
   ]
  },
  {
   "cell_type": "code",
   "execution_count": 16,
   "metadata": {},
   "outputs": [
    {
     "name": "stdout",
     "output_type": "stream",
     "text": [
      "              precision    recall  f1-score   support\n",
      "\n",
      "           1       0.96      0.96      0.96      7241\n",
      "           5       0.97      0.97      0.97     10485\n",
      "\n",
      "   micro avg       0.97      0.97      0.97     17726\n",
      "   macro avg       0.97      0.97      0.97     17726\n",
      "weighted avg       0.97      0.97      0.97     17726\n",
      "\n"
     ]
    }
   ],
   "source": [
    "print(classification_report(y_test, pred))"
   ]
  },
  {
   "cell_type": "code",
   "execution_count": 17,
   "metadata": {},
   "outputs": [
    {
     "data": {
      "image/png": "[encoded data removed]",
      "text/plain": [
       "<Figure size 576x288 with 1 Axes>"
      ]
     },
     "metadata": {
      "needs_background": "light"
     },
     "output_type": "display_data"
    }
   ],
   "source": [
    "cm = confusion_matrix(y_test, pred)\n",
    "plt.figure(figsize = (8,4))\n",
    "sns.heatmap(cm, annot=True, fmt=\"d\", cbar=False)\n",
    "plt.title('Confusion matrix: CountVectorizer')\n",
    "plt.ylabel('True label')\n",
    "plt.xlabel('Predicted label')\n",
    "plt.show()"
   ]
  },
  {
   "cell_type": "code",
   "execution_count": null,
   "metadata": {},
   "outputs": [],
   "source": []
  },
  {
   "cell_type": "markdown",
   "metadata": {},
   "source": [
    "# LinearSVC: TfidfVectorizer"
   ]
  },
  {
   "cell_type": "code",
   "execution_count": 18,
   "metadata": {},
   "outputs": [
    {
     "name": "stdout",
     "output_type": "stream",
     "text": [
      "accuracy:   0.970\n"
     ]
    }
   ],
   "source": [
    "svc_tfidf_clf = LinearSVC()\n",
    "svc_tfidf_clf.fit(tfidf_train, y_train)\n",
    "pred = svc_tfidf_clf.predict(tfidf_test)\n",
    "score = metrics.accuracy_score(y_test, pred)\n",
    "print(\"accuracy:   %0.3f\" % score)"
   ]
  },
  {
   "cell_type": "code",
   "execution_count": 23,
   "metadata": {},
   "outputs": [
    {
     "data": {
      "text/plain": [
       "array([0.1, 0.2, 0.3, 0.4, 0.5, 0.6, 0.7, 0.8, 0.9, 1. ])"
      ]
     },
     "execution_count": 23,
     "metadata": {},
     "output_type": "execute_result"
    }
   ],
   "source": [
    "c_results = dict()\n",
    "\n",
    "c_values = np.arange(0.1,1.1,.1)\n",
    "# c_values = np.around(c_values, decimals=2)\n",
    "#c_values = [1,2,3,4,5,10,15,20]\n",
    "c_values"
   ]
  },
  {
   "cell_type": "code",
   "execution_count": 20,
   "metadata": {},
   "outputs": [
    {
     "data": {
      "text/plain": [
       "[1, 2, 3, 4, 5, 10, 15, 20]"
      ]
     },
     "execution_count": 20,
     "metadata": {},
     "output_type": "execute_result"
    }
   ],
   "source": [
    "c_results = dict()\n",
    "\n",
    "c_values = np.arange(1,11,1)\n",
    "# c_values = np.around(c_values, decimals=2)\n",
    "c_values = [1,2,3,4,5,10,15,20]\n",
    "c_values"
   ]
  },
  {
   "cell_type": "code",
   "execution_count": 24,
   "metadata": {},
   "outputs": [
    {
     "name": "stdout",
     "output_type": "stream",
     "text": [
      "C value: 0.10 Score: 0.96999\n",
      "C value: 0.20 Score: 0.97027\n",
      "C value: 0.30 Score: 0.97038\n",
      "C value: 0.40 Score: 0.97033\n",
      "C value: 0.50 Score: 0.97050\n",
      "C value: 0.60 Score: 0.97050\n",
      "C value: 0.70 Score: 0.97044\n",
      "C value: 0.80 Score: 0.97061\n",
      "C value: 0.90 Score: 0.97027\n",
      "C value: 1.00 Score: 0.97027\n"
     ]
    }
   ],
   "source": [
    "for c in c_values:\n",
    "    svc_tfidf_clf = LinearSVC(C=c)\n",
    "    svc_tfidf_clf.fit(tfidf_train, y_train)\n",
    "    pred = svc_tfidf_clf.predict(tfidf_test)\n",
    "    score = metrics.accuracy_score(y_test, pred)\n",
    "    print(\"C value: {:.2f} Score: {:.5f}\".format(c, score))\n",
    "    c_results[c] = score"
   ]
  },
  {
   "cell_type": "code",
   "execution_count": 25,
   "metadata": {},
   "outputs": [
    {
     "data": {
      "image/png": "[encoded data removed]",
      "text/plain": [
       "<Figure size 432x288 with 1 Axes>"
      ]
     },
     "metadata": {
      "needs_background": "light"
     },
     "output_type": "display_data"
    }
   ],
   "source": [
    "fig = plt.figure()\n",
    "ax = fig.add_subplot(111)\n",
    "\n",
    "x=list(c_results.keys())\n",
    "y=list(c_results.values())\n",
    "line, = ax.plot(x, y)\n",
    "\n",
    "ymax = max(y)\n",
    "xpos = y.index(ymax)\n",
    "xmax = x[xpos]\n",
    "value = 'C value :{}\\nval:{:3f}'.format(xmax,ymax)\n",
    "ax.annotate(value, xy=(xmax, ymax),\n",
    "            arrowprops=dict(facecolor='black'), \n",
    "            xytext=(xmax,ymax)\n",
    "            )\n",
    "plt.title('C values')\n",
    "plt.xlabel('C values')\n",
    "plt.ylabel('score')\n",
    "plt.show()"
   ]
  },
  {
   "cell_type": "code",
   "execution_count": 26,
   "metadata": {},
   "outputs": [
    {
     "name": "stdout",
     "output_type": "stream",
     "text": [
      "accuracy:   0.971\n"
     ]
    }
   ],
   "source": [
    "svc_tfidf_clf = LinearSVC(C=0.8)\n",
    "svc_tfidf_clf.fit(tfidf_train, y_train)\n",
    "pred = svc_tfidf_clf.predict(tfidf_test)\n",
    "score = metrics.accuracy_score(y_test, pred)\n",
    "print(\"accuracy:   %0.3f\" % score)"
   ]
  },
  {
   "cell_type": "markdown",
   "metadata": {},
   "source": [
    "## max_df values"
   ]
  },
  {
   "cell_type": "code",
   "execution_count": 27,
   "metadata": {},
   "outputs": [
    {
     "data": {
      "text/plain": [
       "array([0.1, 0.2, 0.3, 0.4, 0.5, 0.6, 0.7, 0.8, 0.9, 1. ])"
      ]
     },
     "execution_count": 27,
     "metadata": {},
     "output_type": "execute_result"
    }
   ],
   "source": [
    "dfrq_results = dict()\n",
    "\n",
    "dfrq_range = np.arange(0.1,1.1,0.1)\n",
    "dfrq_range = np.around(dfrq_range, decimals=2)\n",
    "dfrq_range"
   ]
  },
  {
   "cell_type": "code",
   "execution_count": 28,
   "metadata": {},
   "outputs": [
    {
     "name": "stdout",
     "output_type": "stream",
     "text": [
      "max_df: 0.10 Score: 0.95538\n",
      "max_df: 0.20 Score: 0.96412\n",
      "max_df: 0.30 Score: 0.96886\n",
      "max_df: 0.40 Score: 0.96948\n",
      "max_df: 0.50 Score: 0.96925\n",
      "max_df: 0.60 Score: 0.96925\n",
      "max_df: 0.70 Score: 0.97038\n",
      "max_df: 0.80 Score: 0.97038\n",
      "max_df: 0.90 Score: 0.97038\n",
      "max_df: 1.00 Score: 0.97038\n"
     ]
    }
   ],
   "source": [
    "for dfq in dfrq_range: \n",
    "    tfidf_vectorizer = TfidfVectorizer(max_df=dfq)\n",
    "    tfidf_train = tfidf_vectorizer.fit_transform(X_train)\n",
    "    tfidf_test = tfidf_vectorizer.transform(X_test)\n",
    "    \n",
    "    svc_tfidf_clf = LinearSVC(C=0.3)\n",
    "    svc_tfidf_clf.fit(tfidf_train, y_train)\n",
    "    pred = svc_tfidf_clf.predict(tfidf_test)\n",
    "    score = metrics.accuracy_score(y_test, pred)\n",
    "    print(\"max_df: {:.2f} Score: {:.5f}\".format(dfq, score))\n",
    "    dfrq_results[dfq] = score"
   ]
  },
  {
   "cell_type": "code",
   "execution_count": null,
   "metadata": {},
   "outputs": [],
   "source": []
  },
  {
   "cell_type": "code",
   "execution_count": 29,
   "metadata": {},
   "outputs": [
    {
     "data": {
      "image/png": "[encoded data removed]",
      "text/plain": [
       "<Figure size 432x288 with 1 Axes>"
      ]
     },
     "metadata": {
      "needs_background": "light"
     },
     "output_type": "display_data"
    }
   ],
   "source": [
    "fig = plt.figure()\n",
    "ax = fig.add_subplot(111)\n",
    "\n",
    "x=list(dfrq_results.keys())\n",
    "y=list(dfrq_results.values())\n",
    "line, = ax.plot(x, y)\n",
    "\n",
    "ymax = max(y)\n",
    "xpos = y.index(ymax)\n",
    "xmax = x[xpos]\n",
    "value = 'max_df :{}\\nval:{:3f}'.format(xmax,ymax)\n",
    "ax.annotate(value, xy=(xmax, ymax),\n",
    "            arrowprops=dict(facecolor='black'), \n",
    "           # xytext=(xmax+.01,ymax)\n",
    "            )\n",
    "plt.title('max_df')\n",
    "plt.xlabel('max_df values')\n",
    "plt.ylabel('score')\n",
    "plt.show()"
   ]
  },
  {
   "cell_type": "markdown",
   "metadata": {},
   "source": [
    "##  ngrams"
   ]
  },
  {
   "cell_type": "code",
   "execution_count": null,
   "metadata": {},
   "outputs": [],
   "source": []
  },
  {
   "cell_type": "code",
   "execution_count": null,
   "metadata": {},
   "outputs": [],
   "source": [
    "ngram_results = dict()\n",
    "ngram_ranges = ((1,2),(1,3),(1,4),(2,3),(2,4))\n",
    "ngram_ranges"
   ]
  },
  {
   "cell_type": "code",
   "execution_count": null,
   "metadata": {},
   "outputs": [],
   "source": [
    "svc_tfidf_clf = LinearSVC()\n",
    "svc_tfidf_clf.fit(tfidf_train, y_train)\n",
    "pred = svc_tfidf_clf.predict(tfidf_test)\n",
    "score = metrics.accuracy_score(y_test, pred)\n",
    "print(\"accuracy:   %0.3f\" % score)"
   ]
  },
  {
   "cell_type": "code",
   "execution_count": null,
   "metadata": {},
   "outputs": [],
   "source": [
    "\n",
    "for ngram_range in ngram_ranges:\n",
    "    tfidf_vectorizer = TfidfVectorizer(ngram_range=ngram_range)\n",
    "    tfidf_train = tfidf_vectorizer.fit_transform(X_train)\n",
    "    tfidf_test = tfidf_vectorizer.transform(X_test)\n",
    "    \n",
    "    svc_tfidf_clf = LinearSVC()\n",
    "    svc_tfidf_clf.fit(tfidf_train, y_train)\n",
    "    pred = svc_tfidf_clf.predict(tfidf_test)\n",
    "    score = metrics.accuracy_score(y_test, pred)\n",
    "\n",
    "    print(\"ngram_range: {} Score: {:.5f}\".format(ngram_range, score))\n",
    "    ngram_results[ngram_range] = score"
   ]
  },
  {
   "cell_type": "code",
   "execution_count": null,
   "metadata": {},
   "outputs": [],
   "source": []
  },
  {
   "cell_type": "code",
   "execution_count": null,
   "metadata": {},
   "outputs": [],
   "source": []
  },
  {
   "cell_type": "code",
   "execution_count": 31,
   "metadata": {},
   "outputs": [
    {
     "name": "stdout",
     "output_type": "stream",
     "text": [
      "accuracy:   0.977\n"
     ]
    }
   ],
   "source": [
    "tfidf_vectorizer = TfidfVectorizer(ngram_range=(1,2))\n",
    "tfidf_train = tfidf_vectorizer.fit_transform(X_train)\n",
    "tfidf_test = tfidf_vectorizer.transform(X_test)\n",
    "\n",
    "svc_tfidf_clf = LinearSVC()\n",
    "svc_tfidf_clf.fit(tfidf_train, y_train)\n",
    "pred = svc_tfidf_clf.predict(tfidf_test)\n",
    "score = metrics.accuracy_score(y_test, pred)\n",
    "print(\"accuracy:   %0.3f\" % score)"
   ]
  },
  {
   "cell_type": "code",
   "execution_count": null,
   "metadata": {},
   "outputs": [],
   "source": []
  },
  {
   "cell_type": "code",
   "execution_count": 32,
   "metadata": {},
   "outputs": [
    {
     "data": {
      "text/plain": [
       "array([0.1, 0.2, 0.3, 0.4, 0.5, 0.6, 0.7, 0.8, 0.9, 1. ])"
      ]
     },
     "execution_count": 32,
     "metadata": {},
     "output_type": "execute_result"
    }
   ],
   "source": [
    "dfrq_results = dict()\n",
    "\n",
    "dfrq_range = np.arange(0.1,1.1,0.1)\n",
    "dfrq_range = np.around(dfrq_range, decimals=2)\n",
    "dfrq_range"
   ]
  },
  {
   "cell_type": "code",
   "execution_count": 33,
   "metadata": {},
   "outputs": [
    {
     "name": "stdout",
     "output_type": "stream",
     "text": [
      "max_df: 0.10 Score: 0.97642\n",
      "max_df: 0.20 Score: 0.97715\n",
      "max_df: 0.30 Score: 0.97811\n",
      "max_df: 0.40 Score: 0.97845\n",
      "max_df: 0.50 Score: 0.97760\n",
      "max_df: 0.60 Score: 0.97760\n",
      "max_df: 0.70 Score: 0.97698\n",
      "max_df: 0.80 Score: 0.97698\n",
      "max_df: 0.90 Score: 0.97698\n",
      "max_df: 1.00 Score: 0.97698\n"
     ]
    }
   ],
   "source": [
    "for dfq in dfrq_range: \n",
    "    tfidf_vectorizer = TfidfVectorizer(ngram_range=(1,2),max_df=dfq)\n",
    "    tfidf_train = tfidf_vectorizer.fit_transform(X_train)\n",
    "    tfidf_test = tfidf_vectorizer.transform(X_test)\n",
    "    \n",
    "    svc_tfidf_clf = LinearSVC()\n",
    "    svc_tfidf_clf.fit(tfidf_train, y_train)\n",
    "    pred = svc_tfidf_clf.predict(tfidf_test)\n",
    "    score = metrics.accuracy_score(y_test, pred)\n",
    "    print(\"max_df: {:.2f} Score: {:.5f}\".format(dfq, score))\n",
    "    dfrq_results[dfq] = score"
   ]
  },
  {
   "cell_type": "code",
   "execution_count": 34,
   "metadata": {},
   "outputs": [
    {
     "data": {
      "image/png": "[encoded data removed]",
      "text/plain": [
       "<Figure size 432x288 with 1 Axes>"
      ]
     },
     "metadata": {
      "needs_background": "light"
     },
     "output_type": "display_data"
    }
   ],
   "source": [
    "fig = plt.figure()\n",
    "ax = fig.add_subplot(111)\n",
    "\n",
    "x=list(dfrq_results.keys())\n",
    "y=list(dfrq_results.values())\n",
    "line, = ax.plot(x, y)\n",
    "\n",
    "ymax = max(y)\n",
    "xpos = y.index(ymax)\n",
    "xmax = x[xpos]\n",
    "value = 'max_df :{}\\nval:{:3f}'.format(xmax,ymax)\n",
    "ax.annotate(value, xy=(xmax, ymax),\n",
    "            arrowprops=dict(facecolor='black'), \n",
    "           # xytext=(xmax+.01,ymax)\n",
    "            )\n",
    "plt.title('max_df')\n",
    "plt.xlabel('max_df values')\n",
    "plt.ylabel('score')\n",
    "plt.show()"
   ]
  },
  {
   "cell_type": "code",
   "execution_count": null,
   "metadata": {},
   "outputs": [],
   "source": []
  },
  {
   "cell_type": "code",
   "execution_count": 35,
   "metadata": {},
   "outputs": [
    {
     "name": "stdout",
     "output_type": "stream",
     "text": [
      "accuracy:   0.978\n"
     ]
    }
   ],
   "source": [
    "tfidf_vectorizer = TfidfVectorizer(ngram_range=(1,2),max_df=0.4)\n",
    "tfidf_train = tfidf_vectorizer.fit_transform(X_train)\n",
    "tfidf_test = tfidf_vectorizer.transform(X_test)\n",
    "\n",
    "svc_tfidf_clf = LinearSVC()\n",
    "svc_tfidf_clf.fit(tfidf_train, y_train)\n",
    "pred = svc_tfidf_clf.predict(tfidf_test)\n",
    "score = metrics.accuracy_score(y_test, pred)\n",
    "print(\"accuracy:   %0.3f\" % score)"
   ]
  },
  {
   "cell_type": "code",
   "execution_count": 38,
   "metadata": {},
   "outputs": [
    {
     "data": {
      "text/plain": [
       "array([0.1, 0.2, 0.3, 0.4, 0.5, 0.6, 0.7, 0.8, 0.9, 1. ])"
      ]
     },
     "execution_count": 38,
     "metadata": {},
     "output_type": "execute_result"
    }
   ],
   "source": [
    "c_results = dict()\n",
    "\n",
    "c_values = np.arange(0.1,1.1,.1)\n",
    "# c_values = np.around(c_values, decimals=2)\n",
    "#c_values = [1,2,3,4,5,10,15,20]\n",
    "c_values"
   ]
  },
  {
   "cell_type": "code",
   "execution_count": null,
   "metadata": {},
   "outputs": [],
   "source": [
    "# c_results = dict()\n",
    "\n",
    "# c_values = np.arange(1,11,1)\n",
    "# # c_values = np.around(c_values, decimals=2)\n",
    "c_values = [1,2,3,4,5,10,15,20]\n",
    "c_values"
   ]
  },
  {
   "cell_type": "code",
   "execution_count": 39,
   "metadata": {},
   "outputs": [
    {
     "name": "stdout",
     "output_type": "stream",
     "text": [
      "C value: 0.10 Score: 0.97134\n",
      "C value: 0.20 Score: 0.97518\n",
      "C value: 0.30 Score: 0.97636\n",
      "C value: 0.40 Score: 0.97710\n",
      "C value: 0.50 Score: 0.97749\n",
      "C value: 0.60 Score: 0.97794\n",
      "C value: 0.70 Score: 0.97822\n",
      "C value: 0.80 Score: 0.97822\n",
      "C value: 0.90 Score: 0.97834\n",
      "C value: 1.00 Score: 0.97845\n"
     ]
    }
   ],
   "source": [
    "for c in c_values:\n",
    "    tfidf_vectorizer = TfidfVectorizer(ngram_range=(1,2),max_df=0.4)\n",
    "    tfidf_train = tfidf_vectorizer.fit_transform(X_train)\n",
    "    tfidf_test = tfidf_vectorizer.transform(X_test)\n",
    "    \n",
    "\n",
    "    svc_tfidf_clf = LinearSVC(C=c)\n",
    "    svc_tfidf_clf.fit(tfidf_train, y_train)\n",
    "    pred = svc_tfidf_clf.predict(tfidf_test)\n",
    "    score = metrics.accuracy_score(y_test, pred)\n",
    "    print(\"C value: {:.2f} Score: {:.5f}\".format(c, score))\n",
    "    c_results[c] = score"
   ]
  },
  {
   "cell_type": "code",
   "execution_count": 40,
   "metadata": {},
   "outputs": [
    {
     "data": {
      "image/png": "[encoded data removed]",
      "text/plain": [
       "<Figure size 432x288 with 1 Axes>"
      ]
     },
     "metadata": {
      "needs_background": "light"
     },
     "output_type": "display_data"
    }
   ],
   "source": [
    "fig = plt.figure()\n",
    "ax = fig.add_subplot(111)\n",
    "\n",
    "x=list(c_results.keys())\n",
    "y=list(c_results.values())\n",
    "line, = ax.plot(x, y)\n",
    "\n",
    "ymax = max(y)\n",
    "xpos = y.index(ymax)\n",
    "xmax = x[xpos]\n",
    "value = 'C value :{}\\nval:{:3f}'.format(xmax,ymax)\n",
    "ax.annotate(value, xy=(xmax, ymax),\n",
    "            arrowprops=dict(facecolor='black'), \n",
    "            xytext=(xmax+.01,ymax)\n",
    "            )\n",
    "plt.title('C values')\n",
    "plt.xlabel('C values')\n",
    "plt.ylabel('score')\n",
    "plt.show()"
   ]
  },
  {
   "cell_type": "code",
   "execution_count": null,
   "metadata": {},
   "outputs": [],
   "source": []
  },
  {
   "cell_type": "markdown",
   "metadata": {},
   "source": [
    "## Best Results"
   ]
  },
  {
   "cell_type": "code",
   "execution_count": 41,
   "metadata": {},
   "outputs": [
    {
     "name": "stdout",
     "output_type": "stream",
     "text": [
      "accuracy:   0.976\n"
     ]
    }
   ],
   "source": [
    "tfidf_vectorizer = TfidfVectorizer(ngram_range=(1,2),max_df=0.1)\n",
    "tfidf_train = tfidf_vectorizer.fit_transform(X_train)\n",
    "tfidf_test = tfidf_vectorizer.transform(X_test)\n",
    "\n",
    "svc_tfidf_clf = LinearSVC(C=1)\n",
    "svc_tfidf_clf.fit(tfidf_train, y_train)\n",
    "pred = svc_tfidf_clf.predict(tfidf_test)\n",
    "score = metrics.accuracy_score(y_test, pred)\n",
    "print(\"accuracy:   %0.3f\" % score)"
   ]
  },
  {
   "cell_type": "code",
   "execution_count": 42,
   "metadata": {},
   "outputs": [
    {
     "name": "stdout",
     "output_type": "stream",
     "text": [
      "              precision    recall  f1-score   support\n",
      "\n",
      "           1       0.97      0.97      0.97      7241\n",
      "           5       0.98      0.98      0.98     10485\n",
      "\n",
      "   micro avg       0.98      0.98      0.98     17726\n",
      "   macro avg       0.98      0.98      0.98     17726\n",
      "weighted avg       0.98      0.98      0.98     17726\n",
      "\n"
     ]
    }
   ],
   "source": [
    "print(classification_report(y_test, pred))"
   ]
  },
  {
   "cell_type": "code",
   "execution_count": 43,
   "metadata": {},
   "outputs": [
    {
     "data": {
      "image/png": "[encoded data removed]",
      "text/plain": [
       "<Figure size 720x504 with 1 Axes>"
      ]
     },
     "metadata": {
      "needs_background": "light"
     },
     "output_type": "display_data"
    }
   ],
   "source": [
    "labels = [1,5]\n",
    "cm = confusion_matrix(y_test, pred,labels=labels)\n",
    "plt.figure(figsize = (10,7))\n",
    "g = sns.heatmap(cm, annot=True, fmt=\"d\", cbar=False, cmap=\"Greens\",xticklabels=True,yticklabels=True)\n",
    "g.set_yticklabels(labels, rotation =0)\n",
    "g.set_xticklabels(labels, rotation =0)\n",
    "plt.title('Confusion matrix')\n",
    "plt.ylabel('True label')\n",
    "plt.xlabel('Predicted label')\n",
    "plt.show()"
   ]
  },
  {
   "cell_type": "markdown",
   "metadata": {},
   "source": [
    "## display coefficients\n"
   ]
  },
  {
   "cell_type": "code",
   "execution_count": 44,
   "metadata": {},
   "outputs": [],
   "source": [
    "feature_names = np.array(tfidf_vectorizer.get_feature_names())\n",
    "sorted_coef_index = svc_tfidf_clf.coef_[0].argsort()"
   ]
  },
  {
   "cell_type": "code",
   "execution_count": 45,
   "metadata": {},
   "outputs": [
    {
     "name": "stdout",
     "output_type": "stream",
     "text": [
      "Highest 10  Coef:\n",
      "----------------\n",
      "- helpful\n",
      "- thank dr\n",
      "- take time\n",
      "- excellent\n",
      "- happy\n",
      "- thorough\n",
      "- wonderful\n",
      "- love\n",
      "- awesome\n",
      "- highly recommend\n"
     ]
    }
   ],
   "source": [
    "print('Highest 10  Coef:')\n",
    "print('----------------')\n",
    "for i in feature_names[sorted_coef_index][-10:]:\n",
    "    print('- {}'.format(i))"
   ]
  },
  {
   "cell_type": "code",
   "execution_count": 46,
   "metadata": {},
   "outputs": [
    {
     "name": "stdout",
     "output_type": "stream",
     "text": [
      "Lowest 10  Coef:\n",
      "----------------\n",
      "- rude\n",
      "- horrible\n",
      "- unprofessional\n",
      "- not recommend\n",
      "- money\n",
      "- terrible\n",
      "- disappointed\n",
      "- not even\n",
      "- bill\n",
      "- refuse\n"
     ]
    }
   ],
   "source": [
    "print('Lowest 10  Coef:')\n",
    "print('----------------')\n",
    "for i in feature_names[sorted_coef_index][:10]:\n",
    "    print('- {}'.format(i))"
   ]
  },
  {
   "cell_type": "code",
   "execution_count": 51,
   "metadata": {},
   "outputs": [],
   "source": [
    "#https://medium.com/@aneesha/visualising-top-features-in-linear-svm-with-scikit-learn-and-matplotlib-3454ab18a14d\n",
    "import matplotlib.pyplot as plt\n",
    "def plot_coefficients(classifier, feature_names, top_features=20):\n",
    "    coef = classifier.coef_.ravel()\n",
    "    top_positive_coefficients = np.argsort(coef)[-top_features:]\n",
    "    top_negative_coefficients = np.argsort(coef)[:top_features]\n",
    "    top_coefficients = np.hstack([top_negative_coefficients, top_positive_coefficients])\n",
    "     # create plot\n",
    "    plt.figure(figsize=(15, 5))\n",
    "    colors = ['red' if c < 0 else 'blue' for c in coef[top_coefficients]]\n",
    "    plt.bar(np.arange(2 * top_features), coef[top_coefficients], color=colors)\n",
    "    feature_names = np.array(feature_names)\n",
    "    plt.xticks(np.arange(1, 1 + 2 * top_features), feature_names[top_coefficients], rotation=60, ha='right')\n",
    "    plt.title('features-in-linear-svm: clean text')\n",
    "    plt.show()"
   ]
  },
  {
   "cell_type": "code",
   "execution_count": 52,
   "metadata": {},
   "outputs": [
    {
     "data": {
      "image/png": "[encoded data removed]",
      "text/plain": [
       "<Figure size 1080x360 with 1 Axes>"
      ]
     },
     "metadata": {
      "needs_background": "light"
     },
     "output_type": "display_data"
    }
   ],
   "source": [
    "plot_coefficients(svc_tfidf_clf, tfidf_vectorizer.get_feature_names())"
   ]
  },
  {
   "cell_type": "code",
   "execution_count": null,
   "metadata": {},
   "outputs": [],
   "source": []
  },
  {
   "cell_type": "code",
   "execution_count": null,
   "metadata": {},
   "outputs": [],
   "source": []
  }
 ],
 "metadata": {
  "kernelspec": {
   "display_name": "Python 3",
   "language": "python",
   "name": "python3"
  },
  "language_info": {
   "codemirror_mode": {
    "name": "ipython",
    "version": 3
   },
   "file_extension": ".py",
   "mimetype": "text/x-python",
   "name": "python",
   "nbconvert_exporter": "python",
   "pygments_lexer": "ipython3",
   "version": "3.6.6"
  }
 },
 "nbformat": 4,
 "nbformat_minor": 2
}
