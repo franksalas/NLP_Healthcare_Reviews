{
 "cells": [
  {
   "cell_type": "code",
   "execution_count": 1,
   "metadata": {},
   "outputs": [],
   "source": [
    "import warnings\n",
    "warnings.filterwarnings('ignore')"
   ]
  },
  {
   "cell_type": "code",
   "execution_count": 2,
   "metadata": {},
   "outputs": [],
   "source": [
    "import pandas as pd\n",
    "import numpy as np\n",
    "import matplotlib.pyplot as plt\n",
    "import seaborn as sns\n",
    "plt.style.use('ggplot')"
   ]
  },
  {
   "cell_type": "markdown",
   "metadata": {},
   "source": [
    "## Load data"
   ]
  },
  {
   "cell_type": "code",
   "execution_count": 3,
   "metadata": {},
   "outputs": [],
   "source": [
    "path = 'yelp_data/health_text_sentiment.csv'\n",
    "df = pd.read_csv(path)\n",
    "df.drop(['Unnamed: 0'],axis=1,inplace=True)\n",
    "\n",
    "data = df[['stars','text','clean_text']]"
   ]
  },
  {
   "cell_type": "code",
   "execution_count": 4,
   "metadata": {},
   "outputs": [
    {
     "data": {
      "text/html": [
       "<div>\n",
       "<style scoped>\n",
       "    .dataframe tbody tr th:only-of-type {\n",
       "        vertical-align: middle;\n",
       "    }\n",
       "\n",
       "    .dataframe tbody tr th {\n",
       "        vertical-align: top;\n",
       "    }\n",
       "\n",
       "    .dataframe thead th {\n",
       "        text-align: right;\n",
       "    }\n",
       "</style>\n",
       "<table border=\"1\" class=\"dataframe\">\n",
       "  <thead>\n",
       "    <tr style=\"text-align: right;\">\n",
       "      <th></th>\n",
       "      <th>stars</th>\n",
       "      <th>text</th>\n",
       "      <th>clean_text</th>\n",
       "    </tr>\n",
       "  </thead>\n",
       "  <tbody>\n",
       "    <tr>\n",
       "      <th>0</th>\n",
       "      <td>1</td>\n",
       "      <td>Please stay away from this place if you can! I...</td>\n",
       "      <td>please stay away place bad care imaginable sta...</td>\n",
       "    </tr>\n",
       "    <tr>\n",
       "      <th>1</th>\n",
       "      <td>5</td>\n",
       "      <td>My husband has been a patient of Dr. Byrne for...</td>\n",
       "      <td>husband patient dr byrne last year half last m...</td>\n",
       "    </tr>\n",
       "    <tr>\n",
       "      <th>2</th>\n",
       "      <td>4</td>\n",
       "      <td>Dr. Byrne is a great doctor! She has great bed...</td>\n",
       "      <td>dr byrne great doctor great bed side manner ex...</td>\n",
       "    </tr>\n",
       "    <tr>\n",
       "      <th>3</th>\n",
       "      <td>3</td>\n",
       "      <td>I'm raising my review as Dr Bryne's has been m...</td>\n",
       "      <td>raise review dr bryne receptive daughter go an...</td>\n",
       "    </tr>\n",
       "    <tr>\n",
       "      <th>4</th>\n",
       "      <td>1</td>\n",
       "      <td>I wish I could give 0 stars. Worst office I've...</td>\n",
       "      <td>wish could give star bad office ever horrible ...</td>\n",
       "    </tr>\n",
       "  </tbody>\n",
       "</table>\n",
       "</div>"
      ],
      "text/plain": [
       "   stars                                               text  \\\n",
       "0      1  Please stay away from this place if you can! I...   \n",
       "1      5  My husband has been a patient of Dr. Byrne for...   \n",
       "2      4  Dr. Byrne is a great doctor! She has great bed...   \n",
       "3      3  I'm raising my review as Dr Bryne's has been m...   \n",
       "4      1  I wish I could give 0 stars. Worst office I've...   \n",
       "\n",
       "                                          clean_text  \n",
       "0  please stay away place bad care imaginable sta...  \n",
       "1  husband patient dr byrne last year half last m...  \n",
       "2  dr byrne great doctor great bed side manner ex...  \n",
       "3  raise review dr bryne receptive daughter go an...  \n",
       "4  wish could give star bad office ever horrible ...  "
      ]
     },
     "execution_count": 4,
     "metadata": {},
     "output_type": "execute_result"
    }
   ],
   "source": [
    "data.head()"
   ]
  },
  {
   "cell_type": "markdown",
   "metadata": {},
   "source": [
    "## Select 1& 5 stars only"
   ]
  },
  {
   "cell_type": "code",
   "execution_count": 5,
   "metadata": {},
   "outputs": [
    {
     "data": {
      "text/html": [
       "<div>\n",
       "<style scoped>\n",
       "    .dataframe tbody tr th:only-of-type {\n",
       "        vertical-align: middle;\n",
       "    }\n",
       "\n",
       "    .dataframe tbody tr th {\n",
       "        vertical-align: top;\n",
       "    }\n",
       "\n",
       "    .dataframe thead th {\n",
       "        text-align: right;\n",
       "    }\n",
       "</style>\n",
       "<table border=\"1\" class=\"dataframe\">\n",
       "  <thead>\n",
       "    <tr style=\"text-align: right;\">\n",
       "      <th></th>\n",
       "      <th>stars</th>\n",
       "      <th>text</th>\n",
       "      <th>clean_text</th>\n",
       "    </tr>\n",
       "  </thead>\n",
       "  <tbody>\n",
       "    <tr>\n",
       "      <th>0</th>\n",
       "      <td>1</td>\n",
       "      <td>Please stay away from this place if you can! I...</td>\n",
       "      <td>please stay away place bad care imaginable sta...</td>\n",
       "    </tr>\n",
       "    <tr>\n",
       "      <th>1</th>\n",
       "      <td>5</td>\n",
       "      <td>My husband has been a patient of Dr. Byrne for...</td>\n",
       "      <td>husband patient dr byrne last year half last m...</td>\n",
       "    </tr>\n",
       "    <tr>\n",
       "      <th>4</th>\n",
       "      <td>1</td>\n",
       "      <td>I wish I could give 0 stars. Worst office I've...</td>\n",
       "      <td>wish could give star bad office ever horrible ...</td>\n",
       "    </tr>\n",
       "    <tr>\n",
       "      <th>5</th>\n",
       "      <td>1</td>\n",
       "      <td>I went to the emergency room because i was hav...</td>\n",
       "      <td>go emergency room kidney stone attack emergenc...</td>\n",
       "    </tr>\n",
       "    <tr>\n",
       "      <th>6</th>\n",
       "      <td>5</td>\n",
       "      <td>Dr. Byrne is an excellent doctor with all the ...</td>\n",
       "      <td>dr byrne excellent doctor right skill include ...</td>\n",
       "    </tr>\n",
       "  </tbody>\n",
       "</table>\n",
       "</div>"
      ],
      "text/plain": [
       "   stars                                               text  \\\n",
       "0      1  Please stay away from this place if you can! I...   \n",
       "1      5  My husband has been a patient of Dr. Byrne for...   \n",
       "4      1  I wish I could give 0 stars. Worst office I've...   \n",
       "5      1  I went to the emergency room because i was hav...   \n",
       "6      5  Dr. Byrne is an excellent doctor with all the ...   \n",
       "\n",
       "                                          clean_text  \n",
       "0  please stay away place bad care imaginable sta...  \n",
       "1  husband patient dr byrne last year half last m...  \n",
       "4  wish could give star bad office ever horrible ...  \n",
       "5  go emergency room kidney stone attack emergenc...  \n",
       "6  dr byrne excellent doctor right skill include ...  "
      ]
     },
     "execution_count": 5,
     "metadata": {},
     "output_type": "execute_result"
    }
   ],
   "source": [
    "data = data.ix[np.where((data.stars==1)|(data.stars==5))]\n",
    "data.head()"
   ]
  },
  {
   "cell_type": "markdown",
   "metadata": {},
   "source": [
    "## binary stars"
   ]
  },
  {
   "cell_type": "code",
   "execution_count": null,
   "metadata": {},
   "outputs": [],
   "source": [
    "data.stars.replace(1,0,inplace=True)\n",
    "data.stars.replace(5,1,inplace=True)"
   ]
  },
  {
   "cell_type": "code",
   "execution_count": null,
   "metadata": {},
   "outputs": [],
   "source": [
    "data.head()"
   ]
  },
  {
   "cell_type": "markdown",
   "metadata": {},
   "source": [
    "# Logistic Regression"
   ]
  },
  {
   "cell_type": "code",
   "execution_count": 20,
   "metadata": {},
   "outputs": [],
   "source": [
    "from sklearn.feature_extraction.text import CountVectorizer\n",
    "from sklearn.feature_extraction.text import TfidfVectorizer\n",
    "from sklearn.linear_model import LogisticRegression\n",
    "from sklearn.model_selection import train_test_split\n",
    "from sklearn import metrics\n",
    "from sklearn.metrics import confusion_matrix, classification_report, accuracy_score,recall_score,precision_score"
   ]
  },
  {
   "cell_type": "code",
   "execution_count": 10,
   "metadata": {},
   "outputs": [],
   "source": [
    "review = data['text'].values.astype(str)  # original review\n",
    "review_clean = data['clean_text'].values.astype(str)  # clean text review\n",
    "sentiments = data['stars'].values  # star value"
   ]
  },
  {
   "cell_type": "markdown",
   "metadata": {},
   "source": [
    "## create function for speed"
   ]
  },
  {
   "cell_type": "code",
   "execution_count": 42,
   "metadata": {},
   "outputs": [],
   "source": [
    "def nlp_LogisticRegression_cv(X,y,nrange=0):\n",
    "    '''func '''\n",
    "    X_train, X_test, y_train, y_test = train_test_split(X, y, test_size=0.33, random_state=42)\n",
    "    if nrange== 0:\n",
    "        vectorizer = CountVectorizer()\n",
    "    else:\n",
    "        vectorizer = CountVectorizer(ngram_range=nrange)\n",
    "\n",
    "    \n",
    "    count_train = vectorizer.fit_transform(X_train)\n",
    "    count_test = vectorizer.transform(X_test)\n",
    "    \n",
    "    classifier = LogisticRegression()\n",
    "\n",
    "    # Train the classifier\n",
    "    classifier.fit(count_train, y_train)  # we fit with the X_train_vectorized, not original X_train\n",
    "\n",
    "    # Check our classifier performance\n",
    "    score = classifier.score(count_test, y_test)\n",
    "    return score"
   ]
  },
  {
   "cell_type": "code",
   "execution_count": 56,
   "metadata": {},
   "outputs": [],
   "source": [
    "def nlp_LogisticRegression_tf(X,y,nrange=0,max_df=1.0):\n",
    "    '''func '''\n",
    "    X_train, X_test, y_train, y_test = train_test_split(X, y, test_size=0.33, random_state=42)\n",
    "    if nrange== 0:\n",
    "        vectorizer = TfidfVectorizer(max_df=max_df)\n",
    "    else:\n",
    "        vectorizer = TfidfVectorizer(max_df=max_df, ngram_range=nrange)\n",
    "\n",
    "    tfidf_train = vectorizer.fit_transform(X_train)\n",
    "    tfidf_test = vectorizer.transform(X_test)\n",
    "    \n",
    "    \n",
    "    classifier = LogisticRegression()\n",
    "\n",
    "    # Train the classifier\n",
    "    classifier.fit(tfidf_train, y_train)  # we fit with the X_train_vectorized, not original X_train\n",
    "\n",
    "    # Check our classifier performance\n",
    "    score = classifier.score(tfidf_test, y_test)\n",
    "    return score"
   ]
  },
  {
   "cell_type": "markdown",
   "metadata": {},
   "source": []
  },
  {
   "cell_type": "markdown",
   "metadata": {},
   "source": [
    "## original text vs clean text"
   ]
  },
  {
   "cell_type": "code",
   "execution_count": 44,
   "metadata": {},
   "outputs": [
    {
     "name": "stdout",
     "output_type": "stream",
     "text": [
      "0.9710030463725601\n",
      "CPU times: user 1min 18s, sys: 9.67 s, total: 1min 28s\n",
      "Wall time: 19 s\n"
     ]
    }
   ],
   "source": [
    "%%time\n",
    "original_cv = nlp_LogisticRegression_cv(review, sentiments)\n",
    "\n",
    "print(original_cv)"
   ]
  },
  {
   "cell_type": "code",
   "execution_count": 57,
   "metadata": {},
   "outputs": [
    {
     "name": "stdout",
     "output_type": "stream",
     "text": [
      "0.9698747602391966\n",
      "CPU times: user 16.7 s, sys: 2.77 s, total: 19.4 s\n",
      "Wall time: 10.2 s\n"
     ]
    }
   ],
   "source": [
    "%%time\n",
    "original_tf = nlp_LogisticRegression_tf(review, sentiments)\n",
    "print(original_tf)"
   ]
  },
  {
   "cell_type": "markdown",
   "metadata": {},
   "source": [
    "## max_df values"
   ]
  },
  {
   "cell_type": "code",
   "execution_count": null,
   "metadata": {},
   "outputs": [],
   "source": [
    "dfrq_range = np.arange(0.1,1.1,0.1)\n",
    "dfrq_range = np.around(doc_frq, decimals=2)"
   ]
  },
  {
   "cell_type": "code",
   "execution_count": 115,
   "metadata": {},
   "outputs": [
    {
     "name": "stdout",
     "output_type": "stream",
     "text": [
      "CPU times: user 2min 45s, sys: 26.4 s, total: 3min 11s\n",
      "Wall time: 1min 43s\n"
     ]
    }
   ],
   "source": [
    "%%time\n",
    "doc_frq_results = {}\n",
    "for dfq in dfrq_range:\n",
    "    if dfq in doc_frq_results:\n",
    "        doc_frq_results[dfq].append(nlp_LogisticRegression_tf(review, sentiments,max_df = dfq))\n",
    "    else:\n",
    "        doc_frq_results[dfq] = nlp_LogisticRegression_tf(review, sentiments,max_df = dfq)"
   ]
  },
  {
   "cell_type": "code",
   "execution_count": null,
   "metadata": {},
   "outputs": [],
   "source": []
  },
  {
   "cell_type": "code",
   "execution_count": 129,
   "metadata": {},
   "outputs": [
    {
     "data": {
      "image/png": "[encoded data removed]",
      "text/plain": [
       "<Figure size 432x288 with 1 Axes>"
      ]
     },
     "metadata": {
      "needs_background": "light"
     },
     "output_type": "display_data"
    }
   ],
   "source": [
    "fig = plt.figure()\n",
    "ax = fig.add_subplot(111)\n",
    "\n",
    "x=list(doc_frq_results.keys())\n",
    "y=list(doc_frq_results.values())\n",
    "line, = ax.plot(x, y)\n",
    "\n",
    "ymax = max(y)\n",
    "xpos = y.index(ymax)\n",
    "xmax = x[xpos]\n",
    "value = 'max_df 0.{}\\nval:{:3f}'.format(xpos,ymax)\n",
    "ax.annotate(value, xy=(xmax, ymax),\n",
    "            arrowprops=dict(facecolor='black'),\n",
    "            )\n",
    "plt.title('TfidfVectorizer: max_df values')\n",
    "plt.show()"
   ]
  },
  {
   "cell_type": "code",
   "execution_count": null,
   "metadata": {},
   "outputs": [],
   "source": []
  },
  {
   "cell_type": "code",
   "execution_count": null,
   "metadata": {},
   "outputs": [],
   "source": []
  },
  {
   "cell_type": "markdown",
   "metadata": {},
   "source": [
    "## Score"
   ]
  },
  {
   "cell_type": "code",
   "execution_count": null,
   "metadata": {},
   "outputs": [],
   "source": []
  },
  {
   "cell_type": "markdown",
   "metadata": {},
   "source": [
    "## Ngrams instead of Words"
   ]
  },
  {
   "cell_type": "code",
   "execution_count": 140,
   "metadata": {},
   "outputs": [
    {
     "name": "stdout",
     "output_type": "stream",
     "text": [
      "0.9754033622926774\n",
      "-----------------------\n",
      "CPU times: user 4min 42s, sys: 30.3 s, total: 5min 12s\n",
      "Wall time: 1min 42s\n"
     ]
    }
   ],
   "source": [
    "%%time\n",
    "original_cv_ngram_13 = nlp_LogisticRegression_cv(review, sentiments,(1,3))\n",
    "print(original_cv_ngram_13)\n",
    "print('-----------------------')"
   ]
  },
  {
   "cell_type": "code",
   "execution_count": 141,
   "metadata": {},
   "outputs": [
    {
     "name": "stdout",
     "output_type": "stream",
     "text": [
      "0.9667155590657791\n",
      "-----------------------\n",
      "CPU times: user 1min 35s, sys: 10.5 s, total: 1min 46s\n",
      "Wall time: 1min 8s\n"
     ]
    }
   ],
   "source": [
    "%%time\n",
    "original_tf_ngram_13 = nlp_LogisticRegression_tf(review, sentiments,(1,3))\n",
    "print(original_tf_ngram_13)\n",
    "print('-----------------------')"
   ]
  },
  {
   "cell_type": "code",
   "execution_count": null,
   "metadata": {},
   "outputs": [],
   "source": []
  },
  {
   "cell_type": "markdown",
   "metadata": {},
   "source": [
    "## Pipeline"
   ]
  },
  {
   "cell_type": "code",
   "execution_count": 48,
   "metadata": {},
   "outputs": [],
   "source": [
    "from sklearn.pipeline import Pipeline"
   ]
  },
  {
   "cell_type": "code",
   "execution_count": 49,
   "metadata": {},
   "outputs": [],
   "source": [
    "review = data['text'].values.astype(str)  # original review\n",
    "review_clean = data['clean_text'].values.astype(str)  # clean text review\n",
    "sentiments = data['stars'].values  # star value"
   ]
  },
  {
   "cell_type": "markdown",
   "metadata": {},
   "source": [
    "## CountVectorizer"
   ]
  },
  {
   "cell_type": "code",
   "execution_count": 50,
   "metadata": {},
   "outputs": [
    {
     "name": "stdout",
     "output_type": "stream",
     "text": [
      "Accuracy= 0.9754033622926774\n",
      "CPU times: user 4min 44s, sys: 30.2 s, total: 5min 14s\n",
      "Wall time: 1min 42s\n"
     ]
    }
   ],
   "source": [
    "%%time\n",
    "X_train, X_test, y_train, y_test = train_test_split(review, sentiments, test_size=0.33, random_state=42)\n",
    "# Put everything in a Pipeline\n",
    "pipeline = Pipeline([\n",
    "    ('vectorizer', CountVectorizer(ngram_range=(1, 3))),\n",
    "    ('classifier', LogisticRegression())])\n",
    "\n",
    "pipeline.fit(X_train, y_train)\n",
    "# Check our classifier performance\n",
    "\n",
    "score = pipeline.score(X_test, y_test)\n",
    "\n",
    "print(\"Accuracy=\", score)\n",
    "print('-----------------------')"
   ]
  },
  {
   "cell_type": "markdown",
   "metadata": {},
   "source": [
    "## tfidf"
   ]
  },
  {
   "cell_type": "code",
   "execution_count": 51,
   "metadata": {},
   "outputs": [
    {
     "name": "stdout",
     "output_type": "stream",
     "text": [
      "Accuracy= 0.9667155590657791\n",
      "CPU times: user 1min 34s, sys: 10.8 s, total: 1min 45s\n",
      "Wall time: 1min 7s\n"
     ]
    }
   ],
   "source": [
    "%%time\n",
    "X_train, X_test, y_train, y_test = train_test_split(review, sentiments, test_size=0.33, random_state=42)\n",
    "# Put everything in a Pipeline\n",
    "pipeline = Pipeline([\n",
    "    ('vectorizer', TfidfVectorizer(ngram_range=(1, 3))),\n",
    "    ('classifier', LogisticRegression())])\n",
    "\n",
    "pipeline.fit(X_train, y_train)\n",
    "# Check our classifier performance\n",
    "\n",
    "score = pipeline.score(X_test, y_test)\n",
    "\n",
    "print(\"Accuracy=\", score)\n",
    "print('-----------------------')"
   ]
  },
  {
   "cell_type": "code",
   "execution_count": 156,
   "metadata": {},
   "outputs": [
    {
     "name": "stdout",
     "output_type": "stream",
     "text": [
      "Accuracy= 0.9655872729324156\n",
      "CPU times: user 1min 41s, sys: 11.7 s, total: 1min 53s\n",
      "Wall time: 1min 9s\n"
     ]
    }
   ],
   "source": [
    "%%time\n",
    "X_train, X_test, y_train, y_test = train_test_split(review, sentiments, test_size=0.33, random_state=42)\n",
    "# Put everything in a Pipeline\n",
    "\n",
    "\n",
    "\n",
    "pipeline = Pipeline([\n",
    "    ('vectorizer', TfidfVectorizer(max_df=0.9,ngram_range=(1, 3))),\n",
    "    ('classifier', LogisticRegression())])\n",
    "\n",
    "pipeline.fit(X_train, y_train)\n",
    "# Check our classifier performance\n",
    "\n",
    "score = pipeline.score(X_test, y_test)\n",
    "\n",
    "print(\"Accuracy=\", score)"
   ]
  },
  {
   "cell_type": "code",
   "execution_count": 142,
   "metadata": {},
   "outputs": [],
   "source": [
    "# def nlp_LogisticRegression_tf_pipe(X,y,nrange=0,max_df=1.0):\n",
    "#     '''func '''\n",
    "#     X_train, X_test, y_train, y_test = train_test_split(X, y, test_size=0.33, random_state=42)\n",
    "#     if nrange== 0:\n",
    "#         vectorizer = TfidfVectorizer(max_df=max_df)\n",
    "#     else:\n",
    "#         vectorizer = TfidfVectorizer(max_df=max_df, ngram_range=nrange)\n",
    "\n",
    "#     pipeline = Pipeline([\n",
    "#     ('vectorizer', vectorizer),\n",
    "#     ('classifier', LogisticRegression())])\n",
    "    \n",
    "#     pipeline.fit(X_train, y_train)\n",
    "#     score = pipeline.score(X_test, y_test)\n",
    "    \n",
    "#     return score"
   ]
  },
  {
   "cell_type": "code",
   "execution_count": null,
   "metadata": {},
   "outputs": [],
   "source": []
  },
  {
   "cell_type": "markdown",
   "metadata": {},
   "source": [
    "## Cross validation"
   ]
  },
  {
   "cell_type": "code",
   "execution_count": 157,
   "metadata": {},
   "outputs": [],
   "source": [
    "from sklearn.model_selection import cross_val_score"
   ]
  },
  {
   "cell_type": "code",
   "execution_count": null,
   "metadata": {},
   "outputs": [],
   "source": []
  },
  {
   "cell_type": "code",
   "execution_count": 158,
   "metadata": {},
   "outputs": [
    {
     "name": "stdout",
     "output_type": "stream",
     "text": [
      "MeanAccuracy= 0.9778455972678921\n",
      "CPU times: user 26min 58s, sys: 2min 43s, total: 29min 41s\n",
      "Wall time: 10min 49s\n"
     ]
    }
   ],
   "source": [
    "%%time\n",
    "# Put everything in a Pipeline\n",
    "pipeline_cv = Pipeline([\n",
    "    ('vectorizer', CountVectorizer(ngram_range=(1, 3))),\n",
    "    ('classifier', LogisticRegression())])\n",
    "\n",
    "print(\"MeanAccuracy=\", cross_val_score(pipeline_cv, review, sentiments, cv=5).mean())"
   ]
  },
  {
   "cell_type": "code",
   "execution_count": null,
   "metadata": {},
   "outputs": [],
   "source": []
  },
  {
   "cell_type": "code",
   "execution_count": 159,
   "metadata": {},
   "outputs": [
    {
     "name": "stdout",
     "output_type": "stream",
     "text": [
      "MeanAccuracy= 0.9686114573740433\n",
      "-----------------------\n",
      "CPU times: user 9min 32s, sys: 1min 4s, total: 10min 36s\n",
      "Wall time: 6min 38s\n"
     ]
    }
   ],
   "source": [
    "%%time\n",
    "# Put everything in a Pipeline\n",
    "\n",
    "pipeline_tf = Pipeline([\n",
    "    ('vectorizer', TfidfVectorizer(max_df=0.9,ngram_range=(1, 3))),\n",
    "    ('classifier', LogisticRegression())])\n",
    "\n",
    "print(\"MeanAccuracy=\", cross_val_score(pipeline_tf, review, sentiments, cv=5).mean())\n",
    "print('-----------------------')"
   ]
  },
  {
   "cell_type": "code",
   "execution_count": null,
   "metadata": {},
   "outputs": [],
   "source": []
  },
  {
   "cell_type": "code",
   "execution_count": null,
   "metadata": {},
   "outputs": [],
   "source": []
  },
  {
   "cell_type": "code",
   "execution_count": null,
   "metadata": {},
   "outputs": [],
   "source": []
  },
  {
   "cell_type": "code",
   "execution_count": null,
   "metadata": {},
   "outputs": [],
   "source": []
  },
  {
   "cell_type": "code",
   "execution_count": null,
   "metadata": {},
   "outputs": [],
   "source": []
  },
  {
   "cell_type": "code",
   "execution_count": null,
   "metadata": {},
   "outputs": [],
   "source": []
  },
  {
   "cell_type": "code",
   "execution_count": null,
   "metadata": {},
   "outputs": [],
   "source": []
  },
  {
   "cell_type": "code",
   "execution_count": null,
   "metadata": {},
   "outputs": [],
   "source": []
  },
  {
   "cell_type": "code",
   "execution_count": null,
   "metadata": {},
   "outputs": [],
   "source": []
  },
  {
   "cell_type": "code",
   "execution_count": null,
   "metadata": {},
   "outputs": [],
   "source": []
  },
  {
   "cell_type": "code",
   "execution_count": null,
   "metadata": {},
   "outputs": [],
   "source": [
    "# Transform the text list to a matrix form\n",
    "X_train_vectorized = vectorizer.transform(X_train)"
   ]
  },
  {
   "cell_type": "code",
   "execution_count": null,
   "metadata": {},
   "outputs": [],
   "source": [
    "classifier = LogisticRegression()\n",
    "\n",
    "# Train the classifier\n",
    "classifier.fit(X_train_vectorized, y_train)  # we fit with the X_train_vectorized, not original X_train\n",
    "\n",
    "# Vectorize the test data\n",
    "X_test_vectorized = vectorizer.transform(X_test)   # we transform the text list to a matrix form\n",
    "\n",
    "\n",
    "# Check our classifier performance\n",
    "score = classifier.score(X_test_vectorized, y_test)\n",
    "\n",
    "print(\"Accuracy=\", score)"
   ]
  },
  {
   "cell_type": "code",
   "execution_count": null,
   "metadata": {},
   "outputs": [],
   "source": []
  },
  {
   "cell_type": "code",
   "execution_count": null,
   "metadata": {},
   "outputs": [],
   "source": [
    "train_test_split?"
   ]
  },
  {
   "cell_type": "markdown",
   "metadata": {},
   "source": [
    "## create a function"
   ]
  },
  {
   "cell_type": "code",
   "execution_count": null,
   "metadata": {},
   "outputs": [],
   "source": [
    "def nlp_LogisticRegression(X,y,nrange=0):\n",
    "    '''func '''\n",
    "    X_train, X_test, y_train, y_test = train_test_split(X, y, test_size=0.33, random_state=42)\n",
    "    if nrange== 0:\n",
    "        vectorizer = CountVectorizer()\n",
    "    else:\n",
    "        vectorizer = CountVectorizer(ngram_range=nrange)\n",
    "\n",
    "    vectorizer.fit(X_train)\n",
    "    X_train_vectorized = vectorizer.transform(X_train)\n",
    "    classifier = LogisticRegression()\n",
    "\n",
    "    # Train the classifier\n",
    "    classifier.fit(X_train_vectorized, y_train)  # we fit with the X_train_vectorized, not original X_train\n",
    "\n",
    "    # Vectorize the test data\n",
    "    X_test_vectorized = vectorizer.transform(X_test)   # we transform the text list to a matrix form\n",
    "\n",
    "\n",
    "    # Check our classifier performance\n",
    "    score = classifier.score(X_test_vectorized, y_test)\n",
    "    return score"
   ]
  },
  {
   "cell_type": "code",
   "execution_count": null,
   "metadata": {},
   "outputs": [],
   "source": [
    "review = data['text'].values.astype(str)  # original review\n",
    "review_clean = data['clean_text'].values.astype(str)  # clean text review\n",
    "sentiments = data['stars'].values  # star value"
   ]
  },
  {
   "cell_type": "code",
   "execution_count": null,
   "metadata": {},
   "outputs": [],
   "source": [
    "%%time\n",
    "original = nlp_LogisticRegression(review, sentiments)\n",
    "original"
   ]
  },
  {
   "cell_type": "code",
   "execution_count": null,
   "metadata": {},
   "outputs": [],
   "source": [
    "original"
   ]
  },
  {
   "cell_type": "code",
   "execution_count": null,
   "metadata": {},
   "outputs": [],
   "source": [
    "clean = nlp_LogisticRegression(review_clean, sentiments)\n",
    "clean"
   ]
  },
  {
   "cell_type": "markdown",
   "metadata": {},
   "source": [
    "## Result Score\n",
    "\n",
    "\n",
    "```python\n",
    "Original text:\t  0.9710030463725601\n",
    "Clean text:\t      0.9672232878257926\n",
    "Difference:\t     -0.0037797585467674866\n",
    "```"
   ]
  },
  {
   "cell_type": "code",
   "execution_count": null,
   "metadata": {},
   "outputs": [],
   "source": [
    "print('Original text:\\t  {}'.format(original))\n",
    "print('Clean text:\\t  {}'.format(clean))\n",
    "print('Difference:\\t {}'.format(clean - original))"
   ]
  },
  {
   "cell_type": "markdown",
   "metadata": {},
   "source": [
    "## Ngrams instead of Words"
   ]
  },
  {
   "cell_type": "code",
   "execution_count": null,
   "metadata": {},
   "outputs": [],
   "source": [
    "review = data['text'].values.astype(str)  # original review\n",
    "review_clean = data['clean_text'].values.astype(str)  # clean text review\n",
    "sentiments = data['stars'].values  # star value\n",
    "\n",
    "X_train, X_test, y_train, y_test = train_test_split(review, sentiments, test_size=0.33, random_state=42)"
   ]
  },
  {
   "cell_type": "code",
   "execution_count": null,
   "metadata": {},
   "outputs": [],
   "source": [
    "original = nlp_LogisticRegression(review, sentiments,(1,3))\n",
    "original"
   ]
  },
  {
   "cell_type": "code",
   "execution_count": null,
   "metadata": {},
   "outputs": [],
   "source": [
    "clean = nlp_LogisticRegression(review_clean, sentiments,(1,3))\n",
    "clean"
   ]
  },
  {
   "cell_type": "markdown",
   "metadata": {},
   "source": [
    "# Result:` ngrams= (1,3)`\n",
    "\n",
    "\n",
    "```python\n",
    "Original text:\t  0.9754033622926774\n",
    "Clean text:\t  0.9723569897325962\n",
    "Difference:\t -0.003046372560081223\n",
    "```"
   ]
  },
  {
   "cell_type": "code",
   "execution_count": null,
   "metadata": {},
   "outputs": [],
   "source": [
    "print('Original text:\\t  {}'.format(original))\n",
    "print('Clean text:\\t  {}'.format(clean))\n",
    "print('Difference:\\t {}'.format(clean - original))"
   ]
  },
  {
   "cell_type": "markdown",
   "metadata": {},
   "source": [
    "## Pipeline"
   ]
  },
  {
   "cell_type": "code",
   "execution_count": null,
   "metadata": {},
   "outputs": [],
   "source": [
    "from sklearn.pipeline import Pipeline"
   ]
  },
  {
   "cell_type": "code",
   "execution_count": null,
   "metadata": {},
   "outputs": [],
   "source": [
    "review = data['text'].values.astype(str)  # original review\n",
    "review_clean = data['clean_text'].values.astype(str)  # clean text review\n",
    "sentiments = data['stars'].values  # star value"
   ]
  },
  {
   "cell_type": "markdown",
   "metadata": {},
   "source": [
    "### Original text pipeline"
   ]
  },
  {
   "cell_type": "code",
   "execution_count": null,
   "metadata": {},
   "outputs": [],
   "source": [
    "%%time\n",
    "X_train, X_test, y_train, y_test = train_test_split(review, sentiments, test_size=0.33, random_state=42)\n",
    "# Put everything in a Pipeline\n",
    "pipeline = Pipeline([\n",
    "    ('vectorizer', CountVectorizer(ngram_range=(1, 3))),\n",
    "    ('classifier', LogisticRegression())])\n",
    "\n",
    "pipeline.fit(X_train, y_train)\n",
    "# Check our classifier performance\n",
    "\n",
    "score = pipeline.score(X_test, y_test)\n",
    "\n",
    "print(\"Accuracy=\", score)"
   ]
  },
  {
   "cell_type": "markdown",
   "metadata": {},
   "source": [
    "### Clean Text pipeline"
   ]
  },
  {
   "cell_type": "code",
   "execution_count": null,
   "metadata": {},
   "outputs": [],
   "source": [
    "%%time\n",
    "X_train, X_test, y_train, y_test = train_test_split(review_clean, sentiments, test_size=0.33, random_state=42)\n",
    "# Put everything in a Pipeline\n",
    "pipeline = Pipeline([\n",
    "    ('vectorizer', CountVectorizer(ngram_range=(1, 3))),\n",
    "    ('classifier', LogisticRegression())])\n",
    "\n",
    "pipeline.fit(X_train, y_train)\n",
    "# Check our classifier performance\n",
    "\n",
    "score = pipeline.score(X_test, y_test)\n",
    "\n",
    "print(\"Accuracy=\", score)"
   ]
  },
  {
   "cell_type": "markdown",
   "metadata": {},
   "source": [
    "## Cross validation"
   ]
  },
  {
   "cell_type": "code",
   "execution_count": null,
   "metadata": {},
   "outputs": [],
   "source": [
    "from sklearn.model_selection import cross_val_score"
   ]
  },
  {
   "cell_type": "code",
   "execution_count": null,
   "metadata": {},
   "outputs": [],
   "source": [
    "%%time\n",
    "# Put everything in a Pipeline\n",
    "pipeline = Pipeline([\n",
    "    ('vectorizer', CountVectorizer(ngram_range=(1, 3))),\n",
    "    ('classifier', LogisticRegression())])\n",
    "\n",
    "\n",
    "\n",
    "print(\"MeanAccuracy=\", cross_val_score(pipeline, review, sentiments, cv=5).mean())"
   ]
  },
  {
   "cell_type": "code",
   "execution_count": null,
   "metadata": {},
   "outputs": [],
   "source": []
  },
  {
   "cell_type": "code",
   "execution_count": null,
   "metadata": {},
   "outputs": [],
   "source": [
    "%%time\n",
    "# Put everything in a Pipeline\n",
    "pipeline = Pipeline([\n",
    "    ('vectorizer', CountVectorizer(ngram_range=(1, 3))),\n",
    "    ('classifier', LogisticRegression())])\n",
    "\n",
    "\n",
    "\n",
    "print(\"MeanAccuracy=\", cross_val_score(pipeline, review_clean, sentiments, cv=5).mean())"
   ]
  },
  {
   "cell_type": "markdown",
   "metadata": {},
   "source": [
    "# Grid search"
   ]
  },
  {
   "cell_type": "code",
   "execution_count": null,
   "metadata": {},
   "outputs": [],
   "source": [
    "from sklearn.model_selection import GridSearchCV"
   ]
  },
  {
   "cell_type": "code",
   "execution_count": null,
   "metadata": {},
   "outputs": [],
   "source": [
    "# Put everything in a Pipeline\n",
    "pipeline = Pipeline([\n",
    "    ('vectorizer', CountVectorizer( ngram_range=(1, 3))),\n",
    "    ('classifier', LogisticRegression())])\n",
    "\n",
    "\n",
    "classifier = GridSearchCV(pipeline, {\n",
    "    # try out different ngram ranges\n",
    "    'vectorizer__ngram_range': ((1, 2), (2, 3), (1, 3)),\n",
    "    # check if setting all non zero counts to 1 makes a difference\n",
    "    'vectorizer__binary': (True, False),},\n",
    "                          n_jobs=-1, \n",
    "                          verbose=True,\n",
    "                          error_score=0.0, \n",
    "                          cv=5)"
   ]
  },
  {
   "cell_type": "code",
   "execution_count": null,
   "metadata": {},
   "outputs": [],
   "source": [
    "%%time\n",
    "# Compute the vocabulary and train the classifier\n",
    "classifier.fit(review, sentiments)"
   ]
  },
  {
   "cell_type": "code",
   "execution_count": null,
   "metadata": {},
   "outputs": [],
   "source": [
    "%%time\n",
    "# Compute the vocabulary and train the classifier\n",
    "classifier.fit(review_cleanlean, sentiments)"
   ]
  }
 ],
 "metadata": {
  "kernelspec": {
   "display_name": "Python 3",
   "language": "python",
   "name": "python3"
  },
  "language_info": {
   "codemirror_mode": {
    "name": "ipython",
    "version": 3
   },
   "file_extension": ".py",
   "mimetype": "text/x-python",
   "name": "python",
   "nbconvert_exporter": "python",
   "pygments_lexer": "ipython3",
   "version": "3.6.6"
  }
 },
 "nbformat": 4,
 "nbformat_minor": 2
}
