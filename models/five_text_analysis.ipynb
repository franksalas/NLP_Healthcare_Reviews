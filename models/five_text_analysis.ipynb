{
 "cells": [
  {
   "cell_type": "code",
   "execution_count": 1,
   "metadata": {},
   "outputs": [],
   "source": [
    "import matplotlib.pyplot as plt\n",
    "import gensim\n",
    "import numpy as np\n",
    "import spacy\n",
    "from gensim.models import CoherenceModel, LdaModel, LsiModel, HdpModel\n",
    "from gensim.models.wrappers import LdaMallet\n",
    "from gensim.corpora import Dictionary\n",
    "import pyLDAvis.gensim\n",
    "import os, re, operator, warnings\n",
    "warnings.filterwarnings('ignore') # Let's not pay heed to them right now\n",
    "%matplotlib inline"
   ]
  },
  {
   "cell_type": "code",
   "execution_count": 2,
   "metadata": {},
   "outputs": [],
   "source": [
    "import pandas as pd\n",
    "import numpy as np"
   ]
  },
  {
   "cell_type": "code",
   "execution_count": 3,
   "metadata": {},
   "outputs": [],
   "source": [
    "path = 'yelp_data/health_text_sentiment_full.csv'"
   ]
  },
  {
   "cell_type": "code",
   "execution_count": 4,
   "metadata": {},
   "outputs": [],
   "source": [
    "df = pd.read_csv(path)\n",
    "df.drop(['Unnamed: 0'],axis=1,inplace=True)\n",
    "df = df[['stars','clean_text']]\n",
    "#df = df[['stars','text','clean_text']]"
   ]
  },
  {
   "cell_type": "code",
   "execution_count": 5,
   "metadata": {},
   "outputs": [
    {
     "data": {
      "text/html": [
       "<div>\n",
       "<style scoped>\n",
       "    .dataframe tbody tr th:only-of-type {\n",
       "        vertical-align: middle;\n",
       "    }\n",
       "\n",
       "    .dataframe tbody tr th {\n",
       "        vertical-align: top;\n",
       "    }\n",
       "\n",
       "    .dataframe thead th {\n",
       "        text-align: right;\n",
       "    }\n",
       "</style>\n",
       "<table border=\"1\" class=\"dataframe\">\n",
       "  <thead>\n",
       "    <tr style=\"text-align: right;\">\n",
       "      <th></th>\n",
       "      <th>stars</th>\n",
       "      <th>clean_text</th>\n",
       "    </tr>\n",
       "  </thead>\n",
       "  <tbody>\n",
       "    <tr>\n",
       "      <th>0</th>\n",
       "      <td>1</td>\n",
       "      <td>please stay away place bad care imaginable sta...</td>\n",
       "    </tr>\n",
       "    <tr>\n",
       "      <th>1</th>\n",
       "      <td>5</td>\n",
       "      <td>husband patient dr byrne last year half last m...</td>\n",
       "    </tr>\n",
       "    <tr>\n",
       "      <th>2</th>\n",
       "      <td>4</td>\n",
       "      <td>dr byrne great doctor great bed side manner ex...</td>\n",
       "    </tr>\n",
       "    <tr>\n",
       "      <th>3</th>\n",
       "      <td>3</td>\n",
       "      <td>raise review dr bryne receptive daughter go an...</td>\n",
       "    </tr>\n",
       "    <tr>\n",
       "      <th>4</th>\n",
       "      <td>1</td>\n",
       "      <td>wish could give star bad office ever horrible ...</td>\n",
       "    </tr>\n",
       "  </tbody>\n",
       "</table>\n",
       "</div>"
      ],
      "text/plain": [
       "   stars                                         clean_text\n",
       "0      1  please stay away place bad care imaginable sta...\n",
       "1      5  husband patient dr byrne last year half last m...\n",
       "2      4  dr byrne great doctor great bed side manner ex...\n",
       "3      3  raise review dr bryne receptive daughter go an...\n",
       "4      1  wish could give star bad office ever horrible ..."
      ]
     },
     "execution_count": 5,
     "metadata": {},
     "output_type": "execute_result"
    }
   ],
   "source": [
    "df.head()"
   ]
  },
  {
   "cell_type": "markdown",
   "metadata": {},
   "source": [
    "##  five stars"
   ]
  },
  {
   "cell_type": "code",
   "execution_count": 6,
   "metadata": {},
   "outputs": [],
   "source": [
    "one_star = df.ix[np.where(df.stars==1)]\n",
    "one_star.reset_index(drop=True,inplace=True)\n",
    "five_star = df.ix[np.where(df.stars==5)]\n",
    "five_star.reset_index(drop=True,inplace=True)"
   ]
  },
  {
   "cell_type": "code",
   "execution_count": 8,
   "metadata": {},
   "outputs": [
    {
     "data": {
      "text/html": [
       "<div>\n",
       "<style scoped>\n",
       "    .dataframe tbody tr th:only-of-type {\n",
       "        vertical-align: middle;\n",
       "    }\n",
       "\n",
       "    .dataframe tbody tr th {\n",
       "        vertical-align: top;\n",
       "    }\n",
       "\n",
       "    .dataframe thead th {\n",
       "        text-align: right;\n",
       "    }\n",
       "</style>\n",
       "<table border=\"1\" class=\"dataframe\">\n",
       "  <thead>\n",
       "    <tr style=\"text-align: right;\">\n",
       "      <th></th>\n",
       "      <th>stars</th>\n",
       "      <th>clean_text</th>\n",
       "    </tr>\n",
       "  </thead>\n",
       "  <tbody>\n",
       "    <tr>\n",
       "      <th>0</th>\n",
       "      <td>5</td>\n",
       "      <td>husband patient dr byrne last year half last m...</td>\n",
       "    </tr>\n",
       "    <tr>\n",
       "      <th>1</th>\n",
       "      <td>5</td>\n",
       "      <td>dr byrne excellent doctor right skill include ...</td>\n",
       "    </tr>\n",
       "    <tr>\n",
       "      <th>2</th>\n",
       "      <td>5</td>\n",
       "      <td>go follow jacie example give run whole story f...</td>\n",
       "    </tr>\n",
       "    <tr>\n",
       "      <th>3</th>\n",
       "      <td>5</td>\n",
       "      <td>dr mario quesada arthroscopic knee surgery dr ...</td>\n",
       "    </tr>\n",
       "    <tr>\n",
       "      <th>4</th>\n",
       "      <td>5</td>\n",
       "      <td>love dr ravitch good knowledge awesome demeano...</td>\n",
       "    </tr>\n",
       "  </tbody>\n",
       "</table>\n",
       "</div>"
      ],
      "text/plain": [
       "   stars                                         clean_text\n",
       "0      5  husband patient dr byrne last year half last m...\n",
       "1      5  dr byrne excellent doctor right skill include ...\n",
       "2      5  go follow jacie example give run whole story f...\n",
       "3      5  dr mario quesada arthroscopic knee surgery dr ...\n",
       "4      5  love dr ravitch good knowledge awesome demeano..."
      ]
     },
     "execution_count": 8,
     "metadata": {},
     "output_type": "execute_result"
    }
   ],
   "source": [
    "five_star.head()"
   ]
  },
  {
   "cell_type": "markdown",
   "metadata": {},
   "source": [
    "## NLP"
   ]
  },
  {
   "cell_type": "code",
   "execution_count": 9,
   "metadata": {},
   "outputs": [],
   "source": [
    "#nlp = spacy.load('en', parser=False, entity=False)\n",
    "nlp = spacy.load('en')"
   ]
  },
  {
   "cell_type": "code",
   "execution_count": null,
   "metadata": {},
   "outputs": [],
   "source": [
    "## test\n",
    "test = one_star.loc[:100]\n",
    "test.head()"
   ]
  },
  {
   "cell_type": "code",
   "execution_count": null,
   "metadata": {},
   "outputs": [],
   "source": [
    "%%time\n",
    "tokens = []\n",
    "lemma = []\n",
    "pos = []\n",
    "for doc in nlp.pipe(test['clean_text'].astype('unicode').values, batch_size=50, n_threads=3):\n",
    "    if doc.is_parsed:\n",
    "        tokens.append([n.text for n in doc])\n",
    "        lemma.append([n.lemma_ for n in doc])\n",
    "        pos.append([n.pos_ for n in doc])\n",
    "    else:\n",
    "        # We want to make sure that the lists of parsed results have the\n",
    "        # same number of entries of the original Dataframe, so add some blanks in case the parse fails\n",
    "        tokens.append(None)\n",
    "        lemma.append(None)\n",
    "        pos.append(None)\n",
    "\n",
    "test['tokens'] = tokens\n",
    "test['lemma'] = lemma\n",
    "test['POS'] = pos"
   ]
  },
  {
   "cell_type": "code",
   "execution_count": null,
   "metadata": {},
   "outputs": [],
   "source": [
    "test.head()"
   ]
  },
  {
   "cell_type": "markdown",
   "metadata": {},
   "source": [
    "## Five Star"
   ]
  },
  {
   "cell_type": "code",
   "execution_count": 10,
   "metadata": {},
   "outputs": [
    {
     "name": "stdout",
     "output_type": "stream",
     "text": [
      "<class 'pandas.core.frame.DataFrame'>\n",
      "RangeIndex: 31726 entries, 0 to 31725\n",
      "Data columns (total 2 columns):\n",
      "stars         31726 non-null int64\n",
      "clean_text    31726 non-null object\n",
      "dtypes: int64(1), object(1)\n",
      "memory usage: 495.8+ KB\n"
     ]
    }
   ],
   "source": [
    "five_star.info()"
   ]
  },
  {
   "cell_type": "code",
   "execution_count": 11,
   "metadata": {},
   "outputs": [
    {
     "data": {
      "text/html": [
       "<div>\n",
       "<style scoped>\n",
       "    .dataframe tbody tr th:only-of-type {\n",
       "        vertical-align: middle;\n",
       "    }\n",
       "\n",
       "    .dataframe tbody tr th {\n",
       "        vertical-align: top;\n",
       "    }\n",
       "\n",
       "    .dataframe thead th {\n",
       "        text-align: right;\n",
       "    }\n",
       "</style>\n",
       "<table border=\"1\" class=\"dataframe\">\n",
       "  <thead>\n",
       "    <tr style=\"text-align: right;\">\n",
       "      <th></th>\n",
       "      <th>stars</th>\n",
       "      <th>clean_text</th>\n",
       "    </tr>\n",
       "  </thead>\n",
       "  <tbody>\n",
       "    <tr>\n",
       "      <th>0</th>\n",
       "      <td>5</td>\n",
       "      <td>husband patient dr byrne last year half last m...</td>\n",
       "    </tr>\n",
       "    <tr>\n",
       "      <th>1</th>\n",
       "      <td>5</td>\n",
       "      <td>dr byrne excellent doctor right skill include ...</td>\n",
       "    </tr>\n",
       "    <tr>\n",
       "      <th>2</th>\n",
       "      <td>5</td>\n",
       "      <td>go follow jacie example give run whole story f...</td>\n",
       "    </tr>\n",
       "    <tr>\n",
       "      <th>3</th>\n",
       "      <td>5</td>\n",
       "      <td>dr mario quesada arthroscopic knee surgery dr ...</td>\n",
       "    </tr>\n",
       "    <tr>\n",
       "      <th>4</th>\n",
       "      <td>5</td>\n",
       "      <td>love dr ravitch good knowledge awesome demeano...</td>\n",
       "    </tr>\n",
       "  </tbody>\n",
       "</table>\n",
       "</div>"
      ],
      "text/plain": [
       "   stars                                         clean_text\n",
       "0      5  husband patient dr byrne last year half last m...\n",
       "1      5  dr byrne excellent doctor right skill include ...\n",
       "2      5  go follow jacie example give run whole story f...\n",
       "3      5  dr mario quesada arthroscopic knee surgery dr ...\n",
       "4      5  love dr ravitch good knowledge awesome demeano..."
      ]
     },
     "execution_count": 11,
     "metadata": {},
     "output_type": "execute_result"
    }
   ],
   "source": [
    "five_star.head()"
   ]
  },
  {
   "cell_type": "markdown",
   "metadata": {},
   "source": [
    "## time\n",
    "\n",
    "```\n",
    "CPU times: user 59min 24s, sys: 6min 32s, total: 1h 5min 56s\n",
    "Wall time: 8min 42s\n",
    "    ```"
   ]
  },
  {
   "cell_type": "code",
   "execution_count": 12,
   "metadata": {},
   "outputs": [
    {
     "name": "stdout",
     "output_type": "stream",
     "text": [
      "CPU times: user 55min 23s, sys: 5min 55s, total: 1h 1min 19s\n",
      "Wall time: 7min 44s\n"
     ]
    }
   ],
   "source": [
    "%%time\n",
    "lemma = []\n",
    "for doc in nlp.pipe(five_star['clean_text'].astype('unicode').values, batch_size=50, n_threads=3):\n",
    "    if doc.is_parsed:\n",
    "        lemma.append([n.lemma_ for n in doc])\n",
    "    else:\n",
    "        # We want to make sure that the lists of parsed results have the\n",
    "        # same number of entries of the original Dataframe, so add some blanks in case the parse fails\n",
    "        lemma.append(None)\n",
    "\n",
    "five_star['lemma'] = lemma"
   ]
  },
  {
   "cell_type": "code",
   "execution_count": 13,
   "metadata": {},
   "outputs": [],
   "source": [
    "fivestar_lemma = list(five_star.lemma)"
   ]
  },
  {
   "cell_type": "markdown",
   "metadata": {},
   "source": [
    "## Bigram"
   ]
  },
  {
   "cell_type": "code",
   "execution_count": 14,
   "metadata": {},
   "outputs": [
    {
     "name": "stdout",
     "output_type": "stream",
     "text": [
      "CPU times: user 3.92 s, sys: 281 ms, total: 4.2 s\n",
      "Wall time: 4.21 s\n"
     ]
    }
   ],
   "source": [
    "%%time\n",
    "bigram = gensim.models.Phrases(fivestar_lemma)"
   ]
  },
  {
   "cell_type": "code",
   "execution_count": 15,
   "metadata": {},
   "outputs": [
    {
     "name": "stdout",
     "output_type": "stream",
     "text": [
      "CPU times: user 10 s, sys: 531 ms, total: 10.6 s\n",
      "Wall time: 10.6 s\n"
     ]
    }
   ],
   "source": [
    "%%time\n",
    "texts = [bigram[line] for line in fivestar_lemma]"
   ]
  },
  {
   "cell_type": "code",
   "execution_count": 16,
   "metadata": {},
   "outputs": [
    {
     "data": {
      "text/plain": [
       "['dr',\n",
       " 'gibson',\n",
       " 'absolutely_wonderful',\n",
       " 'besides',\n",
       " 'kind_hearted',\n",
       " 'human',\n",
       " 'wonderful',\n",
       " 'gynecologist',\n",
       " 'make_feel',\n",
       " 'comfortable',\n",
       " 'not',\n",
       " 'comfortable',\n",
       " 'situation',\n",
       " 'knowledgeable',\n",
       " 'helpful',\n",
       " 'would_definitely',\n",
       " 'recommend',\n",
       " 'glad_find',\n",
       " 'someone',\n",
       " 'count',\n",
       " 'year',\n",
       " 'come']"
      ]
     },
     "execution_count": 16,
     "metadata": {},
     "output_type": "execute_result"
    }
   ],
   "source": [
    "texts[10]"
   ]
  },
  {
   "cell_type": "code",
   "execution_count": 17,
   "metadata": {},
   "outputs": [],
   "source": [
    "dictionary = Dictionary(texts)\n",
    "corpus = [dictionary.doc2bow(text) for text in texts]"
   ]
  },
  {
   "cell_type": "code",
   "execution_count": 18,
   "metadata": {},
   "outputs": [
    {
     "data": {
      "text/plain": [
       "31726"
      ]
     },
     "execution_count": 18,
     "metadata": {},
     "output_type": "execute_result"
    }
   ],
   "source": [
    "len(corpus)"
   ]
  },
  {
   "cell_type": "code",
   "execution_count": 19,
   "metadata": {},
   "outputs": [
    {
     "data": {
      "text/plain": [
       "[(14, 1),\n",
       " (28, 1),\n",
       " (37, 1),\n",
       " (134, 1),\n",
       " (211, 1),\n",
       " (261, 1),\n",
       " (281, 1),\n",
       " (342, 1),\n",
       " (427, 1),\n",
       " (428, 1),\n",
       " (429, 2),\n",
       " (430, 1),\n",
       " (431, 1),\n",
       " (432, 1),\n",
       " (433, 1),\n",
       " (434, 1),\n",
       " (435, 1),\n",
       " (436, 1),\n",
       " (437, 1),\n",
       " (438, 1),\n",
       " (439, 1)]"
      ]
     },
     "execution_count": 19,
     "metadata": {},
     "output_type": "execute_result"
    }
   ],
   "source": [
    "corpus[10]"
   ]
  },
  {
   "cell_type": "markdown",
   "metadata": {},
   "source": [
    "## LSI"
   ]
  },
  {
   "cell_type": "code",
   "execution_count": 20,
   "metadata": {},
   "outputs": [],
   "source": [
    "lsimodel = LsiModel(corpus=corpus, num_topics=10, id2word=dictionary)"
   ]
  },
  {
   "cell_type": "code",
   "execution_count": 21,
   "metadata": {},
   "outputs": [
    {
     "data": {
      "text/plain": [
       "[(0,\n",
       "  '0.428*\"not\" + 0.286*\"dr\" + 0.228*\"go\" + 0.227*\"doctor\" + 0.211*\"time\" + 0.206*\"get\" + 0.189*\"see\" + 0.181*\"good\" + 0.158*\"office\" + 0.151*\"take\"'),\n",
       " (1,\n",
       "  '0.784*\"dr\" + -0.421*\"not\" + -0.180*\"get\" + -0.159*\"go\" + 0.136*\"office\" + 0.134*\"staff\" + 0.119*\"care\" + 0.087*\"patient\" + -0.076*\"would\" + 0.069*\"always\"'),\n",
       " (2,\n",
       "  '0.490*\"doctor\" + -0.465*\"dr\" + -0.424*\"not\" + 0.257*\"office\" + 0.226*\"time\" + 0.201*\"staff\" + 0.184*\"care\" + 0.125*\"great\" + 0.118*\"patient\" + -0.111*\"surgery\"'),\n",
       " (3,\n",
       "  '-0.610*\"doctor\" + -0.455*\"not\" + 0.281*\"get\" + 0.258*\"go\" + 0.175*\"staff\" + 0.156*\"time\" + 0.154*\"great\" + 0.130*\"take\" + 0.126*\"back\" + 0.097*\"surgery\"'),\n",
       " (4,\n",
       "  '-0.492*\"go\" + -0.432*\"doctor\" + 0.386*\"not\" + 0.251*\"office\" + 0.248*\"staff\" + 0.233*\"care\" + 0.190*\"time\" + -0.174*\"get\" + -0.162*\"see\" + -0.140*\"good\"')]"
      ]
     },
     "execution_count": 21,
     "metadata": {},
     "output_type": "execute_result"
    }
   ],
   "source": [
    "lsimodel.show_topics(num_topics=5)"
   ]
  },
  {
   "cell_type": "markdown",
   "metadata": {},
   "source": [
    "## HDP"
   ]
  },
  {
   "cell_type": "code",
   "execution_count": 22,
   "metadata": {},
   "outputs": [
    {
     "name": "stdout",
     "output_type": "stream",
     "text": [
      "CPU times: user 33min 29s, sys: 4min 19s, total: 37min 49s\n",
      "Wall time: 4min 54s\n"
     ]
    }
   ],
   "source": [
    "%%time\n",
    "hdpmodel = HdpModel(corpus=corpus, id2word=dictionary)"
   ]
  },
  {
   "cell_type": "code",
   "execution_count": 23,
   "metadata": {},
   "outputs": [
    {
     "data": {
      "text/plain": [
       "[(0,\n",
       "  '0.021*not + 0.015*dr + 0.012*doctor + 0.012*go + 0.012*time + 0.011*get + 0.010*good + 0.010*see + 0.010*staff + 0.009*office + 0.009*care + 0.008*take + 0.007*great + 0.006*would + 0.006*patient + 0.005*one + 0.005*need + 0.005*back + 0.005*come + 0.005*always'),\n",
       " (1,\n",
       "  '0.019*not + 0.016*dr + 0.012*time + 0.012*doctor + 0.011*go + 0.011*staff + 0.010*good + 0.010*get + 0.010*see + 0.010*office + 0.009*care + 0.008*take + 0.008*great + 0.006*would + 0.006*patient + 0.006*one + 0.005*need + 0.005*come + 0.005*experience + 0.005*make'),\n",
       " (2,\n",
       "  '0.020*not + 0.016*dr + 0.012*go + 0.011*doctor + 0.011*time + 0.010*good + 0.010*get + 0.009*see + 0.009*staff + 0.009*care + 0.008*office + 0.008*take + 0.007*great + 0.006*would + 0.006*patient + 0.005*one + 0.005*need + 0.005*make + 0.005*back + 0.005*come'),\n",
       " (3,\n",
       "  '0.019*not + 0.017*dr + 0.012*go + 0.011*doctor + 0.011*staff + 0.011*time + 0.011*good + 0.010*get + 0.010*see + 0.009*care + 0.009*office + 0.008*take + 0.008*great + 0.006*would + 0.006*patient + 0.005*need + 0.005*one + 0.005*experience + 0.005*always + 0.005*back'),\n",
       " (4,\n",
       "  '0.017*dr + 0.017*not + 0.011*staff + 0.011*doctor + 0.011*go + 0.011*time + 0.011*good + 0.010*get + 0.009*care + 0.009*see + 0.009*office + 0.008*great + 0.008*take + 0.006*patient + 0.005*would + 0.005*need + 0.005*always + 0.005*experience + 0.005*friendly + 0.005*come'),\n",
       " (5,\n",
       "  '0.016*dr + 0.013*staff + 0.012*not + 0.011*doctor + 0.010*good + 0.010*care + 0.010*time + 0.009*office + 0.009*great + 0.009*go + 0.008*see + 0.007*get + 0.007*take + 0.006*patient + 0.005*friendly + 0.005*always + 0.004*recommend + 0.004*experience + 0.004*amazing + 0.004*need'),\n",
       " (6,\n",
       "  '0.013*dr + 0.010*staff + 0.009*not + 0.008*doctor + 0.008*good + 0.007*time + 0.007*great + 0.007*care + 0.006*go + 0.006*office + 0.006*see + 0.005*get + 0.005*patient + 0.005*take + 0.004*friendly + 0.004*always + 0.004*experience + 0.003*recommend + 0.003*would + 0.003*place'),\n",
       " (7,\n",
       "  '0.010*dr + 0.009*staff + 0.008*not + 0.007*doctor + 0.006*good + 0.006*great + 0.006*go + 0.006*care + 0.005*time + 0.005*office + 0.005*see + 0.004*get + 0.004*take + 0.004*friendly + 0.003*patient + 0.003*always + 0.003*place + 0.003*amazing + 0.003*would + 0.003*experience'),\n",
       " (8,\n",
       "  '0.011*dr + 0.009*staff + 0.007*doctor + 0.007*not + 0.007*good + 0.006*great + 0.006*care + 0.006*time + 0.006*go + 0.005*office + 0.005*see + 0.005*get + 0.004*take + 0.004*friendly + 0.003*always + 0.003*patient + 0.003*would + 0.003*experience + 0.003*professional + 0.003*come'),\n",
       " (9,\n",
       "  '0.007*dr + 0.007*staff + 0.005*doctor + 0.005*great + 0.005*not + 0.004*good + 0.004*time + 0.004*care + 0.004*go + 0.003*office + 0.003*friendly + 0.003*see + 0.003*get + 0.003*take + 0.002*patient + 0.002*recommend + 0.002*professional + 0.002*always + 0.002*place + 0.002*amazing'),\n",
       " (10,\n",
       "  '0.007*dr + 0.007*staff + 0.005*doctor + 0.005*not + 0.005*great + 0.004*good + 0.004*time + 0.004*office + 0.004*care + 0.004*go + 0.003*see + 0.003*get + 0.003*take + 0.003*friendly + 0.002*always + 0.002*experience + 0.002*patient + 0.002*place + 0.002*recommend + 0.002*professional'),\n",
       " (11,\n",
       "  '0.007*dr + 0.006*staff + 0.005*not + 0.005*doctor + 0.004*great + 0.004*good + 0.004*office + 0.004*go + 0.003*time + 0.003*care + 0.003*see + 0.003*get + 0.003*take + 0.002*friendly + 0.002*would + 0.002*recommend + 0.002*always + 0.002*experience + 0.002*professional + 0.002*patient'),\n",
       " (12,\n",
       "  '0.005*staff + 0.005*dr + 0.004*not + 0.004*great + 0.004*doctor + 0.003*good + 0.003*go + 0.003*time + 0.003*office + 0.003*care + 0.003*get + 0.002*friendly + 0.002*take + 0.002*see + 0.002*love + 0.002*always + 0.002*patient + 0.002*recommend + 0.002*place + 0.002*professional'),\n",
       " (13,\n",
       "  '0.005*dr + 0.004*staff + 0.003*doctor + 0.003*great + 0.003*good + 0.003*office + 0.003*not + 0.002*care + 0.002*time + 0.002*go + 0.002*friendly + 0.002*see + 0.002*get + 0.002*take + 0.001*always + 0.001*amazing + 0.001*thank + 0.001*love + 0.001*experience + 0.001*professional'),\n",
       " (14,\n",
       "  '0.004*dr + 0.003*staff + 0.003*doctor + 0.003*great + 0.002*care + 0.002*not + 0.002*good + 0.002*time + 0.002*go + 0.002*see + 0.002*office + 0.002*get + 0.002*friendly + 0.002*take + 0.001*professional + 0.001*love + 0.001*always + 0.001*patient + 0.001*amazing + 0.001*place'),\n",
       " (15,\n",
       "  '0.004*staff + 0.003*dr + 0.003*doctor + 0.003*great + 0.002*good + 0.002*not + 0.002*time + 0.002*care + 0.002*go + 0.002*office + 0.002*see + 0.001*take + 0.001*friendly + 0.001*always + 0.001*get + 0.001*love + 0.001*patient + 0.001*amazing + 0.001*year + 0.001*place'),\n",
       " (16,\n",
       "  '0.003*dr + 0.003*staff + 0.002*doctor + 0.002*great + 0.002*not + 0.002*good + 0.002*care + 0.002*go + 0.002*time + 0.002*see + 0.002*take + 0.001*office + 0.001*get + 0.001*friendly + 0.001*patient + 0.001*need + 0.001*love + 0.001*year + 0.001*always + 0.001*come'),\n",
       " (17,\n",
       "  '0.003*dr + 0.003*staff + 0.002*not + 0.002*doctor + 0.002*great + 0.002*go + 0.002*good + 0.002*care + 0.002*get + 0.001*time + 0.001*see + 0.001*take + 0.001*friendly + 0.001*office + 0.001*experience + 0.001*professional + 0.001*place + 0.001*recommend + 0.001*love + 0.001*amazing'),\n",
       " (18,\n",
       "  '0.002*dr + 0.002*staff + 0.002*doctor + 0.001*good + 0.001*great + 0.001*not + 0.001*care + 0.001*time + 0.001*go + 0.001*get + 0.001*see + 0.001*office + 0.001*friendly + 0.001*recommend + 0.001*place + 0.001*take + 0.001*always + 0.001*love + 0.001*experience + 0.001*amazing'),\n",
       " (19,\n",
       "  '0.002*dr + 0.002*staff + 0.001*great + 0.001*doctor + 0.001*good + 0.001*care + 0.001*see + 0.001*time + 0.001*take + 0.001*office + 0.001*not + 0.001*friendly + 0.001*go + 0.001*love + 0.001*professional + 0.001*patient + 0.001*x_ray + 0.001*amazing + 0.001*always + 0.001*get')]"
      ]
     },
     "execution_count": 23,
     "metadata": {},
     "output_type": "execute_result"
    }
   ],
   "source": [
    " hdpmodel.show_topics()"
   ]
  },
  {
   "cell_type": "code",
   "execution_count": null,
   "metadata": {},
   "outputs": [],
   "source": []
  },
  {
   "cell_type": "markdown",
   "metadata": {},
   "source": [
    "## LDA"
   ]
  },
  {
   "cell_type": "code",
   "execution_count": 24,
   "metadata": {},
   "outputs": [
    {
     "name": "stdout",
     "output_type": "stream",
     "text": [
      "CPU times: user 1min 10s, sys: 3.28 s, total: 1min 13s\n",
      "Wall time: 46.8 s\n"
     ]
    }
   ],
   "source": [
    "%%time\n",
    "ldamodel = LdaModel(corpus=corpus, num_topics=10, id2word=dictionary)"
   ]
  },
  {
   "cell_type": "code",
   "execution_count": 25,
   "metadata": {},
   "outputs": [],
   "source": [
    "lda_topics = ldamodel.show_topics(num_topics=5)"
   ]
  },
  {
   "cell_type": "code",
   "execution_count": 26,
   "metadata": {},
   "outputs": [
    {
     "name": "stdout",
     "output_type": "stream",
     "text": [
      "TOPIC:6\n",
      "\n",
      "result:0.019*\"baby\" + 0.018*\"not\" + 0.015*\"love\" + 0.014*\"-PRON-\" + 0.011*\"go\" + 0.011*\"pregnancy\" + 0.010*\"good\" + 0.010*\"first\" + 0.010*\"great\" + 0.010*\"son\"\n",
      "\n",
      "TOPIC:0\n",
      "\n",
      "result:0.025*\"dr\" + 0.012*\"care\" + 0.010*\"see\" + 0.009*\"go\" + 0.008*\"year\" + 0.007*\"not\" + 0.007*\"good\" + 0.006*\"pain\" + 0.006*\"love\" + 0.006*\"time\"\n",
      "\n",
      "TOPIC:1\n",
      "\n",
      "result:0.018*\"treatment\" + 0.011*\"good\" + 0.010*\"dr_hall\" + 0.009*\"thank\" + 0.008*\"feel\" + 0.007*\"care\" + 0.007*\"dr\" + 0.007*\"time\" + 0.006*\"amazing\" + 0.006*\"not\"\n",
      "\n",
      "TOPIC:9\n",
      "\n",
      "result:0.029*\"surgery\" + 0.018*\"pain\" + 0.016*\"dr\" + 0.015*\"go\" + 0.013*\"get\" + 0.012*\"good\" + 0.011*\"back\" + 0.009*\"day\" + 0.009*\"great\" + 0.009*\"would\"\n",
      "\n",
      "TOPIC:2\n",
      "\n",
      "result:0.031*\"not\" + 0.020*\"get\" + 0.017*\"go\" + 0.017*\"time\" + 0.016*\"doctor\" + 0.013*\"see\" + 0.013*\"wait\" + 0.012*\"take\" + 0.010*\"office\" + 0.009*\"call\"\n",
      "\n"
     ]
    }
   ],
   "source": [
    "for i,j in lda_topics:\n",
    "    print('TOPIC:{}\\n\\nresult:{}\\n'.format(i,j))\n"
   ]
  },
  {
   "cell_type": "code",
   "execution_count": null,
   "metadata": {},
   "outputs": [],
   "source": []
  },
  {
   "cell_type": "code",
   "execution_count": 27,
   "metadata": {},
   "outputs": [],
   "source": [
    "from gensim.test.utils import datapath\n",
    "# Save model to disk.\n",
    "ldamodel.save('fivestar_lda.model')"
   ]
  },
  {
   "cell_type": "code",
   "execution_count": 28,
   "metadata": {},
   "outputs": [
    {
     "data": {
      "text/html": [
       "\n",
       "<link rel=\"stylesheet\" type=\"text/css\" href=\"https://cdn.rawgit.com/bmabey/pyLDAvis/files/ldavis.v1.0.0.css\">\n",
       "\n",
       "\n",
       "<div id=\"ldavis_el5941397443368199283074758071\"></div>\n",
       "<script type=\"text/javascript\">\n",
       "\n",
       "var ldavis_el5941397443368199283074758071_data = {\"mdsDat\": {\"x\": [0.0313084363612849, 0.04502249920643297, 0.17764590877085268, 0.08333364739480617, -0.12345440041714283, -0.07666478521347873, -0.10910134435424657, 0.07690334189424704, -0.07436728055481286, -0.030626023087942697], \"y\": [0.0688702775911744, -0.026812373966531022, -0.020932228847266147, 0.03749467454720265, 0.03459652560063486, 0.042327347388328974, 0.08275539023735674, 0.0578109522861863, -0.07516260589913415, -0.20094795893795236], \"topics\": [1, 2, 3, 4, 5, 6, 7, 8, 9, 10], \"cluster\": [1, 1, 1, 1, 1, 1, 1, 1, 1, 1], \"Freq\": [28.594934463500977, 13.672785758972168, 11.869943618774414, 10.367647171020508, 9.890707015991211, 9.299570083618164, 5.518443584442139, 5.335088729858398, 2.9754133224487305, 2.4754676818847656]}, \"tinfo\": {\"Category\": [\"Default\", \"Default\", \"Default\", \"Default\", \"Default\", \"Default\", \"Default\", \"Default\", \"Default\", \"Default\", \"Default\", \"Default\", \"Default\", \"Default\", \"Default\", \"Default\", \"Default\", \"Default\", \"Default\", \"Default\", \"Default\", \"Default\", \"Default\", \"Default\", \"Default\", \"Default\", \"Default\", \"Default\", \"Default\", \"Default\", \"Topic1\", \"Topic1\", \"Topic1\", \"Topic1\", \"Topic1\", \"Topic1\", \"Topic1\", \"Topic1\", \"Topic1\", \"Topic1\", \"Topic1\", \"Topic1\", \"Topic1\", \"Topic1\", \"Topic1\", \"Topic1\", \"Topic1\", \"Topic1\", \"Topic1\", \"Topic1\", \"Topic1\", \"Topic1\", \"Topic1\", \"Topic1\", \"Topic1\", \"Topic1\", \"Topic1\", \"Topic1\", \"Topic1\", \"Topic1\", \"Topic1\", \"Topic1\", \"Topic1\", \"Topic1\", \"Topic1\", \"Topic1\", \"Topic1\", \"Topic1\", \"Topic1\", \"Topic1\", \"Topic1\", \"Topic1\", \"Topic1\", \"Topic1\", \"Topic1\", \"Topic1\", \"Topic1\", \"Topic1\", \"Topic1\", \"Topic1\", \"Topic1\", \"Topic1\", \"Topic1\", \"Topic1\", \"Topic1\", \"Topic1\", \"Topic1\", \"Topic1\", \"Topic1\", \"Topic1\", \"Topic1\", \"Topic1\", \"Topic1\", \"Topic1\", \"Topic1\", \"Topic1\", \"Topic1\", \"Topic1\", \"Topic1\", \"Topic1\", \"Topic1\", \"Topic1\", \"Topic1\", \"Topic1\", \"Topic1\", \"Topic1\", \"Topic1\", \"Topic1\", \"Topic1\", \"Topic1\", \"Topic1\", \"Topic1\", \"Topic1\", \"Topic1\", \"Topic1\", \"Topic1\", \"Topic1\", \"Topic1\", \"Topic1\", \"Topic1\", \"Topic1\", \"Topic1\", \"Topic1\", \"Topic1\", \"Topic1\", \"Topic1\", \"Topic1\", \"Topic1\", \"Topic1\", \"Topic1\", \"Topic1\", \"Topic1\", \"Topic1\", \"Topic2\", \"Topic2\", \"Topic2\", \"Topic2\", \"Topic2\", \"Topic2\", \"Topic2\", \"Topic2\", \"Topic2\", \"Topic2\", \"Topic2\", \"Topic2\", \"Topic2\", \"Topic2\", \"Topic2\", \"Topic2\", \"Topic2\", \"Topic2\", \"Topic2\", \"Topic2\", \"Topic2\", \"Topic2\", \"Topic2\", \"Topic2\", \"Topic2\", \"Topic2\", \"Topic2\", \"Topic2\", \"Topic2\", \"Topic2\", \"Topic2\", \"Topic2\", \"Topic2\", \"Topic2\", \"Topic2\", \"Topic2\", \"Topic2\", \"Topic2\", \"Topic2\", \"Topic2\", \"Topic2\", \"Topic2\", \"Topic2\", \"Topic2\", \"Topic2\", \"Topic2\", \"Topic2\", \"Topic2\", \"Topic2\", \"Topic2\", \"Topic2\", \"Topic2\", \"Topic2\", \"Topic2\", \"Topic2\", \"Topic2\", \"Topic2\", \"Topic2\", \"Topic2\", \"Topic2\", \"Topic2\", \"Topic2\", \"Topic2\", \"Topic2\", \"Topic2\", \"Topic2\", \"Topic2\", \"Topic2\", \"Topic2\", \"Topic2\", \"Topic2\", \"Topic2\", \"Topic2\", \"Topic2\", \"Topic2\", \"Topic2\", \"Topic2\", \"Topic2\", \"Topic2\", \"Topic2\", \"Topic2\", \"Topic2\", \"Topic2\", \"Topic2\", \"Topic2\", \"Topic2\", \"Topic2\", \"Topic3\", \"Topic3\", \"Topic3\", \"Topic3\", \"Topic3\", \"Topic3\", \"Topic3\", \"Topic3\", \"Topic3\", \"Topic3\", \"Topic3\", \"Topic3\", \"Topic3\", \"Topic3\", \"Topic3\", \"Topic3\", \"Topic3\", \"Topic3\", \"Topic3\", \"Topic3\", \"Topic3\", \"Topic3\", \"Topic3\", \"Topic3\", \"Topic3\", \"Topic3\", \"Topic3\", \"Topic3\", \"Topic3\", \"Topic3\", \"Topic3\", \"Topic3\", \"Topic3\", \"Topic3\", \"Topic3\", \"Topic3\", \"Topic3\", \"Topic3\", \"Topic3\", \"Topic3\", \"Topic3\", \"Topic3\", \"Topic3\", \"Topic3\", \"Topic3\", \"Topic3\", \"Topic3\", \"Topic3\", \"Topic3\", \"Topic3\", \"Topic3\", \"Topic3\", \"Topic3\", \"Topic3\", \"Topic3\", \"Topic3\", \"Topic3\", \"Topic3\", \"Topic3\", \"Topic3\", \"Topic3\", \"Topic3\", \"Topic3\", \"Topic3\", \"Topic3\", \"Topic3\", \"Topic3\", \"Topic3\", \"Topic3\", \"Topic3\", \"Topic3\", \"Topic3\", \"Topic3\", \"Topic3\", \"Topic3\", \"Topic3\", \"Topic3\", \"Topic3\", \"Topic3\", \"Topic3\", \"Topic4\", \"Topic4\", \"Topic4\", \"Topic4\", \"Topic4\", \"Topic4\", \"Topic4\", \"Topic4\", \"Topic4\", \"Topic4\", \"Topic4\", \"Topic4\", \"Topic4\", \"Topic4\", \"Topic4\", \"Topic4\", \"Topic4\", \"Topic4\", \"Topic4\", \"Topic4\", \"Topic4\", \"Topic4\", \"Topic4\", \"Topic4\", \"Topic4\", \"Topic4\", \"Topic4\", \"Topic4\", \"Topic4\", \"Topic4\", \"Topic4\", \"Topic4\", \"Topic4\", \"Topic4\", \"Topic4\", \"Topic4\", \"Topic4\", \"Topic4\", \"Topic4\", \"Topic4\", \"Topic4\", \"Topic4\", \"Topic4\", \"Topic4\", \"Topic4\", \"Topic4\", \"Topic4\", \"Topic4\", \"Topic4\", \"Topic4\", \"Topic4\", \"Topic4\", \"Topic4\", \"Topic4\", \"Topic4\", \"Topic4\", \"Topic4\", \"Topic4\", \"Topic4\", \"Topic4\", \"Topic4\", \"Topic4\", \"Topic4\", \"Topic4\", \"Topic4\", \"Topic4\", \"Topic4\", \"Topic4\", \"Topic4\", \"Topic4\", \"Topic4\", \"Topic4\", \"Topic4\", \"Topic4\", \"Topic4\", \"Topic4\", \"Topic4\", \"Topic4\", \"Topic4\", \"Topic4\", \"Topic4\", \"Topic4\", \"Topic4\", \"Topic4\", \"Topic4\", \"Topic5\", \"Topic5\", \"Topic5\", \"Topic5\", \"Topic5\", \"Topic5\", \"Topic5\", \"Topic5\", \"Topic5\", \"Topic5\", \"Topic5\", \"Topic5\", \"Topic5\", \"Topic5\", \"Topic5\", \"Topic5\", \"Topic5\", \"Topic5\", \"Topic5\", \"Topic5\", \"Topic5\", \"Topic5\", \"Topic5\", \"Topic5\", \"Topic5\", \"Topic5\", \"Topic5\", \"Topic5\", \"Topic5\", \"Topic5\", \"Topic5\", \"Topic5\", \"Topic5\", \"Topic5\", \"Topic5\", \"Topic5\", \"Topic5\", \"Topic5\", \"Topic5\", \"Topic5\", \"Topic5\", \"Topic5\", \"Topic5\", \"Topic5\", \"Topic5\", \"Topic5\", \"Topic5\", \"Topic5\", \"Topic5\", \"Topic5\", \"Topic5\", \"Topic5\", \"Topic5\", \"Topic5\", \"Topic5\", \"Topic5\", \"Topic5\", \"Topic5\", \"Topic5\", \"Topic5\", \"Topic5\", \"Topic5\", \"Topic5\", \"Topic5\", \"Topic5\", \"Topic5\", \"Topic5\", \"Topic5\", \"Topic5\", \"Topic5\", \"Topic5\", \"Topic5\", \"Topic5\", \"Topic5\", \"Topic5\", \"Topic5\", \"Topic5\", \"Topic5\", \"Topic5\", \"Topic5\", \"Topic5\", \"Topic5\", \"Topic5\", \"Topic5\", \"Topic5\", \"Topic6\", \"Topic6\", \"Topic6\", \"Topic6\", \"Topic6\", \"Topic6\", \"Topic6\", \"Topic6\", \"Topic6\", \"Topic6\", \"Topic6\", \"Topic6\", \"Topic6\", \"Topic6\", \"Topic6\", \"Topic6\", \"Topic6\", \"Topic6\", \"Topic6\", \"Topic6\", \"Topic6\", \"Topic6\", \"Topic6\", \"Topic6\", \"Topic6\", \"Topic6\", \"Topic6\", \"Topic6\", \"Topic6\", \"Topic6\", \"Topic6\", \"Topic6\", \"Topic6\", \"Topic6\", \"Topic6\", \"Topic6\", \"Topic6\", \"Topic6\", \"Topic6\", \"Topic6\", \"Topic6\", \"Topic6\", \"Topic6\", \"Topic6\", \"Topic6\", \"Topic6\", \"Topic6\", \"Topic6\", \"Topic6\", \"Topic6\", \"Topic6\", \"Topic6\", \"Topic6\", \"Topic6\", \"Topic6\", \"Topic6\", \"Topic6\", \"Topic6\", \"Topic6\", \"Topic6\", \"Topic6\", \"Topic6\", \"Topic6\", \"Topic6\", \"Topic6\", \"Topic6\", \"Topic6\", \"Topic6\", \"Topic6\", \"Topic6\", \"Topic6\", \"Topic6\", \"Topic6\", \"Topic6\", \"Topic6\", \"Topic6\", \"Topic6\", \"Topic6\", \"Topic6\", \"Topic6\", \"Topic6\", \"Topic6\", \"Topic6\", \"Topic6\", \"Topic6\", \"Topic6\", \"Topic6\", \"Topic6\", \"Topic6\", \"Topic6\", \"Topic6\", \"Topic6\", \"Topic6\", \"Topic7\", \"Topic7\", \"Topic7\", \"Topic7\", \"Topic7\", \"Topic7\", \"Topic7\", \"Topic7\", \"Topic7\", \"Topic7\", \"Topic7\", \"Topic7\", \"Topic7\", \"Topic7\", \"Topic7\", \"Topic7\", \"Topic7\", \"Topic7\", \"Topic7\", \"Topic7\", \"Topic7\", \"Topic7\", \"Topic7\", \"Topic7\", \"Topic7\", \"Topic7\", \"Topic7\", \"Topic7\", \"Topic7\", \"Topic7\", \"Topic7\", \"Topic7\", \"Topic7\", \"Topic7\", \"Topic7\", \"Topic7\", \"Topic7\", \"Topic7\", \"Topic7\", \"Topic7\", \"Topic7\", \"Topic7\", \"Topic7\", \"Topic7\", \"Topic7\", \"Topic7\", \"Topic7\", \"Topic7\", \"Topic7\", \"Topic7\", \"Topic7\", \"Topic7\", \"Topic7\", \"Topic7\", \"Topic7\", \"Topic7\", \"Topic7\", \"Topic7\", \"Topic7\", \"Topic7\", \"Topic7\", \"Topic7\", \"Topic7\", \"Topic7\", \"Topic7\", \"Topic7\", \"Topic7\", \"Topic7\", \"Topic7\", \"Topic7\", \"Topic7\", \"Topic7\", \"Topic7\", \"Topic7\", \"Topic7\", \"Topic7\", \"Topic7\", \"Topic7\", \"Topic7\", \"Topic7\", \"Topic7\", \"Topic7\", \"Topic7\", \"Topic7\", \"Topic7\", \"Topic7\", \"Topic8\", \"Topic8\", \"Topic8\", \"Topic8\", \"Topic8\", \"Topic8\", \"Topic8\", \"Topic8\", \"Topic8\", \"Topic8\", \"Topic8\", \"Topic8\", \"Topic8\", \"Topic8\", \"Topic8\", \"Topic8\", \"Topic8\", \"Topic8\", \"Topic8\", \"Topic8\", \"Topic8\", \"Topic8\", \"Topic8\", \"Topic8\", \"Topic8\", \"Topic8\", \"Topic8\", \"Topic8\", \"Topic8\", \"Topic8\", \"Topic8\", \"Topic8\", \"Topic8\", \"Topic8\", \"Topic8\", \"Topic8\", \"Topic8\", \"Topic8\", \"Topic8\", \"Topic8\", \"Topic8\", \"Topic8\", \"Topic8\", \"Topic8\", \"Topic8\", \"Topic8\", \"Topic8\", \"Topic8\", \"Topic8\", \"Topic8\", \"Topic8\", \"Topic8\", \"Topic8\", \"Topic8\", \"Topic8\", \"Topic8\", \"Topic8\", \"Topic8\", \"Topic8\", \"Topic8\", \"Topic8\", \"Topic8\", \"Topic8\", \"Topic8\", \"Topic8\", \"Topic8\", \"Topic8\", \"Topic8\", \"Topic8\", \"Topic8\", \"Topic8\", \"Topic8\", \"Topic8\", \"Topic8\", \"Topic8\", \"Topic8\", \"Topic8\", \"Topic8\", \"Topic8\", \"Topic8\", \"Topic8\", \"Topic8\", \"Topic9\", \"Topic9\", \"Topic9\", \"Topic9\", \"Topic9\", \"Topic9\", \"Topic9\", \"Topic9\", \"Topic9\", \"Topic9\", \"Topic9\", \"Topic9\", \"Topic9\", \"Topic9\", \"Topic9\", \"Topic9\", \"Topic9\", \"Topic9\", \"Topic9\", \"Topic9\", \"Topic9\", \"Topic9\", \"Topic9\", \"Topic9\", \"Topic9\", \"Topic9\", \"Topic9\", \"Topic9\", \"Topic9\", \"Topic9\", \"Topic9\", \"Topic9\", \"Topic9\", \"Topic9\", \"Topic9\", \"Topic9\", \"Topic9\", \"Topic9\", \"Topic9\", \"Topic9\", \"Topic9\", \"Topic9\", \"Topic9\", \"Topic9\", \"Topic9\", \"Topic9\", \"Topic9\", \"Topic9\", \"Topic9\", \"Topic9\", \"Topic9\", \"Topic9\", \"Topic9\", \"Topic9\", \"Topic9\", \"Topic9\", \"Topic9\", \"Topic9\", \"Topic9\", \"Topic9\", \"Topic9\", \"Topic9\", \"Topic9\", \"Topic9\", \"Topic9\", \"Topic9\", \"Topic9\", \"Topic9\", \"Topic9\", \"Topic9\", \"Topic9\", \"Topic9\", \"Topic9\", \"Topic9\", \"Topic10\", \"Topic10\", \"Topic10\", \"Topic10\", \"Topic10\", \"Topic10\", \"Topic10\", \"Topic10\", \"Topic10\", \"Topic10\", \"Topic10\", \"Topic10\", \"Topic10\", \"Topic10\", \"Topic10\", \"Topic10\", \"Topic10\", \"Topic10\", \"Topic10\", \"Topic10\", \"Topic10\", \"Topic10\", \"Topic10\", \"Topic10\", \"Topic10\", \"Topic10\", \"Topic10\", \"Topic10\", \"Topic10\", \"Topic10\", \"Topic10\", \"Topic10\", \"Topic10\", \"Topic10\", \"Topic10\", \"Topic10\", \"Topic10\", \"Topic10\", \"Topic10\", \"Topic10\", \"Topic10\", \"Topic10\", \"Topic10\", \"Topic10\", \"Topic10\", \"Topic10\", \"Topic10\", \"Topic10\", \"Topic10\", \"Topic10\", \"Topic10\", \"Topic10\", \"Topic10\", \"Topic10\", \"Topic10\", \"Topic10\", \"Topic10\", \"Topic10\", \"Topic10\", \"Topic10\", \"Topic10\", \"Topic10\", \"Topic10\", \"Topic10\", \"Topic10\", \"Topic10\", \"Topic10\", \"Topic10\", \"Topic10\", \"Topic10\", \"Topic10\", \"Topic10\", \"Topic10\"], \"Freq\": [24722.0, 5177.0, 15939.0, 13227.0, 27472.0, 12977.0, 3834.0, 6282.0, 5305.0, 7222.0, 11594.0, 2780.0, 1571.0, 2417.0, 8675.0, 3837.0, 17865.0, 15747.0, 2316.0, 17080.0, 5707.0, 5613.0, 3638.0, 2687.0, 2926.0, 6720.0, 2461.0, 1161.0, 16473.0, 5151.0, 232.3341827392578, 195.42047119140625, 183.1654510498047, 79.8734130859375, 79.33720397949219, 84.96453094482422, 67.17493438720703, 62.62718200683594, 64.3658676147461, 70.47305297851562, 57.587589263916016, 113.67295837402344, 57.37131881713867, 155.58609008789062, 52.07025146484375, 51.41925048828125, 75.8034896850586, 50.81972885131836, 55.9657096862793, 70.53736877441406, 49.72608184814453, 55.60300827026367, 45.406227111816406, 45.242149353027344, 44.401153564453125, 47.53174591064453, 46.23699951171875, 44.144126892089844, 98.39159393310547, 42.11531066894531, 65.70928955078125, 80.04649353027344, 146.35589599609375, 98.8492660522461, 87.5504379272461, 77.47712707519531, 132.20037841796875, 109.96644592285156, 232.39292907714844, 480.1351318359375, 117.49271392822266, 123.24696350097656, 276.1556396484375, 214.7773895263672, 117.54928588867188, 146.58815002441406, 1989.473388671875, 225.2346649169922, 178.2514190673828, 123.93341064453125, 144.91099548339844, 703.5305786132812, 1605.8631591796875, 5074.75537109375, 201.17404174804688, 624.8475952148438, 244.65261840820312, 294.7920837402344, 3797.114501953125, 433.86456298828125, 1716.0709228515625, 477.9205627441406, 1197.0853271484375, 364.7861022949219, 837.1168212890625, 385.0394287109375, 623.6744995117188, 7992.14599609375, 801.13916015625, 381.90631103515625, 12404.677734375, 3548.064208984375, 1835.6944580078125, 6984.6376953125, 1059.71337890625, 612.865966796875, 6985.81201171875, 3406.247314453125, 2381.04150390625, 1365.19580078125, 3194.36962890625, 1237.0277099609375, 5461.6015625, 4663.39990234375, 6347.9833984375, 2528.92919921875, 2044.700927734375, 1097.9783935546875, 2348.22314453125, 4173.26611328125, 3170.584716796875, 2743.367919921875, 1957.049072265625, 2126.762451171875, 2596.948974609375, 1968.49267578125, 2108.913818359375, 2108.625244140625, 3440.1005859375, 2331.009521484375, 2377.67919921875, 1959.6947021484375, 2069.8837890625, 122.96701049804688, 67.02664947509766, 82.10779571533203, 72.880615234375, 60.95936584472656, 64.03992462158203, 93.33108520507812, 57.990623474121094, 60.80560302734375, 50.46150207519531, 48.040618896484375, 81.34857940673828, 44.242942810058594, 79.8726577758789, 41.88086700439453, 46.12461471557617, 40.230987548828125, 39.34410858154297, 54.850440979003906, 41.83075714111328, 41.10089874267578, 37.17591857910156, 38.7669563293457, 35.93035125732422, 36.72248458862305, 35.61155319213867, 45.14759063720703, 36.7001838684082, 34.99208068847656, 35.01083755493164, 45.11906051635742, 39.885616302490234, 63.97052001953125, 46.80409622192383, 38.965091705322266, 130.03172302246094, 47.88714599609375, 1181.9052734375, 60.82672119140625, 1716.7034912109375, 262.1482849121094, 1348.9822998046875, 313.6808776855469, 73.57564544677734, 154.6886444091797, 589.8933715820312, 5555.880859375, 510.5319519042969, 3868.427734375, 1233.0645751953125, 1265.5802001953125, 951.293701171875, 144.37832641601562, 1200.785888671875, 400.9404602050781, 452.08819580078125, 5212.9169921875, 6559.2275390625, 235.17694091796875, 272.1886291503906, 207.4797821044922, 994.7933959960938, 676.9927978515625, 296.1875, 977.6668701171875, 1493.532958984375, 494.2802429199219, 2730.189453125, 2389.384521484375, 627.4282836914062, 593.2649536132812, 1191.380859375, 1885.7410888671875, 1448.756591796875, 1150.4202880859375, 813.24462890625, 2836.16015625, 1951.895751953125, 1101.793212890625, 650.6520385742188, 1007.6270751953125, 1089.5584716796875, 1440.4449462890625, 937.5699462890625, 958.4759521484375, 1008.9898071289062, 969.3377685546875, 95.09303283691406, 67.44166564941406, 59.597740173339844, 55.13947677612305, 54.85487747192383, 51.06987380981445, 60.13923263549805, 47.4881477355957, 45.97277069091797, 45.0059814453125, 44.55434036254883, 47.45376968383789, 39.296897888183594, 34.57645034790039, 33.894317626953125, 33.82854461669922, 33.23225784301758, 36.085689544677734, 30.688426971435547, 47.734291076660156, 53.01799011230469, 31.954694747924805, 27.260826110839844, 25.79871368408203, 26.184843063354492, 30.969520568847656, 33.662113189697266, 24.832529067993164, 26.97643280029297, 29.81241798400879, 95.94380950927734, 111.61786651611328, 39.44099807739258, 29.645278930664062, 1298.53125, 3618.324462890625, 76.31970977783203, 3739.243896484375, 6821.92724609375, 1498.24853515625, 1284.232177734375, 68.43522644042969, 4396.1474609375, 455.75445556640625, 553.8272705078125, 2061.324462890625, 863.202880859375, 658.8111572265625, 3952.0400390625, 971.7736206054688, 903.5532836914062, 1400.2271728515625, 922.1709594726562, 303.55303955078125, 6077.85400390625, 1236.6995849609375, 1779.47900390625, 307.1831970214844, 474.5872802734375, 798.1032104492188, 3678.285400390625, 1129.5330810546875, 1798.919921875, 1325.617919921875, 1537.55029296875, 1516.016845703125, 884.3946533203125, 952.4517211914062, 2345.838623046875, 2265.667724609375, 1913.1380615234375, 2350.614013671875, 1246.258544921875, 2052.965576171875, 1319.1485595703125, 1248.6484375, 1408.509521484375, 1214.484619140625, 1539.1976318359375, 1311.0692138671875, 361.78369140625, 88.50958251953125, 85.62027740478516, 68.72484588623047, 54.87553787231445, 54.484832763671875, 66.5252456665039, 50.067596435546875, 47.6726188659668, 46.89228820800781, 45.757652282714844, 46.86262893676758, 53.45029067993164, 69.9769058227539, 42.03308868408203, 41.52760314941406, 40.60871124267578, 40.851539611816406, 39.570220947265625, 39.48570251464844, 55.05791091918945, 38.77219009399414, 109.24980163574219, 40.39119338989258, 37.381839752197266, 72.24539184570312, 34.3199348449707, 35.586360931396484, 34.65751266479492, 32.87322998046875, 42.480491638183594, 534.1986083984375, 39.977813720703125, 41.68896484375, 333.13128662109375, 169.11412048339844, 96.55817413330078, 254.66937255859375, 240.32542419433594, 115.4279556274414, 75.7031021118164, 236.93153381347656, 172.691650390625, 1479.8250732421875, 77.23426055908203, 1327.975830078125, 243.7793731689453, 113.99972534179688, 530.2898559570312, 81.73861694335938, 90.67730712890625, 236.0810546875, 317.26715087890625, 2938.682861328125, 1156.3056640625, 1549.8685302734375, 995.1629028320312, 924.8732299804688, 1435.4595947265625, 2940.354736328125, 2831.852294921875, 323.5246887207031, 899.7921752929688, 3507.14697265625, 605.1734008789062, 2274.39013671875, 768.31005859375, 2182.60693359375, 1682.0806884765625, 1076.30029296875, 1049.35107421875, 581.8887939453125, 1083.281005859375, 1461.4591064453125, 1027.3450927734375, 1249.7017822265625, 1415.6583251953125, 1718.5316162109375, 1073.3890380859375, 823.6009521484375, 922.3013916015625, 814.2835083007812, 829.5333862304688, 938.6703491210938, 800.385498046875, 99.81761169433594, 86.8458023071289, 86.73636627197266, 97.68494415283203, 79.2689208984375, 81.23262023925781, 88.93638610839844, 205.8232879638672, 103.2834243774414, 84.81283569335938, 57.40122985839844, 61.10519027709961, 82.44588470458984, 47.15321731567383, 45.82481002807617, 47.13414001464844, 211.4058837890625, 239.02151489257812, 222.59786987304688, 49.1323356628418, 44.27543640136719, 48.21852493286133, 40.83174133300781, 44.54181671142578, 1135.8502197265625, 45.49281692504883, 53.808311462402344, 56.57419204711914, 45.94477462768555, 70.7624282836914, 347.918701171875, 67.74767303466797, 114.83157348632812, 196.42628479003906, 188.56106567382812, 82.4665756225586, 85.23240661621094, 64.6279067993164, 102.95861053466797, 515.5150146484375, 1646.2640380859375, 133.81207275390625, 224.74368286132812, 164.94268798828125, 250.4177703857422, 106.17140197753906, 188.62799072265625, 243.73776245117188, 476.1920471191406, 132.35401916503906, 119.15450286865234, 1656.2188720703125, 705.0025634765625, 804.881103515625, 3869.31884765625, 1255.1199951171875, 326.7112121582031, 1173.4539794921875, 364.1664123535156, 268.79364013671875, 723.9752807617188, 556.9244384765625, 1700.4163818359375, 788.7520141601562, 898.21240234375, 897.0277709960938, 1562.570068359375, 623.0673217773438, 1674.0167236328125, 888.0537719726562, 1161.8304443359375, 845.0303344726562, 727.2682495117188, 588.9195556640625, 545.9373779296875, 1011.9338989257812, 486.3730773925781, 765.095703125, 724.1864624023438, 598.5221557617188, 640.0318603515625, 631.3814086914062, 689.7139892578125, 708.9195556640625, 596.8311157226562, 230.03329467773438, 98.9496078491211, 76.26692199707031, 459.0119323730469, 78.36681365966797, 69.28479766845703, 125.22276306152344, 52.8175048828125, 50.80263900756836, 50.27674102783203, 48.97818374633789, 47.74481964111328, 47.415489196777344, 46.611480712890625, 50.59819412231445, 45.11480712890625, 54.90077590942383, 43.323997497558594, 42.850399017333984, 44.75667190551758, 41.827457427978516, 41.35109329223633, 40.31214141845703, 44.725555419921875, 40.050811767578125, 44.3638801574707, 52.25935363769531, 38.66044616699219, 37.129356384277344, 36.77648162841797, 104.85861206054688, 51.63159942626953, 43.408634185791016, 482.20062255859375, 431.94622802734375, 322.0881652832031, 169.5805206298828, 149.58872985839844, 57.304935455322266, 155.96664428710938, 72.3829345703125, 53.22423553466797, 95.6424331665039, 320.1759338378906, 116.3119125366211, 3823.535400390625, 666.2539672851562, 403.63726806640625, 185.08140563964844, 97.8292465209961, 187.9120635986328, 245.09249877929688, 2330.431640625, 459.5091247558594, 301.55810546875, 208.30152893066406, 101.42515563964844, 236.4580841064453, 327.8307800292969, 313.3964538574219, 169.69729614257812, 155.2714080810547, 953.1603393554688, 210.17184448242188, 779.6714477539062, 245.7373809814453, 1514.518798828125, 1174.163330078125, 484.6443786621094, 1118.3232421875, 1037.211181640625, 609.52978515625, 1987.8514404296875, 1713.821533203125, 2081.402099609375, 427.83648681640625, 1571.849365234375, 1134.64697265625, 549.933837890625, 1164.807861328125, 855.6702880859375, 1112.6290283203125, 609.1439819335938, 666.97509765625, 1018.7647705078125, 727.8799438476562, 1134.31494140625, 674.7821044921875, 674.7338256835938, 738.8654174804688, 607.6309814453125, 558.49609375, 565.3948364257812, 95.9327621459961, 65.6858139038086, 54.04115676879883, 52.25233459472656, 51.17299270629883, 69.38986206054688, 48.54665756225586, 48.64609146118164, 46.184261322021484, 44.28449249267578, 41.443904876708984, 39.83415222167969, 39.704673767089844, 41.439292907714844, 53.04952621459961, 42.56760025024414, 41.26251220703125, 34.59482955932617, 33.33177947998047, 41.875911712646484, 31.97284698486328, 32.23398971557617, 36.866050720214844, 31.309377670288086, 30.860116958618164, 33.03123474121094, 33.296878814697266, 48.72092819213867, 36.17333984375, 31.659656524658203, 51.52878189086914, 46.83595657348633, 56.23174285888672, 71.87476348876953, 45.28409957885742, 69.23937225341797, 39.04385757446289, 260.3804016113281, 74.5294189453125, 43.27898025512695, 93.98284912109375, 1234.9267578125, 235.74105834960938, 138.67393493652344, 122.8102798461914, 128.58963012695312, 85.87447357177734, 57.83565902709961, 66.28636169433594, 407.53643798828125, 451.28118896484375, 195.49697875976562, 252.336181640625, 610.1298217773438, 107.30701446533203, 2311.547119140625, 287.76019287109375, 141.78016662597656, 752.2181396484375, 198.2736053466797, 658.4959716796875, 87.62010192871094, 115.95608520507812, 712.145751953125, 1173.6494140625, 155.12281799316406, 363.09503173828125, 492.8394775390625, 325.40087890625, 280.4706726074219, 199.0786895751953, 424.4643249511719, 346.0824279785156, 369.73712158203125, 502.8194885253906, 461.9115905761719, 297.1514587402344, 292.1018371582031, 273.4803161621094, 339.1737976074219, 266.5753173828125, 325.4673156738281, 255.01051330566406, 260.51824951171875, 275.8032531738281, 270.77587890625, 101.43202209472656, 77.8303451538086, 75.33271026611328, 61.87614822387695, 100.32412719726562, 90.19596862792969, 59.30930709838867, 51.02291488647461, 159.27914428710938, 60.39497375488281, 60.29975128173828, 40.90315246582031, 38.67911148071289, 287.3688659667969, 38.09856033325195, 148.88900756835938, 62.401248931884766, 70.33283233642578, 33.414161682128906, 44.5043830871582, 32.96868133544922, 165.27781677246094, 32.71210861206055, 30.943241119384766, 30.513996124267578, 33.574275970458984, 31.084857940673828, 30.23296546936035, 30.366130828857422, 33.03176498413086, 831.5435180664062, 47.588417053222656, 258.594970703125, 172.4264373779297, 91.57950592041016, 38.77999496459961, 1403.77685546875, 312.51300048828125, 432.54925537109375, 140.5462646484375, 101.675537109375, 137.9803466796875, 76.1285171508789, 73.60203552246094, 81.57575225830078, 465.0096435546875, 323.0870056152344, 95.42830657958984, 213.28306579589844, 81.48788452148438, 129.84349060058594, 319.0908508300781, 1061.86376953125, 745.010986328125, 139.95361328125, 1150.5706787109375, 201.57733154296875, 734.5877685546875, 766.5924072265625, 413.337890625, 1384.4793701171875, 642.3279418945312, 439.3517761230469, 648.254638671875, 756.75146484375, 854.5369873046875, 381.340087890625, 790.2140502929688, 496.18328857421875, 503.4840087890625, 394.51617431640625, 641.692138671875, 582.652587890625, 355.4498291015625, 473.5965576171875, 573.8406982421875, 503.9192810058594, 436.1822509765625, 403.46673583984375, 391.6487121582031, 407.03643798828125, 383.5324401855469, 416.5199279785156, 88.07989501953125, 80.09989929199219, 59.69464874267578, 60.138671875, 94.6786117553711, 59.10676193237305, 53.92421340942383, 56.443702697753906, 125.1783676147461, 48.65193176269531, 49.74774932861328, 47.91238021850586, 53.108245849609375, 47.154571533203125, 40.230796813964844, 50.43836212158203, 128.22509765625, 34.71023941040039, 43.6336784362793, 43.20078659057617, 33.18728256225586, 77.71022033691406, 36.69672775268555, 30.265140533447266, 30.78154754638672, 31.12526512145996, 29.24180030822754, 83.2632827758789, 28.573955535888672, 35.49707794189453, 37.35590744018555, 92.48814392089844, 106.79116821289062, 60.71454620361328, 46.817264556884766, 198.25692749023438, 43.02263641357422, 126.60972595214844, 104.14649963378906, 45.726593017578125, 740.76953125, 135.73052978515625, 111.27991485595703, 171.8704071044922, 54.829471588134766, 217.12921142578125, 73.04351806640625, 379.2723388671875, 338.0431823730469, 457.7691955566406, 221.3843231201172, 257.64044189453125, 167.44898986816406, 296.0048522949219, 274.14666748046875, 177.87892150878906, 276.35052490234375, 136.87335205078125, 181.73046875, 235.4711151123047, 214.83790588378906, 239.13999938964844, 165.04421997070312, 212.75160217285156, 174.2412872314453, 173.5903778076172, 166.2833251953125, 166.8893280029297, 157.58921813964844, 143.51698303222656, 152.5116424560547, 142.7851104736328, 138.90042114257812, 72.39289093017578, 70.29779815673828, 58.650909423828125, 63.24388122558594, 60.64529800415039, 51.705238342285156, 54.062217712402344, 48.32053756713867, 57.50996780395508, 40.51518630981445, 40.01690673828125, 43.39790344238281, 47.721256256103516, 131.03150939941406, 38.79237365722656, 38.580718994140625, 38.78018569946289, 37.29218292236328, 48.51176452636719, 34.54780960083008, 37.748779296875, 34.46853256225586, 53.979454040527344, 36.56597137451172, 28.89793586730957, 42.15103530883789, 28.708511352539062, 28.383167266845703, 27.461027145385742, 26.724632263183594, 50.95627975463867, 60.16606521606445, 54.14468002319336, 52.0656623840332, 85.38912200927734, 48.649932861328125, 50.82737350463867, 78.8289794921875, 65.87678527832031, 43.82992935180664, 105.88104248046875, 203.97695922851562, 156.89759826660156, 873.4901123046875, 60.18483352661133, 426.8125305175781, 279.71246337890625, 84.17230987548828, 352.4241943359375, 213.35931396484375, 316.5731201171875, 210.75294494628906, 145.125732421875, 248.94935607910156, 201.9159698486328, 191.02923583984375, 262.88262939453125, 169.29476928710938, 137.3533935546875, 195.978271484375, 204.6023406982422, 135.77589416503906, 122.69306945800781, 127.37089538574219, 133.57444763183594, 157.61358642578125, 132.9564208984375, 139.89874267578125, 117.69761657714844, 124.13084411621094, 105.99626159667969, 114.45529174804688, 112.69661712646484], \"Term\": [\"dr\", \"surgery\", \"staff\", \"care\", \"not\", \"office\", \"pain\", \"friendly\", \"love\", \"always\", \"great\", \"treatment\", \"baby\", \"hospital\", \"patient\", \"-PRON-\", \"doctor\", \"good\", \"eye\", \"go\", \"year\", \"amazing\", \"nurse\", \"make_feel\", \"procedure\", \"wait\", \"son\", \"glass\", \"time\", \"thank\", \"dr_shah\", \"dr_reye\", \"dr_vaughn\", \"dr_reddy\", \"file\", \"check_online\", \"osborn\", \"maybe_minute\", \"escort\", \"somewhere_else\", \"target\", \"co_pay\", \"anthem\", \"fill_paperwork\", \"hour_half\", \"chicago\", \"app\", \"walmart\", \"intense\", \"parking_lot\", \"fax\", \"minute_early\", \"absolutely_fantastic\", \"search_new\", \"vanessa\", \"online_check\", \"anticipate\", \"tailor\", \"seat\", \"downside\", \"strange\", \"sore_throat\", \"pack\", \"draw_blood\", \"empty\", \"ped\", \"umc\", \"mammogram\", \"pm\", \"paperwork\", \"tempe\", \"minute_later\", \"exam_room\", \"rude\", \"copay\", \"take_vital\", \"minute\", \"lobby\", \"bad_review\", \"script\", \"flu\", \"wait_room\", \"urgent_care\", \"wait\", \"building\", \"arrive\", \"pharmacy\", \"antibiotic\", \"call\", \"within_minute\", \"hour\", \"min\", \"room\", \"sign\", \"er\", \"med\", \"sit\", \"get\", \"sick\", \"online\", \"not\", \"appointment\", \"check\", \"time\", \"insurance\", \"open\", \"go\", \"come\", \"nice\", \"long\", \"back\", \"review\", \"see\", \"take\", \"doctor\", \"like\", \"say\", \"bad\", \"place\", \"office\", \"would\", \"one\", \"even\", \"day\", \"need\", \"visit\", \"give\", \"really\", \"good\", \"make\", \"staff\", \"know\", \"great\", \"megan\", \"successfully\", \"cindy\", \"pan\", \"super_fast\", \"laser_hair\", \"get_root\", \"fu\", \"family_medicine\", \"limp\", \"explore\", \"dr_sikand\", \"melanoma\", \"personalize\", \"bio_identical\", \"anthony\", \"understatement\", \"fully_explain\", \"dana\", \"granddaughter\", \"fox\", \"concierge\", \"valerie\", \"sharon\", \"theresa\", \"attack\", \"relative\", \"tablet\", \"honorhealth\", \"jone\", \"group_people\", \"continually\", \"truly_appreciate\", \"faith\", \"e_r\", \"cardiologist\", \"arise\", \"physician\", \"thorough_examination\", \"medical\", \"compassion\", \"health\", \"heart\", \"green_valley\", \"kindness\", \"compassionate\", \"care\", \"condition\", \"patient\", \"family\", \"practice\", \"truly\", \"father\", \"treat\", \"primary_care\", \"specialist\", \"doctor\", \"dr\", \"healthcare\", \"attention\", \"field\", \"listen\", \"provide\", \"mother\", \"many\", \"year\", \"trust\", \"good\", \"see\", \"concern\", \"understand\", \"find\", \"take\", \"need\", \"thank\", \"issue\", \"not\", \"time\", \"know\", \"husband\", \"help\", \"one\", \"staff\", \"give\", \"well\", \"always\", \"office\", \"ultra_sound\", \"butler\", \"surprisingly\", \"cozy\", \"elderly\", \"renew\", \"denise\", \"oral_surgery\", \"brenda\", \"price_reasonable\", \"cautious\", \"bring_kid\", \"expert_field\", \"dr_mccracken\", \"maybe_min\", \"accurate_diagnosis\", \"help_achieve\", \"kidd\", \"regular_dentist\", \"b_shoot\", \"immaculate\", \"brad\", \"iv_drip\", \"super_convenient\", \"jerry\", \"nurse_practioner\", \"patiently_answer\", \"hannah\", \"miyake\", \"ankle_sprain\", \"chuang\", \"massage_therapist\", \"zocdoc\", \"planet\", \"kid\", \"friendly\", \"ken\", \"always\", \"staff\", \"helpful\", \"knowledgeable\", \"dr_vu\", \"great\", \"accommodate\", \"pediatrician\", \"professional\", \"child\", \"pleasant\", \"office\", \"thorough\", \"excellent\", \"highly_recommend\", \"clean\", \"courteous\", \"dr\", \"service\", \"love\", \"pediatric\", \"efficient\", \"location\", \"time\", \"kind\", \"experience\", \"nice\", \"recommend\", \"well\", \"awesome\", \"wonderful\", \"care\", \"see\", \"take\", \"doctor\", \"never\", \"good\", \"appointment\", \"year\", \"patient\", \"amazing\", \"go\", \"not\", \"carrie\", \"thumb\", \"tummy_tuck\", \"lillie\", \"dr_wilke\", \"sick_kid\", \"jim\", \"-PRON-_be\", \"customize\", \"reasonable_price\", \"intend\", \"precision\", \"address_issue\", \"optician\", \"dr_garcia\", \"wolfson\", \"appoint\", \"botch\", \"right_direction\", \"hassle\", \"peel\", \"lot_research\", \"dr_glassman\", \"kendra\", \"soft_tissue\", \"soon_walk\", \"coordinator\", \"bomb\", \"full_body\", \"hamilton\", \"kind_hearted\", \"dentist\", \"sana\", \"breast_lift\", \"dental\", \"breast_augmentation\", \"hearing\", \"breast\", \"tooth\", \"selection\", \"amanda\", \"happy_result\", \"implant\", \"make_feel\", \"rich\", \"comfortable\", \"botox\", \"absolutely_wonderful\", \"skin\", \"pricing\", \"cosmetic\", \"dermatologist\", \"beautiful\", \"office\", \"look\", \"recommend\", \"everyone\", \"procedure\", \"amazing\", \"staff\", \"good\", \"consultation\", \"happy\", \"dr\", \"make_sure\", \"go\", \"wonderful\", \"doctor\", \"great\", \"really\", \"professional\", \"answer_question\", \"experience\", \"care\", \"make\", \"take\", \"time\", \"not\", \"would\", \"love\", \"patient\", \"also\", \"friendly\", \"see\", \"come\", \"new_glass\", \"sale\", \"lens_crafter\", \"drip\", \"lasik_vision\", \"eyeglass\", \"cryotherapy\", \"pair\", \"wear_glass\", \"brand\", \"simply_amazing\", \"sunglass\", \"pair_glass\", \"new_pair\", \"cardio\", \"pco\", \"lens\", \"diet\", \"lenscrafter\", \"skin_condition\", \"godsend\", \"wear_contact\", \"splint\", \"makeup\", \"glass\", \"meticulous\", \"motion\", \"eyeglass_world\", \"try_sell\", \"dr_parker\", \"frame\", \"disc\", \"candidate\", \"supplement\", \"store\", \"fatigue\", \"industry\", \"len\", \"evaluation\", \"vision\", \"eye\", \"purchase\", \"weight\", \"buy\", \"eye_exam\", \"pound\", \"daily\", \"wear\", \"contact\", \"optometrist\", \"function\", \"help\", \"life\", \"try\", \"not\", \"year\", \"fix\", \"work\", \"medication\", \"fit\", \"able\", \"start\", \"get\", \"pain\", \"find\", \"could\", \"go\", \"issue\", \"dr\", \"back\", \"good\", \"one\", \"feel\", \"much\", \"since\", \"see\", \"month\", \"need\", \"make\", \"want\", \"also\", \"give\", \"would\", \"take\", \"like\", \"dr_petrick\", \"josh\", \"dr_walter\", \"physical_therapy\", \"brandon\", \"anesthesia\", \"fracture\", \"juvederm\", \"naturopath\", \"relatively\", \"accessible\", \"menopause\", \"move_state\", \"ear_nose\", \"range_motion\", \"flare\", \"knee_replacement\", \"ail\", \"saturday_night\", \"breast_reduction\", \"teen\", \"hill\", \"back_track\", \"nap\", \"sean\", \"disk\", \"becky\", \"hardly_wait\", \"truly_bless\", \"buck\", \"extraction\", \"sam\", \"neck_shoulder\", \"knee\", \"shoulder\", \"pt\", \"physical_therapist\", \"dr_grover\", \"foothill\", \"dr_boothe\", \"chiro\", \"flight\", \"orthopedic_surgeon\", \"massage\", \"rehab\", \"surgery\", \"recovery\", \"therapy\", \"ankle\", \"chris\", \"muscle\", \"exercise\", \"pain\", \"injury\", \"neck\", \"hip\", \"stretch\", \"pain_free\", \"injection\", \"heal\", \"therapist\", \"swell\", \"procedure\", \"wake\", \"week\", \"session\", \"back\", \"day\", \"foot\", \"work\", \"feel\", \"result\", \"go\", \"get\", \"dr\", \"surgeon\", \"good\", \"would\", \"month\", \"great\", \"recommend\", \"see\", \"able\", \"no\", \"staff\", \"help\", \"not\", \"thank\", \"need\", \"time\", \"experience\", \"amazing\", \"come\", \"perkin\", \"consultant\", \"mail\", \"honor_health\", \"monroe\", \"kidney_stone\", \"load\", \"mrs\", \"hide\", \"hearing_test\", \"manthei\", \"quickly_diagnose\", \"competitive\", \"evident\", \"law\", \"seven_hill\", \"peaceful\", \"pulmonary\", \"nov\", \"educational\", \"gilbert_location\", \"fist\", \"throughout_process\", \"either_way\", \"film\", \"dude\", \"proof\", \"pic\", \"bio\", \"mo\", \"impeccable\", \"mold\", \"oral_surgeon\", \"tumor\", \"upcoming\", \"cataract_surgery\", \"barbara\", \"logan\", \"cell\", \"chin\", \"department\", \"hospital\", \"brown\", \"st_rise\", \"dad\", \"surgical\", \"operate\", \"ray\", \"regret\", \"surgeon\", \"foot\", \"mri\", \"perform\", \"procedure\", \"plastic_surgeon\", \"not\", \"mom\", \"food\", \"surgery\", \"remove\", \"could\", \"thoma\", \"podiatrist\", \"would\", \"dr\", \"scar\", \"tell\", \"experience\", \"think\", \"result\", \"wife\", \"one\", \"even\", \"know\", \"go\", \"good\", \"want\", \"no\", \"give\", \"get\", \"thank\", \"staff\", \"say\", \"make\", \"care\", \"doctor\", \"dr_george\", \"whole_body\", \"dr_shapiro\", \"dr_adashek\", \"midwife\", \"laura\", \"clothe\", \"blank\", \"c_section\", \"babys\", \"baby_boy\", \"southwest_medical\", \"broken\", \"delivery\", \"acupuncturist\", \"ivf\", \"middle_night\", \"week_pregnant\", \"dr_lin\", \"temperature\", \"last_summer\", \"labor\", \"sister_law\", \"precious\", \"specially\", \"stress_test\", \"sh\", \"flu_shot\", \"iui\", \"pregnancy_delivery\", \"pregnancy\", \"dr_harter\", \"birth\", \"deliver_baby\", \"dr_campbell\", \"rescue\", \"baby\", \"ob\", \"pregnant\", \"dr_patel\", \"shoe\", \"twin\", \"give_birth\", \"daughter_bear\", \"baby_girl\", \"deliver\", \"obgyn\", \"dr_langdon\", \"ob_gyn\", \"dr_sher\", \"fertility\", \"ultrasound\", \"-PRON-\", \"son\", \"u\", \"love\", \"boy\", \"nurse\", \"first\", \"husband\", \"not\", \"amazing\", \"make_feel\", \"make\", \"great\", \"go\", \"comfortable\", \"good\", \"know\", \"always\", \"thing\", \"doctor\", \"see\", \"awesome\", \"would\", \"dr\", \"time\", \"experience\", \"one\", \"like\", \"staff\", \"get\", \"dr_hall\", \"dr_levin\", \"pay_attention\", \"little_nervous\", \"carman\", \"taylor\", \"first_class\", \"inflammation\", \"cvs\", \"dr_jone\", \"friendliness\", \"matthew\", \"rachel\", \"restaurant\", \"todd\", \"hangover\", \"immediate_relief\", \"dr_lewi\", \"bearable\", \"wedding\", \"esthetician\", \"grand\", \"significantly\", \"treat_utmost\", \"adorable\", \"emily\", \"tolerable\", \"warm_invite\", \"sarah\", \"itchy\", \"angie\", \"hernia\", \"vitamin\", \"dog\", \"steve\", \"andy\", \"facial\", \"fantastic_job\", \"vein\", \"institute\", \"commend\", \"treatment\", \"iv\", \"headache\", \"allergy\", \"transform\", \"skin\", \"spa\", \"thank\", \"feel\", \"good\", \"highly_recommend\", \"amazing\", \"clinic\", \"care\", \"time\", \"nurse\", \"dr\", \"team\", \"first\", \"go\", \"take\", \"not\", \"pain\", \"staff\", \"give\", \"experience\", \"really\", \"come\", \"help\", \"much\", \"get\", \"place\", \"service\", \"four_year\", \"psychiatrist\", \"eric\", \"el\", \"william\", \"sara\", \"since_birth\", \"tan\", \"daniel\", \"que\", \"high_school\", \"secret\", \"solve_problem\", \"dr_khavkin\", \"healthcare_provider\", \"cardiac\", \"muy\", \"es\", \"kayla\", \"soon_possible\", \"lesson\", \"terry\", \"unbearable\", \"wellness_center\", \"rupture\", \"resolve_issue\", \"big_difference\", \"blonde\", \"television\", \"thunderbird\", \"dr_seth\", \"health_wellness\", \"fusion\", \"con\", \"siena_pediatric\", \"extraordinary\", \"de\", \"la\", \"robert\", \"tune\", \"w\", \"pediatrician\", \"chiropractor\", \"dr\", \"mary\", \"care\", \"year\", \"henderson\", \"see\", \"pain\", \"go\", \"love\", \"life\", \"good\", \"patient\", \"one\", \"not\", \"help\", \"treat\", \"office\", \"time\", \"since\", \"child\", \"treatment\", \"thank\", \"staff\", \"back\", \"take\", \"happy\", \"always\", \"team\", \"come\", \"doctor\"], \"Total\": [24722.0, 5177.0, 15939.0, 13227.0, 27472.0, 12977.0, 3834.0, 6282.0, 5305.0, 7222.0, 11594.0, 2780.0, 1571.0, 2417.0, 8675.0, 3837.0, 17865.0, 15747.0, 2316.0, 17080.0, 5707.0, 5613.0, 3638.0, 2687.0, 2926.0, 6720.0, 2461.0, 1161.0, 16473.0, 5151.0, 233.23175048828125, 196.45799255371094, 185.0804901123047, 80.74893951416016, 80.21244812011719, 86.07025146484375, 68.07042694091797, 63.50292205810547, 65.29389190673828, 71.51715087890625, 58.46357727050781, 115.4399642944336, 58.27302932739258, 158.0933837890625, 52.94542694091797, 52.294891357421875, 77.11964416503906, 51.710227966308594, 56.975257873535156, 71.86093139648438, 50.66057205200195, 56.65220642089844, 46.28162384033203, 46.12086486816406, 45.276588439941406, 48.47452926635742, 47.159732818603516, 45.04367446899414, 100.43492889404297, 42.99090576171875, 67.16082000732422, 82.08039093017578, 151.3789520263672, 101.72273254394531, 89.93718719482422, 79.47574615478516, 137.32998657226562, 113.83551025390625, 244.39971923828125, 516.434814453125, 121.84823608398438, 128.18670654296875, 296.1446838378906, 229.62400817871094, 122.67420196533203, 154.63047790527344, 2395.664794921875, 241.96124267578125, 189.81544494628906, 129.8706512451172, 153.17637634277344, 816.3755493164062, 1969.724609375, 6720.59326171875, 217.05165100097656, 732.9744873046875, 267.75250244140625, 327.6949157714844, 5123.98974609375, 505.8901672363281, 2302.21875, 567.6122436523438, 1563.0997314453125, 428.0843811035156, 1089.553955078125, 458.7154235839844, 794.0394287109375, 15039.8193359375, 1078.6453857421875, 461.3760070800781, 27472.119140625, 6372.6396484375, 2935.0322265625, 16473.291015625, 1624.60205078125, 830.5512084960938, 17080.318359375, 7120.6962890625, 4659.63232421875, 2301.91015625, 7086.69287109375, 2068.425048828125, 14395.5341796875, 11796.1025390625, 17865.974609375, 5620.306640625, 4337.8125, 1834.10009765625, 5536.1689453125, 12977.591796875, 9008.17578125, 7376.24609375, 4454.8125, 5217.228515625, 7659.72216796875, 4829.666015625, 5494.318359375, 5547.87255859375, 15747.6318359375, 6964.5380859375, 15939.4697265625, 5963.6962890625, 11594.2412109375, 123.83284759521484, 67.92793273925781, 83.23844146728516, 73.90126037597656, 61.83034133911133, 65.0127944946289, 94.7803955078125, 58.938838958740234, 61.84000015258789, 51.3279914855957, 48.90639877319336, 82.81971740722656, 45.11440658569336, 81.46568298339844, 42.75539779663086, 47.09751510620117, 41.097042083740234, 40.21921157836914, 56.080528259277344, 42.77232360839844, 42.03221893310547, 38.042381286621094, 39.67799377441406, 36.7976188659668, 37.61172103881836, 36.48277282714844, 46.25537109375, 37.60483169555664, 35.859771728515625, 35.88142013549805, 46.30411911010742, 40.884132385253906, 66.14299011230469, 48.33599090576172, 40.013946533203125, 146.01390075683594, 50.17045211791992, 1717.477294921875, 65.284912109375, 2698.182373046875, 338.0384216308594, 2188.823486328125, 432.353515625, 82.05010986328125, 194.59144592285156, 932.152099609375, 13227.34765625, 799.87841796875, 8675.69140625, 2304.187255859375, 2511.73388671875, 1831.158447265625, 185.6550750732422, 2612.05224609375, 679.3558959960938, 800.1162109375, 17865.974609375, 24722.78125, 350.2639465332031, 425.0599670410156, 300.03448486328125, 2405.937744140625, 1449.8609619140625, 500.6121520996094, 2728.5498046875, 5707.8681640625, 1149.3946533203125, 15747.6318359375, 14395.5341796875, 1755.441650390625, 1671.57666015625, 5253.8505859375, 11796.1025390625, 7659.72216796875, 5151.6875, 2896.97705078125, 27472.119140625, 16473.291015625, 5963.6962890625, 1991.095703125, 5772.80322265625, 7376.24609375, 15939.4697265625, 5494.318359375, 5960.015625, 7222.46044921875, 12977.591796875, 96.02944946289062, 68.31108093261719, 60.466800689697266, 56.0086669921875, 55.726585388183594, 51.95777130126953, 61.2379264831543, 48.36827087402344, 46.84132766723633, 45.87459945678711, 45.423561096191406, 48.39029312133789, 40.16849899291992, 35.445518493652344, 34.765480041503906, 34.70001983642578, 34.10733413696289, 37.085201263427734, 31.557544708251953, 49.098690032958984, 54.72182846069336, 33.00075912475586, 28.154678344726562, 26.672618865966797, 27.07558250427246, 32.02313995361328, 34.83407211303711, 25.701448440551758, 27.932235717773438, 30.879825592041016, 99.5950698852539, 116.85859680175781, 41.16855239868164, 30.758512496948242, 1895.394287109375, 6282.24755859375, 87.96827697753906, 7222.46044921875, 15939.4697265625, 2893.01806640625, 2601.956787109375, 80.50252532958984, 11594.2412109375, 786.7703857421875, 1013.2518310546875, 5345.541015625, 1855.9542236328125, 1333.4320068359375, 12977.591796875, 2231.000732421875, 2036.030517578125, 3572.792724609375, 2133.562255859375, 518.2907104492188, 24722.78125, 3231.172607421875, 5305.21826171875, 547.1720581054688, 989.8318481445312, 2039.8157958984375, 16473.291015625, 3612.915771484375, 7102.4755859375, 4659.63232421875, 5823.0498046875, 5960.015625, 2705.244384765625, 3110.639404296875, 13227.34765625, 14395.5341796875, 11796.1025390625, 17865.974609375, 5289.63916015625, 15747.6318359375, 6372.6396484375, 5707.8681640625, 8675.69140625, 5613.69775390625, 17080.318359375, 27472.119140625, 363.7296142578125, 89.38044738769531, 86.49778747558594, 69.7693099975586, 55.74696731567383, 55.3580207824707, 67.69868469238281, 50.9561653137207, 48.543479919433594, 47.764488220214844, 46.628509521484375, 47.80326843261719, 54.53601837158203, 71.41802215576172, 42.903846740722656, 42.39924621582031, 41.47970962524414, 41.728885650634766, 40.44125747680664, 40.356468200683594, 56.29662322998047, 39.64605712890625, 111.71347045898438, 41.30507278442383, 38.25355529785156, 74.06132507324219, 35.19828414916992, 36.50286865234375, 35.579612731933594, 33.7484016418457, 43.6162109375, 578.787353515625, 41.10776901245117, 42.93339920043945, 368.78863525390625, 185.8370361328125, 103.64089965820312, 293.0220947265625, 279.4846496582031, 127.27660369873047, 81.58113098144531, 300.4320068359375, 217.19052124023438, 2687.310791015625, 87.12798309326172, 2438.313720703125, 344.4732360839844, 139.47085571289062, 946.3316040039062, 94.29352569580078, 107.66307830810547, 389.48358154296875, 593.4111328125, 12977.591796875, 3795.501953125, 5823.0498046875, 3240.99267578125, 2926.939697265625, 5613.69775390625, 15939.4697265625, 15747.6318359375, 684.769775390625, 3184.48486328125, 24722.78125, 1990.520751953125, 17080.318359375, 3110.639404296875, 17865.974609375, 11594.2412109375, 5547.87255859375, 5345.541015625, 1977.4010009765625, 7102.4755859375, 13227.34765625, 6964.5380859375, 11796.1025390625, 16473.291015625, 27472.119140625, 9008.17578125, 5305.21826171875, 8675.69140625, 5843.3212890625, 6282.24755859375, 14395.5341796875, 7120.6962890625, 100.75911712646484, 87.71975708007812, 87.61795806884766, 98.6930160522461, 80.14651489257812, 82.13330841064453, 90.04299926757812, 208.52630615234375, 104.66016387939453, 86.04371643066406, 58.27763748168945, 62.048343658447266, 83.72895050048828, 48.027069091796875, 46.699729919433594, 48.0447883605957, 215.60845947265625, 243.83798217773438, 227.1658477783203, 50.14085006713867, 45.21377182006836, 49.24259567260742, 41.705848693847656, 45.532012939453125, 1161.2623291015625, 46.511714935302734, 55.01948547363281, 57.852901458740234, 46.988914489746094, 72.38558959960938, 359.5061340332031, 69.39920043945312, 118.31925201416016, 205.1520538330078, 197.6826629638672, 86.07148742675781, 89.50467681884766, 67.031982421875, 110.30023193359375, 634.0886840820312, 2316.585205078125, 150.46755981445312, 268.5533752441406, 193.4901580810547, 313.4674072265625, 117.67530822753906, 234.51809692382812, 323.1655578613281, 785.99462890625, 157.14581298828125, 140.28125, 5772.80322265625, 1861.833740234375, 2340.1435546875, 27472.119140625, 5707.8681640625, 711.8508911132812, 5769.6015625, 861.92529296875, 524.4137573242188, 3139.565185546875, 2044.7449951171875, 15039.8193359375, 3834.630615234375, 5253.8505859375, 5541.89501953125, 17080.318359375, 2896.97705078125, 24722.78125, 7086.69287109375, 15747.6318359375, 7376.24609375, 5121.888671875, 3212.735595703125, 2656.114501953125, 14395.5341796875, 2006.771728515625, 7659.72216796875, 6964.5380859375, 3931.044921875, 5843.3212890625, 5494.318359375, 9008.17578125, 11796.1025390625, 5620.306640625, 231.17063903808594, 99.82157135009766, 77.15203857421875, 464.4851989746094, 79.32154846191406, 70.24491119384766, 127.28346252441406, 53.68953323364258, 51.681114196777344, 51.14893341064453, 49.850341796875, 48.619171142578125, 48.29111862182617, 47.48383712768555, 51.59849548339844, 46.011863708496094, 56.01358413696289, 44.20439529418945, 43.724212646484375, 45.67660140991211, 42.70479202270508, 42.22489929199219, 41.1888427734375, 45.712249755859375, 40.93976974487305, 45.37613296508789, 53.48337173461914, 39.570411682128906, 38.00700759887695, 37.648834228515625, 107.83745574951172, 52.913787841796875, 44.45718002319336, 506.7008056640625, 455.8508605957031, 339.4842224121094, 176.8970489501953, 156.29115295410156, 58.86824417114258, 163.7268524169922, 74.71544647216797, 54.62758255004883, 100.32782745361328, 354.8359069824219, 123.73505401611328, 5177.11865234375, 812.611328125, 500.33404541015625, 212.5184326171875, 106.125244140625, 221.65745544433594, 300.9825134277344, 3834.630615234375, 625.5321655273438, 395.4771423339844, 260.2523193359375, 113.53709411621094, 315.3691101074219, 475.3368835449219, 508.013427734375, 235.6636962890625, 209.01734924316406, 2926.939697265625, 324.6902160644531, 2266.677978515625, 408.7145080566406, 7086.69287109375, 5217.228515625, 1300.270263671875, 5769.6015625, 5121.888671875, 2057.630615234375, 17080.318359375, 15039.8193359375, 24722.78125, 1117.3394775390625, 15747.6318359375, 9008.17578125, 2006.771728515625, 11594.2412109375, 5823.0498046875, 14395.5341796875, 3139.565185546875, 4241.68212890625, 15939.4697265625, 5772.80322265625, 27472.119140625, 5151.6875, 7659.72216796875, 16473.291015625, 7102.4755859375, 5613.69775390625, 7120.6962890625, 96.82232666015625, 66.59738159179688, 54.937503814697266, 53.12744903564453, 52.053245544433594, 70.61044311523438, 49.426666259765625, 49.529388427734375, 47.059410095214844, 45.17021560668945, 42.32473373413086, 40.709354400634766, 40.58721923828125, 42.36506652832031, 54.27565002441406, 43.5937614440918, 42.27029800415039, 35.493961334228516, 34.20933151245117, 42.98312759399414, 32.848388671875, 33.126365661621094, 37.90092849731445, 32.220619201660156, 31.76578140258789, 34.034950256347656, 34.3159065246582, 50.21392059326172, 37.30601119995117, 32.66514587402344, 53.209285736083984, 48.32939147949219, 58.18190383911133, 75.59813690185547, 46.9693717956543, 73.97228240966797, 40.51531219482422, 302.2190246582031, 81.69451904296875, 45.53060531616211, 111.29639434814453, 2417.099609375, 342.21630859375, 197.35995483398438, 172.40065002441406, 203.21131896972656, 117.37438201904297, 67.41610717773438, 81.96175384521484, 1117.3394775390625, 1300.270263671875, 390.9022521972656, 661.0953369140625, 2926.939697265625, 181.46702575683594, 27472.119140625, 911.8565063476562, 299.8824157714844, 5177.11865234375, 599.8881225585938, 5541.89501953125, 136.7505645751953, 232.00665283203125, 9008.17578125, 24722.78125, 436.0777282714844, 3443.50341796875, 7102.4755859375, 2824.535400390625, 2057.630615234375, 965.9969482421875, 7376.24609375, 4454.8125, 5963.6962890625, 17080.318359375, 15747.6318359375, 3931.044921875, 4241.68212890625, 5494.318359375, 15039.8193359375, 5151.6875, 15939.4697265625, 4337.8125, 6964.5380859375, 13227.34765625, 17865.974609375, 102.33683013916016, 78.68958282470703, 76.2297134399414, 62.8335075378418, 101.9030990600586, 91.68437194824219, 60.31712341308594, 51.89213943481445, 162.45399475097656, 61.61457061767578, 61.56232833862305, 41.762088775634766, 39.538177490234375, 293.88507080078125, 38.96982955932617, 152.5876007080078, 63.98884963989258, 72.15682983398438, 34.28458023071289, 45.668094635009766, 33.84166717529297, 169.7174530029297, 33.609886169433594, 31.813566207885742, 31.372861862182617, 34.52656555175781, 31.980623245239258, 31.105369567871094, 31.245847702026367, 33.99770736694336, 881.6900634765625, 49.03804397583008, 273.0478210449219, 181.42083740234375, 95.26448822021484, 40.04262161254883, 1571.697021484375, 339.037841796875, 480.30609130859375, 150.76556396484375, 108.332275390625, 149.70559692382812, 80.36180114746094, 77.65068054199219, 86.66497802734375, 561.6456909179688, 397.8426513671875, 109.1633071899414, 305.14691162109375, 91.35655212402344, 170.58287048339844, 581.080810546875, 3837.996337890625, 2461.338134765625, 203.911865234375, 5305.21826171875, 368.67498779296875, 3638.77197265625, 4840.77392578125, 1991.095703125, 27472.119140625, 5613.69775390625, 2687.310791015625, 6964.5380859375, 11594.2412109375, 17080.318359375, 2438.313720703125, 15747.6318359375, 5963.6962890625, 7222.46044921875, 3386.072998046875, 17865.974609375, 14395.5341796875, 2705.244384765625, 9008.17578125, 24722.78125, 16473.291015625, 7102.4755859375, 7376.24609375, 5620.306640625, 15939.4697265625, 15039.8193359375, 417.5677795410156, 88.96236419677734, 81.0034408569336, 60.60460662841797, 61.05612564086914, 96.13761138916016, 60.02467727661133, 54.81539535522461, 57.42003631591797, 127.35993957519531, 49.533992767333984, 50.73104476928711, 48.88130187988281, 54.192474365234375, 48.14876937866211, 41.11309814453125, 51.61277770996094, 131.47607421875, 35.592323303222656, 44.753868103027344, 44.378292083740234, 34.09355163574219, 79.83938598632812, 37.724266052246094, 31.14729881286621, 31.690366744995117, 32.04917526245117, 30.123889923095703, 85.81775665283203, 29.45817756652832, 36.65324783325195, 38.75931167602539, 99.47723388671875, 115.98187255859375, 64.65630340576172, 49.477264404296875, 262.4407958984375, 45.81013488769531, 180.2205047607422, 142.97349548339844, 49.95949935913086, 2780.489501953125, 241.57733154296875, 188.60269165039062, 430.3686218261719, 66.04822540283203, 946.3316040039062, 119.492431640625, 5151.6875, 5121.888671875, 15747.6318359375, 3572.792724609375, 5613.69775390625, 1767.298095703125, 13227.34765625, 16473.291015625, 3638.77197265625, 24722.78125, 1518.3048095703125, 4840.77392578125, 17080.318359375, 11796.1025390625, 27472.119140625, 3834.630615234375, 15939.4697265625, 5494.318359375, 7102.4755859375, 5547.87255859375, 7120.6962890625, 5772.80322265625, 3212.735595703125, 15039.8193359375, 5536.1689453125, 3231.172607421875, 73.27595520019531, 71.25796508789062, 59.53375244140625, 64.23383331298828, 61.680084228515625, 52.588619232177734, 55.0538330078125, 49.29700469970703, 58.749412536621094, 41.40266799926758, 40.900089263916016, 44.35847473144531, 48.787349700927734, 134.00921630859375, 39.67530822753906, 39.4636116027832, 39.668296813964844, 38.17869186401367, 49.736297607421875, 35.45603942871094, 38.7706413269043, 35.409305572509766, 55.49203872680664, 37.600616455078125, 29.78285789489746, 43.46728515625, 29.634614944458008, 29.29998779296875, 28.36532974243164, 27.607637405395508, 52.844852447509766, 63.37742233276367, 57.128868103027344, 55.3289680480957, 94.41163635253906, 52.31839370727539, 57.1241340637207, 102.55148315429688, 81.07617950439453, 49.634727478027344, 251.60043334960938, 1013.2518310546875, 661.490966796875, 24722.78125, 105.880615234375, 13227.34765625, 5707.8681640625, 269.52239990234375, 14395.5341796875, 3834.630615234375, 17080.318359375, 5305.21826171875, 1861.833740234375, 15747.6318359375, 8675.69140625, 7376.24609375, 27472.119140625, 5772.80322265625, 2612.05224609375, 12977.591796875, 16473.291015625, 2656.114501953125, 1855.9542236328125, 2780.489501953125, 5151.6875, 15939.4697265625, 7086.69287109375, 11796.1025390625, 3184.48486328125, 7222.46044921875, 1518.3048095703125, 7120.6962890625, 17865.974609375], \"loglift\": [30.0, 29.0, 28.0, 27.0, 26.0, 25.0, 24.0, 23.0, 22.0, 21.0, 20.0, 19.0, 18.0, 17.0, 16.0, 15.0, 14.0, 13.0, 12.0, 11.0, 10.0, 9.0, 8.0, 7.0, 6.0, 5.0, 4.0, 3.0, 2.0, 1.0, 1.2481000423431396, 1.2466000318527222, 1.2415000200271606, 1.2410000562667847, 1.2410000562667847, 1.2389999628067017, 1.238700032234192, 1.2381000518798828, 1.2375999689102173, 1.2372000217437744, 1.236799955368042, 1.2365000247955322, 1.236299991607666, 1.2359999418258667, 1.2352999448776245, 1.2351000308990479, 1.2346999645233154, 1.2345999479293823, 1.2340999841690063, 1.2333999872207642, 1.233299970626831, 1.233199954032898, 1.232800006866455, 1.232699990272522, 1.2323999404907227, 1.232300043106079, 1.232200026512146, 1.2317999601364136, 1.2314000129699707, 1.2314000129699707, 1.2301000356674194, 1.2267999649047852, 1.2181999683380127, 1.2232999801635742, 1.225000023841858, 1.2265000343322754, 1.2138999700546265, 1.2173999547958374, 1.2015999555587769, 1.1791000366210938, 1.215499997138977, 1.2125999927520752, 1.1821000576019287, 1.1850999593734741, 1.2093000411987305, 1.1985000371932983, 1.066100001335144, 1.180299997329712, 1.1891000270843506, 1.2051000595092773, 1.1964999437332153, 1.1031999588012695, 1.047700047492981, 0.9710000157356262, 1.1759999990463257, 1.0923000574111938, 1.1617000102996826, 1.1461000442504883, 0.9521999955177307, 1.0983999967575073, 0.9581000208854675, 1.0799000263214111, 0.9851999878883362, 1.0918999910354614, 0.9883999824523926, 1.0769000053405762, 1.0104000568389893, 0.619700014591217, 0.9545000195503235, 1.0628999471664429, 0.45680001378059387, 0.6662999987602234, 0.7825999855995178, 0.3939000070095062, 0.8246999979019165, 0.9480000138282776, 0.3578999936580658, 0.5145000219345093, 0.5805000066757202, 0.7294999957084656, 0.45509999990463257, 0.7379000186920166, 0.28279998898506165, 0.3239000141620636, 0.21719999611377716, 0.45339998602867126, 0.4997999966144562, 0.7389000058174133, 0.39430001378059387, 0.11739999800920486, 0.2076999992132187, 0.2628999948501587, 0.4293999969959259, 0.3546000123023987, 0.17030000686645508, 0.35440000891685486, 0.29440000653266907, 0.28459998965263367, -0.26919999718666077, 0.1573999971151352, -0.6506999731063843, 0.13899999856948853, -0.47110000252723694, 1.982699990272522, 1.9764000177383423, 1.976099967956543, 1.9759000539779663, 1.975600004196167, 1.9746999740600586, 1.9744000434875488, 1.9735000133514404, 1.9729000329971313, 1.9726999998092651, 1.9718999862670898, 1.9717999696731567, 1.9702999591827393, 1.9700000286102295, 1.969099998474121, 1.9688999652862549, 1.968500018119812, 1.9678000211715698, 1.9675999879837036, 1.9674999713897705, 1.9673999547958374, 1.9666999578475952, 1.9665000438690186, 1.96589994430542, 1.9658000469207764, 1.9656000137329102, 1.965499997138977, 1.965399980545044, 1.9652999639511108, 1.9651999473571777, 1.9637999534606934, 1.965000033378601, 1.9564000368118286, 1.9575999975204468, 1.9631999731063843, 1.8738000392913818, 1.9431999921798706, 1.6160000562667847, 1.9190000295639038, 1.537600040435791, 1.7354999780654907, 1.5056999921798706, 1.6689000129699707, 1.8806999921798706, 1.7603000402450562, 1.5321999788284302, 1.1223000288009644, 1.5407999753952026, 1.1821000576019287, 1.3645000457763672, 1.3042999505996704, 1.3349000215530396, 1.7382999658584595, 1.2125999927520752, 1.462399959564209, 1.4189000129699707, 0.7580000162124634, 0.6628999710083008, 1.5914000272750854, 1.5440000295639038, 1.62090003490448, 1.106600046157837, 1.2281999588012695, 1.464900016784668, 0.9634000062942505, 0.6491000056266785, 1.145900011062622, 0.23739999532699585, 0.193900004029274, 0.9609000086784363, 0.9538999795913696, 0.5059000253677368, 0.15629999339580536, 0.3244999945163727, 0.49059998989105225, 0.7193999886512756, -0.2809999883174896, -0.14319999516010284, 0.3009999990463257, 0.8712999820709229, 0.24420000612735748, 0.07729999721050262, -0.4140999913215637, 0.2215999960899353, 0.1623000055551529, 0.0215000007301569, -0.6046000123023987, 2.1214001178741455, 2.1184000968933105, 2.1166999340057373, 2.115499973297119, 2.1154000759124756, 2.1138999462127686, 2.113100051879883, 2.112799882888794, 2.1124000549316406, 2.111999988555908, 2.111799955368042, 2.111599922180176, 2.1092000007629395, 2.106300115585327, 2.105799913406372, 2.1057000160217285, 2.1052000522613525, 2.103800058364868, 2.1031999588012695, 2.1029999256134033, 2.0994999408721924, 2.098900079727173, 2.098900079727173, 2.0978000164031982, 2.0977001190185547, 2.0977001190185547, 2.09689998626709, 2.0968000888824463, 2.096299886703491, 2.0959999561309814, 2.0938000679016113, 2.0852999687194824, 2.0882999897003174, 2.0943000316619873, 1.753000020980835, 1.5793999433517456, 1.9890999794006348, 1.4728000164031982, 1.2825000286102295, 1.4731999635696411, 1.4250999689102173, 1.9687999486923218, 1.1613999605178833, 1.5851999521255493, 1.5270999670028687, 1.1782000064849854, 1.3657000064849854, 1.4261000156402588, 0.9422000050544739, 1.3000999689102173, 1.3186999559402466, 1.1943999528884888, 1.2922999858856201, 1.5961999893188477, 0.7281000018119812, 1.170799970626831, 1.0388000011444092, 1.5537999868392944, 1.3961000442504883, 1.1928000450134277, 0.6319000124931335, 0.9684000015258789, 0.7578999996185303, 0.8741000294685364, 0.7994999885559082, 0.7621999979019165, 1.013100028038025, 0.9476000070571899, 0.40149998664855957, 0.28209999203681946, 0.31209999322891235, 0.10289999842643738, 0.6855999827384949, 0.09380000084638596, 0.5561000108718872, 0.6114000082015991, 0.3131999969482422, 0.6003000140190125, -0.27549999952316284, -0.9111999869346619, 2.2611000537872314, 2.256700038909912, 2.2562999725341797, 2.2513999938964844, 2.250699996948242, 2.2506000995635986, 2.249000072479248, 2.2488999366760254, 2.2483999729156494, 2.2481000423431396, 2.2476000785827637, 2.2465999126434326, 2.2464001178741455, 2.2460999488830566, 2.246000051498413, 2.245699882507324, 2.245300054550171, 2.2451999187469482, 2.2446999549865723, 2.2446999549865723, 2.2441999912261963, 2.2441999912261963, 2.2441999912261963, 2.2441000938415527, 2.2434000968933105, 2.2416999340057373, 2.2411999702453613, 2.2411000728607178, 2.2402000427246094, 2.2402000427246094, 2.2400999069213867, 2.186300039291382, 2.238600015640259, 2.2370998859405518, 2.164799928665161, 2.1721999645233154, 2.19569993019104, 2.126199960708618, 2.115499973297119, 2.168800115585327, 2.191699981689453, 2.0290000438690186, 2.0371999740600586, 1.6698999404907227, 2.145900011062622, 1.6588000059127808, 1.920699954032898, 2.0648000240325928, 1.6872999668121338, 2.1236000061035156, 2.0947999954223633, 1.7657999992370605, 1.6403000354766846, 0.7811999917030334, 1.0779000520706177, 0.942799985408783, 1.085800051689148, 1.114400029182434, 0.9028000235557556, 0.576200008392334, 0.5507000088691711, 1.516700029373169, 1.0025999546051025, 0.31360000371932983, 1.0757999420166016, 0.25029999017715454, 0.8680999875068665, 0.16410000622272491, 0.335999995470047, 0.6266000270843506, 0.6384000182151794, 1.0432000160217285, 0.38600000739097595, 0.06360000371932983, 0.35260000824928284, 0.02160000056028366, -0.18770000338554382, -0.5052000284194946, 0.13920000195503235, 0.40369999408721924, 0.025100000202655792, 0.2957000136375427, 0.2418999969959259, -0.46369999647140503, 0.08079999685287476, 2.3041999340057373, 2.3036000728607178, 2.303499937057495, 2.303299903869629, 2.3025999069213867, 2.302500009536743, 2.3011999130249023, 2.30049991607666, 2.300299882888794, 2.2992000579833984, 2.2983999252319336, 2.29830002784729, 2.298099994659424, 2.2952001094818115, 2.2946999073028564, 2.2943999767303467, 2.2939000129699707, 2.293600082397461, 2.293299913406372, 2.293299913406372, 2.29259991645813, 2.29259991645813, 2.2923998832702637, 2.291599988937378, 2.2913999557495117, 2.2913999557495117, 2.291300058364868, 2.2911999225616455, 2.291100025177002, 2.2908999919891357, 2.2808001041412354, 2.2894999980926514, 2.2836999893188477, 2.2701001167297363, 2.2662999629974365, 2.2708001136779785, 2.264699935913086, 2.277100086212158, 2.2446999549865723, 2.106600046157837, 1.972000002861023, 2.1963000297546387, 2.135499954223633, 2.153899908065796, 2.0889999866485596, 2.210700035095215, 2.0957999229431152, 2.0315001010894775, 1.812399983406067, 2.141900062561035, 2.1503000259399414, 1.065000057220459, 1.3424999713897705, 1.2462999820709229, 0.35350000858306885, 0.7990000247955322, 1.5348000526428223, 0.7208999991416931, 1.4520000219345093, 1.6452000141143799, 0.8464999794960022, 1.0130000114440918, 0.13369999825954437, 0.732200026512146, 0.5472999811172485, 0.4925999939441681, -0.07800000160932541, 0.7767999768257141, -0.3788999915122986, 0.23659999668598175, -0.2930999994277954, 0.1468999981880188, 0.36160001158714294, 0.6169999837875366, 0.7315000295639038, -0.34150001406669617, 0.8963000178337097, 0.009800000116229057, 0.05000000074505806, 0.43140000104904175, 0.10199999809265137, 0.15000000596046448, -0.25600001215934753, -0.498199999332428, 0.07109999656677246, 2.370300054550171, 2.3664000034332275, 2.3636999130249023, 2.363300085067749, 2.363100051879883, 2.3613998889923096, 2.3589000701904297, 2.358799934387207, 2.358099937438965, 2.3580000400543213, 2.357599973678589, 2.357100009918213, 2.3568999767303467, 2.3566999435424805, 2.355600118637085, 2.3554999828338623, 2.35509991645813, 2.35509991645813, 2.3550000190734863, 2.3548998832702637, 2.3543999195098877, 2.354300022125244, 2.3536999225616455, 2.3533999919891357, 2.3531999588012695, 2.35260009765625, 2.3519999980926514, 2.351900100708008, 2.351799964904785, 2.351799964904785, 2.3471999168395996, 2.3506999015808105, 2.351300001144409, 2.3255999088287354, 2.3213000297546387, 2.3225998878479004, 2.3329999446868896, 2.331399917602539, 2.348299980163574, 2.3266000747680664, 2.3434998989105225, 2.3492000102996826, 2.327399969100952, 2.27239990234375, 2.3132998943328857, 2.0720999240875244, 2.1765999794006348, 2.160399913787842, 2.236999988555908, 2.293800115585327, 2.2100000381469727, 2.169800043106079, 1.8772000074386597, 2.066800117492676, 2.104099988937378, 2.1524999141693115, 2.262399911880493, 2.0871999263763428, 2.003700017929077, 1.892199993133545, 2.046799898147583, 2.078000068664551, 1.2532999515533447, 1.9402999877929688, 1.3079999685287476, 1.8664000034332275, 0.832099974155426, 0.8838000297546387, 1.3882999420166016, 0.7343999743461609, 0.7781999707221985, 1.1585999727249146, 0.22429999709129333, 0.20319999754428864, -0.09950000047683716, 1.4151999950408936, 0.07079999893903732, 0.3034000098705292, 1.0807000398635864, 0.07720000296831131, 0.45750001072883606, -0.1850000023841858, 0.7354000210762024, 0.5252000093460083, -0.375, 0.3043999969959259, -0.8119000196456909, 0.3425000011920929, -0.05420000106096268, -0.729200005531311, -0.08340000361204147, 0.06750000268220901, -0.15800000727176666, 2.8877999782562256, 2.8833000659942627, 2.8805999755859375, 2.880500078201294, 2.880000114440918, 2.8796000480651855, 2.8791000843048096, 2.8791000843048096, 2.8782999515533447, 2.8773000240325928, 2.875999927520752, 2.8752999305725098, 2.8750998973846436, 2.875, 2.8742001056671143, 2.873300075531006, 2.8729000091552734, 2.8714001178741455, 2.8710999488830566, 2.871000051498413, 2.8701000213623047, 2.869800090789795, 2.8694000244140625, 2.8684000968933105, 2.8680999279022217, 2.8671000003814697, 2.8668999671936035, 2.8668999671936035, 2.8661999702453613, 2.865799903869629, 2.865000009536743, 2.8657000064849854, 2.86299991607666, 2.84660005569458, 2.8605000972747803, 2.8310000896453857, 2.860100030899048, 2.7481000423431396, 2.805299997329712, 2.846400022506714, 2.7279999256134033, 2.2255001068115234, 2.524399995803833, 2.5441999435424805, 2.5578999519348145, 2.439500093460083, 2.5845999717712402, 2.743799924850464, 2.684799909591675, 1.8884999752044678, 1.8387999534606934, 2.204200029373169, 1.933899998664856, 1.3289999961853027, 2.3717000484466553, 0.42179998755455017, 1.7437000274658203, 2.1480000019073486, 0.9681000113487244, 1.7899999618530273, 0.7669000029563904, 2.451900005340576, 2.2035000324249268, 0.359499990940094, -0.15049999952316284, 1.8634999990463257, 0.6474999785423279, 0.22910000383853912, 0.7360000014305115, 0.90420001745224, 1.3176000118255615, 0.04190000146627426, 0.34200000762939453, 0.11640000343322754, -0.6284000277519226, -0.6320000290870667, 0.31470000743865967, 0.2214999943971634, -0.10320000350475311, -0.8949000239372253, -0.06430000066757202, -0.9941999912261963, 0.0632999986410141, -0.3887999951839447, -0.9732999801635742, -1.2922999858856201, 2.921999931335449, 2.9198999404907227, 2.9189999103546143, 2.9154999256134033, 2.9151999950408936, 2.9144999980926514, 2.9140000343322754, 2.9140000343322754, 2.911099910736084, 2.910900115966797, 2.910099983215332, 2.910099983215332, 2.908900022506714, 2.908400058746338, 2.9082999229431152, 2.9063000679016113, 2.9056999683380127, 2.9052999019622803, 2.905100107192993, 2.905100107192993, 2.9047000408172607, 2.904400110244751, 2.9038000106811523, 2.90310001373291, 2.90310001373291, 2.902899980545044, 2.9024999141693115, 2.902400016784668, 2.9022998809814453, 2.9019999504089355, 2.872299909591675, 2.900899887084961, 2.876499891281128, 2.880000114440918, 2.891400098800659, 2.8987998962402344, 2.8178999423980713, 2.849400043487549, 2.8261001110076904, 2.8606998920440674, 2.8673999309539795, 2.849299907684326, 2.876699924468994, 2.8773000240325928, 2.870300054550171, 2.7421000003814697, 2.7227001190185547, 2.7964000701904297, 2.572700023651123, 2.816499948501587, 2.6579999923706055, 2.3315000534057617, 1.645900011062622, 1.73580002784729, 2.554500102996826, 1.402400016784668, 2.3271000385284424, 1.3308000564575195, 1.0880000591278076, 1.3587000370025635, -0.05700000002980232, 0.7630000114440918, 1.1198999881744385, 0.5565999746322632, 0.20160000026226044, -0.06430000066757202, 1.0755000114440918, -0.06129999831318855, 0.44440001249313354, 0.26750001311302185, 0.7810999751091003, -0.39570000767707825, -0.27619999647140503, 0.9013000130653381, -0.014700000174343586, -0.8323000073432922, -0.5562000274658203, 0.14069999754428864, 0.024900000542402267, 0.2671000063419342, -0.7368000149726868, -0.7382000088691711, 3.5123000144958496, 3.5048000812530518, 3.5035998821258545, 3.4997000694274902, 3.4995999336242676, 3.499500036239624, 3.4993999004364014, 3.4983999729156494, 3.4976000785827637, 3.497499942779541, 3.496799945831299, 3.4951999187469482, 3.494800090789795, 3.4946000576019287, 3.4939000606536865, 3.4930999279022217, 3.49180006980896, 3.4897000789642334, 3.4897000789642334, 3.4893999099731445, 3.4879000186920166, 3.487799882888794, 3.487799882888794, 3.4872000217437744, 3.4860999584198, 3.4856998920440674, 3.4855000972747803, 3.485100030899048, 3.484600067138672, 3.484299898147583, 3.4827001094818115, 3.4779000282287598, 3.4419000148773193, 3.4321999549865723, 3.451900005340576, 3.4595000743865967, 3.234299898147583, 3.4519999027252197, 3.1617000102996826, 3.1979000568389893, 3.426300048828125, 2.1921000480651855, 2.9382998943328857, 2.9872000217437744, 2.59689998626709, 3.3285999298095703, 2.0427000522613525, 3.022599935531616, 0.906000018119812, 0.7967000007629395, -0.02329999953508377, 0.7336000204086304, 0.4334000051021576, 1.1583000421524048, -0.2849000096321106, -0.5809999704360962, 0.4964999854564667, -0.9789999723434448, 1.1085000038146973, 0.23250000178813934, -0.7692999839782715, -0.4909000098705292, -1.229099988937378, 0.3691999912261963, -0.8015999794006348, 0.06379999965429306, -0.19670000672340393, 0.007300000172108412, -0.2386000007390976, -0.08609999716281891, 0.40639999508857727, -1.0764000415802002, -0.1429000049829483, 0.367900013923645, 3.6865999698638916, 3.6851999759674072, 3.683799982070923, 3.683199882507324, 3.68179988861084, 3.68179988861084, 3.6805999279022217, 3.6786999702453613, 3.6774001121520996, 3.6770999431610107, 3.6768999099731445, 3.676800012588501, 3.6765999794006348, 3.676300048828125, 3.6761999130249023, 3.676100015640259, 3.676100015640259, 3.6751999855041504, 3.673799991607666, 3.672800064086914, 3.671999931335449, 3.671799898147583, 3.671099901199341, 3.670799970626831, 3.668600082397461, 3.6679999828338623, 3.6670000553131104, 3.6670000553131104, 3.666300058364868, 3.6661999225616455, 3.6623001098632812, 3.646699905395508, 3.6451001167297363, 3.638000011444092, 3.598299980163574, 3.625999927520752, 3.581899881362915, 3.435699939727783, 3.4911000728607178, 3.574399948120117, 2.833199977874756, 2.0957999229431152, 2.2597999572753906, 0.35580000281333923, 3.1338000297546387, 0.26499998569488525, 0.6829000115394592, 2.5350000858306885, -0.011099999770522118, 0.8098999857902527, -0.28940001130104065, 0.4729999899864197, 1.1469999551773071, -0.44850000739097595, -0.0617000013589859, 0.045099999755620956, -0.9505000114440918, 0.16949999332427979, 0.7534000277519226, -0.4941999912261963, -0.6897000074386597, 0.7250999808311462, 0.9822999835014343, 0.6154999732971191, 0.046300001442432404, -0.9176999926567078, -0.27720001339912415, -0.7358999848365784, 0.4007999897003174, -0.36489999294281006, 1.0368000268936157, -0.4318000078201294, -1.3672000169754028], \"logprob\": [30.0, 29.0, 28.0, 27.0, 26.0, 25.0, 24.0, 23.0, 22.0, 21.0, 20.0, 19.0, 18.0, 17.0, 16.0, 15.0, 14.0, 13.0, 12.0, 11.0, 10.0, 9.0, 8.0, 7.0, 6.0, 5.0, 4.0, 3.0, 2.0, 1.0, -7.464000225067139, -7.63700008392334, -7.701700210571289, -8.531700134277344, -8.538399696350098, -8.469900131225586, -8.70479965209961, -8.774900436401367, -8.747599601745605, -8.656900405883789, -8.858799934387207, -8.178799629211426, -8.862600326538086, -7.8649001121521, -8.959500312805176, -8.972100257873535, -8.583999633789062, -8.98390007019043, -8.887399673461914, -8.656000137329102, -9.005599975585938, -8.893899917602539, -9.096500396728516, -9.100099563598633, -9.118900299072266, -9.050700187683105, -9.078399658203125, -9.124699592590332, -8.323200225830078, -9.171699523925781, -8.726900100708008, -8.529500007629395, -7.92609977722168, -8.318499565124512, -8.439900398254395, -8.562199592590332, -8.027799606323242, -8.211999893188477, -7.463699817657471, -6.738100051879883, -8.14579963684082, -8.097900390625, -7.291200160980225, -7.542500019073486, -8.145299911499023, -7.924499988555908, -5.316500186920166, -7.494999885559082, -7.728899955749512, -8.092399597167969, -7.935999870300293, -6.355999946594238, -5.530700206756592, -4.380099773406982, -7.607999801635742, -6.474599838256836, -7.412300109863281, -7.225900173187256, -4.670100212097168, -6.839399814605713, -5.464300155639648, -6.742700099945068, -5.82450008392334, -7.012800216674805, -6.182199954986572, -6.958799839019775, -6.476500034332275, -3.9258999824523926, -6.226099967956543, -6.9670000076293945, -3.486299991607666, -4.73799991607666, -5.396999835968018, -4.060699939727783, -5.946400165557861, -6.49399995803833, -4.060500144958496, -4.778800010681152, -5.1367998123168945, -5.6930999755859375, -4.8429999351501465, -5.7916998863220215, -4.306600093841553, -4.464600086212158, -4.156199932098389, -5.076600074768066, -5.289100170135498, -5.910900115966797, -5.150700092315674, -4.575699806213379, -4.850500106811523, -4.995200157165527, -5.332900047302246, -5.249800205230713, -5.050000190734863, -5.327099800109863, -5.258200168609619, -5.258299827575684, -4.768899917602539, -5.158100128173828, -5.138299942016602, -5.331600189208984, -5.276899814605713, -7.362400054931641, -7.969200134277344, -7.766300201416016, -7.885499954223633, -8.06410026550293, -8.014800071716309, -7.638199806213379, -8.11400032043457, -8.06659984588623, -8.253100395202637, -8.302300453186035, -7.775599956512451, -8.384599685668945, -7.793900012969971, -8.439499855041504, -8.343000411987305, -8.479700088500977, -8.501999855041504, -8.169699668884277, -8.440699577331543, -8.45829963684082, -8.558699607849121, -8.51669979095459, -8.592700004577637, -8.570899963378906, -8.60159969329834, -8.364399909973145, -8.571499824523926, -8.619199752807617, -8.61870002746582, -8.364999771118164, -8.488300323486328, -8.015899658203125, -8.328300476074219, -8.511699676513672, -7.30649995803833, -8.305500030517578, -5.099400043487549, -8.066300392150879, -4.726200103759766, -6.605400085449219, -4.967199802398682, -6.425899982452393, -7.875999927520752, -7.132900238037109, -5.794400215148926, -3.5517001152038574, -5.938899993896484, -3.9137001037597656, -5.05709981918335, -5.031000137329102, -5.316500186920166, -7.201900005340576, -5.083600044250488, -6.180500030517578, -6.060400009155273, -3.6154000759124756, -3.385699987411499, -6.714000225067139, -6.567800045013428, -6.839300155639648, -5.2718000411987305, -5.656700134277344, -6.48330020904541, -5.289100170135498, -4.8653998374938965, -5.971199989318848, -4.262199878692627, -4.395500183105469, -5.732699871063232, -5.788700103759766, -5.091400146484375, -4.632199764251709, -4.895899772644043, -5.126399993896484, -5.473299980163574, -4.224100112915039, -4.597799777984619, -5.169600009918213, -5.696300029754639, -5.258999824523926, -5.180799961090088, -4.901599884033203, -5.330999851226807, -5.309000015258789, -5.257599830627441, -5.297699928283691, -7.478099822998047, -7.821700096130371, -7.945300102233887, -8.023099899291992, -8.028200149536133, -8.099699974060059, -7.936299800872803, -8.17240047454834, -8.204899787902832, -8.226099967956543, -8.236200332641602, -8.173199653625488, -8.361800193786621, -8.489700317382812, -8.509699821472168, -8.51159954071045, -8.529399871826172, -8.446999549865723, -8.609000205993652, -8.1673002243042, -8.062299728393555, -8.568599700927734, -8.727499961853027, -8.782600402832031, -8.7677001953125, -8.599900245666504, -8.516500473022461, -8.820799827575684, -8.73799991607666, -8.637999534606934, -7.469200134277344, -7.317800045013428, -8.358099937438965, -8.643600463867188, -4.863900184631348, -3.839200019836426, -7.697999954223633, -3.806299924850464, -3.2049999237060547, -4.720900058746338, -4.875, -7.807000160217285, -3.644399881362915, -5.910999774932861, -5.716100215911865, -4.401800155639648, -5.272299766540527, -5.542500019073486, -3.7509000301361084, -5.153800010681152, -5.226600170135498, -4.78849983215332, -5.206200122833252, -6.317399978637695, -3.320499897003174, -4.912700176239014, -4.548799991607666, -6.305500030517578, -5.870500087738037, -5.3506999015808105, -3.822700023651123, -5.003399848937988, -4.538000106811523, -4.843299865722656, -4.695000171661377, -4.709099769592285, -5.248000144958496, -5.173900127410889, -4.272500038146973, -4.307300090789795, -4.476399898529053, -4.270500183105469, -4.90500020980835, -4.405900001525879, -4.848199844360352, -4.90310001373291, -4.782599925994873, -4.930799961090088, -4.693900108337402, -4.854300022125244, -6.0065999031066895, -7.4145002365112305, -7.447700023651123, -7.667500019073486, -7.892499923706055, -7.899700164794922, -7.699999809265137, -7.9842000007629395, -8.03320026397705, -8.049699783325195, -8.074199676513672, -8.050399780273438, -7.918799877166748, -7.649400234222412, -8.159099578857422, -8.171199798583984, -8.193599700927734, -8.187700271606445, -8.219499588012695, -8.221699714660645, -7.889200210571289, -8.239899635314941, -7.203999996185303, -8.199000358581543, -8.276399612426758, -7.617499828338623, -8.361900329589844, -8.325599670410156, -8.352100372314453, -8.404899597167969, -8.148599624633789, -5.616799831390381, -8.20930004119873, -8.167400360107422, -6.089099884033203, -6.767000198364258, -7.327499866485596, -6.357600212097168, -6.415599822998047, -7.14900016784668, -7.570799827575684, -6.429800033569336, -6.746099948883057, -4.597899913787842, -7.55079984664917, -4.706200122833252, -6.401299953460693, -7.161399841308594, -5.624199867248535, -7.494100093841553, -7.3902997970581055, -6.4334001541137695, -6.137899875640869, -3.911900043487549, -4.844600200653076, -4.551700115203857, -4.994699954986572, -5.06790018081665, -4.628399848937988, -3.91129994392395, -3.948899984359741, -6.118299961090088, -5.095399856567383, -3.734999895095825, -5.492099761962891, -4.168099880218506, -5.253399848937988, -4.2093000411987305, -4.469799995422363, -4.916299819946289, -4.941699981689453, -5.531300067901611, -4.909800052642822, -4.610400199890137, -4.962900161743164, -4.766900062561035, -4.642199993133545, -4.448400020599365, -4.919000148773193, -5.183899879455566, -5.070700168609619, -5.195300102233887, -5.176700115203857, -5.053100109100342, -5.212500095367432, -7.247200012207031, -7.38640022277832, -7.387599945068359, -7.268799781799316, -7.477700233459473, -7.453199863433838, -7.362599849700928, -6.523499965667725, -7.2129998207092285, -7.410099983215332, -7.8003997802734375, -7.7378997802734375, -7.438399791717529, -7.997099876403809, -8.025699615478516, -7.997499942779541, -6.496699810028076, -6.374000072479248, -6.445099830627441, -7.955999851226807, -8.060099601745605, -7.974800109863281, -8.140999794006348, -8.054100036621094, -4.815400123596191, -8.032999992370605, -7.865099906921387, -7.815000057220459, -8.023099899291992, -7.59119987487793, -5.998499870300293, -7.634699821472168, -7.10699987411499, -6.570199966430664, -6.611100196838379, -7.4380998611450195, -7.405099868774414, -7.6819000244140625, -7.21619987487793, -5.605299949645996, -4.444200038909912, -6.954100131988525, -6.435500144958496, -6.744900226593018, -6.327400207519531, -7.185400009155273, -6.6107001304626465, -6.354400157928467, -5.684700012207031, -6.965000152587891, -7.070099830627441, -4.438199996948242, -5.292300224304199, -5.159800052642822, -3.5896999835968018, -4.7154998779296875, -6.061399936676025, -4.782800197601318, -5.952899932861328, -6.2565999031066895, -5.265699863433838, -5.52810001373291, -4.411900043487549, -5.180099964141846, -5.050099849700928, -5.051400184631348, -4.496399879455566, -5.415900230407715, -4.427499771118164, -5.061500072479248, -4.792799949645996, -5.111100196838379, -5.261199951171875, -5.4721999168396, -5.547999858856201, -4.9309000968933105, -5.66349983215332, -5.2104997634887695, -5.265500068664551, -5.455999851226807, -5.388999938964844, -5.402599811553955, -5.314199924468994, -5.286799907684326, -5.458899974822998, -6.3506999015808105, -7.194300174713135, -7.454599857330322, -5.659800052642822, -7.427499771118164, -7.5507001876831055, -6.958799839019775, -7.822000026702881, -7.860899925231934, -7.871300220489502, -7.897500038146973, -7.922999858856201, -7.929900169372559, -7.947000026702881, -7.864999771118164, -7.979700088500977, -7.783400058746338, -8.0201997756958, -8.031200408935547, -7.987599849700928, -8.055299758911133, -8.066800117492676, -8.09220027923584, -7.98829984664917, -8.098699569702148, -7.996500015258789, -7.832699775695801, -8.134099960327148, -8.174500465393066, -8.184000015258789, -7.136300086975098, -7.844699859619141, -8.018199920654297, -5.610499858856201, -5.720600128173828, -6.014100074768066, -6.655600070953369, -6.781000137329102, -7.740499973297119, -6.739200115203857, -7.506899833679199, -7.8144001960754395, -7.228300094604492, -6.019999980926514, -7.032599925994873, -3.539900064468384, -5.287199974060059, -5.788400173187256, -6.5680999755859375, -7.205699920654297, -6.5528998374938965, -6.287199974060059, -4.035099983215332, -5.658699989318848, -6.079899787902832, -6.449900150299072, -7.169600009918213, -6.3231000900268555, -5.996399879455566, -6.041399955749512, -6.654900074005127, -6.74370002746582, -4.929100036621094, -6.440999984741211, -5.130000114440918, -6.284599781036377, -4.466000080108643, -4.720600128173828, -5.605500221252441, -4.7692999839782715, -4.844600200653076, -5.376200199127197, -4.1940999031066895, -4.342400074005127, -4.148099899291992, -5.730100154876709, -4.428899765014648, -4.754799842834473, -5.479100227355957, -4.728600025177002, -5.0370001792907715, -4.774400234222412, -5.376800060272217, -5.286099910736084, -4.862500190734863, -5.198699951171875, -4.755099773406982, -5.274499893188477, -5.274600028991699, -5.183800220489502, -5.379300117492676, -5.463600158691406, -5.451399803161621, -6.703400135040283, -7.082099914550781, -7.277299880981445, -7.3109002113342285, -7.3317999839782715, -7.027299880981445, -7.384500026702881, -7.382400035858154, -7.4344000816345215, -7.476399898529053, -7.542699813842773, -7.582300186157227, -7.5854997634887695, -7.542799949645996, -7.29580020904541, -7.515900135040283, -7.547100067138672, -7.723299980163574, -7.760499954223633, -7.532299995422363, -7.80210018157959, -7.794000148773193, -7.6596999168396, -7.8231000900268555, -7.837500095367432, -7.769599914550781, -7.761499881744385, -7.380899906158447, -7.678699970245361, -7.811999797821045, -7.324900150299072, -7.420400142669678, -7.237500190734863, -6.992099761962891, -7.453999996185303, -7.029399871826172, -7.60230016708374, -5.704899787902832, -6.9558000564575195, -7.499300003051758, -6.723899841308594, -4.148200035095215, -5.804299831390381, -6.33489990234375, -6.456399917602539, -6.410399913787842, -6.8140997886657715, -7.209400177001953, -7.072999954223633, -5.256899833679199, -5.154900074005127, -5.991499900817871, -5.736199855804443, -4.853300094604492, -6.591300010681152, -3.5213000774383545, -5.604899883270264, -6.312699794769287, -4.644000053405762, -5.977399826049805, -4.7769999504089355, -6.794000148773193, -6.513800144195557, -4.698699951171875, -4.199100017547607, -6.222799777984619, -5.372300148010254, -5.066800117492676, -5.481900215148926, -5.630499839782715, -5.973299980163574, -5.21619987487793, -5.420300006866455, -5.3541998863220215, -5.046800136566162, -5.1315999031066895, -5.572800159454346, -5.589900016784668, -5.655799865722656, -5.440499782562256, -5.681300163269043, -5.4816999435424805, -5.7256999015808105, -5.7042999267578125, -5.647299766540527, -5.6656999588012695, -6.613800048828125, -6.878699779510498, -6.911300182342529, -7.108099937438965, -6.624800205230713, -6.731200218200684, -7.150400161743164, -7.300899982452393, -6.162600040435791, -7.132299900054932, -7.133900165557861, -7.521999835968018, -7.577899932861328, -5.572400093078613, -7.5929999351501465, -6.230000019073486, -7.099599838256836, -6.980000019073486, -7.7241997718811035, -7.437600135803223, -7.73769998550415, -6.1255998611450195, -7.745500087738037, -7.80109977722168, -7.815000057220459, -7.7195000648498535, -7.796500205993652, -7.8242998123168945, -7.819900035858154, -7.7357001304626465, -4.509900093078613, -7.37060022354126, -5.677999973297119, -6.083199977874756, -6.716000080108643, -7.575300216674805, -3.986299991607666, -5.48859977722168, -5.16349983215332, -6.287700176239014, -6.611400127410889, -6.306099891662598, -6.9008002281188965, -6.934500217437744, -6.831699848175049, -5.09119987487793, -5.4552998542785645, -6.674799919128418, -5.87060022354126, -6.832799911499023, -6.3668999671936035, -5.467700004577637, -4.265399932861328, -4.619800090789795, -6.291900157928467, -4.185200214385986, -5.927000045776367, -4.633900165557861, -4.591300010681152, -5.208899974822998, -4.000100135803223, -4.768099784851074, -5.147900104522705, -4.758900165557861, -4.6041998863220215, -4.482699871063232, -5.2895002365112305, -4.5609002113342285, -5.026299953460693, -5.01170015335083, -5.2555999755859375, -4.769100189208984, -4.865600109100342, -5.359799861907959, -5.07289981842041, -4.880899906158447, -5.010799884796143, -5.155200004577637, -5.233099937438965, -5.262800216674805, -5.224299907684326, -5.28380012512207, -4.617400169372559, -6.171000003814697, -6.265999794006348, -6.559999942779541, -6.552599906921387, -6.098800182342529, -6.569900035858154, -6.6616997718811035, -6.616000175476074, -5.8196001052856445, -6.764599800109863, -6.742300033569336, -6.779900074005127, -6.677000045776367, -6.795899868011475, -6.954699993133545, -6.728499889373779, -5.795499801635742, -7.10230016708374, -6.873499870300293, -6.883399963378906, -7.14709997177124, -6.296299934387207, -7.046599864959717, -7.239299774169922, -7.222400188446045, -7.211299896240234, -7.27370023727417, -6.22730016708374, -7.296800136566162, -7.079800128936768, -7.028800010681152, -6.122200012207031, -5.978400230407715, -6.543099880218506, -6.802999973297119, -5.3597002029418945, -6.887599945068359, -5.808199882507324, -6.003499984741211, -6.826600074768066, -4.041600227355957, -5.73859977722168, -5.93720006942749, -5.502600193023682, -6.645100116729736, -5.268799781799316, -6.3582000732421875, -4.710999965667725, -4.826099872589111, -4.522900104522705, -5.2494001388549805, -5.097700119018555, -5.528600215911865, -4.958899974822998, -5.035600185394287, -5.468200206756592, -5.027599811553955, -5.730199813842773, -5.446800231933594, -5.187699794769287, -5.279399871826172, -5.1722002029418945, -5.543099880218506, -5.2891998291015625, -5.488900184631348, -5.492599964141846, -5.535600185394287, -5.5320000648498535, -5.589300155639648, -5.682799816131592, -5.622099876403809, -5.688000202178955, -5.7154998779296875, -6.183199882507324, -6.212600231170654, -6.393700122833252, -6.318299770355225, -6.360300064086914, -6.519800186157227, -6.475200176239014, -6.587500095367432, -6.413400173187256, -6.763700008392334, -6.776000022888184, -6.694900035858154, -6.599999904632568, -5.589900016784668, -6.80709981918335, -6.812600135803223, -6.807400226593018, -6.84660005569458, -6.583499908447266, -6.922999858856201, -6.834400177001953, -6.925300121307373, -6.4766998291015625, -6.866199970245361, -7.101600170135498, -6.724100112915039, -7.108099937438965, -7.119500160217285, -7.152599811553955, -7.179800033569336, -6.53439998626709, -6.368199825286865, -6.473700046539307, -6.512800216674805, -6.018099784851074, -6.580699920654297, -6.536900043487549, -6.098100185394287, -6.277599811553955, -6.684999942779541, -5.802999973297119, -5.147299766540527, -5.4096999168396, -3.6928000450134277, -6.3678998947143555, -4.408999919891357, -4.831600189208984, -6.03249979019165, -4.600500106811523, -5.102399826049805, -4.707799911499023, -5.114699840545654, -5.48769998550415, -4.9481000900268555, -5.15749979019165, -5.212900161743164, -4.893599987030029, -5.333700180053711, -5.542799949645996, -5.187300205230713, -5.1442999839782715, -5.554299831390381, -5.655700206756592, -5.618199825286865, -5.570700168609619, -5.405200004577637, -5.575300216674805, -5.524400234222412, -5.697199821472168, -5.644000053405762, -5.8018999099731445, -5.725200176239014, -5.740600109100342]}, \"token.table\": {\"Topic\": [1, 2, 3, 4, 5, 6, 7, 8, 9, 10, 4, 1, 2, 3, 4, 5, 6, 7, 8, 9, 10, 1, 2, 4, 9, 6, 1, 2, 3, 4, 5, 6, 7, 8, 9, 10, 3, 8, 4, 9, 6, 1, 2, 3, 5, 9, 10, 1, 2, 3, 4, 5, 6, 7, 8, 9, 10, 1, 2, 3, 4, 5, 6, 7, 8, 9, 10, 2, 3, 4, 1, 2, 3, 4, 5, 6, 7, 8, 9, 10, 2, 9, 6, 9, 1, 2, 3, 4, 6, 7, 8, 9, 10, 3, 1, 2, 3, 4, 5, 6, 7, 8, 9, 10, 1, 2, 1, 2, 5, 6, 7, 8, 9, 10, 1, 1, 4, 1, 2, 3, 4, 5, 6, 7, 8, 9, 10, 1, 2, 1, 2, 3, 4, 5, 6, 7, 8, 9, 10, 2, 1, 2, 3, 4, 5, 6, 7, 9, 1, 2, 3, 4, 5, 6, 7, 8, 9, 10, 3, 6, 1, 2, 3, 4, 5, 6, 7, 8, 9, 10, 8, 1, 2, 8, 10, 8, 1, 2, 3, 4, 5, 6, 7, 8, 9, 10, 6, 1, 2, 3, 4, 5, 6, 7, 8, 9, 10, 1, 3, 7, 4, 7, 9, 1, 2, 3, 4, 5, 6, 7, 8, 9, 10, 6, 10, 7, 2, 1, 2, 3, 5, 7, 8, 8, 10, 4, 4, 1, 3, 4, 6, 9, 1, 2, 3, 4, 5, 6, 7, 8, 9, 10, 3, 5, 6, 1, 4, 5, 6, 7, 10, 4, 6, 7, 9, 4, 6, 3, 3, 8, 2, 3, 5, 7, 6, 1, 2, 4, 6, 3, 1, 5, 6, 8, 4, 7, 8, 1, 2, 3, 4, 5, 6, 7, 8, 9, 10, 4, 5, 10, 5, 1, 2, 3, 7, 1, 2, 3, 4, 5, 6, 7, 8, 9, 10, 9, 1, 4, 2, 5, 6, 7, 3, 1, 7, 1, 2, 3, 4, 5, 6, 7, 8, 9, 10, 1, 1, 1, 2, 3, 4, 5, 6, 7, 8, 9, 10, 1, 7, 1, 6, 1, 2, 3, 4, 5, 6, 8, 9, 10, 1, 4, 6, 7, 1, 3, 5, 2, 1, 2, 3, 4, 5, 6, 7, 8, 9, 10, 1, 2, 3, 4, 5, 6, 7, 8, 9, 10, 8, 1, 4, 1, 2, 3, 4, 5, 6, 7, 8, 9, 10, 1, 2, 3, 4, 5, 6, 7, 8, 9, 10, 7, 8, 9, 1, 2, 3, 4, 6, 7, 9, 10, 1, 2, 3, 4, 5, 6, 7, 8, 9, 10, 7, 3, 10, 1, 2, 3, 4, 5, 6, 7, 8, 9, 10, 2, 1, 2, 3, 4, 5, 6, 7, 8, 9, 10, 7, 1, 2, 3, 4, 5, 6, 7, 8, 9, 1, 2, 3, 4, 5, 6, 7, 8, 9, 10, 2, 4, 1, 2, 7, 2, 3, 4, 5, 9, 1, 2, 3, 4, 5, 6, 7, 8, 9, 10, 1, 2, 3, 4, 6, 7, 8, 10, 3, 5, 4, 9, 1, 2, 7, 9, 10, 1, 2, 3, 5, 6, 7, 8, 9, 10, 2, 10, 5, 7, 8, 9, 1, 2, 3, 4, 5, 6, 7, 8, 9, 10, 2, 4, 5, 8, 9, 10, 1, 2, 3, 4, 5, 6, 7, 8, 9, 10, 1, 2, 4, 8, 1, 3, 6, 7, 8, 10, 3, 1, 3, 4, 5, 6, 7, 1, 3, 4, 5, 6, 7, 1, 5, 6, 7, 9, 1, 2, 3, 4, 5, 6, 7, 8, 9, 10, 5, 6, 7, 3, 5, 6, 1, 2, 3, 4, 5, 6, 7, 8, 9, 10, 8, 9, 1, 1, 2, 3, 4, 5, 6, 7, 8, 9, 10, 8, 1, 6, 9, 5, 8, 4, 8, 3, 4, 3, 6, 9, 8, 6, 9, 6, 10, 1, 2, 3, 4, 8, 9, 6, 9, 8, 3, 5, 8, 8, 10, 6, 1, 1, 9, 10, 1, 8, 2, 5, 6, 7, 8, 10, 1, 2, 1, 6, 3, 7, 9, 6, 4, 1, 9, 5, 7, 2, 6, 7, 1, 2, 3, 4, 5, 6, 7, 9, 10, 7, 10, 3, 9, 1, 3, 1, 2, 3, 4, 5, 6, 7, 8, 9, 10, 10, 10, 1, 9, 4, 5, 6, 10, 1, 2, 3, 4, 5, 6, 7, 8, 9, 10, 1, 2, 3, 4, 5, 6, 7, 8, 9, 10, 7, 1, 2, 3, 4, 6, 7, 8, 1, 2, 3, 4, 5, 6, 7, 8, 9, 10, 1, 2, 5, 6, 7, 10, 1, 2, 3, 4, 5, 6, 7, 8, 9, 10, 3, 2, 2, 6, 5, 10, 1, 2, 3, 4, 5, 6, 7, 8, 9, 10, 1, 3, 4, 5, 5, 5, 5, 6, 7, 9, 1, 2, 1, 2, 3, 4, 5, 6, 7, 8, 9, 10, 2, 1, 9, 1, 2, 4, 7, 9, 10, 5, 10, 1, 1, 2, 3, 4, 5, 6, 7, 8, 9, 10, 2, 3, 5, 7, 8, 1, 2, 4, 5, 6, 7, 9, 10, 1, 1, 2, 6, 7, 1, 2, 3, 4, 5, 6, 7, 8, 9, 10, 1, 2, 3, 4, 5, 6, 7, 8, 9, 10, 9, 7, 1, 2, 3, 4, 5, 6, 7, 8, 9, 10, 1, 2, 3, 4, 5, 6, 7, 8, 9, 10, 6, 6, 1, 2, 10, 8, 1, 2, 5, 6, 7, 8, 9, 10, 1, 2, 3, 4, 5, 6, 7, 8, 9, 10, 6, 10, 2, 1, 6, 8, 1, 3, 4, 5, 7, 9, 1, 2, 3, 4, 5, 6, 7, 8, 9, 10, 2, 4, 2, 1, 2, 3, 4, 5, 7, 9, 10, 5, 6, 10, 1, 2, 3, 4, 5, 6, 7, 8, 9, 10, 2, 4, 7, 1, 2, 3, 4, 5, 6, 7, 8, 9, 10, 1, 7, 8, 1, 3, 4, 5, 6, 7, 1, 2, 3, 4, 5, 6, 7, 8, 9, 10, 5, 1, 2, 3, 4, 5, 6, 7, 8, 9, 10, 9, 2, 1, 2, 3, 4, 5, 6, 7, 8, 9, 10, 1, 2, 9, 2, 4, 9, 3, 1, 2, 3, 4, 5, 6, 7, 8, 9, 10, 4, 5, 6, 7, 8, 9, 10, 6, 4, 1, 2, 5, 6, 8, 9, 10, 1, 2, 3, 4, 5, 6, 7, 8, 9, 10, 1, 2, 3, 4, 5, 6, 7, 8, 9, 10, 4, 6, 10, 1, 2, 3, 4, 5, 7, 8, 9, 10, 2, 4, 7, 7, 1, 2, 3, 4, 5, 6, 7, 8, 9, 10, 1, 2, 3, 4, 5, 6, 7, 8, 9, 10, 3, 1, 2, 3, 4, 5, 6, 7, 8, 9, 10, 1, 2, 4, 5, 6, 7, 10, 9, 7, 10, 1, 2, 3, 4, 5, 6, 7, 8, 9, 10, 6, 1, 2, 3, 5, 6, 7, 8, 9, 10, 7, 2, 1, 2, 3, 4, 5, 6, 7, 8, 9, 10, 1, 2, 3, 4, 5, 6, 7, 8, 9, 10, 1, 1, 2, 3, 4, 5, 6, 7, 8, 9, 10, 1, 3, 9, 6, 7, 4, 5, 6, 7, 9, 5, 7, 8, 10, 9, 1, 2, 3, 4, 5, 6, 7, 8, 9, 10, 1, 2, 3, 4, 5, 6, 7, 8, 9, 10, 1, 6, 7, 9, 1, 2, 3, 4, 5, 6, 7, 8, 9, 10, 4, 1, 1, 2, 3, 4, 5, 6, 7, 8, 9, 10, 9, 8, 1, 2, 5, 6, 7, 8, 9, 3, 2, 5, 7, 8, 9, 3, 4, 2, 6, 6, 10, 3, 5, 4, 1, 2, 3, 4, 5, 6, 7, 8, 9, 10, 3, 7, 1, 2, 3, 4, 5, 6, 7, 8, 9, 10, 4, 1, 2, 4, 5, 7, 9, 10, 1, 3, 4, 5, 6, 7, 9, 10, 6, 1, 2, 3, 4, 5, 6, 7, 8, 9, 10, 1, 2, 3, 4, 5, 6, 7, 8, 9, 10, 1, 2, 4, 10, 1, 5, 6, 8, 9, 2, 5, 8, 8, 7, 4, 5, 1, 4, 5, 7, 5, 5, 6, 7, 10, 1, 2, 3, 4, 5, 6, 7, 8, 9, 10, 1, 2, 3, 4, 5, 6, 7, 8, 9, 10, 4, 2, 1, 2, 3, 4, 5, 6, 7, 8, 9, 10, 9, 7, 1, 2, 4, 6, 8, 10, 1, 2, 3, 4, 5, 6, 7, 8, 9, 10, 3, 7, 8, 1, 2, 3, 4, 5, 6, 7, 8, 9, 10, 1, 2, 3, 4, 5, 6, 7, 8, 9, 10, 4, 1, 2, 3, 4, 5, 6, 7, 8, 9, 10, 7, 1, 2, 3, 4, 5, 6, 7, 8, 9, 10, 1, 2, 3, 4, 5, 6, 7, 8, 9, 10, 1, 2, 3, 4, 5, 6, 7, 8, 9, 10, 5, 1, 4, 7, 1, 2, 3, 4, 5, 6, 7, 8, 9, 10, 1, 2, 4, 6, 7, 10, 1, 2, 3, 4, 5, 6, 8, 10, 3, 4, 9, 3, 1, 1, 2, 3, 6, 7, 9, 10, 1, 2, 3, 4, 5, 6, 7, 8, 9, 10, 1, 2, 3, 4, 5, 6, 7, 9, 10, 2, 2, 6, 5, 7, 8, 6, 8, 1, 2, 3, 4, 5, 6, 7, 8, 10, 1, 2, 3, 4, 5, 6, 7, 8, 9, 10, 1, 1, 2, 5, 6, 7, 3, 7, 5, 7, 1, 2, 3, 4, 5, 6, 7, 8, 9, 10, 7, 1, 2, 3, 4, 5, 6, 7, 8, 9, 10, 1, 2, 3, 4, 5, 6, 7, 8, 9, 10, 5, 6, 1, 2, 3, 5, 6, 7, 8, 7, 1, 2, 3, 4, 5, 6, 7, 8, 9, 10, 1, 5, 6, 10, 10, 6, 6, 1, 2, 3, 4, 5, 6, 7, 8, 9, 10, 6, 1, 2, 3, 4, 5, 6, 7, 8, 9, 10, 1, 2, 3, 4, 5, 6, 7, 8, 9, 10, 5, 5, 1, 2, 3, 4, 5, 6, 7, 8, 9, 10, 1, 2, 3, 4, 5, 6, 7, 8, 9, 10, 1, 2, 3, 4, 5, 6, 7, 8, 9, 10, 7, 1, 2, 3, 4, 5, 6, 7, 8, 9, 10, 3, 1, 2, 3, 4, 8, 1, 2, 3, 4, 6, 8, 1, 2, 3, 4, 7, 8, 1, 2, 3, 4, 5, 6, 7, 8, 9, 10, 1, 2, 3, 4, 5, 6, 7, 8, 9, 10, 1, 2, 3, 4, 5, 6, 7, 9, 10, 1, 1, 2, 3, 4, 5, 6, 7, 8, 9, 10, 4, 5, 6, 7, 4, 10, 3, 4, 5, 7, 4, 7, 3, 5, 6, 7, 1, 1, 2, 4, 9, 1, 2, 3, 4, 5, 6, 7, 8, 9, 10, 2, 5, 6, 8, 9, 10, 4, 5, 6, 5, 2, 1, 2, 3, 4, 5, 6, 7, 8, 9, 1, 1, 2, 3, 4, 5, 6, 7, 8, 9, 10, 3, 9, 5, 7, 1, 3, 1, 2, 3, 4, 5, 7, 8, 10, 1, 2, 3, 4, 8, 10, 4, 1, 2, 3, 4, 5, 6, 7, 8, 9, 10, 7, 1, 2, 1, 2, 4, 6, 7, 9, 2, 4, 6, 10, 3, 4, 5, 6, 10, 1, 2, 3, 4, 5, 6, 7, 8, 9, 10, 6, 7, 1, 2, 3, 4, 5, 6, 7, 8, 9, 10, 3, 4, 6, 7, 1, 2, 3, 4, 5, 6, 7, 8, 9, 10, 1, 2, 4, 6, 7, 9, 1, 4, 7, 9, 10, 5, 6, 8, 1, 2, 3, 4, 5, 6, 7, 8, 9, 10, 8, 4, 1, 2, 3, 4, 6, 7, 8, 10, 8, 1, 2, 3, 4, 5, 6, 7, 8, 10, 3, 1, 4, 7, 8, 1, 2, 3, 4, 5, 6, 9, 10, 1, 2, 3, 4, 5, 6, 7, 8, 9, 10, 1, 2, 3, 4, 5, 6, 7, 8, 9, 10, 7, 1, 2, 3, 4, 5, 6, 7, 8, 9, 10, 10, 2, 4, 5, 6, 7, 7, 1, 4, 5, 6, 7, 10, 7, 9, 6, 1, 2, 6, 7, 1, 2, 3, 4, 5, 6, 7, 8, 9, 10, 4, 1, 2, 3, 4, 5, 6, 7, 8, 9, 10, 1, 2, 3, 4, 5, 6, 7, 8, 9, 1, 4, 6, 7, 3, 5, 6, 9, 2, 6, 1, 2, 3, 4, 5, 6, 7, 8, 9, 10, 3, 8, 3, 10, 9, 1, 2, 3, 4, 5, 6, 7, 8, 9, 10, 1, 2, 3, 4, 5, 6, 7, 8, 9, 10, 2, 4, 4, 1, 4, 7, 9, 10, 1, 2, 3, 4, 5, 6, 7, 8, 9, 10, 1, 2, 3, 5, 6, 7, 8, 10, 10, 5, 6, 4, 10, 6, 9, 6, 1, 2, 3, 4, 5, 6, 7, 8, 9, 10, 1, 2, 3, 4, 5, 6, 7, 8, 9, 1, 2, 5, 8, 6, 1, 1, 7, 10, 1, 2, 3, 4, 5, 6, 7, 8, 9, 10, 4, 7, 8, 10, 1, 2, 3, 4, 5, 6, 7, 8, 9, 10, 1, 2, 3, 4, 5, 6, 7, 8, 9, 10, 7, 8, 2, 2, 8, 1, 2, 4, 5, 6, 7, 8, 9, 1, 2, 3, 4, 5, 6, 7, 9, 10, 4, 1, 2, 3, 10, 1, 2, 3, 4, 5, 6, 7, 8, 9, 1, 7, 9, 5, 1, 2, 3, 4, 5, 6, 7, 8, 9, 10, 10, 8, 1, 2, 3, 4, 5, 6, 7, 8, 9, 10, 1, 2, 3, 4, 5, 6, 7, 8, 9, 10, 5, 4, 10, 1, 1, 2, 3, 4, 5, 6, 7, 8, 9, 10, 10, 4, 9, 1, 4, 8, 4, 6, 8, 9, 1, 2, 3, 4, 5, 6, 7, 8, 9, 10, 8, 5, 1, 2, 3, 7, 8, 9, 1, 2, 3, 4, 5, 6, 7, 8, 9, 10, 1, 2, 3, 4, 5, 6, 7, 8, 9, 10, 5, 9, 1, 5, 7, 1, 5, 8, 6, 8, 10, 2, 5, 3, 2, 1, 5, 6, 10, 1, 2, 3, 4, 5, 6, 7, 8, 9, 10, 1, 2, 3, 4, 5, 6, 7, 8, 9, 10, 1, 2, 4, 5, 6, 7, 9, 10, 3, 1, 4, 5, 6, 7, 2, 1, 1, 2, 3, 4, 5, 6, 7, 8, 9, 10, 1, 2, 3, 10, 1, 7, 9, 1, 2, 3, 4, 5, 6, 7, 8, 9, 10, 6, 10, 1, 2, 3, 4, 5, 6, 7, 8, 9, 10, 1, 4, 8, 10, 1, 2, 3, 4, 5, 6, 7, 8, 9, 10, 2, 4, 5, 6, 9, 1, 2, 4, 5, 6, 8, 9, 10, 2, 1, 2, 3, 4, 5, 6, 7, 8, 9, 10, 1, 2, 3, 4, 5, 6, 7, 8, 9, 10, 2, 3, 4, 5, 7, 1, 2, 3, 4, 5, 6, 7, 8, 9, 10, 1, 2, 7, 4, 10, 1, 2, 3, 4, 5, 6, 7, 8, 9, 10, 9, 9, 1, 3, 4, 5, 6, 7, 8, 2, 8, 9, 1, 2, 3, 4, 5, 6, 7, 8, 9, 10, 9, 1, 2, 3, 4, 5, 6, 7, 8, 9, 10, 1, 2, 3, 4, 5, 6, 7, 8, 9, 10, 2, 9, 6, 1, 2, 3, 4, 5, 6, 7, 8, 9, 10, 1, 2, 3, 4, 5, 6, 7, 8, 9, 10, 5, 4, 1, 6, 7, 1, 10, 1, 2, 3, 4, 8, 10, 1, 2, 3, 4, 7, 8, 9, 3, 1, 2, 3, 4, 5, 7, 8, 9, 1, 2, 5, 10, 1, 2, 3, 4, 5, 6, 7, 8, 9, 10, 2, 6, 7, 1, 2, 3, 4, 6, 7, 8, 9, 10, 2, 1, 1, 3, 5, 9, 10, 1, 2, 3, 4, 5, 6, 7, 8, 9, 1, 2, 3, 4, 5, 6, 7, 8, 9, 10, 7, 8, 9, 1, 2, 3, 4, 5, 7, 8, 9, 10, 1, 2, 3, 4, 5, 6, 7, 8, 9, 10, 1, 2, 3, 4, 6, 7, 8, 9, 10, 1, 2, 5, 6, 7, 8, 9, 1, 1, 2, 3, 4, 5, 6, 7, 8, 9, 10, 9, 1, 4, 5, 6, 7, 8, 9, 10, 5, 5, 9, 1, 2, 3, 4, 5, 6, 7, 8, 9, 10, 2, 8, 1, 2, 4, 5, 7, 10, 1, 2, 3, 4, 5, 6, 7, 8, 9, 10, 10, 8, 1, 2, 3, 4, 5, 6, 7, 8, 9, 10, 10, 1, 2, 3, 4, 5, 6, 7, 9, 10, 4, 1, 2, 3, 4, 5, 6, 7, 8, 9, 10, 1, 2, 3, 4, 5, 6, 7, 8, 9, 10, 1, 2, 3, 4, 5, 6, 7, 8, 9, 10, 1, 2, 3, 4, 5, 6, 7, 8, 9, 10, 3, 4], \"Freq\": [0.2628975808620453, 0.21808254718780518, 0.13496625423431396, 0.004689947236329317, 0.054194945842027664, 0.009379894472658634, 0.034132394939661026, 0.27670687437057495, 0.0023449736181646585, 0.0028660788666456938, 0.9812355041503906, 0.3080044388771057, 0.1251765638589859, 0.0668882429599762, 0.027392327785491943, 0.23060518503189087, 0.19397591054439545, 0.014014679938554764, 0.016562802717089653, 0.011785071343183517, 0.00573327811434865, 0.9723081588745117, 0.1577390432357788, 0.8173750638961792, 0.021509870886802673, 0.9829421043395996, 0.11566271632909775, 0.09786844998598099, 0.5795845985412598, 0.1080366000533104, 0.022878339514136314, 0.04321464151144028, 0.020336301997303963, 0.008897132240235806, 0.0025420377496629953, 0.0025420377496629953, 0.9798265099525452, 0.9751133322715759, 0.9718347787857056, 0.9631654024124146, 0.9727539420127869, 0.285801500082016, 0.00929435808211565, 0.0023235895205289125, 0.29044869542121887, 0.39965739846229553, 0.011617947369813919, 0.2864809036254883, 0.0898461639881134, 0.17609848082065582, 0.13930433988571167, 0.10952675342559814, 0.07410169392824173, 0.03747868537902832, 0.05938403680920601, 0.016771283000707626, 0.011123810894787312, 0.13610319793224335, 0.13970308005809784, 0.5176905989646912, 0.0701976865530014, 0.020353175699710846, 0.02243002876639366, 0.0031845103949308395, 0.06964385509490967, 0.0034614242613315582, 0.017168665304780006, 0.036773208528757095, 0.02451547235250473, 0.9315879940986633, 0.09138361364603043, 0.11186922341585159, 0.2162567377090454, 0.2556247413158417, 0.021910691633820534, 0.09939972311258316, 0.027432898059487343, 0.11436311900615692, 0.04595901072025299, 0.01549780648201704, 0.04042260721325874, 0.949931263923645, 0.9822775721549988, 0.9548949003219604, 0.009410948492586613, 0.009410948492586613, 0.004705474246293306, 0.05176021531224251, 0.8705127239227295, 0.014116422273218632, 0.009410948492586613, 0.028232844546437263, 0.004705474246293306, 0.9715080857276917, 0.1562657207250595, 0.034388571977615356, 0.3545057475566864, 0.29432573914527893, 0.008597142994403839, 0.047537144273519516, 0.010114286094903946, 0.086982861161232, 0.0055628577247262, 0.001517142984084785, 0.9781540632247925, 0.9766969680786133, 0.9002276062965393, 0.018309714272618294, 0.012206475250422955, 0.006103237625211477, 0.018309714272618294, 0.0030516188126057386, 0.0213613323867321, 0.0213613323867321, 0.9754084348678589, 0.9854817390441895, 0.9884350895881653, 0.5567551851272583, 0.08191268146038055, 0.20697858929634094, 0.0640237033367157, 0.017418213188648224, 0.036091793328523636, 0.008473725989460945, 0.01820281893014908, 0.0073752799071371555, 0.002824575174599886, 0.03986410051584244, 0.9567384123802185, 0.8526899814605713, 0.02455747127532959, 0.03001468814909458, 0.012278735637664795, 0.009550128132104874, 0.016371646896004677, 0.02728607878088951, 0.006821519695222378, 0.017735950648784637, 0.0027286079712212086, 0.9867671132087708, 0.1317461133003235, 0.6399096846580505, 0.05411001294851303, 0.025878701359033585, 0.018820874392986298, 0.05646262317895889, 0.014115655794739723, 0.05646262317895889, 0.22327002882957458, 0.04177071899175644, 0.32677268981933594, 0.14231616258621216, 0.02107018604874611, 0.06986429542303085, 0.008871656842529774, 0.1312265843153, 0.029941841959953308, 0.004435828421264887, 0.9776228070259094, 0.02036714181303978, 0.047082867473363876, 0.005090039689093828, 0.023541433736681938, 0.002545019844546914, 0.0019087648252025247, 0.002545019844546914, 0.010180079378187656, 0.8933019638061523, 0.002545019844546914, 0.012725098989903927, 0.9746220111846924, 0.02307737246155739, 0.02307737246155739, 0.946172297000885, 0.011538686230778694, 0.9737956523895264, 0.450703889131546, 0.033866290003061295, 0.05065832659602165, 0.0598304457962513, 0.12530528008937836, 0.2137809544801712, 0.013405406847596169, 0.01961422711610794, 0.014252063818275928, 0.018767569214105606, 0.971136748790741, 0.5986587405204773, 0.01908292807638645, 0.026170872151851654, 0.011449757032096386, 0.10304781049489975, 0.15429911017417908, 0.037620630115270615, 0.025625646114349365, 0.00981407705694437, 0.014721116051077843, 0.9377529621124268, 0.026341376826167107, 0.026341376826167107, 0.024682026356458664, 0.9625990390777588, 0.9833581447601318, 0.04549965262413025, 0.01179620623588562, 0.1129065454006195, 0.534199595451355, 0.010111033916473389, 0.0320182740688324, 0.07583275437355042, 0.13649895787239075, 0.020222067832946777, 0.02190724015235901, 0.97226482629776, 0.9785853624343872, 0.9649919271469116, 0.9823321104049683, 0.007324724458158016, 0.007324724458158016, 0.003662362229079008, 0.007324724458158016, 0.021974172443151474, 0.9485517740249634, 0.9828078150749207, 0.9556317925453186, 0.9862238764762878, 0.982532799243927, 0.002902983222156763, 0.0899924784898758, 0.7083278894424438, 0.18579092621803284, 0.011611932888627052, 0.22784295678138733, 0.0027124162297695875, 0.12205872684717178, 0.0027124162297695875, 0.008137248456478119, 0.008137248456478119, 0.008137248456478119, 0.5479080677032471, 0.0027124162297695875, 0.07052282243967056, 0.9696746468544006, 0.987869918346405, 0.9833393692970276, 0.013650847598910332, 0.8702415227890015, 0.013650847598910332, 0.06142881512641907, 0.023888982832431793, 0.017063559964299202, 0.9093989133834839, 0.021524235606193542, 0.05919164419174194, 0.005381058901548386, 0.9782593846321106, 0.9851871132850647, 0.9820387959480286, 0.9712691903114319, 0.9863883852958679, 0.08474172651767731, 0.2220817655324936, 0.0029221284203231335, 0.6896222829818726, 0.9827661514282227, 0.9260468482971191, 0.009214396588504314, 0.03685758635401726, 0.01842879317700863, 0.9808071851730347, 0.11886909604072571, 0.8527565598487854, 0.010336442850530148, 0.015504664741456509, 0.006155588664114475, 0.006155588664114475, 0.9787386059761047, 0.7410241365432739, 0.10226406157016754, 0.027517618611454964, 0.03981272503733635, 0.014832192100584507, 0.04274013265967369, 0.013466069474816322, 0.012880587950348854, 0.0037080480251461267, 0.001756443758495152, 0.01690341904759407, 0.971946656703949, 0.9882521629333496, 0.985016405582428, 0.06163796782493591, 0.890326201915741, 0.03424331545829773, 0.013697326183319092, 0.1388789415359497, 0.4200388491153717, 0.17735981941223145, 0.11045297980308533, 0.019958650693297386, 0.03197919949889183, 0.02086586132645607, 0.025779923424124718, 0.022377880290150642, 0.032281603664159775, 0.982702374458313, 0.002749294973909855, 0.9952448010444641, 0.013518577441573143, 0.027037154883146286, 0.013518577441573143, 0.9327818155288696, 0.9906752705574036, 0.07344433665275574, 0.9180542230606079, 0.6255468130111694, 0.042248260229825974, 0.12674477696418762, 0.06677950173616409, 0.026575516909360886, 0.03304903954267502, 0.03918185085058212, 0.02896049991250038, 0.0085177943110466, 0.002384982304647565, 0.9875653982162476, 0.9752386808395386, 0.13092994689941406, 0.19019865989685059, 0.46498993039131165, 0.011314934119582176, 0.009698514826595783, 0.0005388063727878034, 0.008620901964604855, 0.11584337800741196, 0.0016164191765710711, 0.06627318263053894, 0.021963248029351234, 0.9444196820259094, 0.01338411308825016, 0.9636561274528503, 0.003023472847416997, 0.003023472847416997, 0.069539874792099, 0.0015117364237084985, 0.2403661012649536, 0.33862897753715515, 0.003023472847416997, 0.1043098121881485, 0.23734262585639954, 0.018845656886696815, 0.009422828443348408, 0.923437237739563, 0.04711414501070976, 0.02008131518959999, 0.9639031291007996, 0.010040657594799995, 0.9851217865943909, 0.41667404770851135, 0.0084365950897336, 0.43214112520217896, 0.07874155044555664, 0.0018747987924143672, 0.014998390339314938, 0.014060990884900093, 0.011717492714524269, 0.020154086872935295, 0.001406099065206945, 0.37401726841926575, 0.24104592204093933, 0.19294990599155426, 0.010185038670897484, 0.01754090003669262, 0.040174320340156555, 0.00792169664055109, 0.006224190350621939, 0.09449452906847, 0.01584339328110218, 0.9781633615493774, 0.9875262975692749, 0.008662511594593525, 0.4783239960670471, 0.05785951018333435, 0.1108037680387497, 0.11234856396913528, 0.050275981426239014, 0.0793461725115776, 0.020503612235188484, 0.0509781613945961, 0.0234527625143528, 0.01600966975092888, 0.13862039148807526, 0.01763513870537281, 0.0483941026031971, 0.5446386933326721, 0.009842867963016033, 0.05003457888960838, 0.009432748891413212, 0.15625552833080292, 0.02501728944480419, 0.0004101195081602782, 0.04003242775797844, 0.04003242775797844, 0.9207457900047302, 0.07691433280706406, 0.7750598192214966, 0.014791217632591724, 0.01774946227669716, 0.02958243526518345, 0.03549892455339432, 0.04437365382909775, 0.00591648742556572, 0.017164580523967743, 0.6329439282417297, 0.16628187894821167, 0.056857675313949585, 0.001072786282747984, 0.012873435392975807, 0.041838664561510086, 0.015019007958471775, 0.03647473454475403, 0.020382938906550407, 0.9855319261550903, 0.036147430539131165, 0.9398331642150879, 0.17944201827049255, 0.3571750819683075, 0.1264639049768448, 0.21077316999435425, 0.023355945944786072, 0.03930634632706642, 0.021077316254377365, 0.025064917281270027, 0.01310211606323719, 0.0034179433714598417, 0.972599446773529, 0.1275193840265274, 0.6388471126556396, 0.02250342071056366, 0.01250190008431673, 0.11501748114824295, 0.016252469271421432, 0.055008359253406525, 0.005000759847462177, 0.0037505701184272766, 0.0025003799237310886, 0.9910299777984619, 0.043810345232486725, 0.007301724050194025, 0.001460344879887998, 0.47315171360969543, 0.05111207067966461, 0.19714654982089996, 0.2161310315132141, 0.008762069046497345, 0.002920689759775996, 0.13231642544269562, 0.049618661403656006, 0.007633639965206385, 0.10687095671892166, 0.6056020855903625, 0.02290092036128044, 0.050890933722257614, 0.01526727993041277, 0.006361366715282202, 0.0012722733663395047, 0.9783746600151062, 0.9659561514854431, 0.9618974328041077, 0.008151672780513763, 0.02445502020418644, 0.02786470577120781, 0.018576471135020256, 0.8452293872833252, 0.03715294227004051, 0.06501764804124832, 0.3435647785663605, 0.08246276527643204, 0.02851010300219059, 0.105379119515419, 0.1618579924106598, 0.08318454027175903, 0.11873195320367813, 0.057922426611185074, 0.005593754351139069, 0.01245061494410038, 0.24117739498615265, 0.0771767646074295, 0.5865433812141418, 0.05595315247774124, 0.015435352921485901, 0.0038588382303714752, 0.005788257345557213, 0.015435352921485901, 0.9819908738136292, 0.9884166717529297, 0.988804280757904, 0.9752693176269531, 0.017401326447725296, 0.19141459465026855, 0.7134543657302856, 0.06960530579090118, 0.0058004423044621944, 0.01705625280737877, 0.04690469428896904, 0.008528126403689384, 0.8059079647064209, 0.004264063201844692, 0.012792189605534077, 0.004264063201844692, 0.08101720362901688, 0.025584379211068153, 0.9807325601577759, 0.9872438907623291, 0.012878187000751495, 0.012878187000751495, 0.9529858231544495, 0.012878187000751495, 0.4076877236366272, 0.09372792392969131, 0.05443503335118294, 0.03220100328326225, 0.10196984559297562, 0.22502368688583374, 0.03258435055613518, 0.02453409880399704, 0.018017228692770004, 0.009775305166840553, 0.017505735158920288, 0.017505735158920288, 0.035011470317840576, 0.035011470317840576, 0.017505735158920288, 0.8927925229072571, 0.016024338081479073, 0.04095108434557915, 0.023146264255046844, 0.035609640181064606, 0.007121927570551634, 0.0053414455614984035, 0.03739012032747269, 0.8279240727424622, 0.003560963785275817, 0.003560963785275817, 0.016536137089133263, 0.0055120461620390415, 0.02756023034453392, 0.9480718970298767, 0.0068053812719881535, 0.0034026906359940767, 0.0034026906359940767, 0.0034026906359940767, 0.9765722155570984, 0.0034026906359940767, 0.9797849655151367, 0.013557901605963707, 0.016269482672214508, 0.9029562473297119, 0.032538965344429016, 0.00542316073551774, 0.029827384278178215, 0.010366501286625862, 0.057015758007764816, 0.9226186275482178, 0.0017277502920478582, 0.0034555005840957165, 0.0017277502920478582, 0.01797003485262394, 0.03594006970524788, 0.07188013941049576, 0.8445916175842285, 0.01797003485262394, 0.21567019820213318, 0.030810028314590454, 0.06162005662918091, 0.6059305667877197, 0.043647538870573044, 0.002567502437159419, 0.010270009748637676, 0.0077025070786476135, 0.02310752123594284, 0.002567502437159419, 0.9801590442657471, 0.008202167227864265, 0.008202167227864265, 0.014409387484192848, 0.9798383712768555, 0.9696727395057678, 0.3553122580051422, 0.2917836904525757, 0.13159091770648956, 0.12218756973743439, 0.02412406913936138, 0.01365724578499794, 0.015168498270213604, 0.03593422845005989, 0.004030006937682629, 0.00632487190887332, 0.06897629797458649, 0.9225579500198364, 0.9769508242607117, 0.0779038593173027, 0.2653018534183502, 0.24584612250328064, 0.1418529748916626, 0.06771083176136017, 0.08417337387800217, 0.0474865660071373, 0.023217452690005302, 0.011163792572915554, 0.035311561077833176, 0.9867346882820129, 0.030538668856024742, 0.9528064727783203, 0.012215467169880867, 0.031491272151470184, 0.9657323956489563, 0.9789332151412964, 0.9869369864463806, 0.008951472118496895, 0.9757104516029358, 0.03199157491326332, 0.9597471952438354, 0.9986402988433838, 0.9788318872451782, 0.00785176269710064, 0.9814702868461609, 0.014924346469342709, 0.9775447249412537, 0.018321175128221512, 0.07328470051288605, 0.009160587564110756, 0.018321175128221512, 0.8702557682991028, 0.9891823530197144, 0.015211893245577812, 0.97356116771698, 0.9625318646430969, 0.9874308705329895, 0.9808582067489624, 0.013814904727041721, 0.9352267980575562, 0.05969532951712608, 0.9949360489845276, 0.9907251000404358, 0.9925786256790161, 0.018923319876194, 0.9650892615318298, 0.9947187900543213, 0.9838683009147644, 0.010946121998131275, 0.0437844879925251, 0.010946121998131275, 0.010946121998131275, 0.8866358995437622, 0.0328383669257164, 0.012074419297277927, 0.9780279397964478, 0.9887589812278748, 0.005403054412454367, 0.8446940183639526, 0.024843940511345863, 0.12421970814466476, 0.9850679636001587, 0.9866007566452026, 0.9732337594032288, 0.009830644354224205, 0.992978036403656, 0.9695915579795837, 0.9746601581573486, 0.9898104667663574, 0.9771276116371155, 0.3061125874519348, 0.0666779950261116, 0.4798794984817505, 0.07071908563375473, 0.008082181215286255, 0.015154088847339153, 0.029297905042767525, 0.01717463508248329, 0.007071908097714186, 0.9621168375015259, 0.9807915091514587, 0.9869616031646729, 0.9782152771949768, 0.9784606695175171, 0.011118871159851551, 0.7682042717933655, 0.07709576934576035, 0.013767101801931858, 0.0009178067557513714, 0.002753420267254114, 0.0128492945805192, 0.10004093497991562, 0.005506840534508228, 0.01743832789361477, 0.0009178067557513714, 0.9910344481468201, 0.9691269993782043, 0.9801835417747498, 0.9689422249794006, 0.009066164493560791, 0.9338148832321167, 0.009066164493560791, 0.036264657974243164, 0.43930020928382874, 0.08821920305490494, 0.0581393726170063, 0.08911710977554321, 0.11201369017362595, 0.06711842864751816, 0.07766881585121155, 0.045344218611717224, 0.010325911454856396, 0.012795151211321354, 0.2412841022014618, 0.03239748254418373, 0.24868923425674438, 0.3070046901702881, 0.011416255496442318, 0.06726334244012833, 0.034865859895944595, 0.03980261832475662, 0.009873517788946629, 0.00709659093990922, 0.9677785038948059, 0.9319769144058228, 0.01350691169500351, 0.04052073508501053, 0.0033767279237508774, 0.0033767279237508774, 0.0033767279237508774, 0.006753455847501755, 0.07367276400327682, 0.18418191373348236, 0.4440011978149414, 0.08644270896911621, 0.01719031296670437, 0.10215956717729568, 0.029960257932543755, 0.0029469106812030077, 0.02553989179432392, 0.03388947248458862, 0.003322452073916793, 0.006644904147833586, 0.1628001481294632, 0.8140007853507996, 0.003322452073916793, 0.006644904147833586, 0.24681535363197327, 0.06490694731473923, 0.2532919645309448, 0.1524820476770401, 0.038014914840459824, 0.08560395240783691, 0.06941241770982742, 0.06138704717159271, 0.024498499929904938, 0.003519899444654584, 0.9709100723266602, 0.9814666509628296, 0.01854643225669861, 0.9736876487731934, 0.057341210544109344, 0.9365730881690979, 0.021151822060346603, 0.0025900190230458975, 0.007770057301968336, 0.17094126343727112, 0.710528552532196, 0.01856180466711521, 0.06475047767162323, 0.0017266793875023723, 0.0012950095115229487, 0.00043166984687559307, 0.006380248814821243, 0.14355559647083282, 0.047851864248514175, 0.7975310683250427, 0.9862015843391418, 0.9852573871612549, 0.0304830651730299, 0.10669072717428207, 0.10288034379482269, 0.7544558644294739, 0.02068851701915264, 0.9723603129386902, 0.09808230400085449, 0.535112738609314, 0.21222233772277832, 0.05598503351211548, 0.01822768524289131, 0.0104158204048872, 0.0060758949257433414, 0.04079529643058777, 0.0030379474628716707, 0.019529663026332855, 0.9864165782928467, 0.043658461421728134, 0.9386569261550903, 0.016158998012542725, 0.7756319046020508, 0.005386332515627146, 0.18313531577587128, 0.005386332515627146, 0.010772665031254292, 0.9526964426040649, 0.02323649823665619, 0.9869608283042908, 0.2514697313308716, 0.1066013053059578, 0.05037204548716545, 0.09625355899333954, 0.14193983376026154, 0.20246437191963196, 0.019914528355002403, 0.04920060187578201, 0.06599128246307373, 0.015619237907230854, 0.19345435500144958, 0.005862253252416849, 0.02931126579642296, 0.005862253252416849, 0.7620929479598999, 0.013331800699234009, 0.6899207234382629, 0.06999195367097855, 0.036662451922893524, 0.039995402097702026, 0.08332375437021255, 0.02999655157327652, 0.03332950174808502, 0.9848845601081848, 0.9867585897445679, 0.006325375288724899, 0.006325375288724899, 0.9758929014205933, 0.27103930711746216, 0.226690873503685, 0.07080521434545517, 0.12638349831104279, 0.17092224955558777, 0.020937025547027588, 0.030644191429018974, 0.05234256014227867, 0.010658849030733109, 0.019414331763982773, 0.3367230296134949, 0.04730648547410965, 0.08469720184803009, 0.12250107526779175, 0.07333537936210632, 0.1018432155251503, 0.03181309625506401, 0.15844574570655823, 0.03759729489684105, 0.005784199107438326, 0.9829290509223938, 0.9659979343414307, 0.12966860830783844, 0.08962389081716537, 0.10487902164459229, 0.11059968918561935, 0.5129537582397461, 0.03241715207695961, 0.007627564948052168, 0.001906891237013042, 0.007627564948052168, 0.003813782474026084, 0.07023943215608597, 0.007023942656815052, 0.015452674590051174, 0.037929292768239975, 0.4593658745288849, 0.3441731929779053, 0.056191541254520416, 0.0028095771558582783, 0.0056191543117165565, 0.0014047885779291391, 0.9780086278915405, 0.9702058434486389, 0.9466211795806885, 0.013056843541562557, 0.03264210745692253, 0.9644637107849121, 0.1433895379304886, 0.010003920644521713, 0.16339737176895142, 0.020007841289043427, 0.4735189378261566, 0.02334248274564743, 0.1567280888557434, 0.010003920644521713, 0.0730617344379425, 0.005383496172726154, 0.004614425357431173, 0.03153190761804581, 0.09921014308929443, 0.372999370098114, 0.3468509614467621, 0.004614425357431173, 0.03845354542136192, 0.023072127252817154, 0.9682639837265015, 0.9825869798660278, 0.9754421710968018, 0.007856479845941067, 0.9820600152015686, 0.007856479845941067, 0.008344781585037708, 0.002781593706458807, 0.016689563170075417, 0.9679946303367615, 0.002781593706458807, 0.9892196655273438, 0.2005651593208313, 0.022444196045398712, 0.5759085416793823, 0.1321183145046234, 0.005571254529058933, 0.028970522806048393, 0.004934539552778006, 0.01894226484000683, 0.0071630412712693214, 0.0035019314382225275, 0.9840709567070007, 0.9837093949317932, 0.9696858525276184, 0.01425707247108221, 0.042771220207214355, 0.007128536235541105, 0.007128536235541105, 0.8482958078384399, 0.03564268350601196, 0.021385610103607178, 0.01425707247108221, 0.017504286020994186, 0.017504286020994186, 0.9452313780784607, 0.5313893556594849, 0.05977465584874153, 0.0710114911198616, 0.04654311388731003, 0.11303327232599258, 0.11396413296461105, 0.02254016511142254, 0.025532221421599388, 0.010172994807362556, 0.006050604395568371, 0.9812155961990356, 0.010550704784691334, 0.9741725921630859, 0.3838510811328888, 0.17072181403636932, 0.025116855278611183, 0.07225646078586578, 0.11484590917825699, 0.09045708179473877, 0.049687691032886505, 0.04186142608523369, 0.03166908025741577, 0.019474662840366364, 0.012443723157048225, 0.02488744631409645, 0.9457229375839233, 0.0017222637543454766, 0.004305659327656031, 0.010333582758903503, 0.9782457947731018, 0.0017222637543454766, 0.0034445275086909533, 0.40900877118110657, 0.04806701838970184, 0.09010370820760727, 0.13313569128513336, 0.09150883555412292, 0.11639127135276794, 0.0294490996748209, 0.05005761608481407, 0.013758526183664799, 0.018559373915195465, 0.9731548428535461, 0.2184455394744873, 0.17335939407348633, 0.13036881387233734, 0.17983657121658325, 0.07378887385129929, 0.09982453286647797, 0.029337745159864426, 0.05016627162694931, 0.02908373810350895, 0.015811901539564133, 0.967924952507019, 0.9819433689117432, 0.17853690683841705, 0.05925355479121208, 0.3791537582874298, 0.14507202804088593, 0.04208986088633537, 0.10048092156648636, 0.012074960395693779, 0.06529103219509125, 0.01095371413975954, 0.007158726453781128, 0.08531372249126434, 0.9018878936767578, 0.012187673710286617, 0.9718357920646667, 0.9778240919113159, 0.9729259610176086, 0.9727078080177307, 0.20851096510887146, 0.05746612325310707, 0.18966960906982422, 0.28262028098106384, 0.09797503054141998, 0.040194883942604065, 0.019469397142529488, 0.05495394393801689, 0.01256090123206377, 0.03705465793609619, 0.788864016532898, 0.02329978160560131, 0.1464557647705078, 0.013314160518348217, 0.0033285401295870543, 0.019971240311861038, 0.0033285401295870543, 0.9855849146842957, 0.9663878083229065, 0.08483441919088364, 0.015906453132629395, 0.11664732545614243, 0.08483441919088364, 0.015906453132629395, 0.5885387659072876, 0.09543872624635696, 0.011810711584985256, 0.08464343100786209, 0.025589874014258385, 0.037400584667921066, 0.17322376370429993, 0.6161254644393921, 0.02165297046303749, 0.007873808033764362, 0.00984225980937481, 0.013779163360595703, 0.1174146756529808, 0.6163128018379211, 0.07401236146688461, 0.037006180733442307, 0.09091642498970032, 0.014162859879434109, 0.009137328714132309, 0.006396130193024874, 0.007766729686409235, 0.027411986142396927, 0.015778489410877228, 0.015778489410877228, 0.946709394454956, 0.1884293258190155, 0.670922577381134, 0.09135967493057251, 0.002854989841580391, 0.03140488639473915, 0.008564969524741173, 0.002854989841580391, 0.002854989841580391, 0.9829791188240051, 0.028946101665496826, 0.9359239339828491, 0.028946101665496826, 0.9740931987762451, 0.030067987740039825, 0.7262575626373291, 0.013877532444894314, 0.02544214390218258, 0.02312922105193138, 0.02312922105193138, 0.11795902997255325, 0.027755064889788628, 0.002312922151759267, 0.006938766222447157, 0.14810828864574432, 0.1746118813753128, 0.05248750001192093, 0.09839240461587906, 0.2868623733520508, 0.1261085718870163, 0.020960353314876556, 0.03603102266788483, 0.027369718998670578, 0.029275204986333847, 0.9675338268280029, 0.15450991690158844, 0.053231608122587204, 0.5177983641624451, 0.15347294509410858, 0.026270143687725067, 0.04459011182188988, 0.006913195829838514, 0.017974309623241425, 0.02246788516640663, 0.0031109380070120096, 0.29682132601737976, 0.02597186714410782, 0.24858787655830383, 0.0037102666683495045, 0.0037102666683495045, 0.11501827090978622, 0.3116624057292938, 0.9546093344688416, 0.9774878025054932, 0.9779929518699646, 0.036106210201978683, 0.13350901007652283, 0.3918503224849701, 0.1810908317565918, 0.043943215161561966, 0.07193252444267273, 0.017633264884352684, 0.032187703996896744, 0.06185637414455414, 0.029388774186372757, 0.9709910750389099, 0.007684849668294191, 0.015369699336588383, 0.007684849668294191, 0.11527274549007416, 0.7992243766784668, 0.0038424248341470957, 0.0038424248341470957, 0.0038424248341470957, 0.04610909894108772, 0.9787784218788147, 0.9760240316390991, 0.20520462095737457, 0.08233007788658142, 0.0074469419196248055, 0.00455090869218111, 0.002482313895598054, 0.01075669378042221, 0.5109429359436035, 0.14273305237293243, 0.031028924509882927, 0.0028960329946130514, 0.7453679442405701, 0.029971087351441383, 0.06037653982639313, 0.013465271331369877, 0.033445995301008224, 0.056467264890670776, 0.027364905923604965, 0.012162180617451668, 0.011727817356586456, 0.009990362450480461, 0.9821433424949646, 0.12254559248685837, 0.326955646276474, 0.09793602675199509, 0.06227726861834526, 0.05976608768105507, 0.061272796243429184, 0.04620571434497833, 0.20742347836494446, 0.009542484767735004, 0.006026832386851311, 0.01827424392104149, 0.9685348868370056, 0.968752384185791, 0.018793711438775063, 0.9772730469703674, 0.7965356707572937, 0.018417010083794594, 0.06906379014253616, 0.11050205677747726, 0.0046042525209486485, 0.9496710300445557, 0.011172600090503693, 0.011172600090503693, 0.011172600090503693, 0.9851247072219849, 0.021037710830569267, 0.018933940678834915, 0.0042075421661138535, 0.03576410934329033, 0.10308478772640228, 0.6900368928909302, 0.0021037710830569267, 0.014726397581398487, 0.08835838735103607, 0.021037710830569267, 0.02078230492770672, 0.027176860719919205, 0.01918366551399231, 0.006394555326551199, 0.08952377736568451, 0.735373854637146, 0.01918366551399231, 0.0015986388316377997, 0.06874147057533264, 0.012789110653102398, 0.006994303315877914, 0.22381770610809326, 0.04196581989526749, 0.7274075746536255, 0.6524674892425537, 0.1298779547214508, 0.016003919765353203, 0.035085514187812805, 0.11202743649482727, 0.015388383530080318, 0.02585248462855816, 0.006155353505164385, 0.003693212056532502, 0.003693212056532502, 0.9865209460258484, 0.9828827977180481, 0.22091993689537048, 0.28063735365867615, 0.07835754007101059, 0.0521232970058918, 0.21505175530910492, 0.11322146654129028, 0.008629685267806053, 0.004832623526453972, 0.004487436264753342, 0.021746806800365448, 0.9844465255737305, 0.960127592086792, 0.2318098247051239, 0.0041394610889256, 0.07037083804607391, 0.11176545172929764, 0.0165578443557024, 0.0041394610889256, 0.5629667043685913, 0.9589880704879761, 0.006553612649440765, 0.006553612649440765, 0.006553612649440765, 0.9764882326126099, 0.006553612649440765, 0.9602748155593872, 0.9896795153617859, 0.975435197353363, 0.9917696118354797, 0.9871570467948914, 0.9851959943771362, 0.8639478087425232, 0.1250450760126114, 0.9684040546417236, 0.17990979552268982, 0.008441515266895294, 0.6853455305099487, 0.017938220873475075, 0.009496704675257206, 0.0010551894083619118, 0.0005275947041809559, 0.057507824152708054, 0.0015827841125428677, 0.03904200717806816, 0.970737636089325, 0.9771925806999207, 0.19900824129581451, 0.1624726504087448, 0.31276676058769226, 0.15749052166938782, 0.010517820715904236, 0.051758747547864914, 0.027124905958771706, 0.05231231823563576, 0.013562452979385853, 0.013285668566823006, 0.962944746017456, 0.010277943685650826, 0.7965406775474548, 0.005138971842825413, 0.010277943685650826, 0.02569486014544964, 0.13361327350139618, 0.02055588737130165, 0.005920653697103262, 0.001973551232367754, 0.005920653697103262, 0.025656165555119514, 0.9512516856193542, 0.005920653697103262, 0.001973551232367754, 0.001973551232367754, 0.9819046854972839, 0.3286552429199219, 0.18478472530841827, 0.0375605970621109, 0.12810847163200378, 0.09172163903713226, 0.06371887028217316, 0.06204206123948097, 0.08316989243030548, 0.01089928112924099, 0.009390149265527725, 0.06725707650184631, 0.12413734197616577, 0.4934747517108917, 0.14412230253219604, 0.019600633531808853, 0.061492182314395905, 0.003843261394649744, 0.04880942031741142, 0.026518503203988075, 0.010376805439591408, 0.06825839728116989, 0.12676559388637543, 0.029253600165247917, 0.7703447937965393, 0.005892145913094282, 0.005892145913094282, 0.005892145913094282, 0.9722040891647339, 0.005892145913094282, 0.9844216108322144, 0.9856947660446167, 0.975129246711731, 0.9816285967826843, 0.9764968156814575, 0.02983650378882885, 0.9696863889694214, 0.004638036713004112, 0.009276073426008224, 0.9786257743835449, 0.004638036713004112, 0.9929471015930176, 0.9816616177558899, 0.013206210918724537, 0.004402070306241512, 0.9801230430603027, 0.062304165214300156, 0.26908954977989197, 0.0053710490465164185, 0.03867155313491821, 0.3786589503288269, 0.05747022107243538, 0.05156207084655762, 0.036523133516311646, 0.021484196186065674, 0.07788021117448807, 0.44997546076774597, 0.13469016551971436, 0.04626082256436348, 0.10301928967237473, 0.10622195899486542, 0.038076214492321014, 0.022596631199121475, 0.06974708288908005, 0.021351147443056107, 0.008006680756807327, 0.9889734983444214, 0.9741273522377014, 0.2410702407360077, 0.413560152053833, 0.1346668303012848, 0.12178203463554382, 0.03241979330778122, 0.01620989665389061, 0.002909468486905098, 0.008312767371535301, 0.0033251068089157343, 0.02576957829296589, 0.9900237321853638, 0.9913676977157593, 0.9299010038375854, 0.012398679740726948, 0.004132893402129412, 0.008265786804258823, 0.033063147217035294, 0.004132893402129412, 0.46082592010498047, 0.01715841144323349, 0.3912118077278137, 0.04461187124252319, 0.023041296750307083, 0.016668172553181648, 0.011765767820179462, 0.002451201668009162, 0.027453459799289703, 0.003921922761946917, 0.04632401838898659, 0.8603032231330872, 0.09264803677797318, 0.5929858088493347, 0.08340898901224136, 0.13423633575439453, 0.023024355992674828, 0.033016059547662735, 0.050827354192733765, 0.02910626120865345, 0.023024355992674828, 0.01042612362653017, 0.019983403384685516, 0.21894337236881256, 0.09458564221858978, 0.04215516149997711, 0.3045710325241089, 0.1396389752626419, 0.08905278146266937, 0.04347250983119011, 0.040574342012405396, 0.01949676312506199, 0.007377153262495995, 0.9837043881416321, 0.16398948431015015, 0.046369440853595734, 0.33533021807670593, 0.15531878173351288, 0.012629074975848198, 0.019980328157544136, 0.0077282399870455265, 0.21695619821548462, 0.00207343022339046, 0.0397721603512764, 0.9829350709915161, 0.33469557762145996, 0.10783199220895767, 0.09131976962089539, 0.14746132493019104, 0.1039552092552185, 0.05800815299153328, 0.03747556358575821, 0.0930427834391594, 0.015937883406877518, 0.010194502770900726, 0.12354358285665512, 0.03609556332230568, 0.04353794828057289, 0.5507364273071289, 0.006698145996779203, 0.04316582903265953, 0.0026048345025628805, 0.1633603423833847, 0.028653180226683617, 0.0014884768752381206, 0.34915485978126526, 0.09947145730257034, 0.05676906555891037, 0.3039405643939972, 0.021602386608719826, 0.06983096897602081, 0.018085720017552376, 0.07184049487113953, 0.006530954036861658, 0.0025119055062532425, 0.9883156418800354, 0.9663065671920776, 0.02635381557047367, 0.9687007069587708, 0.1630903035402298, 0.35843217372894287, 0.09125726670026779, 0.06450312584638596, 0.14769750833511353, 0.04471239447593689, 0.0678015872836113, 0.03151857480406761, 0.014293307438492775, 0.016858771443367004, 0.00944459903985262, 0.01888919807970524, 0.1511135846376419, 0.2361149787902832, 0.00944459903985262, 0.5666759610176086, 0.0028182039968669415, 0.0028182039968669415, 0.04509126394987106, 0.0028182039968669415, 0.03381844982504845, 0.9018253087997437, 0.0028182039968669415, 0.005636407993733883, 0.9584232568740845, 0.034229401499032974, 0.9855898022651672, 0.9779816269874573, 0.9920803308486938, 0.8393003344535828, 0.008720003068447113, 0.008720003068447113, 0.02398000843822956, 0.008720003068447113, 0.03924001380801201, 0.0697600245475769, 0.21162395179271698, 0.6363543272018433, 0.05596360191702843, 0.038544464856386185, 0.01111859641969204, 0.007412397302687168, 0.018530992791056633, 0.0007412397535517812, 0.007783017121255398, 0.011859836056828499, 0.36662110686302185, 0.13342224061489105, 0.0034805801697075367, 0.011601933278143406, 0.42231038212776184, 0.011601933278143406, 0.02668444812297821, 0.006961160339415073, 0.016242707148194313, 0.993274450302124, 0.9752982258796692, 0.98726487159729, 0.9674981832504272, 0.015627723187208176, 0.9689188003540039, 0.009813244454562664, 0.9813244342803955, 0.8421241641044617, 0.005285298451781273, 0.12156186252832413, 0.008808830752968788, 0.005285298451781273, 0.0017617660341784358, 0.0017617660341784358, 0.0017617660341784358, 0.008808830752968788, 0.8302497267723083, 0.03297623246908188, 0.07930992543697357, 0.009183255024254322, 0.008765834383666515, 0.019201351329684258, 0.011270358227193356, 0.0008348413393832743, 0.002504524076357484, 0.005426468793302774, 0.9884875416755676, 0.9595378637313843, 0.007801121100783348, 0.007801121100783348, 0.007801121100783348, 0.007801121100783348, 0.9666250944137573, 0.9796374440193176, 0.020691342651844025, 0.9724931120872498, 0.16559623181819916, 0.10747305303812027, 0.12830966711044312, 0.09869974106550217, 0.01315996516495943, 0.01315996516495943, 0.31583917140960693, 0.15024293959140778, 0.0032899912912398577, 0.00548331905156374, 0.9797660112380981, 0.16543984413146973, 0.0787334218621254, 0.059797532856464386, 0.040363334119319916, 0.2421800047159195, 0.2740720212459564, 0.04733971506357193, 0.057305969297885895, 0.022922387346625328, 0.011461193673312664, 0.0818997323513031, 0.5912761092185974, 0.05193641409277916, 0.04194864258170128, 0.0319608710706234, 0.029963316395878792, 0.10986549407243729, 0.029963316395878792, 0.0019975544419139624, 0.0319608710706234, 0.9814704656600952, 0.9732638597488403, 0.3274475932121277, 0.015349105931818485, 0.01023273728787899, 0.01023273728787899, 0.13046739995479584, 0.4988459348678589, 0.0025581843219697475, 0.9893116354942322, 0.317486435174942, 0.11796800047159195, 0.03828512877225876, 0.07812656462192535, 0.18333286046981812, 0.11983557045459747, 0.04419909417629242, 0.04637792333960533, 0.044821616262197495, 0.009960358962416649, 0.004511465784162283, 0.13985542953014374, 0.8481555581092834, 0.004511465784162283, 0.9831528663635254, 0.9844188690185547, 0.9868208169937134, 0.005057182163000107, 0.017700137570500374, 0.0025285910815000534, 0.0025285910815000534, 0.1441296935081482, 0.7636345028877258, 0.02275731973350048, 0.005057182163000107, 0.032871685922145844, 0.005057182163000107, 0.9672228693962097, 0.3390462398529053, 0.18917135894298553, 0.1348612904548645, 0.09282320737838745, 0.09987307339906693, 0.08812329918146133, 0.02075793221592903, 0.007963735610246658, 0.01736355386674404, 0.009922031313180923, 0.3228953778743744, 0.13743849098682404, 0.23555481433868408, 0.10719067603349686, 0.050097934901714325, 0.042725030332803726, 0.023063955828547478, 0.048207446932792664, 0.012099123559892178, 0.020795369520783424, 0.9924660325050354, 0.9786148071289062, 0.5109845399856567, 0.005579839460551739, 0.2845717966556549, 0.12082498520612717, 0.006009057629853487, 0.026826150715351105, 0.0036483565345406532, 0.03691278398036957, 0.0030045288149267435, 0.0017168736085295677, 0.405263751745224, 0.07638479024171829, 0.04455779492855072, 0.049744416028261185, 0.13390913605690002, 0.15724892914295197, 0.06884061545133591, 0.017210153862833977, 0.02098224125802517, 0.02593310736119747, 0.4515487253665924, 0.10323193669319153, 0.04772111028432846, 0.06257253140211105, 0.14083369076251984, 0.04127821326255798, 0.0841580480337143, 0.05037834867835045, 0.008699729107320309, 0.009573342278599739, 0.9646490812301636, 0.4424569606781006, 0.08189576119184494, 0.11102646589279175, 0.041222698986530304, 0.00247336202301085, 0.013466081582009792, 0.05386432632803917, 0.2019912153482437, 0.04891760274767876, 0.003022997872903943, 0.9680500030517578, 0.047192372381687164, 0.011798093095421791, 0.014747615903615952, 0.0029495232738554478, 0.923200786113739, 0.10486751794815063, 0.03932531923055649, 0.14419284462928772, 0.009831329807639122, 0.0032771099358797073, 0.6980244517326355, 0.07792025059461594, 0.020108452066779137, 0.06786602735519409, 0.017594896256923676, 0.002513556508347392, 0.8118787407875061, 0.3215542733669281, 0.07466716319322586, 0.30452489852905273, 0.2264672815799713, 0.007243254687637091, 0.014409452676773071, 0.011404273100197315, 0.01895575039088726, 0.005625080782920122, 0.01510295644402504, 0.37186938524246216, 0.14777164161205292, 0.04270464926958084, 0.10398243367671967, 0.11455691605806351, 0.06642945110797882, 0.05748181417584419, 0.054634835571050644, 0.0145060233771801, 0.025893930345773697, 0.8279581069946289, 0.0346788726747036, 0.021674295887351036, 0.026009155437350273, 0.041181161999702454, 0.0173394363373518, 0.019506866112351418, 0.006502288859337568, 0.002167429542168975, 0.990210771560669, 0.7380640506744385, 0.05899696424603462, 0.03491657227277756, 0.02648843266069889, 0.043344710022211075, 0.025284413248300552, 0.025284413248300552, 0.02046833373606205, 0.013244216330349445, 0.013244216330349445, 0.03407898545265198, 0.17891468107700348, 0.051118478178977966, 0.7326982021331787, 0.980144739151001, 0.014002067968249321, 0.05090813338756561, 0.07636220008134842, 0.8399841785430908, 0.019090550020337105, 0.01718747429549694, 0.9624986052513123, 0.9717113971710205, 0.02990197390317917, 0.9568631649017334, 0.009967324323952198, 0.984274685382843, 0.9644669890403748, 0.006605938076972961, 0.013211876153945923, 0.006605938076972961, 0.044072043150663376, 0.021644849330186844, 0.004172501154243946, 0.0046940636821091175, 0.20575645565986633, 0.6076204776763916, 0.00990968942642212, 0.003129375632852316, 0.04302891716361046, 0.05554641783237457, 0.0063417754136025906, 0.02219621278345585, 0.7483294606208801, 0.0031708877068012953, 0.0031708877068012953, 0.21244947612285614, 0.00479555781930685, 0.9878849387168884, 0.00479555781930685, 0.9793506264686584, 0.9878045320510864, 0.9294493198394775, 0.015490822494029999, 0.0038727056235074997, 0.00968176405876875, 0.0038727056235074997, 0.017427174374461174, 0.011618116870522499, 0.0038727056235074997, 0.0038727056235074997, 0.9880194664001465, 0.1730121523141861, 0.4458434283733368, 0.1624078005552292, 0.10627394914627075, 0.021669741719961166, 0.019940773025155067, 0.009912754409015179, 0.024436092004179955, 0.013024898245930672, 0.023283446207642555, 0.9760558605194092, 0.9876123666763306, 0.9782538414001465, 0.9699482321739197, 0.9688490629196167, 0.012582454830408096, 0.250378280878067, 0.062137674540281296, 0.5610666871070862, 0.0018275787588208914, 0.0018275787588208914, 0.0054827360436320305, 0.0054827360436320305, 0.11330988258123398, 0.2141619622707367, 0.01973843015730381, 0.5467544794082642, 0.0019738429691642523, 0.015790743753314018, 0.2013319879770279, 0.976967990398407, 0.03176546469330788, 0.03327810391783714, 0.052942439913749695, 0.07563205808401108, 0.06353092938661575, 0.3373189866542816, 0.3811855614185333, 0.012101128697395325, 0.009075846523046494, 0.003025282174348831, 0.9915068745613098, 0.012275107204914093, 0.9820085763931274, 0.9150241017341614, 0.014939169399440289, 0.003734792349860072, 0.003734792349860072, 0.011204376816749573, 0.04855230078101158, 0.005653005558997393, 0.005653005558997393, 0.9610109329223633, 0.02261202223598957, 0.0021529211662709713, 0.0021529211662709713, 0.0021529211662709713, 0.988190770149231, 0.0021529211662709713, 0.13682858645915985, 0.6882187128067017, 0.10131138563156128, 0.022125475108623505, 0.006986991968005896, 0.018049729987978935, 0.011062737554311752, 0.0052402438595891, 0.008733740076422691, 0.001746747992001474, 0.019914796575903893, 0.9758250117301941, 0.4241200089454651, 0.03251345828175545, 0.20989243686199188, 0.12553808093070984, 0.03775173798203468, 0.0659300684928894, 0.006683322135359049, 0.06484628468751907, 0.025830136612057686, 0.006863952148705721, 0.9753397703170776, 0.391255646944046, 0.011021286249160767, 0.5896388292312622, 0.32772573828697205, 0.03149766847491264, 0.49421343207359314, 0.06599511951208115, 0.02099844627082348, 0.02699800208210945, 0.016498779878020287, 0.007499445229768753, 0.007499445229768753, 0.0014998889528214931, 0.9492645859718323, 0.012274973094463348, 0.008183315396308899, 0.0040916576981544495, 0.012274973094463348, 0.008183315396308899, 0.051722653210163116, 0.1810292899608612, 0.4999856650829315, 0.1293066442012787, 0.1336168646812439, 0.9007837176322937, 0.05098775774240494, 0.03399183973670006, 0.11505995690822601, 0.5040342807769775, 0.18712173402309418, 0.06847859174013138, 0.026674799621105194, 0.016721516847610474, 0.007564495783299208, 0.032646771520376205, 0.00318505079485476, 0.03861873969435692, 0.9744270443916321, 0.9831963777542114, 0.015878595411777496, 0.00907348282635212, 0.006805112585425377, 0.022683707997202873, 0.001134185353294015, 0.001134185353294015, 0.943642258644104, 0.001134185353294015, 0.9706537127494812, 0.027066074311733246, 0.029148079454898834, 0.016656044870615005, 0.010410028509795666, 0.0020820056088268757, 0.0020820056088268757, 0.006246016826480627, 0.9015084505081177, 0.004164011217653751, 0.9809349775314331, 0.010605181567370892, 0.8696249127388, 0.10605181753635406, 0.010605181567370892, 0.3694676160812378, 0.5902649760246277, 0.010303877294063568, 0.016191808506846428, 0.0014719825703650713, 0.00883189495652914, 0.0029439651407301426, 0.0014719825703650713, 0.03211545571684837, 0.01503276638686657, 0.028015609830617905, 0.31602975726127625, 0.046464912593364716, 0.32559603452682495, 0.20840880274772644, 0.012299535796046257, 0.015374420210719109, 0.0006833075312897563, 0.12047424167394638, 0.13936848938465118, 0.3855549991130829, 0.19623832404613495, 0.014778672717511654, 0.07688651233911514, 0.03348585218191147, 0.012533810921013355, 0.015526959672570229, 0.005425082519650459, 0.9616531729698181, 0.056557148694992065, 0.46694132685661316, 0.12208066880702972, 0.0641440823674202, 0.048970211297273636, 0.046211328357458115, 0.07242073863744736, 0.006207491736859083, 0.07311046123504639, 0.043452441692352295, 0.9823462963104248, 0.03240209445357323, 0.0029456450138241053, 0.011782580055296421, 0.9484977126121521, 0.0029456450138241053, 0.9860832095146179, 0.03987570479512215, 0.03987570479512215, 0.8905574083328247, 0.019937852397561073, 0.0066459509544074535, 0.9902743697166443, 0.9825751781463623, 0.9819705486297607, 0.988400936126709, 0.05933300033211708, 0.02966650016605854, 0.044499751180410385, 0.8603284955024719, 0.38014572858810425, 0.06975647062063217, 0.1321227103471756, 0.19394822418689728, 0.06759347766637802, 0.05840076506137848, 0.005227229092270136, 0.05065004527568817, 0.029921378940343857, 0.012256951071321964, 0.9839946031570435, 0.1238182783126831, 0.0977151170372963, 0.26412275433540344, 0.2661835253238678, 0.039669934660196304, 0.14700201153755188, 0.018375251442193985, 0.021981608122587204, 0.010303879156708717, 0.01081907283514738, 0.00861420389264822, 0.0036918018013238907, 0.0036918018013238907, 0.03199561685323715, 0.015997808426618576, 0.8195800185203552, 0.0996786504983902, 0.0012306006392464042, 0.014767207205295563, 0.012200812809169292, 0.0732048749923706, 0.09760650247335434, 0.8052536249160767, 0.9823324680328369, 0.04849070683121681, 0.9374869465827942, 0.008081784471869469, 0.9728599786758423, 0.9775375127792358, 0.0533432811498642, 0.006667910143733025, 0.006667910143733025, 0.15002797544002533, 0.12335633486509323, 0.3083908259868622, 0.33006155490875244, 0.0016669775359332561, 0.01833675242960453, 0.0016669775359332561, 0.9815663695335388, 0.9739621877670288, 0.023005807772278786, 0.9662439227104187, 0.9779955744743347, 0.12247096002101898, 0.03985166177153587, 0.01749585196375847, 0.2566058337688446, 0.06949741393327713, 0.2964574992656708, 0.1360788494348526, 0.00388796697370708, 0.03985166177153587, 0.017981847748160362, 0.5980395674705505, 0.11603031307458878, 0.004351136740297079, 0.03770985081791878, 0.0676843449473381, 0.030941415578126907, 0.09765884280204773, 0.021272223442792892, 0.022239143028855324, 0.0038676769472658634, 0.10329631716012955, 0.8837574124336243, 0.9890889525413513, 0.012334078550338745, 0.14800894260406494, 0.012334078550338745, 0.012334078550338745, 0.8140491843223572, 0.7657860517501831, 0.03262747824192047, 0.042223792523145676, 0.015354106202721596, 0.006397544406354427, 0.021111896261572838, 0.039025019854307175, 0.06525495648384094, 0.010875825770199299, 0.0012795089278370142, 0.936313271522522, 0.017419781535863876, 0.013064836151897907, 0.004354945383965969, 0.004354945383965969, 0.008709890767931938, 0.008709890767931938, 0.008709890767931938, 0.9737144708633423, 0.9917948246002197, 0.9827306270599365, 0.9730520844459534, 0.9888070821762085, 0.023305200040340424, 0.9671658277511597, 0.9834368228912354, 0.4714357852935791, 0.12079821527004242, 0.013140263967216015, 0.07400043308734894, 0.127944678068161, 0.04933362081646919, 0.058785390108823776, 0.05532742664217949, 0.01798141375184059, 0.011526547372341156, 0.052742891013622284, 0.011465845629572868, 0.00229316926561296, 0.22014424204826355, 0.022931691259145737, 0.2591281235218048, 0.35544121265411377, 0.05732923001050949, 0.01834535412490368, 0.9547961950302124, 0.007699969224631786, 0.023099906742572784, 0.007699969224631786, 0.9770450592041016, 0.9756972193717957, 0.9757561683654785, 0.009956695139408112, 0.9693750739097595, 0.37942323088645935, 0.16595424711704254, 0.1574099212884903, 0.06522855907678604, 0.07029958069324493, 0.07731564342975616, 0.012712275609374046, 0.04049867019057274, 0.00680766673758626, 0.024452026933431625, 0.9035438895225525, 0.007856903597712517, 0.039284516125917435, 0.039284516125917435, 0.19435667991638184, 0.14081574976444244, 0.3828331530094147, 0.06189703196287155, 0.08758430182933807, 0.03744770586490631, 0.014855287969112396, 0.01021301094442606, 0.043018437922000885, 0.026925209909677505, 0.012233478017151356, 0.0024466956965625286, 0.0024466956965625286, 0.014680174179375172, 0.2128625214099884, 0.6018871068954468, 0.0024466956965625286, 0.05627400055527687, 0.08808103948831558, 0.004893391393125057, 0.9863796830177307, 0.9693369269371033, 0.9783241748809814, 0.05538515746593475, 0.9415476322174072, 0.002193699823692441, 0.002193699823692441, 0.002193699823692441, 0.0394865982234478, 0.9476783871650696, 0.004387399647384882, 0.002193699823692441, 0.002193699823692441, 0.7425981163978577, 0.03244810551404953, 0.19376154243946075, 0.0027812663465738297, 0.01483341958373785, 0.0018541774479672313, 0.0009270887239836156, 0.0018541774479672313, 0.010197976604104042, 0.9754683971405029, 0.010591914877295494, 0.021183829754590988, 0.05295957252383232, 0.9003127217292786, 0.8526356220245361, 0.04905574768781662, 0.0023359879851341248, 0.0046719759702682495, 0.025695867836475372, 0.028031855821609497, 0.009343951940536499, 0.016351915895938873, 0.011679939925670624, 0.012525146827101707, 0.012525146827101707, 0.9769614338874817, 0.978076696395874, 0.3154984414577484, 0.07605093717575073, 0.08546318113803864, 0.0711565688252449, 0.20556342601776123, 0.08358073234558105, 0.0278602447360754, 0.06626220047473907, 0.01731853000819683, 0.05120261013507843, 0.9808581471443176, 0.9818539619445801, 0.7858551740646362, 0.0717848464846611, 0.007556299678981304, 0.012593832798302174, 0.05667224898934364, 0.018890749663114548, 0.020150132477283478, 0.018890749663114548, 0.006296916399151087, 0.003778149839490652, 0.052835602313280106, 0.026417801156640053, 0.019020816311240196, 0.5600574016571045, 0.06023258715867996, 0.02324766479432583, 0.012680544517934322, 0.014793968759477139, 0.22930651903152466, 0.0010567120043560863, 0.9772471189498901, 0.9672303795814514, 0.9838616251945496, 0.9787861704826355, 0.21533001959323883, 0.06419272720813751, 0.28114786744117737, 0.004469113890081644, 0.038190606981515884, 0.010563359595835209, 0.05444192886352539, 0.3026808798313141, 0.001625132281333208, 0.02762724831700325, 0.9871379137039185, 0.9721673130989075, 0.013502324000000954, 0.9746541976928711, 0.012183178216218948, 0.9817516803741455, 0.3180117607116699, 0.025106193497776985, 0.05021238699555397, 0.610917329788208, 0.18122367560863495, 0.5649179220199585, 0.011248365975916386, 0.012498184107244015, 0.11748293042182922, 0.016247639432549477, 0.0649905577301979, 0.002499636961147189, 0.017497457563877106, 0.009998547844588757, 0.988115131855011, 0.9830755591392517, 0.22294290363788605, 0.015200652182102203, 0.030401304364204407, 0.704296886920929, 0.010133768431842327, 0.020267536863684654, 0.14918939769268036, 0.09034177660942078, 0.42799416184425354, 0.18444779515266418, 0.014868750236928463, 0.06392935663461685, 0.020389636978507042, 0.025534098967909813, 0.013363054022192955, 0.009912500157952309, 0.2846320569515228, 0.044993385672569275, 0.028854453936219215, 0.050373028963804245, 0.27240559458732605, 0.1472066193819046, 0.008313994854688644, 0.09292112290859222, 0.054774556308984756, 0.015160814858973026, 0.04639918729662895, 0.9434501528739929, 0.005058612674474716, 0.9560777544975281, 0.03541028872132301, 0.9827158451080322, 0.014889633283019066, 0.9847489595413208, 0.8895770907402039, 0.03523077815771103, 0.06165385991334915, 0.9863394498825073, 0.983104407787323, 0.974782407283783, 0.9865706562995911, 0.014623300172388554, 0.9553889036178589, 0.019497733563184738, 0.0048744333907961845, 0.0035799324978142977, 0.03490434214472771, 0.0035799324978142977, 0.17810164391994476, 0.02416454441845417, 0.383052796125412, 0.36515313386917114, 0.0017899662489071488, 0.005369898863136768, 0.0008949831244535744, 0.005987886805087328, 0.0032836797181516886, 0.002124733990058303, 0.07204779982566833, 0.027235226705670357, 0.7386348247528076, 0.14525453746318817, 0.00154526112601161, 0.00309052225202322, 0.000772630563005805, 0.009841971099376678, 0.009841971099376678, 0.09841971099376678, 0.08365675806999207, 0.13286662101745605, 0.6348071694374084, 0.024604927748441696, 0.004920985549688339, 0.9922800660133362, 0.06698008626699448, 0.004784292075783014, 0.038274336606264114, 0.7415652275085449, 0.1435287594795227, 0.9839161038398743, 0.9768297076225281, 0.3953000605106354, 0.1598833203315735, 0.16217221319675446, 0.1059672012925148, 0.060104597359895706, 0.04255642741918564, 0.019328417256474495, 0.024584392085671425, 0.01822635903954506, 0.011868326924741268, 0.9506534934043884, 0.03880218416452408, 0.006467030383646488, 0.9736899733543396, 0.9920706748962402, 0.010401756502687931, 0.988166868686676, 0.01910024881362915, 0.19758878648281097, 0.08693906664848328, 0.1910024881362915, 0.05334896966814995, 0.17453676462173462, 0.09879439324140549, 0.018441619351506233, 0.09023220837116241, 0.06981470435857773, 0.9834961891174316, 0.9518662691116333, 0.46464306116104126, 0.08218374103307724, 0.011325675062835217, 0.06505002826452255, 0.1515897959470749, 0.07811811566352844, 0.10541589558124542, 0.030782602727413177, 0.007840852253139019, 0.003484823042526841, 0.9602108597755432, 0.032827720046043396, 0.9853706359863281, 0.9601995944976807, 0.10637291520833969, 0.2232278287410736, 0.15606535971164703, 0.09142635017633438, 0.08269134908914566, 0.131025031208992, 0.051827676594257355, 0.05784512311220169, 0.07356812804937363, 0.026010895147919655, 0.0042433347553014755, 0.0042433347553014755, 0.04667668417096138, 0.7213669419288635, 0.22489675879478455, 0.0019986648112535477, 0.005995993968099356, 0.003997329622507095, 0.0819452553987503, 0.8074605464935303, 0.0019986648112535477, 0.0839439183473587, 0.013990652747452259, 0.9837359189987183, 0.39514800906181335, 0.0986393392086029, 0.05640752613544464, 0.08151035010814667, 0.1597720980644226, 0.05168228968977928, 0.025988807901740074, 0.11665430665016174, 0.0035439282655715942, 0.010631784796714783, 0.48326531052589417, 0.068329818546772, 0.008496972732245922, 0.06160305067896843, 0.13630560040473938, 0.06018688902258873, 0.11506316810846329, 0.05027375370264053, 0.004248486366122961, 0.012037377804517746, 0.06581325829029083, 0.1828145980834961, 0.06581325829029083, 0.03656291961669922, 0.6435074210166931, 0.2025996595621109, 0.19453153014183044, 0.4356789290904999, 0.09547284990549088, 0.019722091034054756, 0.018825633451342583, 0.0062752109952270985, 0.01792917400598526, 0.0026893760077655315, 0.0062752109952270985, 0.04595242440700531, 0.93436598777771, 0.9762293696403503, 0.9957435131072998, 0.9779902696609497, 0.4240196943283081, 0.11849483847618103, 0.2232705056667328, 0.08595732599496841, 0.030959205701947212, 0.04486049711704254, 0.012869317084550858, 0.030594980344176292, 0.016632985323667526, 0.012444386258721352, 0.9761412739753723, 0.9672635793685913, 0.025046098977327347, 0.00715602794662118, 0.8587233424186707, 0.02862411178648472, 0.04293616861104965, 0.02862411178648472, 0.00357801397331059, 0.13626407086849213, 0.015140452422201633, 0.8327248692512512, 0.1941002458333969, 0.45979171991348267, 0.07427110522985458, 0.053980544209480286, 0.05436338484287262, 0.030627258121967316, 0.03292430192232132, 0.0042112478986382484, 0.04364384338259697, 0.05244918167591095, 0.9808010458946228, 0.06437715142965317, 0.16328060626983643, 0.08631573617458344, 0.024815773591399193, 0.18270164728164673, 0.14457885921001434, 0.016903499141335487, 0.005394733510911465, 0.2664998471736908, 0.04567541182041168, 0.03495055437088013, 0.519343376159668, 0.08519197255373001, 0.16055409610271454, 0.03604275733232498, 0.05133362486958504, 0.024574607610702515, 0.029489528387784958, 0.017475277185440063, 0.040957678109407425, 0.9676006436347961, 0.01511876005679369, 0.9735046625137329, 0.06873182952404022, 0.4297914505004883, 0.10092268884181976, 0.2166357785463333, 0.03219085931777954, 0.049591321498155594, 0.04350116103887558, 0.038281019777059555, 0.009570254944264889, 0.010440277867019176, 0.3102373778820038, 0.05127890408039093, 0.04871496185660362, 0.029912695288658142, 0.34399598836898804, 0.07905498147010803, 0.020084237679839134, 0.07392708957195282, 0.025212127715349197, 0.017947616055607796, 0.9789543151855469, 0.9942451119422913, 0.013227839022874832, 0.026455678045749664, 0.9524044394493103, 0.10073591768741608, 0.8864760994911194, 0.006679777055978775, 0.020039331167936325, 0.0267191082239151, 0.006679777055978775, 0.921809196472168, 0.01335955411195755, 0.039232637733221054, 0.1275060623884201, 0.05394487455487251, 0.07356119155883789, 0.014712238684296608, 0.6865711212158203, 0.004904079716652632, 0.9892798662185669, 0.3854885399341583, 0.024093033745884895, 0.0017209310317412019, 0.015488379634916782, 0.0017209310317412019, 0.018930241465568542, 0.5489770174026489, 0.0034418620634824038, 0.9611884951591492, 0.02912692353129387, 0.01802060380578041, 0.9731125831604004, 0.23570561408996582, 0.35475489497184753, 0.09811096638441086, 0.18186423182487488, 0.04606429487466812, 0.0185453649610281, 0.028715403750538826, 0.009571801871061325, 0.0071788509376347065, 0.0185453649610281, 0.9733060598373413, 0.02129046991467476, 0.9580711722373962, 0.8153424263000488, 0.03604564815759659, 0.13504426181316376, 0.0015230556018650532, 0.0045691668055951595, 0.0005076851812191308, 0.0010153703624382615, 0.002030740724876523, 0.0045691668055951595, 0.9829126000404358, 0.971804678440094, 0.23304784297943115, 0.005548757966607809, 0.04439006373286247, 0.7046923041343689, 0.005548757966607809, 0.003154132980853319, 0.0015770664904266596, 0.003154132980853319, 0.0693909227848053, 0.8137663006782532, 0.07254505902528763, 0.03469546139240265, 0.0015770664904266596, 0.0015770664904266596, 0.4074815809726715, 0.12381808459758759, 0.17661677300930023, 0.12216165661811829, 0.02650286816060543, 0.06045966595411301, 0.027745189145207405, 0.021533580496907234, 0.02298295497894287, 0.010559736751019955, 0.030157653614878654, 0.030157653614878654, 0.9248347282409668, 0.2066769152879715, 0.04372011497616768, 0.051669228821992874, 0.011923667974770069, 0.05961833894252777, 0.09538934379816055, 0.06359289586544037, 0.047694671899080276, 0.4213029444217682, 0.7551416754722595, 0.03020566701889038, 0.1746869534254074, 0.012647693045437336, 0.0026783349458128214, 0.006249448284506798, 0.005505466368049383, 0.006249448284506798, 0.003124724142253399, 0.003719909582287073, 0.862348198890686, 0.018373897299170494, 0.09309440851211548, 0.0036747793201357126, 0.00489970576018095, 0.006124632433056831, 0.00857448484748602, 0.0012249264400452375, 0.0012249264400452375, 0.21559010446071625, 0.0030798588413745165, 0.05851731449365616, 0.6467703580856323, 0.05235759913921356, 0.012319435365498066, 0.009239575825631618, 0.986265242099762, 0.3256131708621979, 0.1170172318816185, 0.014499961398541927, 0.1221049353480339, 0.15237678587436676, 0.07351735234260559, 0.07555243372917175, 0.08649099618196487, 0.015008731745183468, 0.017806969583034515, 0.962691068649292, 0.05569900572299957, 0.006188778206706047, 0.7550309300422668, 0.14853067696094513, 0.012377556413412094, 0.006188778206706047, 0.0030943891033530235, 0.012377556413412094, 0.9747658371925354, 0.9841375946998596, 0.9831552505493164, 0.25588107109069824, 0.016764622181653976, 0.02205871418118477, 0.02073519118130207, 0.15485216677188873, 0.3441159427165985, 0.040146857500076294, 0.12176410108804703, 0.013235228136181831, 0.010588182136416435, 0.013858702033758163, 0.9701091647148132, 0.08564405143260956, 0.018618272617459297, 0.007447309326380491, 0.8378222584724426, 0.018618272617459297, 0.029789237305521965, 0.25452953577041626, 0.16073782742023468, 0.25436174869537354, 0.1057044193148613, 0.05620790645480156, 0.09043600410223007, 0.027684491127729416, 0.029697908088564873, 0.012583859264850616, 0.007885885424911976, 0.9840264320373535, 0.991236686706543, 0.13043519854545593, 0.1759839951992035, 0.10041439533233643, 0.03002079948782921, 0.09109759330749512, 0.05693599581718445, 0.206004798412323, 0.1325055956840515, 0.01863359846174717, 0.05797119811177254, 0.9889740347862244, 0.857893705368042, 0.0454644151031971, 0.061278123408555984, 0.001976713538169861, 0.001976713538169861, 0.007906854152679443, 0.007906854152679443, 0.009883568622171879, 0.003953427076339722, 0.9905836582183838, 0.07779750972986221, 0.14691513776779175, 0.30604639649391174, 0.24689458310604095, 0.01864568330347538, 0.039220232516527176, 0.0536867119371891, 0.08133376389741898, 0.020253071561455727, 0.008679887279868126, 0.20053377747535706, 0.07054213434457779, 0.11213945597410202, 0.12999165058135986, 0.20330692827701569, 0.19377420842647552, 0.03414447233080864, 0.01975872926414013, 0.020625341683626175, 0.015079030767083168, 0.35201355814933777, 0.10235146433115005, 0.07060252875089645, 0.11911401897668839, 0.07659708708524704, 0.1259966492652893, 0.0790393128991127, 0.05261886492371559, 0.013987293466925621, 0.007770718540996313, 0.09180310368537903, 0.26174396276474, 0.2188207507133484, 0.07270665466785431, 0.21987193822860718, 0.04485037177801132, 0.015417315065860748, 0.015417315065860748, 0.010511805303394794, 0.04905509203672409, 0.9473250508308411, 0.024290384724736214], \"Term\": [\"-PRON-\", \"-PRON-\", \"-PRON-\", \"-PRON-\", \"-PRON-\", \"-PRON-\", \"-PRON-\", \"-PRON-\", \"-PRON-\", \"-PRON-\", \"-PRON-_be\", \"able\", \"able\", \"able\", \"able\", \"able\", \"able\", \"able\", \"able\", \"able\", \"able\", \"absolutely_fantastic\", \"absolutely_wonderful\", \"absolutely_wonderful\", \"absolutely_wonderful\", \"accessible\", \"accommodate\", \"accommodate\", \"accommodate\", \"accommodate\", \"accommodate\", \"accommodate\", \"accommodate\", \"accommodate\", \"accommodate\", \"accommodate\", \"accurate_diagnosis\", \"acupuncturist\", \"address_issue\", \"adorable\", \"ail\", \"allergy\", \"allergy\", \"allergy\", \"allergy\", \"allergy\", \"allergy\", \"also\", \"also\", \"also\", \"also\", \"also\", \"also\", \"also\", \"also\", \"also\", \"also\", \"always\", \"always\", \"always\", \"always\", \"always\", \"always\", \"always\", \"always\", \"always\", \"always\", \"amanda\", \"amanda\", \"amanda\", \"amazing\", \"amazing\", \"amazing\", \"amazing\", \"amazing\", \"amazing\", \"amazing\", \"amazing\", \"amazing\", \"amazing\", \"andy\", \"andy\", \"anesthesia\", \"angie\", \"ankle\", \"ankle\", \"ankle\", \"ankle\", \"ankle\", \"ankle\", \"ankle\", \"ankle\", \"ankle\", \"ankle_sprain\", \"answer_question\", \"answer_question\", \"answer_question\", \"answer_question\", \"answer_question\", \"answer_question\", \"answer_question\", \"answer_question\", \"answer_question\", \"answer_question\", \"anthem\", \"anthony\", \"antibiotic\", \"antibiotic\", \"antibiotic\", \"antibiotic\", \"antibiotic\", \"antibiotic\", \"antibiotic\", \"antibiotic\", \"anticipate\", \"app\", \"appoint\", \"appointment\", \"appointment\", \"appointment\", \"appointment\", \"appointment\", \"appointment\", \"appointment\", \"appointment\", \"appointment\", \"appointment\", \"arise\", \"arise\", \"arrive\", \"arrive\", \"arrive\", \"arrive\", \"arrive\", \"arrive\", \"arrive\", \"arrive\", \"arrive\", \"arrive\", \"attack\", \"attention\", \"attention\", \"attention\", \"attention\", \"attention\", \"attention\", \"attention\", \"attention\", \"awesome\", \"awesome\", \"awesome\", \"awesome\", \"awesome\", \"awesome\", \"awesome\", \"awesome\", \"awesome\", \"awesome\", \"b_shoot\", \"b_shoot\", \"baby\", \"baby\", \"baby\", \"baby\", \"baby\", \"baby\", \"baby\", \"baby\", \"baby\", \"baby\", \"baby_boy\", \"baby_girl\", \"baby_girl\", \"baby_girl\", \"baby_girl\", \"babys\", \"back\", \"back\", \"back\", \"back\", \"back\", \"back\", \"back\", \"back\", \"back\", \"back\", \"back_track\", \"bad\", \"bad\", \"bad\", \"bad\", \"bad\", \"bad\", \"bad\", \"bad\", \"bad\", \"bad\", \"bad_review\", \"bad_review\", \"bad_review\", \"barbara\", \"barbara\", \"bearable\", \"beautiful\", \"beautiful\", \"beautiful\", \"beautiful\", \"beautiful\", \"beautiful\", \"beautiful\", \"beautiful\", \"beautiful\", \"beautiful\", \"becky\", \"big_difference\", \"bio\", \"bio_identical\", \"birth\", \"birth\", \"birth\", \"birth\", \"birth\", \"birth\", \"blank\", \"blonde\", \"bomb\", \"botch\", \"botox\", \"botox\", \"botox\", \"botox\", \"botox\", \"boy\", \"boy\", \"boy\", \"boy\", \"boy\", \"boy\", \"boy\", \"boy\", \"boy\", \"boy\", \"brad\", \"brand\", \"brandon\", \"breast\", \"breast\", \"breast\", \"breast\", \"breast\", \"breast\", \"breast_augmentation\", \"breast_augmentation\", \"breast_augmentation\", \"breast_augmentation\", \"breast_lift\", \"breast_reduction\", \"brenda\", \"bring_kid\", \"broken\", \"brown\", \"brown\", \"brown\", \"brown\", \"buck\", \"building\", \"building\", \"building\", \"building\", \"butler\", \"buy\", \"buy\", \"buy\", \"buy\", \"c_section\", \"c_section\", \"c_section\", \"call\", \"call\", \"call\", \"call\", \"call\", \"call\", \"call\", \"call\", \"call\", \"call\", \"candidate\", \"candidate\", \"cardiac\", \"cardio\", \"cardiologist\", \"cardiologist\", \"cardiologist\", \"cardiologist\", \"care\", \"care\", \"care\", \"care\", \"care\", \"care\", \"care\", \"care\", \"care\", \"care\", \"carman\", \"carrie\", \"carrie\", \"cataract_surgery\", \"cataract_surgery\", \"cataract_surgery\", \"cataract_surgery\", \"cautious\", \"cell\", \"cell\", \"check\", \"check\", \"check\", \"check\", \"check\", \"check\", \"check\", \"check\", \"check\", \"check\", \"check_online\", \"chicago\", \"child\", \"child\", \"child\", \"child\", \"child\", \"child\", \"child\", \"child\", \"child\", \"child\", \"chin\", \"chin\", \"chiro\", \"chiro\", \"chiropractor\", \"chiropractor\", \"chiropractor\", \"chiropractor\", \"chiropractor\", \"chiropractor\", \"chiropractor\", \"chiropractor\", \"chiropractor\", \"chris\", \"chris\", \"chris\", \"chris\", \"chuang\", \"chuang\", \"chuang\", \"cindy\", \"clean\", \"clean\", \"clean\", \"clean\", \"clean\", \"clean\", \"clean\", \"clean\", \"clean\", \"clean\", \"clinic\", \"clinic\", \"clinic\", \"clinic\", \"clinic\", \"clinic\", \"clinic\", \"clinic\", \"clinic\", \"clinic\", \"clothe\", \"co_pay\", \"co_pay\", \"come\", \"come\", \"come\", \"come\", \"come\", \"come\", \"come\", \"come\", \"come\", \"come\", \"comfortable\", \"comfortable\", \"comfortable\", \"comfortable\", \"comfortable\", \"comfortable\", \"comfortable\", \"comfortable\", \"comfortable\", \"comfortable\", \"commend\", \"commend\", \"commend\", \"compassion\", \"compassion\", \"compassion\", \"compassion\", \"compassion\", \"compassion\", \"compassion\", \"compassion\", \"compassionate\", \"compassionate\", \"compassionate\", \"compassionate\", \"compassionate\", \"compassionate\", \"compassionate\", \"compassionate\", \"compassionate\", \"compassionate\", \"competitive\", \"con\", \"con\", \"concern\", \"concern\", \"concern\", \"concern\", \"concern\", \"concern\", \"concern\", \"concern\", \"concern\", \"concern\", \"concierge\", \"condition\", \"condition\", \"condition\", \"condition\", \"condition\", \"condition\", \"condition\", \"condition\", \"condition\", \"condition\", \"consultant\", \"consultation\", \"consultation\", \"consultation\", \"consultation\", \"consultation\", \"consultation\", \"consultation\", \"consultation\", \"consultation\", \"contact\", \"contact\", \"contact\", \"contact\", \"contact\", \"contact\", \"contact\", \"contact\", \"contact\", \"contact\", \"continually\", \"coordinator\", \"copay\", \"copay\", \"copay\", \"cosmetic\", \"cosmetic\", \"cosmetic\", \"cosmetic\", \"cosmetic\", \"could\", \"could\", \"could\", \"could\", \"could\", \"could\", \"could\", \"could\", \"could\", \"could\", \"courteous\", \"courteous\", \"courteous\", \"courteous\", \"courteous\", \"courteous\", \"courteous\", \"courteous\", \"cozy\", \"cryotherapy\", \"customize\", \"cvs\", \"dad\", \"dad\", \"dad\", \"dad\", \"dad\", \"daily\", \"daily\", \"daily\", \"daily\", \"daily\", \"daily\", \"daily\", \"daily\", \"daily\", \"dana\", \"daniel\", \"daughter_bear\", \"daughter_bear\", \"daughter_bear\", \"daughter_bear\", \"day\", \"day\", \"day\", \"day\", \"day\", \"day\", \"day\", \"day\", \"day\", \"day\", \"de\", \"de\", \"de\", \"de\", \"de\", \"de\", \"deliver\", \"deliver\", \"deliver\", \"deliver\", \"deliver\", \"deliver\", \"deliver\", \"deliver\", \"deliver\", \"deliver\", \"deliver_baby\", \"deliver_baby\", \"deliver_baby\", \"deliver_baby\", \"delivery\", \"delivery\", \"delivery\", \"delivery\", \"delivery\", \"delivery\", \"denise\", \"dental\", \"dental\", \"dental\", \"dental\", \"dental\", \"dental\", \"dentist\", \"dentist\", \"dentist\", \"dentist\", \"dentist\", \"dentist\", \"department\", \"department\", \"department\", \"department\", \"department\", \"dermatologist\", \"dermatologist\", \"dermatologist\", \"dermatologist\", \"dermatologist\", \"dermatologist\", \"dermatologist\", \"dermatologist\", \"dermatologist\", \"dermatologist\", \"diet\", \"diet\", \"diet\", \"disc\", \"disc\", \"disk\", \"doctor\", \"doctor\", \"doctor\", \"doctor\", \"doctor\", \"doctor\", \"doctor\", \"doctor\", \"doctor\", \"doctor\", \"dog\", \"dog\", \"downside\", \"dr\", \"dr\", \"dr\", \"dr\", \"dr\", \"dr\", \"dr\", \"dr\", \"dr\", \"dr\", \"dr_adashek\", \"dr_boothe\", \"dr_boothe\", \"dr_boothe\", \"dr_campbell\", \"dr_campbell\", \"dr_garcia\", \"dr_george\", \"dr_glassman\", \"dr_glassman\", \"dr_grover\", \"dr_grover\", \"dr_hall\", \"dr_harter\", \"dr_jone\", \"dr_jone\", \"dr_khavkin\", \"dr_khavkin\", \"dr_langdon\", \"dr_langdon\", \"dr_langdon\", \"dr_langdon\", \"dr_langdon\", \"dr_levin\", \"dr_lewi\", \"dr_lewi\", \"dr_lin\", \"dr_mccracken\", \"dr_parker\", \"dr_parker\", \"dr_patel\", \"dr_patel\", \"dr_petrick\", \"dr_reddy\", \"dr_reye\", \"dr_seth\", \"dr_seth\", \"dr_shah\", \"dr_shapiro\", \"dr_sher\", \"dr_sher\", \"dr_sher\", \"dr_sher\", \"dr_sher\", \"dr_sher\", \"dr_sikand\", \"dr_sikand\", \"dr_vaughn\", \"dr_vaughn\", \"dr_vu\", \"dr_vu\", \"dr_vu\", \"dr_walter\", \"dr_wilke\", \"draw_blood\", \"draw_blood\", \"drip\", \"dude\", \"e_r\", \"ear_nose\", \"educational\", \"efficient\", \"efficient\", \"efficient\", \"efficient\", \"efficient\", \"efficient\", \"efficient\", \"efficient\", \"efficient\", \"either_way\", \"el\", \"elderly\", \"emily\", \"empty\", \"empty\", \"er\", \"er\", \"er\", \"er\", \"er\", \"er\", \"er\", \"er\", \"er\", \"er\", \"eric\", \"es\", \"escort\", \"esthetician\", \"evaluation\", \"evaluation\", \"evaluation\", \"evaluation\", \"even\", \"even\", \"even\", \"even\", \"even\", \"even\", \"even\", \"even\", \"even\", \"even\", \"everyone\", \"everyone\", \"everyone\", \"everyone\", \"everyone\", \"everyone\", \"everyone\", \"everyone\", \"everyone\", \"everyone\", \"evident\", \"exam_room\", \"exam_room\", \"exam_room\", \"exam_room\", \"exam_room\", \"exam_room\", \"exam_room\", \"excellent\", \"excellent\", \"excellent\", \"excellent\", \"excellent\", \"excellent\", \"excellent\", \"excellent\", \"excellent\", \"excellent\", \"exercise\", \"exercise\", \"exercise\", \"exercise\", \"exercise\", \"exercise\", \"experience\", \"experience\", \"experience\", \"experience\", \"experience\", \"experience\", \"experience\", \"experience\", \"experience\", \"experience\", \"expert_field\", \"explore\", \"extraction\", \"extraction\", \"extraordinary\", \"extraordinary\", \"eye\", \"eye\", \"eye\", \"eye\", \"eye\", \"eye\", \"eye\", \"eye\", \"eye\", \"eye\", \"eye_exam\", \"eye_exam\", \"eye_exam\", \"eye_exam\", \"eyeglass\", \"eyeglass_world\", \"facial\", \"facial\", \"facial\", \"facial\", \"faith\", \"faith\", \"family\", \"family\", \"family\", \"family\", \"family\", \"family\", \"family\", \"family\", \"family\", \"family\", \"family_medicine\", \"fantastic_job\", \"fantastic_job\", \"father\", \"father\", \"father\", \"father\", \"father\", \"father\", \"fatigue\", \"fatigue\", \"fax\", \"feel\", \"feel\", \"feel\", \"feel\", \"feel\", \"feel\", \"feel\", \"feel\", \"feel\", \"feel\", \"fertility\", \"fertility\", \"fertility\", \"fertility\", \"fertility\", \"field\", \"field\", \"field\", \"field\", \"field\", \"field\", \"field\", \"field\", \"file\", \"fill_paperwork\", \"fill_paperwork\", \"fill_paperwork\", \"film\", \"find\", \"find\", \"find\", \"find\", \"find\", \"find\", \"find\", \"find\", \"find\", \"find\", \"first\", \"first\", \"first\", \"first\", \"first\", \"first\", \"first\", \"first\", \"first\", \"first\", \"first_class\", \"fist\", \"fit\", \"fit\", \"fit\", \"fit\", \"fit\", \"fit\", \"fit\", \"fit\", \"fit\", \"fit\", \"fix\", \"fix\", \"fix\", \"fix\", \"fix\", \"fix\", \"fix\", \"fix\", \"fix\", \"fix\", \"flare\", \"flight\", \"flu\", \"flu\", \"flu\", \"flu_shot\", \"food\", \"food\", \"food\", \"food\", \"food\", \"food\", \"food\", \"food\", \"foot\", \"foot\", \"foot\", \"foot\", \"foot\", \"foot\", \"foot\", \"foot\", \"foot\", \"foot\", \"foothill\", \"four_year\", \"fox\", \"fracture\", \"fracture\", \"fracture\", \"frame\", \"frame\", \"frame\", \"frame\", \"frame\", \"friendliness\", \"friendly\", \"friendly\", \"friendly\", \"friendly\", \"friendly\", \"friendly\", \"friendly\", \"friendly\", \"friendly\", \"friendly\", \"fu\", \"full_body\", \"fully_explain\", \"function\", \"function\", \"function\", \"function\", \"function\", \"function\", \"function\", \"function\", \"fusion\", \"fusion\", \"fusion\", \"get\", \"get\", \"get\", \"get\", \"get\", \"get\", \"get\", \"get\", \"get\", \"get\", \"get_root\", \"get_root\", \"gilbert_location\", \"give\", \"give\", \"give\", \"give\", \"give\", \"give\", \"give\", \"give\", \"give\", \"give\", \"give_birth\", \"give_birth\", \"give_birth\", \"glass\", \"glass\", \"glass\", \"glass\", \"glass\", \"glass\", \"go\", \"go\", \"go\", \"go\", \"go\", \"go\", \"go\", \"go\", \"go\", \"go\", \"godsend\", \"good\", \"good\", \"good\", \"good\", \"good\", \"good\", \"good\", \"good\", \"good\", \"good\", \"grand\", \"granddaughter\", \"great\", \"great\", \"great\", \"great\", \"great\", \"great\", \"great\", \"great\", \"great\", \"great\", \"green_valley\", \"green_valley\", \"green_valley\", \"group_people\", \"hamilton\", \"hangover\", \"hannah\", \"happy\", \"happy\", \"happy\", \"happy\", \"happy\", \"happy\", \"happy\", \"happy\", \"happy\", \"happy\", \"happy_result\", \"happy_result\", \"happy_result\", \"happy_result\", \"happy_result\", \"happy_result\", \"happy_result\", \"hardly_wait\", \"hassle\", \"headache\", \"headache\", \"headache\", \"headache\", \"headache\", \"headache\", \"headache\", \"heal\", \"heal\", \"heal\", \"heal\", \"heal\", \"heal\", \"heal\", \"heal\", \"heal\", \"heal\", \"health\", \"health\", \"health\", \"health\", \"health\", \"health\", \"health\", \"health\", \"health\", \"health\", \"health_wellness\", \"health_wellness\", \"health_wellness\", \"healthcare\", \"healthcare\", \"healthcare\", \"healthcare\", \"healthcare\", \"healthcare\", \"healthcare\", \"healthcare\", \"healthcare_provider\", \"hearing\", \"hearing\", \"hearing\", \"hearing_test\", \"heart\", \"heart\", \"heart\", \"heart\", \"heart\", \"heart\", \"heart\", \"heart\", \"heart\", \"heart\", \"help\", \"help\", \"help\", \"help\", \"help\", \"help\", \"help\", \"help\", \"help\", \"help\", \"help_achieve\", \"helpful\", \"helpful\", \"helpful\", \"helpful\", \"helpful\", \"helpful\", \"helpful\", \"helpful\", \"helpful\", \"helpful\", \"henderson\", \"henderson\", \"henderson\", \"henderson\", \"henderson\", \"henderson\", \"henderson\", \"hernia\", \"hide\", \"high_school\", \"highly_recommend\", \"highly_recommend\", \"highly_recommend\", \"highly_recommend\", \"highly_recommend\", \"highly_recommend\", \"highly_recommend\", \"highly_recommend\", \"highly_recommend\", \"highly_recommend\", \"hill\", \"hip\", \"hip\", \"hip\", \"hip\", \"hip\", \"hip\", \"hip\", \"hip\", \"hip\", \"honor_health\", \"honorhealth\", \"hospital\", \"hospital\", \"hospital\", \"hospital\", \"hospital\", \"hospital\", \"hospital\", \"hospital\", \"hospital\", \"hospital\", \"hour\", \"hour\", \"hour\", \"hour\", \"hour\", \"hour\", \"hour\", \"hour\", \"hour\", \"hour\", \"hour_half\", \"husband\", \"husband\", \"husband\", \"husband\", \"husband\", \"husband\", \"husband\", \"husband\", \"husband\", \"husband\", \"immaculate\", \"immaculate\", \"immediate_relief\", \"impeccable\", \"impeccable\", \"implant\", \"implant\", \"implant\", \"implant\", \"implant\", \"industry\", \"industry\", \"industry\", \"industry\", \"inflammation\", \"injection\", \"injection\", \"injection\", \"injection\", \"injection\", \"injection\", \"injection\", \"injection\", \"injection\", \"injection\", \"injury\", \"injury\", \"injury\", \"injury\", \"injury\", \"injury\", \"injury\", \"injury\", \"injury\", \"injury\", \"institute\", \"institute\", \"institute\", \"institute\", \"insurance\", \"insurance\", \"insurance\", \"insurance\", \"insurance\", \"insurance\", \"insurance\", \"insurance\", \"insurance\", \"insurance\", \"intend\", \"intense\", \"issue\", \"issue\", \"issue\", \"issue\", \"issue\", \"issue\", \"issue\", \"issue\", \"issue\", \"issue\", \"itchy\", \"iui\", \"iv\", \"iv\", \"iv\", \"iv\", \"iv\", \"iv\", \"iv\", \"iv_drip\", \"ivf\", \"ivf\", \"ivf\", \"ivf\", \"ivf\", \"jerry\", \"jim\", \"jone\", \"josh\", \"juvederm\", \"kayla\", \"ken\", \"ken\", \"kendra\", \"kid\", \"kid\", \"kid\", \"kid\", \"kid\", \"kid\", \"kid\", \"kid\", \"kid\", \"kid\", \"kidd\", \"kidney_stone\", \"kind\", \"kind\", \"kind\", \"kind\", \"kind\", \"kind\", \"kind\", \"kind\", \"kind\", \"kind\", \"kind_hearted\", \"kindness\", \"kindness\", \"kindness\", \"kindness\", \"kindness\", \"kindness\", \"kindness\", \"knee\", \"knee\", \"knee\", \"knee\", \"knee\", \"knee\", \"knee\", \"knee\", \"knee_replacement\", \"know\", \"know\", \"know\", \"know\", \"know\", \"know\", \"know\", \"know\", \"know\", \"know\", \"knowledgeable\", \"knowledgeable\", \"knowledgeable\", \"knowledgeable\", \"knowledgeable\", \"knowledgeable\", \"knowledgeable\", \"knowledgeable\", \"knowledgeable\", \"knowledgeable\", \"la\", \"la\", \"la\", \"la\", \"labor\", \"labor\", \"labor\", \"labor\", \"labor\", \"laser_hair\", \"lasik_vision\", \"last_summer\", \"laura\", \"law\", \"len\", \"len\", \"lens\", \"lens\", \"lens\", \"lens\", \"lens_crafter\", \"lenscrafter\", \"lenscrafter\", \"lenscrafter\", \"lesson\", \"life\", \"life\", \"life\", \"life\", \"life\", \"life\", \"life\", \"life\", \"life\", \"life\", \"like\", \"like\", \"like\", \"like\", \"like\", \"like\", \"like\", \"like\", \"like\", \"like\", \"lillie\", \"limp\", \"listen\", \"listen\", \"listen\", \"listen\", \"listen\", \"listen\", \"listen\", \"listen\", \"listen\", \"listen\", \"little_nervous\", \"load\", \"lobby\", \"lobby\", \"lobby\", \"lobby\", \"lobby\", \"lobby\", \"location\", \"location\", \"location\", \"location\", \"location\", \"location\", \"location\", \"location\", \"location\", \"location\", \"logan\", \"logan\", \"logan\", \"long\", \"long\", \"long\", \"long\", \"long\", \"long\", \"long\", \"long\", \"long\", \"long\", \"look\", \"look\", \"look\", \"look\", \"look\", \"look\", \"look\", \"look\", \"look\", \"look\", \"lot_research\", \"love\", \"love\", \"love\", \"love\", \"love\", \"love\", \"love\", \"love\", \"love\", \"love\", \"mail\", \"make\", \"make\", \"make\", \"make\", \"make\", \"make\", \"make\", \"make\", \"make\", \"make\", \"make_feel\", \"make_feel\", \"make_feel\", \"make_feel\", \"make_feel\", \"make_feel\", \"make_feel\", \"make_feel\", \"make_feel\", \"make_feel\", \"make_sure\", \"make_sure\", \"make_sure\", \"make_sure\", \"make_sure\", \"make_sure\", \"make_sure\", \"make_sure\", \"make_sure\", \"make_sure\", \"makeup\", \"mammogram\", \"mammogram\", \"manthei\", \"many\", \"many\", \"many\", \"many\", \"many\", \"many\", \"many\", \"many\", \"many\", \"many\", \"mary\", \"mary\", \"mary\", \"mary\", \"mary\", \"mary\", \"massage\", \"massage\", \"massage\", \"massage\", \"massage\", \"massage\", \"massage\", \"massage\", \"massage_therapist\", \"massage_therapist\", \"matthew\", \"maybe_min\", \"maybe_minute\", \"med\", \"med\", \"med\", \"med\", \"med\", \"med\", \"med\", \"medical\", \"medical\", \"medical\", \"medical\", \"medical\", \"medical\", \"medical\", \"medical\", \"medical\", \"medical\", \"medication\", \"medication\", \"medication\", \"medication\", \"medication\", \"medication\", \"medication\", \"medication\", \"medication\", \"megan\", \"melanoma\", \"menopause\", \"meticulous\", \"middle_night\", \"middle_night\", \"midwife\", \"midwife\", \"min\", \"min\", \"min\", \"min\", \"min\", \"min\", \"min\", \"min\", \"min\", \"minute\", \"minute\", \"minute\", \"minute\", \"minute\", \"minute\", \"minute\", \"minute\", \"minute\", \"minute\", \"minute_early\", \"minute_later\", \"minute_later\", \"minute_later\", \"minute_later\", \"minute_later\", \"miyake\", \"mo\", \"mold\", \"mold\", \"mom\", \"mom\", \"mom\", \"mom\", \"mom\", \"mom\", \"mom\", \"mom\", \"mom\", \"mom\", \"monroe\", \"month\", \"month\", \"month\", \"month\", \"month\", \"month\", \"month\", \"month\", \"month\", \"month\", \"mother\", \"mother\", \"mother\", \"mother\", \"mother\", \"mother\", \"mother\", \"mother\", \"mother\", \"mother\", \"motion\", \"move_state\", \"mri\", \"mri\", \"mri\", \"mri\", \"mri\", \"mri\", \"mri\", \"mrs\", \"much\", \"much\", \"much\", \"much\", \"much\", \"much\", \"much\", \"much\", \"much\", \"much\", \"muscle\", \"muscle\", \"muscle\", \"muscle\", \"muy\", \"nap\", \"naturopath\", \"neck\", \"neck\", \"neck\", \"neck\", \"neck\", \"neck\", \"neck\", \"neck\", \"neck\", \"neck\", \"neck_shoulder\", \"need\", \"need\", \"need\", \"need\", \"need\", \"need\", \"need\", \"need\", \"need\", \"need\", \"never\", \"never\", \"never\", \"never\", \"never\", \"never\", \"never\", \"never\", \"never\", \"never\", \"new_glass\", \"new_pair\", \"nice\", \"nice\", \"nice\", \"nice\", \"nice\", \"nice\", \"nice\", \"nice\", \"nice\", \"nice\", \"no\", \"no\", \"no\", \"no\", \"no\", \"no\", \"no\", \"no\", \"no\", \"no\", \"not\", \"not\", \"not\", \"not\", \"not\", \"not\", \"not\", \"not\", \"not\", \"not\", \"nov\", \"nurse\", \"nurse\", \"nurse\", \"nurse\", \"nurse\", \"nurse\", \"nurse\", \"nurse\", \"nurse\", \"nurse\", \"nurse_practioner\", \"ob\", \"ob\", \"ob\", \"ob\", \"ob\", \"ob_gyn\", \"ob_gyn\", \"ob_gyn\", \"ob_gyn\", \"ob_gyn\", \"ob_gyn\", \"obgyn\", \"obgyn\", \"obgyn\", \"obgyn\", \"obgyn\", \"obgyn\", \"office\", \"office\", \"office\", \"office\", \"office\", \"office\", \"office\", \"office\", \"office\", \"office\", \"one\", \"one\", \"one\", \"one\", \"one\", \"one\", \"one\", \"one\", \"one\", \"one\", \"online\", \"online\", \"online\", \"online\", \"online\", \"online\", \"online\", \"online\", \"online\", \"online_check\", \"open\", \"open\", \"open\", \"open\", \"open\", \"open\", \"open\", \"open\", \"open\", \"open\", \"operate\", \"operate\", \"operate\", \"operate\", \"optician\", \"optician\", \"optometrist\", \"optometrist\", \"optometrist\", \"optometrist\", \"oral_surgeon\", \"oral_surgeon\", \"oral_surgery\", \"orthopedic_surgeon\", \"orthopedic_surgeon\", \"orthopedic_surgeon\", \"osborn\", \"pack\", \"pack\", \"pack\", \"pack\", \"pain\", \"pain\", \"pain\", \"pain\", \"pain\", \"pain\", \"pain\", \"pain\", \"pain\", \"pain\", \"pain_free\", \"pain_free\", \"pain_free\", \"pain_free\", \"pain_free\", \"pain_free\", \"pair\", \"pair\", \"pair\", \"pair_glass\", \"pan\", \"paperwork\", \"paperwork\", \"paperwork\", \"paperwork\", \"paperwork\", \"paperwork\", \"paperwork\", \"paperwork\", \"paperwork\", \"parking_lot\", \"patient\", \"patient\", \"patient\", \"patient\", \"patient\", \"patient\", \"patient\", \"patient\", \"patient\", \"patient\", \"patiently_answer\", \"pay_attention\", \"pco\", \"peaceful\", \"ped\", \"ped\", \"pediatric\", \"pediatric\", \"pediatric\", \"pediatric\", \"pediatric\", \"pediatric\", \"pediatric\", \"pediatric\", \"pediatrician\", \"pediatrician\", \"pediatrician\", \"pediatrician\", \"pediatrician\", \"pediatrician\", \"peel\", \"perform\", \"perform\", \"perform\", \"perform\", \"perform\", \"perform\", \"perform\", \"perform\", \"perform\", \"perform\", \"perkin\", \"personalize\", \"personalize\", \"pharmacy\", \"pharmacy\", \"pharmacy\", \"pharmacy\", \"pharmacy\", \"pharmacy\", \"physical_therapist\", \"physical_therapist\", \"physical_therapist\", \"physical_therapist\", \"physical_therapy\", \"physical_therapy\", \"physical_therapy\", \"physical_therapy\", \"physical_therapy\", \"physician\", \"physician\", \"physician\", \"physician\", \"physician\", \"physician\", \"physician\", \"physician\", \"physician\", \"physician\", \"pic\", \"pic\", \"place\", \"place\", \"place\", \"place\", \"place\", \"place\", \"place\", \"place\", \"place\", \"place\", \"planet\", \"plastic_surgeon\", \"plastic_surgeon\", \"plastic_surgeon\", \"pleasant\", \"pleasant\", \"pleasant\", \"pleasant\", \"pleasant\", \"pleasant\", \"pleasant\", \"pleasant\", \"pleasant\", \"pleasant\", \"pm\", \"pm\", \"pm\", \"pm\", \"pm\", \"pm\", \"podiatrist\", \"podiatrist\", \"podiatrist\", \"podiatrist\", \"podiatrist\", \"pound\", \"pound\", \"pound\", \"practice\", \"practice\", \"practice\", \"practice\", \"practice\", \"practice\", \"practice\", \"practice\", \"practice\", \"practice\", \"precious\", \"precision\", \"pregnancy\", \"pregnancy\", \"pregnancy\", \"pregnancy\", \"pregnancy\", \"pregnancy\", \"pregnancy\", \"pregnancy\", \"pregnancy_delivery\", \"pregnant\", \"pregnant\", \"pregnant\", \"pregnant\", \"pregnant\", \"pregnant\", \"pregnant\", \"pregnant\", \"pregnant\", \"price_reasonable\", \"pricing\", \"pricing\", \"pricing\", \"pricing\", \"primary_care\", \"primary_care\", \"primary_care\", \"primary_care\", \"primary_care\", \"primary_care\", \"primary_care\", \"primary_care\", \"procedure\", \"procedure\", \"procedure\", \"procedure\", \"procedure\", \"procedure\", \"procedure\", \"procedure\", \"procedure\", \"procedure\", \"professional\", \"professional\", \"professional\", \"professional\", \"professional\", \"professional\", \"professional\", \"professional\", \"professional\", \"professional\", \"proof\", \"provide\", \"provide\", \"provide\", \"provide\", \"provide\", \"provide\", \"provide\", \"provide\", \"provide\", \"provide\", \"psychiatrist\", \"pt\", \"pt\", \"pt\", \"pt\", \"pt\", \"pulmonary\", \"purchase\", \"purchase\", \"purchase\", \"purchase\", \"purchase\", \"que\", \"quickly_diagnose\", \"rachel\", \"range_motion\", \"ray\", \"ray\", \"ray\", \"ray\", \"really\", \"really\", \"really\", \"really\", \"really\", \"really\", \"really\", \"really\", \"really\", \"really\", \"reasonable_price\", \"recommend\", \"recommend\", \"recommend\", \"recommend\", \"recommend\", \"recommend\", \"recommend\", \"recommend\", \"recommend\", \"recommend\", \"recovery\", \"recovery\", \"recovery\", \"recovery\", \"recovery\", \"recovery\", \"recovery\", \"recovery\", \"recovery\", \"regret\", \"regret\", \"regret\", \"regret\", \"regular_dentist\", \"rehab\", \"rehab\", \"rehab\", \"relative\", \"relatively\", \"remove\", \"remove\", \"remove\", \"remove\", \"remove\", \"remove\", \"remove\", \"remove\", \"remove\", \"remove\", \"renew\", \"rescue\", \"resolve_issue\", \"resolve_issue\", \"restaurant\", \"result\", \"result\", \"result\", \"result\", \"result\", \"result\", \"result\", \"result\", \"result\", \"result\", \"review\", \"review\", \"review\", \"review\", \"review\", \"review\", \"review\", \"review\", \"review\", \"review\", \"rich\", \"rich\", \"right_direction\", \"robert\", \"robert\", \"robert\", \"robert\", \"robert\", \"room\", \"room\", \"room\", \"room\", \"room\", \"room\", \"room\", \"room\", \"room\", \"room\", \"rude\", \"rude\", \"rude\", \"rude\", \"rude\", \"rude\", \"rude\", \"rude\", \"rupture\", \"sale\", \"sam\", \"sana\", \"sara\", \"sarah\", \"sarah\", \"saturday_night\", \"say\", \"say\", \"say\", \"say\", \"say\", \"say\", \"say\", \"say\", \"say\", \"say\", \"scar\", \"scar\", \"scar\", \"scar\", \"scar\", \"scar\", \"scar\", \"scar\", \"scar\", \"script\", \"script\", \"script\", \"script\", \"sean\", \"search_new\", \"seat\", \"seat\", \"secret\", \"see\", \"see\", \"see\", \"see\", \"see\", \"see\", \"see\", \"see\", \"see\", \"see\", \"selection\", \"selection\", \"selection\", \"selection\", \"service\", \"service\", \"service\", \"service\", \"service\", \"service\", \"service\", \"service\", \"service\", \"service\", \"session\", \"session\", \"session\", \"session\", \"session\", \"session\", \"session\", \"session\", \"session\", \"session\", \"seven_hill\", \"sh\", \"sharon\", \"shoe\", \"shoe\", \"shoulder\", \"shoulder\", \"shoulder\", \"shoulder\", \"shoulder\", \"shoulder\", \"shoulder\", \"shoulder\", \"sick\", \"sick\", \"sick\", \"sick\", \"sick\", \"sick\", \"sick\", \"sick\", \"sick\", \"sick_kid\", \"siena_pediatric\", \"siena_pediatric\", \"siena_pediatric\", \"siena_pediatric\", \"sign\", \"sign\", \"sign\", \"sign\", \"sign\", \"sign\", \"sign\", \"sign\", \"sign\", \"significantly\", \"significantly\", \"significantly\", \"simply_amazing\", \"since\", \"since\", \"since\", \"since\", \"since\", \"since\", \"since\", \"since\", \"since\", \"since\", \"since_birth\", \"sister_law\", \"sit\", \"sit\", \"sit\", \"sit\", \"sit\", \"sit\", \"sit\", \"sit\", \"sit\", \"sit\", \"skin\", \"skin\", \"skin\", \"skin\", \"skin\", \"skin\", \"skin\", \"skin\", \"skin\", \"skin\", \"skin_condition\", \"soft_tissue\", \"solve_problem\", \"somewhere_else\", \"son\", \"son\", \"son\", \"son\", \"son\", \"son\", \"son\", \"son\", \"son\", \"son\", \"soon_possible\", \"soon_walk\", \"soon_walk\", \"sore_throat\", \"sore_throat\", \"southwest_medical\", \"spa\", \"spa\", \"spa\", \"spa\", \"specialist\", \"specialist\", \"specialist\", \"specialist\", \"specialist\", \"specialist\", \"specialist\", \"specialist\", \"specialist\", \"specialist\", \"specially\", \"splint\", \"st_rise\", \"st_rise\", \"st_rise\", \"st_rise\", \"st_rise\", \"st_rise\", \"staff\", \"staff\", \"staff\", \"staff\", \"staff\", \"staff\", \"staff\", \"staff\", \"staff\", \"staff\", \"start\", \"start\", \"start\", \"start\", \"start\", \"start\", \"start\", \"start\", \"start\", \"start\", \"steve\", \"steve\", \"store\", \"store\", \"store\", \"strange\", \"strange\", \"stress_test\", \"stretch\", \"stretch\", \"stretch\", \"successfully\", \"sunglass\", \"super_convenient\", \"super_fast\", \"supplement\", \"supplement\", \"supplement\", \"supplement\", \"surgeon\", \"surgeon\", \"surgeon\", \"surgeon\", \"surgeon\", \"surgeon\", \"surgeon\", \"surgeon\", \"surgeon\", \"surgeon\", \"surgery\", \"surgery\", \"surgery\", \"surgery\", \"surgery\", \"surgery\", \"surgery\", \"surgery\", \"surgery\", \"surgery\", \"surgical\", \"surgical\", \"surgical\", \"surgical\", \"surgical\", \"surgical\", \"surgical\", \"surgical\", \"surprisingly\", \"swell\", \"swell\", \"swell\", \"swell\", \"swell\", \"tablet\", \"tailor\", \"take\", \"take\", \"take\", \"take\", \"take\", \"take\", \"take\", \"take\", \"take\", \"take\", \"take_vital\", \"take_vital\", \"take_vital\", \"tan\", \"target\", \"taylor\", \"taylor\", \"team\", \"team\", \"team\", \"team\", \"team\", \"team\", \"team\", \"team\", \"team\", \"team\", \"teen\", \"television\", \"tell\", \"tell\", \"tell\", \"tell\", \"tell\", \"tell\", \"tell\", \"tell\", \"tell\", \"tell\", \"tempe\", \"tempe\", \"temperature\", \"terry\", \"thank\", \"thank\", \"thank\", \"thank\", \"thank\", \"thank\", \"thank\", \"thank\", \"thank\", \"thank\", \"therapist\", \"therapist\", \"therapist\", \"therapist\", \"therapist\", \"therapy\", \"therapy\", \"therapy\", \"therapy\", \"therapy\", \"therapy\", \"therapy\", \"therapy\", \"theresa\", \"thing\", \"thing\", \"thing\", \"thing\", \"thing\", \"thing\", \"thing\", \"thing\", \"thing\", \"thing\", \"think\", \"think\", \"think\", \"think\", \"think\", \"think\", \"think\", \"think\", \"think\", \"think\", \"thoma\", \"thoma\", \"thoma\", \"thoma\", \"thoma\", \"thorough\", \"thorough\", \"thorough\", \"thorough\", \"thorough\", \"thorough\", \"thorough\", \"thorough\", \"thorough\", \"thorough\", \"thorough_examination\", \"thorough_examination\", \"throughout_process\", \"thumb\", \"thunderbird\", \"time\", \"time\", \"time\", \"time\", \"time\", \"time\", \"time\", \"time\", \"time\", \"time\", \"todd\", \"tolerable\", \"tooth\", \"tooth\", \"tooth\", \"tooth\", \"tooth\", \"tooth\", \"tooth\", \"transform\", \"transform\", \"transform\", \"treat\", \"treat\", \"treat\", \"treat\", \"treat\", \"treat\", \"treat\", \"treat\", \"treat\", \"treat\", \"treat_utmost\", \"treatment\", \"treatment\", \"treatment\", \"treatment\", \"treatment\", \"treatment\", \"treatment\", \"treatment\", \"treatment\", \"treatment\", \"truly\", \"truly\", \"truly\", \"truly\", \"truly\", \"truly\", \"truly\", \"truly\", \"truly\", \"truly\", \"truly_appreciate\", \"truly_appreciate\", \"truly_bless\", \"trust\", \"trust\", \"trust\", \"trust\", \"trust\", \"trust\", \"trust\", \"trust\", \"trust\", \"trust\", \"try\", \"try\", \"try\", \"try\", \"try\", \"try\", \"try\", \"try\", \"try\", \"try\", \"try_sell\", \"tummy_tuck\", \"tumor\", \"tumor\", \"tumor\", \"tune\", \"tune\", \"twin\", \"twin\", \"twin\", \"twin\", \"twin\", \"twin\", \"u\", \"u\", \"u\", \"u\", \"u\", \"u\", \"u\", \"ultra_sound\", \"ultrasound\", \"ultrasound\", \"ultrasound\", \"ultrasound\", \"ultrasound\", \"ultrasound\", \"ultrasound\", \"ultrasound\", \"umc\", \"umc\", \"unbearable\", \"unbearable\", \"understand\", \"understand\", \"understand\", \"understand\", \"understand\", \"understand\", \"understand\", \"understand\", \"understand\", \"understand\", \"understatement\", \"upcoming\", \"upcoming\", \"urgent_care\", \"urgent_care\", \"urgent_care\", \"urgent_care\", \"urgent_care\", \"urgent_care\", \"urgent_care\", \"urgent_care\", \"urgent_care\", \"valerie\", \"vanessa\", \"vein\", \"vein\", \"vein\", \"vein\", \"vein\", \"vision\", \"vision\", \"vision\", \"vision\", \"vision\", \"vision\", \"vision\", \"vision\", \"vision\", \"visit\", \"visit\", \"visit\", \"visit\", \"visit\", \"visit\", \"visit\", \"visit\", \"visit\", \"visit\", \"vitamin\", \"vitamin\", \"vitamin\", \"w\", \"w\", \"w\", \"w\", \"w\", \"w\", \"w\", \"w\", \"w\", \"wait\", \"wait\", \"wait\", \"wait\", \"wait\", \"wait\", \"wait\", \"wait\", \"wait\", \"wait\", \"wait_room\", \"wait_room\", \"wait_room\", \"wait_room\", \"wait_room\", \"wait_room\", \"wait_room\", \"wait_room\", \"wait_room\", \"wake\", \"wake\", \"wake\", \"wake\", \"wake\", \"wake\", \"wake\", \"walmart\", \"want\", \"want\", \"want\", \"want\", \"want\", \"want\", \"want\", \"want\", \"want\", \"want\", \"warm_invite\", \"wear\", \"wear\", \"wear\", \"wear\", \"wear\", \"wear\", \"wear\", \"wear\", \"wear_contact\", \"wear_glass\", \"wedding\", \"week\", \"week\", \"week\", \"week\", \"week\", \"week\", \"week\", \"week\", \"week\", \"week\", \"week_pregnant\", \"week_pregnant\", \"weight\", \"weight\", \"weight\", \"weight\", \"weight\", \"weight\", \"well\", \"well\", \"well\", \"well\", \"well\", \"well\", \"well\", \"well\", \"well\", \"well\", \"wellness_center\", \"whole_body\", \"wife\", \"wife\", \"wife\", \"wife\", \"wife\", \"wife\", \"wife\", \"wife\", \"wife\", \"wife\", \"william\", \"within_minute\", \"within_minute\", \"within_minute\", \"within_minute\", \"within_minute\", \"within_minute\", \"within_minute\", \"within_minute\", \"within_minute\", \"wolfson\", \"wonderful\", \"wonderful\", \"wonderful\", \"wonderful\", \"wonderful\", \"wonderful\", \"wonderful\", \"wonderful\", \"wonderful\", \"wonderful\", \"work\", \"work\", \"work\", \"work\", \"work\", \"work\", \"work\", \"work\", \"work\", \"work\", \"would\", \"would\", \"would\", \"would\", \"would\", \"would\", \"would\", \"would\", \"would\", \"would\", \"year\", \"year\", \"year\", \"year\", \"year\", \"year\", \"year\", \"year\", \"year\", \"year\", \"zocdoc\", \"zocdoc\"]}, \"R\": 30, \"lambda.step\": 0.01, \"plot.opts\": {\"xlab\": \"PC1\", \"ylab\": \"PC2\"}, \"topic.order\": [3, 9, 6, 8, 4, 10, 5, 7, 2, 1]};\n",
       "\n",
       "function LDAvis_load_lib(url, callback){\n",
       "  var s = document.createElement('script');\n",
       "  s.src = url;\n",
       "  s.async = true;\n",
       "  s.onreadystatechange = s.onload = callback;\n",
       "  s.onerror = function(){console.warn(\"failed to load library \" + url);};\n",
       "  document.getElementsByTagName(\"head\")[0].appendChild(s);\n",
       "}\n",
       "\n",
       "if(typeof(LDAvis) !== \"undefined\"){\n",
       "   // already loaded: just create the visualization\n",
       "   !function(LDAvis){\n",
       "       new LDAvis(\"#\" + \"ldavis_el5941397443368199283074758071\", ldavis_el5941397443368199283074758071_data);\n",
       "   }(LDAvis);\n",
       "}else if(typeof define === \"function\" && define.amd){\n",
       "   // require.js is available: use it to load d3/LDAvis\n",
       "   require.config({paths: {d3: \"https://cdnjs.cloudflare.com/ajax/libs/d3/3.5.5/d3.min\"}});\n",
       "   require([\"d3\"], function(d3){\n",
       "      window.d3 = d3;\n",
       "      LDAvis_load_lib(\"https://cdn.rawgit.com/bmabey/pyLDAvis/files/ldavis.v1.0.0.js\", function(){\n",
       "        new LDAvis(\"#\" + \"ldavis_el5941397443368199283074758071\", ldavis_el5941397443368199283074758071_data);\n",
       "      });\n",
       "    });\n",
       "}else{\n",
       "    // require.js not available: dynamically load d3 & LDAvis\n",
       "    LDAvis_load_lib(\"https://cdnjs.cloudflare.com/ajax/libs/d3/3.5.5/d3.min.js\", function(){\n",
       "         LDAvis_load_lib(\"https://cdn.rawgit.com/bmabey/pyLDAvis/files/ldavis.v1.0.0.js\", function(){\n",
       "                 new LDAvis(\"#\" + \"ldavis_el5941397443368199283074758071\", ldavis_el5941397443368199283074758071_data);\n",
       "            })\n",
       "         });\n",
       "}\n",
       "</script>"
      ],
      "text/plain": [
       "PreparedData(topic_coordinates=              x         y  topics  cluster       Freq\n",
       "topic                                                \n",
       "2      0.031308  0.068870       1        1  28.594934\n",
       "8      0.045022 -0.026812       2        1  13.672786\n",
       "5      0.177646 -0.020932       3        1  11.869944\n",
       "7      0.083334  0.037495       4        1  10.367647\n",
       "3     -0.123454  0.034597       5        1   9.890707\n",
       "9     -0.076665  0.042327       6        1   9.299570\n",
       "4     -0.109101  0.082755       7        1   5.518444\n",
       "6      0.076903  0.057811       8        1   5.335089\n",
       "1     -0.074367 -0.075163       9        1   2.975413\n",
       "0     -0.030626 -0.200948      10        1   2.475468, topic_info=     Category          Freq       Term         Total  loglift  logprob\n",
       "term                                                                  \n",
       "14    Default  24722.000000         dr  24722.000000  30.0000  30.0000\n",
       "49    Default   5177.000000    surgery   5177.000000  29.0000  29.0000\n",
       "112   Default  15939.000000      staff  15939.000000  28.0000  28.0000\n",
       "7     Default  13227.000000       care  13227.000000  27.0000  27.0000\n",
       "37    Default  27472.000000        not  27472.000000  26.0000  26.0000\n",
       "226   Default  12977.000000     office  12977.000000  25.0000  25.0000\n",
       "39    Default   3834.000000       pain   3834.000000  24.0000  24.0000\n",
       "218   Default   6282.000000   friendly   6282.000000  23.0000  23.0000\n",
       "239   Default   5305.000000       love   5305.000000  22.0000  22.0000\n",
       "355   Default   7222.000000     always   7222.000000  21.0000  21.0000\n",
       "219   Default  11594.000000      great  11594.000000  20.0000  20.0000\n",
       "730   Default   2780.000000  treatment   2780.000000  19.0000  19.0000\n",
       "292   Default   1571.000000       baby   1571.000000  18.0000  18.0000\n",
       "23    Default   2417.000000   hospital   2417.000000  17.0000  17.0000\n",
       "40    Default   8675.000000    patient   8675.000000  16.0000  16.0000\n",
       "825   Default   3837.000000     -PRON-   3837.000000  15.0000  15.0000\n",
       "13    Default  17865.000000     doctor  17865.000000  14.0000  14.0000\n",
       "80    Default  15747.000000       good  15747.000000  13.0000  13.0000\n",
       "901   Default   2316.000000        eye   2316.000000  12.0000  12.0000\n",
       "20    Default  17080.000000         go  17080.000000  11.0000  11.0000\n",
       "211   Default   5707.000000       year   5707.000000  10.0000  10.0000\n",
       "356   Default   5613.000000    amazing   5613.000000   9.0000   9.0000\n",
       "853   Default   3638.000000      nurse   3638.000000   8.0000   8.0000\n",
       "436   Default   2687.000000  make_feel   2687.000000   7.0000   7.0000\n",
       "963   Default   2926.000000  procedure   2926.000000   6.0000   6.0000\n",
       "232   Default   6720.000000       wait   6720.000000   5.0000   5.0000\n",
       "423   Default   2461.000000        son   2461.000000   4.0000   4.0000\n",
       "1663  Default   1161.000000      glass   1161.000000   3.0000   3.0000\n",
       "231   Default  16473.000000       time  16473.000000   2.0000   2.0000\n",
       "52    Default   5151.000000      thank   5151.000000   1.0000   1.0000\n",
       "...       ...           ...        ...           ...      ...      ...\n",
       "14    Topic10    873.490112         dr  24722.781250   0.3558  -3.6928\n",
       "848   Topic10     60.184834       mary    105.880615   3.1338  -6.3679\n",
       "7     Topic10    426.812531       care  13227.347656   0.2650  -4.4090\n",
       "211   Topic10    279.712463       year   5707.868164   0.6829  -4.8316\n",
       "2484  Topic10     84.172310  henderson    269.522400   2.5350  -6.0325\n",
       "192   Topic10    352.424194        see  14395.534180  -0.0111  -4.6005\n",
       "39    Topic10    213.359314       pain   3834.630615   0.8099  -5.1024\n",
       "20    Topic10    316.573120         go  17080.318359  -0.2894  -4.7078\n",
       "239   Topic10    210.752945       love   5305.218262   0.4730  -5.1147\n",
       "412   Topic10    145.125732       life   1861.833740   1.1470  -5.4877\n",
       "80    Topic10    248.949356       good  15747.631836  -0.4485  -4.9481\n",
       "40    Topic10    201.915970    patient   8675.691406  -0.0617  -5.1575\n",
       "270   Topic10    191.029236        one   7376.246094   0.0451  -5.2129\n",
       "37    Topic10    262.882629        not  27472.119141  -0.9505  -4.8936\n",
       "657   Topic10    169.294769       help   5772.803223   0.1695  -5.3337\n",
       "117   Topic10    137.353394      treat   2612.052246   0.7534  -5.5428\n",
       "226   Topic10    195.978271     office  12977.591797  -0.4942  -5.1873\n",
       "231   Topic10    204.602341       time  16473.291016  -0.6897  -5.1443\n",
       "194   Topic10    135.775894      since   2656.114502   0.7251  -5.5543\n",
       "1136  Topic10    122.693069      child   1855.954224   0.9823  -5.6557\n",
       "730   Topic10    127.370895  treatment   2780.489502   0.6155  -5.6182\n",
       "52    Topic10    133.574448      thank   5151.687500   0.0463  -5.5707\n",
       "112   Topic10    157.613586      staff  15939.469727  -0.9177  -5.4052\n",
       "126   Topic10    132.956421       back   7086.692871  -0.2772  -5.5753\n",
       "50    Topic10    139.898743       take  11796.102539  -0.7359  -5.5244\n",
       "883   Topic10    117.697617      happy   3184.484863   0.4008  -5.6972\n",
       "355   Topic10    124.130844     always   7222.460449  -0.3649  -5.6440\n",
       "767   Topic10    105.996262       team   1518.304810   1.0368  -5.8019\n",
       "134   Topic10    114.455292       come   7120.696289  -0.4318  -5.7252\n",
       "13    Topic10    112.696617     doctor  17865.974609  -1.3672  -5.7406\n",
       "\n",
       "[878 rows x 6 columns], token_table=      Topic      Freq                  Term\n",
       "term                                       \n",
       "825       1  0.262898                -PRON-\n",
       "825       2  0.218083                -PRON-\n",
       "825       3  0.134966                -PRON-\n",
       "825       4  0.004690                -PRON-\n",
       "825       5  0.054195                -PRON-\n",
       "825       6  0.009380                -PRON-\n",
       "825       7  0.034132                -PRON-\n",
       "825       8  0.276707                -PRON-\n",
       "825       9  0.002345                -PRON-\n",
       "825      10  0.002866                -PRON-\n",
       "2193      4  0.981236             -PRON-_be\n",
       "122       1  0.308004                  able\n",
       "122       2  0.125177                  able\n",
       "122       3  0.066888                  able\n",
       "122       4  0.027392                  able\n",
       "122       5  0.230605                  able\n",
       "122       6  0.193976                  able\n",
       "122       7  0.014015                  able\n",
       "122       8  0.016563                  able\n",
       "122       9  0.011785                  able\n",
       "122      10  0.005733                  able\n",
       "7445      1  0.972308  absolutely_fantastic\n",
       "427       2  0.157739  absolutely_wonderful\n",
       "427       4  0.817375  absolutely_wonderful\n",
       "427       9  0.021510  absolutely_wonderful\n",
       "7398      6  0.982942            accessible\n",
       "353       1  0.115663           accommodate\n",
       "353       2  0.097868           accommodate\n",
       "353       3  0.579585           accommodate\n",
       "353       4  0.108037           accommodate\n",
       "...     ...       ...                   ...\n",
       "282       3  0.112139                  work\n",
       "282       4  0.129992                  work\n",
       "282       5  0.203307                  work\n",
       "282       6  0.193774                  work\n",
       "282       7  0.034144                  work\n",
       "282       8  0.019759                  work\n",
       "282       9  0.020625                  work\n",
       "282      10  0.015079                  work\n",
       "58        1  0.352014                 would\n",
       "58        2  0.102351                 would\n",
       "58        3  0.070603                 would\n",
       "58        4  0.119114                 would\n",
       "58        5  0.076597                 would\n",
       "58        6  0.125997                 would\n",
       "58        7  0.079039                 would\n",
       "58        8  0.052619                 would\n",
       "58        9  0.013987                 would\n",
       "58       10  0.007771                 would\n",
       "211       1  0.091803                  year\n",
       "211       2  0.261744                  year\n",
       "211       3  0.218821                  year\n",
       "211       4  0.072707                  year\n",
       "211       5  0.219872                  year\n",
       "211       6  0.044850                  year\n",
       "211       7  0.015417                  year\n",
       "211       8  0.015417                  year\n",
       "211       9  0.010512                  year\n",
       "211      10  0.049055                  year\n",
       "9318      3  0.947325                zocdoc\n",
       "9318      4  0.024290                zocdoc\n",
       "\n",
       "[2770 rows x 3 columns], R=30, lambda_step=0.01, plot_opts={'xlab': 'PC1', 'ylab': 'PC2'}, topic_order=[3, 9, 6, 8, 4, 10, 5, 7, 2, 1])"
      ]
     },
     "execution_count": 28,
     "metadata": {},
     "output_type": "execute_result"
    }
   ],
   "source": [
    "pyLDAvis.enable_notebook()\n",
    "pyLDAvis.gensim.prepare(ldamodel, corpus, dictionary)"
   ]
  },
  {
   "cell_type": "markdown",
   "metadata": {},
   "source": [
    "## Topic coherence"
   ]
  },
  {
   "cell_type": "code",
   "execution_count": 29,
   "metadata": {},
   "outputs": [
    {
     "name": "stdout",
     "output_type": "stream",
     "text": [
      "CPU times: user 1.86 s, sys: 547 ms, total: 2.41 s\n",
      "Wall time: 1.03 s\n"
     ]
    }
   ],
   "source": [
    "%%time\n",
    "lsitopics = [[word for word, prob in topic] for topicid, topic in lsimodel.show_topics(formatted=False)]\n",
    "hdptopics = [[word for word, prob in topic] for topicid, topic in hdpmodel.show_topics(formatted=False)]\n",
    "ldatopics = [[word for word, prob in topic] for topicid, topic in ldamodel.show_topics(formatted=False)]"
   ]
  },
  {
   "cell_type": "code",
   "execution_count": 30,
   "metadata": {},
   "outputs": [
    {
     "name": "stdout",
     "output_type": "stream",
     "text": [
      "CPU times: user 7.56 s, sys: 8.16 s, total: 15.7 s\n",
      "Wall time: 32.6 s\n"
     ]
    }
   ],
   "source": [
    "%%time\n",
    "lsi_coherence = CoherenceModel(topics=lsitopics[:10], texts=texts, dictionary=dictionary, window_size=10).get_coherence()\n",
    "hdp_coherence = CoherenceModel(topics=hdptopics[:10], texts=texts, dictionary=dictionary, window_size=10).get_coherence()\n",
    "lda_coherence = CoherenceModel(topics=ldatopics, texts=texts, dictionary=dictionary, window_size=10).get_coherence()"
   ]
  },
  {
   "cell_type": "code",
   "execution_count": 31,
   "metadata": {},
   "outputs": [],
   "source": [
    "def evaluate_bar_graph(coherences, indices):\n",
    "    \"\"\"\n",
    "    Function to plot bar graph.\n",
    "    coherences: list of coherence values\n",
    "    indices: Indices to be used to mark bars. Length of this and coherences should be equal.\n",
    "    \"\"\"\n",
    "    assert len(coherences) == len(indices)\n",
    "    n = len(coherences)\n",
    "    x = np.arange(n)\n",
    "    plt.bar(x, coherences, width=0.2, tick_label=indices, align='center')\n",
    "    plt.xlabel('Models')\n",
    "    plt.ylabel('Coherence Value')"
   ]
  },
  {
   "cell_type": "code",
   "execution_count": 32,
   "metadata": {},
   "outputs": [
    {
     "data": {
      "image/png": "[encoded data removed]",
      "text/plain": [
       "<Figure size 432x288 with 1 Axes>"
      ]
     },
     "metadata": {
      "needs_background": "light"
     },
     "output_type": "display_data"
    }
   ],
   "source": [
    "evaluate_bar_graph([lsi_coherence, hdp_coherence, lda_coherence],\n",
    "['LSI', 'HDP', 'LDA'])"
   ]
  },
  {
   "cell_type": "code",
   "execution_count": null,
   "metadata": {},
   "outputs": [],
   "source": []
  },
  {
   "cell_type": "code",
   "execution_count": 33,
   "metadata": {},
   "outputs": [],
   "source": [
    "def evaluate_graph(dictionary, corpus, texts, limit):\n",
    "    \"\"\"\n",
    "    Function to display num_topics - LDA graph using c_v coherence\n",
    "    Parameters:\n",
    "    ----------\n",
    "    dictionary : Gensim dictionary\n",
    "    corpus : Gensim corpus\n",
    "    limit : topic limit\n",
    "    Returns:\n",
    "    -------\n",
    "    lm_list : List of LDA topic models\n",
    "    c_v : Coherence values corresponding to the LDA model with respective number of topics\n",
    "    \"\"\"\n",
    "    c_v = []\n",
    "    lm_list = []\n",
    "    for num_topics in range(1, limit):\n",
    "        lm = LdaModel(corpus=corpus, num_topics=num_topics, id2word=dictionary)\n",
    "        lm_list.append(lm)\n",
    "        cm = CoherenceModel(model=lm, texts=texts, dictionary=dictionary, coherence='c_v')\n",
    "        c_v.append(cm.get_coherence())\n",
    "    # Show graph\n",
    "    x = range(1, limit)\n",
    "    plt.plot(x, c_v)\n",
    "    plt.xlabel(\"num_topics\")\n",
    "    plt.ylabel(\"Coherence score\")\n",
    "    plt.legend((\"c_v\"), loc='best')\n",
    "    plt.show()\n",
    "    \n",
    "    return lm_list, c_v"
   ]
  },
  {
   "cell_type": "code",
   "execution_count": null,
   "metadata": {},
   "outputs": [],
   "source": []
  },
  {
   "cell_type": "code",
   "execution_count": null,
   "metadata": {},
   "outputs": [],
   "source": [
    "%%time\n",
    "lmlist, c_v = evaluate_graph(dictionary=dictionary, corpus=corpus, texts=texts, limit=10)"
   ]
  },
  {
   "cell_type": "code",
   "execution_count": null,
   "metadata": {},
   "outputs": [],
   "source": []
  },
  {
   "cell_type": "code",
   "execution_count": null,
   "metadata": {},
   "outputs": [],
   "source": []
  }
 ],
 "metadata": {
  "kernelspec": {
   "display_name": "Python 3",
   "language": "python",
   "name": "python3"
  },
  "language_info": {
   "codemirror_mode": {
    "name": "ipython",
    "version": 3
   },
   "file_extension": ".py",
   "mimetype": "text/x-python",
   "name": "python",
   "nbconvert_exporter": "python",
   "pygments_lexer": "ipython3",
   "version": "3.6.6"
  }
 },
 "nbformat": 4,
 "nbformat_minor": 2
}
