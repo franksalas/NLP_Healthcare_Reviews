{
 "cells": [
  {
   "cell_type": "code",
   "execution_count": 1,
   "metadata": {},
   "outputs": [],
   "source": [
    "import warnings\n",
    "warnings.filterwarnings('ignore')\n",
    "from pprint import pprint\n",
    "import pandas as pd\n",
    "import numpy as np\n",
    "import matplotlib.pyplot as plt\n",
    "%matplotlib inline\n",
    "import seaborn as sns\n",
    "sns.set()"
   ]
  },
  {
   "cell_type": "code",
   "execution_count": 2,
   "metadata": {},
   "outputs": [
    {
     "name": "stdout",
     "output_type": "stream",
     "text": [
      "\u001b[0m\u001b[01;32mCorpora_and_Vector_Spaces.ipynb\u001b[0m*  \u001b[01;32mneg_reviews.csv\u001b[0m*\r\n",
      "\u001b[01;36;40mgensim_docs\u001b[0m/                      \u001b[01;32mpos_bsns.csv\u001b[0m*\r\n",
      "\u001b[01;32mgensim tutorial.ipynb\u001b[0m*            \u001b[01;32mpos_reviews.csv\u001b[0m*\r\n",
      "\u001b[01;32mhealth_raw00-Copy1.csv\u001b[0m*           \u001b[01;32mtopic models.ipynb\u001b[0m*\r\n",
      "\u001b[01;32mhealth_text_sentiment.csv\u001b[0m*        \u001b[01;32mtopic models-mydata.ipynb\u001b[0m*\r\n",
      "\u001b[01;32mhealth_text_sentiment_full.csv\u001b[0m*   \u001b[01;32mUntitled.ipynb\u001b[0m*\r\n",
      "\u001b[01;32mneg_bsns.csv\u001b[0m*\r\n"
     ]
    }
   ],
   "source": [
    "ls"
   ]
  },
  {
   "cell_type": "code",
   "execution_count": 3,
   "metadata": {},
   "outputs": [
    {
     "name": "stdout",
     "output_type": "stream",
     "text": [
      "<class 'pandas.core.frame.DataFrame'>\n",
      "RangeIndex: 64006 entries, 0 to 64005\n",
      "Data columns (total 18 columns):\n",
      "stars               64006 non-null int64\n",
      "sent_value          64006 non-null float64\n",
      "sent_value_clean    64006 non-null float64\n",
      "sent_score          64006 non-null object\n",
      "sent_score_clean    64006 non-null object\n",
      "business_id         64006 non-null object\n",
      "categories          64006 non-null object\n",
      "categories_list     64006 non-null object\n",
      "clean_text          64006 non-null object\n",
      "cool                64006 non-null int64\n",
      "date                64006 non-null object\n",
      "funny               64006 non-null int64\n",
      "name                64006 non-null object\n",
      "review_id           64006 non-null object\n",
      "state               64006 non-null object\n",
      "text                64006 non-null object\n",
      "useful              64006 non-null int64\n",
      "user_id             64006 non-null object\n",
      "dtypes: float64(2), int64(4), object(12)\n",
      "memory usage: 8.8+ MB\n"
     ]
    }
   ],
   "source": [
    "# df = pd.read_csv('health_text_sentiment.csv')\n",
    "# df = df.drop(labels='Unnamed: 0', axis=1)\n",
    "df = pd.read_csv('health_text_sentiment_full.csv')\n",
    "df = df.drop(labels='Unnamed: 0', axis=1)\n",
    "df.info()"
   ]
  },
  {
   "cell_type": "code",
   "execution_count": 5,
   "metadata": {},
   "outputs": [
    {
     "data": {
      "text/html": [
       "<div>\n",
       "<style scoped>\n",
       "    .dataframe tbody tr th:only-of-type {\n",
       "        vertical-align: middle;\n",
       "    }\n",
       "\n",
       "    .dataframe tbody tr th {\n",
       "        vertical-align: top;\n",
       "    }\n",
       "\n",
       "    .dataframe thead th {\n",
       "        text-align: right;\n",
       "    }\n",
       "</style>\n",
       "<table border=\"1\" class=\"dataframe\">\n",
       "  <thead>\n",
       "    <tr style=\"text-align: right;\">\n",
       "      <th></th>\n",
       "      <th>stars</th>\n",
       "      <th>sent_value</th>\n",
       "      <th>sent_value_clean</th>\n",
       "      <th>sent_score</th>\n",
       "      <th>sent_score_clean</th>\n",
       "      <th>business_id</th>\n",
       "      <th>categories</th>\n",
       "      <th>categories_list</th>\n",
       "      <th>clean_text</th>\n",
       "      <th>cool</th>\n",
       "      <th>date</th>\n",
       "      <th>funny</th>\n",
       "      <th>name</th>\n",
       "      <th>review_id</th>\n",
       "      <th>state</th>\n",
       "      <th>text</th>\n",
       "      <th>useful</th>\n",
       "      <th>user_id</th>\n",
       "    </tr>\n",
       "  </thead>\n",
       "  <tbody>\n",
       "    <tr>\n",
       "      <th>0</th>\n",
       "      <td>1</td>\n",
       "      <td>-0.050645</td>\n",
       "      <td>-0.036719</td>\n",
       "      <td>negative</td>\n",
       "      <td>negative</td>\n",
       "      <td>y-4xTZNKVm8mAZpiXMS5ZA</td>\n",
       "      <td>urologists, doctors, health &amp; medical</td>\n",
       "      <td>['urologists', ' doctors', ' health &amp; medical']</td>\n",
       "      <td>please stay away place bad care imaginable sta...</td>\n",
       "      <td>0</td>\n",
       "      <td>2018-03-03</td>\n",
       "      <td>0</td>\n",
       "      <td>Lauren Byrne, MD</td>\n",
       "      <td>TNNkSmMfshsD3G60jTNjDA</td>\n",
       "      <td>AZ</td>\n",
       "      <td>Please stay away from this place if you can! I...</td>\n",
       "      <td>2</td>\n",
       "      <td>xv2V2GO5IZYvtw4oW7gQ1w</td>\n",
       "    </tr>\n",
       "    <tr>\n",
       "      <th>1</th>\n",
       "      <td>5</td>\n",
       "      <td>0.024962</td>\n",
       "      <td>0.069479</td>\n",
       "      <td>positive</td>\n",
       "      <td>positive</td>\n",
       "      <td>y-4xTZNKVm8mAZpiXMS5ZA</td>\n",
       "      <td>urologists, doctors, health &amp; medical</td>\n",
       "      <td>['urologists', ' doctors', ' health &amp; medical']</td>\n",
       "      <td>husband patient dr byrne last year half last m...</td>\n",
       "      <td>0</td>\n",
       "      <td>2015-11-29</td>\n",
       "      <td>0</td>\n",
       "      <td>Lauren Byrne, MD</td>\n",
       "      <td>v-iKdstPdCxJr8zV1ZMdrw</td>\n",
       "      <td>AZ</td>\n",
       "      <td>My husband has been a patient of Dr. Byrne for...</td>\n",
       "      <td>1</td>\n",
       "      <td>SjvWP7c9toeZoV_q62zhTA</td>\n",
       "    </tr>\n",
       "  </tbody>\n",
       "</table>\n",
       "</div>"
      ],
      "text/plain": [
       "   stars  sent_value  sent_value_clean sent_score sent_score_clean  \\\n",
       "0      1   -0.050645         -0.036719   negative         negative   \n",
       "1      5    0.024962          0.069479   positive         positive   \n",
       "\n",
       "              business_id                             categories  \\\n",
       "0  y-4xTZNKVm8mAZpiXMS5ZA  urologists, doctors, health & medical   \n",
       "1  y-4xTZNKVm8mAZpiXMS5ZA  urologists, doctors, health & medical   \n",
       "\n",
       "                                   categories_list  \\\n",
       "0  ['urologists', ' doctors', ' health & medical']   \n",
       "1  ['urologists', ' doctors', ' health & medical']   \n",
       "\n",
       "                                          clean_text  cool        date  funny  \\\n",
       "0  please stay away place bad care imaginable sta...     0  2018-03-03      0   \n",
       "1  husband patient dr byrne last year half last m...     0  2015-11-29      0   \n",
       "\n",
       "               name               review_id state  \\\n",
       "0  Lauren Byrne, MD  TNNkSmMfshsD3G60jTNjDA    AZ   \n",
       "1  Lauren Byrne, MD  v-iKdstPdCxJr8zV1ZMdrw    AZ   \n",
       "\n",
       "                                                text  useful  \\\n",
       "0  Please stay away from this place if you can! I...       2   \n",
       "1  My husband has been a patient of Dr. Byrne for...       1   \n",
       "\n",
       "                  user_id  \n",
       "0  xv2V2GO5IZYvtw4oW7gQ1w  \n",
       "1  SjvWP7c9toeZoV_q62zhTA  "
      ]
     },
     "execution_count": 5,
     "metadata": {},
     "output_type": "execute_result"
    }
   ],
   "source": [
    "df.head(2)"
   ]
  },
  {
   "cell_type": "code",
   "execution_count": 10,
   "metadata": {},
   "outputs": [],
   "source": [
    "df = df[['business_id','name','stars','clean_text']]"
   ]
  },
  {
   "cell_type": "code",
   "execution_count": 16,
   "metadata": {},
   "outputs": [
    {
     "data": {
      "text/html": [
       "<div>\n",
       "<style scoped>\n",
       "    .dataframe tbody tr th:only-of-type {\n",
       "        vertical-align: middle;\n",
       "    }\n",
       "\n",
       "    .dataframe tbody tr th {\n",
       "        vertical-align: top;\n",
       "    }\n",
       "\n",
       "    .dataframe thead th {\n",
       "        text-align: right;\n",
       "    }\n",
       "</style>\n",
       "<table border=\"1\" class=\"dataframe\">\n",
       "  <thead>\n",
       "    <tr style=\"text-align: right;\">\n",
       "      <th></th>\n",
       "      <th>business_id</th>\n",
       "      <th>name</th>\n",
       "      <th>stars</th>\n",
       "      <th>clean_text</th>\n",
       "      <th>review_length</th>\n",
       "    </tr>\n",
       "  </thead>\n",
       "  <tbody>\n",
       "    <tr>\n",
       "      <th>0</th>\n",
       "      <td>y-4xTZNKVm8mAZpiXMS5ZA</td>\n",
       "      <td>Lauren Byrne, MD</td>\n",
       "      <td>1</td>\n",
       "      <td>please stay away place bad care imaginable sta...</td>\n",
       "      <td>998</td>\n",
       "    </tr>\n",
       "    <tr>\n",
       "      <th>1</th>\n",
       "      <td>y-4xTZNKVm8mAZpiXMS5ZA</td>\n",
       "      <td>Lauren Byrne, MD</td>\n",
       "      <td>5</td>\n",
       "      <td>husband patient dr byrne last year half last m...</td>\n",
       "      <td>547</td>\n",
       "    </tr>\n",
       "    <tr>\n",
       "      <th>2</th>\n",
       "      <td>y-4xTZNKVm8mAZpiXMS5ZA</td>\n",
       "      <td>Lauren Byrne, MD</td>\n",
       "      <td>4</td>\n",
       "      <td>dr byrne great doctor great bed side manner ex...</td>\n",
       "      <td>197</td>\n",
       "    </tr>\n",
       "    <tr>\n",
       "      <th>3</th>\n",
       "      <td>y-4xTZNKVm8mAZpiXMS5ZA</td>\n",
       "      <td>Lauren Byrne, MD</td>\n",
       "      <td>3</td>\n",
       "      <td>raise review dr bryne receptive daughter go an...</td>\n",
       "      <td>400</td>\n",
       "    </tr>\n",
       "    <tr>\n",
       "      <th>4</th>\n",
       "      <td>y-4xTZNKVm8mAZpiXMS5ZA</td>\n",
       "      <td>Lauren Byrne, MD</td>\n",
       "      <td>1</td>\n",
       "      <td>wish could give star bad office ever horrible ...</td>\n",
       "      <td>896</td>\n",
       "    </tr>\n",
       "  </tbody>\n",
       "</table>\n",
       "</div>"
      ],
      "text/plain": [
       "              business_id              name  stars  \\\n",
       "0  y-4xTZNKVm8mAZpiXMS5ZA  Lauren Byrne, MD      1   \n",
       "1  y-4xTZNKVm8mAZpiXMS5ZA  Lauren Byrne, MD      5   \n",
       "2  y-4xTZNKVm8mAZpiXMS5ZA  Lauren Byrne, MD      4   \n",
       "3  y-4xTZNKVm8mAZpiXMS5ZA  Lauren Byrne, MD      3   \n",
       "4  y-4xTZNKVm8mAZpiXMS5ZA  Lauren Byrne, MD      1   \n",
       "\n",
       "                                          clean_text  review_length  \n",
       "0  please stay away place bad care imaginable sta...            998  \n",
       "1  husband patient dr byrne last year half last m...            547  \n",
       "2  dr byrne great doctor great bed side manner ex...            197  \n",
       "3  raise review dr bryne receptive daughter go an...            400  \n",
       "4  wish could give star bad office ever horrible ...            896  "
      ]
     },
     "execution_count": 16,
     "metadata": {},
     "output_type": "execute_result"
    }
   ],
   "source": [
    "df.head()"
   ]
  },
  {
   "cell_type": "code",
   "execution_count": null,
   "metadata": {},
   "outputs": [],
   "source": []
  },
  {
   "cell_type": "code",
   "execution_count": 12,
   "metadata": {},
   "outputs": [],
   "source": [
    "df['review_length'] = df.clean_text.map(len)"
   ]
  },
  {
   "cell_type": "code",
   "execution_count": 13,
   "metadata": {},
   "outputs": [
    {
     "data": {
      "text/html": [
       "<div>\n",
       "<style scoped>\n",
       "    .dataframe tbody tr th:only-of-type {\n",
       "        vertical-align: middle;\n",
       "    }\n",
       "\n",
       "    .dataframe tbody tr th {\n",
       "        vertical-align: top;\n",
       "    }\n",
       "\n",
       "    .dataframe thead th {\n",
       "        text-align: right;\n",
       "    }\n",
       "</style>\n",
       "<table border=\"1\" class=\"dataframe\">\n",
       "  <thead>\n",
       "    <tr style=\"text-align: right;\">\n",
       "      <th></th>\n",
       "      <th>business_id</th>\n",
       "      <th>name</th>\n",
       "      <th>stars</th>\n",
       "      <th>clean_text</th>\n",
       "      <th>review_length</th>\n",
       "    </tr>\n",
       "  </thead>\n",
       "  <tbody>\n",
       "    <tr>\n",
       "      <th>0</th>\n",
       "      <td>y-4xTZNKVm8mAZpiXMS5ZA</td>\n",
       "      <td>Lauren Byrne, MD</td>\n",
       "      <td>1</td>\n",
       "      <td>please stay away place bad care imaginable sta...</td>\n",
       "      <td>998</td>\n",
       "    </tr>\n",
       "    <tr>\n",
       "      <th>1</th>\n",
       "      <td>y-4xTZNKVm8mAZpiXMS5ZA</td>\n",
       "      <td>Lauren Byrne, MD</td>\n",
       "      <td>5</td>\n",
       "      <td>husband patient dr byrne last year half last m...</td>\n",
       "      <td>547</td>\n",
       "    </tr>\n",
       "    <tr>\n",
       "      <th>2</th>\n",
       "      <td>y-4xTZNKVm8mAZpiXMS5ZA</td>\n",
       "      <td>Lauren Byrne, MD</td>\n",
       "      <td>4</td>\n",
       "      <td>dr byrne great doctor great bed side manner ex...</td>\n",
       "      <td>197</td>\n",
       "    </tr>\n",
       "    <tr>\n",
       "      <th>3</th>\n",
       "      <td>y-4xTZNKVm8mAZpiXMS5ZA</td>\n",
       "      <td>Lauren Byrne, MD</td>\n",
       "      <td>3</td>\n",
       "      <td>raise review dr bryne receptive daughter go an...</td>\n",
       "      <td>400</td>\n",
       "    </tr>\n",
       "    <tr>\n",
       "      <th>4</th>\n",
       "      <td>y-4xTZNKVm8mAZpiXMS5ZA</td>\n",
       "      <td>Lauren Byrne, MD</td>\n",
       "      <td>1</td>\n",
       "      <td>wish could give star bad office ever horrible ...</td>\n",
       "      <td>896</td>\n",
       "    </tr>\n",
       "  </tbody>\n",
       "</table>\n",
       "</div>"
      ],
      "text/plain": [
       "              business_id              name  stars  \\\n",
       "0  y-4xTZNKVm8mAZpiXMS5ZA  Lauren Byrne, MD      1   \n",
       "1  y-4xTZNKVm8mAZpiXMS5ZA  Lauren Byrne, MD      5   \n",
       "2  y-4xTZNKVm8mAZpiXMS5ZA  Lauren Byrne, MD      4   \n",
       "3  y-4xTZNKVm8mAZpiXMS5ZA  Lauren Byrne, MD      3   \n",
       "4  y-4xTZNKVm8mAZpiXMS5ZA  Lauren Byrne, MD      1   \n",
       "\n",
       "                                          clean_text  review_length  \n",
       "0  please stay away place bad care imaginable sta...            998  \n",
       "1  husband patient dr byrne last year half last m...            547  \n",
       "2  dr byrne great doctor great bed side manner ex...            197  \n",
       "3  raise review dr bryne receptive daughter go an...            400  \n",
       "4  wish could give star bad office ever horrible ...            896  "
      ]
     },
     "execution_count": 13,
     "metadata": {},
     "output_type": "execute_result"
    }
   ],
   "source": [
    "df.head()"
   ]
  },
  {
   "cell_type": "code",
   "execution_count": 14,
   "metadata": {},
   "outputs": [
    {
     "data": {
      "image/png": "[encoded data removed]",
      "text/plain": [
       "<Figure size 1080x216 with 5 Axes>"
      ]
     },
     "metadata": {
      "needs_background": "light"
     },
     "output_type": "display_data"
    }
   ],
   "source": [
    "# check how the review lengths are distributed\n",
    "ax = sns.FacetGrid(data=df, col='stars', xlim=(0, 2000)).map(plt.hist, 'review_length', bins=50)\n",
    "ax.axes[0][0].set(ylabel='number of reviews');"
   ]
  },
  {
   "cell_type": "code",
   "execution_count": 17,
   "metadata": {},
   "outputs": [
    {
     "name": "stdout",
     "output_type": "stream",
     "text": [
      "Postive Reviews:  35,971\n",
      "Negative Reviews:  25,749\n"
     ]
    }
   ],
   "source": [
    "pos_reviews = df.clean_text[df.stars>3].values\n",
    "neg_reviews = df.clean_text[df.stars<3].values\n",
    "print('Postive Reviews:  {:,}'.format(len(pos_reviews)))\n",
    "print('Negative Reviews:  {:,}'.format(len(neg_reviews)))"
   ]
  },
  {
   "cell_type": "code",
   "execution_count": 18,
   "metadata": {},
   "outputs": [
    {
     "name": "stdout",
     "output_type": "stream",
     "text": [
      "Postive Reviews:  31,726\n",
      "Negative Reviews:  21,988\n"
     ]
    }
   ],
   "source": [
    "pos_reviews = df.clean_text[df.stars==5].values\n",
    "neg_reviews = df.clean_text[df.stars == 1].values\n",
    "print('Postive Reviews:  {:,}'.format(len(pos_reviews)))\n",
    "print('Negative Reviews:  {:,}'.format(len(neg_reviews)))"
   ]
  },
  {
   "cell_type": "code",
   "execution_count": null,
   "metadata": {},
   "outputs": [],
   "source": [
    "31726+  21988"
   ]
  },
  {
   "cell_type": "markdown",
   "metadata": {},
   "source": [
    "## Stop words"
   ]
  },
  {
   "cell_type": "code",
   "execution_count": 19,
   "metadata": {},
   "outputs": [],
   "source": [
    "# additional stopwords\n",
    "from sklearn.feature_extraction import text \n",
    "extra_words = ['ve', 'like', 'got', 'just', \n",
    "               'don', 'really', 'said', 'told', 'ok',\n",
    "               'came', 'went', 'did', 'didn', 'good']\n",
    "stop_words = text.ENGLISH_STOP_WORDS.union(extra_words)"
   ]
  },
  {
   "cell_type": "markdown",
   "metadata": {},
   "source": [
    "## Tfidf"
   ]
  },
  {
   "cell_type": "code",
   "execution_count": 20,
   "metadata": {},
   "outputs": [
    {
     "name": "stdout",
     "output_type": "stream",
     "text": [
      "CPU times: user 2.69 s, sys: 219 ms, total: 2.91 s\n",
      "Wall time: 2.94 s\n"
     ]
    }
   ],
   "source": [
    "%%time\n",
    "from sklearn.feature_extraction.text import TfidfVectorizer\n",
    "\n",
    "# Create a vectorizer object to generate term document counts\n",
    "tfidf_pos = TfidfVectorizer(stop_words=stop_words, min_df=10, max_df=0.5, \n",
    "                        ngram_range=(1,1), token_pattern='[a-z][a-z]+')\n",
    "\n",
    "tfidf_neg = TfidfVectorizer(stop_words=stop_words, min_df=10, max_df=0.5, \n",
    "                        ngram_range=(1,1), token_pattern='[a-z][a-z]+')\n",
    "\n",
    "# Get random subset of reviews\n",
    "np.random.seed(38)\n",
    "num_reviews = 20000\n",
    "random_neg = np.random.choice(neg_reviews, size=num_reviews)\n",
    "random_pos = np.random.choice(pos_reviews, size=num_reviews)\n",
    "\n",
    "dicty = {'pizzas':'pizza', 'burgers':'burger', 'ordered':'order',\n",
    "         'prices':'price', 'topping':'toppings'}\n",
    "def replace_words(text, dicty):\n",
    "    '''Returns text with word substitutions made according\n",
    "       to the passed `dicty` dictionary'''\n",
    "    for i,j in dicty.items():\n",
    "        text = text.replace(i,j)\n",
    "    return text\n",
    "\n",
    "random_neg = [replace_words(w, dicty) for w in random_neg]\n",
    "random_pos = [replace_words(w, dicty) for w in random_pos]\n",
    "\n",
    "# Get the vectors\n",
    "neg_vectors = tfidf_neg.fit_transform(random_neg)\n",
    "pos_vectors = tfidf_pos.fit_transform(random_pos)"
   ]
  },
  {
   "cell_type": "code",
   "execution_count": 21,
   "metadata": {},
   "outputs": [],
   "source": [
    "# Store TFIDF vectors in a Pandas DataFrame to investigate further\n",
    "neg_df = pd.DataFrame(neg_vectors.todense(), columns=[tfidf_neg.get_feature_names()])\n",
    "pos_df = pd.DataFrame(pos_vectors.todense(), columns=[tfidf_pos.get_feature_names()])\n",
    "\n",
    "# get mean for each column (word): highest means are most important words\n",
    "col_means_neg = {}\n",
    "for col in neg_df:\n",
    "    col_means_neg[col] = neg_df[col].mean()\n",
    "\n",
    "col_means_pos = {}\n",
    "for col in pos_df:\n",
    "    col_means_pos[col] = pos_df[col].mean()"
   ]
  },
  {
   "cell_type": "code",
   "execution_count": 23,
   "metadata": {},
   "outputs": [
    {
     "name": "stdout",
     "output_type": "stream",
     "text": [
      "Top 8 words in POSITIVE reviews:[('doctor',), ('staff',), ('care',), ('great',), ('time',), ('office',), ('recommend',), ('feel',)]\n"
     ]
    }
   ],
   "source": [
    "no_top_words = 8\n",
    "\n",
    "print('Top %d words in POSITIVE reviews:' %no_top_words, end='')\n",
    "print(sorted(col_means_pos, key=col_means_pos.get, reverse=True)[:no_top_words])"
   ]
  },
  {
   "cell_type": "code",
   "execution_count": 24,
   "metadata": {},
   "outputs": [
    {
     "name": "stdout",
     "output_type": "stream",
     "text": [
      "Top 8 words in NEGATIVE reviews:[('doctor',), ('time',), ('wait',), ('appointment',), ('office',), ('tell',), ('dr',), ('say',)]\n"
     ]
    }
   ],
   "source": [
    "print('Top %d words in NEGATIVE reviews:' %no_top_words, end='')\n",
    "print(sorted(col_means_neg, key=col_means_neg.get, reverse=True)[:no_top_words])"
   ]
  },
  {
   "cell_type": "code",
   "execution_count": 25,
   "metadata": {},
   "outputs": [],
   "source": [
    "# delete dataframes to save memory\n",
    "del neg_df\n",
    "del pos_df"
   ]
  },
  {
   "cell_type": "markdown",
   "metadata": {},
   "source": [
    "## LSA"
   ]
  },
  {
   "cell_type": "code",
   "execution_count": 26,
   "metadata": {},
   "outputs": [],
   "source": [
    "# LSA\n",
    "from gensim import corpora, models, similarities, matutils\n",
    "\n",
    "# Convert sparse matrix of counts to a gensim corpus\n",
    "# Need to transpose it for gensim which wants terms by docs instead of docs by terms\n",
    "tfidf_pos_corpus = matutils.Sparse2Corpus(pos_vectors.transpose())\n",
    "tfidf_neg_corpus = matutils.Sparse2Corpus(neg_vectors.transpose())\n",
    "\n",
    "# Row indices\n",
    "id2word_pos = dict((v,k) for k,v in tfidf_pos.vocabulary_.items())\n",
    "id2word_neg = dict((v,k) for k,v in tfidf_neg.vocabulary_.items())\n",
    "\n",
    "# This is a hack for Python 3!\n",
    "id2word_pos = corpora.Dictionary.from_corpus(tfidf_pos_corpus, id2word=id2word_pos)\n",
    "id2word_neg = corpora.Dictionary.from_corpus(tfidf_neg_corpus, id2word=id2word_neg)"
   ]
  },
  {
   "cell_type": "code",
   "execution_count": 27,
   "metadata": {},
   "outputs": [],
   "source": [
    "# create LSA model\n",
    "num_topics = 20\n",
    "lsi_pos = models.LsiModel(tfidf_pos_corpus, id2word=id2word_pos, num_topics=num_topics)\n",
    "lsi_neg = models.LsiModel(tfidf_neg_corpus, id2word=id2word_neg, num_topics=num_topics)"
   ]
  },
  {
   "cell_type": "code",
   "execution_count": 28,
   "metadata": {},
   "outputs": [
    {
     "data": {
      "image/png": "[encoded data removed]",
      "text/plain": [
       "<Figure size 864x360 with 1 Axes>"
      ]
     },
     "metadata": {},
     "output_type": "display_data"
    }
   ],
   "source": [
    "# elbow plot\n",
    "singular_values_pos = lsi_pos.projection.s.tolist()\n",
    "singular_values_pos_rel = [sv/singular_values_pos[-1] for sv in singular_values_pos]\n",
    "singular_values_neg = lsi_neg.projection.s.tolist()\n",
    "singular_values_neg_rel = [sv/singular_values_neg[-1] for sv in singular_values_neg]\n",
    "\n",
    "plt.style.use('fivethirtyeight')\n",
    "plt.figure(figsize=(12,5))\n",
    "plt.plot(range(len(singular_values_pos)), singular_values_pos_rel, label='Positive Reviews', alpha=1.0)\n",
    "plt.plot(range(len(singular_values_neg)), singular_values_neg_rel, label='Negative Reviews', alpha=0.7)\n",
    "plt.xticks(range(len(singular_values_pos)), range(len(singular_values_pos)))\n",
    "plt.xlabel('Topic #')\n",
    "plt.ylabel('Relative Strength')\n",
    "plt.title('LSI Topic Strengths (Relative)')\n",
    "plt.legend(loc=0, fontsize='medium');"
   ]
  },
  {
   "cell_type": "code",
   "execution_count": 29,
   "metadata": {},
   "outputs": [],
   "source": [
    "topics_to_print = 5"
   ]
  },
  {
   "cell_type": "code",
   "execution_count": 30,
   "metadata": {},
   "outputs": [
    {
     "name": "stdout",
     "output_type": "stream",
     "text": [
      "Top 5 topics for POSITIVE reviews\n",
      "---------------------------------\n",
      "[(0,\n",
      "  '0.238*\"doctor\" + 0.213*\"staff\" + 0.205*\"time\" + 0.202*\"care\" + '\n",
      "  '0.194*\"great\" + 0.193*\"office\" + 0.154*\"feel\" + 0.153*\"recommend\" + '\n",
      "  '0.152*\"make\" + 0.144*\"friendly\"'),\n",
      " (1,\n",
      "  '0.321*\"friendly\" + -0.244*\"surgery\" + -0.238*\"pain\" + 0.235*\"staff\" + '\n",
      "  '0.228*\"great\" + 0.181*\"place\" + 0.169*\"clean\" + 0.158*\"nice\" + '\n",
      "  '-0.143*\"make\" + -0.142*\"feel\"'),\n",
      " (2,\n",
      "  '0.365*\"doctor\" + 0.299*\"wait\" + -0.250*\"surgery\" + -0.249*\"recommend\" + '\n",
      "  '-0.242*\"great\" + -0.239*\"highly\" + 0.214*\"time\" + -0.188*\"staff\" + '\n",
      "  '-0.150*\"eye\" + -0.132*\"professional\"'),\n",
      " (3,\n",
      "  '0.440*\"care\" + 0.283*\"doctor\" + -0.234*\"wait\" + 0.207*\"patient\" + '\n",
      "  '0.196*\"highly\" + -0.184*\"nice\" + 0.179*\"recommend\" + -0.172*\"make\" + '\n",
      "  '-0.165*\"appointment\" + 0.151*\"family\"'),\n",
      " (4,\n",
      "  '0.413*\"care\" + -0.344*\"office\" + 0.304*\"urgent\" + -0.245*\"doctor\" + '\n",
      "  '-0.195*\"question\" + -0.175*\"answer\" + -0.153*\"feel\" + 0.146*\"place\" + '\n",
      "  '0.141*\"service\" + 0.140*\"pain\"')]\n"
     ]
    }
   ],
   "source": [
    "# look at top positive topics\n",
    "print('Top %d topics for POSITIVE reviews' %(topics_to_print))\n",
    "print('-'*33)\n",
    "pprint(lsi_pos.show_topics()[0:topics_to_print])"
   ]
  },
  {
   "cell_type": "code",
   "execution_count": 31,
   "metadata": {},
   "outputs": [
    {
     "name": "stdout",
     "output_type": "stream",
     "text": [
      "Top 5 topics for NEGATIVE reviews\n",
      "---------------------------------\n",
      "[(0,\n",
      "  '0.224*\"doctor\" + 0.208*\"appointment\" + 0.208*\"wait\" + 0.203*\"time\" + '\n",
      "  '0.195*\"office\" + 0.184*\"tell\" + 0.168*\"say\" + 0.166*\"dr\" + 0.144*\"hour\" + '\n",
      "  '0.138*\"patient\"'),\n",
      " (1,\n",
      "  '0.532*\"wait\" + 0.367*\"hour\" + 0.269*\"appointment\" + 0.209*\"minute\" + '\n",
      "  '-0.196*\"insurance\" + 0.181*\"time\" + 0.163*\"room\" + -0.143*\"pay\" + '\n",
      "  '-0.131*\"dr\" + -0.122*\"office\"'),\n",
      " (2,\n",
      "  '-0.543*\"appointment\" + -0.286*\"office\" + 0.208*\"pain\" + 0.185*\"room\" + '\n",
      "  '0.183*\"hospital\" + 0.178*\"nurse\" + -0.168*\"schedule\" + -0.159*\"insurance\" + '\n",
      "  '0.154*\"care\" + 0.137*\"come\"'),\n",
      " (3,\n",
      "  '0.413*\"insurance\" + -0.341*\"office\" + -0.294*\"staff\" + 0.286*\"pay\" + '\n",
      "  '-0.265*\"dr\" + -0.204*\"rude\" + -0.198*\"doctor\" + 0.180*\"tell\" + '\n",
      "  '-0.167*\"patient\" + 0.150*\"charge\"'),\n",
      " (4,\n",
      "  '0.273*\"staff\" + 0.261*\"service\" + 0.261*\"insurance\" + -0.232*\"appointment\" '\n",
      "  '+ -0.223*\"dr\" + 0.219*\"rude\" + 0.198*\"place\" + -0.185*\"say\" + -0.178*\"tell\" '\n",
      "  '+ 0.171*\"customer\"')]\n"
     ]
    }
   ],
   "source": [
    "# look at top negative topics\n",
    "print('Top %d topics for NEGATIVE reviews' %(topics_to_print))\n",
    "print('-'*33)\n",
    "pprint(lsi_neg.show_topics()[0:topics_to_print])"
   ]
  },
  {
   "cell_type": "markdown",
   "metadata": {},
   "source": [
    "## nmf"
   ]
  },
  {
   "cell_type": "code",
   "execution_count": 32,
   "metadata": {},
   "outputs": [
    {
     "name": "stdout",
     "output_type": "stream",
     "text": [
      "CPU times: user 11.6 s, sys: 938 ms, total: 12.5 s\n",
      "Wall time: 5.84 s\n"
     ]
    }
   ],
   "source": [
    "%%time\n",
    "# negative values in LSA topics are annoying\n",
    "# let's see if we can fix that with NMF\n",
    "from sklearn.decomposition import NMF\n",
    "\n",
    "# change num_topics\n",
    "num_topics = 6\n",
    "\n",
    "nmf_pos = NMF(n_components=num_topics)\n",
    "W_pos = nmf_pos.fit_transform(pos_vectors)\n",
    "H_pos = nmf_pos.components_\n",
    "\n",
    "nmf_neg = NMF(n_components=num_topics)\n",
    "W_neg = nmf_neg.fit_transform(neg_vectors)\n",
    "H_neg = nmf_neg.components_"
   ]
  },
  {
   "cell_type": "code",
   "execution_count": 33,
   "metadata": {},
   "outputs": [
    {
     "name": "stdout",
     "output_type": "stream",
     "text": [
      "Top topics + words for POSITIVE reviews\n",
      "---------------------------------------\n",
      "Topic 0:   2.178*wait, 1.426*time, 1.028*appointment, 0.942*minute, 0.884*nice, 0.875*room\n",
      "Topic 1:   1.527*great, 1.262*staff, 1.101*recommend, 1.058*friendly, 0.977*highly, 0.773*place\n",
      "Topic 2:   1.259*surgery, 1.131*pain, 0.696*help, 0.630*eye, 0.613*year, 0.593*work\n",
      "Topic 3:   2.887*doctor, 1.176*office, 0.652*year, 0.589*patient, 0.424*family, 0.390*love\n",
      "Topic 4:   2.829*care, 1.058*urgent, 0.682*patient, 0.392*excellent, 0.359*need, 0.358*medical\n",
      "Topic 5:   1.829*feel, 1.731*make, 0.980*comfortable, 0.962*question, 0.817*answer, 0.582*time\n",
      "\n",
      "Top topics + words for NEGATIVE reviews\n",
      "---------------------------------------\n",
      "Topic 0:   1.417*say, 1.295*tell, 1.106*doctor, 0.994*pain, 0.965*ask, 0.923*come\n",
      "Topic 1:   2.541*wait, 1.773*hour, 0.913*time, 0.882*room, 0.856*minute, 0.554*come\n",
      "Topic 2:   3.029*appointment, 0.911*schedule, 0.799*make, 0.646*time, 0.539*tell, 0.510*minute\n",
      "Topic 3:   1.938*insurance, 1.366*pay, 0.746*charge, 0.654*company, 0.602*billing, 0.469*visit\n",
      "Topic 4:   1.929*office, 1.532*staff, 1.239*doctor, 1.146*rude, 0.769*patient, 0.603*bad\n",
      "Topic 5:   3.293*dr, 0.641*surgery, 0.578*patient, 0.521*year, 0.479*appt, 0.409*office\n"
     ]
    }
   ],
   "source": [
    "def display_topics(model, feature_names, num_topics, no_top_words):\n",
    "    for topic_idx, topic in enumerate(model.components_):\n",
    "        if topic_idx < num_topics:\n",
    "            print(\"{:11}\".format(\"Topic %d:\" %(topic_idx)), end='')\n",
    "            print(\", \".join(['{:04.3f}*'.format(topic[i])+feature_names[i] \\\n",
    "                             for i in topic.argsort()[:-no_top_words-1:-1]]))\n",
    "\n",
    "no_topics = num_topics\n",
    "no_top_words = 6\n",
    "\n",
    "print('Top topics + words for POSITIVE reviews')\n",
    "print('-'*39)\n",
    "display_topics(nmf_pos, tfidf_pos.get_feature_names(), no_topics, no_top_words)\n",
    "\n",
    "print('\\nTop topics + words for NEGATIVE reviews')\n",
    "print('-'*39)\n",
    "display_topics(nmf_neg, tfidf_neg.get_feature_names(), no_topics, no_top_words)"
   ]
  },
  {
   "cell_type": "markdown",
   "metadata": {},
   "source": [
    "## Review Similarity on NMF space"
   ]
  },
  {
   "cell_type": "code",
   "execution_count": 34,
   "metadata": {},
   "outputs": [
    {
     "name": "stdout",
     "output_type": "stream",
     "text": [
      "19384\n",
      "go dr mark year excellent internist take time patient supportive sometimes bit wait ok take necessary time patient sometimes need extra time sometimes someone else need get pharmacologist also know drug keep track anything new good highly recommend\n"
     ]
    }
   ],
   "source": [
    "# look at a random positive review\n",
    "review_num = np.random.randint(0, high=len(random_pos))\n",
    "print(review_num)\n",
    "print(random_pos[review_num])"
   ]
  },
  {
   "cell_type": "code",
   "execution_count": 35,
   "metadata": {},
   "outputs": [],
   "source": [
    "# compute cosine similarities of this review with all other reviews in the new space\n",
    "import sklearn.metrics.pairwise as smp\n",
    "\n",
    "cosines = {}\n",
    "for ind, review in enumerate(W_pos):\n",
    "    similarity = smp.cosine_similarity(W_pos[review_num].reshape(1,-1), review.reshape(1,-1))\n",
    "    cosines[ind] = similarity[0][0]"
   ]
  },
  {
   "cell_type": "code",
   "execution_count": 36,
   "metadata": {},
   "outputs": [
    {
     "name": "stdout",
     "output_type": "stream",
     "text": [
      "--------------------------------------------------\n",
      ">> Similarity 0.992\n",
      "always enjoy doctor siena pediatric dr carrie first sweet end switch dr glasser call daughter bear diagnose hip dysplasia get us immediate appointment specialist even leave hospital unfortunately dr glasser no longer siena stay start see dr mehri also sweet short wait time important kid office clean nice support staff talk someone question see review people complain not get day sick appointment try accommodate sure would help squeeze next day child sick need immediate attention not wait next day hospital urgent care would next good option pediatrician not find place great siena pediatric love\n",
      "--------------------------------------------------\n",
      ">> Similarity 0.985\n",
      "kid go see dr salek since day maybe amazing still know kid day even though see one son always ask seem genuinely concerned kid say wait office quick get quick would recommend dr salek take care friend kiddo\n",
      "--------------------------------------------------\n",
      ">> Similarity 0.984\n",
      "find pregnant need find ob right away go wellhealth first appt quickly switch dr jawadi glad find much good care service clinic small clean believe another provider work couple back office assistant not usually long wait also not allow kid office thing not like office not blood work site\n",
      "--------------------------------------------------\n"
     ]
    }
   ],
   "source": [
    "# get top 3 matching reviews\n",
    "for n in sorted(cosines, key=cosines.get, reverse=True)[1:4]:\n",
    "    print('-'*50)\n",
    "    print('>> Similarity {:.3f}'.format(cosines[n]))\n",
    "    print(random_pos[n])\n",
    "print('-'*50)"
   ]
  },
  {
   "cell_type": "markdown",
   "metadata": {},
   "source": [
    "## Count vectorizer"
   ]
  },
  {
   "cell_type": "code",
   "execution_count": 37,
   "metadata": {},
   "outputs": [],
   "source": [
    "from sklearn.feature_extraction.text import CountVectorizer\n",
    "\n",
    "# Create a vectorizer object to generate term document counts\n",
    "cv_pos = CountVectorizer(stop_words=stop_words, min_df=10, max_df=0.5, \n",
    "                        ngram_range=(1,1), token_pattern='[a-z][a-z]+')\n",
    "\n",
    "cv_neg = CountVectorizer(stop_words=stop_words, min_df=10, max_df=0.5, \n",
    "                        ngram_range=(1,1), token_pattern='[a-z][a-z]+')\n",
    "\n",
    "# Get random subset of reviews\n",
    "np.random.seed(38)\n",
    "num_reviews = 15000\n",
    "cv_random_neg = np.random.choice(neg_reviews, size=num_reviews)\n",
    "cv_random_pos = np.random.choice(pos_reviews, size=num_reviews)\n",
    "\n",
    "# replace words from defined dictionary 'dicty'\n",
    "cv_random_neg = [replace_words(w, dicty) for w in cv_random_neg]\n",
    "cv_random_pos = [replace_words(w, dicty) for w in cv_random_pos]\n",
    "\n",
    "# Get the cv vectors\n",
    "cv_neg_vectors = cv_neg.fit_transform(cv_random_neg).transpose()\n",
    "cv_pos_vectors = cv_pos.fit_transform(cv_random_pos).transpose()\n"
   ]
  },
  {
   "cell_type": "code",
   "execution_count": 38,
   "metadata": {},
   "outputs": [],
   "source": [
    "# Convert sparse matrix of counts to a gensim corpus\n",
    "corpus_neg = matutils.Sparse2Corpus(cv_neg_vectors)\n",
    "corpus_pos = matutils.Sparse2Corpus(cv_pos_vectors)\n",
    "\n",
    "# save a mapping (dict) of row id to word (token) for later use by gensim \n",
    "id2word_cv_pos = dict((v, k) for k, v in cv_pos.vocabulary_.items())\n",
    "id2word_cv_neg = dict((v, k) for k, v in cv_neg.vocabulary_.items())"
   ]
  },
  {
   "cell_type": "markdown",
   "metadata": {},
   "source": [
    "## lda\n",
    "~ 2 minutes"
   ]
  },
  {
   "cell_type": "code",
   "execution_count": 39,
   "metadata": {},
   "outputs": [
    {
     "name": "stdout",
     "output_type": "stream",
     "text": [
      "CPU times: user 3min 41s, sys: 31.5 s, total: 4min 12s\n",
      "Wall time: 4min 4s\n"
     ]
    }
   ],
   "source": [
    "%%time\n",
    "# create lda multicore model\n",
    "lda_pos = models.ldamulticore.LdaMulticore(corpus=corpus_pos, num_topics=5, \n",
    "                                           id2word=id2word_cv_pos, passes=10, workers=15)\n",
    "lda_neg = models.ldamulticore.LdaMulticore(corpus=corpus_neg, num_topics=5, \n",
    "                                           id2word=id2word_cv_neg, passes=10, workers=15)"
   ]
  },
  {
   "cell_type": "code",
   "execution_count": 40,
   "metadata": {},
   "outputs": [
    {
     "name": "stdout",
     "output_type": "stream",
     "text": [
      "Top topics + words for POSITIVE reviews\n",
      "---------------------------------------\n",
      "[(0,\n",
      "  '0.014*\"pain\" + 0.014*\"year\" + 0.011*\"surgery\" + 0.010*\"help\" + 0.009*\"care\" '\n",
      "  '+ 0.009*\"thank\" + 0.009*\"doctor\"'),\n",
      " (1,\n",
      "  '0.018*\"time\" + 0.013*\"wait\" + 0.011*\"care\" + 0.011*\"great\" + 0.010*\"need\" + '\n",
      "  '0.010*\"doctor\" + 0.009*\"come\"'),\n",
      " (2,\n",
      "  '0.035*\"doctor\" + 0.032*\"care\" + 0.025*\"staff\" + 0.019*\"time\" + '\n",
      "  '0.018*\"great\" + 0.014*\"recommend\" + 0.014*\"office\"'),\n",
      " (3,\n",
      "  '0.028*\"staff\" + 0.025*\"office\" + 0.015*\"great\" + 0.014*\"recommend\" + '\n",
      "  '0.013*\"surgery\" + 0.012*\"friendly\" + 0.012*\"love\"'),\n",
      " (4,\n",
      "  '0.022*\"make\" + 0.019*\"doctor\" + 0.018*\"time\" + 0.016*\"feel\" + '\n",
      "  '0.014*\"question\" + 0.011*\"office\" + 0.011*\"staff\"')]\n",
      "\n",
      "Top topics + words for NEGATIVE reviews\n",
      "---------------------------------------\n",
      "[(0,\n",
      "  '0.013*\"tell\" + 0.013*\"say\" + 0.013*\"day\" + 0.012*\"time\" + 0.011*\"insurance\" '\n",
      "  '+ 0.010*\"office\" + 0.010*\"doctor\"'),\n",
      " (1,\n",
      "  '0.021*\"tell\" + 0.021*\"say\" + 0.014*\"pain\" + 0.014*\"doctor\" + 0.013*\"time\" + '\n",
      "  '0.013*\"come\" + 0.012*\"ask\"'),\n",
      " (2,\n",
      "  '0.020*\"tell\" + 0.019*\"office\" + 0.018*\"doctor\" + 0.018*\"insurance\" + '\n",
      "  '0.015*\"say\" + 0.012*\"pay\" + 0.011*\"dr\"'),\n",
      " (3,\n",
      "  '0.023*\"dr\" + 0.020*\"doctor\" + 0.016*\"office\" + 0.014*\"time\" + 0.012*\"care\" '\n",
      "  '+ 0.012*\"staff\" + 0.010*\"say\"'),\n",
      " (4,\n",
      "  '0.034*\"wait\" + 0.034*\"appointment\" + 0.026*\"time\" + 0.023*\"doctor\" + '\n",
      "  '0.020*\"hour\" + 0.017*\"office\" + 0.016*\"tell\"')]\n"
     ]
    }
   ],
   "source": [
    "print('Top topics + words for POSITIVE reviews')\n",
    "print('-'*39)\n",
    "pprint(lda_pos.print_topics(num_words=7))\n",
    "\n",
    "print('\\nTop topics + words for NEGATIVE reviews')\n",
    "print('-'*39)\n",
    "pprint(lda_neg.print_topics(num_words=7))"
   ]
  },
  {
   "cell_type": "markdown",
   "metadata": {},
   "source": [
    "## Continuing with NMF Topics ¶ "
   ]
  },
  {
   "cell_type": "code",
   "execution_count": 41,
   "metadata": {},
   "outputs": [
    {
     "name": "stdout",
     "output_type": "stream",
     "text": [
      "Top topics + words for POSITIVE reviews\n",
      "---------------------------------------\n",
      "Topic 0:   2.178*wait, 1.426*time, 1.028*appointment, 0.942*minute, 0.884*nice, 0.875*room\n",
      "Topic 1:   1.527*great, 1.262*staff, 1.101*recommend, 1.058*friendly, 0.977*highly, 0.773*place\n",
      "Topic 2:   1.259*surgery, 1.131*pain, 0.696*help, 0.630*eye, 0.613*year, 0.593*work\n",
      "Topic 3:   2.887*doctor, 1.176*office, 0.652*year, 0.589*patient, 0.424*family, 0.390*love\n",
      "Topic 4:   2.829*care, 1.058*urgent, 0.682*patient, 0.392*excellent, 0.359*need, 0.358*medical\n",
      "Topic 5:   1.829*feel, 1.731*make, 0.980*comfortable, 0.962*question, 0.817*answer, 0.582*time\n"
     ]
    }
   ],
   "source": [
    "# let's remind ourselves of the POSITIVE topics\n",
    "print('Top topics + words for POSITIVE reviews')\n",
    "print('-'*39)\n",
    "display_topics(nmf_pos, tfidf_pos.get_feature_names(), no_topics, no_top_words)"
   ]
  },
  {
   "cell_type": "code",
   "execution_count": 42,
   "metadata": {},
   "outputs": [
    {
     "name": "stdout",
     "output_type": "stream",
     "text": [
      "Positive Review #3533\n",
      "-------------------------\n",
      "tech nice loud even ear plug unbearable actually try dance sound first min annoying loud start question ability hear afterward\n",
      "-------------------------\n",
      "Topic 0: 0.0110\n",
      "Topic 5: 0.0105\n",
      "Topic 2: 0.0059\n",
      "Topic 1: 0.0000\n",
      "Topic 3: 0.0000\n",
      "Topic 4: 0.0000\n"
     ]
    }
   ],
   "source": [
    "# we can investigate a random positive review and see how it's distributed across those topics\n",
    "review_num = np.random.randint(0, high=len(random_pos))\n",
    "print('Positive Review #%d' %review_num)\n",
    "print('-'*25)\n",
    "print(random_pos[review_num])\n",
    "print('-'*25)\n",
    "topic_dict = {}\n",
    "for ind, w in enumerate(W_pos[review_num]):\n",
    "    topic_dict[ind] = w\n",
    "for k in sorted(topic_dict, key=topic_dict.get, reverse=True):\n",
    "     print('Topic {}: {:.4f}'.format(k, topic_dict[k]))"
   ]
  },
  {
   "cell_type": "code",
   "execution_count": 43,
   "metadata": {},
   "outputs": [
    {
     "name": "stdout",
     "output_type": "stream",
     "text": [
      "Top topics + words for NEGATIVE reviews\n",
      "---------------------------------------\n",
      "Topic 0:   1.417*say, 1.295*tell, 1.106*doctor, 0.994*pain, 0.965*ask, 0.923*come\n",
      "Topic 1:   2.541*wait, 1.773*hour, 0.913*time, 0.882*room, 0.856*minute, 0.554*come\n",
      "Topic 2:   3.029*appointment, 0.911*schedule, 0.799*make, 0.646*time, 0.539*tell, 0.510*minute\n",
      "Topic 3:   1.938*insurance, 1.366*pay, 0.746*charge, 0.654*company, 0.602*billing, 0.469*visit\n",
      "Topic 4:   1.929*office, 1.532*staff, 1.239*doctor, 1.146*rude, 0.769*patient, 0.603*bad\n",
      "Topic 5:   3.293*dr, 0.641*surgery, 0.578*patient, 0.521*year, 0.479*appt, 0.409*office\n"
     ]
    }
   ],
   "source": [
    "print('Top topics + words for NEGATIVE reviews')\n",
    "print('-'*39)\n",
    "display_topics(nmf_neg, tfidf_neg.get_feature_names(), no_topics, no_top_words)"
   ]
  },
  {
   "cell_type": "code",
   "execution_count": 44,
   "metadata": {},
   "outputs": [
    {
     "name": "stdout",
     "output_type": "stream",
     "text": [
      "Negative Review #3591\n",
      "-------------------------\n",
      "bad experience ever hour not busy still not see doctor never ever come recommend place anyone seem appearance mean place patient would let give zero star would\n",
      "-------------------------\n",
      "Topic 4: 0.0423\n",
      "Topic 1: 0.0419\n",
      "Topic 0: 0.0155\n",
      "Topic 2: 0.0000\n",
      "Topic 3: 0.0000\n",
      "Topic 5: 0.0000\n"
     ]
    }
   ],
   "source": [
    "# now investigate a random negative review and see how it's distributed across those topics\n",
    "review_num = np.random.randint(0, high=len(random_neg))\n",
    "print('Negative Review #%d' %review_num)\n",
    "print('-'*25)\n",
    "print(random_neg[review_num])\n",
    "print('-'*25)\n",
    "topic_dict = {}\n",
    "for ind, w in enumerate(W_neg[review_num]):\n",
    "    topic_dict[ind] = w\n",
    "for k in sorted(topic_dict, key=topic_dict.get, reverse=True):\n",
    "     print('Topic {}: {:.4f}'.format(k, topic_dict[k]))"
   ]
  },
  {
   "cell_type": "markdown",
   "metadata": {},
   "source": [
    "## Topic Modeling All Reviews  \n",
    "\n",
    "At this point, we can see that our topics are relatively interpretable and match along with the reviews they're trying to categorize. Let's proceed with topic modeling all reviews and businesses using NMF.\n"
   ]
  },
  {
   "cell_type": "code",
   "execution_count": 45,
   "metadata": {},
   "outputs": [
    {
     "name": "stdout",
     "output_type": "stream",
     "text": [
      "Postive Reviews:  31,726\n",
      "Negative Reviews:  21,988\n"
     ]
    }
   ],
   "source": [
    "print('Postive Reviews:  {:,}'.format(len(pos_reviews)))\n",
    "print('Negative Reviews:  {:,}'.format(len(neg_reviews)))"
   ]
  },
  {
   "cell_type": "code",
   "execution_count": 46,
   "metadata": {},
   "outputs": [
    {
     "name": "stdout",
     "output_type": "stream",
     "text": [
      "CPU times: user 3.27 s, sys: 62.5 ms, total: 3.33 s\n",
      "Wall time: 3.32 s\n"
     ]
    }
   ],
   "source": [
    "%%time\n",
    "# Create a vectorizer object to generate term document counts\n",
    "tfidf_pos = TfidfVectorizer(stop_words=stop_words, min_df=10, max_df=0.5, \n",
    "                        ngram_range=(1,1), token_pattern='[a-z][a-z]+')\n",
    "\n",
    "tfidf_neg = TfidfVectorizer(stop_words=stop_words, min_df=10, max_df=0.5, \n",
    "                        ngram_range=(1,1), token_pattern='[a-z][a-z]+')\n",
    "\n",
    "# replace words with defined dictionary 'dicty'\n",
    "pos_reviews = [replace_words(w, dicty) for w in pos_reviews]\n",
    "neg_reviews = [replace_words(w, dicty) for w in neg_reviews]\n",
    "\n",
    "# Get the vectors\n",
    "neg_vectors = tfidf_neg.fit_transform(neg_reviews)\n",
    "pos_vectors = tfidf_pos.fit_transform(pos_reviews)"
   ]
  },
  {
   "cell_type": "code",
   "execution_count": 47,
   "metadata": {},
   "outputs": [
    {
     "name": "stdout",
     "output_type": "stream",
     "text": [
      "CPU times: user 11.9 s, sys: 1.25 s, total: 13.2 s\n",
      "Wall time: 6.07 s\n"
     ]
    }
   ],
   "source": [
    "%%time\n",
    "# NMF for all reviews\n",
    "from sklearn.decomposition import NMF\n",
    "\n",
    "# change num_topics\n",
    "num_topics = 6\n",
    "\n",
    "nmf_pos = NMF(n_components=num_topics)\n",
    "W_pos = nmf_pos.fit_transform(pos_vectors)\n",
    "H_pos = nmf_pos.components_\n",
    "\n",
    "nmf_neg = NMF(n_components=num_topics)\n",
    "W_neg = nmf_neg.fit_transform(neg_vectors)\n",
    "H_neg = nmf_neg.components_"
   ]
  },
  {
   "cell_type": "code",
   "execution_count": 48,
   "metadata": {},
   "outputs": [
    {
     "name": "stdout",
     "output_type": "stream",
     "text": [
      "Topics for POSITIVE reviews\n",
      "---------------------------------------\n",
      "Topic 0:   3.474*doctor, 1.713*office, 0.903*year, 0.840*patient, 0.779*love, 0.548*listen\n",
      "Topic 1:   1.332*surgery, 1.144*pain, 0.722*eye, 0.635*help, 0.576*year, 0.542*work\n",
      "Topic 2:   1.872*great, 1.528*staff, 1.351*friendly, 1.147*recommend, 0.977*place, 0.938*highly\n",
      "Topic 3:   2.738*care, 1.082*urgent, 0.655*patient, 0.423*need, 0.407*medical, 0.352*excellent\n",
      "Topic 4:   2.008*wait, 1.514*time, 0.991*appointment, 0.934*minute, 0.808*room, 0.798*long\n",
      "Topic 5:   2.143*feel, 2.128*make, 1.228*comfortable, 0.947*question, 0.770*answer, 0.629*sure\n",
      "\n",
      "Topics for NEGATIVE reviews\n",
      "---------------------------------------\n",
      "Topic 0:   1.516*say, 1.339*tell, 1.087*doctor, 1.067*pain, 0.979*ask, 0.952*come\n",
      "Topic 1:   2.622*wait, 1.862*hour, 0.989*room, 0.979*time, 0.883*minute, 0.562*come\n",
      "Topic 2:   3.052*appointment, 0.945*schedule, 0.852*make, 0.591*time, 0.524*tell, 0.507*minute\n",
      "Topic 3:   2.009*insurance, 1.421*pay, 0.737*charge, 0.632*company, 0.596*billing, 0.483*visit\n",
      "Topic 4:   1.420*place, 1.315*rude, 1.239*service, 1.016*bad, 0.999*staff, 0.988*care\n",
      "Topic 5:   2.990*office, 1.898*dr, 1.095*doctor, 1.026*staff, 1.022*patient, 0.554*new\n"
     ]
    }
   ],
   "source": [
    "no_topics = num_topics\n",
    "no_top_words = 6\n",
    "\n",
    "print('Topics for POSITIVE reviews')\n",
    "print('-'*39)\n",
    "display_topics(nmf_pos, tfidf_pos.get_feature_names(), no_topics, no_top_words)\n",
    "\n",
    "print('\\nTopics for NEGATIVE reviews')\n",
    "print('-'*39)\n",
    "display_topics(nmf_neg, tfidf_neg.get_feature_names(), no_topics, no_top_words)\n"
   ]
  },
  {
   "cell_type": "markdown",
   "metadata": {},
   "source": [
    "```\n",
    "\n",
    "Topics for POSITIVE reviews\n",
    "---------------------------------------\n",
    "Topic 0:   3.474*doctor, 1.713*office, 0.903*year, 0.840*patient, 0.779*love, 0.548*listen\n",
    "Topic 1:   1.332*surgery, 1.144*pain, 0.722*eye, 0.635*help, 0.576*year, 0.542*work\n",
    "Topic 2:   1.872*great, 1.528*staff, 1.351*friendly, 1.147*recommend, 0.977*place, 0.938*highly\n",
    "Topic 3:   2.738*care, 1.082*urgent, 0.655*patient, 0.423*need, 0.407*medical, 0.352*excellent\n",
    "Topic 4:   2.008*wait, 1.514*time, 0.991*appointment, 0.934*minute, 0.808*room, 0.798*long\n",
    "Topic 5:   2.143*feel, 2.128*make, 1.228*comfortable, 0.947*question, 0.770*answer, 0.629*sure\n",
    "\n",
    "Topics for NEGATIVE reviews\n",
    "---------------------------------------\n",
    "Topic 0:   1.516*say, 1.339*tell, 1.087*doctor, 1.067*pain, 0.979*ask, 0.952*come\n",
    "Topic 1:   2.622*wait, 1.862*hour, 0.989*room, 0.979*time, 0.883*minute, 0.562*come\n",
    "Topic 2:   3.052*appointment, 0.945*schedule, 0.852*make, 0.591*time, 0.524*tell, 0.507*minute\n",
    "Topic 3:   2.009*insurance, 1.421*pay, 0.737*charge, 0.632*company, 0.596*billing, 0.483*visit\n",
    "Topic 4:   1.420*place, 1.315*rude, 1.239*service, 1.016*bad, 0.999*staff, 0.988*care\n",
    "Topic 5:   2.990*office, 1.898*dr, 1.095*doctor, 1.026*staff, 1.022*patient, 0.554*new\n",
    "    ```"
   ]
  },
  {
   "cell_type": "markdown",
   "metadata": {},
   "source": [
    "## Adding Topic Weights to Pandas DataFrame ¶ "
   ]
  },
  {
   "cell_type": "code",
   "execution_count": 49,
   "metadata": {},
   "outputs": [],
   "source": [
    "\n",
    "# create topic dictionaries to summarize the topic meanings\n",
    "pos_topics = {0:'doctor_office_year_patient_love_listen', 1:'surgery_pain_eye_help_year_work', 2:'great_staff_friendly_recommended_place_highly', \n",
    "              3:'care_urgent_patient_need_medical_excellent', 4:'wait_time_appointment_minure_room_long', 5:'feel_make_comfortable_question_answer_sure'}\n",
    "\n",
    "neg_topics = {0:'say_tell_doctor_pain_ask_come', 1:'wait_hour_room_time_minute_come', 2:'appointment_schedule_make_time_tell_minute', \n",
    "              3:'insurance_pay_charge_company_billing_visit', 4:'place_rude_service_bad_staff_care', 5:'office_dr_doctor_staff_patient_new'}"
   ]
  },
  {
   "cell_type": "code",
   "execution_count": null,
   "metadata": {},
   "outputs": [],
   "source": [
    "## good data but not bussness_id\n",
    "\n",
    "\n",
    "# # create topic dictionaries to summarize the topic meanings\n",
    "# pos_topics = {0:'best_doctor_love', 1:'time_wait_appointment', 2:'friendly_staff', \n",
    "#               3:'surgery_pain_results', 4:'urgent_care_excellent', 5:'great_place_service'}\n",
    "\n",
    "# neg_topics = {0:'appointment_time_make', 1:'wait_wait_hour', 2:'doctor_care_pain_nurse', \n",
    "#               3:'insurace_pay_billing', 4:'office_staff_rude', 5:'dr_surgery_appt'}\n",
    "\n",
    "\n",
    "\n",
    "\n",
    "# # create topic dictionaries to summarize the topic meanings\n",
    "# pos_topics = {0:'time_wait_appointment', 1:'friendly_staff', 2:'urgent_care_excellent', \n",
    "#               3:'surgery_pain_therapy', 4:'best_doctor_years', 5:'great_place_service'}\n",
    "\n",
    "# neg_topics = {0:'appointment_time_make', 1:'wait_wait_hour', 2:'doctor_care_pain_nurse', \n",
    "#               3:'insurace_pay_billing', 4:'office_staff_rude', 5:'dr_surgery_appt'}"
   ]
  },
  {
   "cell_type": "code",
   "execution_count": null,
   "metadata": {},
   "outputs": [],
   "source": [
    "df.head()"
   ]
  },
  {
   "cell_type": "code",
   "execution_count": 50,
   "metadata": {},
   "outputs": [],
   "source": [
    "# we create dataframes for positive & negative reviews that we can\n",
    "# later add topic information to\n",
    "df_pos = df[['business_id','name','stars', 'clean_text', 'review_length']][df.stars == 5].reset_index()\n",
    "df_neg = df[['business_id','name','stars', 'clean_text', 'review_length']][df.stars == 1].reset_index()\n",
    "df_pos.drop(labels='index', axis=1, inplace=True)\n",
    "df_neg.drop(labels='index', axis=1, inplace=True)"
   ]
  },
  {
   "cell_type": "markdown",
   "metadata": {},
   "source": [
    "Our topic weights are not immediately relevant as absolute numbers. Let's take a look.\n"
   ]
  },
  {
   "cell_type": "code",
   "execution_count": 51,
   "metadata": {},
   "outputs": [
    {
     "name": "stdout",
     "output_type": "stream",
     "text": [
      "Topic weights :  [0.01050616 0.0845691  0.         0.01997233 0.00072664 0.0055351 ]\n",
      "Sum of weights:  0.1213093240283373\n"
     ]
    }
   ],
   "source": [
    "print('Topic weights : ', W_pos[0])\n",
    "print('Sum of weights: ', W_pos[0].sum())"
   ]
  },
  {
   "cell_type": "markdown",
   "metadata": {},
   "source": [
    "## normalize\n",
    "\n",
    "-needed??"
   ]
  },
  {
   "cell_type": "code",
   "execution_count": 52,
   "metadata": {},
   "outputs": [
    {
     "name": "stdout",
     "output_type": "stream",
     "text": [
      "Normalized Topic weights :  [[0.08660633 0.69713599 0.         0.1646397  0.00598997 0.045628  ]]\n",
      "Sum of normalized weights:  1.0\n"
     ]
    }
   ],
   "source": [
    "from sklearn.preprocessing import normalize\n",
    "print('Normalized Topic weights : ', normalize(W_pos[0].reshape(1,-1), norm='l1'))\n",
    "print('Sum of normalized weights: ', normalize(W_pos[0].reshape(1,-1), norm='l1').sum())"
   ]
  },
  {
   "cell_type": "code",
   "execution_count": 53,
   "metadata": {},
   "outputs": [],
   "source": [
    "# add normalized topic weights to each review\n",
    "df_pos = pd.concat([df_pos, pd.DataFrame(normalize(W_pos, norm='l1'))], axis=1)\n",
    "df_neg = pd.concat([df_neg, pd.DataFrame(normalize(W_neg, norm='l1'))], axis=1)"
   ]
  },
  {
   "cell_type": "code",
   "execution_count": 54,
   "metadata": {},
   "outputs": [
    {
     "data": {
      "text/html": [
       "<div>\n",
       "<style scoped>\n",
       "    .dataframe tbody tr th:only-of-type {\n",
       "        vertical-align: middle;\n",
       "    }\n",
       "\n",
       "    .dataframe tbody tr th {\n",
       "        vertical-align: top;\n",
       "    }\n",
       "\n",
       "    .dataframe thead th {\n",
       "        text-align: right;\n",
       "    }\n",
       "</style>\n",
       "<table border=\"1\" class=\"dataframe\">\n",
       "  <thead>\n",
       "    <tr style=\"text-align: right;\">\n",
       "      <th></th>\n",
       "      <th>business_id</th>\n",
       "      <th>name</th>\n",
       "      <th>stars</th>\n",
       "      <th>clean_text</th>\n",
       "      <th>review_length</th>\n",
       "      <th>0</th>\n",
       "      <th>1</th>\n",
       "      <th>2</th>\n",
       "      <th>3</th>\n",
       "      <th>4</th>\n",
       "      <th>5</th>\n",
       "    </tr>\n",
       "  </thead>\n",
       "  <tbody>\n",
       "    <tr>\n",
       "      <th>0</th>\n",
       "      <td>y-4xTZNKVm8mAZpiXMS5ZA</td>\n",
       "      <td>Lauren Byrne, MD</td>\n",
       "      <td>1</td>\n",
       "      <td>please stay away place bad care imaginable sta...</td>\n",
       "      <td>998</td>\n",
       "      <td>0.441146</td>\n",
       "      <td>0.000000</td>\n",
       "      <td>0.181287</td>\n",
       "      <td>0.054387</td>\n",
       "      <td>0.217956</td>\n",
       "      <td>0.105224</td>\n",
       "    </tr>\n",
       "    <tr>\n",
       "      <th>1</th>\n",
       "      <td>y-4xTZNKVm8mAZpiXMS5ZA</td>\n",
       "      <td>Lauren Byrne, MD</td>\n",
       "      <td>1</td>\n",
       "      <td>wish could give star bad office ever horrible ...</td>\n",
       "      <td>896</td>\n",
       "      <td>0.000000</td>\n",
       "      <td>0.020387</td>\n",
       "      <td>0.223580</td>\n",
       "      <td>0.224865</td>\n",
       "      <td>0.178816</td>\n",
       "      <td>0.352351</td>\n",
       "    </tr>\n",
       "    <tr>\n",
       "      <th>2</th>\n",
       "      <td>y-4xTZNKVm8mAZpiXMS5ZA</td>\n",
       "      <td>Lauren Byrne, MD</td>\n",
       "      <td>1</td>\n",
       "      <td>go emergency room kidney stone attack emergenc...</td>\n",
       "      <td>1610</td>\n",
       "      <td>0.334025</td>\n",
       "      <td>0.129313</td>\n",
       "      <td>0.382593</td>\n",
       "      <td>0.000000</td>\n",
       "      <td>0.000000</td>\n",
       "      <td>0.154068</td>\n",
       "    </tr>\n",
       "    <tr>\n",
       "      <th>3</th>\n",
       "      <td>y-4xTZNKVm8mAZpiXMS5ZA</td>\n",
       "      <td>Lauren Byrne, MD</td>\n",
       "      <td>1</td>\n",
       "      <td>bad place ever dr bryne reschedule first appt ...</td>\n",
       "      <td>504</td>\n",
       "      <td>0.319899</td>\n",
       "      <td>0.000000</td>\n",
       "      <td>0.070051</td>\n",
       "      <td>0.363266</td>\n",
       "      <td>0.055095</td>\n",
       "      <td>0.191689</td>\n",
       "    </tr>\n",
       "    <tr>\n",
       "      <th>4</th>\n",
       "      <td>y-4xTZNKVm8mAZpiXMS5ZA</td>\n",
       "      <td>Lauren Byrne, MD</td>\n",
       "      <td>1</td>\n",
       "      <td>update last review situation get even bad urin...</td>\n",
       "      <td>272</td>\n",
       "      <td>0.694811</td>\n",
       "      <td>0.000000</td>\n",
       "      <td>0.010756</td>\n",
       "      <td>0.000000</td>\n",
       "      <td>0.294433</td>\n",
       "      <td>0.000000</td>\n",
       "    </tr>\n",
       "  </tbody>\n",
       "</table>\n",
       "</div>"
      ],
      "text/plain": [
       "              business_id              name  stars  \\\n",
       "0  y-4xTZNKVm8mAZpiXMS5ZA  Lauren Byrne, MD      1   \n",
       "1  y-4xTZNKVm8mAZpiXMS5ZA  Lauren Byrne, MD      1   \n",
       "2  y-4xTZNKVm8mAZpiXMS5ZA  Lauren Byrne, MD      1   \n",
       "3  y-4xTZNKVm8mAZpiXMS5ZA  Lauren Byrne, MD      1   \n",
       "4  y-4xTZNKVm8mAZpiXMS5ZA  Lauren Byrne, MD      1   \n",
       "\n",
       "                                          clean_text  review_length         0  \\\n",
       "0  please stay away place bad care imaginable sta...            998  0.441146   \n",
       "1  wish could give star bad office ever horrible ...            896  0.000000   \n",
       "2  go emergency room kidney stone attack emergenc...           1610  0.334025   \n",
       "3  bad place ever dr bryne reschedule first appt ...            504  0.319899   \n",
       "4  update last review situation get even bad urin...            272  0.694811   \n",
       "\n",
       "          1         2         3         4         5  \n",
       "0  0.000000  0.181287  0.054387  0.217956  0.105224  \n",
       "1  0.020387  0.223580  0.224865  0.178816  0.352351  \n",
       "2  0.129313  0.382593  0.000000  0.000000  0.154068  \n",
       "3  0.000000  0.070051  0.363266  0.055095  0.191689  \n",
       "4  0.000000  0.010756  0.000000  0.294433  0.000000  "
      ]
     },
     "execution_count": 54,
     "metadata": {},
     "output_type": "execute_result"
    }
   ],
   "source": [
    "# peek into a dataframe to ensure it worked right\n",
    "df_neg.head()"
   ]
  },
  {
   "cell_type": "code",
   "execution_count": 56,
   "metadata": {},
   "outputs": [],
   "source": [
    "\n",
    "\n",
    "\n",
    "\n",
    "\n",
    "# group by business_id and apply mean/count functions to columns\n",
    "df_pos_bsns = df_pos.groupby(['business_id','name']).agg({'stars':'mean', 'clean_text':'count',\n",
    "                                                 'review_length':'mean',0:'mean', \n",
    "                                                 1:'mean', 2:'mean', 3:'mean',\n",
    "                                                 4:'mean', 5:'mean'}).reset_index()\n",
    "df_neg_bsns = df_neg.groupby(['business_id','name']).agg({'stars':'mean', 'clean_text':'count',\n",
    "                                                 'review_length':'mean',0:'mean', \n",
    "                                                 1:'mean', 2:'mean', 3:'mean',\n",
    "                                                 4:'mean', 5:'mean'}).reset_index()\n",
    "\n",
    "\n",
    "\n",
    "# # group by business_id and apply mean/count functions to columns\n",
    "# df_pos_bsns = df_pos.groupby('business_id').agg({'stars':'mean', 'text':'count',\n",
    "#                                                  'review_length':'mean',0:'mean', \n",
    "#                                                  1:'mean', 2:'mean', 3:'mean',\n",
    "#                                                  4:'mean', 5:'mean'}).reset_index()\n",
    "# df_neg_bsns = df_neg.groupby('business_id').agg({'stars':'mean', 'text':'count',\n",
    "#                                                  'review_length':'mean',0:'mean', \n",
    "#                                                  1:'mean', 2:'mean', 3:'mean',\n",
    "#                                                  4:'mean', 5:'mean'}).reset_index()\n"
   ]
  },
  {
   "cell_type": "code",
   "execution_count": 57,
   "metadata": {},
   "outputs": [
    {
     "data": {
      "text/html": [
       "<div>\n",
       "<style scoped>\n",
       "    .dataframe tbody tr th:only-of-type {\n",
       "        vertical-align: middle;\n",
       "    }\n",
       "\n",
       "    .dataframe tbody tr th {\n",
       "        vertical-align: top;\n",
       "    }\n",
       "\n",
       "    .dataframe thead th {\n",
       "        text-align: right;\n",
       "    }\n",
       "</style>\n",
       "<table border=\"1\" class=\"dataframe\">\n",
       "  <thead>\n",
       "    <tr style=\"text-align: right;\">\n",
       "      <th></th>\n",
       "      <th>business_id</th>\n",
       "      <th>name</th>\n",
       "      <th>stars</th>\n",
       "      <th>clean_text</th>\n",
       "      <th>review_length</th>\n",
       "      <th>0</th>\n",
       "      <th>1</th>\n",
       "      <th>2</th>\n",
       "      <th>3</th>\n",
       "      <th>4</th>\n",
       "      <th>5</th>\n",
       "    </tr>\n",
       "  </thead>\n",
       "  <tbody>\n",
       "    <tr>\n",
       "      <th>0</th>\n",
       "      <td>--8LPVSo5i0Oo61X01sV9A</td>\n",
       "      <td>Valley Bone and Joint Specialists</td>\n",
       "      <td>5</td>\n",
       "      <td>2</td>\n",
       "      <td>189.000000</td>\n",
       "      <td>0.247598</td>\n",
       "      <td>0.530368</td>\n",
       "      <td>0.222034</td>\n",
       "      <td>0.000000</td>\n",
       "      <td>0.000000</td>\n",
       "      <td>0.000000</td>\n",
       "    </tr>\n",
       "    <tr>\n",
       "      <th>1</th>\n",
       "      <td>-1hxrB7R9wOYC1djw8l7dg</td>\n",
       "      <td>Stacey L. Norris, DMD - Main Street Dentistry</td>\n",
       "      <td>5</td>\n",
       "      <td>3</td>\n",
       "      <td>330.333333</td>\n",
       "      <td>0.031628</td>\n",
       "      <td>0.305794</td>\n",
       "      <td>0.233131</td>\n",
       "      <td>0.046098</td>\n",
       "      <td>0.255777</td>\n",
       "      <td>0.127572</td>\n",
       "    </tr>\n",
       "    <tr>\n",
       "      <th>2</th>\n",
       "      <td>-1z-cvNWGM66kKTVNHK9Ww</td>\n",
       "      <td>Foothills Sports Medicine Physical Therapy</td>\n",
       "      <td>5</td>\n",
       "      <td>10</td>\n",
       "      <td>482.700000</td>\n",
       "      <td>0.052442</td>\n",
       "      <td>0.404831</td>\n",
       "      <td>0.272453</td>\n",
       "      <td>0.076186</td>\n",
       "      <td>0.065868</td>\n",
       "      <td>0.128220</td>\n",
       "    </tr>\n",
       "    <tr>\n",
       "      <th>3</th>\n",
       "      <td>-2UWYfzeK65e6naWSEUz7g</td>\n",
       "      <td>Alliance Urgent Care</td>\n",
       "      <td>5</td>\n",
       "      <td>2</td>\n",
       "      <td>188.500000</td>\n",
       "      <td>0.000000</td>\n",
       "      <td>0.328082</td>\n",
       "      <td>0.001857</td>\n",
       "      <td>0.413386</td>\n",
       "      <td>0.214227</td>\n",
       "      <td>0.042448</td>\n",
       "    </tr>\n",
       "    <tr>\n",
       "      <th>4</th>\n",
       "      <td>-3ediinjso_7dsWsxmXbXA</td>\n",
       "      <td>Desert Center For Allergy and Chest Diseases G...</td>\n",
       "      <td>5</td>\n",
       "      <td>2</td>\n",
       "      <td>690.500000</td>\n",
       "      <td>0.237738</td>\n",
       "      <td>0.139973</td>\n",
       "      <td>0.250872</td>\n",
       "      <td>0.014455</td>\n",
       "      <td>0.293519</td>\n",
       "      <td>0.063444</td>\n",
       "    </tr>\n",
       "  </tbody>\n",
       "</table>\n",
       "</div>"
      ],
      "text/plain": [
       "              business_id                                               name  \\\n",
       "0  --8LPVSo5i0Oo61X01sV9A                  Valley Bone and Joint Specialists   \n",
       "1  -1hxrB7R9wOYC1djw8l7dg      Stacey L. Norris, DMD - Main Street Dentistry   \n",
       "2  -1z-cvNWGM66kKTVNHK9Ww         Foothills Sports Medicine Physical Therapy   \n",
       "3  -2UWYfzeK65e6naWSEUz7g                               Alliance Urgent Care   \n",
       "4  -3ediinjso_7dsWsxmXbXA  Desert Center For Allergy and Chest Diseases G...   \n",
       "\n",
       "   stars  clean_text  review_length         0         1         2         3  \\\n",
       "0      5           2     189.000000  0.247598  0.530368  0.222034  0.000000   \n",
       "1      5           3     330.333333  0.031628  0.305794  0.233131  0.046098   \n",
       "2      5          10     482.700000  0.052442  0.404831  0.272453  0.076186   \n",
       "3      5           2     188.500000  0.000000  0.328082  0.001857  0.413386   \n",
       "4      5           2     690.500000  0.237738  0.139973  0.250872  0.014455   \n",
       "\n",
       "          4         5  \n",
       "0  0.000000  0.000000  \n",
       "1  0.255777  0.127572  \n",
       "2  0.065868  0.128220  \n",
       "3  0.214227  0.042448  \n",
       "4  0.293519  0.063444  "
      ]
     },
     "execution_count": 57,
     "metadata": {},
     "output_type": "execute_result"
    }
   ],
   "source": [
    "df_pos_bsns.head()"
   ]
  },
  {
   "cell_type": "code",
   "execution_count": 58,
   "metadata": {},
   "outputs": [
    {
     "data": {
      "text/html": [
       "<div>\n",
       "<style scoped>\n",
       "    .dataframe tbody tr th:only-of-type {\n",
       "        vertical-align: middle;\n",
       "    }\n",
       "\n",
       "    .dataframe tbody tr th {\n",
       "        vertical-align: top;\n",
       "    }\n",
       "\n",
       "    .dataframe thead th {\n",
       "        text-align: right;\n",
       "    }\n",
       "</style>\n",
       "<table border=\"1\" class=\"dataframe\">\n",
       "  <thead>\n",
       "    <tr style=\"text-align: right;\">\n",
       "      <th></th>\n",
       "      <th>business_id</th>\n",
       "      <th>name</th>\n",
       "      <th>stars</th>\n",
       "      <th>clean_text</th>\n",
       "      <th>review_length</th>\n",
       "      <th>0</th>\n",
       "      <th>1</th>\n",
       "      <th>2</th>\n",
       "      <th>3</th>\n",
       "      <th>4</th>\n",
       "      <th>5</th>\n",
       "    </tr>\n",
       "  </thead>\n",
       "  <tbody>\n",
       "    <tr>\n",
       "      <th>0</th>\n",
       "      <td>--8LPVSo5i0Oo61X01sV9A</td>\n",
       "      <td>Valley Bone and Joint Specialists</td>\n",
       "      <td>5</td>\n",
       "      <td>2</td>\n",
       "      <td>189.000000</td>\n",
       "      <td>0.247598</td>\n",
       "      <td>0.530368</td>\n",
       "      <td>0.222034</td>\n",
       "      <td>0.000000</td>\n",
       "      <td>0.000000</td>\n",
       "      <td>0.000000</td>\n",
       "    </tr>\n",
       "    <tr>\n",
       "      <th>1</th>\n",
       "      <td>-1hxrB7R9wOYC1djw8l7dg</td>\n",
       "      <td>Stacey L. Norris, DMD - Main Street Dentistry</td>\n",
       "      <td>5</td>\n",
       "      <td>3</td>\n",
       "      <td>330.333333</td>\n",
       "      <td>0.031628</td>\n",
       "      <td>0.305794</td>\n",
       "      <td>0.233131</td>\n",
       "      <td>0.046098</td>\n",
       "      <td>0.255777</td>\n",
       "      <td>0.127572</td>\n",
       "    </tr>\n",
       "    <tr>\n",
       "      <th>2</th>\n",
       "      <td>-1z-cvNWGM66kKTVNHK9Ww</td>\n",
       "      <td>Foothills Sports Medicine Physical Therapy</td>\n",
       "      <td>5</td>\n",
       "      <td>10</td>\n",
       "      <td>482.700000</td>\n",
       "      <td>0.052442</td>\n",
       "      <td>0.404831</td>\n",
       "      <td>0.272453</td>\n",
       "      <td>0.076186</td>\n",
       "      <td>0.065868</td>\n",
       "      <td>0.128220</td>\n",
       "    </tr>\n",
       "    <tr>\n",
       "      <th>3</th>\n",
       "      <td>-2UWYfzeK65e6naWSEUz7g</td>\n",
       "      <td>Alliance Urgent Care</td>\n",
       "      <td>5</td>\n",
       "      <td>2</td>\n",
       "      <td>188.500000</td>\n",
       "      <td>0.000000</td>\n",
       "      <td>0.328082</td>\n",
       "      <td>0.001857</td>\n",
       "      <td>0.413386</td>\n",
       "      <td>0.214227</td>\n",
       "      <td>0.042448</td>\n",
       "    </tr>\n",
       "    <tr>\n",
       "      <th>4</th>\n",
       "      <td>-3ediinjso_7dsWsxmXbXA</td>\n",
       "      <td>Desert Center For Allergy and Chest Diseases G...</td>\n",
       "      <td>5</td>\n",
       "      <td>2</td>\n",
       "      <td>690.500000</td>\n",
       "      <td>0.237738</td>\n",
       "      <td>0.139973</td>\n",
       "      <td>0.250872</td>\n",
       "      <td>0.014455</td>\n",
       "      <td>0.293519</td>\n",
       "      <td>0.063444</td>\n",
       "    </tr>\n",
       "    <tr>\n",
       "      <th>5</th>\n",
       "      <td>-5__awbuGMHAk6cZgJEgLQ</td>\n",
       "      <td>LensCrafters</td>\n",
       "      <td>5</td>\n",
       "      <td>26</td>\n",
       "      <td>225.846154</td>\n",
       "      <td>0.066780</td>\n",
       "      <td>0.304313</td>\n",
       "      <td>0.348889</td>\n",
       "      <td>0.053802</td>\n",
       "      <td>0.128819</td>\n",
       "      <td>0.097397</td>\n",
       "    </tr>\n",
       "    <tr>\n",
       "      <th>6</th>\n",
       "      <td>-74zTQjLpOTzgvPTsN2Z8A</td>\n",
       "      <td>WellHealth Women's Specialty Care</td>\n",
       "      <td>5</td>\n",
       "      <td>9</td>\n",
       "      <td>235.111111</td>\n",
       "      <td>0.180201</td>\n",
       "      <td>0.023094</td>\n",
       "      <td>0.214976</td>\n",
       "      <td>0.231149</td>\n",
       "      <td>0.214961</td>\n",
       "      <td>0.135619</td>\n",
       "    </tr>\n",
       "    <tr>\n",
       "      <th>7</th>\n",
       "      <td>-7q9m5IByOBdFUZe0qXY2Q</td>\n",
       "      <td>Dignity Health AZ General Hospital Emergency R...</td>\n",
       "      <td>5</td>\n",
       "      <td>7</td>\n",
       "      <td>435.142857</td>\n",
       "      <td>0.124705</td>\n",
       "      <td>0.134657</td>\n",
       "      <td>0.211644</td>\n",
       "      <td>0.200820</td>\n",
       "      <td>0.291158</td>\n",
       "      <td>0.037016</td>\n",
       "    </tr>\n",
       "    <tr>\n",
       "      <th>8</th>\n",
       "      <td>-Ag8JiHlShYxx0KBHZfXVw</td>\n",
       "      <td>Harb Mouchir S MD</td>\n",
       "      <td>5</td>\n",
       "      <td>1</td>\n",
       "      <td>480.000000</td>\n",
       "      <td>0.144505</td>\n",
       "      <td>0.339854</td>\n",
       "      <td>0.009614</td>\n",
       "      <td>0.010421</td>\n",
       "      <td>0.273601</td>\n",
       "      <td>0.222006</td>\n",
       "    </tr>\n",
       "    <tr>\n",
       "      <th>9</th>\n",
       "      <td>-Ao1dnI263daxMEBDS2xiQ</td>\n",
       "      <td>Retina Associates of Cleveland</td>\n",
       "      <td>5</td>\n",
       "      <td>3</td>\n",
       "      <td>296.333333</td>\n",
       "      <td>0.070276</td>\n",
       "      <td>0.400146</td>\n",
       "      <td>0.278057</td>\n",
       "      <td>0.148276</td>\n",
       "      <td>0.041409</td>\n",
       "      <td>0.061835</td>\n",
       "    </tr>\n",
       "  </tbody>\n",
       "</table>\n",
       "</div>"
      ],
      "text/plain": [
       "              business_id                                               name  \\\n",
       "0  --8LPVSo5i0Oo61X01sV9A                  Valley Bone and Joint Specialists   \n",
       "1  -1hxrB7R9wOYC1djw8l7dg      Stacey L. Norris, DMD - Main Street Dentistry   \n",
       "2  -1z-cvNWGM66kKTVNHK9Ww         Foothills Sports Medicine Physical Therapy   \n",
       "3  -2UWYfzeK65e6naWSEUz7g                               Alliance Urgent Care   \n",
       "4  -3ediinjso_7dsWsxmXbXA  Desert Center For Allergy and Chest Diseases G...   \n",
       "5  -5__awbuGMHAk6cZgJEgLQ                                       LensCrafters   \n",
       "6  -74zTQjLpOTzgvPTsN2Z8A                  WellHealth Women's Specialty Care   \n",
       "7  -7q9m5IByOBdFUZe0qXY2Q  Dignity Health AZ General Hospital Emergency R...   \n",
       "8  -Ag8JiHlShYxx0KBHZfXVw                                  Harb Mouchir S MD   \n",
       "9  -Ao1dnI263daxMEBDS2xiQ                     Retina Associates of Cleveland   \n",
       "\n",
       "   stars  clean_text  review_length         0         1         2         3  \\\n",
       "0      5           2     189.000000  0.247598  0.530368  0.222034  0.000000   \n",
       "1      5           3     330.333333  0.031628  0.305794  0.233131  0.046098   \n",
       "2      5          10     482.700000  0.052442  0.404831  0.272453  0.076186   \n",
       "3      5           2     188.500000  0.000000  0.328082  0.001857  0.413386   \n",
       "4      5           2     690.500000  0.237738  0.139973  0.250872  0.014455   \n",
       "5      5          26     225.846154  0.066780  0.304313  0.348889  0.053802   \n",
       "6      5           9     235.111111  0.180201  0.023094  0.214976  0.231149   \n",
       "7      5           7     435.142857  0.124705  0.134657  0.211644  0.200820   \n",
       "8      5           1     480.000000  0.144505  0.339854  0.009614  0.010421   \n",
       "9      5           3     296.333333  0.070276  0.400146  0.278057  0.148276   \n",
       "\n",
       "          4         5  \n",
       "0  0.000000  0.000000  \n",
       "1  0.255777  0.127572  \n",
       "2  0.065868  0.128220  \n",
       "3  0.214227  0.042448  \n",
       "4  0.293519  0.063444  \n",
       "5  0.128819  0.097397  \n",
       "6  0.214961  0.135619  \n",
       "7  0.291158  0.037016  \n",
       "8  0.273601  0.222006  \n",
       "9  0.041409  0.061835  "
      ]
     },
     "execution_count": 58,
     "metadata": {},
     "output_type": "execute_result"
    }
   ],
   "source": [
    "df_pos_bsns.head(10)"
   ]
  },
  {
   "cell_type": "code",
   "execution_count": 59,
   "metadata": {},
   "outputs": [
    {
     "name": "stdout",
     "output_type": "stream",
     "text": [
      "Desert Center For Allergy and Chest Diseases Group - Positive Reviews\n",
      "------------------------------------\n",
      "Topic 0: doctor_office_year_patient_love_listen > 0.2377\n",
      "Topic 1: surgery_pain_eye_help_year_work > 0.1400\n",
      "Topic 2: great_staff_friendly_recommended_place_highly > 0.2509\n",
      "Topic 3: care_urgent_patient_need_medical_excellent > 0.0145\n",
      "Topic 4: wait_time_appointment_minure_room_long > 0.2935\n",
      "Topic 5: feel_make_comfortable_question_answer_sure > 0.0634\n"
     ]
    }
   ],
   "source": [
    "scores = df_pos_bsns[df_pos_bsns.business_id == '-3ediinjso_7dsWsxmXbXA'].iloc[:,-6:].values\n",
    "print(df[df.business_id == '-3ediinjso_7dsWsxmXbXA']['name'].values[0] + ' - Positive Reviews')\n",
    "print('-'*36)\n",
    "for n in pos_topics:\n",
    "    print('Topic {}: {:18} > {:.4f}'.format(n, pos_topics[n], scores[0][n]))"
   ]
  },
  {
   "cell_type": "code",
   "execution_count": null,
   "metadata": {},
   "outputs": [],
   "source": [
    "scores[0][0]"
   ]
  },
  {
   "cell_type": "code",
   "execution_count": null,
   "metadata": {},
   "outputs": [],
   "source": []
  },
  {
   "cell_type": "code",
   "execution_count": null,
   "metadata": {},
   "outputs": [],
   "source": []
  },
  {
   "cell_type": "code",
   "execution_count": null,
   "metadata": {},
   "outputs": [],
   "source": []
  },
  {
   "cell_type": "code",
   "execution_count": null,
   "metadata": {},
   "outputs": [],
   "source": []
  },
  {
   "cell_type": "code",
   "execution_count": null,
   "metadata": {},
   "outputs": [],
   "source": []
  },
  {
   "cell_type": "code",
   "execution_count": null,
   "metadata": {},
   "outputs": [],
   "source": []
  },
  {
   "cell_type": "code",
   "execution_count": null,
   "metadata": {},
   "outputs": [],
   "source": []
  },
  {
   "cell_type": "code",
   "execution_count": null,
   "metadata": {},
   "outputs": [],
   "source": [
    "%%time\n",
    "# write to CSV\n",
    "df_pos_bsns.to_csv('pos_bsns.csv')\n",
    "df_neg_bsns.to_csv('neg_bsns.csv')\n",
    "df_pos.to_csv('pos_reviews.csv')\n",
    "df_neg.to_csv('neg_reviews.csv')"
   ]
  },
  {
   "cell_type": "code",
   "execution_count": null,
   "metadata": {},
   "outputs": [],
   "source": [
    "df_pos"
   ]
  },
  {
   "cell_type": "code",
   "execution_count": null,
   "metadata": {},
   "outputs": [],
   "source": [
    "df_pos_bsns"
   ]
  },
  {
   "cell_type": "code",
   "execution_count": null,
   "metadata": {},
   "outputs": [],
   "source": []
  },
  {
   "cell_type": "code",
   "execution_count": null,
   "metadata": {},
   "outputs": [],
   "source": [
    "df_neg_bsns.head(10)"
   ]
  },
  {
   "cell_type": "code",
   "execution_count": null,
   "metadata": {},
   "outputs": [],
   "source": [
    "scores = df_neg_bsns[df_neg_bsns.business_id == '-7q9m5IByOBdFUZe0qXY2Q'].iloc[:,-6:].values\n",
    "print(df[df.business_id == '-7q9m5IByOBdFUZe0qXY2Q']['name'].values[0] + ' - Negative Reviews')\n",
    "print('-'*36)\n",
    "for n in pos_topics:\n",
    "    print('Topic {}: {:18} > {:.4f}'.format(n, neg_topics[n], scores[0][n]))"
   ]
  },
  {
   "cell_type": "code",
   "execution_count": null,
   "metadata": {},
   "outputs": [],
   "source": []
  },
  {
   "cell_type": "code",
   "execution_count": null,
   "metadata": {},
   "outputs": [],
   "source": [
    "df[df.business_id == '-7q9m5IByOBdFUZe0qXY2Q'].stars.mean()"
   ]
  },
  {
   "cell_type": "code",
   "execution_count": null,
   "metadata": {},
   "outputs": [],
   "source": [
    "df[df.business_id == '-7q9m5IByOBdFUZe0qXY2Q'].stars.value_counts()"
   ]
  },
  {
   "cell_type": "code",
   "execution_count": null,
   "metadata": {},
   "outputs": [],
   "source": [
    "bad_b = df[df.business_id == '-7q9m5IByOBdFUZe0qXY2Q']"
   ]
  },
  {
   "cell_type": "code",
   "execution_count": null,
   "metadata": {},
   "outputs": [],
   "source": [
    "bad_b.text[52892]"
   ]
  },
  {
   "cell_type": "code",
   "execution_count": null,
   "metadata": {},
   "outputs": [],
   "source": [
    "bad_b.text"
   ]
  },
  {
   "cell_type": "code",
   "execution_count": null,
   "metadata": {},
   "outputs": [],
   "source": [
    "bad_b.text[52893]"
   ]
  }
 ],
 "metadata": {
  "kernelspec": {
   "display_name": "Python 3",
   "language": "python",
   "name": "python3"
  },
  "language_info": {
   "codemirror_mode": {
    "name": "ipython",
    "version": 3
   },
   "file_extension": ".py",
   "mimetype": "text/x-python",
   "name": "python",
   "nbconvert_exporter": "python",
   "pygments_lexer": "ipython3",
   "version": "3.6.6"
  }
 },
 "nbformat": 4,
 "nbformat_minor": 2
}
