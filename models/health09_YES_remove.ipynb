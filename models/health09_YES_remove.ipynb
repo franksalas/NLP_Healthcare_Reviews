{
 "cells": [
  {
   "cell_type": "code",
   "execution_count": 1,
   "metadata": {},
   "outputs": [],
   "source": [
    "import warnings\n",
    "warnings.filterwarnings('ignore')\n",
    "import pandas as pd\n",
    "import numpy as np\n",
    "import sklearn\n",
    "import seaborn as sns\n",
    "import matplotlib.pyplot as plt\n",
    "plt.style.use('ggplot')"
   ]
  },
  {
   "cell_type": "code",
   "execution_count": 2,
   "metadata": {},
   "outputs": [],
   "source": [
    "path = 'storage/yelp_data/health_raw00.csv'\n",
    "df = pd.read_csv(path)\n",
    "df.drop(['Unnamed: 0'],axis=1,inplace=True)"
   ]
  },
  {
   "cell_type": "code",
   "execution_count": 3,
   "metadata": {},
   "outputs": [
    {
     "data": {
      "text/html": [
       "<div>\n",
       "<style scoped>\n",
       "    .dataframe tbody tr th:only-of-type {\n",
       "        vertical-align: middle;\n",
       "    }\n",
       "\n",
       "    .dataframe tbody tr th {\n",
       "        vertical-align: top;\n",
       "    }\n",
       "\n",
       "    .dataframe thead th {\n",
       "        text-align: right;\n",
       "    }\n",
       "</style>\n",
       "<table border=\"1\" class=\"dataframe\">\n",
       "  <thead>\n",
       "    <tr style=\"text-align: right;\">\n",
       "      <th></th>\n",
       "      <th>business_id</th>\n",
       "      <th>name</th>\n",
       "      <th>categories</th>\n",
       "      <th>cool</th>\n",
       "      <th>date</th>\n",
       "      <th>funny</th>\n",
       "      <th>review_id</th>\n",
       "      <th>stars</th>\n",
       "      <th>text</th>\n",
       "      <th>useful</th>\n",
       "      <th>user_id</th>\n",
       "      <th>len_text</th>\n",
       "    </tr>\n",
       "  </thead>\n",
       "  <tbody>\n",
       "    <tr>\n",
       "      <th>0</th>\n",
       "      <td>y-4xTZNKVm8mAZpiXMS5ZA</td>\n",
       "      <td>Lauren Byrne, MD</td>\n",
       "      <td>urologists, doctors, health &amp; medical</td>\n",
       "      <td>0</td>\n",
       "      <td>2018-03-03</td>\n",
       "      <td>0</td>\n",
       "      <td>TNNkSmMfshsD3G60jTNjDA</td>\n",
       "      <td>1</td>\n",
       "      <td>Please stay away from this place if you can! I...</td>\n",
       "      <td>2</td>\n",
       "      <td>xv2V2GO5IZYvtw4oW7gQ1w</td>\n",
       "      <td>2002</td>\n",
       "    </tr>\n",
       "    <tr>\n",
       "      <th>1</th>\n",
       "      <td>y-4xTZNKVm8mAZpiXMS5ZA</td>\n",
       "      <td>Lauren Byrne, MD</td>\n",
       "      <td>urologists, doctors, health &amp; medical</td>\n",
       "      <td>0</td>\n",
       "      <td>2015-11-29</td>\n",
       "      <td>0</td>\n",
       "      <td>v-iKdstPdCxJr8zV1ZMdrw</td>\n",
       "      <td>5</td>\n",
       "      <td>My husband has been a patient of Dr. Byrne for...</td>\n",
       "      <td>1</td>\n",
       "      <td>SjvWP7c9toeZoV_q62zhTA</td>\n",
       "      <td>877</td>\n",
       "    </tr>\n",
       "    <tr>\n",
       "      <th>2</th>\n",
       "      <td>y-4xTZNKVm8mAZpiXMS5ZA</td>\n",
       "      <td>Lauren Byrne, MD</td>\n",
       "      <td>urologists, doctors, health &amp; medical</td>\n",
       "      <td>0</td>\n",
       "      <td>2016-06-03</td>\n",
       "      <td>0</td>\n",
       "      <td>BmNDRCV9_NzQ_KCChyfdEw</td>\n",
       "      <td>4</td>\n",
       "      <td>Dr. Byrne is a great doctor! She has great bed...</td>\n",
       "      <td>2</td>\n",
       "      <td>sZVHm1aLtvyH9trAc2_MgA</td>\n",
       "      <td>333</td>\n",
       "    </tr>\n",
       "    <tr>\n",
       "      <th>3</th>\n",
       "      <td>y-4xTZNKVm8mAZpiXMS5ZA</td>\n",
       "      <td>Lauren Byrne, MD</td>\n",
       "      <td>urologists, doctors, health &amp; medical</td>\n",
       "      <td>0</td>\n",
       "      <td>2017-03-17</td>\n",
       "      <td>0</td>\n",
       "      <td>t_TKVMxKFYm9Hl-TIO7UUw</td>\n",
       "      <td>3</td>\n",
       "      <td>I'm raising my review as Dr Bryne's has been m...</td>\n",
       "      <td>3</td>\n",
       "      <td>8Y_irXocZdZxLs_qgzpjBw</td>\n",
       "      <td>649</td>\n",
       "    </tr>\n",
       "    <tr>\n",
       "      <th>4</th>\n",
       "      <td>y-4xTZNKVm8mAZpiXMS5ZA</td>\n",
       "      <td>Lauren Byrne, MD</td>\n",
       "      <td>urologists, doctors, health &amp; medical</td>\n",
       "      <td>0</td>\n",
       "      <td>2016-08-31</td>\n",
       "      <td>0</td>\n",
       "      <td>NWRrpGRgWZBBj3lvCZGVKA</td>\n",
       "      <td>1</td>\n",
       "      <td>I wish I could give 0 stars. Worst office I've...</td>\n",
       "      <td>1</td>\n",
       "      <td>hVKPDGpG12z7vpScXaSakw</td>\n",
       "      <td>1408</td>\n",
       "    </tr>\n",
       "  </tbody>\n",
       "</table>\n",
       "</div>"
      ],
      "text/plain": [
       "              business_id              name  \\\n",
       "0  y-4xTZNKVm8mAZpiXMS5ZA  Lauren Byrne, MD   \n",
       "1  y-4xTZNKVm8mAZpiXMS5ZA  Lauren Byrne, MD   \n",
       "2  y-4xTZNKVm8mAZpiXMS5ZA  Lauren Byrne, MD   \n",
       "3  y-4xTZNKVm8mAZpiXMS5ZA  Lauren Byrne, MD   \n",
       "4  y-4xTZNKVm8mAZpiXMS5ZA  Lauren Byrne, MD   \n",
       "\n",
       "                              categories  cool        date  funny  \\\n",
       "0  urologists, doctors, health & medical     0  2018-03-03      0   \n",
       "1  urologists, doctors, health & medical     0  2015-11-29      0   \n",
       "2  urologists, doctors, health & medical     0  2016-06-03      0   \n",
       "3  urologists, doctors, health & medical     0  2017-03-17      0   \n",
       "4  urologists, doctors, health & medical     0  2016-08-31      0   \n",
       "\n",
       "                review_id  stars  \\\n",
       "0  TNNkSmMfshsD3G60jTNjDA      1   \n",
       "1  v-iKdstPdCxJr8zV1ZMdrw      5   \n",
       "2  BmNDRCV9_NzQ_KCChyfdEw      4   \n",
       "3  t_TKVMxKFYm9Hl-TIO7UUw      3   \n",
       "4  NWRrpGRgWZBBj3lvCZGVKA      1   \n",
       "\n",
       "                                                text  useful  \\\n",
       "0  Please stay away from this place if you can! I...       2   \n",
       "1  My husband has been a patient of Dr. Byrne for...       1   \n",
       "2  Dr. Byrne is a great doctor! She has great bed...       2   \n",
       "3  I'm raising my review as Dr Bryne's has been m...       3   \n",
       "4  I wish I could give 0 stars. Worst office I've...       1   \n",
       "\n",
       "                  user_id  len_text  \n",
       "0  xv2V2GO5IZYvtw4oW7gQ1w      2002  \n",
       "1  SjvWP7c9toeZoV_q62zhTA       877  \n",
       "2  sZVHm1aLtvyH9trAc2_MgA       333  \n",
       "3  8Y_irXocZdZxLs_qgzpjBw       649  \n",
       "4  hVKPDGpG12z7vpScXaSakw      1408  "
      ]
     },
     "execution_count": 3,
     "metadata": {},
     "output_type": "execute_result"
    }
   ],
   "source": [
    "df.head()"
   ]
  },
  {
   "cell_type": "code",
   "execution_count": 4,
   "metadata": {},
   "outputs": [],
   "source": [
    "data = df[['stars','text']]"
   ]
  },
  {
   "cell_type": "code",
   "execution_count": 5,
   "metadata": {},
   "outputs": [
    {
     "data": {
      "text/html": [
       "<div>\n",
       "<style scoped>\n",
       "    .dataframe tbody tr th:only-of-type {\n",
       "        vertical-align: middle;\n",
       "    }\n",
       "\n",
       "    .dataframe tbody tr th {\n",
       "        vertical-align: top;\n",
       "    }\n",
       "\n",
       "    .dataframe thead th {\n",
       "        text-align: right;\n",
       "    }\n",
       "</style>\n",
       "<table border=\"1\" class=\"dataframe\">\n",
       "  <thead>\n",
       "    <tr style=\"text-align: right;\">\n",
       "      <th></th>\n",
       "      <th>stars</th>\n",
       "      <th>text</th>\n",
       "    </tr>\n",
       "  </thead>\n",
       "  <tbody>\n",
       "    <tr>\n",
       "      <th>0</th>\n",
       "      <td>1</td>\n",
       "      <td>Please stay away from this place if you can! I...</td>\n",
       "    </tr>\n",
       "    <tr>\n",
       "      <th>1</th>\n",
       "      <td>5</td>\n",
       "      <td>My husband has been a patient of Dr. Byrne for...</td>\n",
       "    </tr>\n",
       "    <tr>\n",
       "      <th>4</th>\n",
       "      <td>1</td>\n",
       "      <td>I wish I could give 0 stars. Worst office I've...</td>\n",
       "    </tr>\n",
       "    <tr>\n",
       "      <th>5</th>\n",
       "      <td>1</td>\n",
       "      <td>I went to the emergency room because i was hav...</td>\n",
       "    </tr>\n",
       "    <tr>\n",
       "      <th>6</th>\n",
       "      <td>5</td>\n",
       "      <td>Dr. Byrne is an excellent doctor with all the ...</td>\n",
       "    </tr>\n",
       "  </tbody>\n",
       "</table>\n",
       "</div>"
      ],
      "text/plain": [
       "   stars                                               text\n",
       "0      1  Please stay away from this place if you can! I...\n",
       "1      5  My husband has been a patient of Dr. Byrne for...\n",
       "4      1  I wish I could give 0 stars. Worst office I've...\n",
       "5      1  I went to the emergency room because i was hav...\n",
       "6      5  Dr. Byrne is an excellent doctor with all the ..."
      ]
     },
     "execution_count": 5,
     "metadata": {},
     "output_type": "execute_result"
    }
   ],
   "source": [
    "data = data.ix[np.where((data.stars==1)|(data.stars==5))]\n",
    "\n",
    "data.head()"
   ]
  },
  {
   "cell_type": "code",
   "execution_count": 6,
   "metadata": {},
   "outputs": [],
   "source": [
    "data.stars.replace(1,0,inplace=True)\n",
    "data.stars.replace(5,1,inplace=True)"
   ]
  },
  {
   "cell_type": "code",
   "execution_count": 7,
   "metadata": {},
   "outputs": [
    {
     "data": {
      "text/html": [
       "<div>\n",
       "<style scoped>\n",
       "    .dataframe tbody tr th:only-of-type {\n",
       "        vertical-align: middle;\n",
       "    }\n",
       "\n",
       "    .dataframe tbody tr th {\n",
       "        vertical-align: top;\n",
       "    }\n",
       "\n",
       "    .dataframe thead th {\n",
       "        text-align: right;\n",
       "    }\n",
       "</style>\n",
       "<table border=\"1\" class=\"dataframe\">\n",
       "  <thead>\n",
       "    <tr style=\"text-align: right;\">\n",
       "      <th></th>\n",
       "      <th>stars</th>\n",
       "      <th>text</th>\n",
       "    </tr>\n",
       "  </thead>\n",
       "  <tbody>\n",
       "    <tr>\n",
       "      <th>0</th>\n",
       "      <td>0</td>\n",
       "      <td>Please stay away from this place if you can! I...</td>\n",
       "    </tr>\n",
       "    <tr>\n",
       "      <th>1</th>\n",
       "      <td>1</td>\n",
       "      <td>My husband has been a patient of Dr. Byrne for...</td>\n",
       "    </tr>\n",
       "    <tr>\n",
       "      <th>4</th>\n",
       "      <td>0</td>\n",
       "      <td>I wish I could give 0 stars. Worst office I've...</td>\n",
       "    </tr>\n",
       "    <tr>\n",
       "      <th>5</th>\n",
       "      <td>0</td>\n",
       "      <td>I went to the emergency room because i was hav...</td>\n",
       "    </tr>\n",
       "    <tr>\n",
       "      <th>6</th>\n",
       "      <td>1</td>\n",
       "      <td>Dr. Byrne is an excellent doctor with all the ...</td>\n",
       "    </tr>\n",
       "  </tbody>\n",
       "</table>\n",
       "</div>"
      ],
      "text/plain": [
       "   stars                                               text\n",
       "0      0  Please stay away from this place if you can! I...\n",
       "1      1  My husband has been a patient of Dr. Byrne for...\n",
       "4      0  I wish I could give 0 stars. Worst office I've...\n",
       "5      0  I went to the emergency room because i was hav...\n",
       "6      1  Dr. Byrne is an excellent doctor with all the ..."
      ]
     },
     "execution_count": 7,
     "metadata": {},
     "output_type": "execute_result"
    }
   ],
   "source": [
    "data.head()"
   ]
  },
  {
   "cell_type": "markdown",
   "metadata": {},
   "source": [
    "## split test train"
   ]
  },
  {
   "cell_type": "code",
   "execution_count": 8,
   "metadata": {},
   "outputs": [],
   "source": [
    "from sklearn.model_selection import train_test_split"
   ]
  },
  {
   "cell_type": "code",
   "execution_count": 9,
   "metadata": {},
   "outputs": [],
   "source": [
    "review = data['text'].values.astype(str)\n",
    "sentiments = data['stars'].values"
   ]
  },
  {
   "cell_type": "code",
   "execution_count": 10,
   "metadata": {},
   "outputs": [],
   "source": [
    "# Split the data for training and for testing and shuffle it\n",
    "X_train, X_test, y_train, y_test = train_test_split(review, sentiments,\n",
    "test_size=0.25)"
   ]
  },
  {
   "cell_type": "markdown",
   "metadata": {},
   "source": [
    "## Pre-processing"
   ]
  },
  {
   "cell_type": "code",
   "execution_count": 11,
   "metadata": {},
   "outputs": [],
   "source": [
    "from sklearn.feature_extraction.text import CountVectorizer\n",
    "from sklearn.preprocessing import LabelBinarizer  # two classes of text conv to 1&0's"
   ]
  },
  {
   "cell_type": "code",
   "execution_count": 12,
   "metadata": {},
   "outputs": [],
   "source": [
    "count_vect = CountVectorizer() # counts the occurance of text in doc"
   ]
  },
  {
   "cell_type": "code",
   "execution_count": 13,
   "metadata": {},
   "outputs": [],
   "source": [
    "X_train_counts = count_vect.fit_transform(X_train)"
   ]
  },
  {
   "cell_type": "code",
   "execution_count": 14,
   "metadata": {},
   "outputs": [
    {
     "data": {
      "text/plain": [
       "[('haven', 16891), ('left', 21098), ('yelp', 39764)]"
      ]
     },
     "execution_count": 14,
     "metadata": {},
     "output_type": "execute_result"
    }
   ],
   "source": [
    "list(count_vect.vocabulary_.items())[0:3]"
   ]
  },
  {
   "cell_type": "code",
   "execution_count": 15,
   "metadata": {},
   "outputs": [
    {
     "data": {
      "text/plain": [
       "40027"
      ]
     },
     "execution_count": 15,
     "metadata": {},
     "output_type": "execute_result"
    }
   ],
   "source": [
    "len(count_vect.vocabulary_)"
   ]
  },
  {
   "cell_type": "code",
   "execution_count": 16,
   "metadata": {},
   "outputs": [],
   "source": [
    "lab_bin = LabelBinarizer()\n",
    "y_train_bin = lab_bin.fit_transform(y_train)\n",
    "y_test_bin = lab_bin.fit_transform(y_test)"
   ]
  },
  {
   "cell_type": "markdown",
   "metadata": {},
   "source": [
    "## Train"
   ]
  },
  {
   "cell_type": "code",
   "execution_count": 17,
   "metadata": {},
   "outputs": [],
   "source": [
    "from sklearn.naive_bayes import MultinomialNB"
   ]
  },
  {
   "cell_type": "code",
   "execution_count": 18,
   "metadata": {},
   "outputs": [],
   "source": [
    "clf = MultinomialNB().fit(X_train_counts, y_train_bin.ravel())"
   ]
  },
  {
   "cell_type": "code",
   "execution_count": 19,
   "metadata": {},
   "outputs": [
    {
     "data": {
      "text/plain": [
       "40027"
      ]
     },
     "execution_count": 19,
     "metadata": {},
     "output_type": "execute_result"
    }
   ],
   "source": [
    "len(clf.coef_[0])"
   ]
  },
  {
   "cell_type": "code",
   "execution_count": 20,
   "metadata": {},
   "outputs": [],
   "source": [
    "import collections"
   ]
  },
  {
   "cell_type": "code",
   "execution_count": 21,
   "metadata": {},
   "outputs": [],
   "source": [
    "importanceCount = collections.Counter()"
   ]
  },
  {
   "cell_type": "code",
   "execution_count": 22,
   "metadata": {},
   "outputs": [],
   "source": [
    "for word, imp in zip(count_vect.vocabulary_.keys(), clf.coef_[0]):\n",
    "    importanceCount[word] = imp"
   ]
  },
  {
   "cell_type": "code",
   "execution_count": 23,
   "metadata": {},
   "outputs": [
    {
     "data": {
      "text/plain": [
       "[('dined', -14.420356439033071),\n",
       " ('marble', -14.420356439033071),\n",
       " ('staking', -14.420356439033071),\n",
       " ('kaliyah', -14.420356439033071),\n",
       " ('bookshelf', -14.420356439033071),\n",
       " ('participates', -14.420356439033071),\n",
       " ('caster', -14.420356439033071),\n",
       " ('wlp', -14.420356439033071),\n",
       " ('hick', -14.420356439033071),\n",
       " ('pubic', -14.420356439033071)]"
      ]
     },
     "execution_count": 23,
     "metadata": {},
     "output_type": "execute_result"
    }
   ],
   "source": [
    "importanceCount.most_common()[-10:]"
   ]
  },
  {
   "cell_type": "code",
   "execution_count": 24,
   "metadata": {},
   "outputs": [
    {
     "data": {
      "text/plain": [
       "[('2005', -3.1146150578818084),\n",
       " ('brazo', -3.3275935629315914),\n",
       " ('kalilie', -3.4675168724828858),\n",
       " ('crandall', -3.9660343987117166),\n",
       " ('fearless', -4.07259981873184),\n",
       " ('sampling', -4.237231586628269),\n",
       " ('boasted', -4.28730598338055),\n",
       " ('thacker', -4.373418104091982),\n",
       " ('patronized', -4.4042100683580045),\n",
       " ('jamal', -4.418200714700243)]"
      ]
     },
     "execution_count": 24,
     "metadata": {},
     "output_type": "execute_result"
    }
   ],
   "source": [
    "importanceCount.most_common()[0:10]"
   ]
  },
  {
   "cell_type": "markdown",
   "metadata": {},
   "source": [
    "## Now test"
   ]
  },
  {
   "cell_type": "code",
   "execution_count": 25,
   "metadata": {},
   "outputs": [],
   "source": [
    "X_test_counts = count_vect.transform(X_test)"
   ]
  },
  {
   "cell_type": "code",
   "execution_count": 26,
   "metadata": {},
   "outputs": [],
   "source": [
    "pred = clf.predict(X_test_counts)"
   ]
  },
  {
   "cell_type": "code",
   "execution_count": 27,
   "metadata": {},
   "outputs": [],
   "source": [
    "from sklearn.metrics import average_precision_score"
   ]
  },
  {
   "cell_type": "code",
   "execution_count": 28,
   "metadata": {},
   "outputs": [
    {
     "name": "stdout",
     "output_type": "stream",
     "text": [
      "Preicision = 0.946695\n"
     ]
    }
   ],
   "source": [
    "print('Preicision = {:f}'.format(average_precision_score(y_test_bin,pred)))"
   ]
  },
  {
   "cell_type": "markdown",
   "metadata": {},
   "source": [
    "## sanity check"
   ]
  },
  {
   "cell_type": "code",
   "execution_count": 29,
   "metadata": {},
   "outputs": [
    {
     "data": {
      "text/plain": [
       "array([0])"
      ]
     },
     "execution_count": 29,
     "metadata": {},
     "output_type": "execute_result"
    }
   ],
   "source": [
    "clf.predict(count_vect.transform(['this nurse couldnt even measure my temperature corectly']))"
   ]
  },
  {
   "cell_type": "markdown",
   "metadata": {},
   "source": [
    "## prob of the prediction"
   ]
  },
  {
   "cell_type": "code",
   "execution_count": 30,
   "metadata": {},
   "outputs": [
    {
     "data": {
      "text/plain": [
       "array([[0.96961881, 0.03038119]])"
      ]
     },
     "execution_count": 30,
     "metadata": {},
     "output_type": "execute_result"
    }
   ],
   "source": [
    "clf.predict_proba(count_vect.transform(['this nurse couldnt even measure my temperature corectly']))"
   ]
  },
  {
   "cell_type": "code",
   "execution_count": 31,
   "metadata": {},
   "outputs": [],
   "source": [
    "rev0 = '''\n",
    "If you plan on working here for benefits, run away, especially if you want to have a baby here. You would think being an employee would offer some perks, but it does not.  They changed their insurance plans at the end of the year, so people who planned a pregnancy in 2017 were screwed if their babies were born in 2018. $1000's in in hospital bills (and this is for an uncomplicated delivery). \n",
    "\n",
    "If Dinette is your nurse, ask for another one. My experience was terrible with her. I called to file a complaint about her and was told they would look into it. No one has ever contacted me!\n",
    "\n",
    "Watch out for your itemized billing statements. They charge you for the hospital, the nurses, the anesthesiologist, OB and labs all separately. This is why our healthcare is going down the hole. There is no possible way to tell if you are being charged properly. Also, they charge you to admit you.\n",
    "'''\n",
    "\n",
    "rev1 = '''\n",
    "First off this is a review of the cafe.  This is by far the best hospital food I've had.  Their cafe honestly better than Luby's cafe food.  They offer a wide variety of selections from fresh to order sandwiches, a BBQ area, Asian Stir frys, Homestyle cooking meals, Tex-Mex stand, Pasta Bar, Pizza, Sushi, fresh made salads and soup, and a made to order grill.  But what makes this a 5 star is their desserts.  Their desserts are amazing!  The presentation looks like something out of la madeline.  I am willing to make the walk from work to this cafe.\n",
    "'''\n",
    "\n",
    "rev00 = '''\n",
    "Attn Small Business Owners and Independence Insurance Policy Holders. Beginning in  March 2018, received a call from Houston Methodist Hospital concerning a bill for 289.20.  On March 16, 2018, paid the amount over the phone with a Customer Service representative receiving a confirmation from my bank stating the bill was paid with an authorization code time 11:53 a.m. As of May 3rd, 2018, my patient portal still reflecting a payment due on the same bill listed above. Contacted Houston Methodist Hospital again for the same bill their representative called me back in March 2018 and payment was not credited to my bill. \n",
    "\n",
    "I receive a call from the same customer service department dated 24th of May, 2108, this representative from Houston Methodist department stating my insurance payment has been posted from the EOB(Explanation of Benefits) for the outstanding bill of 30, 033.20 and an outstanding credit (REFUND) of $594.09 will be processed. The female representative will process the refund amount stated above.  She left the contact number 832-667-6291 (does not work) concerning her message. \n",
    "\n",
    "Now returning to my mailbox on June 7, 2018 inside I found a bill from Houston Methodist Hospital for the amount listed above for 30,033.20. OK- DUMB ASS - I am totally sick of you and will use all multimedia to post my complaint plus letters to the Board Members and Chief Executive Officer. I have kept a copy of this post for my file !\n",
    "'''\n",
    "rev11 = '''\n",
    "This review is solely based on being a visitor and not a patient.\n",
    "\n",
    "Houston Methodist is a top notch hospital in terms of patient care and customer service to visitors. From the cafeteria staff to nurses, from the security to the surgeons, every staff member greet you with a smile and goes above and beyond to serve you. \n",
    "\n",
    "Here are few compliments about this hospital:\n",
    "\n",
    "1. Food- The cafeteria food is amazing and reasonably price. From pasta, pizza, sushi, fried fish sandwiches and more, they have it all. Did I mentioned that it was reasonably priced? I love that the hospital is not trying to overcharge you when you are frequently visiting here. \n",
    "\n",
    "2. Staff- They are very friendly and sensitive to your reason of visiting the facility. The nurse staff was  personable to family and loved one needing the care. We felt comforted knowing that our loved one was in good hands.\n",
    "\n",
    "ONLY ISSUE is parking. There should be a special discount or program for visitors who frequently visit for weeks or months. Charging $13 a day can be very taxing on a family. Especially if they have more than one family member driving to the facility.\n",
    "'''\n",
    "\n",
    "rev000 = '''\n",
    "The medical care we received at Methodist was very good.\n",
    "\n",
    "Billing and customer service is beyond terrible! If I lost a leg across the street from Methodist...I would find a way to drive across town to a different hospital.\n",
    "\n",
    "My son got stitches from a nurse. The procedure never involved a doctor or any medicine, and probably took an hour from start to finish. I received a bill weeks later for nearly $2500! For stitches! \n",
    "\n",
    "I also received a bill from the physician's office for the same work (but only for about $250, which I happily paid). Mind you, the physician's office is billing for the people that actually did the work! Methodist is supposed to only be charging for use of the facility, equipment, and medications.\n",
    "\n",
    "Comparing the two bills, it became apparent that not only was Methodist charging me for work done by the physician's office (double charging), they were charging far more than the physicians were. Further, nearly all of the charges were incorrect (they listed the wrong trauma level, wrong part of the body!, and wrong length of the laceration). \n",
    "\n",
    "When I called billing to correct these issues, they were not able to answer anything. You may as well be talking to burger king workers about your medical billing. They insist that everything is correct, while not being able to explain what any of it means, or answer your questions. Finally they transfer you to their supervisor, which is always voicemail, and then they never call you back. I have made about 10 calls to their office now, and six months later, the issue is still unresolved.\n",
    "\n",
    "The physician's office even told me that Methodist is their worst client, and never handles their billing correctly.\n",
    "'''"
   ]
  },
  {
   "cell_type": "code",
   "execution_count": 32,
   "metadata": {},
   "outputs": [
    {
     "data": {
      "text/plain": [
       "array([0])"
      ]
     },
     "execution_count": 32,
     "metadata": {},
     "output_type": "execute_result"
    }
   ],
   "source": [
    "clf.predict(count_vect.transform([rev000]))"
   ]
  },
  {
   "cell_type": "code",
   "execution_count": 33,
   "metadata": {},
   "outputs": [
    {
     "data": {
      "text/plain": [
       "array([[1.00000000e+00, 6.13518161e-32]])"
      ]
     },
     "execution_count": 33,
     "metadata": {},
     "output_type": "execute_result"
    }
   ],
   "source": [
    "clf.predict_proba(count_vect.transform([rev000]))"
   ]
  },
  {
   "cell_type": "code",
   "execution_count": 34,
   "metadata": {},
   "outputs": [],
   "source": [
    "df_one = df.stars == 1\n",
    "df_five = df.stars == 5"
   ]
  },
  {
   "cell_type": "code",
   "execution_count": 35,
   "metadata": {},
   "outputs": [],
   "source": [
    "one = df[df_one]\n",
    "five = df[df_five]"
   ]
  },
  {
   "cell_type": "code",
   "execution_count": 36,
   "metadata": {},
   "outputs": [
    {
     "data": {
      "image/png": "[encoded data removed]",
      "text/plain": [
       "<Figure size 432x288 with 1 Axes>"
      ]
     },
     "metadata": {},
     "output_type": "display_data"
    }
   ],
   "source": [
    "\n",
    "sns.distplot(one.len_text,bins='auto',label='One')\n",
    "sns.distplot(five.len_text,bins='auto',label='Five')\n",
    "plt.legend()\n",
    "plt.title('One v Five  text length histogram')\n",
    "plt.show()"
   ]
  },
  {
   "cell_type": "code",
   "execution_count": null,
   "metadata": {},
   "outputs": [],
   "source": []
  }
 ],
 "metadata": {
  "kernelspec": {
   "display_name": "Python 3",
   "language": "python",
   "name": "python3"
  },
  "language_info": {
   "codemirror_mode": {
    "name": "ipython",
    "version": 3
   },
   "file_extension": ".py",
   "mimetype": "text/x-python",
   "name": "python",
   "nbconvert_exporter": "python",
   "pygments_lexer": "ipython3",
   "version": "3.6.6"
  }
 },
 "nbformat": 4,
 "nbformat_minor": 2
}
