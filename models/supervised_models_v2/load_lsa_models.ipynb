{
 "cells": [
  {
   "cell_type": "code",
   "execution_count": 1,
   "metadata": {},
   "outputs": [],
   "source": [
    "import matplotlib.pyplot as plt\n",
    "import gensim\n",
    "import numpy as np\n",
    "import spacy\n",
    "from gensim.models import CoherenceModel, LdaModel, LsiModel, HdpModel\n",
    "from gensim.models.wrappers import LdaMallet\n",
    "from gensim.corpora import Dictionary\n",
    "import pyLDAvis.gensim\n",
    "import os, re, operator, warnings\n",
    "warnings.filterwarnings('ignore') # Let's not pay heed to them right now\n",
    "%matplotlib inline"
   ]
  },
  {
   "cell_type": "code",
   "execution_count": 2,
   "metadata": {},
   "outputs": [],
   "source": [
    "from gensim import corpora, models, similarities"
   ]
  },
  {
   "cell_type": "code",
   "execution_count": 3,
   "metadata": {},
   "outputs": [],
   "source": [
    "model =  models.LdaModel.load('onestar_lda.model')"
   ]
  },
  {
   "cell_type": "code",
   "execution_count": 5,
   "metadata": {},
   "outputs": [
    {
     "data": {
      "text/plain": [
       "<gensim.models.ldamodel.LdaModel at 0x7fb722933dd8>"
      ]
     },
     "execution_count": 5,
     "metadata": {},
     "output_type": "execute_result"
    }
   ],
   "source": [
    "model"
   ]
  },
  {
   "cell_type": "code",
   "execution_count": 23,
   "metadata": {},
   "outputs": [],
   "source": [
    "lda_topics = model.show_topics()"
   ]
  },
  {
   "cell_type": "code",
   "execution_count": 24,
   "metadata": {},
   "outputs": [
    {
     "data": {
      "text/plain": [
       "[(0,\n",
       "  '0.042*\"not\" + 0.013*\"go\" + 0.011*\"doctor\" + 0.011*\"care\" + 0.010*\"get\" + 0.009*\"see\" + 0.009*\"eye\" + 0.009*\"would\" + 0.007*\"glass\" + 0.007*\"one\"'),\n",
       " (1,\n",
       "  '0.047*\"wait\" + 0.036*\"not\" + 0.027*\"time\" + 0.023*\"hour\" + 0.022*\"appointment\" + 0.020*\"see\" + 0.015*\"doctor\" + 0.015*\"go\" + 0.015*\"minute\" + 0.014*\"get\"'),\n",
       " (2,\n",
       "  '0.022*\"not\" + 0.014*\"go\" + 0.014*\"would\" + 0.012*\"dr\" + 0.010*\"office\" + 0.009*\"tell\" + 0.009*\"say\" + 0.009*\"get\" + 0.008*\"could\" + 0.007*\"make\"'),\n",
       " (3,\n",
       "  '0.042*\"bill\" + 0.025*\"pay\" + 0.023*\"not\" + 0.009*\"no\" + 0.008*\"tell\" + 0.008*\"billing\" + 0.008*\"doctor\" + 0.008*\"would\" + 0.007*\"get\" + 0.007*\"payment\"'),\n",
       " (4,\n",
       "  '0.056*\"call\" + 0.035*\"not\" + 0.026*\"office\" + 0.023*\"get\" + 0.020*\"appointment\" + 0.017*\"tell\" + 0.016*\"back\" + 0.016*\"would\" + 0.013*\"doctor\" + 0.013*\"time\"'),\n",
       " (5,\n",
       "  '0.021*\"not\" + 0.020*\"doctor\" + 0.016*\"son\" + 0.015*\"dr\" + 0.014*\"get\" + 0.011*\"time\" + 0.011*\"say\" + 0.009*\"tell\" + 0.009*\"go\" + 0.008*\"see\"'),\n",
       " (6,\n",
       "  '0.048*\"not\" + 0.019*\"staff\" + 0.016*\"patient\" + 0.015*\"office\" + 0.013*\"would\" + 0.012*\"rude\" + 0.012*\"doctor\" + 0.010*\"go\" + 0.009*\"dr\" + 0.008*\"see\"'),\n",
       " (7,\n",
       "  '0.046*\"not\" + 0.023*\"go\" + 0.019*\"get\" + 0.016*\"tell\" + 0.015*\"say\" + 0.014*\"doctor\" + 0.010*\"ask\" + 0.010*\"take\" + 0.010*\"would\" + 0.010*\"back\"'),\n",
       " (8,\n",
       "  '0.033*\"not\" + 0.018*\"surgery\" + 0.017*\"pain\" + 0.014*\"dr\" + 0.012*\"go\" + 0.010*\"would\" + 0.009*\"doctor\" + 0.007*\"get\" + 0.007*\"take\" + 0.007*\"see\"'),\n",
       " (9,\n",
       "  '0.051*\"not\" + 0.023*\"go\" + 0.022*\"insurance\" + 0.018*\"tell\" + 0.017*\"say\" + 0.016*\"get\" + 0.016*\"charge\" + 0.014*\"visit\" + 0.013*\"would\" + 0.013*\"call\"')]"
      ]
     },
     "execution_count": 24,
     "metadata": {},
     "output_type": "execute_result"
    }
   ],
   "source": [
    "lda_topics"
   ]
  },
  {
   "cell_type": "code",
   "execution_count": 25,
   "metadata": {},
   "outputs": [],
   "source": [
    "def display_topics(model, feature_names, num_topics, no_top_words):\n",
    "    for topic_idx, topic in enumerate(model.components_):\n",
    "        if topic_idx < num_topics:\n",
    "            print(\"{:11}\".format(\"Topic %d:\" %(topic_idx)), end='')\n",
    "            print(\", \".join(['{:04.3f}*'.format(topic[i])+feature_names[i] \\\n",
    "                             for i in topic.argsort()[:-no_top_words-1:-1]]))"
   ]
  },
  {
   "cell_type": "code",
   "execution_count": 34,
   "metadata": {},
   "outputs": [
    {
     "ename": "TypeError",
     "evalue": "'method' object is not iterable",
     "output_type": "error",
     "traceback": [
      "\u001b[0;31m---------------------------------------------------------------------------\u001b[0m",
      "\u001b[0;31mTypeError\u001b[0m                                 Traceback (most recent call last)",
      "\u001b[0;32m<ipython-input-34-7e08bb6e3929>\u001b[0m in \u001b[0;36m<module>\u001b[0;34m()\u001b[0m\n\u001b[0;32m----> 1\u001b[0;31m \u001b[0;32mfor\u001b[0m \u001b[0mtopic_idx\u001b[0m\u001b[0;34m,\u001b[0m \u001b[0mtopic\u001b[0m \u001b[0;32min\u001b[0m \u001b[0menumerate\u001b[0m\u001b[0;34m(\u001b[0m\u001b[0mmodel\u001b[0m\u001b[0;34m.\u001b[0m\u001b[0mshow_topics\u001b[0m\u001b[0;34m)\u001b[0m\u001b[0;34m:\u001b[0m\u001b[0;34m\u001b[0m\u001b[0m\n\u001b[0m\u001b[1;32m      2\u001b[0m     \u001b[0;32mif\u001b[0m \u001b[0mtopic_idx\u001b[0m \u001b[0;34m<\u001b[0m \u001b[0mnum_topics\u001b[0m\u001b[0;34m:\u001b[0m\u001b[0;34m\u001b[0m\u001b[0m\n\u001b[1;32m      3\u001b[0m         \u001b[0mprint\u001b[0m\u001b[0;34m(\u001b[0m\u001b[0;34m\"{:11}\"\u001b[0m\u001b[0;34m.\u001b[0m\u001b[0mformat\u001b[0m\u001b[0;34m(\u001b[0m\u001b[0;34m\"Topic %d:\"\u001b[0m \u001b[0;34m%\u001b[0m\u001b[0;34m(\u001b[0m\u001b[0mtopic_idx\u001b[0m\u001b[0;34m)\u001b[0m\u001b[0;34m)\u001b[0m\u001b[0;34m,\u001b[0m \u001b[0mend\u001b[0m\u001b[0;34m=\u001b[0m\u001b[0;34m''\u001b[0m\u001b[0;34m)\u001b[0m\u001b[0;34m\u001b[0m\u001b[0m\n\u001b[1;32m      4\u001b[0m         \u001b[0mprint\u001b[0m\u001b[0;34m(\u001b[0m\u001b[0;34m\", \"\u001b[0m\u001b[0;34m.\u001b[0m\u001b[0mjoin\u001b[0m\u001b[0;34m(\u001b[0m\u001b[0;34m[\u001b[0m\u001b[0;34m'{:04.3f}*'\u001b[0m\u001b[0;34m.\u001b[0m\u001b[0mformat\u001b[0m\u001b[0;34m(\u001b[0m\u001b[0mtopic\u001b[0m\u001b[0;34m[\u001b[0m\u001b[0mi\u001b[0m\u001b[0;34m]\u001b[0m\u001b[0;34m)\u001b[0m\u001b[0;34m+\u001b[0m\u001b[0mfeature_names\u001b[0m\u001b[0;34m[\u001b[0m\u001b[0mi\u001b[0m\u001b[0;34m]\u001b[0m                          \u001b[0;32mfor\u001b[0m \u001b[0mi\u001b[0m \u001b[0;32min\u001b[0m \u001b[0mtopic\u001b[0m\u001b[0;34m.\u001b[0m\u001b[0margsort\u001b[0m\u001b[0;34m(\u001b[0m\u001b[0;34m)\u001b[0m\u001b[0;34m[\u001b[0m\u001b[0;34m:\u001b[0m\u001b[0;34m-\u001b[0m\u001b[0mno_top_words\u001b[0m\u001b[0;34m-\u001b[0m\u001b[0;36m1\u001b[0m\u001b[0;34m:\u001b[0m\u001b[0;34m-\u001b[0m\u001b[0;36m1\u001b[0m\u001b[0;34m]\u001b[0m\u001b[0;34m]\u001b[0m\u001b[0;34m)\u001b[0m\u001b[0;34m)\u001b[0m\u001b[0;34m\u001b[0m\u001b[0m\n",
      "\u001b[0;31mTypeError\u001b[0m: 'method' object is not iterable"
     ]
    }
   ],
   "source": [
    "for topic_idx, topic in enumerate(model.show_topics):\n",
    "    if topic_idx < num_topics:\n",
    "        print(\"{:11}\".format(\"Topic %d:\" %(topic_idx)), end='')\n",
    "        print(\", \".join(['{:04.3f}*'.format(topic[i])+feature_names[i] \\\n",
    "                         for i in topic.argsort()[:-no_top_words-1:-1]]))"
   ]
  },
  {
   "cell_type": "code",
   "execution_count": 37,
   "metadata": {},
   "outputs": [
    {
     "ename": "TypeError",
     "evalue": "object of type 'LdaModel' has no len()",
     "output_type": "error",
     "traceback": [
      "\u001b[0;31m---------------------------------------------------------------------------\u001b[0m",
      "\u001b[0;31mTypeError\u001b[0m                                 Traceback (most recent call last)",
      "\u001b[0;32m<ipython-input-37-bafc21b277ab>\u001b[0m in \u001b[0;36m<module>\u001b[0;34m()\u001b[0m\n\u001b[0;32m----> 1\u001b[0;31m \u001b[0mlen\u001b[0m\u001b[0;34m(\u001b[0m\u001b[0mmodel\u001b[0m\u001b[0;34m)\u001b[0m\u001b[0;34m\u001b[0m\u001b[0m\n\u001b[0m",
      "\u001b[0;31mTypeError\u001b[0m: object of type 'LdaModel' has no len()"
     ]
    }
   ],
   "source": [
    "len(model)"
   ]
  },
  {
   "cell_type": "code",
   "execution_count": 39,
   "metadata": {},
   "outputs": [
    {
     "data": {
      "text/plain": [
       "30093"
      ]
     },
     "execution_count": 39,
     "metadata": {},
     "output_type": "execute_result"
    }
   ],
   "source": [
    "model.num_terms"
   ]
  },
  {
   "cell_type": "code",
   "execution_count": 45,
   "metadata": {},
   "outputs": [
    {
     "ename": "TypeError",
     "evalue": "'method' object is not iterable",
     "output_type": "error",
     "traceback": [
      "\u001b[0;31m---------------------------------------------------------------------------\u001b[0m",
      "\u001b[0;31mTypeError\u001b[0m                                 Traceback (most recent call last)",
      "\u001b[0;32m<ipython-input-45-6c80ace9c5da>\u001b[0m in \u001b[0;36m<module>\u001b[0;34m()\u001b[0m\n\u001b[0;32m----> 1\u001b[0;31m \u001b[0;32mfor\u001b[0m \u001b[0mi\u001b[0m \u001b[0;32min\u001b[0m \u001b[0mmodel\u001b[0m\u001b[0;34m.\u001b[0m\u001b[0mtop_topics\u001b[0m\u001b[0;34m:\u001b[0m\u001b[0;34m\u001b[0m\u001b[0m\n\u001b[0m\u001b[1;32m      2\u001b[0m     \u001b[0mprint\u001b[0m\u001b[0;34m(\u001b[0m\u001b[0mi\u001b[0m\u001b[0;34m)\u001b[0m\u001b[0;34m\u001b[0m\u001b[0m\n",
      "\u001b[0;31mTypeError\u001b[0m: 'method' object is not iterable"
     ]
    }
   ],
   "source": [
    "for i in model.top_topics:\n",
    "    print(i)"
   ]
  },
  {
   "cell_type": "code",
   "execution_count": 33,
   "metadata": {},
   "outputs": [
    {
     "name": "stdout",
     "output_type": "stream",
     "text": [
      "one:0\n",
      "two:0.042*\"not\" + 0.013*\"go\" + 0.011*\"doctor\" + 0.011*\"care\" + 0.010*\"get\" + 0.009*\"see\" + 0.009*\"eye\" + 0.009*\"would\" + 0.007*\"glass\" + 0.007*\"one\"\n",
      "one:1\n",
      "two:0.047*\"wait\" + 0.036*\"not\" + 0.027*\"time\" + 0.023*\"hour\" + 0.022*\"appointment\" + 0.020*\"see\" + 0.015*\"doctor\" + 0.015*\"go\" + 0.015*\"minute\" + 0.014*\"get\"\n",
      "one:2\n",
      "two:0.022*\"not\" + 0.014*\"go\" + 0.014*\"would\" + 0.012*\"dr\" + 0.010*\"office\" + 0.009*\"tell\" + 0.009*\"say\" + 0.009*\"get\" + 0.008*\"could\" + 0.007*\"make\"\n",
      "one:3\n",
      "two:0.042*\"bill\" + 0.025*\"pay\" + 0.023*\"not\" + 0.009*\"no\" + 0.008*\"tell\" + 0.008*\"billing\" + 0.008*\"doctor\" + 0.008*\"would\" + 0.007*\"get\" + 0.007*\"payment\"\n",
      "one:4\n",
      "two:0.056*\"call\" + 0.035*\"not\" + 0.026*\"office\" + 0.023*\"get\" + 0.020*\"appointment\" + 0.017*\"tell\" + 0.016*\"back\" + 0.016*\"would\" + 0.013*\"doctor\" + 0.013*\"time\"\n",
      "one:5\n",
      "two:0.021*\"not\" + 0.020*\"doctor\" + 0.016*\"son\" + 0.015*\"dr\" + 0.014*\"get\" + 0.011*\"time\" + 0.011*\"say\" + 0.009*\"tell\" + 0.009*\"go\" + 0.008*\"see\"\n",
      "one:6\n",
      "two:0.048*\"not\" + 0.019*\"staff\" + 0.016*\"patient\" + 0.015*\"office\" + 0.013*\"would\" + 0.012*\"rude\" + 0.012*\"doctor\" + 0.010*\"go\" + 0.009*\"dr\" + 0.008*\"see\"\n",
      "one:7\n",
      "two:0.046*\"not\" + 0.023*\"go\" + 0.019*\"get\" + 0.016*\"tell\" + 0.015*\"say\" + 0.014*\"doctor\" + 0.010*\"ask\" + 0.010*\"take\" + 0.010*\"would\" + 0.010*\"back\"\n",
      "one:8\n",
      "two:0.033*\"not\" + 0.018*\"surgery\" + 0.017*\"pain\" + 0.014*\"dr\" + 0.012*\"go\" + 0.010*\"would\" + 0.009*\"doctor\" + 0.007*\"get\" + 0.007*\"take\" + 0.007*\"see\"\n",
      "one:9\n",
      "two:0.051*\"not\" + 0.023*\"go\" + 0.022*\"insurance\" + 0.018*\"tell\" + 0.017*\"say\" + 0.016*\"get\" + 0.016*\"charge\" + 0.014*\"visit\" + 0.013*\"would\" + 0.013*\"call\"\n"
     ]
    }
   ],
   "source": [
    "for i,j in lda_topics:\n",
    "    print('one:{}\\ntwo:{}'.format(i,j))"
   ]
  },
  {
   "cell_type": "code",
   "execution_count": null,
   "metadata": {},
   "outputs": [],
   "source": [
    "print('\\nTopics for NEGATIVE reviews')\n",
    "print('-'*39)\n",
    "display_topics(nmf_neg, lda_topics = model.show_topics(), no_topics, no_top_words)\n"
   ]
  }
 ],
 "metadata": {
  "kernelspec": {
   "display_name": "Python 3",
   "language": "python",
   "name": "python3"
  },
  "language_info": {
   "codemirror_mode": {
    "name": "ipython",
    "version": 3
   },
   "file_extension": ".py",
   "mimetype": "text/x-python",
   "name": "python",
   "nbconvert_exporter": "python",
   "pygments_lexer": "ipython3",
   "version": "3.6.6"
  }
 },
 "nbformat": 4,
 "nbformat_minor": 2
}
