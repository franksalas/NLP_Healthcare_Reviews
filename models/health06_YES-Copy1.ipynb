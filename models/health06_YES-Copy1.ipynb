{
 "cells": [
  {
   "cell_type": "code",
   "execution_count": 3,
   "metadata": {},
   "outputs": [],
   "source": [
    "import warnings\n",
    "warnings.filterwarnings('ignore')"
   ]
  },
  {
   "cell_type": "code",
   "execution_count": 4,
   "metadata": {},
   "outputs": [],
   "source": [
    "import numpy as np\n",
    "import pandas as pd\n",
    "import matplotlib.pyplot as plt\n",
    "pd.set_option('display.max_colwidth', 500)\n",
    "import seaborn as sns\n",
    "%matplotlib inline\n",
    "plt.style.use('ggplot')"
   ]
  },
  {
   "cell_type": "code",
   "execution_count": 5,
   "metadata": {},
   "outputs": [],
   "source": [
    "path = 'yelp_data/health_text_sentiment.csv'"
   ]
  },
  {
   "cell_type": "code",
   "execution_count": 8,
   "metadata": {},
   "outputs": [],
   "source": [
    "df = pd.read_csv(path)\n",
    "df.drop(['Unnamed: 0'],axis=1,inplace=True)\n",
    "\n",
    "\n",
    "df = df[['stars',\n",
    " 'clean_text',\n",
    " 'sent_value_clean',\n",
    " 'sent_score_clean']]"
   ]
  },
  {
   "cell_type": "code",
   "execution_count": 9,
   "metadata": {},
   "outputs": [
    {
     "name": "stdout",
     "output_type": "stream",
     "text": [
      "<class 'pandas.core.frame.DataFrame'>\n",
      "RangeIndex: 64006 entries, 0 to 64005\n",
      "Data columns (total 4 columns):\n",
      "stars               64006 non-null int64\n",
      "clean_text          64006 non-null object\n",
      "sent_value_clean    64006 non-null float64\n",
      "sent_score_clean    64006 non-null object\n",
      "dtypes: float64(1), int64(1), object(2)\n",
      "memory usage: 2.0+ MB\n"
     ]
    }
   ],
   "source": [
    "df.info()"
   ]
  },
  {
   "cell_type": "code",
   "execution_count": 10,
   "metadata": {},
   "outputs": [
    {
     "data": {
      "text/html": [
       "<div>\n",
       "<style scoped>\n",
       "    .dataframe tbody tr th:only-of-type {\n",
       "        vertical-align: middle;\n",
       "    }\n",
       "\n",
       "    .dataframe tbody tr th {\n",
       "        vertical-align: top;\n",
       "    }\n",
       "\n",
       "    .dataframe thead th {\n",
       "        text-align: right;\n",
       "    }\n",
       "</style>\n",
       "<table border=\"1\" class=\"dataframe\">\n",
       "  <thead>\n",
       "    <tr style=\"text-align: right;\">\n",
       "      <th></th>\n",
       "      <th>stars</th>\n",
       "      <th>clean_text</th>\n",
       "      <th>sent_value_clean</th>\n",
       "      <th>sent_score_clean</th>\n",
       "    </tr>\n",
       "  </thead>\n",
       "  <tbody>\n",
       "    <tr>\n",
       "      <th>0</th>\n",
       "      <td>1</td>\n",
       "      <td>please stay away place bad care imaginable staff uneducated not know anything ask question give answer not even pertain ask super bizarre dr byrne not seem care feel get impression want get make money feeling put visit staff super rude want speak dr byrne would not allow literally minute procedure like go behind secure door not bother ever unless schedule another appointment squeeze another office visit much pain procedure say would not hurt lie put procedure say option schedule office visit...</td>\n",
       "      <td>-0.036719</td>\n",
       "      <td>negative</td>\n",
       "    </tr>\n",
       "    <tr>\n",
       "      <th>1</th>\n",
       "      <td>5</td>\n",
       "      <td>husband patient dr byrne last year half last may suffer kidney stone refer dr byrne examine test run determine would need surgery schedule surgery week later send home major pain medication even take medication husband incapacitate pain dr bryne go way call hospital reschedule emergency surgery compassionate knowledgeable dedicated doctor husband find highly approachable willing return phone call answer question day unfortunately not norm find leave arizona state urological institute follow ...</td>\n",
       "      <td>0.069479</td>\n",
       "      <td>positive</td>\n",
       "    </tr>\n",
       "    <tr>\n",
       "      <th>2</th>\n",
       "      <td>4</td>\n",
       "      <td>dr byrne great doctor great bed side manner explain step step office staff not good always make wait long time get call back overall experience dr byrne good happy choose procedure highly recommend</td>\n",
       "      <td>0.317778</td>\n",
       "      <td>positive</td>\n",
       "    </tr>\n",
       "    <tr>\n",
       "      <th>3</th>\n",
       "      <td>3</td>\n",
       "      <td>raise review dr bryne receptive daughter go anytime leave urine sample not go urgent care seem always mess anyway not provide info back dr smart thing keep look may try family member hear coach receptionist last visit nice professional way general not understand medical receptionist bad across medical profession choose job not bad far physical exertion not manual labor sorry vent happen everywhere</td>\n",
       "      <td>0.002806</td>\n",
       "      <td>positive</td>\n",
       "    </tr>\n",
       "    <tr>\n",
       "      <th>4</th>\n",
       "      <td>1</td>\n",
       "      <td>wish could give star bad office ever horrible experience office staff bunch teen bad attitude include office manager make appointment consult dr byrne ironwood gilbert location non responsive antibiotic uti though urgency symptom keep get bad pcp recommend see urologist asap first appointment available day give information include insurance information phone reach office half hour early ask send back home front office rep ironwood gilbert location deny take bcb group banner health indicate i...</td>\n",
       "      <td>-0.084259</td>\n",
       "      <td>negative</td>\n",
       "    </tr>\n",
       "  </tbody>\n",
       "</table>\n",
       "</div>"
      ],
      "text/plain": [
       "   stars  \\\n",
       "0      1   \n",
       "1      5   \n",
       "2      4   \n",
       "3      3   \n",
       "4      1   \n",
       "\n",
       "                                                                                                                                                                                                                                                                                                                                                                                                                                                                                                            clean_text  \\\n",
       "0  please stay away place bad care imaginable staff uneducated not know anything ask question give answer not even pertain ask super bizarre dr byrne not seem care feel get impression want get make money feeling put visit staff super rude want speak dr byrne would not allow literally minute procedure like go behind secure door not bother ever unless schedule another appointment squeeze another office visit much pain procedure say would not hurt lie put procedure say option schedule office visit...   \n",
       "1  husband patient dr byrne last year half last may suffer kidney stone refer dr byrne examine test run determine would need surgery schedule surgery week later send home major pain medication even take medication husband incapacitate pain dr bryne go way call hospital reschedule emergency surgery compassionate knowledgeable dedicated doctor husband find highly approachable willing return phone call answer question day unfortunately not norm find leave arizona state urological institute follow ...   \n",
       "2                                                                                                                                                                                                                                                                                                                dr byrne great doctor great bed side manner explain step step office staff not good always make wait long time get call back overall experience dr byrne good happy choose procedure highly recommend   \n",
       "3                                                                                                     raise review dr bryne receptive daughter go anytime leave urine sample not go urgent care seem always mess anyway not provide info back dr smart thing keep look may try family member hear coach receptionist last visit nice professional way general not understand medical receptionist bad across medical profession choose job not bad far physical exertion not manual labor sorry vent happen everywhere   \n",
       "4  wish could give star bad office ever horrible experience office staff bunch teen bad attitude include office manager make appointment consult dr byrne ironwood gilbert location non responsive antibiotic uti though urgency symptom keep get bad pcp recommend see urologist asap first appointment available day give information include insurance information phone reach office half hour early ask send back home front office rep ironwood gilbert location deny take bcb group banner health indicate i...   \n",
       "\n",
       "   sent_value_clean sent_score_clean  \n",
       "0         -0.036719         negative  \n",
       "1          0.069479         positive  \n",
       "2          0.317778         positive  \n",
       "3          0.002806         positive  \n",
       "4         -0.084259         negative  "
      ]
     },
     "execution_count": 10,
     "metadata": {},
     "output_type": "execute_result"
    }
   ],
   "source": [
    "df.head()"
   ]
  },
  {
   "cell_type": "markdown",
   "metadata": {},
   "source": [
    "## split review stars and text"
   ]
  },
  {
   "cell_type": "code",
   "execution_count": 11,
   "metadata": {},
   "outputs": [],
   "source": [
    "#data = df[['stars','text']]\n",
    "data = df.copy()"
   ]
  },
  {
   "cell_type": "code",
   "execution_count": 12,
   "metadata": {},
   "outputs": [
    {
     "name": "stdout",
     "output_type": "stream",
     "text": [
      "<class 'pandas.core.frame.DataFrame'>\n",
      "RangeIndex: 64006 entries, 0 to 64005\n",
      "Data columns (total 4 columns):\n",
      "stars               64006 non-null int64\n",
      "clean_text          64006 non-null object\n",
      "sent_value_clean    64006 non-null float64\n",
      "sent_score_clean    64006 non-null object\n",
      "dtypes: float64(1), int64(1), object(2)\n",
      "memory usage: 2.0+ MB\n"
     ]
    }
   ],
   "source": [
    "data.info()"
   ]
  },
  {
   "cell_type": "code",
   "execution_count": 13,
   "metadata": {},
   "outputs": [
    {
     "data": {
      "text/html": [
       "<div>\n",
       "<style scoped>\n",
       "    .dataframe tbody tr th:only-of-type {\n",
       "        vertical-align: middle;\n",
       "    }\n",
       "\n",
       "    .dataframe tbody tr th {\n",
       "        vertical-align: top;\n",
       "    }\n",
       "\n",
       "    .dataframe thead th {\n",
       "        text-align: right;\n",
       "    }\n",
       "</style>\n",
       "<table border=\"1\" class=\"dataframe\">\n",
       "  <thead>\n",
       "    <tr style=\"text-align: right;\">\n",
       "      <th></th>\n",
       "      <th>stars</th>\n",
       "      <th>clean_text</th>\n",
       "      <th>sent_value_clean</th>\n",
       "      <th>sent_score_clean</th>\n",
       "    </tr>\n",
       "  </thead>\n",
       "  <tbody>\n",
       "    <tr>\n",
       "      <th>0</th>\n",
       "      <td>1</td>\n",
       "      <td>please stay away place bad care imaginable staff uneducated not know anything ask question give answer not even pertain ask super bizarre dr byrne not seem care feel get impression want get make money feeling put visit staff super rude want speak dr byrne would not allow literally minute procedure like go behind secure door not bother ever unless schedule another appointment squeeze another office visit much pain procedure say would not hurt lie put procedure say option schedule office visit...</td>\n",
       "      <td>-0.036719</td>\n",
       "      <td>negative</td>\n",
       "    </tr>\n",
       "    <tr>\n",
       "      <th>1</th>\n",
       "      <td>5</td>\n",
       "      <td>husband patient dr byrne last year half last may suffer kidney stone refer dr byrne examine test run determine would need surgery schedule surgery week later send home major pain medication even take medication husband incapacitate pain dr bryne go way call hospital reschedule emergency surgery compassionate knowledgeable dedicated doctor husband find highly approachable willing return phone call answer question day unfortunately not norm find leave arizona state urological institute follow ...</td>\n",
       "      <td>0.069479</td>\n",
       "      <td>positive</td>\n",
       "    </tr>\n",
       "    <tr>\n",
       "      <th>2</th>\n",
       "      <td>4</td>\n",
       "      <td>dr byrne great doctor great bed side manner explain step step office staff not good always make wait long time get call back overall experience dr byrne good happy choose procedure highly recommend</td>\n",
       "      <td>0.317778</td>\n",
       "      <td>positive</td>\n",
       "    </tr>\n",
       "    <tr>\n",
       "      <th>3</th>\n",
       "      <td>3</td>\n",
       "      <td>raise review dr bryne receptive daughter go anytime leave urine sample not go urgent care seem always mess anyway not provide info back dr smart thing keep look may try family member hear coach receptionist last visit nice professional way general not understand medical receptionist bad across medical profession choose job not bad far physical exertion not manual labor sorry vent happen everywhere</td>\n",
       "      <td>0.002806</td>\n",
       "      <td>positive</td>\n",
       "    </tr>\n",
       "    <tr>\n",
       "      <th>4</th>\n",
       "      <td>1</td>\n",
       "      <td>wish could give star bad office ever horrible experience office staff bunch teen bad attitude include office manager make appointment consult dr byrne ironwood gilbert location non responsive antibiotic uti though urgency symptom keep get bad pcp recommend see urologist asap first appointment available day give information include insurance information phone reach office half hour early ask send back home front office rep ironwood gilbert location deny take bcb group banner health indicate i...</td>\n",
       "      <td>-0.084259</td>\n",
       "      <td>negative</td>\n",
       "    </tr>\n",
       "  </tbody>\n",
       "</table>\n",
       "</div>"
      ],
      "text/plain": [
       "   stars  \\\n",
       "0      1   \n",
       "1      5   \n",
       "2      4   \n",
       "3      3   \n",
       "4      1   \n",
       "\n",
       "                                                                                                                                                                                                                                                                                                                                                                                                                                                                                                            clean_text  \\\n",
       "0  please stay away place bad care imaginable staff uneducated not know anything ask question give answer not even pertain ask super bizarre dr byrne not seem care feel get impression want get make money feeling put visit staff super rude want speak dr byrne would not allow literally minute procedure like go behind secure door not bother ever unless schedule another appointment squeeze another office visit much pain procedure say would not hurt lie put procedure say option schedule office visit...   \n",
       "1  husband patient dr byrne last year half last may suffer kidney stone refer dr byrne examine test run determine would need surgery schedule surgery week later send home major pain medication even take medication husband incapacitate pain dr bryne go way call hospital reschedule emergency surgery compassionate knowledgeable dedicated doctor husband find highly approachable willing return phone call answer question day unfortunately not norm find leave arizona state urological institute follow ...   \n",
       "2                                                                                                                                                                                                                                                                                                                dr byrne great doctor great bed side manner explain step step office staff not good always make wait long time get call back overall experience dr byrne good happy choose procedure highly recommend   \n",
       "3                                                                                                     raise review dr bryne receptive daughter go anytime leave urine sample not go urgent care seem always mess anyway not provide info back dr smart thing keep look may try family member hear coach receptionist last visit nice professional way general not understand medical receptionist bad across medical profession choose job not bad far physical exertion not manual labor sorry vent happen everywhere   \n",
       "4  wish could give star bad office ever horrible experience office staff bunch teen bad attitude include office manager make appointment consult dr byrne ironwood gilbert location non responsive antibiotic uti though urgency symptom keep get bad pcp recommend see urologist asap first appointment available day give information include insurance information phone reach office half hour early ask send back home front office rep ironwood gilbert location deny take bcb group banner health indicate i...   \n",
       "\n",
       "   sent_value_clean sent_score_clean  \n",
       "0         -0.036719         negative  \n",
       "1          0.069479         positive  \n",
       "2          0.317778         positive  \n",
       "3          0.002806         positive  \n",
       "4         -0.084259         negative  "
      ]
     },
     "execution_count": 13,
     "metadata": {},
     "output_type": "execute_result"
    }
   ],
   "source": [
    "data.head()"
   ]
  },
  {
   "cell_type": "markdown",
   "metadata": {},
   "source": [
    "### stars"
   ]
  },
  {
   "cell_type": "code",
   "execution_count": 14,
   "metadata": {},
   "outputs": [
    {
     "data": {
      "text/plain": [
       "<matplotlib.axes._subplots.AxesSubplot at 0x7fd8d1c14a90>"
      ]
     },
     "execution_count": 14,
     "metadata": {},
     "output_type": "execute_result"
    },
    {
     "data": {
      "image/png": "[encoded data removed]",
      "text/plain": [
       "<Figure size 432x288 with 1 Axes>"
      ]
     },
     "metadata": {},
     "output_type": "display_data"
    }
   ],
   "source": [
    "data.stars.value_counts().plot.bar()"
   ]
  },
  {
   "cell_type": "markdown",
   "metadata": {},
   "source": [
    "### Split positive and negtative\n",
    "- total positive 31,186\n",
    "- total negative : 22451\n",
    "- total meh : 10,853\n",
    "\n",
    "drop 2-4"
   ]
  },
  {
   "cell_type": "code",
   "execution_count": null,
   "metadata": {},
   "outputs": [],
   "source": []
  },
  {
   "cell_type": "code",
   "execution_count": 15,
   "metadata": {},
   "outputs": [],
   "source": [
    "data = data.ix[np.where((data.stars==1)|(data.stars==5))]"
   ]
  },
  {
   "cell_type": "code",
   "execution_count": 16,
   "metadata": {},
   "outputs": [
    {
     "name": "stdout",
     "output_type": "stream",
     "text": [
      "<class 'pandas.core.frame.DataFrame'>\n",
      "Int64Index: 53714 entries, 0 to 64005\n",
      "Data columns (total 4 columns):\n",
      "stars               53714 non-null int64\n",
      "clean_text          53714 non-null object\n",
      "sent_value_clean    53714 non-null float64\n",
      "sent_score_clean    53714 non-null object\n",
      "dtypes: float64(1), int64(1), object(2)\n",
      "memory usage: 2.0+ MB\n"
     ]
    }
   ],
   "source": [
    "data.info()"
   ]
  },
  {
   "cell_type": "code",
   "execution_count": 17,
   "metadata": {},
   "outputs": [
    {
     "data": {
      "text/plain": [
       "5    31726\n",
       "1    21988\n",
       "Name: stars, dtype: int64"
      ]
     },
     "execution_count": 17,
     "metadata": {},
     "output_type": "execute_result"
    }
   ],
   "source": [
    "data.stars.value_counts()"
   ]
  },
  {
   "cell_type": "code",
   "execution_count": 18,
   "metadata": {},
   "outputs": [
    {
     "data": {
      "text/html": [
       "<div>\n",
       "<style scoped>\n",
       "    .dataframe tbody tr th:only-of-type {\n",
       "        vertical-align: middle;\n",
       "    }\n",
       "\n",
       "    .dataframe tbody tr th {\n",
       "        vertical-align: top;\n",
       "    }\n",
       "\n",
       "    .dataframe thead th {\n",
       "        text-align: right;\n",
       "    }\n",
       "</style>\n",
       "<table border=\"1\" class=\"dataframe\">\n",
       "  <thead>\n",
       "    <tr style=\"text-align: right;\">\n",
       "      <th></th>\n",
       "      <th>stars</th>\n",
       "      <th>clean_text</th>\n",
       "      <th>sent_value_clean</th>\n",
       "      <th>sent_score_clean</th>\n",
       "    </tr>\n",
       "  </thead>\n",
       "  <tbody>\n",
       "    <tr>\n",
       "      <th>0</th>\n",
       "      <td>1</td>\n",
       "      <td>please stay away place bad care imaginable staff uneducated not know anything ask question give answer not even pertain ask super bizarre dr byrne not seem care feel get impression want get make money feeling put visit staff super rude want speak dr byrne would not allow literally minute procedure like go behind secure door not bother ever unless schedule another appointment squeeze another office visit much pain procedure say would not hurt lie put procedure say option schedule office visit...</td>\n",
       "      <td>-0.036719</td>\n",
       "      <td>negative</td>\n",
       "    </tr>\n",
       "    <tr>\n",
       "      <th>1</th>\n",
       "      <td>5</td>\n",
       "      <td>husband patient dr byrne last year half last may suffer kidney stone refer dr byrne examine test run determine would need surgery schedule surgery week later send home major pain medication even take medication husband incapacitate pain dr bryne go way call hospital reschedule emergency surgery compassionate knowledgeable dedicated doctor husband find highly approachable willing return phone call answer question day unfortunately not norm find leave arizona state urological institute follow ...</td>\n",
       "      <td>0.069479</td>\n",
       "      <td>positive</td>\n",
       "    </tr>\n",
       "    <tr>\n",
       "      <th>4</th>\n",
       "      <td>1</td>\n",
       "      <td>wish could give star bad office ever horrible experience office staff bunch teen bad attitude include office manager make appointment consult dr byrne ironwood gilbert location non responsive antibiotic uti though urgency symptom keep get bad pcp recommend see urologist asap first appointment available day give information include insurance information phone reach office half hour early ask send back home front office rep ironwood gilbert location deny take bcb group banner health indicate i...</td>\n",
       "      <td>-0.084259</td>\n",
       "      <td>negative</td>\n",
       "    </tr>\n",
       "    <tr>\n",
       "      <th>5</th>\n",
       "      <td>1</td>\n",
       "      <td>go emergency room kidney stone attack emergency room recommend see dr lauren byrne resolve kidney stone issue make appointment go see nice quick get appointment ask staff put cat scan ironwood scan facility would call go follow appointment week later not call scan office put another order go scan stone mm dr byrne say let wait see pass make appointment week later go appointment go xray ultra sound say wait bit longer still open flow kidney not pass would surgery week another sever attack pai...</td>\n",
       "      <td>0.133618</td>\n",
       "      <td>positive</td>\n",
       "    </tr>\n",
       "    <tr>\n",
       "      <th>6</th>\n",
       "      <td>5</td>\n",
       "      <td>dr byrne excellent doctor right skill include good bed side manner treat prostate cancer originally go another issue thoroughness ability spot red flag exam decide cancer screening test not much fun show early stage cancer give option tell positive negative option decide surgery turn staff preparation also caring professional spend hour suppose hour surgery prostate become enlarged damage bladder reconstruction require spend week catheter not dr byrne attention detail catheter would take soo...</td>\n",
       "      <td>0.210708</td>\n",
       "      <td>positive</td>\n",
       "    </tr>\n",
       "  </tbody>\n",
       "</table>\n",
       "</div>"
      ],
      "text/plain": [
       "   stars  \\\n",
       "0      1   \n",
       "1      5   \n",
       "4      1   \n",
       "5      1   \n",
       "6      5   \n",
       "\n",
       "                                                                                                                                                                                                                                                                                                                                                                                                                                                                                                            clean_text  \\\n",
       "0  please stay away place bad care imaginable staff uneducated not know anything ask question give answer not even pertain ask super bizarre dr byrne not seem care feel get impression want get make money feeling put visit staff super rude want speak dr byrne would not allow literally minute procedure like go behind secure door not bother ever unless schedule another appointment squeeze another office visit much pain procedure say would not hurt lie put procedure say option schedule office visit...   \n",
       "1  husband patient dr byrne last year half last may suffer kidney stone refer dr byrne examine test run determine would need surgery schedule surgery week later send home major pain medication even take medication husband incapacitate pain dr bryne go way call hospital reschedule emergency surgery compassionate knowledgeable dedicated doctor husband find highly approachable willing return phone call answer question day unfortunately not norm find leave arizona state urological institute follow ...   \n",
       "4  wish could give star bad office ever horrible experience office staff bunch teen bad attitude include office manager make appointment consult dr byrne ironwood gilbert location non responsive antibiotic uti though urgency symptom keep get bad pcp recommend see urologist asap first appointment available day give information include insurance information phone reach office half hour early ask send back home front office rep ironwood gilbert location deny take bcb group banner health indicate i...   \n",
       "5  go emergency room kidney stone attack emergency room recommend see dr lauren byrne resolve kidney stone issue make appointment go see nice quick get appointment ask staff put cat scan ironwood scan facility would call go follow appointment week later not call scan office put another order go scan stone mm dr byrne say let wait see pass make appointment week later go appointment go xray ultra sound say wait bit longer still open flow kidney not pass would surgery week another sever attack pai...   \n",
       "6  dr byrne excellent doctor right skill include good bed side manner treat prostate cancer originally go another issue thoroughness ability spot red flag exam decide cancer screening test not much fun show early stage cancer give option tell positive negative option decide surgery turn staff preparation also caring professional spend hour suppose hour surgery prostate become enlarged damage bladder reconstruction require spend week catheter not dr byrne attention detail catheter would take soo...   \n",
       "\n",
       "   sent_value_clean sent_score_clean  \n",
       "0         -0.036719         negative  \n",
       "1          0.069479         positive  \n",
       "4         -0.084259         negative  \n",
       "5          0.133618         positive  \n",
       "6          0.210708         positive  "
      ]
     },
     "execution_count": 18,
     "metadata": {},
     "output_type": "execute_result"
    }
   ],
   "source": [
    "data.head()"
   ]
  },
  {
   "cell_type": "code",
   "execution_count": null,
   "metadata": {},
   "outputs": [],
   "source": []
  },
  {
   "cell_type": "markdown",
   "metadata": {},
   "source": [
    "## Multinomial NB\n",
    "-"
   ]
  },
  {
   "cell_type": "code",
   "execution_count": 19,
   "metadata": {},
   "outputs": [],
   "source": [
    "from sklearn.feature_extraction.text import CountVectorizer\n",
    "from sklearn.naive_bayes import MultinomialNB\n",
    "from sklearn.model_selection import train_test_split"
   ]
  },
  {
   "cell_type": "code",
   "execution_count": 22,
   "metadata": {},
   "outputs": [
    {
     "name": "stdout",
     "output_type": "stream",
     "text": [
      "1 & 5 stars\n",
      " Accuracy= 0.9582053430140557\n"
     ]
    }
   ],
   "source": [
    "# 1&5 starts\n",
    "review = data['clean_text'].values.astype(str)\n",
    "sentiments = data['stars'].values\n",
    "\n",
    "# Split the data for training and for testing and shuffle it\n",
    "X_train, X_test, y_train, y_test = train_test_split(review, sentiments,\n",
    "test_size=0.2, shuffle=True)\n",
    "\n",
    "\n",
    "vectorizer = CountVectorizer(lowercase=True)\n",
    "# Compute the vocabulary only on the training data\n",
    "vectorizer.fit(X_train)\n",
    "\n",
    "# Transform the text list to a matrix form\n",
    "X_train_vectorized = vectorizer.transform(X_train)\n",
    "\n",
    "classifier = MultinomialNB()\n",
    "\n",
    "# Train the classifier\n",
    "classifier.fit(X_train_vectorized, y_train)\n",
    "\n",
    "# Vectorize the test data\n",
    "X_test_vectorized = vectorizer.transform(X_test)\n",
    "\n",
    "# Check our classifier performance\n",
    "score = classifier.score(X_test_vectorized, y_test)\n",
    "\n",
    "print(\"1 & 5 stars\\n Accuracy=\", score) "
   ]
  },
  {
   "cell_type": "code",
   "execution_count": null,
   "metadata": {},
   "outputs": [],
   "source": []
  },
  {
   "cell_type": "markdown",
   "metadata": {},
   "source": [
    "## Multinomial NB Results\n",
    "\n",
    "\n",
    "- all stars: `Accuracy= 0.8001240502403474`\n",
    "- 1 & 5 starts: `Accuracy= 0.9561894108873975`"
   ]
  },
  {
   "cell_type": "markdown",
   "metadata": {},
   "source": [
    "## LogisticRegression"
   ]
  },
  {
   "cell_type": "code",
   "execution_count": 23,
   "metadata": {},
   "outputs": [],
   "source": [
    "from sklearn.linear_model import LogisticRegression"
   ]
  },
  {
   "cell_type": "code",
   "execution_count": 24,
   "metadata": {},
   "outputs": [
    {
     "name": "stdout",
     "output_type": "stream",
     "text": [
      "1 & 5 stars\n",
      " Accuracy= 0.9670483105277855\n",
      "CPU times: user 50.9 s, sys: 7.67 s, total: 58.5 s\n",
      "Wall time: 16.2 s\n"
     ]
    }
   ],
   "source": [
    "%%time\n",
    "# 1&5 starts\n",
    "review = data['clean_text'].values.astype(str)\n",
    "sentiments = data['stars'].values\n",
    "\n",
    "# Split the data for training and for testing and shuffle it\n",
    "X_train, X_test, y_train, y_test = train_test_split(review, sentiments,\n",
    "test_size=0.2, shuffle=True)\n",
    "\n",
    "\n",
    "vectorizer = CountVectorizer(lowercase=True)\n",
    "# Compute the vocabulary only on the training data\n",
    "vectorizer.fit(X_train)\n",
    "\n",
    "# Transform the text list to a matrix form\n",
    "X_train_vectorized = vectorizer.transform(X_train)\n",
    "\n",
    "classifier = LogisticRegression()\n",
    "\n",
    "\n",
    "# Train the classifier\n",
    "classifier.fit(X_train_vectorized, y_train)\n",
    "\n",
    "# Vectorize the test data\n",
    "X_test_vectorized = vectorizer.transform(X_test)\n",
    "\n",
    "# Check our classifier performance\n",
    "score = classifier.score(X_test_vectorized, y_test)\n",
    "\n",
    "print(\"1 & 5 stars\\n Accuracy=\", score) "
   ]
  },
  {
   "cell_type": "code",
   "execution_count": null,
   "metadata": {},
   "outputs": [],
   "source": [
    "%%time\n",
    "# 1-5 starts\n",
    "review = all_stars['text'].values.astype(str)\n",
    "sentiments = all_stars['stars'].values\n",
    "\n",
    "# Split the data for training and for testing and shuffle it\n",
    "X_train, X_test, y_train, y_test = train_test_split(review, sentiments,\n",
    "test_size=0.2, shuffle=True)\n",
    "\n",
    "\n",
    "vectorizer = CountVectorizer(lowercase=True)\n",
    "# Compute the vocabulary only on the training data\n",
    "vectorizer.fit(X_train)\n",
    "\n",
    "# Transform the text list to a matrix form\n",
    "X_train_vectorized = vectorizer.transform(X_train)\n",
    "\n",
    "classifier = LogisticRegression()\n",
    "\n",
    "# Train the classifier\n",
    "classifier.fit(X_train_vectorized, y_train)\n",
    "\n",
    "# Vectorize the test data\n",
    "X_test_vectorized = vectorizer.transform(X_test)\n",
    "\n",
    "# Check our classifier performance\n",
    "score = classifier.score(X_test_vectorized, y_test)\n",
    "\n",
    "print(\"1 - 5 stars\\n Accuracy=\", score) "
   ]
  },
  {
   "cell_type": "markdown",
   "metadata": {},
   "source": [
    "## LogisticRegression Results\n",
    "- 1& 5 starts:` Accuracy= 0.97362043251305`\n",
    "- 1- 5 stars : `Accuracy= 0.8069468134594511`"
   ]
  },
  {
   "cell_type": "markdown",
   "metadata": {},
   "source": [
    "## Use Ngrams Instead of Words\n",
    "- 1-3\n",
    "- 1-2"
   ]
  },
  {
   "cell_type": "code",
   "execution_count": 26,
   "metadata": {},
   "outputs": [
    {
     "name": "stdout",
     "output_type": "stream",
     "text": [
      "CPU times: user 0 ns, sys: 0 ns, total: 0 ns\n",
      "Wall time: 55.8 µs\n"
     ]
    }
   ],
   "source": [
    "%%time\n",
    "# 1&5 starts\n",
    "review = data['clean_text']\n",
    "sentiments = data['stars']"
   ]
  },
  {
   "cell_type": "code",
   "execution_count": 29,
   "metadata": {},
   "outputs": [
    {
     "name": "stdout",
     "output_type": "stream",
     "text": [
      "Accuracy= 0.9774737038071303\n",
      "CPU times: user 2min 4s, sys: 14 s, total: 2min 18s\n",
      "Wall time: 37.6 s\n"
     ]
    }
   ],
   "source": [
    "%%time\n",
    "# Split the data for training and for testing and shuffle it\n",
    "X_train, X_test, y_train, y_test = train_test_split(review, sentiments,\n",
    "test_size=0.2)\n",
    "\n",
    "\n",
    "vectorizer = CountVectorizer(lowercase=True, ngram_range=(1,2))\n",
    "# Compute the vocabulary only on the training data\n",
    "vectorizer.fit(X_train)\n",
    "\n",
    "# Transform the text list to a matrix form\n",
    "X_train_vectorized = vectorizer.transform(X_train)\n",
    "\n",
    "classifier = LogisticRegression()\n",
    "\n",
    "# Train the classifier\n",
    "classifier.fit(X_train_vectorized, y_train)\n",
    "\n",
    "# Vectorize the test data\n",
    "X_test_vectorized = vectorizer.transform(X_test)\n",
    "\n",
    "# Check our classifier performance\n",
    "score = classifier.score(X_test_vectorized, y_test)\n",
    "print(\"Accuracy=\", score)"
   ]
  },
  {
   "cell_type": "code",
   "execution_count": 27,
   "metadata": {},
   "outputs": [],
   "source": [
    "# Split the data for training and for testing and shuffle it\n",
    "X_train, X_test, y_train, y_test = train_test_split(review, sentiments,\n",
    "test_size=0.2)"
   ]
  },
  {
   "cell_type": "code",
   "execution_count": 28,
   "metadata": {},
   "outputs": [
    {
     "name": "stdout",
     "output_type": "stream",
     "text": [
      "Accuracy= 0.9746811877501629\n",
      "CPU times: user 3min 31s, sys: 24.3 s, total: 3min 55s\n",
      "Wall time: 1min 18s\n"
     ]
    }
   ],
   "source": [
    "%%time\n",
    "vectorizer = CountVectorizer(lowercase=True, ngram_range=(1,3))\n",
    "# Compute the vocabulary only on the training data\n",
    "vectorizer.fit(X_train)\n",
    "\n",
    "# Transform the text list to a matrix form\n",
    "X_train_vectorized = vectorizer.transform(X_train)\n",
    "\n",
    "classifier = LogisticRegression()\n",
    "\n",
    "# Train the classifier\n",
    "classifier.fit(X_train_vectorized, y_train)\n",
    "\n",
    "# Vectorize the test data\n",
    "X_test_vectorized = vectorizer.transform(X_test)\n",
    "\n",
    "# Check our classifier performance\n",
    "score = classifier.score(X_test_vectorized, y_test)\n",
    "print(\"Accuracy=\", score)"
   ]
  },
  {
   "cell_type": "code",
   "execution_count": null,
   "metadata": {},
   "outputs": [],
   "source": []
  },
  {
   "cell_type": "markdown",
   "metadata": {},
   "source": [
    "### Results\n",
    "ngram_range=(1,2)\n",
    "```\n",
    "Accuracy= 0.8231508761048224\n",
    "CPU times: user 10min 47s, sys: 27.3 s, total: 11min 14s\n",
    "Wall time: 6min 58s\n",
    "```\n",
    "\n",
    "ngram_range=(1,3)\n",
    "```\n",
    "Accuracy= 0.829896107923709\n",
    "CPU times: user 12min 47s, sys: 40.9 s, total: 13min 28s\n",
    "Wall time: 9min 1s\n",
    "\n",
    "```\n",
    "\n",
    "\n",
    "- `Accuracy= 0.9793064876957495\n",
    "`"
   ]
  },
  {
   "cell_type": "markdown",
   "metadata": {},
   "source": [
    "#  pipeline\n",
    "- Result `Accuracy= 0.9777218493661447`"
   ]
  },
  {
   "cell_type": "code",
   "execution_count": null,
   "metadata": {},
   "outputs": [],
   "source": [
    "from sklearn.pipeline import Pipeline"
   ]
  },
  {
   "cell_type": "code",
   "execution_count": null,
   "metadata": {},
   "outputs": [],
   "source": [
    "# Split the data for training and for testing and shuffle it\n",
    "X_train, X_test, y_train, y_test = train_test_split(review, sentiments,\n",
    "test_size=0.2, shuffle=True)"
   ]
  },
  {
   "cell_type": "code",
   "execution_count": null,
   "metadata": {},
   "outputs": [],
   "source": [
    "%%time\n",
    "# Put everything in a Pipeline\n",
    "pipeline = Pipeline([\n",
    "    ('vectorizer', \n",
    "     CountVectorizer(lowercase=True,ngram_range=(1, 3)))\n",
    "    ,('classifier', LogisticRegression())])\n",
    "\n",
    "pipeline.fit(X_train, y_train)\n",
    "# Check our classifier performance\n",
    "\n",
    "score = pipeline.score(X_test, y_test)\n",
    "\n",
    "print(\"Accuracy=\", score)"
   ]
  },
  {
   "cell_type": "markdown",
   "metadata": {},
   "source": [
    "## Cross validation score"
   ]
  },
  {
   "cell_type": "code",
   "execution_count": null,
   "metadata": {},
   "outputs": [],
   "source": [
    "from sklearn.model_selection import cross_val_score\n",
    "from sklearn.utils import shuffle"
   ]
  },
  {
   "cell_type": "code",
   "execution_count": null,
   "metadata": {},
   "outputs": [],
   "source": [
    "%%time\n",
    "# Put everything in a Pipeline\n",
    "pipeline = Pipeline([\n",
    "    ('vectorizer', CountVectorizer(\n",
    "        lowercase=True,\n",
    "        ngram_range=(1, 3))),\n",
    "    ('classifier', LogisticRegression())])"
   ]
  },
  {
   "cell_type": "code",
   "execution_count": null,
   "metadata": {},
   "outputs": [],
   "source": [
    "review, sentiments = shuffle(review, sentiments) # needed??"
   ]
  },
  {
   "cell_type": "code",
   "execution_count": null,
   "metadata": {},
   "outputs": [],
   "source": [
    "review[9]"
   ]
  },
  {
   "cell_type": "code",
   "execution_count": null,
   "metadata": {},
   "outputs": [],
   "source": [
    "%%time\n",
    "print(\"MeanAccuracy=\", cross_val_score(pipeline, review, sentiments, cv=5).mean())"
   ]
  },
  {
   "cell_type": "markdown",
   "metadata": {},
   "source": [
    "## Result:\n",
    "```\n",
    "MeanAccuracy= 0.9773477193058582\n",
    "CPU times: user 10min 21s, sys: 44.1 s, total: 11min 5s\n",
    "Wall time: 8min 45s\n",
    "\n",
    "```"
   ]
  },
  {
   "cell_type": "markdown",
   "metadata": {},
   "source": [
    "## Grid search"
   ]
  },
  {
   "cell_type": "code",
   "execution_count": null,
   "metadata": {},
   "outputs": [],
   "source": [
    "from sklearn.model_selection import train_test_split, GridSearchCV"
   ]
  },
  {
   "cell_type": "code",
   "execution_count": null,
   "metadata": {},
   "outputs": [],
   "source": [
    "# shuffle data\n",
    "review, sentiments = shuffle(review, sentiments)"
   ]
  },
  {
   "cell_type": "code",
   "execution_count": null,
   "metadata": {},
   "outputs": [],
   "source": [
    "%%time\n",
    "# Put everything in a Pipeline\n",
    "pipeline = Pipeline([\n",
    "    ('vectorizer', CountVectorizer(\n",
    "        lowercase=True,\n",
    "        ngram_range=(1, 3))),\n",
    "    ('classifier', LogisticRegression())])\n",
    "\n",
    "\n",
    "classifier = GridSearchCV(pipeline, {\n",
    "    # try out different ngram ranges\n",
    "    'vectorizer__ngram_range': ((1, 2), (2, 3), (1, 3)),\n",
    "    # check if setting all non zero counts to 1 makes a difference\n",
    "    'vectorizer__binary': (True, False),},\n",
    "                          n_jobs=-1, \n",
    "                          verbose=True,\n",
    "                          error_score=0.0, \n",
    "                          cv=5)"
   ]
  },
  {
   "cell_type": "code",
   "execution_count": null,
   "metadata": {},
   "outputs": [],
   "source": [
    "# %%time\n",
    "# # Compute the vocabulary and train the classifier\n",
    "# classifier.fit(review, sentiments)"
   ]
  },
  {
   "cell_type": "code",
   "execution_count": null,
   "metadata": {},
   "outputs": [],
   "source": [
    "print(\"Best Accuracy: \", classifier.best_score_)\n",
    "print(\"Best Parameters: \", classifier.best_params_)"
   ]
  },
  {
   "cell_type": "code",
   "execution_count": null,
   "metadata": {},
   "outputs": [],
   "source": []
  },
  {
   "cell_type": "markdown",
   "metadata": {},
   "source": [
    "## notes\n",
    "- find nums truep/true neg\n",
    "- "
   ]
  },
  {
   "cell_type": "code",
   "execution_count": null,
   "metadata": {},
   "outputs": [],
   "source": []
  }
 ],
 "metadata": {
  "kernelspec": {
   "display_name": "Python 3",
   "language": "python",
   "name": "python3"
  },
  "language_info": {
   "codemirror_mode": {
    "name": "ipython",
    "version": 3
   },
   "file_extension": ".py",
   "mimetype": "text/x-python",
   "name": "python",
   "nbconvert_exporter": "python",
   "pygments_lexer": "ipython3",
   "version": "3.6.6"
  }
 },
 "nbformat": 4,
 "nbformat_minor": 2
}
