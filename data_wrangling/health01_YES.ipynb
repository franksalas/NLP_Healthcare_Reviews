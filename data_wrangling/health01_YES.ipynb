{
 "cells": [
  {
   "cell_type": "code",
   "execution_count": 1,
   "metadata": {},
   "outputs": [],
   "source": [
    "import warnings\n",
    "warnings.filterwarnings('ignore')\n",
    "import pandas as pd\n",
    "import numpy as np\n",
    "import matplotlib.pyplot as plt\n",
    "import json\n",
    "import re"
   ]
  },
  {
   "cell_type": "code",
   "execution_count": 2,
   "metadata": {},
   "outputs": [],
   "source": [
    "path = 'storage/yelp_data/health_business00.csv'"
   ]
  },
  {
   "cell_type": "code",
   "execution_count": 3,
   "metadata": {},
   "outputs": [],
   "source": [
    "df = pd.read_csv(path)\n",
    "df.drop(['Unnamed: 0'],axis=1,inplace=True)"
   ]
  },
  {
   "cell_type": "code",
   "execution_count": 4,
   "metadata": {},
   "outputs": [
    {
     "name": "stdout",
     "output_type": "stream",
     "text": [
      "<class 'pandas.core.frame.DataFrame'>\n",
      "RangeIndex: 5656 entries, 0 to 5655\n",
      "Data columns (total 4 columns):\n",
      "business_id    5656 non-null object\n",
      "name           5656 non-null object\n",
      "categories     5656 non-null object\n",
      "state          5656 non-null object\n",
      "dtypes: object(4)\n",
      "memory usage: 176.8+ KB\n"
     ]
    }
   ],
   "source": [
    "df.info()"
   ]
  },
  {
   "cell_type": "code",
   "execution_count": 5,
   "metadata": {},
   "outputs": [
    {
     "data": {
      "text/html": [
       "<div>\n",
       "<style scoped>\n",
       "    .dataframe tbody tr th:only-of-type {\n",
       "        vertical-align: middle;\n",
       "    }\n",
       "\n",
       "    .dataframe tbody tr th {\n",
       "        vertical-align: top;\n",
       "    }\n",
       "\n",
       "    .dataframe thead th {\n",
       "        text-align: right;\n",
       "    }\n",
       "</style>\n",
       "<table border=\"1\" class=\"dataframe\">\n",
       "  <thead>\n",
       "    <tr style=\"text-align: right;\">\n",
       "      <th></th>\n",
       "      <th>business_id</th>\n",
       "      <th>name</th>\n",
       "      <th>categories</th>\n",
       "      <th>state</th>\n",
       "    </tr>\n",
       "  </thead>\n",
       "  <tbody>\n",
       "    <tr>\n",
       "      <th>0</th>\n",
       "      <td>y-4xTZNKVm8mAZpiXMS5ZA</td>\n",
       "      <td>Lauren Byrne, MD</td>\n",
       "      <td>urologists, doctors, health &amp; medical</td>\n",
       "      <td>AZ</td>\n",
       "    </tr>\n",
       "    <tr>\n",
       "      <th>1</th>\n",
       "      <td>STcSSjPOZ0FWtjvjqw99Dg</td>\n",
       "      <td>Black Mountain Orthopaedics</td>\n",
       "      <td>doctors, orthopedists, health &amp; medical</td>\n",
       "      <td>NV</td>\n",
       "    </tr>\n",
       "    <tr>\n",
       "      <th>2</th>\n",
       "      <td>WuiRF916fJl6aG5wC8qRAg</td>\n",
       "      <td>Advanced Brows</td>\n",
       "      <td>doctors, eyebrow services, tattoo removal, bea...</td>\n",
       "      <td>NV</td>\n",
       "    </tr>\n",
       "    <tr>\n",
       "      <th>3</th>\n",
       "      <td>WnRtn80rdsWOa2nWZ6G1iA</td>\n",
       "      <td>Central Phoenix Women's Health Care</td>\n",
       "      <td>obstetricians &amp; gynecologists, health &amp; medica...</td>\n",
       "      <td>AZ</td>\n",
       "    </tr>\n",
       "    <tr>\n",
       "      <th>4</th>\n",
       "      <td>SaR_j1ev_d55IBzORph_lQ</td>\n",
       "      <td>LASIK MD</td>\n",
       "      <td>laser eye surgery/lasik, optometrists, ophthal...</td>\n",
       "      <td>QC</td>\n",
       "    </tr>\n",
       "  </tbody>\n",
       "</table>\n",
       "</div>"
      ],
      "text/plain": [
       "              business_id                                 name  \\\n",
       "0  y-4xTZNKVm8mAZpiXMS5ZA                     Lauren Byrne, MD   \n",
       "1  STcSSjPOZ0FWtjvjqw99Dg          Black Mountain Orthopaedics   \n",
       "2  WuiRF916fJl6aG5wC8qRAg                       Advanced Brows   \n",
       "3  WnRtn80rdsWOa2nWZ6G1iA  Central Phoenix Women's Health Care   \n",
       "4  SaR_j1ev_d55IBzORph_lQ                             LASIK MD   \n",
       "\n",
       "                                          categories state  \n",
       "0              urologists, doctors, health & medical    AZ  \n",
       "1            doctors, orthopedists, health & medical    NV  \n",
       "2  doctors, eyebrow services, tattoo removal, bea...    NV  \n",
       "3  obstetricians & gynecologists, health & medica...    AZ  \n",
       "4  laser eye surgery/lasik, optometrists, ophthal...    QC  "
      ]
     },
     "execution_count": 5,
     "metadata": {},
     "output_type": "execute_result"
    }
   ],
   "source": [
    "df.head()"
   ]
  },
  {
   "cell_type": "markdown",
   "metadata": {},
   "source": [
    "## Remove Canada\n",
    "Remove\n",
    "- ON\n",
    "- QC\n",
    "- AB\n",
    "- NI\n",
    "- NYK\n",
    "-"
   ]
  },
  {
   "cell_type": "code",
   "execution_count": 6,
   "metadata": {},
   "outputs": [
    {
     "data": {
      "text/plain": [
       "array(['AZ', 'NV', 'QC', 'ON', 'PA', 'NC', 'OH', 'IL', 'SC', 'WI', 'AB',\n",
       "       'NI', 'CA', 'OR', 'NYK'], dtype=object)"
      ]
     },
     "execution_count": 6,
     "metadata": {},
     "output_type": "execute_result"
    }
   ],
   "source": [
    "df.state.unique()"
   ]
  },
  {
   "cell_type": "code",
   "execution_count": 7,
   "metadata": {},
   "outputs": [],
   "source": [
    "on = df.state == 'ON'\n",
    "qc = df.state == 'QC'\n",
    "ab = df.state == 'AB'\n",
    "ni = df.state == 'NI'\n",
    "nyk = df.state == 'NYK'"
   ]
  },
  {
   "cell_type": "code",
   "execution_count": 8,
   "metadata": {},
   "outputs": [],
   "source": [
    "df = df[~(on|qc|ab|ni|nyk)]"
   ]
  },
  {
   "cell_type": "code",
   "execution_count": 9,
   "metadata": {},
   "outputs": [
    {
     "name": "stdout",
     "output_type": "stream",
     "text": [
      "<class 'pandas.core.frame.DataFrame'>\n",
      "Int64Index: 5207 entries, 0 to 5655\n",
      "Data columns (total 4 columns):\n",
      "business_id    5207 non-null object\n",
      "name           5207 non-null object\n",
      "categories     5207 non-null object\n",
      "state          5207 non-null object\n",
      "dtypes: object(4)\n",
      "memory usage: 203.4+ KB\n"
     ]
    }
   ],
   "source": [
    "df.info()"
   ]
  },
  {
   "cell_type": "code",
   "execution_count": 10,
   "metadata": {},
   "outputs": [
    {
     "data": {
      "text/plain": [
       "['business_id', 'name', 'categories', 'state']"
      ]
     },
     "execution_count": 10,
     "metadata": {},
     "output_type": "execute_result"
    }
   ],
   "source": [
    "list(df.columns)"
   ]
  },
  {
   "cell_type": "code",
   "execution_count": 11,
   "metadata": {},
   "outputs": [
    {
     "name": "stdout",
     "output_type": "stream",
     "text": [
      "<class 'pandas.core.frame.DataFrame'>\n",
      "Int64Index: 5207 entries, 0 to 5655\n",
      "Data columns (total 4 columns):\n",
      "business_id    5207 non-null object\n",
      "name           5207 non-null object\n",
      "categories     5207 non-null object\n",
      "state          5207 non-null object\n",
      "dtypes: object(4)\n",
      "memory usage: 203.4+ KB\n"
     ]
    }
   ],
   "source": [
    "df.info()"
   ]
  },
  {
   "cell_type": "code",
   "execution_count": 14,
   "metadata": {},
   "outputs": [],
   "source": [
    "df = df[[\n",
    " 'business_id',\n",
    "     'name',\n",
    " 'categories']]"
   ]
  },
  {
   "cell_type": "code",
   "execution_count": 15,
   "metadata": {},
   "outputs": [
    {
     "data": {
      "text/html": [
       "<div>\n",
       "<style scoped>\n",
       "    .dataframe tbody tr th:only-of-type {\n",
       "        vertical-align: middle;\n",
       "    }\n",
       "\n",
       "    .dataframe tbody tr th {\n",
       "        vertical-align: top;\n",
       "    }\n",
       "\n",
       "    .dataframe thead th {\n",
       "        text-align: right;\n",
       "    }\n",
       "</style>\n",
       "<table border=\"1\" class=\"dataframe\">\n",
       "  <thead>\n",
       "    <tr style=\"text-align: right;\">\n",
       "      <th></th>\n",
       "      <th>business_id</th>\n",
       "      <th>name</th>\n",
       "      <th>categories</th>\n",
       "    </tr>\n",
       "  </thead>\n",
       "  <tbody>\n",
       "    <tr>\n",
       "      <th>0</th>\n",
       "      <td>y-4xTZNKVm8mAZpiXMS5ZA</td>\n",
       "      <td>Lauren Byrne, MD</td>\n",
       "      <td>urologists, doctors, health &amp; medical</td>\n",
       "    </tr>\n",
       "    <tr>\n",
       "      <th>1</th>\n",
       "      <td>STcSSjPOZ0FWtjvjqw99Dg</td>\n",
       "      <td>Black Mountain Orthopaedics</td>\n",
       "      <td>doctors, orthopedists, health &amp; medical</td>\n",
       "    </tr>\n",
       "    <tr>\n",
       "      <th>2</th>\n",
       "      <td>WuiRF916fJl6aG5wC8qRAg</td>\n",
       "      <td>Advanced Brows</td>\n",
       "      <td>doctors, eyebrow services, tattoo removal, bea...</td>\n",
       "    </tr>\n",
       "    <tr>\n",
       "      <th>3</th>\n",
       "      <td>WnRtn80rdsWOa2nWZ6G1iA</td>\n",
       "      <td>Central Phoenix Women's Health Care</td>\n",
       "      <td>obstetricians &amp; gynecologists, health &amp; medica...</td>\n",
       "    </tr>\n",
       "    <tr>\n",
       "      <th>6</th>\n",
       "      <td>Q9v3zXGR2TduAKzn5B1BhQ</td>\n",
       "      <td>Summerlin Dermatology</td>\n",
       "      <td>medical centers, skin care, health &amp; medical, ...</td>\n",
       "    </tr>\n",
       "  </tbody>\n",
       "</table>\n",
       "</div>"
      ],
      "text/plain": [
       "              business_id                                 name  \\\n",
       "0  y-4xTZNKVm8mAZpiXMS5ZA                     Lauren Byrne, MD   \n",
       "1  STcSSjPOZ0FWtjvjqw99Dg          Black Mountain Orthopaedics   \n",
       "2  WuiRF916fJl6aG5wC8qRAg                       Advanced Brows   \n",
       "3  WnRtn80rdsWOa2nWZ6G1iA  Central Phoenix Women's Health Care   \n",
       "6  Q9v3zXGR2TduAKzn5B1BhQ                Summerlin Dermatology   \n",
       "\n",
       "                                          categories  \n",
       "0              urologists, doctors, health & medical  \n",
       "1            doctors, orthopedists, health & medical  \n",
       "2  doctors, eyebrow services, tattoo removal, bea...  \n",
       "3  obstetricians & gynecologists, health & medica...  \n",
       "6  medical centers, skin care, health & medical, ...  "
      ]
     },
     "execution_count": 15,
     "metadata": {},
     "output_type": "execute_result"
    }
   ],
   "source": [
    "df.head()"
   ]
  },
  {
   "cell_type": "code",
   "execution_count": null,
   "metadata": {},
   "outputs": [],
   "source": [
    "df2 = pd.DataFrame(df['categories'].str.split(',').values.tolist())\n",
    "df2.head()"
   ]
  },
  {
   "cell_type": "code",
   "execution_count": null,
   "metadata": {},
   "outputs": [],
   "source": [
    "#df2[0].value_counts(dropna=False)"
   ]
  },
  {
   "cell_type": "code",
   "execution_count": null,
   "metadata": {},
   "outputs": [],
   "source": [
    "df2 = df2[[0,1,2,3]]"
   ]
  },
  {
   "cell_type": "code",
   "execution_count": null,
   "metadata": {},
   "outputs": [],
   "source": [
    "df2[0].unique()"
   ]
  },
  {
   "cell_type": "code",
   "execution_count": null,
   "metadata": {},
   "outputs": [],
   "source": [
    "df.info()"
   ]
  },
  {
   "cell_type": "code",
   "execution_count": null,
   "metadata": {},
   "outputs": [],
   "source": [
    "df.head()"
   ]
  },
  {
   "cell_type": "code",
   "execution_count": null,
   "metadata": {},
   "outputs": [],
   "source": [
    "df2[0].value_counts()[:20]"
   ]
  },
  {
   "cell_type": "markdown",
   "metadata": {},
   "source": [
    "## remove unrelated categories\n",
    "- original: 5656"
   ]
  },
  {
   "cell_type": "code",
   "execution_count": 16,
   "metadata": {},
   "outputs": [],
   "source": [
    "cannabis = df.categories.str.contains('cannabis', flags=re.IGNORECASE, regex=True)"
   ]
  },
  {
   "cell_type": "code",
   "execution_count": 17,
   "metadata": {},
   "outputs": [],
   "source": [
    "df = df[~cannabis]"
   ]
  },
  {
   "cell_type": "code",
   "execution_count": 18,
   "metadata": {},
   "outputs": [
    {
     "name": "stdout",
     "output_type": "stream",
     "text": [
      "<class 'pandas.core.frame.DataFrame'>\n",
      "Int64Index: 5161 entries, 0 to 5655\n",
      "Data columns (total 3 columns):\n",
      "business_id    5161 non-null object\n",
      "name           5161 non-null object\n",
      "categories     5161 non-null object\n",
      "dtypes: object(3)\n",
      "memory usage: 161.3+ KB\n"
     ]
    }
   ],
   "source": [
    "df.info()"
   ]
  },
  {
   "cell_type": "code",
   "execution_count": 19,
   "metadata": {},
   "outputs": [
    {
     "data": {
      "text/html": [
       "<div>\n",
       "<style scoped>\n",
       "    .dataframe tbody tr th:only-of-type {\n",
       "        vertical-align: middle;\n",
       "    }\n",
       "\n",
       "    .dataframe tbody tr th {\n",
       "        vertical-align: top;\n",
       "    }\n",
       "\n",
       "    .dataframe thead th {\n",
       "        text-align: right;\n",
       "    }\n",
       "</style>\n",
       "<table border=\"1\" class=\"dataframe\">\n",
       "  <thead>\n",
       "    <tr style=\"text-align: right;\">\n",
       "      <th></th>\n",
       "      <th>business_id</th>\n",
       "      <th>name</th>\n",
       "      <th>categories</th>\n",
       "    </tr>\n",
       "  </thead>\n",
       "  <tbody>\n",
       "    <tr>\n",
       "      <th>0</th>\n",
       "      <td>y-4xTZNKVm8mAZpiXMS5ZA</td>\n",
       "      <td>Lauren Byrne, MD</td>\n",
       "      <td>urologists, doctors, health &amp; medical</td>\n",
       "    </tr>\n",
       "    <tr>\n",
       "      <th>1</th>\n",
       "      <td>STcSSjPOZ0FWtjvjqw99Dg</td>\n",
       "      <td>Black Mountain Orthopaedics</td>\n",
       "      <td>doctors, orthopedists, health &amp; medical</td>\n",
       "    </tr>\n",
       "    <tr>\n",
       "      <th>2</th>\n",
       "      <td>WuiRF916fJl6aG5wC8qRAg</td>\n",
       "      <td>Advanced Brows</td>\n",
       "      <td>doctors, eyebrow services, tattoo removal, bea...</td>\n",
       "    </tr>\n",
       "    <tr>\n",
       "      <th>3</th>\n",
       "      <td>WnRtn80rdsWOa2nWZ6G1iA</td>\n",
       "      <td>Central Phoenix Women's Health Care</td>\n",
       "      <td>obstetricians &amp; gynecologists, health &amp; medica...</td>\n",
       "    </tr>\n",
       "    <tr>\n",
       "      <th>6</th>\n",
       "      <td>Q9v3zXGR2TduAKzn5B1BhQ</td>\n",
       "      <td>Summerlin Dermatology</td>\n",
       "      <td>medical centers, skin care, health &amp; medical, ...</td>\n",
       "    </tr>\n",
       "  </tbody>\n",
       "</table>\n",
       "</div>"
      ],
      "text/plain": [
       "              business_id                                 name  \\\n",
       "0  y-4xTZNKVm8mAZpiXMS5ZA                     Lauren Byrne, MD   \n",
       "1  STcSSjPOZ0FWtjvjqw99Dg          Black Mountain Orthopaedics   \n",
       "2  WuiRF916fJl6aG5wC8qRAg                       Advanced Brows   \n",
       "3  WnRtn80rdsWOa2nWZ6G1iA  Central Phoenix Women's Health Care   \n",
       "6  Q9v3zXGR2TduAKzn5B1BhQ                Summerlin Dermatology   \n",
       "\n",
       "                                          categories  \n",
       "0              urologists, doctors, health & medical  \n",
       "1            doctors, orthopedists, health & medical  \n",
       "2  doctors, eyebrow services, tattoo removal, bea...  \n",
       "3  obstetricians & gynecologists, health & medica...  \n",
       "6  medical centers, skin care, health & medical, ...  "
      ]
     },
     "execution_count": 19,
     "metadata": {},
     "output_type": "execute_result"
    }
   ],
   "source": [
    "df.head()"
   ]
  },
  {
   "cell_type": "code",
   "execution_count": 20,
   "metadata": {},
   "outputs": [],
   "source": [
    "#  tattoo removal,\n",
    "tattoo = df.categories.str.contains('tattoo removal', flags=re.IGNORECASE, regex=True)"
   ]
  },
  {
   "cell_type": "code",
   "execution_count": 21,
   "metadata": {},
   "outputs": [
    {
     "data": {
      "text/plain": [
       "123"
      ]
     },
     "execution_count": 21,
     "metadata": {},
     "output_type": "execute_result"
    }
   ],
   "source": [
    "len(df[tattoo])"
   ]
  },
  {
   "cell_type": "code",
   "execution_count": 22,
   "metadata": {},
   "outputs": [],
   "source": [
    "df = df[~tattoo]"
   ]
  },
  {
   "cell_type": "code",
   "execution_count": 23,
   "metadata": {},
   "outputs": [
    {
     "name": "stdout",
     "output_type": "stream",
     "text": [
      "<class 'pandas.core.frame.DataFrame'>\n",
      "Int64Index: 5038 entries, 0 to 5655\n",
      "Data columns (total 3 columns):\n",
      "business_id    5038 non-null object\n",
      "name           5038 non-null object\n",
      "categories     5038 non-null object\n",
      "dtypes: object(3)\n",
      "memory usage: 157.4+ KB\n"
     ]
    }
   ],
   "source": [
    "df.info()"
   ]
  },
  {
   "cell_type": "code",
   "execution_count": 24,
   "metadata": {},
   "outputs": [],
   "source": [
    "#naturopathic/holistic\n",
    "hol = df.categories.str.contains('naturopathic/holistic', flags=re.IGNORECASE, regex=True)\n",
    "# acupuncture\n",
    "acu = df.categories.str.contains('acupuncture', flags=re.IGNORECASE, regex=True)\n",
    "spa = df.categories.str.contains('spas', flags=re.IGNORECASE, regex=True)\n",
    "# hair removal\n",
    "hair = df.categories.str.contains('hair removal', flags=re.IGNORECASE, regex=True)"
   ]
  },
  {
   "cell_type": "code",
   "execution_count": 25,
   "metadata": {},
   "outputs": [],
   "source": [
    "df = df[~(hair|hol|acu|spa)]"
   ]
  },
  {
   "cell_type": "code",
   "execution_count": 26,
   "metadata": {},
   "outputs": [],
   "source": [
    "lasik = df.categories.str.contains('lasik', flags=re.IGNORECASE, regex=True)\n",
    "eye = df.categories.str.contains('eyewear & opticians', flags=re.IGNORECASE, regex=True)\n",
    "shopping = df.categories.str.contains('shopping', flags=re.IGNORECASE, regex=True)\n",
    "pet = df.categories.str.contains('pet', flags=re.IGNORECASE, regex=True)"
   ]
  },
  {
   "cell_type": "code",
   "execution_count": 27,
   "metadata": {},
   "outputs": [],
   "source": [
    "df = df[~(lasik|eye|shopping|pet)]"
   ]
  },
  {
   "cell_type": "code",
   "execution_count": null,
   "metadata": {},
   "outputs": [],
   "source": [
    "df2 = pd.DataFrame(df['categories'].str.split(',').values.tolist())\n",
    "df2.head()"
   ]
  },
  {
   "cell_type": "code",
   "execution_count": null,
   "metadata": {},
   "outputs": [],
   "source": [
    "df2[2].value_counts(dropna=False)[:50]"
   ]
  },
  {
   "cell_type": "code",
   "execution_count": 28,
   "metadata": {},
   "outputs": [
    {
     "name": "stdout",
     "output_type": "stream",
     "text": [
      "<class 'pandas.core.frame.DataFrame'>\n",
      "Int64Index: 3979 entries, 0 to 5655\n",
      "Data columns (total 3 columns):\n",
      "business_id    3979 non-null object\n",
      "name           3979 non-null object\n",
      "categories     3979 non-null object\n",
      "dtypes: object(3)\n",
      "memory usage: 124.3+ KB\n"
     ]
    }
   ],
   "source": [
    "df.info()"
   ]
  },
  {
   "cell_type": "code",
   "execution_count": 29,
   "metadata": {},
   "outputs": [
    {
     "data": {
      "text/plain": [
       "3420"
      ]
     },
     "execution_count": 29,
     "metadata": {},
     "output_type": "execute_result"
    }
   ],
   "source": [
    "len(df.name.value_counts())"
   ]
  },
  {
   "cell_type": "code",
   "execution_count": 31,
   "metadata": {},
   "outputs": [],
   "source": [
    "df.name = df.name.str.strip()"
   ]
  },
  {
   "cell_type": "code",
   "execution_count": 32,
   "metadata": {},
   "outputs": [
    {
     "data": {
      "text/plain": [
       "3420"
      ]
     },
     "execution_count": 32,
     "metadata": {},
     "output_type": "execute_result"
    }
   ],
   "source": [
    "len(df.name.value_counts())"
   ]
  },
  {
   "cell_type": "markdown",
   "metadata": {},
   "source": [
    "## total unique locations\n",
    "\n",
    "- 3648"
   ]
  },
  {
   "cell_type": "code",
   "execution_count": 33,
   "metadata": {},
   "outputs": [
    {
     "data": {
      "text/plain": [
       "Banner Urgent Care                                  36\n",
       "FastMed Urgent Care                                 32\n",
       "NextCare Urgent Care                                25\n",
       "Foothills Sports Medicine Physical Therapy          19\n",
       "CareNow                                             13\n",
       "Quest Diagnostics                                   10\n",
       "Steinberg Diagnostic Medical Imaging                 8\n",
       "The Pain Center                                      7\n",
       "Cigna Medical Group                                  7\n",
       "The Neck and Back Clinics                            7\n",
       "MomDoc Women for Women                               7\n",
       "MY DR NOW                                            7\n",
       "Urgent Care Extra                                    7\n",
       "Desert Radiology                                     6\n",
       "MedPost Urgent Care                                  6\n",
       "Alliance Urgent Care                                 6\n",
       "Express Urgent Care                                  6\n",
       "Arizona Asthma & Allergy Institute                   6\n",
       "Ironwood Cancer & Research Centers                   6\n",
       "Valley Perinatal Services                            6\n",
       "Concentra                                            5\n",
       "Sunset Clinic                                        5\n",
       "Desert Valley Radiology                              5\n",
       "Arizona Arthritis & Rheumatology Associates          5\n",
       "Valley ENT                                           5\n",
       "Valley Sleep Center                                  5\n",
       "Banner Health Center: Primary Care Medicine          5\n",
       "Foothills Pediatrics                                 5\n",
       "SimonMed Imaging                                     5\n",
       "MedExpress Urgent Care                               5\n",
       "                                                    ..\n",
       "Bayliff Integrated Wellness, LLC                     1\n",
       "Kids Kare Pediatrics & Family Kare                   1\n",
       "Arrowhead Oral & Maxillofacial Surgery               1\n",
       "State Of The Heart Cardiology & Vascular Clinics     1\n",
       "Christopher Milford, MD                              1\n",
       "Audiology & Hearing Services of Charlotte            1\n",
       "Arizona Pain Specialists                             1\n",
       "Healing Head2Toe                                     1\n",
       "Marc Malek, MD                                       1\n",
       "Mercy Gilbert Medical Center                         1\n",
       "East Valley Pain Center                              1\n",
       "Bloom Reproductive Institute                         1\n",
       "Novant Health Midtown Family Medicine                1\n",
       "Michael Lawton, MD                                   1\n",
       "Enhanced Medical Centers                             1\n",
       "Backfit Health + Spine                               1\n",
       "Desert Vein Institute                                1\n",
       "Phoenix Neurological and Pain Institute              1\n",
       "Forbes Hospital                                      1\n",
       "Megan Jhaver, M.D.                                   1\n",
       "Cardiovascular Surgery of Southern Nevada            1\n",
       "Phoenician Foot & Ankle Specialists                  1\n",
       "Wellness For Less                                    1\n",
       "Valley of the Sun Dermatology                        1\n",
       "Gist Robert Dr                                       1\n",
       "Michael J. Orris, DO, MBA, FASMBS                    1\n",
       "Nwapa Emmanuel MD                                    1\n",
       "Reserve Health                                       1\n",
       "South Hills Ent Assn                                 1\n",
       "Guo Li Yee MD                                        1\n",
       "Name: name, Length: 3420, dtype: int64"
      ]
     },
     "execution_count": 33,
     "metadata": {},
     "output_type": "execute_result"
    }
   ],
   "source": [
    "df.name.value_counts()"
   ]
  },
  {
   "cell_type": "code",
   "execution_count": 34,
   "metadata": {},
   "outputs": [
    {
     "data": {
      "text/html": [
       "<div>\n",
       "<style scoped>\n",
       "    .dataframe tbody tr th:only-of-type {\n",
       "        vertical-align: middle;\n",
       "    }\n",
       "\n",
       "    .dataframe tbody tr th {\n",
       "        vertical-align: top;\n",
       "    }\n",
       "\n",
       "    .dataframe thead th {\n",
       "        text-align: right;\n",
       "    }\n",
       "</style>\n",
       "<table border=\"1\" class=\"dataframe\">\n",
       "  <thead>\n",
       "    <tr style=\"text-align: right;\">\n",
       "      <th></th>\n",
       "      <th>business_id</th>\n",
       "      <th>name</th>\n",
       "      <th>categories</th>\n",
       "    </tr>\n",
       "  </thead>\n",
       "  <tbody>\n",
       "    <tr>\n",
       "      <th>0</th>\n",
       "      <td>y-4xTZNKVm8mAZpiXMS5ZA</td>\n",
       "      <td>Lauren Byrne, MD</td>\n",
       "      <td>urologists, doctors, health &amp; medical</td>\n",
       "    </tr>\n",
       "    <tr>\n",
       "      <th>1</th>\n",
       "      <td>STcSSjPOZ0FWtjvjqw99Dg</td>\n",
       "      <td>Black Mountain Orthopaedics</td>\n",
       "      <td>doctors, orthopedists, health &amp; medical</td>\n",
       "    </tr>\n",
       "    <tr>\n",
       "      <th>3</th>\n",
       "      <td>WnRtn80rdsWOa2nWZ6G1iA</td>\n",
       "      <td>Central Phoenix Women's Health Care</td>\n",
       "      <td>obstetricians &amp; gynecologists, health &amp; medica...</td>\n",
       "    </tr>\n",
       "    <tr>\n",
       "      <th>8</th>\n",
       "      <td>yOJrDZU5zkxJoZOJTZXLvQ</td>\n",
       "      <td>Michael Seiff, MD</td>\n",
       "      <td>neurologist, spine surgeons, cosmetic surgeons...</td>\n",
       "    </tr>\n",
       "    <tr>\n",
       "      <th>9</th>\n",
       "      <td>tX2AIWiPq565neflyBKLDw</td>\n",
       "      <td>Irene Voo, MD</td>\n",
       "      <td>doctors, retina specialists, ophthalmologists,...</td>\n",
       "    </tr>\n",
       "  </tbody>\n",
       "</table>\n",
       "</div>"
      ],
      "text/plain": [
       "              business_id                                 name  \\\n",
       "0  y-4xTZNKVm8mAZpiXMS5ZA                     Lauren Byrne, MD   \n",
       "1  STcSSjPOZ0FWtjvjqw99Dg          Black Mountain Orthopaedics   \n",
       "3  WnRtn80rdsWOa2nWZ6G1iA  Central Phoenix Women's Health Care   \n",
       "8  yOJrDZU5zkxJoZOJTZXLvQ                    Michael Seiff, MD   \n",
       "9  tX2AIWiPq565neflyBKLDw                        Irene Voo, MD   \n",
       "\n",
       "                                          categories  \n",
       "0              urologists, doctors, health & medical  \n",
       "1            doctors, orthopedists, health & medical  \n",
       "3  obstetricians & gynecologists, health & medica...  \n",
       "8  neurologist, spine surgeons, cosmetic surgeons...  \n",
       "9  doctors, retina specialists, ophthalmologists,...  "
      ]
     },
     "execution_count": 34,
     "metadata": {},
     "output_type": "execute_result"
    }
   ],
   "source": [
    "df.head()"
   ]
  },
  {
   "cell_type": "code",
   "execution_count": 37,
   "metadata": {},
   "outputs": [
    {
     "name": "stdout",
     "output_type": "stream",
     "text": [
      "<class 'pandas.core.frame.DataFrame'>\n",
      "Int64Index: 3979 entries, 0 to 5655\n",
      "Data columns (total 3 columns):\n",
      "business_id    3979 non-null object\n",
      "name           3979 non-null object\n",
      "categories     3979 non-null object\n",
      "dtypes: object(3)\n",
      "memory usage: 124.3+ KB\n"
     ]
    }
   ],
   "source": [
    "df.info()"
   ]
  },
  {
   "cell_type": "code",
   "execution_count": 38,
   "metadata": {},
   "outputs": [],
   "source": [
    "df = df.reset_index(drop=True)"
   ]
  },
  {
   "cell_type": "code",
   "execution_count": 39,
   "metadata": {},
   "outputs": [
    {
     "name": "stdout",
     "output_type": "stream",
     "text": [
      "<class 'pandas.core.frame.DataFrame'>\n",
      "RangeIndex: 3979 entries, 0 to 3978\n",
      "Data columns (total 3 columns):\n",
      "business_id    3979 non-null object\n",
      "name           3979 non-null object\n",
      "categories     3979 non-null object\n",
      "dtypes: object(3)\n",
      "memory usage: 93.3+ KB\n"
     ]
    }
   ],
   "source": [
    "df.info()"
   ]
  },
  {
   "cell_type": "code",
   "execution_count": 40,
   "metadata": {},
   "outputs": [
    {
     "data": {
      "text/html": [
       "<div>\n",
       "<style scoped>\n",
       "    .dataframe tbody tr th:only-of-type {\n",
       "        vertical-align: middle;\n",
       "    }\n",
       "\n",
       "    .dataframe tbody tr th {\n",
       "        vertical-align: top;\n",
       "    }\n",
       "\n",
       "    .dataframe thead th {\n",
       "        text-align: right;\n",
       "    }\n",
       "</style>\n",
       "<table border=\"1\" class=\"dataframe\">\n",
       "  <thead>\n",
       "    <tr style=\"text-align: right;\">\n",
       "      <th></th>\n",
       "      <th>business_id</th>\n",
       "      <th>name</th>\n",
       "      <th>categories</th>\n",
       "    </tr>\n",
       "  </thead>\n",
       "  <tbody>\n",
       "    <tr>\n",
       "      <th>0</th>\n",
       "      <td>y-4xTZNKVm8mAZpiXMS5ZA</td>\n",
       "      <td>Lauren Byrne, MD</td>\n",
       "      <td>urologists, doctors, health &amp; medical</td>\n",
       "    </tr>\n",
       "    <tr>\n",
       "      <th>1</th>\n",
       "      <td>STcSSjPOZ0FWtjvjqw99Dg</td>\n",
       "      <td>Black Mountain Orthopaedics</td>\n",
       "      <td>doctors, orthopedists, health &amp; medical</td>\n",
       "    </tr>\n",
       "    <tr>\n",
       "      <th>2</th>\n",
       "      <td>WnRtn80rdsWOa2nWZ6G1iA</td>\n",
       "      <td>Central Phoenix Women's Health Care</td>\n",
       "      <td>obstetricians &amp; gynecologists, health &amp; medica...</td>\n",
       "    </tr>\n",
       "    <tr>\n",
       "      <th>3</th>\n",
       "      <td>yOJrDZU5zkxJoZOJTZXLvQ</td>\n",
       "      <td>Michael Seiff, MD</td>\n",
       "      <td>neurologist, spine surgeons, cosmetic surgeons...</td>\n",
       "    </tr>\n",
       "    <tr>\n",
       "      <th>4</th>\n",
       "      <td>tX2AIWiPq565neflyBKLDw</td>\n",
       "      <td>Irene Voo, MD</td>\n",
       "      <td>doctors, retina specialists, ophthalmologists,...</td>\n",
       "    </tr>\n",
       "  </tbody>\n",
       "</table>\n",
       "</div>"
      ],
      "text/plain": [
       "              business_id                                 name  \\\n",
       "0  y-4xTZNKVm8mAZpiXMS5ZA                     Lauren Byrne, MD   \n",
       "1  STcSSjPOZ0FWtjvjqw99Dg          Black Mountain Orthopaedics   \n",
       "2  WnRtn80rdsWOa2nWZ6G1iA  Central Phoenix Women's Health Care   \n",
       "3  yOJrDZU5zkxJoZOJTZXLvQ                    Michael Seiff, MD   \n",
       "4  tX2AIWiPq565neflyBKLDw                        Irene Voo, MD   \n",
       "\n",
       "                                          categories  \n",
       "0              urologists, doctors, health & medical  \n",
       "1            doctors, orthopedists, health & medical  \n",
       "2  obstetricians & gynecologists, health & medica...  \n",
       "3  neurologist, spine surgeons, cosmetic surgeons...  \n",
       "4  doctors, retina specialists, ophthalmologists,...  "
      ]
     },
     "execution_count": 40,
     "metadata": {},
     "output_type": "execute_result"
    }
   ],
   "source": [
    "df.head()"
   ]
  },
  {
   "cell_type": "code",
   "execution_count": 42,
   "metadata": {},
   "outputs": [],
   "source": [
    "df.to_csv('storage/yelp_data/health_business01.csv')"
   ]
  },
  {
   "cell_type": "code",
   "execution_count": null,
   "metadata": {},
   "outputs": [],
   "source": []
  },
  {
   "cell_type": "code",
   "execution_count": null,
   "metadata": {},
   "outputs": [],
   "source": []
  }
 ],
 "metadata": {
  "kernelspec": {
   "display_name": "Python 3",
   "language": "python",
   "name": "python3"
  },
  "language_info": {
   "codemirror_mode": {
    "name": "ipython",
    "version": 3
   },
   "file_extension": ".py",
   "mimetype": "text/x-python",
   "name": "python",
   "nbconvert_exporter": "python",
   "pygments_lexer": "ipython3",
   "version": "3.6.3"
  }
 },
 "nbformat": 4,
 "nbformat_minor": 2
}
