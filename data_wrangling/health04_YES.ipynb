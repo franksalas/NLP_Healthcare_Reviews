{
 "cells": [
  {
   "cell_type": "code",
   "execution_count": 1,
   "metadata": {},
   "outputs": [],
   "source": [
    "import warnings\n",
    "warnings.filterwarnings('ignore')"
   ]
  },
  {
   "cell_type": "code",
   "execution_count": 2,
   "metadata": {},
   "outputs": [],
   "source": [
    "import numpy as np\n",
    "import pandas as pd\n",
    "import matplotlib.pyplot as plt\n",
    "import seaborn as sns\n",
    "%matplotlib inline\n",
    "plt.style.use('ggplot')"
   ]
  },
  {
   "cell_type": "code",
   "execution_count": 3,
   "metadata": {},
   "outputs": [],
   "source": [
    "import nltk\n",
    "from nltk.corpus import stopwords"
   ]
  },
  {
   "cell_type": "code",
   "execution_count": 4,
   "metadata": {},
   "outputs": [],
   "source": [
    "path = 'storage/yelp_data/health_raw00.csv'"
   ]
  },
  {
   "cell_type": "code",
   "execution_count": 5,
   "metadata": {},
   "outputs": [],
   "source": [
    "df = pd.read_csv(path)\n",
    "df.drop(['Unnamed: 0'],axis=1,inplace=True)"
   ]
  },
  {
   "cell_type": "code",
   "execution_count": 6,
   "metadata": {},
   "outputs": [
    {
     "name": "stdout",
     "output_type": "stream",
     "text": [
      "<class 'pandas.core.frame.DataFrame'>\n",
      "RangeIndex: 54756 entries, 0 to 54755\n",
      "Data columns (total 12 columns):\n",
      "business_id    54756 non-null object\n",
      "name           54756 non-null object\n",
      "categories     54756 non-null object\n",
      "cool           54756 non-null int64\n",
      "date           54756 non-null object\n",
      "funny          54756 non-null int64\n",
      "review_id      54756 non-null object\n",
      "stars          54756 non-null int64\n",
      "text           54756 non-null object\n",
      "useful         54756 non-null int64\n",
      "user_id        54756 non-null object\n",
      "len_text       54756 non-null int64\n",
      "dtypes: int64(5), object(7)\n",
      "memory usage: 5.0+ MB\n"
     ]
    }
   ],
   "source": [
    "df.info()"
   ]
  },
  {
   "cell_type": "code",
   "execution_count": 7,
   "metadata": {},
   "outputs": [
    {
     "data": {
      "text/html": [
       "<div>\n",
       "<style scoped>\n",
       "    .dataframe tbody tr th:only-of-type {\n",
       "        vertical-align: middle;\n",
       "    }\n",
       "\n",
       "    .dataframe tbody tr th {\n",
       "        vertical-align: top;\n",
       "    }\n",
       "\n",
       "    .dataframe thead th {\n",
       "        text-align: right;\n",
       "    }\n",
       "</style>\n",
       "<table border=\"1\" class=\"dataframe\">\n",
       "  <thead>\n",
       "    <tr style=\"text-align: right;\">\n",
       "      <th></th>\n",
       "      <th>business_id</th>\n",
       "      <th>name</th>\n",
       "      <th>categories</th>\n",
       "      <th>cool</th>\n",
       "      <th>date</th>\n",
       "      <th>funny</th>\n",
       "      <th>review_id</th>\n",
       "      <th>stars</th>\n",
       "      <th>text</th>\n",
       "      <th>useful</th>\n",
       "      <th>user_id</th>\n",
       "      <th>len_text</th>\n",
       "    </tr>\n",
       "  </thead>\n",
       "  <tbody>\n",
       "    <tr>\n",
       "      <th>0</th>\n",
       "      <td>y-4xTZNKVm8mAZpiXMS5ZA</td>\n",
       "      <td>Lauren Byrne, MD</td>\n",
       "      <td>urologists, doctors, health &amp; medical</td>\n",
       "      <td>0</td>\n",
       "      <td>2018-03-03</td>\n",
       "      <td>0</td>\n",
       "      <td>TNNkSmMfshsD3G60jTNjDA</td>\n",
       "      <td>1</td>\n",
       "      <td>Please stay away from this place if you can! I...</td>\n",
       "      <td>2</td>\n",
       "      <td>xv2V2GO5IZYvtw4oW7gQ1w</td>\n",
       "      <td>2002</td>\n",
       "    </tr>\n",
       "    <tr>\n",
       "      <th>1</th>\n",
       "      <td>y-4xTZNKVm8mAZpiXMS5ZA</td>\n",
       "      <td>Lauren Byrne, MD</td>\n",
       "      <td>urologists, doctors, health &amp; medical</td>\n",
       "      <td>0</td>\n",
       "      <td>2015-11-29</td>\n",
       "      <td>0</td>\n",
       "      <td>v-iKdstPdCxJr8zV1ZMdrw</td>\n",
       "      <td>5</td>\n",
       "      <td>My husband has been a patient of Dr. Byrne for...</td>\n",
       "      <td>1</td>\n",
       "      <td>SjvWP7c9toeZoV_q62zhTA</td>\n",
       "      <td>877</td>\n",
       "    </tr>\n",
       "    <tr>\n",
       "      <th>2</th>\n",
       "      <td>y-4xTZNKVm8mAZpiXMS5ZA</td>\n",
       "      <td>Lauren Byrne, MD</td>\n",
       "      <td>urologists, doctors, health &amp; medical</td>\n",
       "      <td>0</td>\n",
       "      <td>2016-06-03</td>\n",
       "      <td>0</td>\n",
       "      <td>BmNDRCV9_NzQ_KCChyfdEw</td>\n",
       "      <td>4</td>\n",
       "      <td>Dr. Byrne is a great doctor! She has great bed...</td>\n",
       "      <td>2</td>\n",
       "      <td>sZVHm1aLtvyH9trAc2_MgA</td>\n",
       "      <td>333</td>\n",
       "    </tr>\n",
       "    <tr>\n",
       "      <th>3</th>\n",
       "      <td>y-4xTZNKVm8mAZpiXMS5ZA</td>\n",
       "      <td>Lauren Byrne, MD</td>\n",
       "      <td>urologists, doctors, health &amp; medical</td>\n",
       "      <td>0</td>\n",
       "      <td>2017-03-17</td>\n",
       "      <td>0</td>\n",
       "      <td>t_TKVMxKFYm9Hl-TIO7UUw</td>\n",
       "      <td>3</td>\n",
       "      <td>I'm raising my review as Dr Bryne's has been m...</td>\n",
       "      <td>3</td>\n",
       "      <td>8Y_irXocZdZxLs_qgzpjBw</td>\n",
       "      <td>649</td>\n",
       "    </tr>\n",
       "    <tr>\n",
       "      <th>4</th>\n",
       "      <td>y-4xTZNKVm8mAZpiXMS5ZA</td>\n",
       "      <td>Lauren Byrne, MD</td>\n",
       "      <td>urologists, doctors, health &amp; medical</td>\n",
       "      <td>0</td>\n",
       "      <td>2016-08-31</td>\n",
       "      <td>0</td>\n",
       "      <td>NWRrpGRgWZBBj3lvCZGVKA</td>\n",
       "      <td>1</td>\n",
       "      <td>I wish I could give 0 stars. Worst office I've...</td>\n",
       "      <td>1</td>\n",
       "      <td>hVKPDGpG12z7vpScXaSakw</td>\n",
       "      <td>1408</td>\n",
       "    </tr>\n",
       "  </tbody>\n",
       "</table>\n",
       "</div>"
      ],
      "text/plain": [
       "              business_id              name  \\\n",
       "0  y-4xTZNKVm8mAZpiXMS5ZA  Lauren Byrne, MD   \n",
       "1  y-4xTZNKVm8mAZpiXMS5ZA  Lauren Byrne, MD   \n",
       "2  y-4xTZNKVm8mAZpiXMS5ZA  Lauren Byrne, MD   \n",
       "3  y-4xTZNKVm8mAZpiXMS5ZA  Lauren Byrne, MD   \n",
       "4  y-4xTZNKVm8mAZpiXMS5ZA  Lauren Byrne, MD   \n",
       "\n",
       "                              categories  cool        date  funny  \\\n",
       "0  urologists, doctors, health & medical     0  2018-03-03      0   \n",
       "1  urologists, doctors, health & medical     0  2015-11-29      0   \n",
       "2  urologists, doctors, health & medical     0  2016-06-03      0   \n",
       "3  urologists, doctors, health & medical     0  2017-03-17      0   \n",
       "4  urologists, doctors, health & medical     0  2016-08-31      0   \n",
       "\n",
       "                review_id  stars  \\\n",
       "0  TNNkSmMfshsD3G60jTNjDA      1   \n",
       "1  v-iKdstPdCxJr8zV1ZMdrw      5   \n",
       "2  BmNDRCV9_NzQ_KCChyfdEw      4   \n",
       "3  t_TKVMxKFYm9Hl-TIO7UUw      3   \n",
       "4  NWRrpGRgWZBBj3lvCZGVKA      1   \n",
       "\n",
       "                                                text  useful  \\\n",
       "0  Please stay away from this place if you can! I...       2   \n",
       "1  My husband has been a patient of Dr. Byrne for...       1   \n",
       "2  Dr. Byrne is a great doctor! She has great bed...       2   \n",
       "3  I'm raising my review as Dr Bryne's has been m...       3   \n",
       "4  I wish I could give 0 stars. Worst office I've...       1   \n",
       "\n",
       "                  user_id  len_text  \n",
       "0  xv2V2GO5IZYvtw4oW7gQ1w      2002  \n",
       "1  SjvWP7c9toeZoV_q62zhTA       877  \n",
       "2  sZVHm1aLtvyH9trAc2_MgA       333  \n",
       "3  8Y_irXocZdZxLs_qgzpjBw       649  \n",
       "4  hVKPDGpG12z7vpScXaSakw      1408  "
      ]
     },
     "execution_count": 7,
     "metadata": {},
     "output_type": "execute_result"
    }
   ],
   "source": [
    "df.head()"
   ]
  },
  {
   "cell_type": "code",
   "execution_count": 8,
   "metadata": {},
   "outputs": [
    {
     "data": {
      "text/plain": [
       "<seaborn.axisgrid.FacetGrid at 0x7fbdd3c2c588>"
      ]
     },
     "execution_count": 8,
     "metadata": {},
     "output_type": "execute_result"
    },
    {
     "data": {
      "image/png": "[encoded data removed]",
      "text/plain": [
       "<Figure size 1080x216 with 5 Axes>"
      ]
     },
     "metadata": {},
     "output_type": "display_data"
    }
   ],
   "source": [
    "g = sns.FacetGrid(data=df, col='stars')\n",
    "g.map(plt.hist, 'len_text', bins=50)"
   ]
  },
  {
   "cell_type": "code",
   "execution_count": 9,
   "metadata": {},
   "outputs": [
    {
     "data": {
      "text/plain": [
       "<matplotlib.axes._subplots.AxesSubplot at 0x7fbdd3af20f0>"
      ]
     },
     "execution_count": 9,
     "metadata": {},
     "output_type": "execute_result"
    },
    {
     "data": {
      "image/png": "[encoded data removed]",
      "text/plain": [
       "<Figure size 432x288 with 1 Axes>"
      ]
     },
     "metadata": {},
     "output_type": "display_data"
    }
   ],
   "source": [
    "sns.boxplot(x='stars', y='len_text', data=df)"
   ]
  },
  {
   "cell_type": "markdown",
   "metadata": {},
   "source": [
    "# Independent and dependent variables"
   ]
  },
  {
   "cell_type": "code",
   "execution_count": 10,
   "metadata": {},
   "outputs": [],
   "source": [
    "yelp_class = df[(df['stars'] == 1) | (df['stars'] == 5)]"
   ]
  },
  {
   "cell_type": "code",
   "execution_count": 11,
   "metadata": {},
   "outputs": [
    {
     "data": {
      "text/html": [
       "<div>\n",
       "<style scoped>\n",
       "    .dataframe tbody tr th:only-of-type {\n",
       "        vertical-align: middle;\n",
       "    }\n",
       "\n",
       "    .dataframe tbody tr th {\n",
       "        vertical-align: top;\n",
       "    }\n",
       "\n",
       "    .dataframe thead th {\n",
       "        text-align: right;\n",
       "    }\n",
       "</style>\n",
       "<table border=\"1\" class=\"dataframe\">\n",
       "  <thead>\n",
       "    <tr style=\"text-align: right;\">\n",
       "      <th></th>\n",
       "      <th>business_id</th>\n",
       "      <th>name</th>\n",
       "      <th>categories</th>\n",
       "      <th>cool</th>\n",
       "      <th>date</th>\n",
       "      <th>funny</th>\n",
       "      <th>review_id</th>\n",
       "      <th>stars</th>\n",
       "      <th>text</th>\n",
       "      <th>useful</th>\n",
       "      <th>user_id</th>\n",
       "      <th>len_text</th>\n",
       "    </tr>\n",
       "  </thead>\n",
       "  <tbody>\n",
       "    <tr>\n",
       "      <th>0</th>\n",
       "      <td>y-4xTZNKVm8mAZpiXMS5ZA</td>\n",
       "      <td>Lauren Byrne, MD</td>\n",
       "      <td>urologists, doctors, health &amp; medical</td>\n",
       "      <td>0</td>\n",
       "      <td>2018-03-03</td>\n",
       "      <td>0</td>\n",
       "      <td>TNNkSmMfshsD3G60jTNjDA</td>\n",
       "      <td>1</td>\n",
       "      <td>Please stay away from this place if you can! I...</td>\n",
       "      <td>2</td>\n",
       "      <td>xv2V2GO5IZYvtw4oW7gQ1w</td>\n",
       "      <td>2002</td>\n",
       "    </tr>\n",
       "    <tr>\n",
       "      <th>1</th>\n",
       "      <td>y-4xTZNKVm8mAZpiXMS5ZA</td>\n",
       "      <td>Lauren Byrne, MD</td>\n",
       "      <td>urologists, doctors, health &amp; medical</td>\n",
       "      <td>0</td>\n",
       "      <td>2015-11-29</td>\n",
       "      <td>0</td>\n",
       "      <td>v-iKdstPdCxJr8zV1ZMdrw</td>\n",
       "      <td>5</td>\n",
       "      <td>My husband has been a patient of Dr. Byrne for...</td>\n",
       "      <td>1</td>\n",
       "      <td>SjvWP7c9toeZoV_q62zhTA</td>\n",
       "      <td>877</td>\n",
       "    </tr>\n",
       "    <tr>\n",
       "      <th>4</th>\n",
       "      <td>y-4xTZNKVm8mAZpiXMS5ZA</td>\n",
       "      <td>Lauren Byrne, MD</td>\n",
       "      <td>urologists, doctors, health &amp; medical</td>\n",
       "      <td>0</td>\n",
       "      <td>2016-08-31</td>\n",
       "      <td>0</td>\n",
       "      <td>NWRrpGRgWZBBj3lvCZGVKA</td>\n",
       "      <td>1</td>\n",
       "      <td>I wish I could give 0 stars. Worst office I've...</td>\n",
       "      <td>1</td>\n",
       "      <td>hVKPDGpG12z7vpScXaSakw</td>\n",
       "      <td>1408</td>\n",
       "    </tr>\n",
       "    <tr>\n",
       "      <th>5</th>\n",
       "      <td>y-4xTZNKVm8mAZpiXMS5ZA</td>\n",
       "      <td>Lauren Byrne, MD</td>\n",
       "      <td>urologists, doctors, health &amp; medical</td>\n",
       "      <td>0</td>\n",
       "      <td>2018-05-06</td>\n",
       "      <td>0</td>\n",
       "      <td>jX47gPdL1ta_OTt5HgDSGQ</td>\n",
       "      <td>1</td>\n",
       "      <td>I went to the emergency room because i was hav...</td>\n",
       "      <td>1</td>\n",
       "      <td>KZ2_AsAYr3iSsUfK06W-aw</td>\n",
       "      <td>2985</td>\n",
       "    </tr>\n",
       "    <tr>\n",
       "      <th>6</th>\n",
       "      <td>y-4xTZNKVm8mAZpiXMS5ZA</td>\n",
       "      <td>Lauren Byrne, MD</td>\n",
       "      <td>urologists, doctors, health &amp; medical</td>\n",
       "      <td>0</td>\n",
       "      <td>2017-10-16</td>\n",
       "      <td>0</td>\n",
       "      <td>LSCLa-SIOgaOxP4r3VjX-A</td>\n",
       "      <td>5</td>\n",
       "      <td>Dr. Byrne is an excellent doctor with all the ...</td>\n",
       "      <td>3</td>\n",
       "      <td>OrsSCQlWIOiitqDSzwn4bQ</td>\n",
       "      <td>1201</td>\n",
       "    </tr>\n",
       "  </tbody>\n",
       "</table>\n",
       "</div>"
      ],
      "text/plain": [
       "              business_id              name  \\\n",
       "0  y-4xTZNKVm8mAZpiXMS5ZA  Lauren Byrne, MD   \n",
       "1  y-4xTZNKVm8mAZpiXMS5ZA  Lauren Byrne, MD   \n",
       "4  y-4xTZNKVm8mAZpiXMS5ZA  Lauren Byrne, MD   \n",
       "5  y-4xTZNKVm8mAZpiXMS5ZA  Lauren Byrne, MD   \n",
       "6  y-4xTZNKVm8mAZpiXMS5ZA  Lauren Byrne, MD   \n",
       "\n",
       "                              categories  cool        date  funny  \\\n",
       "0  urologists, doctors, health & medical     0  2018-03-03      0   \n",
       "1  urologists, doctors, health & medical     0  2015-11-29      0   \n",
       "4  urologists, doctors, health & medical     0  2016-08-31      0   \n",
       "5  urologists, doctors, health & medical     0  2018-05-06      0   \n",
       "6  urologists, doctors, health & medical     0  2017-10-16      0   \n",
       "\n",
       "                review_id  stars  \\\n",
       "0  TNNkSmMfshsD3G60jTNjDA      1   \n",
       "1  v-iKdstPdCxJr8zV1ZMdrw      5   \n",
       "4  NWRrpGRgWZBBj3lvCZGVKA      1   \n",
       "5  jX47gPdL1ta_OTt5HgDSGQ      1   \n",
       "6  LSCLa-SIOgaOxP4r3VjX-A      5   \n",
       "\n",
       "                                                text  useful  \\\n",
       "0  Please stay away from this place if you can! I...       2   \n",
       "1  My husband has been a patient of Dr. Byrne for...       1   \n",
       "4  I wish I could give 0 stars. Worst office I've...       1   \n",
       "5  I went to the emergency room because i was hav...       1   \n",
       "6  Dr. Byrne is an excellent doctor with all the ...       3   \n",
       "\n",
       "                  user_id  len_text  \n",
       "0  xv2V2GO5IZYvtw4oW7gQ1w      2002  \n",
       "1  SjvWP7c9toeZoV_q62zhTA       877  \n",
       "4  hVKPDGpG12z7vpScXaSakw      1408  \n",
       "5  KZ2_AsAYr3iSsUfK06W-aw      2985  \n",
       "6  OrsSCQlWIOiitqDSzwn4bQ      1201  "
      ]
     },
     "execution_count": 11,
     "metadata": {},
     "output_type": "execute_result"
    }
   ],
   "source": [
    "yelp_class.head()"
   ]
  },
  {
   "cell_type": "markdown",
   "metadata": {},
   "source": [
    "## change to binary\n",
    "- 1 stars will become 0\n",
    "- 5 starts will become 1"
   ]
  },
  {
   "cell_type": "code",
   "execution_count": 12,
   "metadata": {},
   "outputs": [],
   "source": [
    "yelp_class.stars.replace(1,0,inplace=True)\n",
    "yelp_class.stars.replace(5,1,inplace=True)"
   ]
  },
  {
   "cell_type": "code",
   "execution_count": 13,
   "metadata": {},
   "outputs": [
    {
     "data": {
      "text/html": [
       "<div>\n",
       "<style scoped>\n",
       "    .dataframe tbody tr th:only-of-type {\n",
       "        vertical-align: middle;\n",
       "    }\n",
       "\n",
       "    .dataframe tbody tr th {\n",
       "        vertical-align: top;\n",
       "    }\n",
       "\n",
       "    .dataframe thead th {\n",
       "        text-align: right;\n",
       "    }\n",
       "</style>\n",
       "<table border=\"1\" class=\"dataframe\">\n",
       "  <thead>\n",
       "    <tr style=\"text-align: right;\">\n",
       "      <th></th>\n",
       "      <th>business_id</th>\n",
       "      <th>name</th>\n",
       "      <th>categories</th>\n",
       "      <th>cool</th>\n",
       "      <th>date</th>\n",
       "      <th>funny</th>\n",
       "      <th>review_id</th>\n",
       "      <th>stars</th>\n",
       "      <th>text</th>\n",
       "      <th>useful</th>\n",
       "      <th>user_id</th>\n",
       "      <th>len_text</th>\n",
       "    </tr>\n",
       "  </thead>\n",
       "  <tbody>\n",
       "    <tr>\n",
       "      <th>0</th>\n",
       "      <td>y-4xTZNKVm8mAZpiXMS5ZA</td>\n",
       "      <td>Lauren Byrne, MD</td>\n",
       "      <td>urologists, doctors, health &amp; medical</td>\n",
       "      <td>0</td>\n",
       "      <td>2018-03-03</td>\n",
       "      <td>0</td>\n",
       "      <td>TNNkSmMfshsD3G60jTNjDA</td>\n",
       "      <td>0</td>\n",
       "      <td>Please stay away from this place if you can! I...</td>\n",
       "      <td>2</td>\n",
       "      <td>xv2V2GO5IZYvtw4oW7gQ1w</td>\n",
       "      <td>2002</td>\n",
       "    </tr>\n",
       "    <tr>\n",
       "      <th>1</th>\n",
       "      <td>y-4xTZNKVm8mAZpiXMS5ZA</td>\n",
       "      <td>Lauren Byrne, MD</td>\n",
       "      <td>urologists, doctors, health &amp; medical</td>\n",
       "      <td>0</td>\n",
       "      <td>2015-11-29</td>\n",
       "      <td>0</td>\n",
       "      <td>v-iKdstPdCxJr8zV1ZMdrw</td>\n",
       "      <td>1</td>\n",
       "      <td>My husband has been a patient of Dr. Byrne for...</td>\n",
       "      <td>1</td>\n",
       "      <td>SjvWP7c9toeZoV_q62zhTA</td>\n",
       "      <td>877</td>\n",
       "    </tr>\n",
       "    <tr>\n",
       "      <th>4</th>\n",
       "      <td>y-4xTZNKVm8mAZpiXMS5ZA</td>\n",
       "      <td>Lauren Byrne, MD</td>\n",
       "      <td>urologists, doctors, health &amp; medical</td>\n",
       "      <td>0</td>\n",
       "      <td>2016-08-31</td>\n",
       "      <td>0</td>\n",
       "      <td>NWRrpGRgWZBBj3lvCZGVKA</td>\n",
       "      <td>0</td>\n",
       "      <td>I wish I could give 0 stars. Worst office I've...</td>\n",
       "      <td>1</td>\n",
       "      <td>hVKPDGpG12z7vpScXaSakw</td>\n",
       "      <td>1408</td>\n",
       "    </tr>\n",
       "    <tr>\n",
       "      <th>5</th>\n",
       "      <td>y-4xTZNKVm8mAZpiXMS5ZA</td>\n",
       "      <td>Lauren Byrne, MD</td>\n",
       "      <td>urologists, doctors, health &amp; medical</td>\n",
       "      <td>0</td>\n",
       "      <td>2018-05-06</td>\n",
       "      <td>0</td>\n",
       "      <td>jX47gPdL1ta_OTt5HgDSGQ</td>\n",
       "      <td>0</td>\n",
       "      <td>I went to the emergency room because i was hav...</td>\n",
       "      <td>1</td>\n",
       "      <td>KZ2_AsAYr3iSsUfK06W-aw</td>\n",
       "      <td>2985</td>\n",
       "    </tr>\n",
       "    <tr>\n",
       "      <th>6</th>\n",
       "      <td>y-4xTZNKVm8mAZpiXMS5ZA</td>\n",
       "      <td>Lauren Byrne, MD</td>\n",
       "      <td>urologists, doctors, health &amp; medical</td>\n",
       "      <td>0</td>\n",
       "      <td>2017-10-16</td>\n",
       "      <td>0</td>\n",
       "      <td>LSCLa-SIOgaOxP4r3VjX-A</td>\n",
       "      <td>1</td>\n",
       "      <td>Dr. Byrne is an excellent doctor with all the ...</td>\n",
       "      <td>3</td>\n",
       "      <td>OrsSCQlWIOiitqDSzwn4bQ</td>\n",
       "      <td>1201</td>\n",
       "    </tr>\n",
       "  </tbody>\n",
       "</table>\n",
       "</div>"
      ],
      "text/plain": [
       "              business_id              name  \\\n",
       "0  y-4xTZNKVm8mAZpiXMS5ZA  Lauren Byrne, MD   \n",
       "1  y-4xTZNKVm8mAZpiXMS5ZA  Lauren Byrne, MD   \n",
       "4  y-4xTZNKVm8mAZpiXMS5ZA  Lauren Byrne, MD   \n",
       "5  y-4xTZNKVm8mAZpiXMS5ZA  Lauren Byrne, MD   \n",
       "6  y-4xTZNKVm8mAZpiXMS5ZA  Lauren Byrne, MD   \n",
       "\n",
       "                              categories  cool        date  funny  \\\n",
       "0  urologists, doctors, health & medical     0  2018-03-03      0   \n",
       "1  urologists, doctors, health & medical     0  2015-11-29      0   \n",
       "4  urologists, doctors, health & medical     0  2016-08-31      0   \n",
       "5  urologists, doctors, health & medical     0  2018-05-06      0   \n",
       "6  urologists, doctors, health & medical     0  2017-10-16      0   \n",
       "\n",
       "                review_id  stars  \\\n",
       "0  TNNkSmMfshsD3G60jTNjDA      0   \n",
       "1  v-iKdstPdCxJr8zV1ZMdrw      1   \n",
       "4  NWRrpGRgWZBBj3lvCZGVKA      0   \n",
       "5  jX47gPdL1ta_OTt5HgDSGQ      0   \n",
       "6  LSCLa-SIOgaOxP4r3VjX-A      1   \n",
       "\n",
       "                                                text  useful  \\\n",
       "0  Please stay away from this place if you can! I...       2   \n",
       "1  My husband has been a patient of Dr. Byrne for...       1   \n",
       "4  I wish I could give 0 stars. Worst office I've...       1   \n",
       "5  I went to the emergency room because i was hav...       1   \n",
       "6  Dr. Byrne is an excellent doctor with all the ...       3   \n",
       "\n",
       "                  user_id  len_text  \n",
       "0  xv2V2GO5IZYvtw4oW7gQ1w      2002  \n",
       "1  SjvWP7c9toeZoV_q62zhTA       877  \n",
       "4  hVKPDGpG12z7vpScXaSakw      1408  \n",
       "5  KZ2_AsAYr3iSsUfK06W-aw      2985  \n",
       "6  OrsSCQlWIOiitqDSzwn4bQ      1201  "
      ]
     },
     "execution_count": 13,
     "metadata": {},
     "output_type": "execute_result"
    }
   ],
   "source": [
    "yelp_class.head()"
   ]
  },
  {
   "cell_type": "code",
   "execution_count": 14,
   "metadata": {},
   "outputs": [],
   "source": [
    "X = yelp_class['text']\n",
    "y = yelp_class['stars']"
   ]
  },
  {
   "cell_type": "code",
   "execution_count": 15,
   "metadata": {},
   "outputs": [
    {
     "data": {
      "text/plain": [
       "0     Please stay away from this place if you can! I...\n",
       "1     My husband has been a patient of Dr. Byrne for...\n",
       "4     I wish I could give 0 stars. Worst office I've...\n",
       "5     I went to the emergency room because i was hav...\n",
       "6     Dr. Byrne is an excellent doctor with all the ...\n",
       "7     Worst place ever. Dr Bryne had to reschedule m...\n",
       "8     Update to my last review.  My situation got ev...\n",
       "9     I'm going to follow Jacie's example and give y...\n",
       "11    dr. mario quesada both of my arthroscopic knee...\n",
       "12    Waited over an hour after my scheduled appoint...\n",
       "Name: text, dtype: object"
      ]
     },
     "execution_count": 15,
     "metadata": {},
     "output_type": "execute_result"
    }
   ],
   "source": [
    "X[0:10]"
   ]
  },
  {
   "cell_type": "markdown",
   "metadata": {},
   "source": [
    "# Text pre-processing\n",
    "The main issue with our data is that it is all in plain-text format."
   ]
  },
  {
   "cell_type": "code",
   "execution_count": 16,
   "metadata": {},
   "outputs": [
    {
     "data": {
      "text/plain": [
       "'Please stay away from this place if you can! It\\'s the worst care imaginable! The staff is very uneducated and doesn\\'t know anything. If you ask a question they give you an answer that doesn\\'t even pertain to what you just asked. It\\'s super bizarre. Dr Byrne doesn\\'t seem to care at all about how you feel I got the impression she just wants to get you in and out and make her money. That\\'s just the feeling that was put out there in my visit. The staff is super rude. I wanted to speak again with dr Byrne and they wouldn\\'t allow it literally 3 minutes after my procedure. It\\'s like she goes behind a secure door where she can\\'t be bothered ever again unless you schedule another appointment so they can squeeze you for another office visit . I\\'m in so much pain after a procedure they said wouldn\\'t hurt. She lied to me about being put under for the procedure. She said I had the option and scheduled me for an office visit where they don\\'t offer that option and of course after driving an hour to get there I wasn\\'t going to leave as I had to get the procedure done before leaving state. Why tell me I had the option? I told her straight up I wanted to be asleep for it and she said ok \"I\\'ll schedule you for this week \", then I show up and they say oh yeah we don\\'t do that it\\'s quick and painless! It was very very painful! And they didn\\'t even offer pain meds. They just don\\'t want to answer any questions or talk to you or have to deal with you at all. It\\'s like the entire place is annoyed that you\\'re there and they have to do their jobs! I had to endure the pain of a camera being shoved in my pee hole. She said there would be a little blood well I\\'m pissing blood nonstop and it hurts like hell! I called with concerns and they told me they would ask the questions for me and get back to me in a few days! I\\'m in pain now! The way this place is run is disgraceful and I would be embarrassed to be associated with such a chop shop. It\\'s scary that these people are allowed to do what they do.'"
      ]
     },
     "execution_count": 16,
     "metadata": {},
     "output_type": "execute_result"
    }
   ],
   "source": [
    "X[0]"
   ]
  },
  {
   "cell_type": "markdown",
   "metadata": {},
   "source": [
    "The classification algorithm will need some sort of feature vector in order to perform the classification task. The simplest way to convert a corpus to a vector format is the bag-of-words approach, where each unique word in a text will be represented by one number.\n",
    "First, let’s write a function that will split a message into its individual words, and return a list. We will also remove the very common words (such as “the”, “a”, “an”, etc.), also known as stopwords. To do this, we can take advantage of the NLTK library. The function below removes punctuation, stopwords, and returns a list of the remaining words, or tokens."
   ]
  },
  {
   "cell_type": "code",
   "execution_count": 17,
   "metadata": {},
   "outputs": [],
   "source": [
    "import string\n",
    "def text_process(text):\n",
    "    '''\n",
    "    Takes in a string of text, then performs the following:\n",
    "    1. Remove all punctuation\n",
    "    2. Remove all stopwords\n",
    "    3. Return the cleaned text as a list of words\n",
    "    '''\n",
    "    nopunc = [char for char in text if char not in string.punctuation]\n",
    "    nopunc = ''.join(nopunc)\n",
    "    \n",
    "    return [word for word in nopunc.split() if word.lower() not in stopwords.words('english')]"
   ]
  },
  {
   "cell_type": "markdown",
   "metadata": {},
   "source": [
    "To check if the function works, let’s pass in some random text and see if it gets processed correctly."
   ]
  },
  {
   "cell_type": "code",
   "execution_count": 18,
   "metadata": {},
   "outputs": [],
   "source": [
    "sample_text = \"Hey there! This is a sample review, which hap'pens to contain punctuations.\""
   ]
  },
  {
   "cell_type": "code",
   "execution_count": 19,
   "metadata": {},
   "outputs": [
    {
     "name": "stdout",
     "output_type": "stream",
     "text": [
      "Hey there! This is a sample review, which hap'pens to contain punctuations.\n"
     ]
    }
   ],
   "source": [
    "print(sample_text)"
   ]
  },
  {
   "cell_type": "code",
   "execution_count": 20,
   "metadata": {},
   "outputs": [
    {
     "name": "stdout",
     "output_type": "stream",
     "text": [
      "['Hey', 'sample', 'review', 'happens', 'contain', 'punctuations']\n"
     ]
    }
   ],
   "source": [
    "print(text_process(sample_text))"
   ]
  },
  {
   "cell_type": "code",
   "execution_count": 22,
   "metadata": {},
   "outputs": [],
   "source": [
    "from sklearn.feature_extraction.text import CountVectorizer"
   ]
  },
  {
   "cell_type": "code",
   "execution_count": 23,
   "metadata": {},
   "outputs": [
    {
     "name": "stdout",
     "output_type": "stream",
     "text": [
      "CPU times: user 12min 50s, sys: 1min 17s, total: 14min 8s\n",
      "Wall time: 14min 40s\n"
     ]
    }
   ],
   "source": [
    "%%time\n",
    "bow_transformer = CountVectorizer(analyzer=text_process).fit(X)"
   ]
  },
  {
   "cell_type": "markdown",
   "metadata": {},
   "source": [
    "Now, we can look at the size of the vocabulary stored in the vectoriser (based on X) like this:"
   ]
  },
  {
   "cell_type": "code",
   "execution_count": 24,
   "metadata": {},
   "outputs": [
    {
     "data": {
      "text/plain": [
       "74780"
      ]
     },
     "execution_count": 24,
     "metadata": {},
     "output_type": "execute_result"
    }
   ],
   "source": [
    "len(bow_transformer.vocabulary_)"
   ]
  },
  {
   "cell_type": "markdown",
   "metadata": {},
   "source": []
  },
  {
   "cell_type": "code",
   "execution_count": 25,
   "metadata": {},
   "outputs": [
    {
     "name": "stdout",
     "output_type": "stream",
     "text": [
      "i have never been treated so poorly in my life. i will never go back to this office ! they are unbelievably rude and have the absolute worst bedside manner i have ever experienced from start to finish.  \n",
      "even though they had me in their system they could not find my \"chart\" so they decided to charge me new patient prices...even though i was clearly a patient previously. i had spent lots of time on the phone with the finance lady (like a car dealer, odd) telling her exactly what i was coming in for so financially i knew what to expect.... because last time i recieved and $800 bill, yup thats right....$800!!!!! seemed a little excessive for a pap and routine labs...they sure like taking advantage of the cash pay people which is sad especially since i'm sure they do their fair share of ripping off insurance companies. anyway, i was told to come in early for appointment, i wound up waiting over an hour in the waiting room, no one would acknowledge me so i finally asked when they could see me. they soooo so rudely brought me in back to the room. i saw the super rude grumpy nurse practitioner who treated me like i was an airhead. and instead of addressing my issues i was there for she went right into wanting to do bloodwork, cholesterol screening, mammogram, and told me i probably have a pituitary tumor!!!!!! WTF!!! who does that?? she hadnt even done a routine exam at that point. and then told me i didnt know what i was talking about. such a rude rude rude woman. they more interested in doing more labs to make money than anything. so after my horrible experience with that hag i had to deal with the car dealer finance lady who decided to then charge me new patient prices which is more than existing and more than what was agreed upon on the phone. they new and admitted they told me one thing and then made me pay another . they really are rotten people and i hate when people get into any kind of health care knowing people are ailing but they dont have the temperment to deal with it long term so they walk around like a bunch of grumpy sourpusses in the office and make patients coming in with issues feel like we're a burden! isn't that what they signed up for??? try to be a little kinder rude ladies, its probably because they're all hitting menopause in there right now\n"
     ]
    }
   ],
   "source": [
    "review_21 = X[21]\n",
    "print(review_21)"
   ]
  },
  {
   "cell_type": "code",
   "execution_count": 26,
   "metadata": {},
   "outputs": [],
   "source": [
    "import numpy as np\n",
    "np.set_printoptions(threshold=np.inf)"
   ]
  },
  {
   "cell_type": "markdown",
   "metadata": {},
   "source": [
    "Now let’s see our review represented as a vector:\n"
   ]
  },
  {
   "cell_type": "code",
   "execution_count": 27,
   "metadata": {},
   "outputs": [],
   "source": [
    "bow_21 = bow_transformer.transform([review_21])"
   ]
  },
  {
   "cell_type": "code",
   "execution_count": 28,
   "metadata": {},
   "outputs": [
    {
     "data": {
      "text/plain": [
       "scipy.sparse.csr.csr_matrix"
      ]
     },
     "execution_count": 28,
     "metadata": {},
     "output_type": "execute_result"
    }
   ],
   "source": [
    "type(bow_21)"
   ]
  },
  {
   "cell_type": "code",
   "execution_count": 29,
   "metadata": {},
   "outputs": [
    {
     "data": {
      "text/plain": [
       "(1, 74780)"
      ]
     },
     "execution_count": 29,
     "metadata": {},
     "output_type": "execute_result"
    }
   ],
   "source": [
    "bow_21.shape"
   ]
  },
  {
   "cell_type": "code",
   "execution_count": 30,
   "metadata": {},
   "outputs": [
    {
     "name": "stdout",
     "output_type": "stream",
     "text": [
      "  (0, 3512)\t1\n",
      "  (0, 30251)\t1\n",
      "  (0, 31441)\t1\n",
      "  (0, 31663)\t1\n",
      "  (0, 31796)\t1\n",
      "  (0, 31885)\t1\n",
      "  (0, 31936)\t1\n",
      "  (0, 32223)\t1\n",
      "  (0, 32284)\t1\n",
      "  (0, 32301)\t1\n",
      "  (0, 32937)\t1\n",
      "  (0, 33149)\t1\n",
      "  (0, 33173)\t1\n",
      "  (0, 33316)\t1\n",
      "  (0, 33619)\t1\n",
      "  (0, 33767)\t1\n",
      "  (0, 34427)\t2\n",
      "  (0, 34926)\t1\n",
      "  (0, 35298)\t1\n",
      "  (0, 35603)\t1\n",
      "  (0, 36154)\t1\n",
      "  (0, 36321)\t1\n",
      "  (0, 36338)\t1\n",
      "  (0, 36788)\t2\n",
      "  (0, 36825)\t1\n",
      "  :\t:\n",
      "  (0, 68798)\t1\n",
      "  (0, 68819)\t1\n",
      "  (0, 69083)\t1\n",
      "  (0, 69097)\t1\n",
      "  (0, 69184)\t1\n",
      "  (0, 69363)\t1\n",
      "  (0, 69583)\t1\n",
      "  (0, 69606)\t1\n",
      "  (0, 69716)\t2\n",
      "  (0, 69935)\t2\n",
      "  (0, 70242)\t4\n",
      "  (0, 70715)\t2\n",
      "  (0, 70932)\t1\n",
      "  (0, 70987)\t1\n",
      "  (0, 71282)\t1\n",
      "  (0, 72026)\t1\n",
      "  (0, 72925)\t2\n",
      "  (0, 72978)\t1\n",
      "  (0, 73045)\t1\n",
      "  (0, 73514)\t1\n",
      "  (0, 73968)\t1\n",
      "  (0, 74169)\t1\n",
      "  (0, 74195)\t1\n",
      "  (0, 74210)\t1\n",
      "  (0, 74697)\t1\n"
     ]
    }
   ],
   "source": [
    "print(bow_21)"
   ]
  },
  {
   "cell_type": "code",
   "execution_count": 31,
   "metadata": {},
   "outputs": [
    {
     "name": "stdout",
     "output_type": "stream",
     "text": [
      "6\n"
     ]
    }
   ],
   "source": [
    "print(bow_21.max())"
   ]
  },
  {
   "cell_type": "code",
   "execution_count": 32,
   "metadata": {},
   "outputs": [
    {
     "data": {
      "text/plain": [
       "165"
      ]
     },
     "execution_count": 32,
     "metadata": {},
     "output_type": "execute_result"
    }
   ],
   "source": [
    "len(bow_21.data)"
   ]
  },
  {
   "cell_type": "code",
   "execution_count": 33,
   "metadata": {},
   "outputs": [
    {
     "name": "stdout",
     "output_type": "stream",
     "text": [
      "  (0, 52751)\tTrue\n",
      "  (0, 58977)\tTrue\n",
      "  (0, 64113)\tTrue\n",
      "  (0, 70242)\tTrue\n"
     ]
    }
   ],
   "source": [
    "print(bow_21> 3)"
   ]
  },
  {
   "cell_type": "code",
   "execution_count": 34,
   "metadata": {},
   "outputs": [
    {
     "name": "stdout",
     "output_type": "stream",
     "text": [
      "  (0, 64113)\tTrue\n"
     ]
    }
   ],
   "source": [
    "print(bow_21== 6)"
   ]
  },
  {
   "cell_type": "markdown",
   "metadata": {},
   "source": [
    "This means that there are 24 unique words in the review (after removing stopwords). Two of them appear thrice, and the rest appear only once. Let’s go ahead and check which ones appear thrice:"
   ]
  },
  {
   "cell_type": "code",
   "execution_count": 35,
   "metadata": {},
   "outputs": [
    {
     "name": "stdout",
     "output_type": "stream",
     "text": [
      "like\n",
      "people\n",
      "rude\n",
      "told\n"
     ]
    }
   ],
   "source": [
    "print(bow_transformer.get_feature_names()[52751])\n",
    "print(bow_transformer.get_feature_names()[58977])\n",
    "print(bow_transformer.get_feature_names()[64113])\n",
    "print(bow_transformer.get_feature_names()[70242])"
   ]
  },
  {
   "cell_type": "markdown",
   "metadata": {},
   "source": [
    "Now that we’ve seen how the vectorisation process works, we can transform our X dataframe into a sparse matrix. To do this, let’s use the .transform() method on our bag-of-words transformed object."
   ]
  },
  {
   "cell_type": "code",
   "execution_count": 36,
   "metadata": {},
   "outputs": [
    {
     "name": "stdout",
     "output_type": "stream",
     "text": [
      "CPU times: user 12min 5s, sys: 1min 10s, total: 13min 15s\n",
      "Wall time: 13min 16s\n"
     ]
    }
   ],
   "source": [
    "%%time\n",
    "X = bow_transformer.transform(X)"
   ]
  },
  {
   "cell_type": "markdown",
   "metadata": {},
   "source": [
    "We can check out the shape of our new X."
   ]
  },
  {
   "cell_type": "code",
   "execution_count": 37,
   "metadata": {},
   "outputs": [
    {
     "name": "stdout",
     "output_type": "stream",
     "text": [
      "Shape of Sparse Matrix:  (45631, 74780)\n",
      "Amount of Non-Zero occurrences:  2446569\n"
     ]
    }
   ],
   "source": [
    "print('Shape of Sparse Matrix: ', X.shape)\n",
    "print('Amount of Non-Zero occurrences: ', X.nnz)"
   ]
  },
  {
   "cell_type": "code",
   "execution_count": 38,
   "metadata": {},
   "outputs": [
    {
     "name": "stdout",
     "output_type": "stream",
     "text": [
      "Density: 0.07169882216619944\n"
     ]
    }
   ],
   "source": [
    "# Percentage of non-zero values\n",
    "density = (100.0 * X.nnz / (X.shape[0] * X.shape[1]))\n",
    "print('Density: {}'.format((density)))"
   ]
  },
  {
   "cell_type": "markdown",
   "metadata": {},
   "source": [
    "# Training data and test data\n"
   ]
  },
  {
   "cell_type": "code",
   "execution_count": 39,
   "metadata": {},
   "outputs": [],
   "source": [
    "from sklearn.model_selection import train_test_split"
   ]
  },
  {
   "cell_type": "code",
   "execution_count": 40,
   "metadata": {},
   "outputs": [
    {
     "name": "stdout",
     "output_type": "stream",
     "text": [
      "CPU times: user 72 ms, sys: 4 ms, total: 76 ms\n",
      "Wall time: 80.4 ms\n"
     ]
    }
   ],
   "source": [
    "%%time\n",
    "X_train, X_test, y_train, y_test = train_test_split(X, y, test_size=0.3, random_state=101)"
   ]
  },
  {
   "cell_type": "markdown",
   "metadata": {},
   "source": []
  },
  {
   "cell_type": "code",
   "execution_count": 41,
   "metadata": {},
   "outputs": [],
   "source": [
    "from sklearn.naive_bayes import MultinomialNB\n",
    "nb = MultinomialNB()"
   ]
  },
  {
   "cell_type": "code",
   "execution_count": 42,
   "metadata": {},
   "outputs": [
    {
     "data": {
      "text/plain": [
       "MultinomialNB(alpha=1.0, class_prior=None, fit_prior=True)"
      ]
     },
     "execution_count": 42,
     "metadata": {},
     "output_type": "execute_result"
    }
   ],
   "source": [
    "nb.fit(X_train, y_train)"
   ]
  },
  {
   "cell_type": "markdown",
   "metadata": {},
   "source": [
    "# Testing and evaluating"
   ]
  },
  {
   "cell_type": "code",
   "execution_count": 43,
   "metadata": {},
   "outputs": [],
   "source": [
    "preds = nb.predict(X_test)"
   ]
  },
  {
   "cell_type": "markdown",
   "metadata": {},
   "source": [
    "Next, let’s evaluate our predictions against the actual ratings (stored in y_test) using confusion_matrix and classification_report from Scikit-learn."
   ]
  },
  {
   "cell_type": "code",
   "execution_count": 44,
   "metadata": {},
   "outputs": [],
   "source": [
    "from sklearn.metrics import confusion_matrix, classification_report, accuracy_score,recall_score,precision_score"
   ]
  },
  {
   "cell_type": "code",
   "execution_count": 45,
   "metadata": {},
   "outputs": [
    {
     "name": "stdout",
     "output_type": "stream",
     "text": [
      "[[5777  250]\n",
      " [ 335 7328]]\n",
      "\n",
      "\n",
      "             precision    recall  f1-score   support\n",
      "\n",
      "          0       0.95      0.96      0.95      6027\n",
      "          1       0.97      0.96      0.96      7663\n",
      "\n",
      "avg / total       0.96      0.96      0.96     13690\n",
      "\n"
     ]
    }
   ],
   "source": [
    "print(confusion_matrix(y_test, preds))\n",
    "print('\\n')\n",
    "print(classification_report(y_test, preds))"
   ]
  },
  {
   "cell_type": "code",
   "execution_count": 46,
   "metadata": {},
   "outputs": [],
   "source": [
    "cm = confusion_matrix(y_test, preds)"
   ]
  },
  {
   "cell_type": "code",
   "execution_count": 47,
   "metadata": {},
   "outputs": [
    {
     "data": {
      "text/plain": [
       "array([[5777,  250],\n",
       "       [ 335, 7328]])"
      ]
     },
     "execution_count": 47,
     "metadata": {},
     "output_type": "execute_result"
    }
   ],
   "source": [
    "cm"
   ]
  },
  {
   "cell_type": "code",
   "execution_count": 48,
   "metadata": {},
   "outputs": [
    {
     "data": {
      "image/png": "[encoded data removed]",
      "text/plain": [
       "<Figure size 720x504 with 1 Axes>"
      ]
     },
     "metadata": {},
     "output_type": "display_data"
    }
   ],
   "source": [
    "plt.figure(figsize = (10,7))\n",
    "sns.heatmap(cm, annot=True, fmt=\"d\", cbar=False)\n",
    "plt.title('Confusion matrix')\n",
    "plt.ylabel('True label')\n",
    "plt.xlabel('Predicted label')\n",
    "plt.show()"
   ]
  },
  {
   "cell_type": "code",
   "execution_count": 49,
   "metadata": {},
   "outputs": [
    {
     "data": {
      "text/plain": [
       "(array([0, 1]), array([6112, 7578]))"
      ]
     },
     "execution_count": 49,
     "metadata": {},
     "output_type": "execute_result"
    }
   ],
   "source": [
    "np.unique(preds,return_counts=True)"
   ]
  },
  {
   "cell_type": "code",
   "execution_count": 50,
   "metadata": {},
   "outputs": [
    {
     "data": {
      "text/plain": [
       "1    7663\n",
       "0    6027\n",
       "Name: stars, dtype: int64"
      ]
     },
     "execution_count": 50,
     "metadata": {},
     "output_type": "execute_result"
    }
   ],
   "source": [
    "y_test.value_counts()"
   ]
  },
  {
   "cell_type": "markdown",
   "metadata": {},
   "source": [
    "# Confusion Matrix deep dive\n",
    "\n",
    "### Basic terminology\n",
    "- **True Positives (TP)**: we correctly predicted a positive review\n",
    "- **True Negatives (TN)**: we correctly predicted that a negative review\n",
    "- **False Positives (FP)**: we incorrectly predicted a positive review (a \"Type I error\")\n",
    "- **False Negatives (FN)**: we incorrectly predicted a negative review (a \"Type II error\")"
   ]
  },
  {
   "cell_type": "code",
   "execution_count": 51,
   "metadata": {},
   "outputs": [],
   "source": [
    "confusion = confusion_matrix(y_test, preds)\n",
    "TP = confusion[1, 1]\n",
    "TN = confusion[0, 0]\n",
    "FP = confusion[0, 1]\n",
    "FN = confusion[1, 0]"
   ]
  },
  {
   "cell_type": "code",
   "execution_count": 52,
   "metadata": {},
   "outputs": [
    {
     "data": {
      "text/plain": [
       "array([[5777,  250],\n",
       "       [ 335, 7328]])"
      ]
     },
     "execution_count": 52,
     "metadata": {},
     "output_type": "execute_result"
    }
   ],
   "source": [
    "confusion"
   ]
  },
  {
   "cell_type": "markdown",
   "metadata": {},
   "source": [
    "# Metrics computed from a confusion matrix \n",
    "\n",
    "**Classification Accuracy**: Overall, how often is the classifier correct?\n"
   ]
  },
  {
   "cell_type": "code",
   "execution_count": 53,
   "metadata": {},
   "outputs": [
    {
     "name": "stdout",
     "output_type": "stream",
     "text": [
      "0.9572680788897006\n",
      "0.9572680788897006\n"
     ]
    }
   ],
   "source": [
    "print((TP + TN) / float(TP + TN + FP + FN))\n",
    "print(accuracy_score(y_test, preds))"
   ]
  },
  {
   "cell_type": "markdown",
   "metadata": {},
   "source": [
    "## Classification Error: Overall, how often is the classifier incorrect?\n",
    "- Also known as \"Misclassification Rate\"\n"
   ]
  },
  {
   "cell_type": "code",
   "execution_count": 54,
   "metadata": {},
   "outputs": [
    {
     "name": "stdout",
     "output_type": "stream",
     "text": [
      "0.04273192111029949\n",
      "0.04273192111029944\n"
     ]
    }
   ],
   "source": [
    "print((FP + FN) / float(TP + TN + FP + FN))\n",
    "print(1 - accuracy_score(y_test, preds))"
   ]
  },
  {
   "cell_type": "markdown",
   "metadata": {},
   "source": [
    "# Sensitivity: When the actual value is positive, how often is the prediction correct?\n",
    "- How \"sensitive\" is the classifier to detecting positive instances?\n",
    "- Also known as \"True Positive Rate\" or \"Recall\"\n"
   ]
  },
  {
   "cell_type": "code",
   "execution_count": 55,
   "metadata": {},
   "outputs": [
    {
     "name": "stdout",
     "output_type": "stream",
     "text": [
      "0.956283439906042\n",
      "0.956283439906042\n"
     ]
    }
   ],
   "source": [
    "print(TP / float(TP + FN))\n",
    "print(recall_score(y_test, preds))"
   ]
  },
  {
   "cell_type": "markdown",
   "metadata": {},
   "source": [
    "# Specificity: When the actual value is negative, how often is the prediction correct?\n",
    "- How \"specific\" (or \"selective\") is the classifier in predicting positive instances?"
   ]
  },
  {
   "cell_type": "code",
   "execution_count": 56,
   "metadata": {},
   "outputs": [
    {
     "name": "stdout",
     "output_type": "stream",
     "text": [
      "0.9585199933631989\n"
     ]
    }
   ],
   "source": [
    "print(TN / float(TN + FP))"
   ]
  },
  {
   "cell_type": "markdown",
   "metadata": {},
   "source": [
    "**False Positive Rate**: When the actual value is negative, how often is the prediction incorrect?"
   ]
  },
  {
   "cell_type": "code",
   "execution_count": 57,
   "metadata": {},
   "outputs": [
    {
     "name": "stdout",
     "output_type": "stream",
     "text": [
      "0.04148000663680106\n"
     ]
    }
   ],
   "source": [
    "print(FP / float(TN + FP))"
   ]
  },
  {
   "cell_type": "markdown",
   "metadata": {},
   "source": [
    "**Precision**: When a positive value is predicted, how often is the prediction correct?\n",
    "- How \"precise\" is the classifier when predicting positive instances?"
   ]
  },
  {
   "cell_type": "code",
   "execution_count": 58,
   "metadata": {},
   "outputs": [
    {
     "name": "stdout",
     "output_type": "stream",
     "text": [
      "0.9670097651095276\n",
      "0.9670097651095276\n"
     ]
    }
   ],
   "source": [
    "print(TP / float(TP + FP))\n",
    "print(precision_score(y_test, preds))"
   ]
  },
  {
   "cell_type": "markdown",
   "metadata": {},
   "source": [
    "\n",
    "\n",
    "Many other metrics can be computed: F1 score, Matthews correlation coefficient, etc.\n",
    "\n",
    "\n",
    "\n",
    "\n",
    "\n",
    "\n",
    "### Conclusion:\n",
    "- Confusion matrix gives you a more complete picture of how your classifier is performing\n",
    "- Also allows you to compute various classification metrics, and these metrics can guide your model selection\n",
    "\n",
    "### Which metrics should you focus on?\n",
    "- Choice of metric depends on your business objective \n",
    "- spam filter (positive class is \"spam\"): Optimize for precision or specificity because false negatives (spam goes to the inbox) are more acceptable than false positives (non-spam is caught by the spam filter)\n",
    "- Fraudulent transaction detector (positive class is \"fraud\"): Optimize for sensitivity because false positives (normal transactions that are flagged as possible fraud) are more acceptable than false negatives (fraudulent transactions that are not detected)\n"
   ]
  },
  {
   "cell_type": "markdown",
   "metadata": {},
   "source": [
    "# Data Bias\n",
    "Although our model achieved quite a high accuracy, there are some issues with bias caused by the dataset.\n",
    "Let’s take some singular reviews, and see what rating our model predicts for each one."
   ]
  },
  {
   "cell_type": "markdown",
   "metadata": {},
   "source": [
    "## Predicting a singular positive review\n"
   ]
  },
  {
   "cell_type": "code",
   "execution_count": 59,
   "metadata": {},
   "outputs": [
    {
     "data": {
      "text/plain": [
       "'I was referred by my optometrist to see Dr. Voo to take care of a hole in my retina.  I was quite impressed with her knowledge and skills.  She explained to me what exactly needed to be done to take care of the hole in my retina and calmed my anxiety regarding the procedure.  The laser coagulation surgery which she performed on me went well and I had no problems after the procedure.  I was in and out of her office within an hour and was able to drive home soon after that.  Dr. Voo and her staff are very professional and personable and I highly recommend her if you need to see a retina specialist.'"
      ]
     },
     "execution_count": 59,
     "metadata": {},
     "output_type": "execute_result"
    }
   ],
   "source": [
    "positive_review = yelp_class['text'][59]\n",
    "positive_review"
   ]
  },
  {
   "cell_type": "markdown",
   "metadata": {},
   "source": [
    "Seems like someone had the time of their life at this place, right? We can expect our model to predict a rating of 5 for this review."
   ]
  },
  {
   "cell_type": "code",
   "execution_count": 60,
   "metadata": {},
   "outputs": [
    {
     "data": {
      "text/plain": [
       "1"
      ]
     },
     "execution_count": 60,
     "metadata": {},
     "output_type": "execute_result"
    }
   ],
   "source": [
    "positive_review_transformed = bow_transformer.transform([positive_review])\n",
    "nb.predict(positive_review_transformed)[0]"
   ]
  },
  {
   "cell_type": "markdown",
   "metadata": {},
   "source": [
    "Our model thinks this review is positive, just as we expected.\n",
    "## Predicting a singular negative review"
   ]
  },
  {
   "cell_type": "code",
   "execution_count": 61,
   "metadata": {},
   "outputs": [
    {
     "data": {
      "text/plain": [
       "\"The ONLY reason I am giving one (1) star is because I actually really like my doctor, Dr. Smith. Dr. Smith is kind, attentive and I truly feel like he cares about both my daughter and I. Besides Dr. Smith, there is NOTHING good I can say about this office/practice. I have been coming here for about a year. Because of the specific medicine I am on, it requires almost monthly doctors appointments and I have had nothing but troubled appointment after troubled appointment. The staff will not return phone calls or emails. When transferring my records over to Dr. Smith I had to call the office nearly 15 (I promise I am not exaggerating) times over and over again. I typed up all my paperwork prior to my appointment, including my records transfer paperwork. Upon leaving my first appointment, they were to get back in touch with me the next day. I didn't hear from them for a week. When I finally called they said they had been leaving me messages because they needed me to come back in and fill paperwork out... NO ONE EVER CALLED ME. They then miraculously found all my paperwork and said they would call me back within the hour to reschedule an appointment to fill my medication, AGAIN NO CALL BACK. This went on for SIX (6) weeks before I finally drove the 45miles and sat in the waiting room for an hour to tell them how horrible their practice was being run. Even after that, they still managed to email paperwork and results to an incorrect email address and still couldn't make return calls. As of just 4 weeks ago, I had to again sit in the waiting room for over an hour just to wait on a script that I had called in for 3 days earlier and no one returned my calls. All the time sitting in the waiting room I had to listen to disgruntled staff talk about what a rough day it's been.... If my medicine wasn't so hard to come by, I would be gone in a heart beat, not because Dr. Smith is doing anything wrong but because all of his staff is going to make him lose his patients for all their incompetence. I would NOT suggest going to this practice. I am a single mother who works full time and lives 45 miles away. When I make a doctors appointment, I do NOT expect to have to take my toddler to sit for an hour in the waiting room and then sit in the actual room another 30 minutes to be seen. There needs to be a serious overhaul of staff new structures put in place or this practice is doomed. I have another appointment in 1 week... I DREAD having to go here and just know I am going to be sitting waiting another hour to be seen.\""
      ]
     },
     "execution_count": 61,
     "metadata": {},
     "output_type": "execute_result"
    }
   ],
   "source": [
    "negative_review = yelp_class['text'][221]\n",
    "negative_review"
   ]
  },
  {
   "cell_type": "markdown",
   "metadata": {},
   "source": [
    "This is a slightly more negative review. So, we can expect our model to rate this a 1-star."
   ]
  },
  {
   "cell_type": "code",
   "execution_count": 62,
   "metadata": {},
   "outputs": [
    {
     "data": {
      "text/plain": [
       "0"
      ]
     },
     "execution_count": 62,
     "metadata": {},
     "output_type": "execute_result"
    }
   ],
   "source": [
    "negative_review_transformed = bow_transformer.transform([negative_review])\n",
    "nb.predict(negative_review_transformed)[0]"
   ]
  },
  {
   "cell_type": "code",
   "execution_count": null,
   "metadata": {},
   "outputs": [],
   "source": []
  }
 ],
 "metadata": {
  "kernelspec": {
   "display_name": "Python 3",
   "language": "python",
   "name": "python3"
  },
  "language_info": {
   "codemirror_mode": {
    "name": "ipython",
    "version": 3
   },
   "file_extension": ".py",
   "mimetype": "text/x-python",
   "name": "python",
   "nbconvert_exporter": "python",
   "pygments_lexer": "ipython3",
   "version": "3.6.3"
  }
 },
 "nbformat": 4,
 "nbformat_minor": 2
}
