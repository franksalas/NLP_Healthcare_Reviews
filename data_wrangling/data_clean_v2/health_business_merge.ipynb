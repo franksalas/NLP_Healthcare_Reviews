{
 "cells": [
  {
   "cell_type": "code",
   "execution_count": 1,
   "metadata": {},
   "outputs": [],
   "source": [
    "import warnings\n",
    "warnings.filterwarnings('ignore')\n",
    "import pandas as pd\n",
    "import pandas as pd\n",
    "import os\n",
    "import re\n",
    "import json\n",
    "import seaborn as sns"
   ]
  },
  {
   "cell_type": "code",
   "execution_count": 2,
   "metadata": {},
   "outputs": [],
   "source": [
    "# data folder path\n",
    "data_directory = os.path.join('..', '..','data','yelp_datasets')\n",
    "data_directory_saves = os.path.join('..', '..','data','clean_data')\n",
    "\n",
    "# data file location\n",
    "health_business = os.path.join(data_directory_saves,'final_health_business.csv')\n",
    "review_dataset = os.path.join(data_directory,'yelp_academic_dataset_review.json')"
   ]
  },
  {
   "cell_type": "markdown",
   "metadata": {},
   "source": [
    "## Load health business"
   ]
  },
  {
   "cell_type": "code",
   "execution_count": 3,
   "metadata": {},
   "outputs": [],
   "source": [
    "df_business = pd.read_csv(health_business)\n",
    "df_business.drop(['Unnamed: 0'],axis=1,inplace=True)"
   ]
  },
  {
   "cell_type": "code",
   "execution_count": 4,
   "metadata": {},
   "outputs": [
    {
     "name": "stdout",
     "output_type": "stream",
     "text": [
      "<class 'pandas.core.frame.DataFrame'>\n",
      "RangeIndex: 3712 entries, 0 to 3711\n",
      "Data columns (total 10 columns):\n",
      "attributes         3416 non-null object\n",
      "business_id        3712 non-null object\n",
      "categories         3712 non-null object\n",
      "city               3712 non-null object\n",
      "name               3712 non-null object\n",
      "review_count       3712 non-null int64\n",
      "star_avg           3712 non-null float64\n",
      "state              3712 non-null object\n",
      "categories_list    3712 non-null object\n",
      "health_business    3712 non-null object\n",
      "dtypes: float64(1), int64(1), object(8)\n",
      "memory usage: 290.1+ KB\n"
     ]
    }
   ],
   "source": [
    "df_business.info()"
   ]
  },
  {
   "cell_type": "code",
   "execution_count": 5,
   "metadata": {},
   "outputs": [
    {
     "data": {
      "text/html": [
       "<div>\n",
       "<style scoped>\n",
       "    .dataframe tbody tr th:only-of-type {\n",
       "        vertical-align: middle;\n",
       "    }\n",
       "\n",
       "    .dataframe tbody tr th {\n",
       "        vertical-align: top;\n",
       "    }\n",
       "\n",
       "    .dataframe thead th {\n",
       "        text-align: right;\n",
       "    }\n",
       "</style>\n",
       "<table border=\"1\" class=\"dataframe\">\n",
       "  <thead>\n",
       "    <tr style=\"text-align: right;\">\n",
       "      <th></th>\n",
       "      <th>attributes</th>\n",
       "      <th>business_id</th>\n",
       "      <th>categories</th>\n",
       "      <th>city</th>\n",
       "      <th>name</th>\n",
       "      <th>review_count</th>\n",
       "      <th>star_avg</th>\n",
       "      <th>state</th>\n",
       "      <th>categories_list</th>\n",
       "      <th>health_business</th>\n",
       "    </tr>\n",
       "  </thead>\n",
       "  <tbody>\n",
       "    <tr>\n",
       "      <th>0</th>\n",
       "      <td>{'AcceptsInsurance': 'True', 'BusinessAcceptsC...</td>\n",
       "      <td>2hpi6pXIFf0taDIYCoNIuw</td>\n",
       "      <td>health &amp; medical, urgent care</td>\n",
       "      <td>Las Vegas</td>\n",
       "      <td>Healthcare Partner</td>\n",
       "      <td>80</td>\n",
       "      <td>2.5</td>\n",
       "      <td>NV</td>\n",
       "      <td>['health &amp; medical', ' urgent care']</td>\n",
       "      <td>urgent care</td>\n",
       "    </tr>\n",
       "    <tr>\n",
       "      <th>1</th>\n",
       "      <td>{'AcceptsInsurance': 'True', 'BusinessAcceptsC...</td>\n",
       "      <td>EXS2vZ60ad1LGfJKBdwiWg</td>\n",
       "      <td>doctors, health &amp; medical, urgent care, medica...</td>\n",
       "      <td>Scottsdale</td>\n",
       "      <td>FastMed Urgent Care</td>\n",
       "      <td>122</td>\n",
       "      <td>2.5</td>\n",
       "      <td>AZ</td>\n",
       "      <td>['doctors', ' health &amp; medical', ' urgent care...</td>\n",
       "      <td>urgent care</td>\n",
       "    </tr>\n",
       "    <tr>\n",
       "      <th>2</th>\n",
       "      <td>{'AcceptsInsurance': 'True', 'BusinessAcceptsC...</td>\n",
       "      <td>JdzoXkjb4uHLTEkiaSZRuQ</td>\n",
       "      <td>doctors, urgent care, health &amp; medical</td>\n",
       "      <td>Goodyear</td>\n",
       "      <td>Banner Urgent Care</td>\n",
       "      <td>27</td>\n",
       "      <td>3.0</td>\n",
       "      <td>AZ</td>\n",
       "      <td>['doctors', ' urgent care', ' health &amp; medical']</td>\n",
       "      <td>urgent care</td>\n",
       "    </tr>\n",
       "    <tr>\n",
       "      <th>3</th>\n",
       "      <td>{'AcceptsInsurance': 'True', 'BusinessAcceptsC...</td>\n",
       "      <td>3_dwAO5gWSX0zNtJ7xAB9w</td>\n",
       "      <td>hospitals, health &amp; medical, urgent care, doctors</td>\n",
       "      <td>Anthem</td>\n",
       "      <td>HonorHealth Immediate Care - Gavilan Peak</td>\n",
       "      <td>20</td>\n",
       "      <td>2.0</td>\n",
       "      <td>AZ</td>\n",
       "      <td>['hospitals', ' health &amp; medical', ' urgent ca...</td>\n",
       "      <td>urgent care</td>\n",
       "    </tr>\n",
       "    <tr>\n",
       "      <th>4</th>\n",
       "      <td>{'BusinessAcceptsCreditCards': 'True', 'ByAppo...</td>\n",
       "      <td>SPnKdy0k9npg8qonOQpaSw</td>\n",
       "      <td>urgent care, health &amp; medical</td>\n",
       "      <td>Indian Land</td>\n",
       "      <td>Doctors Care -  Indian Land</td>\n",
       "      <td>4</td>\n",
       "      <td>1.0</td>\n",
       "      <td>SC</td>\n",
       "      <td>['urgent care', ' health &amp; medical']</td>\n",
       "      <td>urgent care</td>\n",
       "    </tr>\n",
       "  </tbody>\n",
       "</table>\n",
       "</div>"
      ],
      "text/plain": [
       "                                          attributes             business_id  \\\n",
       "0  {'AcceptsInsurance': 'True', 'BusinessAcceptsC...  2hpi6pXIFf0taDIYCoNIuw   \n",
       "1  {'AcceptsInsurance': 'True', 'BusinessAcceptsC...  EXS2vZ60ad1LGfJKBdwiWg   \n",
       "2  {'AcceptsInsurance': 'True', 'BusinessAcceptsC...  JdzoXkjb4uHLTEkiaSZRuQ   \n",
       "3  {'AcceptsInsurance': 'True', 'BusinessAcceptsC...  3_dwAO5gWSX0zNtJ7xAB9w   \n",
       "4  {'BusinessAcceptsCreditCards': 'True', 'ByAppo...  SPnKdy0k9npg8qonOQpaSw   \n",
       "\n",
       "                                          categories         city  \\\n",
       "0                      health & medical, urgent care    Las Vegas   \n",
       "1  doctors, health & medical, urgent care, medica...   Scottsdale   \n",
       "2             doctors, urgent care, health & medical     Goodyear   \n",
       "3  hospitals, health & medical, urgent care, doctors       Anthem   \n",
       "4                      urgent care, health & medical  Indian Land   \n",
       "\n",
       "                                        name  review_count  star_avg state  \\\n",
       "0                         Healthcare Partner            80       2.5    NV   \n",
       "1                        FastMed Urgent Care           122       2.5    AZ   \n",
       "2                         Banner Urgent Care            27       3.0    AZ   \n",
       "3  HonorHealth Immediate Care - Gavilan Peak            20       2.0    AZ   \n",
       "4                Doctors Care -  Indian Land             4       1.0    SC   \n",
       "\n",
       "                                     categories_list health_business  \n",
       "0               ['health & medical', ' urgent care']     urgent care  \n",
       "1  ['doctors', ' health & medical', ' urgent care...     urgent care  \n",
       "2   ['doctors', ' urgent care', ' health & medical']     urgent care  \n",
       "3  ['hospitals', ' health & medical', ' urgent ca...     urgent care  \n",
       "4               ['urgent care', ' health & medical']     urgent care  "
      ]
     },
     "execution_count": 5,
     "metadata": {},
     "output_type": "execute_result"
    }
   ],
   "source": [
    "df_business.head()"
   ]
  },
  {
   "cell_type": "markdown",
   "metadata": {},
   "source": [
    "## load review dataset"
   ]
  },
  {
   "cell_type": "code",
   "execution_count": 6,
   "metadata": {},
   "outputs": [
    {
     "name": "stdout",
     "output_type": "stream",
     "text": [
      "CPU times: user 1min 53s, sys: 1min 26s, total: 3min 20s\n",
      "Wall time: 3min 18s\n"
     ]
    }
   ],
   "source": [
    "%%time\n",
    "with open(review_dataset, encoding=\"utf-8\") as f:\n",
    "    df_review = pd.DataFrame(json.loads(line) for line in f)"
   ]
  },
  {
   "cell_type": "code",
   "execution_count": 7,
   "metadata": {},
   "outputs": [
    {
     "name": "stdout",
     "output_type": "stream",
     "text": [
      "<class 'pandas.core.frame.DataFrame'>\n",
      "RangeIndex: 5996996 entries, 0 to 5996995\n",
      "Data columns (total 9 columns):\n",
      "business_id    object\n",
      "cool           int64\n",
      "date           object\n",
      "funny          int64\n",
      "review_id      object\n",
      "stars          int64\n",
      "text           object\n",
      "useful         int64\n",
      "user_id        object\n",
      "dtypes: int64(4), object(5)\n",
      "memory usage: 411.8+ MB\n"
     ]
    }
   ],
   "source": [
    "df_review.info()"
   ]
  },
  {
   "cell_type": "code",
   "execution_count": 8,
   "metadata": {},
   "outputs": [
    {
     "data": {
      "text/html": [
       "<div>\n",
       "<style scoped>\n",
       "    .dataframe tbody tr th:only-of-type {\n",
       "        vertical-align: middle;\n",
       "    }\n",
       "\n",
       "    .dataframe tbody tr th {\n",
       "        vertical-align: top;\n",
       "    }\n",
       "\n",
       "    .dataframe thead th {\n",
       "        text-align: right;\n",
       "    }\n",
       "</style>\n",
       "<table border=\"1\" class=\"dataframe\">\n",
       "  <thead>\n",
       "    <tr style=\"text-align: right;\">\n",
       "      <th></th>\n",
       "      <th>business_id</th>\n",
       "      <th>cool</th>\n",
       "      <th>date</th>\n",
       "      <th>funny</th>\n",
       "      <th>review_id</th>\n",
       "      <th>stars</th>\n",
       "      <th>text</th>\n",
       "      <th>useful</th>\n",
       "      <th>user_id</th>\n",
       "    </tr>\n",
       "  </thead>\n",
       "  <tbody>\n",
       "    <tr>\n",
       "      <th>0</th>\n",
       "      <td>iCQpiavjjPzJ5_3gPD5Ebg</td>\n",
       "      <td>0</td>\n",
       "      <td>2011-02-25</td>\n",
       "      <td>0</td>\n",
       "      <td>x7mDIiDB3jEiPGPHOmDzyw</td>\n",
       "      <td>2</td>\n",
       "      <td>The pizza was okay. Not the best I've had. I p...</td>\n",
       "      <td>0</td>\n",
       "      <td>msQe1u7Z_XuqjGoqhB0J5g</td>\n",
       "    </tr>\n",
       "    <tr>\n",
       "      <th>1</th>\n",
       "      <td>pomGBqfbxcqPv14c3XH-ZQ</td>\n",
       "      <td>0</td>\n",
       "      <td>2012-11-13</td>\n",
       "      <td>0</td>\n",
       "      <td>dDl8zu1vWPdKGihJrwQbpw</td>\n",
       "      <td>5</td>\n",
       "      <td>I love this place! My fiance And I go here atl...</td>\n",
       "      <td>0</td>\n",
       "      <td>msQe1u7Z_XuqjGoqhB0J5g</td>\n",
       "    </tr>\n",
       "    <tr>\n",
       "      <th>2</th>\n",
       "      <td>jtQARsP6P-LbkyjbO1qNGg</td>\n",
       "      <td>1</td>\n",
       "      <td>2014-10-23</td>\n",
       "      <td>1</td>\n",
       "      <td>LZp4UX5zK3e-c5ZGSeo3kA</td>\n",
       "      <td>1</td>\n",
       "      <td>Terrible. Dry corn bread. Rib tips were all fa...</td>\n",
       "      <td>3</td>\n",
       "      <td>msQe1u7Z_XuqjGoqhB0J5g</td>\n",
       "    </tr>\n",
       "    <tr>\n",
       "      <th>3</th>\n",
       "      <td>elqbBhBfElMNSrjFqW3now</td>\n",
       "      <td>0</td>\n",
       "      <td>2011-02-25</td>\n",
       "      <td>0</td>\n",
       "      <td>Er4NBWCmCD4nM8_p1GRdow</td>\n",
       "      <td>2</td>\n",
       "      <td>Back in 2005-2007 this place was my FAVORITE t...</td>\n",
       "      <td>2</td>\n",
       "      <td>msQe1u7Z_XuqjGoqhB0J5g</td>\n",
       "    </tr>\n",
       "    <tr>\n",
       "      <th>4</th>\n",
       "      <td>Ums3gaP2qM3W1XcA5r6SsQ</td>\n",
       "      <td>0</td>\n",
       "      <td>2014-09-05</td>\n",
       "      <td>0</td>\n",
       "      <td>jsDu6QEJHbwP2Blom1PLCA</td>\n",
       "      <td>5</td>\n",
       "      <td>Delicious healthy food. The steak is amazing. ...</td>\n",
       "      <td>0</td>\n",
       "      <td>msQe1u7Z_XuqjGoqhB0J5g</td>\n",
       "    </tr>\n",
       "  </tbody>\n",
       "</table>\n",
       "</div>"
      ],
      "text/plain": [
       "              business_id  cool        date  funny               review_id  \\\n",
       "0  iCQpiavjjPzJ5_3gPD5Ebg     0  2011-02-25      0  x7mDIiDB3jEiPGPHOmDzyw   \n",
       "1  pomGBqfbxcqPv14c3XH-ZQ     0  2012-11-13      0  dDl8zu1vWPdKGihJrwQbpw   \n",
       "2  jtQARsP6P-LbkyjbO1qNGg     1  2014-10-23      1  LZp4UX5zK3e-c5ZGSeo3kA   \n",
       "3  elqbBhBfElMNSrjFqW3now     0  2011-02-25      0  Er4NBWCmCD4nM8_p1GRdow   \n",
       "4  Ums3gaP2qM3W1XcA5r6SsQ     0  2014-09-05      0  jsDu6QEJHbwP2Blom1PLCA   \n",
       "\n",
       "   stars                                               text  useful  \\\n",
       "0      2  The pizza was okay. Not the best I've had. I p...       0   \n",
       "1      5  I love this place! My fiance And I go here atl...       0   \n",
       "2      1  Terrible. Dry corn bread. Rib tips were all fa...       3   \n",
       "3      2  Back in 2005-2007 this place was my FAVORITE t...       2   \n",
       "4      5  Delicious healthy food. The steak is amazing. ...       0   \n",
       "\n",
       "                  user_id  \n",
       "0  msQe1u7Z_XuqjGoqhB0J5g  \n",
       "1  msQe1u7Z_XuqjGoqhB0J5g  \n",
       "2  msQe1u7Z_XuqjGoqhB0J5g  \n",
       "3  msQe1u7Z_XuqjGoqhB0J5g  \n",
       "4  msQe1u7Z_XuqjGoqhB0J5g  "
      ]
     },
     "execution_count": 8,
     "metadata": {},
     "output_type": "execute_result"
    }
   ],
   "source": [
    "df_review.head()"
   ]
  },
  {
   "cell_type": "code",
   "execution_count": 9,
   "metadata": {},
   "outputs": [],
   "source": [
    "#sns.heatmap(df_review.isnull().T, cbar=False)"
   ]
  },
  {
   "cell_type": "markdown",
   "metadata": {},
   "source": [
    "## Merge both datasets"
   ]
  },
  {
   "cell_type": "code",
   "execution_count": 10,
   "metadata": {},
   "outputs": [
    {
     "name": "stdout",
     "output_type": "stream",
     "text": [
      "CPU times: user 9.03 s, sys: 3.22 s, total: 12.2 s\n",
      "Wall time: 10.3 s\n"
     ]
    }
   ],
   "source": [
    "%%time\n",
    "health = pd.merge(df_business,df_review, on='business_id')"
   ]
  },
  {
   "cell_type": "code",
   "execution_count": 11,
   "metadata": {},
   "outputs": [
    {
     "name": "stdout",
     "output_type": "stream",
     "text": [
      "<class 'pandas.core.frame.DataFrame'>\n",
      "Int64Index: 60886 entries, 0 to 60885\n",
      "Data columns (total 18 columns):\n",
      "attributes         59643 non-null object\n",
      "business_id        60886 non-null object\n",
      "categories         60886 non-null object\n",
      "city               60886 non-null object\n",
      "name               60886 non-null object\n",
      "review_count       60886 non-null int64\n",
      "star_avg           60886 non-null float64\n",
      "state              60886 non-null object\n",
      "categories_list    60886 non-null object\n",
      "health_business    60886 non-null object\n",
      "cool               60886 non-null int64\n",
      "date               60886 non-null object\n",
      "funny              60886 non-null int64\n",
      "review_id          60886 non-null object\n",
      "stars              60886 non-null int64\n",
      "text               60886 non-null object\n",
      "useful             60886 non-null int64\n",
      "user_id            60886 non-null object\n",
      "dtypes: float64(1), int64(5), object(12)\n",
      "memory usage: 8.8+ MB\n"
     ]
    }
   ],
   "source": [
    "health.info()"
   ]
  },
  {
   "cell_type": "code",
   "execution_count": 12,
   "metadata": {},
   "outputs": [
    {
     "data": {
      "text/html": [
       "<div>\n",
       "<style scoped>\n",
       "    .dataframe tbody tr th:only-of-type {\n",
       "        vertical-align: middle;\n",
       "    }\n",
       "\n",
       "    .dataframe tbody tr th {\n",
       "        vertical-align: top;\n",
       "    }\n",
       "\n",
       "    .dataframe thead th {\n",
       "        text-align: right;\n",
       "    }\n",
       "</style>\n",
       "<table border=\"1\" class=\"dataframe\">\n",
       "  <thead>\n",
       "    <tr style=\"text-align: right;\">\n",
       "      <th></th>\n",
       "      <th>attributes</th>\n",
       "      <th>business_id</th>\n",
       "      <th>categories</th>\n",
       "      <th>city</th>\n",
       "      <th>name</th>\n",
       "      <th>review_count</th>\n",
       "      <th>star_avg</th>\n",
       "      <th>state</th>\n",
       "      <th>categories_list</th>\n",
       "      <th>health_business</th>\n",
       "      <th>cool</th>\n",
       "      <th>date</th>\n",
       "      <th>funny</th>\n",
       "      <th>review_id</th>\n",
       "      <th>stars</th>\n",
       "      <th>text</th>\n",
       "      <th>useful</th>\n",
       "      <th>user_id</th>\n",
       "    </tr>\n",
       "  </thead>\n",
       "  <tbody>\n",
       "    <tr>\n",
       "      <th>0</th>\n",
       "      <td>{'AcceptsInsurance': 'True', 'BusinessAcceptsC...</td>\n",
       "      <td>2hpi6pXIFf0taDIYCoNIuw</td>\n",
       "      <td>health &amp; medical, urgent care</td>\n",
       "      <td>Las Vegas</td>\n",
       "      <td>Healthcare Partner</td>\n",
       "      <td>80</td>\n",
       "      <td>2.5</td>\n",
       "      <td>NV</td>\n",
       "      <td>['health &amp; medical', ' urgent care']</td>\n",
       "      <td>urgent care</td>\n",
       "      <td>0</td>\n",
       "      <td>2014-04-14</td>\n",
       "      <td>1</td>\n",
       "      <td>4ar9LmGU4rQ3vXFj325HCg</td>\n",
       "      <td>1</td>\n",
       "      <td>If your aim is to waste hours upon hours of yo...</td>\n",
       "      <td>4</td>\n",
       "      <td>Q65wQUGgOh40s-BOnMb1Yg</td>\n",
       "    </tr>\n",
       "    <tr>\n",
       "      <th>1</th>\n",
       "      <td>{'AcceptsInsurance': 'True', 'BusinessAcceptsC...</td>\n",
       "      <td>2hpi6pXIFf0taDIYCoNIuw</td>\n",
       "      <td>health &amp; medical, urgent care</td>\n",
       "      <td>Las Vegas</td>\n",
       "      <td>Healthcare Partner</td>\n",
       "      <td>80</td>\n",
       "      <td>2.5</td>\n",
       "      <td>NV</td>\n",
       "      <td>['health &amp; medical', ' urgent care']</td>\n",
       "      <td>urgent care</td>\n",
       "      <td>0</td>\n",
       "      <td>2015-07-23</td>\n",
       "      <td>1</td>\n",
       "      <td>mZo59NzNBPr9RegkzjIGVA</td>\n",
       "      <td>5</td>\n",
       "      <td>Memorial Day Weekend..  I can't Thank Dr, Shuc...</td>\n",
       "      <td>0</td>\n",
       "      <td>a7zhH555rbvQO9e-to4pvA</td>\n",
       "    </tr>\n",
       "    <tr>\n",
       "      <th>2</th>\n",
       "      <td>{'AcceptsInsurance': 'True', 'BusinessAcceptsC...</td>\n",
       "      <td>2hpi6pXIFf0taDIYCoNIuw</td>\n",
       "      <td>health &amp; medical, urgent care</td>\n",
       "      <td>Las Vegas</td>\n",
       "      <td>Healthcare Partner</td>\n",
       "      <td>80</td>\n",
       "      <td>2.5</td>\n",
       "      <td>NV</td>\n",
       "      <td>['health &amp; medical', ' urgent care']</td>\n",
       "      <td>urgent care</td>\n",
       "      <td>0</td>\n",
       "      <td>2017-06-18</td>\n",
       "      <td>0</td>\n",
       "      <td>5wf0Y31knIyBcbS7ZKrW9Q</td>\n",
       "      <td>5</td>\n",
       "      <td>This is not my primary doctor and I was pleasa...</td>\n",
       "      <td>0</td>\n",
       "      <td>HsUSAQjOqvLyG-MoziLrVw</td>\n",
       "    </tr>\n",
       "    <tr>\n",
       "      <th>3</th>\n",
       "      <td>{'AcceptsInsurance': 'True', 'BusinessAcceptsC...</td>\n",
       "      <td>2hpi6pXIFf0taDIYCoNIuw</td>\n",
       "      <td>health &amp; medical, urgent care</td>\n",
       "      <td>Las Vegas</td>\n",
       "      <td>Healthcare Partner</td>\n",
       "      <td>80</td>\n",
       "      <td>2.5</td>\n",
       "      <td>NV</td>\n",
       "      <td>['health &amp; medical', ' urgent care']</td>\n",
       "      <td>urgent care</td>\n",
       "      <td>0</td>\n",
       "      <td>2017-12-27</td>\n",
       "      <td>0</td>\n",
       "      <td>pNVZVifb7FHtr7xMAbLZ4Q</td>\n",
       "      <td>5</td>\n",
       "      <td>Went there the first time for myself and was n...</td>\n",
       "      <td>0</td>\n",
       "      <td>euNbjUhzS7_jK-rMibmEVw</td>\n",
       "    </tr>\n",
       "    <tr>\n",
       "      <th>4</th>\n",
       "      <td>{'AcceptsInsurance': 'True', 'BusinessAcceptsC...</td>\n",
       "      <td>2hpi6pXIFf0taDIYCoNIuw</td>\n",
       "      <td>health &amp; medical, urgent care</td>\n",
       "      <td>Las Vegas</td>\n",
       "      <td>Healthcare Partner</td>\n",
       "      <td>80</td>\n",
       "      <td>2.5</td>\n",
       "      <td>NV</td>\n",
       "      <td>['health &amp; medical', ' urgent care']</td>\n",
       "      <td>urgent care</td>\n",
       "      <td>0</td>\n",
       "      <td>2014-09-27</td>\n",
       "      <td>0</td>\n",
       "      <td>OfFzPtU9N0ooeQbIg6yR-g</td>\n",
       "      <td>1</td>\n",
       "      <td>Terrible assistance. I was there to see a rash...</td>\n",
       "      <td>0</td>\n",
       "      <td>8DD5pZeu_i79ognXNO8UIQ</td>\n",
       "    </tr>\n",
       "  </tbody>\n",
       "</table>\n",
       "</div>"
      ],
      "text/plain": [
       "                                          attributes             business_id  \\\n",
       "0  {'AcceptsInsurance': 'True', 'BusinessAcceptsC...  2hpi6pXIFf0taDIYCoNIuw   \n",
       "1  {'AcceptsInsurance': 'True', 'BusinessAcceptsC...  2hpi6pXIFf0taDIYCoNIuw   \n",
       "2  {'AcceptsInsurance': 'True', 'BusinessAcceptsC...  2hpi6pXIFf0taDIYCoNIuw   \n",
       "3  {'AcceptsInsurance': 'True', 'BusinessAcceptsC...  2hpi6pXIFf0taDIYCoNIuw   \n",
       "4  {'AcceptsInsurance': 'True', 'BusinessAcceptsC...  2hpi6pXIFf0taDIYCoNIuw   \n",
       "\n",
       "                      categories       city                name  review_count  \\\n",
       "0  health & medical, urgent care  Las Vegas  Healthcare Partner            80   \n",
       "1  health & medical, urgent care  Las Vegas  Healthcare Partner            80   \n",
       "2  health & medical, urgent care  Las Vegas  Healthcare Partner            80   \n",
       "3  health & medical, urgent care  Las Vegas  Healthcare Partner            80   \n",
       "4  health & medical, urgent care  Las Vegas  Healthcare Partner            80   \n",
       "\n",
       "   star_avg state                       categories_list health_business  cool  \\\n",
       "0       2.5    NV  ['health & medical', ' urgent care']     urgent care     0   \n",
       "1       2.5    NV  ['health & medical', ' urgent care']     urgent care     0   \n",
       "2       2.5    NV  ['health & medical', ' urgent care']     urgent care     0   \n",
       "3       2.5    NV  ['health & medical', ' urgent care']     urgent care     0   \n",
       "4       2.5    NV  ['health & medical', ' urgent care']     urgent care     0   \n",
       "\n",
       "         date  funny               review_id  stars  \\\n",
       "0  2014-04-14      1  4ar9LmGU4rQ3vXFj325HCg      1   \n",
       "1  2015-07-23      1  mZo59NzNBPr9RegkzjIGVA      5   \n",
       "2  2017-06-18      0  5wf0Y31knIyBcbS7ZKrW9Q      5   \n",
       "3  2017-12-27      0  pNVZVifb7FHtr7xMAbLZ4Q      5   \n",
       "4  2014-09-27      0  OfFzPtU9N0ooeQbIg6yR-g      1   \n",
       "\n",
       "                                                text  useful  \\\n",
       "0  If your aim is to waste hours upon hours of yo...       4   \n",
       "1  Memorial Day Weekend..  I can't Thank Dr, Shuc...       0   \n",
       "2  This is not my primary doctor and I was pleasa...       0   \n",
       "3  Went there the first time for myself and was n...       0   \n",
       "4  Terrible assistance. I was there to see a rash...       0   \n",
       "\n",
       "                  user_id  \n",
       "0  Q65wQUGgOh40s-BOnMb1Yg  \n",
       "1  a7zhH555rbvQO9e-to4pvA  \n",
       "2  HsUSAQjOqvLyG-MoziLrVw  \n",
       "3  euNbjUhzS7_jK-rMibmEVw  \n",
       "4  8DD5pZeu_i79ognXNO8UIQ  "
      ]
     },
     "execution_count": 12,
     "metadata": {},
     "output_type": "execute_result"
    }
   ],
   "source": [
    "health.head()"
   ]
  },
  {
   "cell_type": "markdown",
   "metadata": {},
   "source": [
    "## display null values"
   ]
  },
  {
   "cell_type": "code",
   "execution_count": 13,
   "metadata": {},
   "outputs": [
    {
     "data": {
      "text/plain": [
       "<matplotlib.axes._subplots.AxesSubplot at 0x7f77d0566be0>"
      ]
     },
     "execution_count": 13,
     "metadata": {},
     "output_type": "execute_result"
    },
    {
     "data": {
      "image/png": "[encoded data removed]",
      "text/plain": [
       "<Figure size 432x288 with 1 Axes>"
      ]
     },
     "metadata": {
      "needs_background": "light"
     },
     "output_type": "display_data"
    }
   ],
   "source": [
    "sns.heatmap(health.isnull().T, cbar=False)"
   ]
  },
  {
   "cell_type": "markdown",
   "metadata": {},
   "source": [
    "# save"
   ]
  },
  {
   "cell_type": "code",
   "execution_count": 14,
   "metadata": {},
   "outputs": [],
   "source": [
    "health.to_csv(data_directory_saves+'/health_business_review_full.csv')"
   ]
  },
  {
   "cell_type": "code",
   "execution_count": null,
   "metadata": {},
   "outputs": [],
   "source": []
  }
 ],
 "metadata": {
  "kernelspec": {
   "display_name": "Python 3",
   "language": "python",
   "name": "python3"
  },
  "language_info": {
   "codemirror_mode": {
    "name": "ipython",
    "version": 3
   },
   "file_extension": ".py",
   "mimetype": "text/x-python",
   "name": "python",
   "nbconvert_exporter": "python",
   "pygments_lexer": "ipython3",
   "version": "3.6.6"
  }
 },
 "nbformat": 4,
 "nbformat_minor": 2
}
