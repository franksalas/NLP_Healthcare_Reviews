{
 "cells": [
  {
   "cell_type": "code",
   "execution_count": 1,
   "metadata": {},
   "outputs": [],
   "source": [
    "import warnings\n",
    "warnings.filterwarnings('ignore')"
   ]
  },
  {
   "cell_type": "code",
   "execution_count": 73,
   "metadata": {},
   "outputs": [],
   "source": [
    "import pandas as pd\n",
    "import numpy as np\n",
    "import os\n",
    "import seaborn as sns"
   ]
  },
  {
   "cell_type": "markdown",
   "metadata": {},
   "source": [
    "## Data directory\n",
    "\n",
    "```\n",
    "├── data_wrangling\n",
    "│   ├── data_clean_v2\n",
    "│   │   └── Untitled.ipynb\n",
    "├── data\n",
    "│   └── yelp_datasets\n",
    "│       ├── yelp_academic_dataset_business.json\n",
    "│       └── yelp_academic_dataset_review.json\n",
    "```"
   ]
  },
  {
   "cell_type": "code",
   "execution_count": 3,
   "metadata": {},
   "outputs": [],
   "source": [
    "# data folder path\n",
    "data_directory = os.path.join('..', '..','data','yelp_datasets')\n",
    "data_directory_saves = os.path.join('..', '..','data','clean_data')\n",
    "\n",
    "# data file location\n",
    "businesses_dataset = os.path.join(data_directory,'yelp_academic_dataset_business.json')"
   ]
  },
  {
   "cell_type": "code",
   "execution_count": 4,
   "metadata": {},
   "outputs": [
    {
     "name": "stdout",
     "output_type": "stream",
     "text": [
      "CPU times: user 6.38 s, sys: 3.66 s, total: 10 s\n",
      "Wall time: 10 s\n"
     ]
    }
   ],
   "source": [
    "%%time\n",
    "df = pd.read_json(businesses_dataset, lines=True)"
   ]
  },
  {
   "cell_type": "code",
   "execution_count": 5,
   "metadata": {},
   "outputs": [
    {
     "name": "stdout",
     "output_type": "stream",
     "text": [
      "<class 'pandas.core.frame.DataFrame'>\n",
      "RangeIndex: 188593 entries, 0 to 188592\n",
      "Data columns (total 15 columns):\n",
      "address         188593 non-null object\n",
      "attributes      162807 non-null object\n",
      "business_id     188593 non-null object\n",
      "categories      188052 non-null object\n",
      "city            188593 non-null object\n",
      "hours           143791 non-null object\n",
      "is_open         188593 non-null int64\n",
      "latitude        188587 non-null float64\n",
      "longitude       188587 non-null float64\n",
      "name            188593 non-null object\n",
      "neighborhood    188593 non-null object\n",
      "postal_code     188593 non-null object\n",
      "review_count    188593 non-null int64\n",
      "stars           188593 non-null float64\n",
      "state           188593 non-null object\n",
      "dtypes: float64(3), int64(2), object(10)\n",
      "memory usage: 21.6+ MB\n"
     ]
    }
   ],
   "source": [
    "df.info()"
   ]
  },
  {
   "cell_type": "code",
   "execution_count": 6,
   "metadata": {},
   "outputs": [
    {
     "data": {
      "text/html": [
       "<div>\n",
       "<style scoped>\n",
       "    .dataframe tbody tr th:only-of-type {\n",
       "        vertical-align: middle;\n",
       "    }\n",
       "\n",
       "    .dataframe tbody tr th {\n",
       "        vertical-align: top;\n",
       "    }\n",
       "\n",
       "    .dataframe thead th {\n",
       "        text-align: right;\n",
       "    }\n",
       "</style>\n",
       "<table border=\"1\" class=\"dataframe\">\n",
       "  <thead>\n",
       "    <tr style=\"text-align: right;\">\n",
       "      <th></th>\n",
       "      <th>address</th>\n",
       "      <th>attributes</th>\n",
       "      <th>business_id</th>\n",
       "      <th>categories</th>\n",
       "      <th>city</th>\n",
       "      <th>hours</th>\n",
       "      <th>is_open</th>\n",
       "      <th>latitude</th>\n",
       "      <th>longitude</th>\n",
       "      <th>name</th>\n",
       "      <th>neighborhood</th>\n",
       "      <th>postal_code</th>\n",
       "      <th>review_count</th>\n",
       "      <th>stars</th>\n",
       "      <th>state</th>\n",
       "    </tr>\n",
       "  </thead>\n",
       "  <tbody>\n",
       "    <tr>\n",
       "      <th>0</th>\n",
       "      <td>1314 44 Avenue NE</td>\n",
       "      <td>{'BikeParking': 'False', 'BusinessAcceptsCredi...</td>\n",
       "      <td>Apn5Q_b6Nz61Tq4XzPdf9A</td>\n",
       "      <td>Tours, Breweries, Pizza, Restaurants, Food, Ho...</td>\n",
       "      <td>Calgary</td>\n",
       "      <td>{'Monday': '8:30-17:0', 'Tuesday': '11:0-21:0'...</td>\n",
       "      <td>1</td>\n",
       "      <td>51.091813</td>\n",
       "      <td>-114.031675</td>\n",
       "      <td>Minhas Micro Brewery</td>\n",
       "      <td></td>\n",
       "      <td>T2E 6L6</td>\n",
       "      <td>24</td>\n",
       "      <td>4.0</td>\n",
       "      <td>AB</td>\n",
       "    </tr>\n",
       "    <tr>\n",
       "      <th>1</th>\n",
       "      <td></td>\n",
       "      <td>{'Alcohol': 'none', 'BikeParking': 'False', 'B...</td>\n",
       "      <td>AjEbIBw6ZFfln7ePHha9PA</td>\n",
       "      <td>Chicken Wings, Burgers, Caterers, Street Vendo...</td>\n",
       "      <td>Henderson</td>\n",
       "      <td>{'Friday': '17:0-23:0', 'Saturday': '17:0-23:0...</td>\n",
       "      <td>0</td>\n",
       "      <td>35.960734</td>\n",
       "      <td>-114.939821</td>\n",
       "      <td>CK'S BBQ &amp; Catering</td>\n",
       "      <td></td>\n",
       "      <td>89002</td>\n",
       "      <td>3</td>\n",
       "      <td>4.5</td>\n",
       "      <td>NV</td>\n",
       "    </tr>\n",
       "    <tr>\n",
       "      <th>2</th>\n",
       "      <td>1335 rue Beaubien E</td>\n",
       "      <td>{'Alcohol': 'beer_and_wine', 'Ambience': '{'ro...</td>\n",
       "      <td>O8S5hYJ1SMc8fA4QBtVujA</td>\n",
       "      <td>Breakfast &amp; Brunch, Restaurants, French, Sandw...</td>\n",
       "      <td>Montréal</td>\n",
       "      <td>{'Monday': '10:0-22:0', 'Tuesday': '10:0-22:0'...</td>\n",
       "      <td>0</td>\n",
       "      <td>45.540503</td>\n",
       "      <td>-73.599300</td>\n",
       "      <td>La Bastringue</td>\n",
       "      <td>Rosemont-La Petite-Patrie</td>\n",
       "      <td>H2G 1K7</td>\n",
       "      <td>5</td>\n",
       "      <td>4.0</td>\n",
       "      <td>QC</td>\n",
       "    </tr>\n",
       "    <tr>\n",
       "      <th>3</th>\n",
       "      <td>211 W Monroe St</td>\n",
       "      <td>None</td>\n",
       "      <td>bFzdJJ3wp3PZssNEsyU23g</td>\n",
       "      <td>Insurance, Financial Services</td>\n",
       "      <td>Phoenix</td>\n",
       "      <td>None</td>\n",
       "      <td>1</td>\n",
       "      <td>33.449999</td>\n",
       "      <td>-112.076979</td>\n",
       "      <td>Geico Insurance</td>\n",
       "      <td></td>\n",
       "      <td>85003</td>\n",
       "      <td>8</td>\n",
       "      <td>1.5</td>\n",
       "      <td>AZ</td>\n",
       "    </tr>\n",
       "    <tr>\n",
       "      <th>4</th>\n",
       "      <td>2005 Alyth Place SE</td>\n",
       "      <td>{'BusinessAcceptsCreditCards': 'True'}</td>\n",
       "      <td>8USyCYqpScwiNEb58Bt6CA</td>\n",
       "      <td>Home &amp; Garden, Nurseries &amp; Gardening, Shopping...</td>\n",
       "      <td>Calgary</td>\n",
       "      <td>{'Monday': '8:0-17:0', 'Tuesday': '8:0-17:0', ...</td>\n",
       "      <td>1</td>\n",
       "      <td>51.035591</td>\n",
       "      <td>-114.027366</td>\n",
       "      <td>Action Engine</td>\n",
       "      <td></td>\n",
       "      <td>T2H 0N5</td>\n",
       "      <td>4</td>\n",
       "      <td>2.0</td>\n",
       "      <td>AB</td>\n",
       "    </tr>\n",
       "  </tbody>\n",
       "</table>\n",
       "</div>"
      ],
      "text/plain": [
       "               address                                         attributes  \\\n",
       "0    1314 44 Avenue NE  {'BikeParking': 'False', 'BusinessAcceptsCredi...   \n",
       "1                       {'Alcohol': 'none', 'BikeParking': 'False', 'B...   \n",
       "2  1335 rue Beaubien E  {'Alcohol': 'beer_and_wine', 'Ambience': '{'ro...   \n",
       "3      211 W Monroe St                                               None   \n",
       "4  2005 Alyth Place SE             {'BusinessAcceptsCreditCards': 'True'}   \n",
       "\n",
       "              business_id                                         categories  \\\n",
       "0  Apn5Q_b6Nz61Tq4XzPdf9A  Tours, Breweries, Pizza, Restaurants, Food, Ho...   \n",
       "1  AjEbIBw6ZFfln7ePHha9PA  Chicken Wings, Burgers, Caterers, Street Vendo...   \n",
       "2  O8S5hYJ1SMc8fA4QBtVujA  Breakfast & Brunch, Restaurants, French, Sandw...   \n",
       "3  bFzdJJ3wp3PZssNEsyU23g                      Insurance, Financial Services   \n",
       "4  8USyCYqpScwiNEb58Bt6CA  Home & Garden, Nurseries & Gardening, Shopping...   \n",
       "\n",
       "        city                                              hours  is_open  \\\n",
       "0    Calgary  {'Monday': '8:30-17:0', 'Tuesday': '11:0-21:0'...        1   \n",
       "1  Henderson  {'Friday': '17:0-23:0', 'Saturday': '17:0-23:0...        0   \n",
       "2   Montréal  {'Monday': '10:0-22:0', 'Tuesday': '10:0-22:0'...        0   \n",
       "3    Phoenix                                               None        1   \n",
       "4    Calgary  {'Monday': '8:0-17:0', 'Tuesday': '8:0-17:0', ...        1   \n",
       "\n",
       "    latitude   longitude                  name               neighborhood  \\\n",
       "0  51.091813 -114.031675  Minhas Micro Brewery                              \n",
       "1  35.960734 -114.939821   CK'S BBQ & Catering                              \n",
       "2  45.540503  -73.599300         La Bastringue  Rosemont-La Petite-Patrie   \n",
       "3  33.449999 -112.076979       Geico Insurance                              \n",
       "4  51.035591 -114.027366         Action Engine                              \n",
       "\n",
       "  postal_code  review_count  stars state  \n",
       "0     T2E 6L6            24    4.0    AB  \n",
       "1       89002             3    4.5    NV  \n",
       "2     H2G 1K7             5    4.0    QC  \n",
       "3       85003             8    1.5    AZ  \n",
       "4     T2H 0N5             4    2.0    AB  "
      ]
     },
     "execution_count": 6,
     "metadata": {},
     "output_type": "execute_result"
    }
   ],
   "source": [
    "df.head()"
   ]
  },
  {
   "cell_type": "markdown",
   "metadata": {},
   "source": [
    "# Change column name\n",
    "- stars to star_avg"
   ]
  },
  {
   "cell_type": "code",
   "execution_count": 7,
   "metadata": {},
   "outputs": [],
   "source": [
    "df = df.rename(columns={'stars': 'star_avg'})"
   ]
  },
  {
   "cell_type": "markdown",
   "metadata": {},
   "source": [
    "## Drop null categories"
   ]
  },
  {
   "cell_type": "code",
   "execution_count": 8,
   "metadata": {},
   "outputs": [
    {
     "data": {
      "text/plain": [
       "541"
      ]
     },
     "execution_count": 8,
     "metadata": {},
     "output_type": "execute_result"
    }
   ],
   "source": [
    "len(df[df.categories.isnull()])"
   ]
  },
  {
   "cell_type": "markdown",
   "metadata": {},
   "source": [
    "## create null categorie filter "
   ]
  },
  {
   "cell_type": "code",
   "execution_count": 9,
   "metadata": {},
   "outputs": [],
   "source": [
    "null_cat = df.categories.isnull()"
   ]
  },
  {
   "cell_type": "code",
   "execution_count": 10,
   "metadata": {},
   "outputs": [
    {
     "data": {
      "text/plain": [
       "541"
      ]
     },
     "execution_count": 10,
     "metadata": {},
     "output_type": "execute_result"
    }
   ],
   "source": [
    "len(df[null_cat])"
   ]
  },
  {
   "cell_type": "code",
   "execution_count": 11,
   "metadata": {},
   "outputs": [
    {
     "data": {
      "text/plain": [
       "188052"
      ]
     },
     "execution_count": 11,
     "metadata": {},
     "output_type": "execute_result"
    }
   ],
   "source": [
    "len(df[~null_cat])"
   ]
  },
  {
   "cell_type": "code",
   "execution_count": 12,
   "metadata": {},
   "outputs": [],
   "source": [
    "df = df[~null_cat] # display rows NOT in null_cat filter"
   ]
  },
  {
   "cell_type": "code",
   "execution_count": 13,
   "metadata": {},
   "outputs": [],
   "source": [
    "df = df.reset_index(drop=True)  # reset index"
   ]
  },
  {
   "cell_type": "code",
   "execution_count": 14,
   "metadata": {},
   "outputs": [
    {
     "name": "stdout",
     "output_type": "stream",
     "text": [
      "<class 'pandas.core.frame.DataFrame'>\n",
      "RangeIndex: 188052 entries, 0 to 188051\n",
      "Data columns (total 15 columns):\n",
      "address         188052 non-null object\n",
      "attributes      162750 non-null object\n",
      "business_id     188052 non-null object\n",
      "categories      188052 non-null object\n",
      "city            188052 non-null object\n",
      "hours           143747 non-null object\n",
      "is_open         188052 non-null int64\n",
      "latitude        188046 non-null float64\n",
      "longitude       188046 non-null float64\n",
      "name            188052 non-null object\n",
      "neighborhood    188052 non-null object\n",
      "postal_code     188052 non-null object\n",
      "review_count    188052 non-null int64\n",
      "star_avg        188052 non-null float64\n",
      "state           188052 non-null object\n",
      "dtypes: float64(3), int64(2), object(10)\n",
      "memory usage: 21.5+ MB\n"
     ]
    }
   ],
   "source": [
    "df.info()"
   ]
  },
  {
   "cell_type": "markdown",
   "metadata": {},
   "source": [
    "## State\n",
    "- select only us locations\n",
    "    - sorry Canada"
   ]
  },
  {
   "cell_type": "code",
   "execution_count": 15,
   "metadata": {},
   "outputs": [
    {
     "data": {
      "text/plain": [
       "AZ    56296\n",
       "NV    35586\n",
       "ON    32315\n",
       "NC    14320\n",
       "OH    13628\n",
       "PA    10940\n",
       "QC     8727\n",
       "AB     7656\n",
       "WI     5034\n",
       "IL     1932\n",
       "Name: state, dtype: int64"
      ]
     },
     "execution_count": 15,
     "metadata": {},
     "output_type": "execute_result"
    }
   ],
   "source": [
    "df.state.value_counts(dropna=False)[:10]"
   ]
  },
  {
   "cell_type": "code",
   "execution_count": 16,
   "metadata": {},
   "outputs": [
    {
     "data": {
      "text/plain": [
       "array(['AB', 'NV', 'QC', 'AZ', 'ON', 'PA', 'OH', 'IL', 'WI', 'NC', 'BY',\n",
       "       'NYK', 'SC', 'C', 'XGM', 'ST', 'IN', 'RP', 'CMA', 'NI', 'NLK',\n",
       "       'VS', '6', 'CO', 'HE', 'VA', 'RCC', '01', 'SG', 'NY', 'OR', 'NW',\n",
       "       '4', '10', 'CC', 'CA', '45', 'LU', 'MT', 'G', 'PO', 'B', 'VT',\n",
       "       'AL', 'WAR', 'MO', 'HU', 'M', 'AR', 'O', 'FL', 'WA', 'CRF', 'TAM',\n",
       "       'NE', 'XMS', 'GA', 'AG', 'WHT', 'MA', 'V', 'BC', 'SP', 'DE', 'HH',\n",
       "       '11', 'CS', 'MN'], dtype=object)"
      ]
     },
     "execution_count": 16,
     "metadata": {},
     "output_type": "execute_result"
    }
   ],
   "source": [
    "df.state.unique()"
   ]
  },
  {
   "cell_type": "code",
   "execution_count": 17,
   "metadata": {},
   "outputs": [],
   "source": [
    "on = df.state == 'ON'\n",
    "qc = df.state == 'QC'\n",
    "ab = df.state == 'AB'\n",
    "ni = df.state == 'NI'\n",
    "nyk = df.state == 'NYK'"
   ]
  },
  {
   "cell_type": "code",
   "execution_count": 18,
   "metadata": {},
   "outputs": [],
   "source": [
    "df = df[~(on|qc|ab|ni|nyk)]\n",
    "df = df.reset_index(drop=True)"
   ]
  },
  {
   "cell_type": "code",
   "execution_count": 19,
   "metadata": {},
   "outputs": [
    {
     "name": "stdout",
     "output_type": "stream",
     "text": [
      "<class 'pandas.core.frame.DataFrame'>\n",
      "RangeIndex: 139057 entries, 0 to 139056\n",
      "Data columns (total 15 columns):\n",
      "address         139057 non-null object\n",
      "attributes      119919 non-null object\n",
      "business_id     139057 non-null object\n",
      "categories      139057 non-null object\n",
      "city            139057 non-null object\n",
      "hours           108394 non-null object\n",
      "is_open         139057 non-null int64\n",
      "latitude        139053 non-null float64\n",
      "longitude       139053 non-null float64\n",
      "name            139057 non-null object\n",
      "neighborhood    139057 non-null object\n",
      "postal_code     139057 non-null object\n",
      "review_count    139057 non-null int64\n",
      "star_avg        139057 non-null float64\n",
      "state           139057 non-null object\n",
      "dtypes: float64(3), int64(2), object(10)\n",
      "memory usage: 15.9+ MB\n"
     ]
    }
   ],
   "source": [
    "df.info()"
   ]
  },
  {
   "cell_type": "markdown",
   "metadata": {},
   "source": [
    "## drop columns\n",
    "- drop unused columns"
   ]
  },
  {
   "cell_type": "code",
   "execution_count": 20,
   "metadata": {},
   "outputs": [
    {
     "data": {
      "text/plain": [
       "['address',\n",
       " 'attributes',\n",
       " 'business_id',\n",
       " 'categories',\n",
       " 'city',\n",
       " 'hours',\n",
       " 'is_open',\n",
       " 'latitude',\n",
       " 'longitude',\n",
       " 'name',\n",
       " 'neighborhood',\n",
       " 'postal_code',\n",
       " 'review_count',\n",
       " 'star_avg',\n",
       " 'state']"
      ]
     },
     "execution_count": 20,
     "metadata": {},
     "output_type": "execute_result"
    }
   ],
   "source": [
    "list(df.columns)"
   ]
  },
  {
   "cell_type": "code",
   "execution_count": 21,
   "metadata": {},
   "outputs": [],
   "source": [
    "df.drop(['hours','is_open','latitude','longitude','neighborhood','postal_code','address' ],axis=1,inplace=True)"
   ]
  },
  {
   "cell_type": "code",
   "execution_count": 22,
   "metadata": {},
   "outputs": [
    {
     "data": {
      "text/html": [
       "<div>\n",
       "<style scoped>\n",
       "    .dataframe tbody tr th:only-of-type {\n",
       "        vertical-align: middle;\n",
       "    }\n",
       "\n",
       "    .dataframe tbody tr th {\n",
       "        vertical-align: top;\n",
       "    }\n",
       "\n",
       "    .dataframe thead th {\n",
       "        text-align: right;\n",
       "    }\n",
       "</style>\n",
       "<table border=\"1\" class=\"dataframe\">\n",
       "  <thead>\n",
       "    <tr style=\"text-align: right;\">\n",
       "      <th></th>\n",
       "      <th>attributes</th>\n",
       "      <th>business_id</th>\n",
       "      <th>categories</th>\n",
       "      <th>city</th>\n",
       "      <th>name</th>\n",
       "      <th>review_count</th>\n",
       "      <th>star_avg</th>\n",
       "      <th>state</th>\n",
       "    </tr>\n",
       "  </thead>\n",
       "  <tbody>\n",
       "    <tr>\n",
       "      <th>0</th>\n",
       "      <td>{'Alcohol': 'none', 'BikeParking': 'False', 'B...</td>\n",
       "      <td>AjEbIBw6ZFfln7ePHha9PA</td>\n",
       "      <td>Chicken Wings, Burgers, Caterers, Street Vendo...</td>\n",
       "      <td>Henderson</td>\n",
       "      <td>CK'S BBQ &amp; Catering</td>\n",
       "      <td>3</td>\n",
       "      <td>4.5</td>\n",
       "      <td>NV</td>\n",
       "    </tr>\n",
       "    <tr>\n",
       "      <th>1</th>\n",
       "      <td>None</td>\n",
       "      <td>bFzdJJ3wp3PZssNEsyU23g</td>\n",
       "      <td>Insurance, Financial Services</td>\n",
       "      <td>Phoenix</td>\n",
       "      <td>Geico Insurance</td>\n",
       "      <td>8</td>\n",
       "      <td>1.5</td>\n",
       "      <td>AZ</td>\n",
       "    </tr>\n",
       "    <tr>\n",
       "      <th>2</th>\n",
       "      <td>{'BikeParking': 'True', 'BusinessAcceptsCredit...</td>\n",
       "      <td>45bWSZtniwPRiqlivpS8Og</td>\n",
       "      <td>Coffee &amp; Tea, Food</td>\n",
       "      <td>Phoenix</td>\n",
       "      <td>The Coffee Bean &amp; Tea Leaf</td>\n",
       "      <td>63</td>\n",
       "      <td>4.0</td>\n",
       "      <td>AZ</td>\n",
       "    </tr>\n",
       "    <tr>\n",
       "      <th>3</th>\n",
       "      <td>{'Alcohol': 'none', 'Ambience': '{'romantic': ...</td>\n",
       "      <td>8-NRKkPY1UiFXW20WXKiXg</td>\n",
       "      <td>Mexican, Restaurants</td>\n",
       "      <td>Avondale</td>\n",
       "      <td>Filiberto's Mexican Food</td>\n",
       "      <td>40</td>\n",
       "      <td>2.5</td>\n",
       "      <td>AZ</td>\n",
       "    </tr>\n",
       "    <tr>\n",
       "      <th>4</th>\n",
       "      <td>{'BikeParking': 'True', 'BusinessAcceptsCredit...</td>\n",
       "      <td>UTm5QZThPQlT35mkAcGOjg</td>\n",
       "      <td>Flowers &amp; Gifts, Gift Shops, Shopping</td>\n",
       "      <td>Pittsburgh</td>\n",
       "      <td>Maggie &amp; Stella's Gifts</td>\n",
       "      <td>3</td>\n",
       "      <td>3.5</td>\n",
       "      <td>PA</td>\n",
       "    </tr>\n",
       "  </tbody>\n",
       "</table>\n",
       "</div>"
      ],
      "text/plain": [
       "                                          attributes             business_id  \\\n",
       "0  {'Alcohol': 'none', 'BikeParking': 'False', 'B...  AjEbIBw6ZFfln7ePHha9PA   \n",
       "1                                               None  bFzdJJ3wp3PZssNEsyU23g   \n",
       "2  {'BikeParking': 'True', 'BusinessAcceptsCredit...  45bWSZtniwPRiqlivpS8Og   \n",
       "3  {'Alcohol': 'none', 'Ambience': '{'romantic': ...  8-NRKkPY1UiFXW20WXKiXg   \n",
       "4  {'BikeParking': 'True', 'BusinessAcceptsCredit...  UTm5QZThPQlT35mkAcGOjg   \n",
       "\n",
       "                                          categories        city  \\\n",
       "0  Chicken Wings, Burgers, Caterers, Street Vendo...   Henderson   \n",
       "1                      Insurance, Financial Services     Phoenix   \n",
       "2                                 Coffee & Tea, Food     Phoenix   \n",
       "3                               Mexican, Restaurants    Avondale   \n",
       "4              Flowers & Gifts, Gift Shops, Shopping  Pittsburgh   \n",
       "\n",
       "                         name  review_count  star_avg state  \n",
       "0         CK'S BBQ & Catering             3       4.5    NV  \n",
       "1             Geico Insurance             8       1.5    AZ  \n",
       "2  The Coffee Bean & Tea Leaf            63       4.0    AZ  \n",
       "3    Filiberto's Mexican Food            40       2.5    AZ  \n",
       "4     Maggie & Stella's Gifts             3       3.5    PA  "
      ]
     },
     "execution_count": 22,
     "metadata": {},
     "output_type": "execute_result"
    }
   ],
   "source": [
    "df.head()"
   ]
  },
  {
   "cell_type": "code",
   "execution_count": 23,
   "metadata": {},
   "outputs": [
    {
     "name": "stdout",
     "output_type": "stream",
     "text": [
      "<class 'pandas.core.frame.DataFrame'>\n",
      "RangeIndex: 139057 entries, 0 to 139056\n",
      "Data columns (total 8 columns):\n",
      "attributes      119919 non-null object\n",
      "business_id     139057 non-null object\n",
      "categories      139057 non-null object\n",
      "city            139057 non-null object\n",
      "name            139057 non-null object\n",
      "review_count    139057 non-null int64\n",
      "star_avg        139057 non-null float64\n",
      "state           139057 non-null object\n",
      "dtypes: float64(1), int64(1), object(6)\n",
      "memory usage: 8.5+ MB\n"
     ]
    }
   ],
   "source": [
    "df.info()"
   ]
  },
  {
   "cell_type": "code",
   "execution_count": 24,
   "metadata": {},
   "outputs": [
    {
     "data": {
      "text/html": [
       "<div>\n",
       "<style scoped>\n",
       "    .dataframe tbody tr th:only-of-type {\n",
       "        vertical-align: middle;\n",
       "    }\n",
       "\n",
       "    .dataframe tbody tr th {\n",
       "        vertical-align: top;\n",
       "    }\n",
       "\n",
       "    .dataframe thead th {\n",
       "        text-align: right;\n",
       "    }\n",
       "</style>\n",
       "<table border=\"1\" class=\"dataframe\">\n",
       "  <thead>\n",
       "    <tr style=\"text-align: right;\">\n",
       "      <th></th>\n",
       "      <th>attributes</th>\n",
       "      <th>business_id</th>\n",
       "      <th>categories</th>\n",
       "      <th>city</th>\n",
       "      <th>name</th>\n",
       "      <th>review_count</th>\n",
       "      <th>star_avg</th>\n",
       "      <th>state</th>\n",
       "    </tr>\n",
       "  </thead>\n",
       "  <tbody>\n",
       "    <tr>\n",
       "      <th>0</th>\n",
       "      <td>{'Alcohol': 'none', 'BikeParking': 'False', 'B...</td>\n",
       "      <td>AjEbIBw6ZFfln7ePHha9PA</td>\n",
       "      <td>Chicken Wings, Burgers, Caterers, Street Vendo...</td>\n",
       "      <td>Henderson</td>\n",
       "      <td>CK'S BBQ &amp; Catering</td>\n",
       "      <td>3</td>\n",
       "      <td>4.5</td>\n",
       "      <td>NV</td>\n",
       "    </tr>\n",
       "    <tr>\n",
       "      <th>1</th>\n",
       "      <td>None</td>\n",
       "      <td>bFzdJJ3wp3PZssNEsyU23g</td>\n",
       "      <td>Insurance, Financial Services</td>\n",
       "      <td>Phoenix</td>\n",
       "      <td>Geico Insurance</td>\n",
       "      <td>8</td>\n",
       "      <td>1.5</td>\n",
       "      <td>AZ</td>\n",
       "    </tr>\n",
       "    <tr>\n",
       "      <th>2</th>\n",
       "      <td>{'BikeParking': 'True', 'BusinessAcceptsCredit...</td>\n",
       "      <td>45bWSZtniwPRiqlivpS8Og</td>\n",
       "      <td>Coffee &amp; Tea, Food</td>\n",
       "      <td>Phoenix</td>\n",
       "      <td>The Coffee Bean &amp; Tea Leaf</td>\n",
       "      <td>63</td>\n",
       "      <td>4.0</td>\n",
       "      <td>AZ</td>\n",
       "    </tr>\n",
       "    <tr>\n",
       "      <th>3</th>\n",
       "      <td>{'Alcohol': 'none', 'Ambience': '{'romantic': ...</td>\n",
       "      <td>8-NRKkPY1UiFXW20WXKiXg</td>\n",
       "      <td>Mexican, Restaurants</td>\n",
       "      <td>Avondale</td>\n",
       "      <td>Filiberto's Mexican Food</td>\n",
       "      <td>40</td>\n",
       "      <td>2.5</td>\n",
       "      <td>AZ</td>\n",
       "    </tr>\n",
       "    <tr>\n",
       "      <th>4</th>\n",
       "      <td>{'BikeParking': 'True', 'BusinessAcceptsCredit...</td>\n",
       "      <td>UTm5QZThPQlT35mkAcGOjg</td>\n",
       "      <td>Flowers &amp; Gifts, Gift Shops, Shopping</td>\n",
       "      <td>Pittsburgh</td>\n",
       "      <td>Maggie &amp; Stella's Gifts</td>\n",
       "      <td>3</td>\n",
       "      <td>3.5</td>\n",
       "      <td>PA</td>\n",
       "    </tr>\n",
       "  </tbody>\n",
       "</table>\n",
       "</div>"
      ],
      "text/plain": [
       "                                          attributes             business_id  \\\n",
       "0  {'Alcohol': 'none', 'BikeParking': 'False', 'B...  AjEbIBw6ZFfln7ePHha9PA   \n",
       "1                                               None  bFzdJJ3wp3PZssNEsyU23g   \n",
       "2  {'BikeParking': 'True', 'BusinessAcceptsCredit...  45bWSZtniwPRiqlivpS8Og   \n",
       "3  {'Alcohol': 'none', 'Ambience': '{'romantic': ...  8-NRKkPY1UiFXW20WXKiXg   \n",
       "4  {'BikeParking': 'True', 'BusinessAcceptsCredit...  UTm5QZThPQlT35mkAcGOjg   \n",
       "\n",
       "                                          categories        city  \\\n",
       "0  Chicken Wings, Burgers, Caterers, Street Vendo...   Henderson   \n",
       "1                      Insurance, Financial Services     Phoenix   \n",
       "2                                 Coffee & Tea, Food     Phoenix   \n",
       "3                               Mexican, Restaurants    Avondale   \n",
       "4              Flowers & Gifts, Gift Shops, Shopping  Pittsburgh   \n",
       "\n",
       "                         name  review_count  star_avg state  \n",
       "0         CK'S BBQ & Catering             3       4.5    NV  \n",
       "1             Geico Insurance             8       1.5    AZ  \n",
       "2  The Coffee Bean & Tea Leaf            63       4.0    AZ  \n",
       "3    Filiberto's Mexican Food            40       2.5    AZ  \n",
       "4     Maggie & Stella's Gifts             3       3.5    PA  "
      ]
     },
     "execution_count": 24,
     "metadata": {},
     "output_type": "execute_result"
    }
   ],
   "source": [
    "df.head()"
   ]
  },
  {
   "cell_type": "code",
   "execution_count": 25,
   "metadata": {},
   "outputs": [
    {
     "data": {
      "text/plain": [
       "Las Vegas     28785\n",
       "Phoenix       18552\n",
       "Charlotte      9179\n",
       "Scottsdale     8803\n",
       "Pittsburgh     6790\n",
       "Mesa           6219\n",
       "Henderson      4802\n",
       "Tempe          4477\n",
       "Chandler       4259\n",
       "Madison        3504\n",
       "Name: city, dtype: int64"
      ]
     },
     "execution_count": 25,
     "metadata": {},
     "output_type": "execute_result"
    }
   ],
   "source": [
    "df.city.value_counts()[:10]"
   ]
  },
  {
   "cell_type": "markdown",
   "metadata": {},
   "source": [
    "## Categories"
   ]
  },
  {
   "cell_type": "code",
   "execution_count": 26,
   "metadata": {},
   "outputs": [],
   "source": [
    "df.categories = df.categories.str.lower()\n",
    "df['categories_list'] = df.categories.str.lower()\n",
    "df['categories_list']  = df['categories_list'].str.split(',')"
   ]
  },
  {
   "cell_type": "code",
   "execution_count": 27,
   "metadata": {},
   "outputs": [
    {
     "data": {
      "text/html": [
       "<div>\n",
       "<style scoped>\n",
       "    .dataframe tbody tr th:only-of-type {\n",
       "        vertical-align: middle;\n",
       "    }\n",
       "\n",
       "    .dataframe tbody tr th {\n",
       "        vertical-align: top;\n",
       "    }\n",
       "\n",
       "    .dataframe thead th {\n",
       "        text-align: right;\n",
       "    }\n",
       "</style>\n",
       "<table border=\"1\" class=\"dataframe\">\n",
       "  <thead>\n",
       "    <tr style=\"text-align: right;\">\n",
       "      <th></th>\n",
       "      <th>attributes</th>\n",
       "      <th>business_id</th>\n",
       "      <th>categories</th>\n",
       "      <th>city</th>\n",
       "      <th>name</th>\n",
       "      <th>review_count</th>\n",
       "      <th>star_avg</th>\n",
       "      <th>state</th>\n",
       "      <th>categories_list</th>\n",
       "    </tr>\n",
       "  </thead>\n",
       "  <tbody>\n",
       "    <tr>\n",
       "      <th>0</th>\n",
       "      <td>{'Alcohol': 'none', 'BikeParking': 'False', 'B...</td>\n",
       "      <td>AjEbIBw6ZFfln7ePHha9PA</td>\n",
       "      <td>chicken wings, burgers, caterers, street vendo...</td>\n",
       "      <td>Henderson</td>\n",
       "      <td>CK'S BBQ &amp; Catering</td>\n",
       "      <td>3</td>\n",
       "      <td>4.5</td>\n",
       "      <td>NV</td>\n",
       "      <td>[chicken wings,  burgers,  caterers,  street v...</td>\n",
       "    </tr>\n",
       "    <tr>\n",
       "      <th>1</th>\n",
       "      <td>None</td>\n",
       "      <td>bFzdJJ3wp3PZssNEsyU23g</td>\n",
       "      <td>insurance, financial services</td>\n",
       "      <td>Phoenix</td>\n",
       "      <td>Geico Insurance</td>\n",
       "      <td>8</td>\n",
       "      <td>1.5</td>\n",
       "      <td>AZ</td>\n",
       "      <td>[insurance,  financial services]</td>\n",
       "    </tr>\n",
       "    <tr>\n",
       "      <th>2</th>\n",
       "      <td>{'BikeParking': 'True', 'BusinessAcceptsCredit...</td>\n",
       "      <td>45bWSZtniwPRiqlivpS8Og</td>\n",
       "      <td>coffee &amp; tea, food</td>\n",
       "      <td>Phoenix</td>\n",
       "      <td>The Coffee Bean &amp; Tea Leaf</td>\n",
       "      <td>63</td>\n",
       "      <td>4.0</td>\n",
       "      <td>AZ</td>\n",
       "      <td>[coffee &amp; tea,  food]</td>\n",
       "    </tr>\n",
       "    <tr>\n",
       "      <th>3</th>\n",
       "      <td>{'Alcohol': 'none', 'Ambience': '{'romantic': ...</td>\n",
       "      <td>8-NRKkPY1UiFXW20WXKiXg</td>\n",
       "      <td>mexican, restaurants</td>\n",
       "      <td>Avondale</td>\n",
       "      <td>Filiberto's Mexican Food</td>\n",
       "      <td>40</td>\n",
       "      <td>2.5</td>\n",
       "      <td>AZ</td>\n",
       "      <td>[mexican,  restaurants]</td>\n",
       "    </tr>\n",
       "    <tr>\n",
       "      <th>4</th>\n",
       "      <td>{'BikeParking': 'True', 'BusinessAcceptsCredit...</td>\n",
       "      <td>UTm5QZThPQlT35mkAcGOjg</td>\n",
       "      <td>flowers &amp; gifts, gift shops, shopping</td>\n",
       "      <td>Pittsburgh</td>\n",
       "      <td>Maggie &amp; Stella's Gifts</td>\n",
       "      <td>3</td>\n",
       "      <td>3.5</td>\n",
       "      <td>PA</td>\n",
       "      <td>[flowers &amp; gifts,  gift shops,  shopping]</td>\n",
       "    </tr>\n",
       "  </tbody>\n",
       "</table>\n",
       "</div>"
      ],
      "text/plain": [
       "                                          attributes             business_id  \\\n",
       "0  {'Alcohol': 'none', 'BikeParking': 'False', 'B...  AjEbIBw6ZFfln7ePHha9PA   \n",
       "1                                               None  bFzdJJ3wp3PZssNEsyU23g   \n",
       "2  {'BikeParking': 'True', 'BusinessAcceptsCredit...  45bWSZtniwPRiqlivpS8Og   \n",
       "3  {'Alcohol': 'none', 'Ambience': '{'romantic': ...  8-NRKkPY1UiFXW20WXKiXg   \n",
       "4  {'BikeParking': 'True', 'BusinessAcceptsCredit...  UTm5QZThPQlT35mkAcGOjg   \n",
       "\n",
       "                                          categories        city  \\\n",
       "0  chicken wings, burgers, caterers, street vendo...   Henderson   \n",
       "1                      insurance, financial services     Phoenix   \n",
       "2                                 coffee & tea, food     Phoenix   \n",
       "3                               mexican, restaurants    Avondale   \n",
       "4              flowers & gifts, gift shops, shopping  Pittsburgh   \n",
       "\n",
       "                         name  review_count  star_avg state  \\\n",
       "0         CK'S BBQ & Catering             3       4.5    NV   \n",
       "1             Geico Insurance             8       1.5    AZ   \n",
       "2  The Coffee Bean & Tea Leaf            63       4.0    AZ   \n",
       "3    Filiberto's Mexican Food            40       2.5    AZ   \n",
       "4     Maggie & Stella's Gifts             3       3.5    PA   \n",
       "\n",
       "                                     categories_list  \n",
       "0  [chicken wings,  burgers,  caterers,  street v...  \n",
       "1                   [insurance,  financial services]  \n",
       "2                              [coffee & tea,  food]  \n",
       "3                            [mexican,  restaurants]  \n",
       "4          [flowers & gifts,  gift shops,  shopping]  "
      ]
     },
     "execution_count": 27,
     "metadata": {},
     "output_type": "execute_result"
    }
   ],
   "source": [
    "df.head()"
   ]
  },
  {
   "cell_type": "code",
   "execution_count": 28,
   "metadata": {},
   "outputs": [
    {
     "name": "stdout",
     "output_type": "stream",
     "text": [
      "CPU times: user 6.55 s, sys: 0 ns, total: 6.55 s\n",
      "Wall time: 6.54 s\n"
     ]
    }
   ],
   "source": [
    "%%time\n",
    "# make sure that categories_list shows up as a list not as a string of lists\n",
    "counts = dict()\n",
    "for i in range(len(df.categories_list)):\n",
    "    for j in df.categories_list[i]:\n",
    "        j= j.lstrip()\n",
    "        counts[j] = counts.get(j, 0) + 1\n",
    "        \n",
    "cat_reviews = pd.DataFrame.from_dict(counts,columns=['total_reviews'],orient='index')\n",
    "cat_reviews.sort_values(by=['total_reviews'], ascending=False, inplace=True)"
   ]
  },
  {
   "cell_type": "code",
   "execution_count": 29,
   "metadata": {},
   "outputs": [
    {
     "name": "stdout",
     "output_type": "stream",
     "text": [
      "<class 'pandas.core.frame.DataFrame'>\n",
      "Index: 1275 entries, restaurants to makerspaces\n",
      "Data columns (total 1 columns):\n",
      "total_reviews    1275 non-null int64\n",
      "dtypes: int64(1)\n",
      "memory usage: 19.9+ KB\n"
     ]
    }
   ],
   "source": [
    "cat_reviews.info()"
   ]
  },
  {
   "cell_type": "code",
   "execution_count": 30,
   "metadata": {},
   "outputs": [
    {
     "data": {
      "text/html": [
       "<div>\n",
       "<style scoped>\n",
       "    .dataframe tbody tr th:only-of-type {\n",
       "        vertical-align: middle;\n",
       "    }\n",
       "\n",
       "    .dataframe tbody tr th {\n",
       "        vertical-align: top;\n",
       "    }\n",
       "\n",
       "    .dataframe thead th {\n",
       "        text-align: right;\n",
       "    }\n",
       "</style>\n",
       "<table border=\"1\" class=\"dataframe\">\n",
       "  <thead>\n",
       "    <tr style=\"text-align: right;\">\n",
       "      <th></th>\n",
       "      <th>total_reviews</th>\n",
       "    </tr>\n",
       "  </thead>\n",
       "  <tbody>\n",
       "    <tr>\n",
       "      <th>restaurants</th>\n",
       "      <td>34385</td>\n",
       "    </tr>\n",
       "    <tr>\n",
       "      <th>shopping</th>\n",
       "      <td>23189</td>\n",
       "    </tr>\n",
       "    <tr>\n",
       "      <th>food</th>\n",
       "      <td>17326</td>\n",
       "    </tr>\n",
       "    <tr>\n",
       "      <th>home services</th>\n",
       "      <td>17282</td>\n",
       "    </tr>\n",
       "    <tr>\n",
       "      <th>beauty &amp; spas</th>\n",
       "      <td>14621</td>\n",
       "    </tr>\n",
       "    <tr>\n",
       "      <th>health &amp; medical</th>\n",
       "      <td>14061</td>\n",
       "    </tr>\n",
       "    <tr>\n",
       "      <th>local services</th>\n",
       "      <td>11088</td>\n",
       "    </tr>\n",
       "    <tr>\n",
       "      <th>automotive</th>\n",
       "      <td>10866</td>\n",
       "    </tr>\n",
       "    <tr>\n",
       "      <th>nightlife</th>\n",
       "      <td>8487</td>\n",
       "    </tr>\n",
       "    <tr>\n",
       "      <th>event planning &amp; services</th>\n",
       "      <td>7546</td>\n",
       "    </tr>\n",
       "    <tr>\n",
       "      <th>bars</th>\n",
       "      <td>7347</td>\n",
       "    </tr>\n",
       "    <tr>\n",
       "      <th>active life</th>\n",
       "      <td>7227</td>\n",
       "    </tr>\n",
       "    <tr>\n",
       "      <th>fashion</th>\n",
       "      <td>5488</td>\n",
       "    </tr>\n",
       "    <tr>\n",
       "      <th>american (traditional)</th>\n",
       "      <td>5474</td>\n",
       "    </tr>\n",
       "    <tr>\n",
       "      <th>hair salons</th>\n",
       "      <td>5274</td>\n",
       "    </tr>\n",
       "    <tr>\n",
       "      <th>fast food</th>\n",
       "      <td>5137</td>\n",
       "    </tr>\n",
       "    <tr>\n",
       "      <th>professional services</th>\n",
       "      <td>5108</td>\n",
       "    </tr>\n",
       "    <tr>\n",
       "      <th>real estate</th>\n",
       "      <td>5031</td>\n",
       "    </tr>\n",
       "    <tr>\n",
       "      <th>sandwiches</th>\n",
       "      <td>5016</td>\n",
       "    </tr>\n",
       "    <tr>\n",
       "      <th>doctors</th>\n",
       "      <td>5011</td>\n",
       "    </tr>\n",
       "    <tr>\n",
       "      <th>auto repair</th>\n",
       "      <td>4942</td>\n",
       "    </tr>\n",
       "    <tr>\n",
       "      <th>home &amp; garden</th>\n",
       "      <td>4929</td>\n",
       "    </tr>\n",
       "    <tr>\n",
       "      <th>pizza</th>\n",
       "      <td>4576</td>\n",
       "    </tr>\n",
       "    <tr>\n",
       "      <th>arts &amp; entertainment</th>\n",
       "      <td>4486</td>\n",
       "    </tr>\n",
       "    <tr>\n",
       "      <th>hotels &amp; travel</th>\n",
       "      <td>4393</td>\n",
       "    </tr>\n",
       "    <tr>\n",
       "      <th>coffee &amp; tea</th>\n",
       "      <td>3939</td>\n",
       "    </tr>\n",
       "    <tr>\n",
       "      <th>american (new)</th>\n",
       "      <td>3914</td>\n",
       "    </tr>\n",
       "    <tr>\n",
       "      <th>mexican</th>\n",
       "      <td>3793</td>\n",
       "    </tr>\n",
       "    <tr>\n",
       "      <th>nail salons</th>\n",
       "      <td>3664</td>\n",
       "    </tr>\n",
       "    <tr>\n",
       "      <th>burgers</th>\n",
       "      <td>3577</td>\n",
       "    </tr>\n",
       "    <tr>\n",
       "      <th>...</th>\n",
       "      <td>...</td>\n",
       "    </tr>\n",
       "    <tr>\n",
       "      <th>billing services</th>\n",
       "      <td>1</td>\n",
       "    </tr>\n",
       "    <tr>\n",
       "      <th>rodeo</th>\n",
       "      <td>1</td>\n",
       "    </tr>\n",
       "    <tr>\n",
       "      <th>carousels</th>\n",
       "      <td>1</td>\n",
       "    </tr>\n",
       "    <tr>\n",
       "      <th>props</th>\n",
       "      <td>1</td>\n",
       "    </tr>\n",
       "    <tr>\n",
       "      <th>bike parking</th>\n",
       "      <td>1</td>\n",
       "    </tr>\n",
       "    <tr>\n",
       "      <th>signature cuisine</th>\n",
       "      <td>1</td>\n",
       "    </tr>\n",
       "    <tr>\n",
       "      <th>eastern european</th>\n",
       "      <td>1</td>\n",
       "    </tr>\n",
       "    <tr>\n",
       "      <th>customs brokers</th>\n",
       "      <td>1</td>\n",
       "    </tr>\n",
       "    <tr>\n",
       "      <th>metro stations</th>\n",
       "      <td>1</td>\n",
       "    </tr>\n",
       "    <tr>\n",
       "      <th>guamanian</th>\n",
       "      <td>1</td>\n",
       "    </tr>\n",
       "    <tr>\n",
       "      <th>entertainment law</th>\n",
       "      <td>1</td>\n",
       "    </tr>\n",
       "    <tr>\n",
       "      <th>christmas markets</th>\n",
       "      <td>1</td>\n",
       "    </tr>\n",
       "    <tr>\n",
       "      <th>hybrid car repair</th>\n",
       "      <td>1</td>\n",
       "    </tr>\n",
       "    <tr>\n",
       "      <th>sri lankan</th>\n",
       "      <td>1</td>\n",
       "    </tr>\n",
       "    <tr>\n",
       "      <th>dialysis clinics</th>\n",
       "      <td>1</td>\n",
       "    </tr>\n",
       "    <tr>\n",
       "      <th>rotisserie chicken</th>\n",
       "      <td>1</td>\n",
       "    </tr>\n",
       "    <tr>\n",
       "      <th>pensions</th>\n",
       "      <td>1</td>\n",
       "    </tr>\n",
       "    <tr>\n",
       "      <th>halfway houses</th>\n",
       "      <td>1</td>\n",
       "    </tr>\n",
       "    <tr>\n",
       "      <th>nicaraguan</th>\n",
       "      <td>1</td>\n",
       "    </tr>\n",
       "    <tr>\n",
       "      <th>otologists</th>\n",
       "      <td>1</td>\n",
       "    </tr>\n",
       "    <tr>\n",
       "      <th>traditional norwegian</th>\n",
       "      <td>1</td>\n",
       "    </tr>\n",
       "    <tr>\n",
       "      <th>fencing clubs</th>\n",
       "      <td>1</td>\n",
       "    </tr>\n",
       "    <tr>\n",
       "      <th>outdoor movies</th>\n",
       "      <td>1</td>\n",
       "    </tr>\n",
       "    <tr>\n",
       "      <th>czech</th>\n",
       "      <td>1</td>\n",
       "    </tr>\n",
       "    <tr>\n",
       "      <th>ceremonial clothing</th>\n",
       "      <td>1</td>\n",
       "    </tr>\n",
       "    <tr>\n",
       "      <th>slovakian</th>\n",
       "      <td>1</td>\n",
       "    </tr>\n",
       "    <tr>\n",
       "      <th>baguettes</th>\n",
       "      <td>1</td>\n",
       "    </tr>\n",
       "    <tr>\n",
       "      <th>churros</th>\n",
       "      <td>1</td>\n",
       "    </tr>\n",
       "    <tr>\n",
       "      <th>vocal coach</th>\n",
       "      <td>1</td>\n",
       "    </tr>\n",
       "    <tr>\n",
       "      <th>makerspaces</th>\n",
       "      <td>1</td>\n",
       "    </tr>\n",
       "  </tbody>\n",
       "</table>\n",
       "<p>1275 rows × 1 columns</p>\n",
       "</div>"
      ],
      "text/plain": [
       "                           total_reviews\n",
       "restaurants                        34385\n",
       "shopping                           23189\n",
       "food                               17326\n",
       "home services                      17282\n",
       "beauty & spas                      14621\n",
       "health & medical                   14061\n",
       "local services                     11088\n",
       "automotive                         10866\n",
       "nightlife                           8487\n",
       "event planning & services           7546\n",
       "bars                                7347\n",
       "active life                         7227\n",
       "fashion                             5488\n",
       "american (traditional)              5474\n",
       "hair salons                         5274\n",
       "fast food                           5137\n",
       "professional services               5108\n",
       "real estate                         5031\n",
       "sandwiches                          5016\n",
       "doctors                             5011\n",
       "auto repair                         4942\n",
       "home & garden                       4929\n",
       "pizza                               4576\n",
       "arts & entertainment                4486\n",
       "hotels & travel                     4393\n",
       "coffee & tea                        3939\n",
       "american (new)                      3914\n",
       "mexican                             3793\n",
       "nail salons                         3664\n",
       "burgers                             3577\n",
       "...                                  ...\n",
       "billing services                       1\n",
       "rodeo                                  1\n",
       "carousels                              1\n",
       "props                                  1\n",
       "bike parking                           1\n",
       "signature cuisine                      1\n",
       "eastern european                       1\n",
       "customs brokers                        1\n",
       "metro stations                         1\n",
       "guamanian                              1\n",
       "entertainment law                      1\n",
       "christmas markets                      1\n",
       "hybrid car repair                      1\n",
       "sri lankan                             1\n",
       "dialysis clinics                       1\n",
       "rotisserie chicken                     1\n",
       "pensions                               1\n",
       "halfway houses                         1\n",
       "nicaraguan                             1\n",
       "otologists                             1\n",
       "traditional norwegian                  1\n",
       "fencing clubs                          1\n",
       "outdoor movies                         1\n",
       "czech                                  1\n",
       "ceremonial clothing                    1\n",
       "slovakian                              1\n",
       "baguettes                              1\n",
       "churros                                1\n",
       "vocal coach                            1\n",
       "makerspaces                            1\n",
       "\n",
       "[1275 rows x 1 columns]"
      ]
     },
     "execution_count": 30,
     "metadata": {},
     "output_type": "execute_result"
    }
   ],
   "source": [
    "cat_reviews"
   ]
  },
  {
   "cell_type": "markdown",
   "metadata": {},
   "source": [
    "## Healthcare related\n",
    "https://www.yelp.com/developers/documentation/v3/category_list\n",
    "- select only healthcare related business\n",
    "\n",
    "## out of 140, remove unrelated\n",
    "- primary care\n",
    "- specialist\n",
    "- hospital\n",
    "- clinic\n",
    "- mental health\n",
    "\n",
    "\n",
    "no dentist\n",
    "no eyecare"
   ]
  },
  {
   "cell_type": "code",
   "execution_count": 31,
   "metadata": {},
   "outputs": [],
   "source": [
    "ll = '''Behavior Analysts\n",
    "Chiropractors\n",
    "Counseling & Mental Health\n",
    "Psychologists\n",
    "Sex Therapists\n",
    "Cryotherapy\n",
    "Diagnostic Services\n",
    "Diagnostic Imaging\n",
    "Laboratory Testing\n",
    "Dialysis Clinics\n",
    "Doctors\n",
    "Addiction Medicine\n",
    "Allergists\n",
    "Anesthesiologists\n",
    "Audiologist\n",
    "Cardiologists\n",
    "Cosmetic Surgeons\n",
    "Dermatologists\n",
    "Ear Nose & Throat\n",
    "Emergency Medicine\n",
    "Endocrinologists\n",
    "Family Practice\n",
    "Fertility\n",
    "Gastroenterologist\n",
    "Geneticists\n",
    "Gerontologists\n",
    "Hepatologists\n",
    "Hospitalists\n",
    "Immunodermatologists\n",
    "Infectious Disease Specialists\n",
    "Internal Medicine\n",
    "Neurologist\n",
    "Neuropathologists\n",
    "Neurotologists\n",
    "Obstetricians & Gynecologists\n",
    "Oncologist\n",
    "Ophthalmologists\n",
    "Orthopedists\n",
    "Osteopathic Physicians\n",
    "Otologists\n",
    "Pain Management\n",
    "Pathologists\n",
    "Pediatricians\n",
    "Phlebologists\n",
    "Plastic Surgeons\n",
    "Podiatrists\n",
    "Preventive Medicine\n",
    "Proctologists\n",
    "Psychiatrists\n",
    "Pulmonologist\n",
    "Radiologists\n",
    "Rheumatologists\n",
    "Spine Surgeons\n",
    "Surgeons\n",
    "Toxicologists\n",
    "Urologists\n",
    "Vascular Medicine\n",
    "Emergency Rooms\n",
    "Habilitative Services\n",
    "Hearing Aid Providers\n",
    "Hospitals\n",
    "Hypnosis/Hypnotherapy\n",
    "Lactation Services\n",
    "Medical Centers\n",
    "Walk-in Clinics\n",
    "Memory Care\n",
    "Nurse Practitioner\n",
    "Nutritionists\n",
    "Optometrists\n",
    "Organ & Tissue Donor Services\n",
    "Orthotics\n",
    "Physical Therapy\n",
    "Placenta Encapsulations\n",
    "Prenatal/Perinatal Care\n",
    "Prosthetics\n",
    "Prosthodontists\n",
    "Reflexology\n",
    "Rehabilitation Center\n",
    "Skilled Nursing\n",
    "Speech Therapists\n",
    "Sperm Clinic\n",
    "Ultrasound Imaging Centers\n",
    "Urgent Care'''"
   ]
  },
  {
   "cell_type": "code",
   "execution_count": 32,
   "metadata": {},
   "outputs": [],
   "source": [
    "ll = ll.lower()\n",
    "health_list  = ll.split('\\n')"
   ]
  },
  {
   "cell_type": "code",
   "execution_count": 33,
   "metadata": {},
   "outputs": [
    {
     "data": {
      "text/plain": [
       "83"
      ]
     },
     "execution_count": 33,
     "metadata": {},
     "output_type": "execute_result"
    }
   ],
   "source": [
    "len(health_list)"
   ]
  },
  {
   "cell_type": "code",
   "execution_count": 34,
   "metadata": {},
   "outputs": [
    {
     "data": {
      "text/plain": [
       "['behavior analysts',\n",
       " 'chiropractors',\n",
       " 'counseling & mental health',\n",
       " 'psychologists',\n",
       " 'sex therapists',\n",
       " 'cryotherapy',\n",
       " 'diagnostic services',\n",
       " 'diagnostic imaging',\n",
       " 'laboratory testing',\n",
       " 'dialysis clinics']"
      ]
     },
     "execution_count": 34,
     "metadata": {},
     "output_type": "execute_result"
    }
   ],
   "source": [
    "health_list[:10]"
   ]
  },
  {
   "cell_type": "markdown",
   "metadata": {},
   "source": [
    "## Create new dataframe with only healthcare categories"
   ]
  },
  {
   "cell_type": "code",
   "execution_count": 35,
   "metadata": {},
   "outputs": [],
   "source": [
    "health = df[df['categories'].apply(lambda x: pd.Series(x.split(', ')).isin(health_list).any())]"
   ]
  },
  {
   "cell_type": "code",
   "execution_count": 36,
   "metadata": {},
   "outputs": [],
   "source": [
    "health= health.reset_index(drop=True) # reset index"
   ]
  },
  {
   "cell_type": "code",
   "execution_count": 37,
   "metadata": {},
   "outputs": [
    {
     "name": "stdout",
     "output_type": "stream",
     "text": [
      "<class 'pandas.core.frame.DataFrame'>\n",
      "RangeIndex: 8850 entries, 0 to 8849\n",
      "Data columns (total 9 columns):\n",
      "attributes         8184 non-null object\n",
      "business_id        8850 non-null object\n",
      "categories         8850 non-null object\n",
      "city               8850 non-null object\n",
      "name               8850 non-null object\n",
      "review_count       8850 non-null int64\n",
      "star_avg           8850 non-null float64\n",
      "state              8850 non-null object\n",
      "categories_list    8850 non-null object\n",
      "dtypes: float64(1), int64(1), object(7)\n",
      "memory usage: 622.3+ KB\n"
     ]
    }
   ],
   "source": [
    "health.info()"
   ]
  },
  {
   "cell_type": "code",
   "execution_count": 38,
   "metadata": {},
   "outputs": [
    {
     "data": {
      "text/html": [
       "<div>\n",
       "<style scoped>\n",
       "    .dataframe tbody tr th:only-of-type {\n",
       "        vertical-align: middle;\n",
       "    }\n",
       "\n",
       "    .dataframe tbody tr th {\n",
       "        vertical-align: top;\n",
       "    }\n",
       "\n",
       "    .dataframe thead th {\n",
       "        text-align: right;\n",
       "    }\n",
       "</style>\n",
       "<table border=\"1\" class=\"dataframe\">\n",
       "  <thead>\n",
       "    <tr style=\"text-align: right;\">\n",
       "      <th></th>\n",
       "      <th>attributes</th>\n",
       "      <th>business_id</th>\n",
       "      <th>categories</th>\n",
       "      <th>city</th>\n",
       "      <th>name</th>\n",
       "      <th>review_count</th>\n",
       "      <th>star_avg</th>\n",
       "      <th>state</th>\n",
       "      <th>categories_list</th>\n",
       "    </tr>\n",
       "  </thead>\n",
       "  <tbody>\n",
       "    <tr>\n",
       "      <th>0</th>\n",
       "      <td>{'AcceptsInsurance': 'False', 'BikeParking': '...</td>\n",
       "      <td>pbluh-ZZi_i8XlprfWB1nQ</td>\n",
       "      <td>health &amp; medical, hair salons, skin care, hair...</td>\n",
       "      <td>Cave Creek</td>\n",
       "      <td>Pamper Me Perfect Beauty &amp; Wellness</td>\n",
       "      <td>12</td>\n",
       "      <td>4.5</td>\n",
       "      <td>AZ</td>\n",
       "      <td>[health &amp; medical,  hair salons,  skin care,  ...</td>\n",
       "    </tr>\n",
       "    <tr>\n",
       "      <th>1</th>\n",
       "      <td>{'AcceptsInsurance': 'True', 'ByAppointmentOnl...</td>\n",
       "      <td>iTZDPTc36guXhNhoK-jwmw</td>\n",
       "      <td>health &amp; medical, physical therapy, retirement...</td>\n",
       "      <td>Gilbert</td>\n",
       "      <td>Wellsprings of Gilbert</td>\n",
       "      <td>4</td>\n",
       "      <td>5.0</td>\n",
       "      <td>AZ</td>\n",
       "      <td>[health &amp; medical,  physical therapy,  retirem...</td>\n",
       "    </tr>\n",
       "    <tr>\n",
       "      <th>2</th>\n",
       "      <td>{'AcceptsInsurance': 'False', 'BusinessAccepts...</td>\n",
       "      <td>rmGQGPpk1XZFTkz-4IGHCw</td>\n",
       "      <td>health &amp; medical, diagnostic imaging, diagnost...</td>\n",
       "      <td>Charlotte</td>\n",
       "      <td>Baby Bundle 3d/4d Ultrasound</td>\n",
       "      <td>3</td>\n",
       "      <td>4.0</td>\n",
       "      <td>NC</td>\n",
       "      <td>[health &amp; medical,  diagnostic imaging,  diagn...</td>\n",
       "    </tr>\n",
       "    <tr>\n",
       "      <th>3</th>\n",
       "      <td>{'AcceptsInsurance': 'True', 'BusinessAcceptsC...</td>\n",
       "      <td>y-4xTZNKVm8mAZpiXMS5ZA</td>\n",
       "      <td>urologists, doctors, health &amp; medical</td>\n",
       "      <td>Gilbert</td>\n",
       "      <td>Lauren Byrne, MD</td>\n",
       "      <td>9</td>\n",
       "      <td>2.5</td>\n",
       "      <td>AZ</td>\n",
       "      <td>[urologists,  doctors,  health &amp; medical]</td>\n",
       "    </tr>\n",
       "    <tr>\n",
       "      <th>4</th>\n",
       "      <td>{'AcceptsInsurance': 'True', 'BusinessAcceptsC...</td>\n",
       "      <td>6sBCncAPTvC_xN64M2Qarw</td>\n",
       "      <td>massage therapy, physical therapy, health &amp; me...</td>\n",
       "      <td>Henderson</td>\n",
       "      <td>Tru Physical Therapy</td>\n",
       "      <td>5</td>\n",
       "      <td>5.0</td>\n",
       "      <td>NV</td>\n",
       "      <td>[massage therapy,  physical therapy,  health &amp;...</td>\n",
       "    </tr>\n",
       "  </tbody>\n",
       "</table>\n",
       "</div>"
      ],
      "text/plain": [
       "                                          attributes             business_id  \\\n",
       "0  {'AcceptsInsurance': 'False', 'BikeParking': '...  pbluh-ZZi_i8XlprfWB1nQ   \n",
       "1  {'AcceptsInsurance': 'True', 'ByAppointmentOnl...  iTZDPTc36guXhNhoK-jwmw   \n",
       "2  {'AcceptsInsurance': 'False', 'BusinessAccepts...  rmGQGPpk1XZFTkz-4IGHCw   \n",
       "3  {'AcceptsInsurance': 'True', 'BusinessAcceptsC...  y-4xTZNKVm8mAZpiXMS5ZA   \n",
       "4  {'AcceptsInsurance': 'True', 'BusinessAcceptsC...  6sBCncAPTvC_xN64M2Qarw   \n",
       "\n",
       "                                          categories        city  \\\n",
       "0  health & medical, hair salons, skin care, hair...  Cave Creek   \n",
       "1  health & medical, physical therapy, retirement...     Gilbert   \n",
       "2  health & medical, diagnostic imaging, diagnost...   Charlotte   \n",
       "3              urologists, doctors, health & medical     Gilbert   \n",
       "4  massage therapy, physical therapy, health & me...   Henderson   \n",
       "\n",
       "                                  name  review_count  star_avg state  \\\n",
       "0  Pamper Me Perfect Beauty & Wellness            12       4.5    AZ   \n",
       "1               Wellsprings of Gilbert             4       5.0    AZ   \n",
       "2         Baby Bundle 3d/4d Ultrasound             3       4.0    NC   \n",
       "3                     Lauren Byrne, MD             9       2.5    AZ   \n",
       "4                 Tru Physical Therapy             5       5.0    NV   \n",
       "\n",
       "                                     categories_list  \n",
       "0  [health & medical,  hair salons,  skin care,  ...  \n",
       "1  [health & medical,  physical therapy,  retirem...  \n",
       "2  [health & medical,  diagnostic imaging,  diagn...  \n",
       "3          [urologists,  doctors,  health & medical]  \n",
       "4  [massage therapy,  physical therapy,  health &...  "
      ]
     },
     "execution_count": 38,
     "metadata": {},
     "output_type": "execute_result"
    }
   ],
   "source": [
    "health.head()"
   ]
  },
  {
   "cell_type": "markdown",
   "metadata": {},
   "source": [
    "## Count categories again"
   ]
  },
  {
   "cell_type": "code",
   "execution_count": 39,
   "metadata": {},
   "outputs": [
    {
     "name": "stdout",
     "output_type": "stream",
     "text": [
      "CPU times: user 438 ms, sys: 15.6 ms, total: 453 ms\n",
      "Wall time: 445 ms\n"
     ]
    }
   ],
   "source": [
    "%%time\n",
    "# make sure that categories_list shows up as a list not as a string of lists\n",
    "counts = dict()\n",
    "for i in range(len(health.categories_list)):\n",
    "    for j in health.categories_list[i]:\n",
    "        j= j.lstrip()\n",
    "        counts[j] = counts.get(j, 0) + 1\n",
    "        \n",
    "cat_reviews2 = pd.DataFrame.from_dict(counts,columns=['total_reviews'],orient='index')\n",
    "cat_reviews2.sort_values(by=['total_reviews'], ascending=False, inplace=True)"
   ]
  },
  {
   "cell_type": "code",
   "execution_count": 40,
   "metadata": {},
   "outputs": [
    {
     "data": {
      "text/plain": [
       "466"
      ]
     },
     "execution_count": 40,
     "metadata": {},
     "output_type": "execute_result"
    }
   ],
   "source": [
    "len(cat_reviews2)"
   ]
  },
  {
   "cell_type": "code",
   "execution_count": 41,
   "metadata": {},
   "outputs": [
    {
     "data": {
      "text/html": [
       "<div>\n",
       "<style scoped>\n",
       "    .dataframe tbody tr th:only-of-type {\n",
       "        vertical-align: middle;\n",
       "    }\n",
       "\n",
       "    .dataframe tbody tr th {\n",
       "        vertical-align: top;\n",
       "    }\n",
       "\n",
       "    .dataframe thead th {\n",
       "        text-align: right;\n",
       "    }\n",
       "</style>\n",
       "<table border=\"1\" class=\"dataframe\">\n",
       "  <thead>\n",
       "    <tr style=\"text-align: right;\">\n",
       "      <th></th>\n",
       "      <th>total_reviews</th>\n",
       "    </tr>\n",
       "  </thead>\n",
       "  <tbody>\n",
       "    <tr>\n",
       "      <th>health &amp; medical</th>\n",
       "      <td>8850</td>\n",
       "    </tr>\n",
       "    <tr>\n",
       "      <th>doctors</th>\n",
       "      <td>5011</td>\n",
       "    </tr>\n",
       "    <tr>\n",
       "      <th>medical centers</th>\n",
       "      <td>1284</td>\n",
       "    </tr>\n",
       "    <tr>\n",
       "      <th>beauty &amp; spas</th>\n",
       "      <td>1114</td>\n",
       "    </tr>\n",
       "    <tr>\n",
       "      <th>chiropractors</th>\n",
       "      <td>1105</td>\n",
       "    </tr>\n",
       "    <tr>\n",
       "      <th>optometrists</th>\n",
       "      <td>1004</td>\n",
       "    </tr>\n",
       "    <tr>\n",
       "      <th>shopping</th>\n",
       "      <td>909</td>\n",
       "    </tr>\n",
       "    <tr>\n",
       "      <th>physical therapy</th>\n",
       "      <td>757</td>\n",
       "    </tr>\n",
       "    <tr>\n",
       "      <th>massage therapy</th>\n",
       "      <td>704</td>\n",
       "    </tr>\n",
       "    <tr>\n",
       "      <th>eyewear &amp; opticians</th>\n",
       "      <td>675</td>\n",
       "    </tr>\n",
       "  </tbody>\n",
       "</table>\n",
       "</div>"
      ],
      "text/plain": [
       "                     total_reviews\n",
       "health & medical              8850\n",
       "doctors                       5011\n",
       "medical centers               1284\n",
       "beauty & spas                 1114\n",
       "chiropractors                 1105\n",
       "optometrists                  1004\n",
       "shopping                       909\n",
       "physical therapy               757\n",
       "massage therapy                704\n",
       "eyewear & opticians            675"
      ]
     },
     "execution_count": 41,
     "metadata": {},
     "output_type": "execute_result"
    }
   ],
   "source": [
    "cat_reviews2[:10]"
   ]
  },
  {
   "cell_type": "markdown",
   "metadata": {},
   "source": [
    "## Create list"
   ]
  },
  {
   "cell_type": "code",
   "execution_count": 42,
   "metadata": {},
   "outputs": [],
   "source": [
    "h_list = list(cat_reviews2.iloc[:].index)"
   ]
  },
  {
   "cell_type": "code",
   "execution_count": 43,
   "metadata": {},
   "outputs": [
    {
     "data": {
      "text/plain": [
       "466"
      ]
     },
     "execution_count": 43,
     "metadata": {},
     "output_type": "execute_result"
    }
   ],
   "source": [
    "len(h_list)"
   ]
  },
  {
   "cell_type": "code",
   "execution_count": 44,
   "metadata": {},
   "outputs": [
    {
     "data": {
      "text/plain": [
       "['health & medical',\n",
       " 'doctors',\n",
       " 'medical centers',\n",
       " 'beauty & spas',\n",
       " 'chiropractors',\n",
       " 'optometrists',\n",
       " 'shopping',\n",
       " 'physical therapy',\n",
       " 'massage therapy',\n",
       " 'eyewear & opticians']"
      ]
     },
     "execution_count": 44,
     "metadata": {},
     "output_type": "execute_result"
    }
   ],
   "source": [
    "h_list[:10]"
   ]
  },
  {
   "cell_type": "markdown",
   "metadata": {},
   "source": [
    "## What is in both list"
   ]
  },
  {
   "cell_type": "code",
   "execution_count": 45,
   "metadata": {},
   "outputs": [
    {
     "data": {
      "text/plain": [
       "79"
      ]
     },
     "execution_count": 45,
     "metadata": {},
     "output_type": "execute_result"
    }
   ],
   "source": [
    "## what is in both lists\n",
    "len(set(health_list) & set(h_list))"
   ]
  },
  {
   "cell_type": "code",
   "execution_count": 46,
   "metadata": {},
   "outputs": [
    {
     "data": {
      "text/plain": [
       "387"
      ]
     },
     "execution_count": 46,
     "metadata": {},
     "output_type": "execute_result"
    }
   ],
   "source": [
    "len(list(set(h_list) - set(health_list)))"
   ]
  },
  {
   "cell_type": "code",
   "execution_count": 47,
   "metadata": {},
   "outputs": [
    {
     "data": {
      "text/plain": [
       "['veterans organizations',\n",
       " 'laser hair removal',\n",
       " 'business consulting',\n",
       " 'office equipment',\n",
       " 'day spas',\n",
       " 'tai chi',\n",
       " 'elder care planning',\n",
       " 'tattoo removal',\n",
       " 'insurance',\n",
       " 'auto parts & supplies',\n",
       " 'sunglasses',\n",
       " 'self storage',\n",
       " 'party & event planning',\n",
       " 'childbirth education',\n",
       " 'animal physical therapy',\n",
       " 'health retreats',\n",
       " 'cardio classes',\n",
       " 'sports medicine',\n",
       " 'grocery',\n",
       " 'valet services',\n",
       " 'fitness/exercise equipment',\n",
       " 'active life',\n",
       " 'tattoo',\n",
       " 'telecommunications',\n",
       " 'party supplies',\n",
       " 'life coach',\n",
       " 'veterinarians',\n",
       " 'cannabis collective',\n",
       " 'water purification services',\n",
       " 'swimming pools',\n",
       " 'wedding planning',\n",
       " 'cpr classes',\n",
       " 'thrift stores',\n",
       " 'pets',\n",
       " 'dui law',\n",
       " 'tours',\n",
       " 'pet insurance',\n",
       " 'language schools',\n",
       " 'retirement homes',\n",
       " \"men's hair salons\",\n",
       " 'farmers market',\n",
       " \"children's clothing\",\n",
       " 'preschools',\n",
       " 'vacation rentals',\n",
       " 'pharmacy',\n",
       " 'body contouring',\n",
       " 'hospice',\n",
       " 'special education',\n",
       " 'home decor',\n",
       " 'car stereo installation',\n",
       " 'social clubs',\n",
       " 'traditional chinese medicine',\n",
       " 'water heater installation/repair',\n",
       " 'police departments',\n",
       " 'mags',\n",
       " 'waxing',\n",
       " 'martial arts',\n",
       " 'personal assistants',\n",
       " 'occupational therapy',\n",
       " 'video/film production',\n",
       " 'community centers',\n",
       " 'cannabis clinics',\n",
       " 'gift shops',\n",
       " 'security systems',\n",
       " 'mobile phones',\n",
       " 'alternative medicine',\n",
       " 'wholesale stores',\n",
       " 'specialty schools',\n",
       " 'magicians',\n",
       " 'bars',\n",
       " 'health coach',\n",
       " 'driving schools',\n",
       " 'eyebrow services',\n",
       " 'health insurance offices',\n",
       " 'mass media',\n",
       " 'challenge courses',\n",
       " 'fruits & veggies',\n",
       " 'community service/non-profit',\n",
       " 'furniture repair',\n",
       " 'vocational & technical school',\n",
       " 'ticket sales',\n",
       " 'jewelry',\n",
       " 'vegan',\n",
       " 'art classes',\n",
       " 'halotherapy',\n",
       " 'fingerprinting',\n",
       " 'home health care',\n",
       " 'flowers & gifts',\n",
       " 'hotels',\n",
       " 'professional services',\n",
       " 'convenience stores',\n",
       " 'officiants',\n",
       " 'uniforms',\n",
       " 'piercing',\n",
       " 'bridal',\n",
       " 'kids activities',\n",
       " 'religious organizations',\n",
       " 'hair extensions',\n",
       " 'talent agencies',\n",
       " 'herbs & spices',\n",
       " 'laser eye surgery/lasik',\n",
       " 'event planning & services',\n",
       " 'painters',\n",
       " 'team building activities',\n",
       " 'hair stylists',\n",
       " 'event photography',\n",
       " 'hiking',\n",
       " 'public services & government',\n",
       " 'pizza',\n",
       " 'tui na',\n",
       " 'juice bars & smoothies',\n",
       " 'junk removal & hauling',\n",
       " 'oral surgeons',\n",
       " 'transmission repair',\n",
       " 'caterers',\n",
       " 'food',\n",
       " 'real estate services',\n",
       " 'drugstores',\n",
       " 'tanning',\n",
       " 'car dealers',\n",
       " 'rolfing',\n",
       " 'hair salons',\n",
       " 'vitamins & supplements',\n",
       " 'beverage store',\n",
       " 'public transportation',\n",
       " 'psychics',\n",
       " 'videographers',\n",
       " 'taxis',\n",
       " 'circuit training gyms',\n",
       " 'midwives',\n",
       " 'undersea/hyperbaric medicine',\n",
       " 'horseback riding',\n",
       " 'arts & crafts',\n",
       " 'head shops',\n",
       " 'college counseling',\n",
       " 'general dentistry',\n",
       " 'boot camps',\n",
       " 'trainers',\n",
       " 'boxing',\n",
       " 'personal chefs',\n",
       " 'cannabis tours',\n",
       " 'saunas',\n",
       " 'general litigation',\n",
       " 'tutoring centers',\n",
       " 'feng shui',\n",
       " 'american (new)',\n",
       " 'eyelash service',\n",
       " 'maternity wear',\n",
       " 'disability law',\n",
       " 'shoe stores',\n",
       " 'climbing',\n",
       " 'acne treatment',\n",
       " 'yoga',\n",
       " 'gluten-free',\n",
       " 'vegetarian',\n",
       " 'sports clubs',\n",
       " 'gyms',\n",
       " 'float spa',\n",
       " 'spray tanning',\n",
       " 'tapas/small plates',\n",
       " 'wigs',\n",
       " 'health markets',\n",
       " 'livestock feed & supply',\n",
       " 'cycling classes',\n",
       " 'amateur sports teams',\n",
       " 'photographers',\n",
       " 'session photography',\n",
       " 'discount store',\n",
       " 'food trucks',\n",
       " 'pet services',\n",
       " 'medical cannabis referrals',\n",
       " 'wedding chapels',\n",
       " 'building supplies',\n",
       " 'blood & plasma donation centers',\n",
       " 'social security law',\n",
       " 'personal care services',\n",
       " 'endodontists',\n",
       " 'religious schools',\n",
       " 'adult education',\n",
       " 'lice services',\n",
       " 'assisted living facilities',\n",
       " 'pediatric dentists',\n",
       " 'specialty food',\n",
       " 'fashion',\n",
       " 'plumbing',\n",
       " 'nephrologists',\n",
       " 'barre classes',\n",
       " 'hydrotherapy',\n",
       " 'makeup artists',\n",
       " 'hearing aids',\n",
       " 'heating & air conditioning/hvac',\n",
       " 'adoption services',\n",
       " 'chimney sweeps',\n",
       " 'teeth whitening',\n",
       " 'health & medical',\n",
       " 'doulas',\n",
       " 'emergency pet hospital',\n",
       " 'shopping',\n",
       " 'dental hygienists',\n",
       " 'advertising',\n",
       " 'books',\n",
       " 'threading services',\n",
       " 'it services & computer repair',\n",
       " 'nanny services',\n",
       " 'disc golf',\n",
       " 'swimwear',\n",
       " 'home organization',\n",
       " 'american (traditional)',\n",
       " 'live/raw food',\n",
       " 'music venues',\n",
       " 'music & video',\n",
       " 'home inspectors',\n",
       " 'movers',\n",
       " 'shopping centers',\n",
       " 'pilates',\n",
       " 'accessories',\n",
       " 'medical transportation',\n",
       " 'hair removal',\n",
       " 'spiritual shop',\n",
       " 'massage',\n",
       " 'translation services',\n",
       " 'criminal defense law',\n",
       " 'opera & ballet',\n",
       " 'transportation',\n",
       " 'furniture assembly',\n",
       " 'oil change stations',\n",
       " 'halfway houses',\n",
       " 'sushi bars',\n",
       " 'lingerie',\n",
       " 'party equipment rentals',\n",
       " 'cosmetic dentists',\n",
       " 'paddleboarding',\n",
       " 'cooking schools',\n",
       " 'arts & entertainment',\n",
       " 'notaries',\n",
       " 'orthodontists',\n",
       " 'animal assisted therapy',\n",
       " 'appliances & repair',\n",
       " 'customized merchandise',\n",
       " 'taekwondo',\n",
       " 'financial services',\n",
       " 'resorts',\n",
       " 'medical supplies',\n",
       " 'ayurveda',\n",
       " 'mountain biking',\n",
       " 'meditation centers',\n",
       " 'bankruptcy law',\n",
       " 'kickboxing',\n",
       " 'estheticians',\n",
       " 'outdoor gear',\n",
       " 'lawyers',\n",
       " 'candy stores',\n",
       " 'beauty & spas',\n",
       " 'sandwiches',\n",
       " 'divorce & family law',\n",
       " 'local flavor',\n",
       " 'pet hospice',\n",
       " 'contractors',\n",
       " 'web design',\n",
       " 'interval training gyms',\n",
       " 'herbal shops',\n",
       " 'horse racing',\n",
       " 'career counseling',\n",
       " 'naturopathic/holistic',\n",
       " 'sleep specialists',\n",
       " 'batting cages',\n",
       " 'retina specialists',\n",
       " 'automotive',\n",
       " 'food delivery services',\n",
       " 'photography stores & services',\n",
       " 'salad',\n",
       " 'massage schools',\n",
       " 'vape shops',\n",
       " 'tanning beds',\n",
       " 'parenting classes',\n",
       " 'reiki',\n",
       " 'local services',\n",
       " 'periodontists',\n",
       " 'nail technicians',\n",
       " 'first aid classes',\n",
       " 'cosmetics & beauty supply',\n",
       " 'sports psychologists',\n",
       " 'private investigation',\n",
       " 'child care & day care',\n",
       " 'aestheticians',\n",
       " 'appliances',\n",
       " 'tea rooms',\n",
       " 'permanent makeup',\n",
       " 'sports wear',\n",
       " 'colleges & universities',\n",
       " 'aerial fitness',\n",
       " 'restaurants',\n",
       " 'medical spas',\n",
       " 'home & garden',\n",
       " 'colonics',\n",
       " 'diners',\n",
       " 'education',\n",
       " 'security services',\n",
       " 'cosmetology schools',\n",
       " 'soccer',\n",
       " 'weight loss centers',\n",
       " 'bookstores',\n",
       " 'windshield installation & repair',\n",
       " 'iv hydration',\n",
       " 'department stores',\n",
       " 'sporting goods',\n",
       " 'skin care',\n",
       " 'real estate agents',\n",
       " 'embroidery & crochet',\n",
       " 'barbers',\n",
       " 'travel services',\n",
       " 'environmental testing',\n",
       " 'sugaring',\n",
       " 'pet training',\n",
       " 'cafes',\n",
       " 'cannabis dispensaries',\n",
       " 'mobility equipment sales & services',\n",
       " 'golf',\n",
       " 'airport shuttles',\n",
       " 'golf lessons',\n",
       " 'nail salons',\n",
       " 'leisure centers',\n",
       " 'nightlife',\n",
       " 'organic stores',\n",
       " \"men's clothing\",\n",
       " 'international grocery',\n",
       " 'churches',\n",
       " 'sports bars',\n",
       " 'massage therapy',\n",
       " \"women's clothing\",\n",
       " 'apartments',\n",
       " 'personal injury law',\n",
       " 'furniture rental',\n",
       " 'adult',\n",
       " 'pet boarding',\n",
       " 'dietitians',\n",
       " 'educational services',\n",
       " 'osteopaths',\n",
       " 'towing',\n",
       " 'pet stores',\n",
       " 'supernatural readings',\n",
       " 'gymnastics',\n",
       " 'qi gong',\n",
       " 'baby gear & furniture',\n",
       " 'psychic mediums',\n",
       " 'art tours',\n",
       " 'acupuncture',\n",
       " 'venues & event spaces',\n",
       " 'landscaping',\n",
       " 'legal services',\n",
       " 'cupcakes',\n",
       " 'holistic animal care',\n",
       " 'do-it-yourself food',\n",
       " 'amusement parks',\n",
       " 'home services',\n",
       " 'art galleries',\n",
       " 'desserts',\n",
       " 'furniture stores',\n",
       " 'dentists',\n",
       " 'mediators',\n",
       " 'employment agencies',\n",
       " 'oxygen bars',\n",
       " 'eyewear & opticians',\n",
       " 'pet sitting',\n",
       " 'cooking classes',\n",
       " 'auto repair',\n",
       " 'shoe repair',\n",
       " 'performing arts',\n",
       " 'pet groomers',\n",
       " 'coffee & tea',\n",
       " 'hair loss centers',\n",
       " 'real estate',\n",
       " 'senior centers',\n",
       " 'adult entertainment',\n",
       " 'air duct cleaning',\n",
       " 'personal shopping',\n",
       " 'recreation centers',\n",
       " 'mediterranean',\n",
       " 'hotels & travel',\n",
       " 'electronics',\n",
       " 'breakfast & brunch',\n",
       " 'fitness & instruction',\n",
       " 'television stations',\n",
       " 'data recovery',\n",
       " 'tobacco shops',\n",
       " 'concierge medicine',\n",
       " 'damage restoration']"
      ]
     },
     "execution_count": 47,
     "metadata": {},
     "output_type": "execute_result"
    }
   ],
   "source": [
    "list(set(h_list) - set(health_list))"
   ]
  },
  {
   "cell_type": "code",
   "execution_count": 48,
   "metadata": {},
   "outputs": [],
   "source": [
    "remove =  list(set(h_list) - set(health_list))\n",
    "remove.remove('health & medical')  # we need it"
   ]
  },
  {
   "cell_type": "markdown",
   "metadata": {},
   "source": [
    "## create new dataframe with unwanted items"
   ]
  },
  {
   "cell_type": "code",
   "execution_count": 49,
   "metadata": {},
   "outputs": [
    {
     "name": "stdout",
     "output_type": "stream",
     "text": [
      "CPU times: user 4.16 s, sys: 0 ns, total: 4.16 s\n",
      "Wall time: 4.15 s\n"
     ]
    }
   ],
   "source": [
    "%%time\n",
    "remove_health = health[health['categories'].apply(lambda x: pd.Series(x.split(', ')).isin(remove).any())]"
   ]
  },
  {
   "cell_type": "code",
   "execution_count": 50,
   "metadata": {},
   "outputs": [
    {
     "name": "stdout",
     "output_type": "stream",
     "text": [
      "<class 'pandas.core.frame.DataFrame'>\n",
      "Int64Index: 4065 entries, 0 to 8848\n",
      "Data columns (total 9 columns):\n",
      "attributes         3871 non-null object\n",
      "business_id        4065 non-null object\n",
      "categories         4065 non-null object\n",
      "city               4065 non-null object\n",
      "name               4065 non-null object\n",
      "review_count       4065 non-null int64\n",
      "star_avg           4065 non-null float64\n",
      "state              4065 non-null object\n",
      "categories_list    4065 non-null object\n",
      "dtypes: float64(1), int64(1), object(7)\n",
      "memory usage: 317.6+ KB\n"
     ]
    }
   ],
   "source": [
    "remove_health.info()"
   ]
  },
  {
   "cell_type": "code",
   "execution_count": 51,
   "metadata": {},
   "outputs": [
    {
     "data": {
      "text/html": [
       "<div>\n",
       "<style scoped>\n",
       "    .dataframe tbody tr th:only-of-type {\n",
       "        vertical-align: middle;\n",
       "    }\n",
       "\n",
       "    .dataframe tbody tr th {\n",
       "        vertical-align: top;\n",
       "    }\n",
       "\n",
       "    .dataframe thead th {\n",
       "        text-align: right;\n",
       "    }\n",
       "</style>\n",
       "<table border=\"1\" class=\"dataframe\">\n",
       "  <thead>\n",
       "    <tr style=\"text-align: right;\">\n",
       "      <th></th>\n",
       "      <th>attributes</th>\n",
       "      <th>business_id</th>\n",
       "      <th>categories</th>\n",
       "      <th>city</th>\n",
       "      <th>name</th>\n",
       "      <th>review_count</th>\n",
       "      <th>star_avg</th>\n",
       "      <th>state</th>\n",
       "      <th>categories_list</th>\n",
       "    </tr>\n",
       "  </thead>\n",
       "  <tbody>\n",
       "    <tr>\n",
       "      <th>0</th>\n",
       "      <td>{'AcceptsInsurance': 'False', 'BikeParking': '...</td>\n",
       "      <td>pbluh-ZZi_i8XlprfWB1nQ</td>\n",
       "      <td>health &amp; medical, hair salons, skin care, hair...</td>\n",
       "      <td>Cave Creek</td>\n",
       "      <td>Pamper Me Perfect Beauty &amp; Wellness</td>\n",
       "      <td>12</td>\n",
       "      <td>4.5</td>\n",
       "      <td>AZ</td>\n",
       "      <td>[health &amp; medical,  hair salons,  skin care,  ...</td>\n",
       "    </tr>\n",
       "    <tr>\n",
       "      <th>1</th>\n",
       "      <td>{'AcceptsInsurance': 'True', 'ByAppointmentOnl...</td>\n",
       "      <td>iTZDPTc36guXhNhoK-jwmw</td>\n",
       "      <td>health &amp; medical, physical therapy, retirement...</td>\n",
       "      <td>Gilbert</td>\n",
       "      <td>Wellsprings of Gilbert</td>\n",
       "      <td>4</td>\n",
       "      <td>5.0</td>\n",
       "      <td>AZ</td>\n",
       "      <td>[health &amp; medical,  physical therapy,  retirem...</td>\n",
       "    </tr>\n",
       "    <tr>\n",
       "      <th>2</th>\n",
       "      <td>{'AcceptsInsurance': 'False', 'BusinessAccepts...</td>\n",
       "      <td>rmGQGPpk1XZFTkz-4IGHCw</td>\n",
       "      <td>health &amp; medical, diagnostic imaging, diagnost...</td>\n",
       "      <td>Charlotte</td>\n",
       "      <td>Baby Bundle 3d/4d Ultrasound</td>\n",
       "      <td>3</td>\n",
       "      <td>4.0</td>\n",
       "      <td>NC</td>\n",
       "      <td>[health &amp; medical,  diagnostic imaging,  diagn...</td>\n",
       "    </tr>\n",
       "    <tr>\n",
       "      <th>4</th>\n",
       "      <td>{'AcceptsInsurance': 'True', 'BusinessAcceptsC...</td>\n",
       "      <td>6sBCncAPTvC_xN64M2Qarw</td>\n",
       "      <td>massage therapy, physical therapy, health &amp; me...</td>\n",
       "      <td>Henderson</td>\n",
       "      <td>Tru Physical Therapy</td>\n",
       "      <td>5</td>\n",
       "      <td>5.0</td>\n",
       "      <td>NV</td>\n",
       "      <td>[massage therapy,  physical therapy,  health &amp;...</td>\n",
       "    </tr>\n",
       "    <tr>\n",
       "      <th>6</th>\n",
       "      <td>{'BusinessAcceptsCreditCards': 'True', 'Busine...</td>\n",
       "      <td>WuiRF916fJl6aG5wC8qRAg</td>\n",
       "      <td>doctors, eyebrow services, tattoo removal, bea...</td>\n",
       "      <td>North Las Vegas</td>\n",
       "      <td>Advanced Brows</td>\n",
       "      <td>4</td>\n",
       "      <td>5.0</td>\n",
       "      <td>NV</td>\n",
       "      <td>[doctors,  eyebrow services,  tattoo removal, ...</td>\n",
       "    </tr>\n",
       "  </tbody>\n",
       "</table>\n",
       "</div>"
      ],
      "text/plain": [
       "                                          attributes             business_id  \\\n",
       "0  {'AcceptsInsurance': 'False', 'BikeParking': '...  pbluh-ZZi_i8XlprfWB1nQ   \n",
       "1  {'AcceptsInsurance': 'True', 'ByAppointmentOnl...  iTZDPTc36guXhNhoK-jwmw   \n",
       "2  {'AcceptsInsurance': 'False', 'BusinessAccepts...  rmGQGPpk1XZFTkz-4IGHCw   \n",
       "4  {'AcceptsInsurance': 'True', 'BusinessAcceptsC...  6sBCncAPTvC_xN64M2Qarw   \n",
       "6  {'BusinessAcceptsCreditCards': 'True', 'Busine...  WuiRF916fJl6aG5wC8qRAg   \n",
       "\n",
       "                                          categories             city  \\\n",
       "0  health & medical, hair salons, skin care, hair...       Cave Creek   \n",
       "1  health & medical, physical therapy, retirement...          Gilbert   \n",
       "2  health & medical, diagnostic imaging, diagnost...        Charlotte   \n",
       "4  massage therapy, physical therapy, health & me...        Henderson   \n",
       "6  doctors, eyebrow services, tattoo removal, bea...  North Las Vegas   \n",
       "\n",
       "                                  name  review_count  star_avg state  \\\n",
       "0  Pamper Me Perfect Beauty & Wellness            12       4.5    AZ   \n",
       "1               Wellsprings of Gilbert             4       5.0    AZ   \n",
       "2         Baby Bundle 3d/4d Ultrasound             3       4.0    NC   \n",
       "4                 Tru Physical Therapy             5       5.0    NV   \n",
       "6                       Advanced Brows             4       5.0    NV   \n",
       "\n",
       "                                     categories_list  \n",
       "0  [health & medical,  hair salons,  skin care,  ...  \n",
       "1  [health & medical,  physical therapy,  retirem...  \n",
       "2  [health & medical,  diagnostic imaging,  diagn...  \n",
       "4  [massage therapy,  physical therapy,  health &...  \n",
       "6  [doctors,  eyebrow services,  tattoo removal, ...  "
      ]
     },
     "execution_count": 51,
     "metadata": {},
     "output_type": "execute_result"
    }
   ],
   "source": [
    "remove_health.head()"
   ]
  },
  {
   "cell_type": "markdown",
   "metadata": {},
   "source": [
    "## remove rows bases on new dataframe\n",
    "- remove base on idx"
   ]
  },
  {
   "cell_type": "code",
   "execution_count": 52,
   "metadata": {},
   "outputs": [],
   "source": [
    "health.drop(remove_health.index, inplace=True)  # we are removing rows from health that are in remove_health by its index"
   ]
  },
  {
   "cell_type": "code",
   "execution_count": 53,
   "metadata": {},
   "outputs": [
    {
     "name": "stdout",
     "output_type": "stream",
     "text": [
      "<class 'pandas.core.frame.DataFrame'>\n",
      "RangeIndex: 4785 entries, 0 to 4784\n",
      "Data columns (total 9 columns):\n",
      "attributes         4313 non-null object\n",
      "business_id        4785 non-null object\n",
      "categories         4785 non-null object\n",
      "city               4785 non-null object\n",
      "name               4785 non-null object\n",
      "review_count       4785 non-null int64\n",
      "star_avg           4785 non-null float64\n",
      "state              4785 non-null object\n",
      "categories_list    4785 non-null object\n",
      "dtypes: float64(1), int64(1), object(7)\n",
      "memory usage: 336.5+ KB\n"
     ]
    }
   ],
   "source": [
    "health = health.reset_index(drop=True)  # reset index\n",
    "health.info()"
   ]
  },
  {
   "cell_type": "code",
   "execution_count": 54,
   "metadata": {},
   "outputs": [
    {
     "data": {
      "text/html": [
       "<div>\n",
       "<style scoped>\n",
       "    .dataframe tbody tr th:only-of-type {\n",
       "        vertical-align: middle;\n",
       "    }\n",
       "\n",
       "    .dataframe tbody tr th {\n",
       "        vertical-align: top;\n",
       "    }\n",
       "\n",
       "    .dataframe thead th {\n",
       "        text-align: right;\n",
       "    }\n",
       "</style>\n",
       "<table border=\"1\" class=\"dataframe\">\n",
       "  <thead>\n",
       "    <tr style=\"text-align: right;\">\n",
       "      <th></th>\n",
       "      <th>attributes</th>\n",
       "      <th>business_id</th>\n",
       "      <th>categories</th>\n",
       "      <th>city</th>\n",
       "      <th>name</th>\n",
       "      <th>review_count</th>\n",
       "      <th>star_avg</th>\n",
       "      <th>state</th>\n",
       "      <th>categories_list</th>\n",
       "    </tr>\n",
       "  </thead>\n",
       "  <tbody>\n",
       "    <tr>\n",
       "      <th>0</th>\n",
       "      <td>{'AcceptsInsurance': 'True', 'BusinessAcceptsC...</td>\n",
       "      <td>y-4xTZNKVm8mAZpiXMS5ZA</td>\n",
       "      <td>urologists, doctors, health &amp; medical</td>\n",
       "      <td>Gilbert</td>\n",
       "      <td>Lauren Byrne, MD</td>\n",
       "      <td>9</td>\n",
       "      <td>2.5</td>\n",
       "      <td>AZ</td>\n",
       "      <td>[urologists,  doctors,  health &amp; medical]</td>\n",
       "    </tr>\n",
       "    <tr>\n",
       "      <th>1</th>\n",
       "      <td>{'ByAppointmentOnly': 'True'}</td>\n",
       "      <td>STcSSjPOZ0FWtjvjqw99Dg</td>\n",
       "      <td>doctors, orthopedists, health &amp; medical</td>\n",
       "      <td>Henderson</td>\n",
       "      <td>Black Mountain Orthopaedics</td>\n",
       "      <td>5</td>\n",
       "      <td>3.5</td>\n",
       "      <td>NV</td>\n",
       "      <td>[doctors,  orthopedists,  health &amp; medical]</td>\n",
       "    </tr>\n",
       "    <tr>\n",
       "      <th>2</th>\n",
       "      <td>{'AcceptsInsurance': 'True', 'BusinessAcceptsC...</td>\n",
       "      <td>WnRtn80rdsWOa2nWZ6G1iA</td>\n",
       "      <td>obstetricians &amp; gynecologists, health &amp; medica...</td>\n",
       "      <td>Phoenix</td>\n",
       "      <td>Central Phoenix Women's Health Care</td>\n",
       "      <td>34</td>\n",
       "      <td>3.5</td>\n",
       "      <td>AZ</td>\n",
       "      <td>[obstetricians &amp; gynecologists,  health &amp; medi...</td>\n",
       "    </tr>\n",
       "    <tr>\n",
       "      <th>3</th>\n",
       "      <td>None</td>\n",
       "      <td>l3DXx5PGPac-LdS0an4wQA</td>\n",
       "      <td>health &amp; medical, physical therapy</td>\n",
       "      <td>Phoenix</td>\n",
       "      <td>Apex Physical Therapy</td>\n",
       "      <td>8</td>\n",
       "      <td>3.5</td>\n",
       "      <td>AZ</td>\n",
       "      <td>[health &amp; medical,  physical therapy]</td>\n",
       "    </tr>\n",
       "    <tr>\n",
       "      <th>4</th>\n",
       "      <td>None</td>\n",
       "      <td>aFJYPxKQbAt-0iBtOPNpuQ</td>\n",
       "      <td>diagnostic services, health &amp; medical</td>\n",
       "      <td>Litchfield Park</td>\n",
       "      <td>Labcorp</td>\n",
       "      <td>6</td>\n",
       "      <td>1.5</td>\n",
       "      <td>AZ</td>\n",
       "      <td>[diagnostic services,  health &amp; medical]</td>\n",
       "    </tr>\n",
       "  </tbody>\n",
       "</table>\n",
       "</div>"
      ],
      "text/plain": [
       "                                          attributes             business_id  \\\n",
       "0  {'AcceptsInsurance': 'True', 'BusinessAcceptsC...  y-4xTZNKVm8mAZpiXMS5ZA   \n",
       "1                      {'ByAppointmentOnly': 'True'}  STcSSjPOZ0FWtjvjqw99Dg   \n",
       "2  {'AcceptsInsurance': 'True', 'BusinessAcceptsC...  WnRtn80rdsWOa2nWZ6G1iA   \n",
       "3                                               None  l3DXx5PGPac-LdS0an4wQA   \n",
       "4                                               None  aFJYPxKQbAt-0iBtOPNpuQ   \n",
       "\n",
       "                                          categories             city  \\\n",
       "0              urologists, doctors, health & medical          Gilbert   \n",
       "1            doctors, orthopedists, health & medical        Henderson   \n",
       "2  obstetricians & gynecologists, health & medica...          Phoenix   \n",
       "3                 health & medical, physical therapy          Phoenix   \n",
       "4              diagnostic services, health & medical  Litchfield Park   \n",
       "\n",
       "                                  name  review_count  star_avg state  \\\n",
       "0                     Lauren Byrne, MD             9       2.5    AZ   \n",
       "1          Black Mountain Orthopaedics             5       3.5    NV   \n",
       "2  Central Phoenix Women's Health Care            34       3.5    AZ   \n",
       "3                Apex Physical Therapy             8       3.5    AZ   \n",
       "4                              Labcorp             6       1.5    AZ   \n",
       "\n",
       "                                     categories_list  \n",
       "0          [urologists,  doctors,  health & medical]  \n",
       "1        [doctors,  orthopedists,  health & medical]  \n",
       "2  [obstetricians & gynecologists,  health & medi...  \n",
       "3              [health & medical,  physical therapy]  \n",
       "4           [diagnostic services,  health & medical]  "
      ]
     },
     "execution_count": 54,
     "metadata": {},
     "output_type": "execute_result"
    }
   ],
   "source": [
    "health.head()"
   ]
  },
  {
   "cell_type": "markdown",
   "metadata": {},
   "source": [
    "## Count categories one last time"
   ]
  },
  {
   "cell_type": "code",
   "execution_count": 55,
   "metadata": {},
   "outputs": [
    {
     "name": "stdout",
     "output_type": "stream",
     "text": [
      "CPU times: user 219 ms, sys: 0 ns, total: 219 ms\n",
      "Wall time: 229 ms\n"
     ]
    }
   ],
   "source": [
    "%%time\n",
    "# make sure that categories_list shows up as a list not as a string of lists\n",
    "counts = dict()\n",
    "for i in range(len(health.categories_list)):\n",
    "    for j in health.categories_list[i]:\n",
    "        j= j.lstrip()\n",
    "        counts[j] = counts.get(j, 0) + 1\n",
    "        \n",
    "cat_reviews3 = pd.DataFrame.from_dict(counts,columns=['total_reviews'],orient='index')\n",
    "cat_reviews3.sort_values(by=['total_reviews'], ascending=False, inplace=True)"
   ]
  },
  {
   "cell_type": "code",
   "execution_count": 56,
   "metadata": {},
   "outputs": [
    {
     "name": "stdout",
     "output_type": "stream",
     "text": [
      "<class 'pandas.core.frame.DataFrame'>\n",
      "Index: 75 entries, health & medical to otologists\n",
      "Data columns (total 1 columns):\n",
      "total_reviews    75 non-null int64\n",
      "dtypes: int64(1)\n",
      "memory usage: 1.2+ KB\n"
     ]
    }
   ],
   "source": [
    "cat_reviews3.info()"
   ]
  },
  {
   "cell_type": "code",
   "execution_count": 57,
   "metadata": {},
   "outputs": [
    {
     "data": {
      "text/html": [
       "<div>\n",
       "<style scoped>\n",
       "    .dataframe tbody tr th:only-of-type {\n",
       "        vertical-align: middle;\n",
       "    }\n",
       "\n",
       "    .dataframe tbody tr th {\n",
       "        vertical-align: top;\n",
       "    }\n",
       "\n",
       "    .dataframe thead th {\n",
       "        text-align: right;\n",
       "    }\n",
       "</style>\n",
       "<table border=\"1\" class=\"dataframe\">\n",
       "  <thead>\n",
       "    <tr style=\"text-align: right;\">\n",
       "      <th></th>\n",
       "      <th>total_reviews</th>\n",
       "    </tr>\n",
       "  </thead>\n",
       "  <tbody>\n",
       "    <tr>\n",
       "      <th>health &amp; medical</th>\n",
       "      <td>4785</td>\n",
       "    </tr>\n",
       "    <tr>\n",
       "      <th>doctors</th>\n",
       "      <td>3133</td>\n",
       "    </tr>\n",
       "    <tr>\n",
       "      <th>medical centers</th>\n",
       "      <td>795</td>\n",
       "    </tr>\n",
       "    <tr>\n",
       "      <th>chiropractors</th>\n",
       "      <td>557</td>\n",
       "    </tr>\n",
       "    <tr>\n",
       "      <th>family practice</th>\n",
       "      <td>492</td>\n",
       "    </tr>\n",
       "    <tr>\n",
       "      <th>urgent care</th>\n",
       "      <td>347</td>\n",
       "    </tr>\n",
       "    <tr>\n",
       "      <th>obstetricians &amp; gynecologists</th>\n",
       "      <td>345</td>\n",
       "    </tr>\n",
       "    <tr>\n",
       "      <th>diagnostic services</th>\n",
       "      <td>344</td>\n",
       "    </tr>\n",
       "    <tr>\n",
       "      <th>internal medicine</th>\n",
       "      <td>299</td>\n",
       "    </tr>\n",
       "    <tr>\n",
       "      <th>physical therapy</th>\n",
       "      <td>279</td>\n",
       "    </tr>\n",
       "    <tr>\n",
       "      <th>hospitals</th>\n",
       "      <td>279</td>\n",
       "    </tr>\n",
       "    <tr>\n",
       "      <th>pediatricians</th>\n",
       "      <td>276</td>\n",
       "    </tr>\n",
       "  </tbody>\n",
       "</table>\n",
       "</div>"
      ],
      "text/plain": [
       "                               total_reviews\n",
       "health & medical                        4785\n",
       "doctors                                 3133\n",
       "medical centers                          795\n",
       "chiropractors                            557\n",
       "family practice                          492\n",
       "urgent care                              347\n",
       "obstetricians & gynecologists            345\n",
       "diagnostic services                      344\n",
       "internal medicine                        299\n",
       "physical therapy                         279\n",
       "hospitals                                279\n",
       "pediatricians                            276"
      ]
     },
     "execution_count": 57,
     "metadata": {},
     "output_type": "execute_result"
    }
   ],
   "source": [
    "cat_reviews3[:12]"
   ]
  },
  {
   "cell_type": "code",
   "execution_count": 58,
   "metadata": {},
   "outputs": [
    {
     "data": {
      "text/html": [
       "<div>\n",
       "<style scoped>\n",
       "    .dataframe tbody tr th:only-of-type {\n",
       "        vertical-align: middle;\n",
       "    }\n",
       "\n",
       "    .dataframe tbody tr th {\n",
       "        vertical-align: top;\n",
       "    }\n",
       "\n",
       "    .dataframe thead th {\n",
       "        text-align: right;\n",
       "    }\n",
       "</style>\n",
       "<table border=\"1\" class=\"dataframe\">\n",
       "  <thead>\n",
       "    <tr style=\"text-align: right;\">\n",
       "      <th></th>\n",
       "      <th>total_reviews</th>\n",
       "    </tr>\n",
       "  </thead>\n",
       "  <tbody>\n",
       "    <tr>\n",
       "      <th>medical centers</th>\n",
       "      <td>795</td>\n",
       "    </tr>\n",
       "    <tr>\n",
       "      <th>chiropractors</th>\n",
       "      <td>557</td>\n",
       "    </tr>\n",
       "    <tr>\n",
       "      <th>family practice</th>\n",
       "      <td>492</td>\n",
       "    </tr>\n",
       "    <tr>\n",
       "      <th>urgent care</th>\n",
       "      <td>347</td>\n",
       "    </tr>\n",
       "    <tr>\n",
       "      <th>obstetricians &amp; gynecologists</th>\n",
       "      <td>345</td>\n",
       "    </tr>\n",
       "    <tr>\n",
       "      <th>diagnostic services</th>\n",
       "      <td>344</td>\n",
       "    </tr>\n",
       "    <tr>\n",
       "      <th>internal medicine</th>\n",
       "      <td>299</td>\n",
       "    </tr>\n",
       "    <tr>\n",
       "      <th>physical therapy</th>\n",
       "      <td>279</td>\n",
       "    </tr>\n",
       "    <tr>\n",
       "      <th>hospitals</th>\n",
       "      <td>279</td>\n",
       "    </tr>\n",
       "    <tr>\n",
       "      <th>pediatricians</th>\n",
       "      <td>276</td>\n",
       "    </tr>\n",
       "  </tbody>\n",
       "</table>\n",
       "</div>"
      ],
      "text/plain": [
       "                               total_reviews\n",
       "medical centers                          795\n",
       "chiropractors                            557\n",
       "family practice                          492\n",
       "urgent care                              347\n",
       "obstetricians & gynecologists            345\n",
       "diagnostic services                      344\n",
       "internal medicine                        299\n",
       "physical therapy                         279\n",
       "hospitals                                279\n",
       "pediatricians                            276"
      ]
     },
     "execution_count": 58,
     "metadata": {},
     "output_type": "execute_result"
    }
   ],
   "source": [
    "cat_reviews3[2:12]"
   ]
  },
  {
   "cell_type": "code",
   "execution_count": null,
   "metadata": {},
   "outputs": [],
   "source": []
  },
  {
   "cell_type": "code",
   "execution_count": 59,
   "metadata": {},
   "outputs": [
    {
     "data": {
      "text/plain": [
       "4013"
      ]
     },
     "execution_count": 59,
     "metadata": {},
     "output_type": "execute_result"
    }
   ],
   "source": [
    "cat_reviews3[2:12].values.sum()"
   ]
  },
  {
   "cell_type": "markdown",
   "metadata": {},
   "source": [
    "## Categorise business"
   ]
  },
  {
   "cell_type": "code",
   "execution_count": 60,
   "metadata": {},
   "outputs": [],
   "source": [
    "# locations\n",
    "mc = health.categories.str.contains('medical centers') \n",
    "ho = health.categories.str.contains('hospitals')\n",
    "uc = health.categories.str.contains('urgent care')\n",
    "\n",
    "# specialist\n",
    "ch = health.categories.str.contains('chiropractors')\n",
    "fp = health.categories.str.contains('family practice')\n",
    "ob = health.categories.str.contains('obstetricians & gynecologists')\n",
    "ds = health.categories.str.contains('diagnostic services')\n",
    "im = health.categories.str.contains('internal medicine')\n",
    "pt = health.categories.str.contains('physical therapy')\n",
    "pd = health.categories.str.contains('pediatricians')\n",
    "mh = health.categories.str.contains('counseling & mental health')# counseling & mental health\t"
   ]
  },
  {
   "cell_type": "markdown",
   "metadata": {},
   "source": [
    "# Create dataframes\n",
    "- specialist :\n",
    "- locations"
   ]
  },
  {
   "cell_type": "code",
   "execution_count": 61,
   "metadata": {},
   "outputs": [],
   "source": [
    "specialist = health[ch|fp|ob|ds|im|pt|pd|mh]\n",
    "locations = health[mc|ho|uc]"
   ]
  },
  {
   "cell_type": "code",
   "execution_count": 62,
   "metadata": {},
   "outputs": [
    {
     "name": "stdout",
     "output_type": "stream",
     "text": [
      "<class 'pandas.core.frame.DataFrame'>\n",
      "Int64Index: 2473 entries, 2 to 4784\n",
      "Data columns (total 9 columns):\n",
      "attributes         2262 non-null object\n",
      "business_id        2473 non-null object\n",
      "categories         2473 non-null object\n",
      "city               2473 non-null object\n",
      "name               2473 non-null object\n",
      "review_count       2473 non-null int64\n",
      "star_avg           2473 non-null float64\n",
      "state              2473 non-null object\n",
      "categories_list    2473 non-null object\n",
      "dtypes: float64(1), int64(1), object(7)\n",
      "memory usage: 193.2+ KB\n"
     ]
    }
   ],
   "source": [
    "specialist.info()"
   ]
  },
  {
   "cell_type": "code",
   "execution_count": 63,
   "metadata": {},
   "outputs": [
    {
     "name": "stdout",
     "output_type": "stream",
     "text": [
      "<class 'pandas.core.frame.DataFrame'>\n",
      "Int64Index: 1162 entries, 6 to 4779\n",
      "Data columns (total 9 columns):\n",
      "attributes         1068 non-null object\n",
      "business_id        1162 non-null object\n",
      "categories         1162 non-null object\n",
      "city               1162 non-null object\n",
      "name               1162 non-null object\n",
      "review_count       1162 non-null int64\n",
      "star_avg           1162 non-null float64\n",
      "state              1162 non-null object\n",
      "categories_list    1162 non-null object\n",
      "dtypes: float64(1), int64(1), object(7)\n",
      "memory usage: 90.8+ KB\n"
     ]
    }
   ],
   "source": [
    "locations.info()"
   ]
  },
  {
   "cell_type": "code",
   "execution_count": 64,
   "metadata": {},
   "outputs": [],
   "source": [
    "clean_locations = locations[~locations.business_id.isin(specialist.business_id.unique())]  # remove business that are in the specialist dataframe"
   ]
  },
  {
   "cell_type": "code",
   "execution_count": 65,
   "metadata": {},
   "outputs": [],
   "source": [
    "# clean_locations = clean_locations.reset_index(drop=True)  # reset index\n",
    "# clean_locations.info()\n"
   ]
  },
  {
   "cell_type": "code",
   "execution_count": 66,
   "metadata": {},
   "outputs": [],
   "source": [
    "# specialist = specialist.reset_index(drop=True)  # reset index\n",
    "# specialist.info()"
   ]
  },
  {
   "cell_type": "code",
   "execution_count": 67,
   "metadata": {},
   "outputs": [],
   "source": [
    "# locations\n",
    "lmc = clean_locations.categories.str.contains('medical centers') \n",
    "lho = clean_locations.categories.str.contains('hospitals')\n",
    "luc = clean_locations.categories.str.contains('urgent care')\n",
    "\n",
    "# specialist\n",
    "sch = specialist.categories.str.contains('chiropractors')\n",
    "sfp = specialist.categories.str.contains('family practice')\n",
    "sob = specialist.categories.str.contains('obstetricians & gynecologists')\n",
    "sds = specialist.categories.str.contains('diagnostic services')\n",
    "sim = specialist.categories.str.contains('internal medicine')\n",
    "spt = specialist.categories.str.contains('physical therapy')\n",
    "spd = specialist.categories.str.contains('pediatricians')\n",
    "smh = specialist.categories.str.contains('counseling & mental health')# counseling & mental health\t"
   ]
  },
  {
   "cell_type": "code",
   "execution_count": 68,
   "metadata": {},
   "outputs": [],
   "source": [
    "medical_center = clean_locations[lmc]\n",
    "hospital = clean_locations[lho]\n",
    "urgent_care = clean_locations[luc]"
   ]
  },
  {
   "cell_type": "code",
   "execution_count": 69,
   "metadata": {},
   "outputs": [],
   "source": [
    "chiropractors = specialist[sch]\n",
    "family_practice =  specialist[sfp]\n",
    "obstetrician = specialist[sob]\n",
    "diagnostic_service = specialist[sds]\n",
    "internal_medicine = specialist[spd]\n",
    "physical_therapy = specialist[spt]\n",
    "pediatricians = specialist[spd]\n",
    "mental_health = specialist[smh]"
   ]
  },
  {
   "cell_type": "code",
   "execution_count": null,
   "metadata": {},
   "outputs": [],
   "source": []
  },
  {
   "cell_type": "code",
   "execution_count": null,
   "metadata": {},
   "outputs": [],
   "source": []
  },
  {
   "cell_type": "code",
   "execution_count": 70,
   "metadata": {},
   "outputs": [],
   "source": [
    "chiropractors['health_business'] = 'chiropractors'\n",
    "family_practice['health_business'] = 'family practice'\n",
    "obstetrician['health_business'] = 'obstetrician'\n",
    "diagnostic_service['health_business'] = 'diagnostic service'\n",
    "internal_medicine['health_business'] = 'internal medicine'\n",
    "physical_therapy['health_business'] = 'physical therapy'\n",
    "pediatricians['health_business'] = 'pediatricians'\n",
    "mental_health['health_business'] = 'mental health'\n",
    "medical_center['health_business'] = 'hospital'\n",
    "hospital['health_business'] = 'hospital'\n",
    "urgent_care['health_business'] = 'urgent care'"
   ]
  },
  {
   "cell_type": "code",
   "execution_count": 71,
   "metadata": {},
   "outputs": [],
   "source": [
    "frames = [urgent_care,\n",
    "          hospital,\n",
    "          medical_center,\n",
    "          mental_health,\n",
    "          pediatricians,\n",
    "          physical_therapy,\n",
    "          internal_medicine,\n",
    "          diagnostic_service,\n",
    "          obstetrician,\n",
    "         family_practice,\n",
    "          chiropractors]"
   ]
  },
  {
   "cell_type": "code",
   "execution_count": 74,
   "metadata": {},
   "outputs": [],
   "source": [
    "final = pd.concat(frames, ignore_index=True)"
   ]
  },
  {
   "cell_type": "code",
   "execution_count": 75,
   "metadata": {},
   "outputs": [
    {
     "name": "stdout",
     "output_type": "stream",
     "text": [
      "<class 'pandas.core.frame.DataFrame'>\n",
      "RangeIndex: 3712 entries, 0 to 3711\n",
      "Data columns (total 10 columns):\n",
      "attributes         3416 non-null object\n",
      "business_id        3712 non-null object\n",
      "categories         3712 non-null object\n",
      "city               3712 non-null object\n",
      "name               3712 non-null object\n",
      "review_count       3712 non-null int64\n",
      "star_avg           3712 non-null float64\n",
      "state              3712 non-null object\n",
      "categories_list    3712 non-null object\n",
      "health_business    3712 non-null object\n",
      "dtypes: float64(1), int64(1), object(8)\n",
      "memory usage: 290.1+ KB\n"
     ]
    }
   ],
   "source": [
    "final.info()"
   ]
  },
  {
   "cell_type": "code",
   "execution_count": 76,
   "metadata": {},
   "outputs": [
    {
     "data": {
      "text/html": [
       "<div>\n",
       "<style scoped>\n",
       "    .dataframe tbody tr th:only-of-type {\n",
       "        vertical-align: middle;\n",
       "    }\n",
       "\n",
       "    .dataframe tbody tr th {\n",
       "        vertical-align: top;\n",
       "    }\n",
       "\n",
       "    .dataframe thead th {\n",
       "        text-align: right;\n",
       "    }\n",
       "</style>\n",
       "<table border=\"1\" class=\"dataframe\">\n",
       "  <thead>\n",
       "    <tr style=\"text-align: right;\">\n",
       "      <th></th>\n",
       "      <th>attributes</th>\n",
       "      <th>business_id</th>\n",
       "      <th>categories</th>\n",
       "      <th>city</th>\n",
       "      <th>name</th>\n",
       "      <th>review_count</th>\n",
       "      <th>star_avg</th>\n",
       "      <th>state</th>\n",
       "      <th>categories_list</th>\n",
       "      <th>health_business</th>\n",
       "    </tr>\n",
       "  </thead>\n",
       "  <tbody>\n",
       "    <tr>\n",
       "      <th>0</th>\n",
       "      <td>{'AcceptsInsurance': 'True', 'BusinessAcceptsC...</td>\n",
       "      <td>2hpi6pXIFf0taDIYCoNIuw</td>\n",
       "      <td>health &amp; medical, urgent care</td>\n",
       "      <td>Las Vegas</td>\n",
       "      <td>Healthcare Partner</td>\n",
       "      <td>80</td>\n",
       "      <td>2.5</td>\n",
       "      <td>NV</td>\n",
       "      <td>[health &amp; medical,  urgent care]</td>\n",
       "      <td>urgent care</td>\n",
       "    </tr>\n",
       "    <tr>\n",
       "      <th>1</th>\n",
       "      <td>{'AcceptsInsurance': 'True', 'BusinessAcceptsC...</td>\n",
       "      <td>EXS2vZ60ad1LGfJKBdwiWg</td>\n",
       "      <td>doctors, health &amp; medical, urgent care, medica...</td>\n",
       "      <td>Scottsdale</td>\n",
       "      <td>FastMed Urgent Care</td>\n",
       "      <td>122</td>\n",
       "      <td>2.5</td>\n",
       "      <td>AZ</td>\n",
       "      <td>[doctors,  health &amp; medical,  urgent care,  me...</td>\n",
       "      <td>urgent care</td>\n",
       "    </tr>\n",
       "    <tr>\n",
       "      <th>2</th>\n",
       "      <td>{'AcceptsInsurance': 'True', 'BusinessAcceptsC...</td>\n",
       "      <td>JdzoXkjb4uHLTEkiaSZRuQ</td>\n",
       "      <td>doctors, urgent care, health &amp; medical</td>\n",
       "      <td>Goodyear</td>\n",
       "      <td>Banner Urgent Care</td>\n",
       "      <td>27</td>\n",
       "      <td>3.0</td>\n",
       "      <td>AZ</td>\n",
       "      <td>[doctors,  urgent care,  health &amp; medical]</td>\n",
       "      <td>urgent care</td>\n",
       "    </tr>\n",
       "    <tr>\n",
       "      <th>3</th>\n",
       "      <td>{'AcceptsInsurance': 'True', 'BusinessAcceptsC...</td>\n",
       "      <td>3_dwAO5gWSX0zNtJ7xAB9w</td>\n",
       "      <td>hospitals, health &amp; medical, urgent care, doctors</td>\n",
       "      <td>Anthem</td>\n",
       "      <td>HonorHealth Immediate Care - Gavilan Peak</td>\n",
       "      <td>20</td>\n",
       "      <td>2.0</td>\n",
       "      <td>AZ</td>\n",
       "      <td>[hospitals,  health &amp; medical,  urgent care,  ...</td>\n",
       "      <td>urgent care</td>\n",
       "    </tr>\n",
       "    <tr>\n",
       "      <th>4</th>\n",
       "      <td>{'BusinessAcceptsCreditCards': 'True', 'ByAppo...</td>\n",
       "      <td>SPnKdy0k9npg8qonOQpaSw</td>\n",
       "      <td>urgent care, health &amp; medical</td>\n",
       "      <td>Indian Land</td>\n",
       "      <td>Doctors Care -  Indian Land</td>\n",
       "      <td>4</td>\n",
       "      <td>1.0</td>\n",
       "      <td>SC</td>\n",
       "      <td>[urgent care,  health &amp; medical]</td>\n",
       "      <td>urgent care</td>\n",
       "    </tr>\n",
       "  </tbody>\n",
       "</table>\n",
       "</div>"
      ],
      "text/plain": [
       "                                          attributes             business_id  \\\n",
       "0  {'AcceptsInsurance': 'True', 'BusinessAcceptsC...  2hpi6pXIFf0taDIYCoNIuw   \n",
       "1  {'AcceptsInsurance': 'True', 'BusinessAcceptsC...  EXS2vZ60ad1LGfJKBdwiWg   \n",
       "2  {'AcceptsInsurance': 'True', 'BusinessAcceptsC...  JdzoXkjb4uHLTEkiaSZRuQ   \n",
       "3  {'AcceptsInsurance': 'True', 'BusinessAcceptsC...  3_dwAO5gWSX0zNtJ7xAB9w   \n",
       "4  {'BusinessAcceptsCreditCards': 'True', 'ByAppo...  SPnKdy0k9npg8qonOQpaSw   \n",
       "\n",
       "                                          categories         city  \\\n",
       "0                      health & medical, urgent care    Las Vegas   \n",
       "1  doctors, health & medical, urgent care, medica...   Scottsdale   \n",
       "2             doctors, urgent care, health & medical     Goodyear   \n",
       "3  hospitals, health & medical, urgent care, doctors       Anthem   \n",
       "4                      urgent care, health & medical  Indian Land   \n",
       "\n",
       "                                        name  review_count  star_avg state  \\\n",
       "0                         Healthcare Partner            80       2.5    NV   \n",
       "1                        FastMed Urgent Care           122       2.5    AZ   \n",
       "2                         Banner Urgent Care            27       3.0    AZ   \n",
       "3  HonorHealth Immediate Care - Gavilan Peak            20       2.0    AZ   \n",
       "4                Doctors Care -  Indian Land             4       1.0    SC   \n",
       "\n",
       "                                     categories_list health_business  \n",
       "0                   [health & medical,  urgent care]     urgent care  \n",
       "1  [doctors,  health & medical,  urgent care,  me...     urgent care  \n",
       "2         [doctors,  urgent care,  health & medical]     urgent care  \n",
       "3  [hospitals,  health & medical,  urgent care,  ...     urgent care  \n",
       "4                   [urgent care,  health & medical]     urgent care  "
      ]
     },
     "execution_count": 76,
     "metadata": {},
     "output_type": "execute_result"
    }
   ],
   "source": [
    "final.head()"
   ]
  },
  {
   "cell_type": "code",
   "execution_count": 77,
   "metadata": {},
   "outputs": [
    {
     "data": {
      "text/plain": [
       "hospital              729\n",
       "chiropractors         557\n",
       "family practice       492\n",
       "obstetrician          345\n",
       "diagnostic service    344\n",
       "physical therapy      279\n",
       "internal medicine     276\n",
       "pediatricians         276\n",
       "urgent care           241\n",
       "mental health         173\n",
       "Name: health_business, dtype: int64"
      ]
     },
     "execution_count": 77,
     "metadata": {},
     "output_type": "execute_result"
    }
   ],
   "source": [
    "final.health_business.value_counts()"
   ]
  },
  {
   "cell_type": "code",
   "execution_count": 78,
   "metadata": {},
   "outputs": [
    {
     "data": {
      "text/html": [
       "<div>\n",
       "<style scoped>\n",
       "    .dataframe tbody tr th:only-of-type {\n",
       "        vertical-align: middle;\n",
       "    }\n",
       "\n",
       "    .dataframe tbody tr th {\n",
       "        vertical-align: top;\n",
       "    }\n",
       "\n",
       "    .dataframe thead th {\n",
       "        text-align: right;\n",
       "    }\n",
       "</style>\n",
       "<table border=\"1\" class=\"dataframe\">\n",
       "  <thead>\n",
       "    <tr style=\"text-align: right;\">\n",
       "      <th></th>\n",
       "      <th>attributes</th>\n",
       "      <th>business_id</th>\n",
       "      <th>categories</th>\n",
       "      <th>city</th>\n",
       "      <th>name</th>\n",
       "      <th>review_count</th>\n",
       "      <th>star_avg</th>\n",
       "      <th>state</th>\n",
       "      <th>categories_list</th>\n",
       "      <th>health_business</th>\n",
       "    </tr>\n",
       "  </thead>\n",
       "  <tbody>\n",
       "    <tr>\n",
       "      <th>0</th>\n",
       "      <td>{'AcceptsInsurance': 'True', 'BusinessAcceptsC...</td>\n",
       "      <td>2hpi6pXIFf0taDIYCoNIuw</td>\n",
       "      <td>health &amp; medical, urgent care</td>\n",
       "      <td>Las Vegas</td>\n",
       "      <td>Healthcare Partner</td>\n",
       "      <td>80</td>\n",
       "      <td>2.5</td>\n",
       "      <td>NV</td>\n",
       "      <td>[health &amp; medical,  urgent care]</td>\n",
       "      <td>urgent care</td>\n",
       "    </tr>\n",
       "    <tr>\n",
       "      <th>1</th>\n",
       "      <td>{'AcceptsInsurance': 'True', 'BusinessAcceptsC...</td>\n",
       "      <td>EXS2vZ60ad1LGfJKBdwiWg</td>\n",
       "      <td>doctors, health &amp; medical, urgent care, medica...</td>\n",
       "      <td>Scottsdale</td>\n",
       "      <td>FastMed Urgent Care</td>\n",
       "      <td>122</td>\n",
       "      <td>2.5</td>\n",
       "      <td>AZ</td>\n",
       "      <td>[doctors,  health &amp; medical,  urgent care,  me...</td>\n",
       "      <td>urgent care</td>\n",
       "    </tr>\n",
       "    <tr>\n",
       "      <th>2</th>\n",
       "      <td>{'AcceptsInsurance': 'True', 'BusinessAcceptsC...</td>\n",
       "      <td>JdzoXkjb4uHLTEkiaSZRuQ</td>\n",
       "      <td>doctors, urgent care, health &amp; medical</td>\n",
       "      <td>Goodyear</td>\n",
       "      <td>Banner Urgent Care</td>\n",
       "      <td>27</td>\n",
       "      <td>3.0</td>\n",
       "      <td>AZ</td>\n",
       "      <td>[doctors,  urgent care,  health &amp; medical]</td>\n",
       "      <td>urgent care</td>\n",
       "    </tr>\n",
       "    <tr>\n",
       "      <th>3</th>\n",
       "      <td>{'AcceptsInsurance': 'True', 'BusinessAcceptsC...</td>\n",
       "      <td>3_dwAO5gWSX0zNtJ7xAB9w</td>\n",
       "      <td>hospitals, health &amp; medical, urgent care, doctors</td>\n",
       "      <td>Anthem</td>\n",
       "      <td>HonorHealth Immediate Care - Gavilan Peak</td>\n",
       "      <td>20</td>\n",
       "      <td>2.0</td>\n",
       "      <td>AZ</td>\n",
       "      <td>[hospitals,  health &amp; medical,  urgent care,  ...</td>\n",
       "      <td>urgent care</td>\n",
       "    </tr>\n",
       "    <tr>\n",
       "      <th>4</th>\n",
       "      <td>{'BusinessAcceptsCreditCards': 'True', 'ByAppo...</td>\n",
       "      <td>SPnKdy0k9npg8qonOQpaSw</td>\n",
       "      <td>urgent care, health &amp; medical</td>\n",
       "      <td>Indian Land</td>\n",
       "      <td>Doctors Care -  Indian Land</td>\n",
       "      <td>4</td>\n",
       "      <td>1.0</td>\n",
       "      <td>SC</td>\n",
       "      <td>[urgent care,  health &amp; medical]</td>\n",
       "      <td>urgent care</td>\n",
       "    </tr>\n",
       "  </tbody>\n",
       "</table>\n",
       "</div>"
      ],
      "text/plain": [
       "                                          attributes             business_id  \\\n",
       "0  {'AcceptsInsurance': 'True', 'BusinessAcceptsC...  2hpi6pXIFf0taDIYCoNIuw   \n",
       "1  {'AcceptsInsurance': 'True', 'BusinessAcceptsC...  EXS2vZ60ad1LGfJKBdwiWg   \n",
       "2  {'AcceptsInsurance': 'True', 'BusinessAcceptsC...  JdzoXkjb4uHLTEkiaSZRuQ   \n",
       "3  {'AcceptsInsurance': 'True', 'BusinessAcceptsC...  3_dwAO5gWSX0zNtJ7xAB9w   \n",
       "4  {'BusinessAcceptsCreditCards': 'True', 'ByAppo...  SPnKdy0k9npg8qonOQpaSw   \n",
       "\n",
       "                                          categories         city  \\\n",
       "0                      health & medical, urgent care    Las Vegas   \n",
       "1  doctors, health & medical, urgent care, medica...   Scottsdale   \n",
       "2             doctors, urgent care, health & medical     Goodyear   \n",
       "3  hospitals, health & medical, urgent care, doctors       Anthem   \n",
       "4                      urgent care, health & medical  Indian Land   \n",
       "\n",
       "                                        name  review_count  star_avg state  \\\n",
       "0                         Healthcare Partner            80       2.5    NV   \n",
       "1                        FastMed Urgent Care           122       2.5    AZ   \n",
       "2                         Banner Urgent Care            27       3.0    AZ   \n",
       "3  HonorHealth Immediate Care - Gavilan Peak            20       2.0    AZ   \n",
       "4                Doctors Care -  Indian Land             4       1.0    SC   \n",
       "\n",
       "                                     categories_list health_business  \n",
       "0                   [health & medical,  urgent care]     urgent care  \n",
       "1  [doctors,  health & medical,  urgent care,  me...     urgent care  \n",
       "2         [doctors,  urgent care,  health & medical]     urgent care  \n",
       "3  [hospitals,  health & medical,  urgent care,  ...     urgent care  \n",
       "4                   [urgent care,  health & medical]     urgent care  "
      ]
     },
     "execution_count": 78,
     "metadata": {},
     "output_type": "execute_result"
    }
   ],
   "source": [
    "final.head()"
   ]
  },
  {
   "cell_type": "code",
   "execution_count": 79,
   "metadata": {},
   "outputs": [
    {
     "name": "stdout",
     "output_type": "stream",
     "text": [
      "<class 'pandas.core.frame.DataFrame'>\n",
      "RangeIndex: 3712 entries, 0 to 3711\n",
      "Data columns (total 10 columns):\n",
      "attributes         3416 non-null object\n",
      "business_id        3712 non-null object\n",
      "categories         3712 non-null object\n",
      "city               3712 non-null object\n",
      "name               3712 non-null object\n",
      "review_count       3712 non-null int64\n",
      "star_avg           3712 non-null float64\n",
      "state              3712 non-null object\n",
      "categories_list    3712 non-null object\n",
      "health_business    3712 non-null object\n",
      "dtypes: float64(1), int64(1), object(8)\n",
      "memory usage: 290.1+ KB\n"
     ]
    }
   ],
   "source": [
    "final.info()"
   ]
  },
  {
   "cell_type": "code",
   "execution_count": null,
   "metadata": {},
   "outputs": [],
   "source": []
  },
  {
   "cell_type": "code",
   "execution_count": null,
   "metadata": {},
   "outputs": [],
   "source": []
  },
  {
   "cell_type": "code",
   "execution_count": 80,
   "metadata": {},
   "outputs": [],
   "source": [
    "## Save dataframe"
   ]
  },
  {
   "cell_type": "code",
   "execution_count": 81,
   "metadata": {},
   "outputs": [],
   "source": [
    "final.to_csv(data_directory_saves+'/final_health_business.csv')"
   ]
  },
  {
   "cell_type": "code",
   "execution_count": null,
   "metadata": {},
   "outputs": [],
   "source": []
  }
 ],
 "metadata": {
  "kernelspec": {
   "display_name": "Python 3",
   "language": "python",
   "name": "python3"
  },
  "language_info": {
   "codemirror_mode": {
    "name": "ipython",
    "version": 3
   },
   "file_extension": ".py",
   "mimetype": "text/x-python",
   "name": "python",
   "nbconvert_exporter": "python",
   "pygments_lexer": "ipython3",
   "version": "3.6.6"
  }
 },
 "nbformat": 4,
 "nbformat_minor": 2
}
