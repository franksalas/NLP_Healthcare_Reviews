{
 "cells": [
  {
   "cell_type": "code",
   "execution_count": 1,
   "metadata": {},
   "outputs": [],
   "source": [
    "import warnings\n",
    "warnings.filterwarnings('ignore')"
   ]
  },
  {
   "cell_type": "code",
   "execution_count": 2,
   "metadata": {},
   "outputs": [],
   "source": [
    "import numpy as np\n",
    "import pandas as pd\n",
    "import matplotlib.pyplot as plt\n",
    "pd.set_option('display.max_colwidth', 500)\n",
    "import seaborn as sns\n",
    "%matplotlib inline\n",
    "plt.style.use('ggplot')"
   ]
  },
  {
   "cell_type": "code",
   "execution_count": 3,
   "metadata": {},
   "outputs": [],
   "source": [
    "path = 'storage/yelp_data/health_raw00.csv'"
   ]
  },
  {
   "cell_type": "code",
   "execution_count": 4,
   "metadata": {},
   "outputs": [],
   "source": [
    "df = pd.read_csv(path)\n",
    "df.drop(['Unnamed: 0'],axis=1,inplace=True)"
   ]
  },
  {
   "cell_type": "code",
   "execution_count": 5,
   "metadata": {},
   "outputs": [
    {
     "name": "stdout",
     "output_type": "stream",
     "text": [
      "<class 'pandas.core.frame.DataFrame'>\n",
      "RangeIndex: 54756 entries, 0 to 54755\n",
      "Data columns (total 12 columns):\n",
      "business_id    54756 non-null object\n",
      "name           54756 non-null object\n",
      "categories     54756 non-null object\n",
      "cool           54756 non-null int64\n",
      "date           54756 non-null object\n",
      "funny          54756 non-null int64\n",
      "review_id      54756 non-null object\n",
      "stars          54756 non-null int64\n",
      "text           54756 non-null object\n",
      "useful         54756 non-null int64\n",
      "user_id        54756 non-null object\n",
      "len_text       54756 non-null int64\n",
      "dtypes: int64(5), object(7)\n",
      "memory usage: 5.0+ MB\n"
     ]
    }
   ],
   "source": [
    "df.info()"
   ]
  },
  {
   "cell_type": "code",
   "execution_count": 10,
   "metadata": {},
   "outputs": [],
   "source": [
    "#df.head()"
   ]
  },
  {
   "cell_type": "markdown",
   "metadata": {},
   "source": [
    "## split review stars and text"
   ]
  },
  {
   "cell_type": "code",
   "execution_count": 7,
   "metadata": {},
   "outputs": [],
   "source": [
    "data = df[['stars','text']]"
   ]
  },
  {
   "cell_type": "code",
   "execution_count": 8,
   "metadata": {},
   "outputs": [
    {
     "name": "stdout",
     "output_type": "stream",
     "text": [
      "<class 'pandas.core.frame.DataFrame'>\n",
      "RangeIndex: 54756 entries, 0 to 54755\n",
      "Data columns (total 2 columns):\n",
      "stars    54756 non-null int64\n",
      "text     54756 non-null object\n",
      "dtypes: int64(1), object(1)\n",
      "memory usage: 855.6+ KB\n"
     ]
    }
   ],
   "source": [
    "data.info()"
   ]
  },
  {
   "cell_type": "code",
   "execution_count": 9,
   "metadata": {},
   "outputs": [
    {
     "data": {
      "text/html": [
       "<div>\n",
       "<style scoped>\n",
       "    .dataframe tbody tr th:only-of-type {\n",
       "        vertical-align: middle;\n",
       "    }\n",
       "\n",
       "    .dataframe tbody tr th {\n",
       "        vertical-align: top;\n",
       "    }\n",
       "\n",
       "    .dataframe thead th {\n",
       "        text-align: right;\n",
       "    }\n",
       "</style>\n",
       "<table border=\"1\" class=\"dataframe\">\n",
       "  <thead>\n",
       "    <tr style=\"text-align: right;\">\n",
       "      <th></th>\n",
       "      <th>stars</th>\n",
       "      <th>text</th>\n",
       "    </tr>\n",
       "  </thead>\n",
       "  <tbody>\n",
       "    <tr>\n",
       "      <th>0</th>\n",
       "      <td>1</td>\n",
       "      <td>Please stay away from this place if you can! It's the worst care imaginable! The staff is very uneducated and doesn't know anything. If you ask a question they give you an answer that doesn't even pertain to what you just asked. It's super bizarre. Dr Byrne doesn't seem to care at all about how you feel I got the impression she just wants to get you in and out and make her money. That's just the feeling that was put out there in my visit. The staff is super rude. I wanted to speak again with...</td>\n",
       "    </tr>\n",
       "    <tr>\n",
       "      <th>1</th>\n",
       "      <td>5</td>\n",
       "      <td>My husband has been a patient of Dr. Byrne for the last year and a half. Last May he was suffering from kidney stones and we were referred to Dr. Byrne. After being examined and having tests run it was determined he would need surgery. He was scheduled for surgery a week later and sent home with major pain medications. Even while taking the medications my husband was so incapacitated  and in such pain Dr. Bryne went out of her way to call other hospitals and reschedule him for emergency surg...</td>\n",
       "    </tr>\n",
       "    <tr>\n",
       "      <th>2</th>\n",
       "      <td>4</td>\n",
       "      <td>Dr. Byrne is a great doctor! She has great bed side manners and explains to you step by step of what shes doing. The office staff is not the best. They always make you wait a long time before you get called back. But my overall experience with Dr. Byrne is very good. Im happy i chose her for my procedure and i highly recommend her.</td>\n",
       "    </tr>\n",
       "    <tr>\n",
       "      <th>3</th>\n",
       "      <td>3</td>\n",
       "      <td>I'm raising my review as Dr Bryne's has been more receptive.  My daughter can go in anytime and leave urine sample, so she doesn't have to go to Urgent Care who seems to always mess up anyway and doesn't provide info back to Dr.\\n\\nShe is very smart.  If things keep looking up, I may try her out with other family members.  I heard her coach receptionist on last visit in a nice and professional way.  \\n\\nIn general I don't understand why medical receptionists can be so bad across the medical ...</td>\n",
       "    </tr>\n",
       "    <tr>\n",
       "      <th>4</th>\n",
       "      <td>1</td>\n",
       "      <td>I wish I could give 0 stars. Worst office I've ever been to. Such a horrible experience!!! Office staff is a bunch of teens with bad attitudes including the office manager. I made my appointment to consult Dr. Byrne at the Ironwood Gilbert location about my non-responsive to antibiotics UTI. Though there was an urgency as my symptoms kept getting worse and my PCP recommended seeing a urologist ASAP, the first appointment was available after10 days. I gave all my information including insuran...</td>\n",
       "    </tr>\n",
       "  </tbody>\n",
       "</table>\n",
       "</div>"
      ],
      "text/plain": [
       "   stars  \\\n",
       "0      1   \n",
       "1      5   \n",
       "2      4   \n",
       "3      3   \n",
       "4      1   \n",
       "\n",
       "                                                                                                                                                                                                                                                                                                                                                                                                                                                                                                                  text  \n",
       "0  Please stay away from this place if you can! It's the worst care imaginable! The staff is very uneducated and doesn't know anything. If you ask a question they give you an answer that doesn't even pertain to what you just asked. It's super bizarre. Dr Byrne doesn't seem to care at all about how you feel I got the impression she just wants to get you in and out and make her money. That's just the feeling that was put out there in my visit. The staff is super rude. I wanted to speak again with...  \n",
       "1  My husband has been a patient of Dr. Byrne for the last year and a half. Last May he was suffering from kidney stones and we were referred to Dr. Byrne. After being examined and having tests run it was determined he would need surgery. He was scheduled for surgery a week later and sent home with major pain medications. Even while taking the medications my husband was so incapacitated  and in such pain Dr. Bryne went out of her way to call other hospitals and reschedule him for emergency surg...  \n",
       "2                                                                                                                                                                        Dr. Byrne is a great doctor! She has great bed side manners and explains to you step by step of what shes doing. The office staff is not the best. They always make you wait a long time before you get called back. But my overall experience with Dr. Byrne is very good. Im happy i chose her for my procedure and i highly recommend her.  \n",
       "3  I'm raising my review as Dr Bryne's has been more receptive.  My daughter can go in anytime and leave urine sample, so she doesn't have to go to Urgent Care who seems to always mess up anyway and doesn't provide info back to Dr.\\n\\nShe is very smart.  If things keep looking up, I may try her out with other family members.  I heard her coach receptionist on last visit in a nice and professional way.  \\n\\nIn general I don't understand why medical receptionists can be so bad across the medical ...  \n",
       "4  I wish I could give 0 stars. Worst office I've ever been to. Such a horrible experience!!! Office staff is a bunch of teens with bad attitudes including the office manager. I made my appointment to consult Dr. Byrne at the Ironwood Gilbert location about my non-responsive to antibiotics UTI. Though there was an urgency as my symptoms kept getting worse and my PCP recommended seeing a urologist ASAP, the first appointment was available after10 days. I gave all my information including insuran...  "
      ]
     },
     "execution_count": 9,
     "metadata": {},
     "output_type": "execute_result"
    }
   ],
   "source": [
    "data.head()"
   ]
  },
  {
   "cell_type": "markdown",
   "metadata": {},
   "source": [
    "### stars"
   ]
  },
  {
   "cell_type": "code",
   "execution_count": 12,
   "metadata": {},
   "outputs": [
    {
     "data": {
      "text/plain": [
       "<matplotlib.axes._subplots.AxesSubplot at 0x7fad4cd03550>"
      ]
     },
     "execution_count": 12,
     "metadata": {},
     "output_type": "execute_result"
    },
    {
     "data": {
      "image/png": "[encoded data removed]",
      "text/plain": [
       "<Figure size 432x288 with 1 Axes>"
      ]
     },
     "metadata": {},
     "output_type": "display_data"
    }
   ],
   "source": [
    "data.stars.value_counts().plot.bar()"
   ]
  },
  {
   "cell_type": "markdown",
   "metadata": {},
   "source": [
    "### Split positive and negtative\n",
    "- total positive 31,186\n",
    "- total negative : 22451\n",
    "- total meh : 10,853\n",
    "\n",
    "drop 2-4"
   ]
  },
  {
   "cell_type": "code",
   "execution_count": 13,
   "metadata": {},
   "outputs": [],
   "source": [
    "all_stars = data.copy()"
   ]
  },
  {
   "cell_type": "code",
   "execution_count": 14,
   "metadata": {},
   "outputs": [],
   "source": [
    "data = data.ix[np.where((data.stars==1)|(data.stars==5))]"
   ]
  },
  {
   "cell_type": "code",
   "execution_count": 15,
   "metadata": {},
   "outputs": [
    {
     "name": "stdout",
     "output_type": "stream",
     "text": [
      "<class 'pandas.core.frame.DataFrame'>\n",
      "Int64Index: 45631 entries, 0 to 54755\n",
      "Data columns (total 2 columns):\n",
      "stars    45631 non-null int64\n",
      "text     45631 non-null object\n",
      "dtypes: int64(1), object(1)\n",
      "memory usage: 1.0+ MB\n"
     ]
    }
   ],
   "source": [
    "data.info()"
   ]
  },
  {
   "cell_type": "code",
   "execution_count": 16,
   "metadata": {},
   "outputs": [
    {
     "data": {
      "text/plain": [
       "5    25502\n",
       "1    20129\n",
       "Name: stars, dtype: int64"
      ]
     },
     "execution_count": 16,
     "metadata": {},
     "output_type": "execute_result"
    }
   ],
   "source": [
    "data.stars.value_counts()"
   ]
  },
  {
   "cell_type": "code",
   "execution_count": 17,
   "metadata": {},
   "outputs": [
    {
     "data": {
      "text/html": [
       "<div>\n",
       "<style scoped>\n",
       "    .dataframe tbody tr th:only-of-type {\n",
       "        vertical-align: middle;\n",
       "    }\n",
       "\n",
       "    .dataframe tbody tr th {\n",
       "        vertical-align: top;\n",
       "    }\n",
       "\n",
       "    .dataframe thead th {\n",
       "        text-align: right;\n",
       "    }\n",
       "</style>\n",
       "<table border=\"1\" class=\"dataframe\">\n",
       "  <thead>\n",
       "    <tr style=\"text-align: right;\">\n",
       "      <th></th>\n",
       "      <th>stars</th>\n",
       "      <th>text</th>\n",
       "    </tr>\n",
       "  </thead>\n",
       "  <tbody>\n",
       "    <tr>\n",
       "      <th>0</th>\n",
       "      <td>1</td>\n",
       "      <td>Please stay away from this place if you can! It's the worst care imaginable! The staff is very uneducated and doesn't know anything. If you ask a question they give you an answer that doesn't even pertain to what you just asked. It's super bizarre. Dr Byrne doesn't seem to care at all about how you feel I got the impression she just wants to get you in and out and make her money. That's just the feeling that was put out there in my visit. The staff is super rude. I wanted to speak again with...</td>\n",
       "    </tr>\n",
       "    <tr>\n",
       "      <th>1</th>\n",
       "      <td>5</td>\n",
       "      <td>My husband has been a patient of Dr. Byrne for the last year and a half. Last May he was suffering from kidney stones and we were referred to Dr. Byrne. After being examined and having tests run it was determined he would need surgery. He was scheduled for surgery a week later and sent home with major pain medications. Even while taking the medications my husband was so incapacitated  and in such pain Dr. Bryne went out of her way to call other hospitals and reschedule him for emergency surg...</td>\n",
       "    </tr>\n",
       "    <tr>\n",
       "      <th>4</th>\n",
       "      <td>1</td>\n",
       "      <td>I wish I could give 0 stars. Worst office I've ever been to. Such a horrible experience!!! Office staff is a bunch of teens with bad attitudes including the office manager. I made my appointment to consult Dr. Byrne at the Ironwood Gilbert location about my non-responsive to antibiotics UTI. Though there was an urgency as my symptoms kept getting worse and my PCP recommended seeing a urologist ASAP, the first appointment was available after10 days. I gave all my information including insuran...</td>\n",
       "    </tr>\n",
       "    <tr>\n",
       "      <th>5</th>\n",
       "      <td>1</td>\n",
       "      <td>I went to the emergency room because i was having a kidney stone attack.  The emergency room recommended i see Dr. Lauren Byrne to resolve my kidney stone issue.  I made the appointment and went in to see her.  She was nice but very quick to get you in and out of your appointment.  She asked the staff to put in for a CAT scan at the Ironwood scan facility and they would call me.  I went in for my follow up appointment a week later and they had not called me for the scan.  The office put in a...</td>\n",
       "    </tr>\n",
       "    <tr>\n",
       "      <th>6</th>\n",
       "      <td>5</td>\n",
       "      <td>Dr. Byrne is an excellent doctor with all the right skills, including a very good bed side manner.  I treated with her for prostate cancer.  I originally went in for another issue but because of her thoroughness and the ability to spot red flags in the exam she decided to do a cancer screening.  The test wasn't much fun, but it showed the early stages of cancer.  She gave me my options and told me the positives and negatives of each option.  When I decided to have surgery she turned me over ...</td>\n",
       "    </tr>\n",
       "  </tbody>\n",
       "</table>\n",
       "</div>"
      ],
      "text/plain": [
       "   stars  \\\n",
       "0      1   \n",
       "1      5   \n",
       "4      1   \n",
       "5      1   \n",
       "6      5   \n",
       "\n",
       "                                                                                                                                                                                                                                                                                                                                                                                                                                                                                                                  text  \n",
       "0  Please stay away from this place if you can! It's the worst care imaginable! The staff is very uneducated and doesn't know anything. If you ask a question they give you an answer that doesn't even pertain to what you just asked. It's super bizarre. Dr Byrne doesn't seem to care at all about how you feel I got the impression she just wants to get you in and out and make her money. That's just the feeling that was put out there in my visit. The staff is super rude. I wanted to speak again with...  \n",
       "1  My husband has been a patient of Dr. Byrne for the last year and a half. Last May he was suffering from kidney stones and we were referred to Dr. Byrne. After being examined and having tests run it was determined he would need surgery. He was scheduled for surgery a week later and sent home with major pain medications. Even while taking the medications my husband was so incapacitated  and in such pain Dr. Bryne went out of her way to call other hospitals and reschedule him for emergency surg...  \n",
       "4  I wish I could give 0 stars. Worst office I've ever been to. Such a horrible experience!!! Office staff is a bunch of teens with bad attitudes including the office manager. I made my appointment to consult Dr. Byrne at the Ironwood Gilbert location about my non-responsive to antibiotics UTI. Though there was an urgency as my symptoms kept getting worse and my PCP recommended seeing a urologist ASAP, the first appointment was available after10 days. I gave all my information including insuran...  \n",
       "5  I went to the emergency room because i was having a kidney stone attack.  The emergency room recommended i see Dr. Lauren Byrne to resolve my kidney stone issue.  I made the appointment and went in to see her.  She was nice but very quick to get you in and out of your appointment.  She asked the staff to put in for a CAT scan at the Ironwood scan facility and they would call me.  I went in for my follow up appointment a week later and they had not called me for the scan.  The office put in a...  \n",
       "6  Dr. Byrne is an excellent doctor with all the right skills, including a very good bed side manner.  I treated with her for prostate cancer.  I originally went in for another issue but because of her thoroughness and the ability to spot red flags in the exam she decided to do a cancer screening.  The test wasn't much fun, but it showed the early stages of cancer.  She gave me my options and told me the positives and negatives of each option.  When I decided to have surgery she turned me over ...  "
      ]
     },
     "execution_count": 17,
     "metadata": {},
     "output_type": "execute_result"
    }
   ],
   "source": [
    "data.head()"
   ]
  },
  {
   "cell_type": "code",
   "execution_count": 18,
   "metadata": {},
   "outputs": [
    {
     "data": {
      "text/html": [
       "<div>\n",
       "<style scoped>\n",
       "    .dataframe tbody tr th:only-of-type {\n",
       "        vertical-align: middle;\n",
       "    }\n",
       "\n",
       "    .dataframe tbody tr th {\n",
       "        vertical-align: top;\n",
       "    }\n",
       "\n",
       "    .dataframe thead th {\n",
       "        text-align: right;\n",
       "    }\n",
       "</style>\n",
       "<table border=\"1\" class=\"dataframe\">\n",
       "  <thead>\n",
       "    <tr style=\"text-align: right;\">\n",
       "      <th></th>\n",
       "      <th>stars</th>\n",
       "      <th>text</th>\n",
       "    </tr>\n",
       "  </thead>\n",
       "  <tbody>\n",
       "    <tr>\n",
       "      <th>0</th>\n",
       "      <td>1</td>\n",
       "      <td>Please stay away from this place if you can! It's the worst care imaginable! The staff is very uneducated and doesn't know anything. If you ask a question they give you an answer that doesn't even pertain to what you just asked. It's super bizarre. Dr Byrne doesn't seem to care at all about how you feel I got the impression she just wants to get you in and out and make her money. That's just the feeling that was put out there in my visit. The staff is super rude. I wanted to speak again with...</td>\n",
       "    </tr>\n",
       "    <tr>\n",
       "      <th>1</th>\n",
       "      <td>5</td>\n",
       "      <td>My husband has been a patient of Dr. Byrne for the last year and a half. Last May he was suffering from kidney stones and we were referred to Dr. Byrne. After being examined and having tests run it was determined he would need surgery. He was scheduled for surgery a week later and sent home with major pain medications. Even while taking the medications my husband was so incapacitated  and in such pain Dr. Bryne went out of her way to call other hospitals and reschedule him for emergency surg...</td>\n",
       "    </tr>\n",
       "    <tr>\n",
       "      <th>2</th>\n",
       "      <td>4</td>\n",
       "      <td>Dr. Byrne is a great doctor! She has great bed side manners and explains to you step by step of what shes doing. The office staff is not the best. They always make you wait a long time before you get called back. But my overall experience with Dr. Byrne is very good. Im happy i chose her for my procedure and i highly recommend her.</td>\n",
       "    </tr>\n",
       "    <tr>\n",
       "      <th>3</th>\n",
       "      <td>3</td>\n",
       "      <td>I'm raising my review as Dr Bryne's has been more receptive.  My daughter can go in anytime and leave urine sample, so she doesn't have to go to Urgent Care who seems to always mess up anyway and doesn't provide info back to Dr.\\n\\nShe is very smart.  If things keep looking up, I may try her out with other family members.  I heard her coach receptionist on last visit in a nice and professional way.  \\n\\nIn general I don't understand why medical receptionists can be so bad across the medical ...</td>\n",
       "    </tr>\n",
       "    <tr>\n",
       "      <th>4</th>\n",
       "      <td>1</td>\n",
       "      <td>I wish I could give 0 stars. Worst office I've ever been to. Such a horrible experience!!! Office staff is a bunch of teens with bad attitudes including the office manager. I made my appointment to consult Dr. Byrne at the Ironwood Gilbert location about my non-responsive to antibiotics UTI. Though there was an urgency as my symptoms kept getting worse and my PCP recommended seeing a urologist ASAP, the first appointment was available after10 days. I gave all my information including insuran...</td>\n",
       "    </tr>\n",
       "  </tbody>\n",
       "</table>\n",
       "</div>"
      ],
      "text/plain": [
       "   stars  \\\n",
       "0      1   \n",
       "1      5   \n",
       "2      4   \n",
       "3      3   \n",
       "4      1   \n",
       "\n",
       "                                                                                                                                                                                                                                                                                                                                                                                                                                                                                                                  text  \n",
       "0  Please stay away from this place if you can! It's the worst care imaginable! The staff is very uneducated and doesn't know anything. If you ask a question they give you an answer that doesn't even pertain to what you just asked. It's super bizarre. Dr Byrne doesn't seem to care at all about how you feel I got the impression she just wants to get you in and out and make her money. That's just the feeling that was put out there in my visit. The staff is super rude. I wanted to speak again with...  \n",
       "1  My husband has been a patient of Dr. Byrne for the last year and a half. Last May he was suffering from kidney stones and we were referred to Dr. Byrne. After being examined and having tests run it was determined he would need surgery. He was scheduled for surgery a week later and sent home with major pain medications. Even while taking the medications my husband was so incapacitated  and in such pain Dr. Bryne went out of her way to call other hospitals and reschedule him for emergency surg...  \n",
       "2                                                                                                                                                                        Dr. Byrne is a great doctor! She has great bed side manners and explains to you step by step of what shes doing. The office staff is not the best. They always make you wait a long time before you get called back. But my overall experience with Dr. Byrne is very good. Im happy i chose her for my procedure and i highly recommend her.  \n",
       "3  I'm raising my review as Dr Bryne's has been more receptive.  My daughter can go in anytime and leave urine sample, so she doesn't have to go to Urgent Care who seems to always mess up anyway and doesn't provide info back to Dr.\\n\\nShe is very smart.  If things keep looking up, I may try her out with other family members.  I heard her coach receptionist on last visit in a nice and professional way.  \\n\\nIn general I don't understand why medical receptionists can be so bad across the medical ...  \n",
       "4  I wish I could give 0 stars. Worst office I've ever been to. Such a horrible experience!!! Office staff is a bunch of teens with bad attitudes including the office manager. I made my appointment to consult Dr. Byrne at the Ironwood Gilbert location about my non-responsive to antibiotics UTI. Though there was an urgency as my symptoms kept getting worse and my PCP recommended seeing a urologist ASAP, the first appointment was available after10 days. I gave all my information including insuran...  "
      ]
     },
     "execution_count": 18,
     "metadata": {},
     "output_type": "execute_result"
    }
   ],
   "source": [
    "all_stars.head()"
   ]
  },
  {
   "cell_type": "markdown",
   "metadata": {},
   "source": [
    "## Multinomial NB\n",
    "-"
   ]
  },
  {
   "cell_type": "code",
   "execution_count": 19,
   "metadata": {},
   "outputs": [],
   "source": [
    "from sklearn.feature_extraction.text import CountVectorizer\n",
    "from sklearn.naive_bayes import MultinomialNB\n",
    "from sklearn.model_selection import train_test_split"
   ]
  },
  {
   "cell_type": "code",
   "execution_count": 20,
   "metadata": {},
   "outputs": [
    {
     "name": "stdout",
     "output_type": "stream",
     "text": [
      "1 & 5 stars\n",
      " Accuracy= 0.958365289799496\n",
      "CPU times: user 10.6 s, sys: 1.32 s, total: 11.9 s\n",
      "Wall time: 11.9 s\n"
     ]
    }
   ],
   "source": [
    "%%time\n",
    "# 1&5 starts\n",
    "review = data['text'].values.astype(str)\n",
    "sentiments = data['stars'].values\n",
    "\n",
    "# Split the data for training and for testing and shuffle it\n",
    "X_train, X_test, y_train, y_test = train_test_split(review, sentiments,\n",
    "test_size=0.2, shuffle=True)\n",
    "\n",
    "\n",
    "vectorizer = CountVectorizer(lowercase=True)\n",
    "# Compute the vocabulary only on the training data\n",
    "vectorizer.fit(X_train)\n",
    "\n",
    "# Transform the text list to a matrix form\n",
    "X_train_vectorized = vectorizer.transform(X_train)\n",
    "\n",
    "classifier = MultinomialNB()\n",
    "\n",
    "# Train the classifier\n",
    "classifier.fit(X_train_vectorized, y_train)\n",
    "\n",
    "# Vectorize the test data\n",
    "X_test_vectorized = vectorizer.transform(X_test)\n",
    "\n",
    "# Check our classifier performance\n",
    "score = classifier.score(X_test_vectorized, y_test)\n",
    "\n",
    "print(\"1 & 5 stars\\n Accuracy=\", score) "
   ]
  },
  {
   "cell_type": "code",
   "execution_count": 21,
   "metadata": {},
   "outputs": [
    {
     "name": "stdout",
     "output_type": "stream",
     "text": [
      "1 - 5 stars\n",
      " Accuracy= 0.7908144631117604\n",
      "CPU times: user 12.5 s, sys: 1.5 s, total: 14 s\n",
      "Wall time: 14 s\n"
     ]
    }
   ],
   "source": [
    "%%time\n",
    "# 1-5 starts\n",
    "review = all_stars['text'].values.astype(str)\n",
    "sentiments = all_stars['stars'].values\n",
    "\n",
    "# Split the data for training and for testing and shuffle it\n",
    "X_train, X_test, y_train, y_test = train_test_split(review, sentiments,\n",
    "test_size=0.2, shuffle=True)\n",
    "\n",
    "\n",
    "vectorizer = CountVectorizer(lowercase=True)\n",
    "# Compute the vocabulary only on the training data\n",
    "vectorizer.fit(X_train)\n",
    "\n",
    "# Transform the text list to a matrix form\n",
    "X_train_vectorized = vectorizer.transform(X_train)\n",
    "\n",
    "classifier = MultinomialNB()\n",
    "\n",
    "# Train the classifier\n",
    "classifier.fit(X_train_vectorized, y_train)\n",
    "\n",
    "# Vectorize the test data\n",
    "X_test_vectorized = vectorizer.transform(X_test)\n",
    "\n",
    "# Check our classifier performance\n",
    "score = classifier.score(X_test_vectorized, y_test)\n",
    "\n",
    "print(\"1 - 5 stars\\n Accuracy=\", score) "
   ]
  },
  {
   "cell_type": "markdown",
   "metadata": {},
   "source": [
    "## Multinomial NB Results\n",
    "\n",
    "\n",
    "- all stars: `Accuracy= 0.8001240502403474`\n",
    "- 1 & 5 starts: `Accuracy= 0.9561894108873975`"
   ]
  },
  {
   "cell_type": "markdown",
   "metadata": {},
   "source": [
    "## LogisticRegression"
   ]
  },
  {
   "cell_type": "code",
   "execution_count": 22,
   "metadata": {},
   "outputs": [],
   "source": [
    "from sklearn.linear_model import LogisticRegression"
   ]
  },
  {
   "cell_type": "code",
   "execution_count": 23,
   "metadata": {},
   "outputs": [
    {
     "name": "stdout",
     "output_type": "stream",
     "text": [
      "1 & 5 stars\n",
      " Accuracy= 0.9718417881012381\n",
      "CPU times: user 18.2 s, sys: 464 ms, total: 18.6 s\n",
      "Wall time: 18.6 s\n"
     ]
    }
   ],
   "source": [
    "%%time\n",
    "# 1&5 starts\n",
    "review = data['text'].values.astype(str)\n",
    "sentiments = data['stars'].values\n",
    "\n",
    "# Split the data for training and for testing and shuffle it\n",
    "X_train, X_test, y_train, y_test = train_test_split(review, sentiments,\n",
    "test_size=0.2, shuffle=True)\n",
    "\n",
    "\n",
    "vectorizer = CountVectorizer(lowercase=True)\n",
    "# Compute the vocabulary only on the training data\n",
    "vectorizer.fit(X_train)\n",
    "\n",
    "# Transform the text list to a matrix form\n",
    "X_train_vectorized = vectorizer.transform(X_train)\n",
    "\n",
    "classifier = LogisticRegression()\n",
    "\n",
    "\n",
    "# Train the classifier\n",
    "classifier.fit(X_train_vectorized, y_train)\n",
    "\n",
    "# Vectorize the test data\n",
    "X_test_vectorized = vectorizer.transform(X_test)\n",
    "\n",
    "# Check our classifier performance\n",
    "score = classifier.score(X_test_vectorized, y_test)\n",
    "\n",
    "print(\"1 & 5 stars\\n Accuracy=\", score) "
   ]
  },
  {
   "cell_type": "code",
   "execution_count": 24,
   "metadata": {},
   "outputs": [
    {
     "name": "stdout",
     "output_type": "stream",
     "text": [
      "1 - 5 stars\n",
      " Accuracy= 0.8024105186267348\n",
      "CPU times: user 2min 17s, sys: 788 ms, total: 2min 18s\n",
      "Wall time: 2min 18s\n"
     ]
    }
   ],
   "source": [
    "%%time\n",
    "# 1-5 starts\n",
    "review = all_stars['text'].values.astype(str)\n",
    "sentiments = all_stars['stars'].values\n",
    "\n",
    "# Split the data for training and for testing and shuffle it\n",
    "X_train, X_test, y_train, y_test = train_test_split(review, sentiments,\n",
    "test_size=0.2, shuffle=True)\n",
    "\n",
    "\n",
    "vectorizer = CountVectorizer(lowercase=True)\n",
    "# Compute the vocabulary only on the training data\n",
    "vectorizer.fit(X_train)\n",
    "\n",
    "# Transform the text list to a matrix form\n",
    "X_train_vectorized = vectorizer.transform(X_train)\n",
    "\n",
    "classifier = LogisticRegression()\n",
    "\n",
    "# Train the classifier\n",
    "classifier.fit(X_train_vectorized, y_train)\n",
    "\n",
    "# Vectorize the test data\n",
    "X_test_vectorized = vectorizer.transform(X_test)\n",
    "\n",
    "# Check our classifier performance\n",
    "score = classifier.score(X_test_vectorized, y_test)\n",
    "\n",
    "print(\"1 - 5 stars\\n Accuracy=\", score) "
   ]
  },
  {
   "cell_type": "markdown",
   "metadata": {},
   "source": [
    "## LogisticRegression Results\n",
    "- 1& 5 starts:` Accuracy= 0.97362043251305`\n",
    "- 1- 5 stars : `Accuracy= 0.8069468134594511`"
   ]
  },
  {
   "cell_type": "markdown",
   "metadata": {},
   "source": [
    "## Use Ngrams Instead of Words\n",
    "- 1-3\n",
    "- 1-2"
   ]
  },
  {
   "cell_type": "code",
   "execution_count": 25,
   "metadata": {},
   "outputs": [
    {
     "name": "stdout",
     "output_type": "stream",
     "text": [
      "CPU times: user 60 ms, sys: 236 ms, total: 296 ms\n",
      "Wall time: 296 ms\n"
     ]
    }
   ],
   "source": [
    "%%time\n",
    "# 1&5 starts\n",
    "review = data['text'].values.astype(str)\n",
    "sentiments = data['stars'].values"
   ]
  },
  {
   "cell_type": "code",
   "execution_count": 26,
   "metadata": {},
   "outputs": [],
   "source": [
    "# Split the data for training and for testing and shuffle it\n",
    "X_train, X_test, y_train, y_test = train_test_split(review, sentiments,\n",
    "test_size=0.2, shuffle=True)"
   ]
  },
  {
   "cell_type": "code",
   "execution_count": 27,
   "metadata": {},
   "outputs": [
    {
     "name": "stdout",
     "output_type": "stream",
     "text": [
      "Accuracy= 0.9781965596581571\n",
      "CPU times: user 1min 28s, sys: 876 ms, total: 1min 28s\n",
      "Wall time: 1min 29s\n"
     ]
    }
   ],
   "source": [
    "%%time\n",
    "vectorizer = CountVectorizer(lowercase=True, ngram_range=(1,3))\n",
    "# Compute the vocabulary only on the training data\n",
    "vectorizer.fit(X_train)\n",
    "\n",
    "# Transform the text list to a matrix form\n",
    "X_train_vectorized = vectorizer.transform(X_train)\n",
    "\n",
    "classifier = LogisticRegression()\n",
    "\n",
    "# Train the classifier\n",
    "classifier.fit(X_train_vectorized, y_train)\n",
    "\n",
    "# Vectorize the test data\n",
    "X_test_vectorized = vectorizer.transform(X_test)\n",
    "\n",
    "# Check our classifier performance\n",
    "score = classifier.score(X_test_vectorized, y_test)\n",
    "print(\"Accuracy=\", score)"
   ]
  },
  {
   "cell_type": "markdown",
   "metadata": {},
   "source": [
    "### Results\n",
    "ngram_range=(1,2)\n",
    "```\n",
    "Accuracy= 0.8231508761048224\n",
    "CPU times: user 10min 47s, sys: 27.3 s, total: 11min 14s\n",
    "Wall time: 6min 58s\n",
    "```\n",
    "\n",
    "ngram_range=(1,3)\n",
    "```\n",
    "Accuracy= 0.829896107923709\n",
    "CPU times: user 12min 47s, sys: 40.9 s, total: 13min 28s\n",
    "Wall time: 9min 1s\n",
    "\n",
    "```\n",
    "\n",
    "\n",
    "- `Accuracy= 0.9793064876957495\n",
    "`"
   ]
  },
  {
   "cell_type": "markdown",
   "metadata": {},
   "source": [
    "#  pipeline\n",
    "- Result `Accuracy= 0.9777218493661447`"
   ]
  },
  {
   "cell_type": "code",
   "execution_count": 28,
   "metadata": {},
   "outputs": [],
   "source": [
    "from sklearn.pipeline import Pipeline"
   ]
  },
  {
   "cell_type": "code",
   "execution_count": 29,
   "metadata": {},
   "outputs": [],
   "source": [
    "# Split the data for training and for testing and shuffle it\n",
    "X_train, X_test, y_train, y_test = train_test_split(review, sentiments,\n",
    "test_size=0.2, shuffle=True)"
   ]
  },
  {
   "cell_type": "code",
   "execution_count": 30,
   "metadata": {},
   "outputs": [
    {
     "name": "stdout",
     "output_type": "stream",
     "text": [
      "Accuracy= 0.9753478689602278\n",
      "CPU times: user 1min 43s, sys: 2.99 s, total: 1min 46s\n",
      "Wall time: 2min 7s\n"
     ]
    }
   ],
   "source": [
    "%%time\n",
    "# Put everything in a Pipeline\n",
    "pipeline = Pipeline([\n",
    "    ('vectorizer', \n",
    "     CountVectorizer(lowercase=True,ngram_range=(1, 3)))\n",
    "    ,('classifier', LogisticRegression())])\n",
    "\n",
    "pipeline.fit(X_train, y_train)\n",
    "# Check our classifier performance\n",
    "\n",
    "score = pipeline.score(X_test, y_test)\n",
    "\n",
    "print(\"Accuracy=\", score)"
   ]
  },
  {
   "cell_type": "markdown",
   "metadata": {},
   "source": [
    "## Cross validation score"
   ]
  },
  {
   "cell_type": "code",
   "execution_count": 31,
   "metadata": {},
   "outputs": [],
   "source": [
    "from sklearn.model_selection import cross_val_score\n",
    "from sklearn.utils import shuffle"
   ]
  },
  {
   "cell_type": "code",
   "execution_count": 32,
   "metadata": {},
   "outputs": [
    {
     "name": "stdout",
     "output_type": "stream",
     "text": [
      "CPU times: user 132 ms, sys: 52 ms, total: 184 ms\n",
      "Wall time: 302 ms\n"
     ]
    }
   ],
   "source": [
    "%%time\n",
    "# Put everything in a Pipeline\n",
    "pipeline = Pipeline([\n",
    "    ('vectorizer', CountVectorizer(\n",
    "        lowercase=True,\n",
    "        ngram_range=(1, 3))),\n",
    "    ('classifier', LogisticRegression())])"
   ]
  },
  {
   "cell_type": "code",
   "execution_count": 33,
   "metadata": {},
   "outputs": [],
   "source": [
    "review, sentiments = shuffle(review, sentiments) # needed??"
   ]
  },
  {
   "cell_type": "code",
   "execution_count": 36,
   "metadata": {},
   "outputs": [
    {
     "data": {
      "text/plain": [
       "\"My husband and I see Dr. Chisholm and he's fantastic. Knowledgeable, quick witted, respects our intelligence and respects our wishes/opinions but tempers my first time mom anxieties professionally and swiftly. We definitely feel like we are in great hands. The nurses are all amazing, the ultrasound techs are wonderful, and the front desk staff has been great to us too. We really love this office. I will say that sometimes there is a very long wait on hold when you call the front desk for non-emergency assistance, but I know they have a lot of patients. I'm excited to continue my happy and healthy pregnancy, and deliver with Dr. Chisholm in the autumn.\""
      ]
     },
     "execution_count": 36,
     "metadata": {},
     "output_type": "execute_result"
    }
   ],
   "source": [
    "review[9]"
   ]
  },
  {
   "cell_type": "code",
   "execution_count": 37,
   "metadata": {},
   "outputs": [
    {
     "name": "stdout",
     "output_type": "stream",
     "text": [
      "MeanAccuracy= 0.9772522953501108\n",
      "CPU times: user 6min 11s, sys: 4.27 s, total: 6min 16s\n",
      "Wall time: 6min 16s\n"
     ]
    }
   ],
   "source": [
    "%%time\n",
    "print(\"MeanAccuracy=\", cross_val_score(pipeline, review, sentiments, cv=5).mean())"
   ]
  },
  {
   "cell_type": "markdown",
   "metadata": {},
   "source": [
    "## Result:\n",
    "```\n",
    "MeanAccuracy= 0.9773477193058582\n",
    "CPU times: user 10min 21s, sys: 44.1 s, total: 11min 5s\n",
    "Wall time: 8min 45s\n",
    "\n",
    "```"
   ]
  },
  {
   "cell_type": "markdown",
   "metadata": {},
   "source": [
    "## Grid search"
   ]
  },
  {
   "cell_type": "code",
   "execution_count": 38,
   "metadata": {},
   "outputs": [],
   "source": [
    "from sklearn.model_selection import train_test_split, GridSearchCV"
   ]
  },
  {
   "cell_type": "code",
   "execution_count": 39,
   "metadata": {},
   "outputs": [],
   "source": [
    "# shuffle data\n",
    "review, sentiments = shuffle(review, sentiments)"
   ]
  },
  {
   "cell_type": "code",
   "execution_count": 40,
   "metadata": {},
   "outputs": [
    {
     "name": "stdout",
     "output_type": "stream",
     "text": [
      "CPU times: user 4 ms, sys: 8 ms, total: 12 ms\n",
      "Wall time: 9.08 ms\n"
     ]
    }
   ],
   "source": [
    "%%time\n",
    "# Put everything in a Pipeline\n",
    "pipeline = Pipeline([\n",
    "    ('vectorizer', CountVectorizer(\n",
    "        lowercase=True,\n",
    "        ngram_range=(1, 3))),\n",
    "    ('classifier', LogisticRegression())])\n",
    "\n",
    "\n",
    "classifier = GridSearchCV(pipeline, {\n",
    "    # try out different ngram ranges\n",
    "    'vectorizer__ngram_range': ((1, 2), (2, 3), (1, 3)),\n",
    "    # check if setting all non zero counts to 1 makes a difference\n",
    "    'vectorizer__binary': (True, False),},\n",
    "                          n_jobs=-1, \n",
    "                          verbose=True,\n",
    "                          error_score=0.0, \n",
    "                          cv=5)"
   ]
  },
  {
   "cell_type": "code",
   "execution_count": 42,
   "metadata": {},
   "outputs": [],
   "source": [
    "# %%time\n",
    "# # Compute the vocabulary and train the classifier\n",
    "# classifier.fit(review, sentiments)"
   ]
  },
  {
   "cell_type": "code",
   "execution_count": null,
   "metadata": {},
   "outputs": [],
   "source": [
    "print(\"Best Accuracy: \", classifier.best_score_)\n",
    "print(\"Best Parameters: \", classifier.best_params_)"
   ]
  },
  {
   "cell_type": "code",
   "execution_count": null,
   "metadata": {},
   "outputs": [],
   "source": []
  },
  {
   "cell_type": "markdown",
   "metadata": {},
   "source": [
    "## notes\n",
    "- find nums truep/true neg\n",
    "- "
   ]
  },
  {
   "cell_type": "code",
   "execution_count": null,
   "metadata": {},
   "outputs": [],
   "source": []
  }
 ],
 "metadata": {
  "kernelspec": {
   "display_name": "Python 3",
   "language": "python",
   "name": "python3"
  },
  "language_info": {
   "codemirror_mode": {
    "name": "ipython",
    "version": 3
   },
   "file_extension": ".py",
   "mimetype": "text/x-python",
   "name": "python",
   "nbconvert_exporter": "python",
   "pygments_lexer": "ipython3",
   "version": "3.6.6"
  }
 },
 "nbformat": 4,
 "nbformat_minor": 2
}
