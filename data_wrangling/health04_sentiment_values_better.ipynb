{
 "cells": [
  {
   "cell_type": "markdown",
   "metadata": {},
   "source": [
    "## Sentiment Values\n",
    "- textblob"
   ]
  },
  {
   "cell_type": "code",
   "execution_count": 1,
   "metadata": {},
   "outputs": [],
   "source": [
    "import warnings\n",
    "warnings.filterwarnings('ignore')"
   ]
  },
  {
   "cell_type": "code",
   "execution_count": 56,
   "metadata": {},
   "outputs": [],
   "source": [
    "import pandas as pd\n",
    "import numpy as np\n",
    "import seaborn as sns\n",
    "import matplotlib.pyplot as plt\n",
    "plt.style.use('ggplot')"
   ]
  },
  {
   "cell_type": "code",
   "execution_count": 3,
   "metadata": {},
   "outputs": [],
   "source": [
    "path = 'yelp_data/health_text_full.csv'\n",
    "\n",
    "df = pd.read_csv(path)\n",
    "df.drop(['Unnamed: 0'],axis=1,inplace=True)"
   ]
  },
  {
   "cell_type": "code",
   "execution_count": 4,
   "metadata": {},
   "outputs": [
    {
     "name": "stdout",
     "output_type": "stream",
     "text": [
      "<class 'pandas.core.frame.DataFrame'>\n",
      "RangeIndex: 64006 entries, 0 to 64005\n",
      "Data columns (total 14 columns):\n",
      "business_id        64006 non-null object\n",
      "categories         64006 non-null object\n",
      "name               64006 non-null object\n",
      "state              64006 non-null object\n",
      "categories_list    64006 non-null object\n",
      "cool               64006 non-null int64\n",
      "date               64006 non-null object\n",
      "funny              64006 non-null int64\n",
      "review_id          64006 non-null object\n",
      "stars              64006 non-null int64\n",
      "text               64006 non-null object\n",
      "useful             64006 non-null int64\n",
      "user_id            64006 non-null object\n",
      "clean_text         64006 non-null object\n",
      "dtypes: int64(4), object(10)\n",
      "memory usage: 6.8+ MB\n"
     ]
    }
   ],
   "source": [
    "df.info()"
   ]
  },
  {
   "cell_type": "code",
   "execution_count": 5,
   "metadata": {},
   "outputs": [
    {
     "data": {
      "text/html": [
       "<div>\n",
       "<style scoped>\n",
       "    .dataframe tbody tr th:only-of-type {\n",
       "        vertical-align: middle;\n",
       "    }\n",
       "\n",
       "    .dataframe tbody tr th {\n",
       "        vertical-align: top;\n",
       "    }\n",
       "\n",
       "    .dataframe thead th {\n",
       "        text-align: right;\n",
       "    }\n",
       "</style>\n",
       "<table border=\"1\" class=\"dataframe\">\n",
       "  <thead>\n",
       "    <tr style=\"text-align: right;\">\n",
       "      <th></th>\n",
       "      <th>business_id</th>\n",
       "      <th>categories</th>\n",
       "      <th>name</th>\n",
       "      <th>state</th>\n",
       "      <th>categories_list</th>\n",
       "      <th>cool</th>\n",
       "      <th>date</th>\n",
       "      <th>funny</th>\n",
       "      <th>review_id</th>\n",
       "      <th>stars</th>\n",
       "      <th>text</th>\n",
       "      <th>useful</th>\n",
       "      <th>user_id</th>\n",
       "      <th>clean_text</th>\n",
       "    </tr>\n",
       "  </thead>\n",
       "  <tbody>\n",
       "    <tr>\n",
       "      <th>0</th>\n",
       "      <td>y-4xTZNKVm8mAZpiXMS5ZA</td>\n",
       "      <td>urologists, doctors, health &amp; medical</td>\n",
       "      <td>Lauren Byrne, MD</td>\n",
       "      <td>AZ</td>\n",
       "      <td>['urologists', ' doctors', ' health &amp; medical']</td>\n",
       "      <td>0</td>\n",
       "      <td>2018-03-03</td>\n",
       "      <td>0</td>\n",
       "      <td>TNNkSmMfshsD3G60jTNjDA</td>\n",
       "      <td>1</td>\n",
       "      <td>Please stay away from this place if you can! I...</td>\n",
       "      <td>2</td>\n",
       "      <td>xv2V2GO5IZYvtw4oW7gQ1w</td>\n",
       "      <td>please stay away place bad care imaginable sta...</td>\n",
       "    </tr>\n",
       "    <tr>\n",
       "      <th>1</th>\n",
       "      <td>y-4xTZNKVm8mAZpiXMS5ZA</td>\n",
       "      <td>urologists, doctors, health &amp; medical</td>\n",
       "      <td>Lauren Byrne, MD</td>\n",
       "      <td>AZ</td>\n",
       "      <td>['urologists', ' doctors', ' health &amp; medical']</td>\n",
       "      <td>0</td>\n",
       "      <td>2015-11-29</td>\n",
       "      <td>0</td>\n",
       "      <td>v-iKdstPdCxJr8zV1ZMdrw</td>\n",
       "      <td>5</td>\n",
       "      <td>My husband has been a patient of Dr. Byrne for...</td>\n",
       "      <td>1</td>\n",
       "      <td>SjvWP7c9toeZoV_q62zhTA</td>\n",
       "      <td>husband patient dr byrne last year half last m...</td>\n",
       "    </tr>\n",
       "    <tr>\n",
       "      <th>2</th>\n",
       "      <td>y-4xTZNKVm8mAZpiXMS5ZA</td>\n",
       "      <td>urologists, doctors, health &amp; medical</td>\n",
       "      <td>Lauren Byrne, MD</td>\n",
       "      <td>AZ</td>\n",
       "      <td>['urologists', ' doctors', ' health &amp; medical']</td>\n",
       "      <td>0</td>\n",
       "      <td>2016-06-03</td>\n",
       "      <td>0</td>\n",
       "      <td>BmNDRCV9_NzQ_KCChyfdEw</td>\n",
       "      <td>4</td>\n",
       "      <td>Dr. Byrne is a great doctor! She has great bed...</td>\n",
       "      <td>2</td>\n",
       "      <td>sZVHm1aLtvyH9trAc2_MgA</td>\n",
       "      <td>dr byrne great doctor great bed side manner ex...</td>\n",
       "    </tr>\n",
       "    <tr>\n",
       "      <th>3</th>\n",
       "      <td>y-4xTZNKVm8mAZpiXMS5ZA</td>\n",
       "      <td>urologists, doctors, health &amp; medical</td>\n",
       "      <td>Lauren Byrne, MD</td>\n",
       "      <td>AZ</td>\n",
       "      <td>['urologists', ' doctors', ' health &amp; medical']</td>\n",
       "      <td>0</td>\n",
       "      <td>2017-03-17</td>\n",
       "      <td>0</td>\n",
       "      <td>t_TKVMxKFYm9Hl-TIO7UUw</td>\n",
       "      <td>3</td>\n",
       "      <td>I'm raising my review as Dr Bryne's has been m...</td>\n",
       "      <td>3</td>\n",
       "      <td>8Y_irXocZdZxLs_qgzpjBw</td>\n",
       "      <td>raise review dr bryne receptive daughter go an...</td>\n",
       "    </tr>\n",
       "    <tr>\n",
       "      <th>4</th>\n",
       "      <td>y-4xTZNKVm8mAZpiXMS5ZA</td>\n",
       "      <td>urologists, doctors, health &amp; medical</td>\n",
       "      <td>Lauren Byrne, MD</td>\n",
       "      <td>AZ</td>\n",
       "      <td>['urologists', ' doctors', ' health &amp; medical']</td>\n",
       "      <td>0</td>\n",
       "      <td>2016-08-31</td>\n",
       "      <td>0</td>\n",
       "      <td>NWRrpGRgWZBBj3lvCZGVKA</td>\n",
       "      <td>1</td>\n",
       "      <td>I wish I could give 0 stars. Worst office I've...</td>\n",
       "      <td>1</td>\n",
       "      <td>hVKPDGpG12z7vpScXaSakw</td>\n",
       "      <td>wish could give star bad office ever horrible ...</td>\n",
       "    </tr>\n",
       "  </tbody>\n",
       "</table>\n",
       "</div>"
      ],
      "text/plain": [
       "              business_id                             categories  \\\n",
       "0  y-4xTZNKVm8mAZpiXMS5ZA  urologists, doctors, health & medical   \n",
       "1  y-4xTZNKVm8mAZpiXMS5ZA  urologists, doctors, health & medical   \n",
       "2  y-4xTZNKVm8mAZpiXMS5ZA  urologists, doctors, health & medical   \n",
       "3  y-4xTZNKVm8mAZpiXMS5ZA  urologists, doctors, health & medical   \n",
       "4  y-4xTZNKVm8mAZpiXMS5ZA  urologists, doctors, health & medical   \n",
       "\n",
       "               name state                                  categories_list  \\\n",
       "0  Lauren Byrne, MD    AZ  ['urologists', ' doctors', ' health & medical']   \n",
       "1  Lauren Byrne, MD    AZ  ['urologists', ' doctors', ' health & medical']   \n",
       "2  Lauren Byrne, MD    AZ  ['urologists', ' doctors', ' health & medical']   \n",
       "3  Lauren Byrne, MD    AZ  ['urologists', ' doctors', ' health & medical']   \n",
       "4  Lauren Byrne, MD    AZ  ['urologists', ' doctors', ' health & medical']   \n",
       "\n",
       "   cool        date  funny               review_id  stars  \\\n",
       "0     0  2018-03-03      0  TNNkSmMfshsD3G60jTNjDA      1   \n",
       "1     0  2015-11-29      0  v-iKdstPdCxJr8zV1ZMdrw      5   \n",
       "2     0  2016-06-03      0  BmNDRCV9_NzQ_KCChyfdEw      4   \n",
       "3     0  2017-03-17      0  t_TKVMxKFYm9Hl-TIO7UUw      3   \n",
       "4     0  2016-08-31      0  NWRrpGRgWZBBj3lvCZGVKA      1   \n",
       "\n",
       "                                                text  useful  \\\n",
       "0  Please stay away from this place if you can! I...       2   \n",
       "1  My husband has been a patient of Dr. Byrne for...       1   \n",
       "2  Dr. Byrne is a great doctor! She has great bed...       2   \n",
       "3  I'm raising my review as Dr Bryne's has been m...       3   \n",
       "4  I wish I could give 0 stars. Worst office I've...       1   \n",
       "\n",
       "                  user_id                                         clean_text  \n",
       "0  xv2V2GO5IZYvtw4oW7gQ1w  please stay away place bad care imaginable sta...  \n",
       "1  SjvWP7c9toeZoV_q62zhTA  husband patient dr byrne last year half last m...  \n",
       "2  sZVHm1aLtvyH9trAc2_MgA  dr byrne great doctor great bed side manner ex...  \n",
       "3  8Y_irXocZdZxLs_qgzpjBw  raise review dr bryne receptive daughter go an...  \n",
       "4  hVKPDGpG12z7vpScXaSakw  wish could give star bad office ever horrible ...  "
      ]
     },
     "execution_count": 5,
     "metadata": {},
     "output_type": "execute_result"
    }
   ],
   "source": [
    "df.head()"
   ]
  },
  {
   "cell_type": "markdown",
   "metadata": {},
   "source": [
    "## Textblob"
   ]
  },
  {
   "cell_type": "code",
   "execution_count": 7,
   "metadata": {},
   "outputs": [],
   "source": [
    "from textblob import TextBlob\n",
    "from nltk.sentiment.vader import SentimentIntensityAnalyzer\n",
    "from nltk import tokenize"
   ]
  },
  {
   "cell_type": "code",
   "execution_count": 17,
   "metadata": {},
   "outputs": [],
   "source": [
    "def sentiment_value(tweet):\n",
    "    \"\"\" vater function get value \"\"\"\n",
    "    anlyzr = SentimentIntensityAnalyzer()\n",
    "    # break review into sentences and analyze each seperately\n",
    "    content = tokenize.sent_tokenize(tweet)\n",
    "    # emtpy values\n",
    "    overall = {'compound': 0, 'neg': 0, 'neu': 0, 'pos': 0}\n",
    "    for s in content:\n",
    "        scores = anlyzr.polarity_scores(s)\n",
    "        # tally up each sentence's overall tone\n",
    "        for i, z in enumerate(scores):\n",
    "            overall[z] += scores[z]\n",
    "    # average it all together for the review as a whole\n",
    "    for v in overall:\n",
    "        overall[v] = round(overall[v] / len(content), 3)\n",
    "    return overall"
   ]
  },
  {
   "cell_type": "code",
   "execution_count": 18,
   "metadata": {},
   "outputs": [],
   "source": []
  },
  {
   "cell_type": "code",
   "execution_count": 21,
   "metadata": {},
   "outputs": [
    {
     "name": "stdout",
     "output_type": "stream",
     "text": [
      "CPU times: user 13min 10s, sys: 1min 38s, total: 14min 48s\n",
      "Wall time: 14min 49s\n"
     ]
    }
   ],
   "source": [
    "%%time\n",
    "original = df.text.apply(sentiment_value).apply(pd.Series)"
   ]
  },
  {
   "cell_type": "code",
   "execution_count": 127,
   "metadata": {},
   "outputs": [
    {
     "name": "stdout",
     "output_type": "stream",
     "text": [
      "CPU times: user 11min 37s, sys: 1.22 s, total: 11min 38s\n",
      "Wall time: 11min 38s\n"
     ]
    }
   ],
   "source": [
    "%%time\n",
    "clean = df.clean_text.apply(sentiment_value).apply(pd.Series)"
   ]
  },
  {
   "cell_type": "code",
   "execution_count": 157,
   "metadata": {},
   "outputs": [
    {
     "name": "stdout",
     "output_type": "stream",
     "text": [
      "\u001b[0m\u001b[01;32mhealth_business00.csv\u001b[0m*  \u001b[01;32mhealth_text_model_results.csv\u001b[0m*\r\n",
      "\u001b[01;32mhealth_business01.csv\u001b[0m*  \u001b[01;32mhealth_text_sentiment.csv\u001b[0m*\r\n",
      "\u001b[01;32mhealth_raw00.csv\u001b[0m*       \u001b[01;32mhealth_text_sentiment_full.csv\u001b[0m*\r\n",
      "\u001b[01;32mhealth_text.csv\u001b[0m*        \u001b[01;32myelp_academic_dataset_business.json\u001b[0m*\r\n",
      "\u001b[01;32mhealth_text_full.csv\u001b[0m*   \u001b[01;32myelp_academic_dataset_review.json\u001b[0m*\r\n"
     ]
    }
   ],
   "source": [
    "ls yelp_data/"
   ]
  },
  {
   "cell_type": "code",
   "execution_count": null,
   "metadata": {},
   "outputs": [],
   "source": []
  },
  {
   "cell_type": "code",
   "execution_count": 132,
   "metadata": {},
   "outputs": [],
   "source": [
    "og = pd.merge(df[['review_id','stars','text']], original,right_index=True,left_index=True)\n",
    "\n",
    "cl = pd.merge(df[['review_id','stars','clean_text']], clean,right_index=True,left_index=True)"
   ]
  },
  {
   "cell_type": "code",
   "execution_count": 158,
   "metadata": {},
   "outputs": [],
   "source": [
    "og.to_csv('yelp_data/sent_text.csv')"
   ]
  },
  {
   "cell_type": "code",
   "execution_count": 159,
   "metadata": {},
   "outputs": [],
   "source": [
    "cl.to_csv('yelp_data/sent_text_clean.csv')"
   ]
  },
  {
   "cell_type": "code",
   "execution_count": null,
   "metadata": {},
   "outputs": [],
   "source": []
  }
 ],
 "metadata": {
  "kernelspec": {
   "display_name": "Python 3",
   "language": "python",
   "name": "python3"
  },
  "language_info": {
   "codemirror_mode": {
    "name": "ipython",
    "version": 3
   },
   "file_extension": ".py",
   "mimetype": "text/x-python",
   "name": "python",
   "nbconvert_exporter": "python",
   "pygments_lexer": "ipython3",
   "version": "3.6.6"
  }
 },
 "nbformat": 4,
 "nbformat_minor": 2
}
