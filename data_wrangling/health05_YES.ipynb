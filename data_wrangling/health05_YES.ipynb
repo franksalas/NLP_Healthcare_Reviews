{
 "cells": [
  {
   "cell_type": "code",
   "execution_count": 1,
   "metadata": {},
   "outputs": [],
   "source": [
    "import warnings\n",
    "warnings.filterwarnings('ignore')"
   ]
  },
  {
   "cell_type": "code",
   "execution_count": null,
   "metadata": {},
   "outputs": [],
   "source": [
    "#! pip install nltk\n",
    "import nltk\n",
    "nltk.download('stopwords')"
   ]
  },
  {
   "cell_type": "code",
   "execution_count": null,
   "metadata": {},
   "outputs": [],
   "source": []
  },
  {
   "cell_type": "code",
   "execution_count": 2,
   "metadata": {},
   "outputs": [],
   "source": [
    "import pandas as pd\n",
    "import numpy as np\n",
    "\n",
    "import re\n",
    "from nltk.corpus import stopwords\n",
    "from nltk.stem import SnowballStemmer\n",
    "from sklearn.feature_extraction.text import TfidfVectorizer\n",
    "from sklearn.svm import LinearSVC\n",
    "from sklearn.pipeline import Pipeline\n",
    "from sklearn.model_selection import train_test_split\n",
    "from sklearn.feature_selection import SelectKBest, chi2"
   ]
  },
  {
   "cell_type": "code",
   "execution_count": 3,
   "metadata": {},
   "outputs": [],
   "source": [
    "stemmer = SnowballStemmer('english')\n",
    "words = stopwords.words(\"english\")"
   ]
  },
  {
   "cell_type": "code",
   "execution_count": 4,
   "metadata": {},
   "outputs": [],
   "source": [
    "path = 'storage/yelp_data/health_raw00.csv'"
   ]
  },
  {
   "cell_type": "code",
   "execution_count": 5,
   "metadata": {},
   "outputs": [],
   "source": [
    "df = pd.read_csv(path)\n",
    "df.drop(['Unnamed: 0'],axis=1,inplace=True)"
   ]
  },
  {
   "cell_type": "code",
   "execution_count": 6,
   "metadata": {},
   "outputs": [
    {
     "name": "stdout",
     "output_type": "stream",
     "text": [
      "<class 'pandas.core.frame.DataFrame'>\n",
      "RangeIndex: 54756 entries, 0 to 54755\n",
      "Data columns (total 12 columns):\n",
      "business_id    54756 non-null object\n",
      "name           54756 non-null object\n",
      "categories     54756 non-null object\n",
      "cool           54756 non-null int64\n",
      "date           54756 non-null object\n",
      "funny          54756 non-null int64\n",
      "review_id      54756 non-null object\n",
      "stars          54756 non-null int64\n",
      "text           54756 non-null object\n",
      "useful         54756 non-null int64\n",
      "user_id        54756 non-null object\n",
      "len_text       54756 non-null int64\n",
      "dtypes: int64(5), object(7)\n",
      "memory usage: 5.0+ MB\n"
     ]
    }
   ],
   "source": [
    "df.info()"
   ]
  },
  {
   "cell_type": "code",
   "execution_count": 7,
   "metadata": {},
   "outputs": [
    {
     "data": {
      "text/html": [
       "<div>\n",
       "<style scoped>\n",
       "    .dataframe tbody tr th:only-of-type {\n",
       "        vertical-align: middle;\n",
       "    }\n",
       "\n",
       "    .dataframe tbody tr th {\n",
       "        vertical-align: top;\n",
       "    }\n",
       "\n",
       "    .dataframe thead th {\n",
       "        text-align: right;\n",
       "    }\n",
       "</style>\n",
       "<table border=\"1\" class=\"dataframe\">\n",
       "  <thead>\n",
       "    <tr style=\"text-align: right;\">\n",
       "      <th></th>\n",
       "      <th>business_id</th>\n",
       "      <th>name</th>\n",
       "      <th>categories</th>\n",
       "      <th>cool</th>\n",
       "      <th>date</th>\n",
       "      <th>funny</th>\n",
       "      <th>review_id</th>\n",
       "      <th>stars</th>\n",
       "      <th>text</th>\n",
       "      <th>useful</th>\n",
       "      <th>user_id</th>\n",
       "      <th>len_text</th>\n",
       "    </tr>\n",
       "  </thead>\n",
       "  <tbody>\n",
       "    <tr>\n",
       "      <th>0</th>\n",
       "      <td>y-4xTZNKVm8mAZpiXMS5ZA</td>\n",
       "      <td>Lauren Byrne, MD</td>\n",
       "      <td>urologists, doctors, health &amp; medical</td>\n",
       "      <td>0</td>\n",
       "      <td>2018-03-03</td>\n",
       "      <td>0</td>\n",
       "      <td>TNNkSmMfshsD3G60jTNjDA</td>\n",
       "      <td>1</td>\n",
       "      <td>Please stay away from this place if you can! I...</td>\n",
       "      <td>2</td>\n",
       "      <td>xv2V2GO5IZYvtw4oW7gQ1w</td>\n",
       "      <td>2002</td>\n",
       "    </tr>\n",
       "    <tr>\n",
       "      <th>1</th>\n",
       "      <td>y-4xTZNKVm8mAZpiXMS5ZA</td>\n",
       "      <td>Lauren Byrne, MD</td>\n",
       "      <td>urologists, doctors, health &amp; medical</td>\n",
       "      <td>0</td>\n",
       "      <td>2015-11-29</td>\n",
       "      <td>0</td>\n",
       "      <td>v-iKdstPdCxJr8zV1ZMdrw</td>\n",
       "      <td>5</td>\n",
       "      <td>My husband has been a patient of Dr. Byrne for...</td>\n",
       "      <td>1</td>\n",
       "      <td>SjvWP7c9toeZoV_q62zhTA</td>\n",
       "      <td>877</td>\n",
       "    </tr>\n",
       "  </tbody>\n",
       "</table>\n",
       "</div>"
      ],
      "text/plain": [
       "              business_id              name  \\\n",
       "0  y-4xTZNKVm8mAZpiXMS5ZA  Lauren Byrne, MD   \n",
       "1  y-4xTZNKVm8mAZpiXMS5ZA  Lauren Byrne, MD   \n",
       "\n",
       "                              categories  cool        date  funny  \\\n",
       "0  urologists, doctors, health & medical     0  2018-03-03      0   \n",
       "1  urologists, doctors, health & medical     0  2015-11-29      0   \n",
       "\n",
       "                review_id  stars  \\\n",
       "0  TNNkSmMfshsD3G60jTNjDA      1   \n",
       "1  v-iKdstPdCxJr8zV1ZMdrw      5   \n",
       "\n",
       "                                                text  useful  \\\n",
       "0  Please stay away from this place if you can! I...       2   \n",
       "1  My husband has been a patient of Dr. Byrne for...       1   \n",
       "\n",
       "                  user_id  len_text  \n",
       "0  xv2V2GO5IZYvtw4oW7gQ1w      2002  \n",
       "1  SjvWP7c9toeZoV_q62zhTA       877  "
      ]
     },
     "execution_count": 7,
     "metadata": {},
     "output_type": "execute_result"
    }
   ],
   "source": [
    "df.head(2)"
   ]
  },
  {
   "cell_type": "markdown",
   "metadata": {},
   "source": [
    "## split review stars and text"
   ]
  },
  {
   "cell_type": "code",
   "execution_count": 8,
   "metadata": {},
   "outputs": [],
   "source": [
    "data = df[['stars','text']]"
   ]
  },
  {
   "cell_type": "code",
   "execution_count": 9,
   "metadata": {},
   "outputs": [
    {
     "name": "stdout",
     "output_type": "stream",
     "text": [
      "<class 'pandas.core.frame.DataFrame'>\n",
      "RangeIndex: 54756 entries, 0 to 54755\n",
      "Data columns (total 2 columns):\n",
      "stars    54756 non-null int64\n",
      "text     54756 non-null object\n",
      "dtypes: int64(1), object(1)\n",
      "memory usage: 855.6+ KB\n"
     ]
    }
   ],
   "source": [
    "data.info()"
   ]
  },
  {
   "cell_type": "code",
   "execution_count": 10,
   "metadata": {},
   "outputs": [
    {
     "data": {
      "text/html": [
       "<div>\n",
       "<style scoped>\n",
       "    .dataframe tbody tr th:only-of-type {\n",
       "        vertical-align: middle;\n",
       "    }\n",
       "\n",
       "    .dataframe tbody tr th {\n",
       "        vertical-align: top;\n",
       "    }\n",
       "\n",
       "    .dataframe thead th {\n",
       "        text-align: right;\n",
       "    }\n",
       "</style>\n",
       "<table border=\"1\" class=\"dataframe\">\n",
       "  <thead>\n",
       "    <tr style=\"text-align: right;\">\n",
       "      <th></th>\n",
       "      <th>stars</th>\n",
       "      <th>text</th>\n",
       "    </tr>\n",
       "  </thead>\n",
       "  <tbody>\n",
       "    <tr>\n",
       "      <th>0</th>\n",
       "      <td>1</td>\n",
       "      <td>Please stay away from this place if you can! I...</td>\n",
       "    </tr>\n",
       "    <tr>\n",
       "      <th>1</th>\n",
       "      <td>5</td>\n",
       "      <td>My husband has been a patient of Dr. Byrne for...</td>\n",
       "    </tr>\n",
       "    <tr>\n",
       "      <th>2</th>\n",
       "      <td>4</td>\n",
       "      <td>Dr. Byrne is a great doctor! She has great bed...</td>\n",
       "    </tr>\n",
       "    <tr>\n",
       "      <th>3</th>\n",
       "      <td>3</td>\n",
       "      <td>I'm raising my review as Dr Bryne's has been m...</td>\n",
       "    </tr>\n",
       "    <tr>\n",
       "      <th>4</th>\n",
       "      <td>1</td>\n",
       "      <td>I wish I could give 0 stars. Worst office I've...</td>\n",
       "    </tr>\n",
       "  </tbody>\n",
       "</table>\n",
       "</div>"
      ],
      "text/plain": [
       "   stars                                               text\n",
       "0      1  Please stay away from this place if you can! I...\n",
       "1      5  My husband has been a patient of Dr. Byrne for...\n",
       "2      4  Dr. Byrne is a great doctor! She has great bed...\n",
       "3      3  I'm raising my review as Dr Bryne's has been m...\n",
       "4      1  I wish I could give 0 stars. Worst office I've..."
      ]
     },
     "execution_count": 10,
     "metadata": {},
     "output_type": "execute_result"
    }
   ],
   "source": [
    "data.head()"
   ]
  },
  {
   "cell_type": "code",
   "execution_count": 12,
   "metadata": {},
   "outputs": [],
   "source": [
    "# %%time\n",
    "# data['cleaned'] = data['text'].apply(lambda x: \" \".join([stemmer.stem(i) for i in re.sub(\"[^a-zA-Z]\", \" \", x).split() if i not in words]).lower())"
   ]
  },
  {
   "cell_type": "code",
   "execution_count": null,
   "metadata": {},
   "outputs": [],
   "source": [
    "data.info()"
   ]
  },
  {
   "cell_type": "code",
   "execution_count": null,
   "metadata": {},
   "outputs": [],
   "source": [
    "data.head()"
   ]
  },
  {
   "cell_type": "code",
   "execution_count": 11,
   "metadata": {},
   "outputs": [
    {
     "data": {
      "text/html": [
       "<div>\n",
       "<style scoped>\n",
       "    .dataframe tbody tr th:only-of-type {\n",
       "        vertical-align: middle;\n",
       "    }\n",
       "\n",
       "    .dataframe tbody tr th {\n",
       "        vertical-align: top;\n",
       "    }\n",
       "\n",
       "    .dataframe thead th {\n",
       "        text-align: right;\n",
       "    }\n",
       "</style>\n",
       "<table border=\"1\" class=\"dataframe\">\n",
       "  <thead>\n",
       "    <tr style=\"text-align: right;\">\n",
       "      <th></th>\n",
       "      <th>stars</th>\n",
       "      <th>text</th>\n",
       "    </tr>\n",
       "  </thead>\n",
       "  <tbody>\n",
       "    <tr>\n",
       "      <th>0</th>\n",
       "      <td>1</td>\n",
       "      <td>Please stay away from this place if you can! I...</td>\n",
       "    </tr>\n",
       "    <tr>\n",
       "      <th>1</th>\n",
       "      <td>5</td>\n",
       "      <td>My husband has been a patient of Dr. Byrne for...</td>\n",
       "    </tr>\n",
       "    <tr>\n",
       "      <th>4</th>\n",
       "      <td>1</td>\n",
       "      <td>I wish I could give 0 stars. Worst office I've...</td>\n",
       "    </tr>\n",
       "    <tr>\n",
       "      <th>5</th>\n",
       "      <td>1</td>\n",
       "      <td>I went to the emergency room because i was hav...</td>\n",
       "    </tr>\n",
       "    <tr>\n",
       "      <th>6</th>\n",
       "      <td>5</td>\n",
       "      <td>Dr. Byrne is an excellent doctor with all the ...</td>\n",
       "    </tr>\n",
       "  </tbody>\n",
       "</table>\n",
       "</div>"
      ],
      "text/plain": [
       "   stars                                               text\n",
       "0      1  Please stay away from this place if you can! I...\n",
       "1      5  My husband has been a patient of Dr. Byrne for...\n",
       "4      1  I wish I could give 0 stars. Worst office I've...\n",
       "5      1  I went to the emergency room because i was hav...\n",
       "6      5  Dr. Byrne is an excellent doctor with all the ..."
      ]
     },
     "execution_count": 11,
     "metadata": {},
     "output_type": "execute_result"
    }
   ],
   "source": [
    "data = data.ix[np.where((data.stars==1)|(data.stars==5))]\n",
    "data.head()"
   ]
  },
  {
   "cell_type": "code",
   "execution_count": 13,
   "metadata": {},
   "outputs": [],
   "source": [
    "data.stars.replace(1,0,inplace=True)\n",
    "data.stars.replace(5,1,inplace=True)"
   ]
  },
  {
   "cell_type": "code",
   "execution_count": 14,
   "metadata": {},
   "outputs": [
    {
     "data": {
      "text/html": [
       "<div>\n",
       "<style scoped>\n",
       "    .dataframe tbody tr th:only-of-type {\n",
       "        vertical-align: middle;\n",
       "    }\n",
       "\n",
       "    .dataframe tbody tr th {\n",
       "        vertical-align: top;\n",
       "    }\n",
       "\n",
       "    .dataframe thead th {\n",
       "        text-align: right;\n",
       "    }\n",
       "</style>\n",
       "<table border=\"1\" class=\"dataframe\">\n",
       "  <thead>\n",
       "    <tr style=\"text-align: right;\">\n",
       "      <th></th>\n",
       "      <th>stars</th>\n",
       "      <th>text</th>\n",
       "    </tr>\n",
       "  </thead>\n",
       "  <tbody>\n",
       "    <tr>\n",
       "      <th>0</th>\n",
       "      <td>0</td>\n",
       "      <td>Please stay away from this place if you can! I...</td>\n",
       "    </tr>\n",
       "    <tr>\n",
       "      <th>1</th>\n",
       "      <td>1</td>\n",
       "      <td>My husband has been a patient of Dr. Byrne for...</td>\n",
       "    </tr>\n",
       "    <tr>\n",
       "      <th>4</th>\n",
       "      <td>0</td>\n",
       "      <td>I wish I could give 0 stars. Worst office I've...</td>\n",
       "    </tr>\n",
       "    <tr>\n",
       "      <th>5</th>\n",
       "      <td>0</td>\n",
       "      <td>I went to the emergency room because i was hav...</td>\n",
       "    </tr>\n",
       "    <tr>\n",
       "      <th>6</th>\n",
       "      <td>1</td>\n",
       "      <td>Dr. Byrne is an excellent doctor with all the ...</td>\n",
       "    </tr>\n",
       "  </tbody>\n",
       "</table>\n",
       "</div>"
      ],
      "text/plain": [
       "   stars                                               text\n",
       "0      0  Please stay away from this place if you can! I...\n",
       "1      1  My husband has been a patient of Dr. Byrne for...\n",
       "4      0  I wish I could give 0 stars. Worst office I've...\n",
       "5      0  I went to the emergency room because i was hav...\n",
       "6      1  Dr. Byrne is an excellent doctor with all the ..."
      ]
     },
     "execution_count": 14,
     "metadata": {},
     "output_type": "execute_result"
    }
   ],
   "source": [
    "data.head()"
   ]
  },
  {
   "cell_type": "code",
   "execution_count": null,
   "metadata": {},
   "outputs": [],
   "source": [
    "## Problems\n",
    "- names get cut of\n",
    "- "
   ]
  },
  {
   "cell_type": "code",
   "execution_count": null,
   "metadata": {},
   "outputs": [],
   "source": [
    "### stars"
   ]
  },
  {
   "cell_type": "code",
   "execution_count": 15,
   "metadata": {},
   "outputs": [
    {
     "data": {
      "text/plain": [
       "1    25502\n",
       "0    20129\n",
       "Name: stars, dtype: int64"
      ]
     },
     "execution_count": 15,
     "metadata": {},
     "output_type": "execute_result"
    }
   ],
   "source": [
    "data.stars.value_counts()"
   ]
  },
  {
   "cell_type": "markdown",
   "metadata": {},
   "source": [
    "### Split positive and negtative\n",
    "- total positive 31,186\n",
    "- total negative : 22451\n",
    "- total meh : 10,853\n",
    "\n",
    "drop 2-4"
   ]
  },
  {
   "cell_type": "code",
   "execution_count": 16,
   "metadata": {},
   "outputs": [
    {
     "name": "stdout",
     "output_type": "stream",
     "text": [
      "<class 'pandas.core.frame.DataFrame'>\n",
      "Int64Index: 45631 entries, 0 to 54755\n",
      "Data columns (total 2 columns):\n",
      "stars    45631 non-null int64\n",
      "text     45631 non-null object\n",
      "dtypes: int64(1), object(1)\n",
      "memory usage: 1.0+ MB\n"
     ]
    }
   ],
   "source": [
    "data.info()"
   ]
  },
  {
   "cell_type": "code",
   "execution_count": 17,
   "metadata": {},
   "outputs": [
    {
     "data": {
      "text/plain": [
       "1    25502\n",
       "0    20129\n",
       "Name: stars, dtype: int64"
      ]
     },
     "execution_count": 17,
     "metadata": {},
     "output_type": "execute_result"
    }
   ],
   "source": [
    "data.stars.value_counts()"
   ]
  },
  {
   "cell_type": "code",
   "execution_count": 18,
   "metadata": {},
   "outputs": [
    {
     "data": {
      "text/html": [
       "<div>\n",
       "<style scoped>\n",
       "    .dataframe tbody tr th:only-of-type {\n",
       "        vertical-align: middle;\n",
       "    }\n",
       "\n",
       "    .dataframe tbody tr th {\n",
       "        vertical-align: top;\n",
       "    }\n",
       "\n",
       "    .dataframe thead th {\n",
       "        text-align: right;\n",
       "    }\n",
       "</style>\n",
       "<table border=\"1\" class=\"dataframe\">\n",
       "  <thead>\n",
       "    <tr style=\"text-align: right;\">\n",
       "      <th></th>\n",
       "      <th>stars</th>\n",
       "      <th>text</th>\n",
       "    </tr>\n",
       "  </thead>\n",
       "  <tbody>\n",
       "    <tr>\n",
       "      <th>0</th>\n",
       "      <td>0</td>\n",
       "      <td>Please stay away from this place if you can! I...</td>\n",
       "    </tr>\n",
       "    <tr>\n",
       "      <th>1</th>\n",
       "      <td>1</td>\n",
       "      <td>My husband has been a patient of Dr. Byrne for...</td>\n",
       "    </tr>\n",
       "    <tr>\n",
       "      <th>4</th>\n",
       "      <td>0</td>\n",
       "      <td>I wish I could give 0 stars. Worst office I've...</td>\n",
       "    </tr>\n",
       "    <tr>\n",
       "      <th>5</th>\n",
       "      <td>0</td>\n",
       "      <td>I went to the emergency room because i was hav...</td>\n",
       "    </tr>\n",
       "    <tr>\n",
       "      <th>6</th>\n",
       "      <td>1</td>\n",
       "      <td>Dr. Byrne is an excellent doctor with all the ...</td>\n",
       "    </tr>\n",
       "  </tbody>\n",
       "</table>\n",
       "</div>"
      ],
      "text/plain": [
       "   stars                                               text\n",
       "0      0  Please stay away from this place if you can! I...\n",
       "1      1  My husband has been a patient of Dr. Byrne for...\n",
       "4      0  I wish I could give 0 stars. Worst office I've...\n",
       "5      0  I went to the emergency room because i was hav...\n",
       "6      1  Dr. Byrne is an excellent doctor with all the ..."
      ]
     },
     "execution_count": 18,
     "metadata": {},
     "output_type": "execute_result"
    }
   ],
   "source": [
    "data.head()"
   ]
  },
  {
   "cell_type": "markdown",
   "metadata": {},
   "source": [
    "## Demo test"
   ]
  },
  {
   "cell_type": "code",
   "execution_count": 19,
   "metadata": {},
   "outputs": [],
   "source": [
    "review = data['text'].values.astype(str)\n",
    "sentiments = data['stars'].values"
   ]
  },
  {
   "cell_type": "code",
   "execution_count": 20,
   "metadata": {},
   "outputs": [],
   "source": [
    "# Split the data for training and for testing and shuffle it\n",
    "X_train, X_test, y_train, y_test = train_test_split(review, sentiments,\n",
    "test_size=0.2, shuffle=True)"
   ]
  },
  {
   "cell_type": "code",
   "execution_count": 21,
   "metadata": {},
   "outputs": [
    {
     "name": "stdout",
     "output_type": "stream",
     "text": [
      "CPU times: user 0 ns, sys: 0 ns, total: 0 ns\n",
      "Wall time: 211 µs\n"
     ]
    }
   ],
   "source": [
    "%%time\n",
    "pipeline = Pipeline([('vect', TfidfVectorizer(ngram_range=(1, 2), stop_words=\"english\", sublinear_tf=True)),\n",
    "                     ('chi',  SelectKBest(chi2, k=10000)),\n",
    "                     ('clf', LinearSVC(C=1.0, penalty='l1', max_iter=3000, dual=False))])"
   ]
  },
  {
   "cell_type": "code",
   "execution_count": 22,
   "metadata": {},
   "outputs": [
    {
     "name": "stdout",
     "output_type": "stream",
     "text": [
      "CPU times: user 12.6 s, sys: 1.46 s, total: 14.1 s\n",
      "Wall time: 12.8 s\n"
     ]
    }
   ],
   "source": [
    "%%time\n",
    "model = pipeline.fit(X_train, y_train)"
   ]
  },
  {
   "cell_type": "code",
   "execution_count": 23,
   "metadata": {},
   "outputs": [
    {
     "name": "stdout",
     "output_type": "stream",
     "text": [
      "CPU times: user 0 ns, sys: 0 ns, total: 0 ns\n",
      "Wall time: 26.5 µs\n"
     ]
    }
   ],
   "source": [
    "%%time\n",
    "vectorizer = model.named_steps['vect']\n",
    "chi = model.named_steps['chi']\n",
    "clf = model.named_steps['clf']"
   ]
  },
  {
   "cell_type": "code",
   "execution_count": 24,
   "metadata": {},
   "outputs": [
    {
     "name": "stdout",
     "output_type": "stream",
     "text": [
      "CPU times: user 1.66 s, sys: 12 ms, total: 1.67 s\n",
      "Wall time: 1.66 s\n"
     ]
    }
   ],
   "source": [
    "%%time\n",
    "feature_names = vectorizer.get_feature_names()\n",
    "feature_names = [feature_names[i] for i in chi.get_support(indices=True)]\n",
    "feature_names = np.asarray(feature_names)"
   ]
  },
  {
   "cell_type": "code",
   "execution_count": 25,
   "metadata": {},
   "outputs": [],
   "source": [
    "target_names =['']"
   ]
  },
  {
   "cell_type": "code",
   "execution_count": 26,
   "metadata": {},
   "outputs": [
    {
     "name": "stdout",
     "output_type": "stream",
     "text": [
      "top 10 keywords per class:\n",
      ": excellent pleased wonderful love thank grateful takes time great amazing best\n"
     ]
    }
   ],
   "source": [
    "print(\"top 10 keywords per class:\")\n",
    "\n",
    "for i, label in enumerate(target_names):\n",
    "    top10 = np.argsort(clf.coef_[i])[-10:]\n",
    "    print(\"%s: %s\" % (label, \" \".join(feature_names[top10])))"
   ]
  },
  {
   "cell_type": "code",
   "execution_count": 27,
   "metadata": {},
   "outputs": [
    {
     "name": "stdout",
     "output_type": "stream",
     "text": [
      "accuracy score: 0.9688835323764654\n",
      "CPU times: user 1.7 s, sys: 0 ns, total: 1.7 s\n",
      "Wall time: 1.7 s\n"
     ]
    }
   ],
   "source": [
    "%%time\n",
    "print(\"accuracy score: \" + str(model.score(X_test, y_test)))"
   ]
  },
  {
   "cell_type": "markdown",
   "metadata": {},
   "source": [
    "## Multinomial NB\n",
    "-"
   ]
  },
  {
   "cell_type": "code",
   "execution_count": 28,
   "metadata": {},
   "outputs": [],
   "source": [
    "from sklearn.feature_extraction.text import CountVectorizer\n",
    "from sklearn.naive_bayes import MultinomialNB\n",
    "from sklearn.model_selection import train_test_split"
   ]
  },
  {
   "cell_type": "code",
   "execution_count": 29,
   "metadata": {},
   "outputs": [
    {
     "data": {
      "text/plain": [
       "array([0, 1, 0, ..., 0, 0, 1])"
      ]
     },
     "execution_count": 29,
     "metadata": {},
     "output_type": "execute_result"
    }
   ],
   "source": [
    " data['stars'].values"
   ]
  },
  {
   "cell_type": "code",
   "execution_count": 30,
   "metadata": {},
   "outputs": [],
   "source": [
    "review = data['text'].values.astype(str)\n",
    "sentiments = data['stars'].values"
   ]
  },
  {
   "cell_type": "code",
   "execution_count": 31,
   "metadata": {},
   "outputs": [],
   "source": [
    "# Split the data for training and for testing and shuffle it\n",
    "X_train, X_test, y_train, y_test = train_test_split(review, sentiments,\n",
    "test_size=0.2, shuffle=True)"
   ]
  },
  {
   "cell_type": "code",
   "execution_count": 32,
   "metadata": {},
   "outputs": [
    {
     "data": {
      "text/plain": [
       "CountVectorizer(analyzer='word', binary=False, decode_error='strict',\n",
       "        dtype=<class 'numpy.int64'>, encoding='utf-8', input='content',\n",
       "        lowercase=True, max_df=1.0, max_features=None, min_df=1,\n",
       "        ngram_range=(1, 1), preprocessor=None, stop_words=None,\n",
       "        strip_accents=None, token_pattern='(?u)\\\\b\\\\w\\\\w+\\\\b',\n",
       "        tokenizer=None, vocabulary=None)"
      ]
     },
     "execution_count": 32,
     "metadata": {},
     "output_type": "execute_result"
    }
   ],
   "source": [
    "vectorizer = CountVectorizer(lowercase=True)\n",
    "# Compute the vocabulary only on the training data\n",
    "vectorizer.fit(X_train)"
   ]
  },
  {
   "cell_type": "code",
   "execution_count": 33,
   "metadata": {},
   "outputs": [],
   "source": [
    "# Transform the text list to a matrix form\n",
    "X_train_vectorized = vectorizer.transform(X_train)"
   ]
  },
  {
   "cell_type": "code",
   "execution_count": 34,
   "metadata": {},
   "outputs": [
    {
     "name": "stdout",
     "output_type": "stream",
     "text": [
      "Accuracy= 0.9562835542894708\n"
     ]
    }
   ],
   "source": [
    "classifier = MultinomialNB()\n",
    "\n",
    "# Train the classifier\n",
    "classifier.fit(X_train_vectorized, y_train)\n",
    "\n",
    "# Vectorize the test data\n",
    "X_test_vectorized = vectorizer.transform(X_test)\n",
    "\n",
    "# Check our classifier performance\n",
    "score = classifier.score(X_test_vectorized, y_test)\n",
    "\n",
    "print(\"Accuracy=\", score)"
   ]
  },
  {
   "cell_type": "markdown",
   "metadata": {},
   "source": [
    "# Results: out of box\n",
    "\n",
    "- all stars: `Accuracy= 0.8001240502403474`\n",
    "- 1 & 5 starts: `Accuracy= 0.9561894108873975`"
   ]
  },
  {
   "cell_type": "code",
   "execution_count": 35,
   "metadata": {},
   "outputs": [
    {
     "data": {
      "text/plain": [
       "\"My 20 minute wait turned in to 2 hours and just before I was called back I saw a small note saying the provider was not a medical doctor, but a Physician's Assistant. At one point I asked if they had a room where I could go lie down (so I wouldn't fall down). I was told no, they had to keep rooms open for emergencies. So wait, my dizzy and feel like passing out isn't emergent enough? Sheesh. A 2-hour wait with a mere 4 patients in the waiting room is ridiculous. If I hadn't felt so yucky I would have left. Unless they make some changes, I recommend finding another urgent care.\""
      ]
     },
     "execution_count": 35,
     "metadata": {},
     "output_type": "execute_result"
    }
   ],
   "source": [
    "X_train[0]"
   ]
  },
  {
   "cell_type": "code",
   "execution_count": 36,
   "metadata": {},
   "outputs": [
    {
     "data": {
      "text/plain": [
       "['00',\n",
       " '000',\n",
       " '000000',\n",
       " '00204',\n",
       " '007',\n",
       " '00a',\n",
       " '00am',\n",
       " '00p',\n",
       " '00pm',\n",
       " '01',\n",
       " '014',\n",
       " '016',\n",
       " '019',\n",
       " '01am',\n",
       " '01mg',\n",
       " '01pm',\n",
       " '02',\n",
       " '0200',\n",
       " '02am',\n",
       " '02pm',\n",
       " '03',\n",
       " '0300',\n",
       " '03am',\n",
       " '03jun18',\n",
       " '03pm',\n",
       " '04',\n",
       " '0404',\n",
       " '0430',\n",
       " '045',\n",
       " '047',\n",
       " '049',\n",
       " '04am',\n",
       " '04pm',\n",
       " '05',\n",
       " '0530',\n",
       " '05am',\n",
       " '05p',\n",
       " '05pm',\n",
       " '06',\n",
       " '06pm',\n",
       " '07',\n",
       " '0700',\n",
       " '0709',\n",
       " '0710',\n",
       " '0720',\n",
       " '0723',\n",
       " '0727',\n",
       " '0730',\n",
       " '0745',\n",
       " '075',\n",
       " '0755',\n",
       " '07a',\n",
       " '07am',\n",
       " '07pm',\n",
       " '08',\n",
       " '080',\n",
       " '0800',\n",
       " '0805',\n",
       " '0825',\n",
       " '0845',\n",
       " '088',\n",
       " '08am',\n",
       " '08pm',\n",
       " '09',\n",
       " '090',\n",
       " '0900',\n",
       " '0926',\n",
       " '0945',\n",
       " '0952',\n",
       " '0985773006',\n",
       " '09am',\n",
       " '09pm',\n",
       " '0_o',\n",
       " '0a3a',\n",
       " '0n',\n",
       " '0ne',\n",
       " '0star',\n",
       " '10',\n",
       " '100',\n",
       " '1000',\n",
       " '10000',\n",
       " '1000000',\n",
       " '100000000000',\n",
       " '1000k',\n",
       " '1000s',\n",
       " '1000x',\n",
       " '1001',\n",
       " '1005',\n",
       " '1008',\n",
       " '100days',\n",
       " '100k',\n",
       " '100lb',\n",
       " '100pm',\n",
       " '100por',\n",
       " '100something',\n",
       " '100th',\n",
       " '100x',\n",
       " '100xs',\n",
       " '101',\n",
       " '1010',\n",
       " '1012',\n",
       " '1014',\n",
       " '1015',\n",
       " '10159531',\n",
       " '1015ish',\n",
       " '102',\n",
       " '1020',\n",
       " '1021',\n",
       " '1022',\n",
       " '1025am',\n",
       " '1025pm',\n",
       " '102f',\n",
       " '103',\n",
       " '1030',\n",
       " '1030pm',\n",
       " '1034',\n",
       " '1035',\n",
       " '103rd',\n",
       " '104',\n",
       " '1040',\n",
       " '1042',\n",
       " '1045',\n",
       " '1045am',\n",
       " '1047',\n",
       " '105',\n",
       " '1050',\n",
       " '1054am',\n",
       " '106',\n",
       " '10652',\n",
       " '107',\n",
       " '1075',\n",
       " '108',\n",
       " '10815',\n",
       " '108th',\n",
       " '109',\n",
       " '1099',\n",
       " '10a',\n",
       " '10am',\n",
       " '10amish',\n",
       " '10cm',\n",
       " '10days',\n",
       " '10ish',\n",
       " '10k',\n",
       " '10ks',\n",
       " '10lbs',\n",
       " '10mg',\n",
       " '10min',\n",
       " '10mins',\n",
       " '10minutes',\n",
       " '10mn',\n",
       " '10mns',\n",
       " '10o',\n",
       " '10oz',\n",
       " '10pm',\n",
       " '10s',\n",
       " '10st',\n",
       " '10stars',\n",
       " '10th',\n",
       " '10times',\n",
       " '10wks',\n",
       " '10x',\n",
       " '10years',\n",
       " '10yr',\n",
       " '10yrs',\n",
       " '11',\n",
       " '110',\n",
       " '1100',\n",
       " '11000',\n",
       " '1106am',\n",
       " '110lbs',\n",
       " '111',\n",
       " '1110',\n",
       " '1111',\n",
       " '1115',\n",
       " '1115am',\n",
       " '112',\n",
       " '1120',\n",
       " '112018',\n",
       " '1125',\n",
       " '113',\n",
       " '1130',\n",
       " '1130am',\n",
       " '1130pm',\n",
       " '114',\n",
       " '1140',\n",
       " '1145',\n",
       " '1145pm',\n",
       " '115',\n",
       " '1150',\n",
       " '1155',\n",
       " '1155am',\n",
       " '1156',\n",
       " '1157',\n",
       " '1158',\n",
       " '116',\n",
       " '117',\n",
       " '117th',\n",
       " '118',\n",
       " '119',\n",
       " '1194',\n",
       " '1199',\n",
       " '11am',\n",
       " '11hrs',\n",
       " '11ish',\n",
       " '11month',\n",
       " '11pm',\n",
       " '11th',\n",
       " '11yo',\n",
       " '11yrs',\n",
       " '12',\n",
       " '120',\n",
       " '1200',\n",
       " '1205',\n",
       " '120lbs',\n",
       " '120mgs',\n",
       " '120x',\n",
       " '121',\n",
       " '1215',\n",
       " '122',\n",
       " '1220',\n",
       " '1223',\n",
       " '12235533',\n",
       " '123',\n",
       " '1230',\n",
       " '1230pm',\n",
       " '12311',\n",
       " '1233pm',\n",
       " '124',\n",
       " '1240',\n",
       " '1245',\n",
       " '1245pm',\n",
       " '1246pm',\n",
       " '125',\n",
       " '1250',\n",
       " '126',\n",
       " '127',\n",
       " '128',\n",
       " '1280',\n",
       " '129',\n",
       " '12am',\n",
       " '12hr',\n",
       " '12hrs',\n",
       " '12k',\n",
       " '12month',\n",
       " '12mos',\n",
       " '12noo',\n",
       " '12noon',\n",
       " '12oz',\n",
       " '12p',\n",
       " '12pm',\n",
       " '12rh',\n",
       " '12th',\n",
       " '12yrs',\n",
       " '13',\n",
       " '130',\n",
       " '1300',\n",
       " '13000',\n",
       " '130am',\n",
       " '130pm',\n",
       " '131',\n",
       " '1313',\n",
       " '1314',\n",
       " '132',\n",
       " '1325',\n",
       " '133',\n",
       " '133lbs',\n",
       " '134',\n",
       " '135',\n",
       " '1355',\n",
       " '135lbs',\n",
       " '136',\n",
       " '13657',\n",
       " '137',\n",
       " '1370539844572',\n",
       " '138',\n",
       " '138bc20d02dcc2d8',\n",
       " '139',\n",
       " '13901',\n",
       " '13917',\n",
       " '13am',\n",
       " '13mm',\n",
       " '13pm',\n",
       " '13th',\n",
       " '13w4d',\n",
       " '13years',\n",
       " '13yr',\n",
       " '13yrs',\n",
       " '14',\n",
       " '140',\n",
       " '1400',\n",
       " '140s',\n",
       " '141',\n",
       " '1413',\n",
       " '1418',\n",
       " '142',\n",
       " '1425',\n",
       " '14267',\n",
       " '143',\n",
       " '145',\n",
       " '1450',\n",
       " '145lbs',\n",
       " '146',\n",
       " '1462',\n",
       " '147',\n",
       " '1476',\n",
       " '148',\n",
       " '149',\n",
       " '14cm',\n",
       " '14k',\n",
       " '14min',\n",
       " '14month',\n",
       " '14pm',\n",
       " '14th',\n",
       " '14w',\n",
       " '14weeks',\n",
       " '14years',\n",
       " '14yr',\n",
       " '15',\n",
       " '150',\n",
       " '1500',\n",
       " '15000',\n",
       " '1500cals',\n",
       " '1505',\n",
       " '150k',\n",
       " '150mg',\n",
       " '150s',\n",
       " '151',\n",
       " '1515',\n",
       " '1516',\n",
       " '152',\n",
       " '1520',\n",
       " '15232',\n",
       " '152pm',\n",
       " '153',\n",
       " '1533',\n",
       " '1536',\n",
       " '1537',\n",
       " '1538',\n",
       " '154',\n",
       " '155',\n",
       " '1557',\n",
       " '156',\n",
       " '157',\n",
       " '158',\n",
       " '159',\n",
       " '1599',\n",
       " '15a',\n",
       " '15am',\n",
       " '15cmx16cm',\n",
       " '15ish',\n",
       " '15k',\n",
       " '15m',\n",
       " '15mg',\n",
       " '15min',\n",
       " '15mins',\n",
       " '15minute',\n",
       " '15minutes',\n",
       " '15mm',\n",
       " '15mo',\n",
       " '15p',\n",
       " '15pm',\n",
       " '15th',\n",
       " '15weeks',\n",
       " '15x',\n",
       " '15yo',\n",
       " '15yrs',\n",
       " '16',\n",
       " '160',\n",
       " '1600',\n",
       " '16046',\n",
       " '160k',\n",
       " '160s',\n",
       " '161',\n",
       " '1612',\n",
       " '1614',\n",
       " '162',\n",
       " '1630',\n",
       " '1636',\n",
       " '164',\n",
       " '1643',\n",
       " '1647',\n",
       " '165',\n",
       " '1650',\n",
       " '165lbs',\n",
       " '166',\n",
       " '167',\n",
       " '168',\n",
       " '169',\n",
       " '16cm',\n",
       " '16k',\n",
       " '16th',\n",
       " '16x12',\n",
       " '16years',\n",
       " '16yrs',\n",
       " '17',\n",
       " '170',\n",
       " '1700',\n",
       " '1701',\n",
       " '1710',\n",
       " '172',\n",
       " '1728',\n",
       " '173',\n",
       " '174',\n",
       " '175',\n",
       " '176',\n",
       " '1770',\n",
       " '178',\n",
       " '179',\n",
       " '17am',\n",
       " '17mos',\n",
       " '17st',\n",
       " '17th',\n",
       " '17weeks',\n",
       " '17yrs',\n",
       " '18',\n",
       " '180',\n",
       " '1800',\n",
       " '18000',\n",
       " '1800s',\n",
       " '181',\n",
       " '182',\n",
       " '183',\n",
       " '1831',\n",
       " '1839',\n",
       " '18404',\n",
       " '185',\n",
       " '1850',\n",
       " '186',\n",
       " '1862',\n",
       " '187',\n",
       " '188',\n",
       " '189',\n",
       " '1890',\n",
       " '18am',\n",
       " '18min',\n",
       " '18mins',\n",
       " '18month',\n",
       " '18now',\n",
       " '18th',\n",
       " '18weeks',\n",
       " '18years',\n",
       " '18yrs',\n",
       " '19',\n",
       " '190',\n",
       " '1900',\n",
       " '191',\n",
       " '1917',\n",
       " '1920',\n",
       " '1920s',\n",
       " '193',\n",
       " '1930s',\n",
       " '1938271873727276372',\n",
       " '195',\n",
       " '1950',\n",
       " '1950s',\n",
       " '196',\n",
       " '1960s',\n",
       " '1963',\n",
       " '1965',\n",
       " '1967',\n",
       " '1969',\n",
       " '197',\n",
       " '1970',\n",
       " '1972',\n",
       " '1974',\n",
       " '1975',\n",
       " '1978',\n",
       " '1980',\n",
       " '1980s',\n",
       " '1981',\n",
       " '1982',\n",
       " '1984',\n",
       " '1985',\n",
       " '1986',\n",
       " '1987',\n",
       " '1988',\n",
       " '1989',\n",
       " '199',\n",
       " '1990',\n",
       " '1990s',\n",
       " '1991',\n",
       " '1992',\n",
       " '1993',\n",
       " '1994',\n",
       " '1995',\n",
       " '1996',\n",
       " '1997',\n",
       " '1998',\n",
       " '1999',\n",
       " '19am',\n",
       " '19mo',\n",
       " '19th',\n",
       " '19year',\n",
       " '19yr',\n",
       " '19yrs',\n",
       " '1a',\n",
       " '1am',\n",
       " '1cm',\n",
       " '1doctor',\n",
       " '1dose',\n",
       " '1h',\n",
       " '1hour',\n",
       " '1hr',\n",
       " '1hr15min',\n",
       " '1k',\n",
       " '1mg',\n",
       " '1million',\n",
       " '1ml',\n",
       " '1mm',\n",
       " '1month',\n",
       " '1oz',\n",
       " '1person',\n",
       " '1plus',\n",
       " '1pm',\n",
       " '1s',\n",
       " '1st',\n",
       " '1star',\n",
       " '1t',\n",
       " '1week',\n",
       " '1x',\n",
       " '1year',\n",
       " '1yo',\n",
       " '1yr',\n",
       " '1yrs',\n",
       " '20',\n",
       " '200',\n",
       " '2000',\n",
       " '2000k',\n",
       " '2000s',\n",
       " '2001',\n",
       " '2002',\n",
       " '2003',\n",
       " '2004',\n",
       " '2005',\n",
       " '20053381',\n",
       " '2006',\n",
       " '2007',\n",
       " '2008',\n",
       " '2009',\n",
       " '200k',\n",
       " '200lb',\n",
       " '200lbs',\n",
       " '200mg',\n",
       " '200mgs',\n",
       " '200p',\n",
       " '201',\n",
       " '2010',\n",
       " '2011',\n",
       " '2012',\n",
       " '2013',\n",
       " '2014',\n",
       " '2015',\n",
       " '2016',\n",
       " '2017',\n",
       " '2018',\n",
       " '2018i',\n",
       " '2019',\n",
       " '201a',\n",
       " '202',\n",
       " '2025',\n",
       " '203',\n",
       " '2034',\n",
       " '204',\n",
       " '20414',\n",
       " '2045',\n",
       " '205',\n",
       " '207',\n",
       " '208',\n",
       " '209',\n",
       " '20am',\n",
       " '20k',\n",
       " '20lbs',\n",
       " '20m',\n",
       " '20mg',\n",
       " '20min',\n",
       " '20mins',\n",
       " '20minutes',\n",
       " '20mjns',\n",
       " '20month',\n",
       " '20oz',\n",
       " '20p',\n",
       " '20pm',\n",
       " '20s',\n",
       " '20t',\n",
       " '20th',\n",
       " '20unit',\n",
       " '20week',\n",
       " '20yr',\n",
       " '20yrs',\n",
       " '21',\n",
       " '210',\n",
       " '2100',\n",
       " '2106',\n",
       " '210p',\n",
       " '211',\n",
       " '2110',\n",
       " '212',\n",
       " '213',\n",
       " '215',\n",
       " '2150',\n",
       " '215p',\n",
       " '215pm',\n",
       " '216',\n",
       " '217',\n",
       " '218',\n",
       " '219',\n",
       " '2190',\n",
       " '21day',\n",
       " '21inches',\n",
       " '21pm',\n",
       " '21st',\n",
       " '21weeks',\n",
       " '21y',\n",
       " '22',\n",
       " '220',\n",
       " '2200',\n",
       " '220ish',\n",
       " '221',\n",
       " '223',\n",
       " '224',\n",
       " '2242',\n",
       " '225',\n",
       " '2250',\n",
       " '2254',\n",
       " '226',\n",
       " '227',\n",
       " '2273',\n",
       " '228',\n",
       " '22nd',\n",
       " '22pm',\n",
       " '22yrs',\n",
       " '23',\n",
       " '230',\n",
       " '2300',\n",
       " '23015',\n",
       " '230am',\n",
       " '230p',\n",
       " '230pm',\n",
       " '231',\n",
       " '2311',\n",
       " '2313',\n",
       " '2318034',\n",
       " '233',\n",
       " '234',\n",
       " '2354',\n",
       " '23948',\n",
       " '23am',\n",
       " '23apr14',\n",
       " '23at',\n",
       " '23mins',\n",
       " '23pm',\n",
       " '23rd',\n",
       " '23yrs',\n",
       " '24',\n",
       " '240',\n",
       " '2400',\n",
       " '240pm',\n",
       " '241',\n",
       " '2417',\n",
       " '243',\n",
       " '244',\n",
       " '245',\n",
       " '2451',\n",
       " '245pm',\n",
       " '247pm',\n",
       " '248',\n",
       " '2481',\n",
       " '24h',\n",
       " '24hour',\n",
       " '24hours',\n",
       " '24hr',\n",
       " '24hrs',\n",
       " '24pm',\n",
       " '24rd',\n",
       " '24th',\n",
       " '25',\n",
       " '250',\n",
       " '2500',\n",
       " '25000',\n",
       " '250p',\n",
       " '251',\n",
       " '2520',\n",
       " '253',\n",
       " '254',\n",
       " '255',\n",
       " '256',\n",
       " '257',\n",
       " '258',\n",
       " '258pm',\n",
       " '25a',\n",
       " '25am',\n",
       " '25dollar',\n",
       " '25hours',\n",
       " '25ish',\n",
       " '25k',\n",
       " '25lbs',\n",
       " '25m',\n",
       " '25mg',\n",
       " '25min',\n",
       " '25mins',\n",
       " '25ml',\n",
       " '25mn',\n",
       " '25p',\n",
       " '25pm',\n",
       " '25th',\n",
       " '25yrs',\n",
       " '26',\n",
       " '260',\n",
       " '2600',\n",
       " '2614',\n",
       " '265',\n",
       " '267',\n",
       " '268',\n",
       " '26am',\n",
       " '26k',\n",
       " '26th',\n",
       " '26year',\n",
       " '26yr',\n",
       " '27',\n",
       " '270',\n",
       " '2704',\n",
       " '270lbs',\n",
       " '271',\n",
       " '2712',\n",
       " '272',\n",
       " '273',\n",
       " '275',\n",
       " '276',\n",
       " '277',\n",
       " '278',\n",
       " '2791',\n",
       " '27a',\n",
       " '27am',\n",
       " '27hrs',\n",
       " '27lbs',\n",
       " '27pm',\n",
       " '27th',\n",
       " '27yr',\n",
       " '28',\n",
       " '280',\n",
       " '2800',\n",
       " '28000',\n",
       " '2810',\n",
       " '28110',\n",
       " '2826',\n",
       " '28277',\n",
       " '284',\n",
       " '285',\n",
       " '2851',\n",
       " '286',\n",
       " '287',\n",
       " '289',\n",
       " '28days',\n",
       " '28pm',\n",
       " '28th',\n",
       " '29',\n",
       " '290',\n",
       " '294',\n",
       " '2940',\n",
       " '295',\n",
       " '2950',\n",
       " '296',\n",
       " '297',\n",
       " '298',\n",
       " '299',\n",
       " '2990',\n",
       " '29th',\n",
       " '2a',\n",
       " '2am',\n",
       " '2b',\n",
       " '2bd',\n",
       " '2bucks',\n",
       " '2bwfx1k',\n",
       " '2c',\n",
       " '2cm',\n",
       " '2cnd',\n",
       " '2d',\n",
       " '2days',\n",
       " '2h',\n",
       " '2hours',\n",
       " '2hr',\n",
       " '2hrs',\n",
       " '2i5',\n",
       " '2k',\n",
       " '2l4',\n",
       " '2lbs',\n",
       " '2leave',\n",
       " '2mg',\n",
       " '2min',\n",
       " '2mins',\n",
       " '2mm',\n",
       " '2mo',\n",
       " '2moms2twins',\n",
       " '2montgs',\n",
       " '2month',\n",
       " '2months',\n",
       " '2mths',\n",
       " '2nd',\n",
       " '2ndly',\n",
       " '2onts',\n",
       " '2oz',\n",
       " '2p',\n",
       " '2people',\n",
       " '2pm',\n",
       " '2tbs',\n",
       " '2times',\n",
       " '2vbac',\n",
       " '2view',\n",
       " '2week',\n",
       " '2weeks',\n",
       " '2wks',\n",
       " '2ww',\n",
       " '2x',\n",
       " '2x4',\n",
       " '2x5',\n",
       " '2xs',\n",
       " '2xx',\n",
       " '2y',\n",
       " '2years',\n",
       " '2yo',\n",
       " '2yos',\n",
       " '2yr',\n",
       " '2yrs',\n",
       " '30',\n",
       " '300',\n",
       " '3000',\n",
       " '3003',\n",
       " '3006',\n",
       " '300x',\n",
       " '303',\n",
       " '304',\n",
       " '305',\n",
       " '3061',\n",
       " '307',\n",
       " '308',\n",
       " '309',\n",
       " '30a',\n",
       " '30am',\n",
       " '30days',\n",
       " '30ish',\n",
       " '30k',\n",
       " '30lbs',\n",
       " '30m',\n",
       " '30mg',\n",
       " '30min',\n",
       " '30mins',\n",
       " '30minute',\n",
       " '30minutes',\n",
       " '30ml',\n",
       " '30ozs',\n",
       " '30p',\n",
       " '30pm',\n",
       " '30s',\n",
       " '30th',\n",
       " '30years',\n",
       " '30yrs',\n",
       " '31',\n",
       " '310pm',\n",
       " '311',\n",
       " '312',\n",
       " '313',\n",
       " '3131',\n",
       " '315',\n",
       " '3150',\n",
       " '316',\n",
       " '3176',\n",
       " '318',\n",
       " '319',\n",
       " '31pm',\n",
       " '31st',\n",
       " '32',\n",
       " '320',\n",
       " '3200',\n",
       " '3211',\n",
       " '323',\n",
       " '324',\n",
       " '3240',\n",
       " '3244',\n",
       " '325',\n",
       " '326',\n",
       " '327',\n",
       " '328',\n",
       " '329',\n",
       " '32a',\n",
       " '32am',\n",
       " '32b',\n",
       " '32d',\n",
       " '32ddd',\n",
       " '32k',\n",
       " '32nd',\n",
       " '32oz',\n",
       " '32pm',\n",
       " '32w',\n",
       " '32weeks',\n",
       " '32years',\n",
       " '33',\n",
       " '330',\n",
       " '3300',\n",
       " '330p',\n",
       " '330pm',\n",
       " '3322',\n",
       " '333',\n",
       " '3349',\n",
       " '335',\n",
       " '335pm',\n",
       " '336',\n",
       " '337',\n",
       " '338',\n",
       " '33yr',\n",
       " '34',\n",
       " '340',\n",
       " '3400',\n",
       " '345',\n",
       " '345pm',\n",
       " '346',\n",
       " '34639097',\n",
       " '347',\n",
       " '34a',\n",
       " '34b',\n",
       " '34c',\n",
       " '34ddd',\n",
       " '34oz',\n",
       " '35',\n",
       " '350',\n",
       " '3500',\n",
       " '350cc',\n",
       " '355',\n",
       " '358',\n",
       " '35am',\n",
       " '35k',\n",
       " '35lbs',\n",
       " '35min',\n",
       " '35mins',\n",
       " '35minutes',\n",
       " '35p',\n",
       " '35pm',\n",
       " '35th',\n",
       " '36',\n",
       " '360',\n",
       " '361',\n",
       " '363',\n",
       " '364',\n",
       " '3642',\n",
       " '365',\n",
       " '366',\n",
       " '367',\n",
       " '368',\n",
       " '369',\n",
       " '36c',\n",
       " '36dd',\n",
       " '36ddd',\n",
       " '36hr',\n",
       " '36weeks',\n",
       " '37',\n",
       " '370',\n",
       " '373',\n",
       " '375',\n",
       " '376',\n",
       " '378',\n",
       " '3789',\n",
       " '379',\n",
       " '37am',\n",
       " '37lbs',\n",
       " '37pm',\n",
       " '38',\n",
       " '380',\n",
       " '3800',\n",
       " '3805',\n",
       " '382',\n",
       " '3830',\n",
       " '385',\n",
       " '386',\n",
       " '388',\n",
       " '38pm',\n",
       " '38th',\n",
       " '39',\n",
       " '390',\n",
       " '3900',\n",
       " '3904',\n",
       " '391',\n",
       " '392',\n",
       " '3931',\n",
       " '395',\n",
       " '396',\n",
       " '398',\n",
       " '3995',\n",
       " '39pm',\n",
       " '39th',\n",
       " '3a',\n",
       " '3actually',\n",
       " '3am',\n",
       " '3c',\n",
       " '3cc',\n",
       " '3cm',\n",
       " '3d',\n",
       " '3days',\n",
       " '3hours',\n",
       " '3hr',\n",
       " '3hrs',\n",
       " '3k',\n",
       " ...]"
      ]
     },
     "execution_count": 36,
     "metadata": {},
     "output_type": "execute_result"
    }
   ],
   "source": [
    "vectorizer.get_feature_names()"
   ]
  },
  {
   "cell_type": "markdown",
   "metadata": {},
   "source": [
    "## Diffrent classifier: Logistic"
   ]
  },
  {
   "cell_type": "code",
   "execution_count": 37,
   "metadata": {},
   "outputs": [],
   "source": [
    "from sklearn.linear_model import LogisticRegression"
   ]
  },
  {
   "cell_type": "code",
   "execution_count": 38,
   "metadata": {},
   "outputs": [
    {
     "data": {
      "text/plain": [
       "45631"
      ]
     },
     "execution_count": 38,
     "metadata": {},
     "output_type": "execute_result"
    }
   ],
   "source": [
    "len(review)"
   ]
  },
  {
   "cell_type": "code",
   "execution_count": 39,
   "metadata": {},
   "outputs": [
    {
     "data": {
      "text/plain": [
       "45631"
      ]
     },
     "execution_count": 39,
     "metadata": {},
     "output_type": "execute_result"
    }
   ],
   "source": [
    "len(sentiments)"
   ]
  },
  {
   "cell_type": "code",
   "execution_count": 40,
   "metadata": {},
   "outputs": [],
   "source": [
    "# Split the data for training and for testing and shuffle it\n",
    "X_train, X_test, y_train, y_test = train_test_split(review, sentiments,\n",
    "test_size=0.2, shuffle=True)"
   ]
  },
  {
   "cell_type": "code",
   "execution_count": 41,
   "metadata": {},
   "outputs": [
    {
     "name": "stdout",
     "output_type": "stream",
     "text": [
      "Accuracy= 0.9701983126985866\n"
     ]
    }
   ],
   "source": [
    "vectorizer = CountVectorizer(lowercase=True)\n",
    "# Compute the vocabulary only on the training data\n",
    "vectorizer.fit(X_train)\n",
    "\n",
    "# Transform the text list to a matrix form\n",
    "X_train_vectorized = vectorizer.transform(X_train)\n",
    "\n",
    "classifier = LogisticRegression()\n",
    "\n",
    "# Train the classifier\n",
    "classifier.fit(X_train_vectorized, y_train)\n",
    "\n",
    "# Vectorize the test data\n",
    "X_test_vectorized = vectorizer.transform(X_test)\n",
    "\n",
    "# Check our classifier performance\n",
    "score = classifier.score(X_test_vectorized, y_test)\n",
    "print(\"Accuracy=\", score)"
   ]
  },
  {
   "cell_type": "markdown",
   "metadata": {},
   "source": [
    "## Logistic results\n",
    "`Accuracy= 0.9737136465324385\n",
    "`"
   ]
  },
  {
   "cell_type": "markdown",
   "metadata": {},
   "source": [
    "## Use Ngrams Instead of Words\n"
   ]
  },
  {
   "cell_type": "code",
   "execution_count": 44,
   "metadata": {},
   "outputs": [],
   "source": [
    "# Split the data for training and for testing and shuffle it\n",
    "X_train, X_test, y_train, y_test = train_test_split(review, sentiments,\n",
    "test_size=0.2, shuffle=True)"
   ]
  },
  {
   "cell_type": "code",
   "execution_count": 46,
   "metadata": {},
   "outputs": [
    {
     "name": "stdout",
     "output_type": "stream",
     "text": [
      "Accuracy= 0.9768817793360359\n",
      "CPU times: user 1min 26s, sys: 856 ms, total: 1min 27s\n",
      "Wall time: 1min 27s\n"
     ]
    }
   ],
   "source": [
    "%%time\n",
    "vectorizer = CountVectorizer(lowercase=True, ngram_range=(1,3))\n",
    "# Compute the vocabulary only on the training data\n",
    "vectorizer.fit(X_train)\n",
    "\n",
    "# Transform the text list to a matrix form\n",
    "X_train_vectorized = vectorizer.transform(X_train)\n",
    "\n",
    "classifier = LogisticRegression()\n",
    "\n",
    "# Train the classifier\n",
    "classifier.fit(X_train_vectorized, y_train)\n",
    "\n",
    "# Vectorize the test data\n",
    "X_test_vectorized = vectorizer.transform(X_test)\n",
    "\n",
    "# Check our classifier performance\n",
    "score = classifier.score(X_test_vectorized, y_test)\n",
    "print(\"Accuracy=\", score)"
   ]
  },
  {
   "cell_type": "markdown",
   "metadata": {},
   "source": [
    "### Results\n",
    "- `Accuracy= 0.9793064876957495\n",
    "`"
   ]
  },
  {
   "cell_type": "markdown",
   "metadata": {},
   "source": [
    "## pipeline\n",
    "- Result `Accuracy= 0.9777218493661447\n",
    "`"
   ]
  },
  {
   "cell_type": "code",
   "execution_count": 47,
   "metadata": {},
   "outputs": [],
   "source": [
    "from sklearn.pipeline import Pipeline"
   ]
  },
  {
   "cell_type": "code",
   "execution_count": 48,
   "metadata": {},
   "outputs": [],
   "source": [
    "# Split the data for training and for testing and shuffle it\n",
    "X_train, X_test, y_train, y_test = train_test_split(review, sentiments,\n",
    "test_size=0.2, shuffle=True)"
   ]
  },
  {
   "cell_type": "code",
   "execution_count": 49,
   "metadata": {},
   "outputs": [
    {
     "name": "stdout",
     "output_type": "stream",
     "text": [
      "Accuracy= 0.9778678645776269\n",
      "CPU times: user 1min 13s, sys: 712 ms, total: 1min 13s\n",
      "Wall time: 1min 13s\n"
     ]
    }
   ],
   "source": [
    "%%time\n",
    "# Put everything in a Pipeline\n",
    "pipeline = Pipeline([\n",
    "    ('vectorizer', \n",
    "     CountVectorizer(lowercase=True,ngram_range=(1, 3)))\n",
    "    ,('classifier', LogisticRegression())])\n",
    "\n",
    "pipeline.fit(X_train, y_train)\n",
    "# Check our classifier performance\n",
    "\n",
    "score = pipeline.score(X_test, y_test)\n",
    "\n",
    "print(\"Accuracy=\", score)"
   ]
  },
  {
   "cell_type": "markdown",
   "metadata": {},
   "source": [
    "## Cross validation score"
   ]
  },
  {
   "cell_type": "code",
   "execution_count": 50,
   "metadata": {},
   "outputs": [],
   "source": [
    "from sklearn.model_selection import cross_val_score\n",
    "from sklearn.utils import shuffle"
   ]
  },
  {
   "cell_type": "code",
   "execution_count": 51,
   "metadata": {},
   "outputs": [
    {
     "name": "stdout",
     "output_type": "stream",
     "text": [
      "CPU times: user 124 ms, sys: 16 ms, total: 140 ms\n",
      "Wall time: 142 ms\n"
     ]
    }
   ],
   "source": [
    "%%time\n",
    "# Put everything in a Pipeline\n",
    "pipeline = Pipeline([\n",
    "    ('vectorizer', CountVectorizer(\n",
    "        lowercase=True,\n",
    "        ngram_range=(1, 3))),\n",
    "    ('classifier', LogisticRegression())])"
   ]
  },
  {
   "cell_type": "code",
   "execution_count": 52,
   "metadata": {},
   "outputs": [],
   "source": [
    "review, sentiments = shuffle(review, sentiments)"
   ]
  },
  {
   "cell_type": "code",
   "execution_count": 53,
   "metadata": {},
   "outputs": [
    {
     "name": "stdout",
     "output_type": "stream",
     "text": [
      "MeanAccuracy= 0.9768577868048183\n",
      "CPU times: user 6min 2s, sys: 5.17 s, total: 6min 8s\n",
      "Wall time: 6min 8s\n"
     ]
    }
   ],
   "source": [
    "%%time\n",
    "print(\"MeanAccuracy=\", cross_val_score(pipeline, review, sentiments, cv=5).mean())"
   ]
  },
  {
   "cell_type": "markdown",
   "metadata": {},
   "source": [
    "## Result:\n",
    "```\n",
    "MeanAccuracy= 0.9773477193058582\n",
    "CPU times: user 10min 21s, sys: 44.1 s, total: 11min 5s\n",
    "Wall time: 8min 45s\n",
    "\n",
    "```"
   ]
  },
  {
   "cell_type": "markdown",
   "metadata": {},
   "source": [
    "## Grid search"
   ]
  },
  {
   "cell_type": "code",
   "execution_count": 54,
   "metadata": {},
   "outputs": [],
   "source": [
    "from sklearn.model_selection import train_test_split, GridSearchCV"
   ]
  },
  {
   "cell_type": "code",
   "execution_count": 55,
   "metadata": {},
   "outputs": [],
   "source": [
    "# shuffle data\n",
    "review, sentiments = shuffle(review, sentiments)"
   ]
  },
  {
   "cell_type": "code",
   "execution_count": 56,
   "metadata": {},
   "outputs": [
    {
     "name": "stdout",
     "output_type": "stream",
     "text": [
      "CPU times: user 4 ms, sys: 0 ns, total: 4 ms\n",
      "Wall time: 637 µs\n"
     ]
    }
   ],
   "source": [
    "%%time\n",
    "# Put everything in a Pipeline\n",
    "pipeline = Pipeline([\n",
    "    ('vectorizer', CountVectorizer(\n",
    "        lowercase=True,\n",
    "        ngram_range=(1, 3))),\n",
    "    ('classifier', LogisticRegression())])\n",
    "\n",
    "\n",
    "classifier = GridSearchCV(pipeline, {\n",
    "    # try out different ngram ranges\n",
    "    'vectorizer__ngram_range': ((1, 2), (2, 3), (1, 3)),\n",
    "    # check if setting all non zero counts to 1 makes a difference\n",
    "    'vectorizer__binary': (True, False),},\n",
    "                          n_jobs=-1, \n",
    "                          verbose=True,\n",
    "                          error_score=0.0, \n",
    "                          cv=5)"
   ]
  },
  {
   "cell_type": "code",
   "execution_count": 57,
   "metadata": {},
   "outputs": [
    {
     "name": "stdout",
     "output_type": "stream",
     "text": [
      "Fitting 5 folds for each of 6 candidates, totalling 30 fits\n"
     ]
    },
    {
     "name": "stderr",
     "output_type": "stream",
     "text": [
      "Process ForkPoolWorker-13:\n",
      "Process ForkPoolWorker-14:\n",
      "Process ForkPoolWorker-7:\n",
      "Process ForkPoolWorker-6:\n",
      "Process ForkPoolWorker-8:\n",
      "Process ForkPoolWorker-3:\n",
      "Process ForkPoolWorker-1:\n",
      "Process ForkPoolWorker-15:\n",
      "Process ForkPoolWorker-2:\n",
      "Process ForkPoolWorker-5:\n",
      "Process ForkPoolWorker-9:\n",
      "Traceback (most recent call last):\n",
      "Traceback (most recent call last):\n",
      "Traceback (most recent call last):\n",
      "Traceback (most recent call last):\n",
      "Traceback (most recent call last):\n",
      "Traceback (most recent call last):\n",
      "  File \"/usr/lib/python3.6/multiprocessing/process.py\", line 258, in _bootstrap\n",
      "    self.run()\n",
      "  File \"/usr/lib/python3.6/multiprocessing/process.py\", line 258, in _bootstrap\n",
      "    self.run()\n",
      "  File \"/usr/lib/python3.6/multiprocessing/process.py\", line 258, in _bootstrap\n",
      "    self.run()\n",
      "  File \"/usr/lib/python3.6/multiprocessing/process.py\", line 258, in _bootstrap\n",
      "    self.run()\n",
      "  File \"/usr/lib/python3.6/multiprocessing/process.py\", line 258, in _bootstrap\n",
      "    self.run()\n",
      "  File \"/usr/lib/python3.6/multiprocessing/process.py\", line 258, in _bootstrap\n",
      "    self.run()\n",
      "Traceback (most recent call last):\n",
      "  File \"/usr/lib/python3.6/multiprocessing/process.py\", line 93, in run\n",
      "    self._target(*self._args, **self._kwargs)\n",
      "Traceback (most recent call last):\n",
      "  File \"/usr/lib/python3.6/multiprocessing/process.py\", line 93, in run\n",
      "    self._target(*self._args, **self._kwargs)\n",
      "  File \"/usr/lib/python3.6/multiprocessing/process.py\", line 93, in run\n",
      "    self._target(*self._args, **self._kwargs)\n",
      "  File \"/usr/lib/python3.6/multiprocessing/process.py\", line 93, in run\n",
      "    self._target(*self._args, **self._kwargs)\n",
      "  File \"/usr/lib/python3.6/multiprocessing/process.py\", line 258, in _bootstrap\n",
      "    self.run()\n",
      "  File \"/usr/lib/python3.6/multiprocessing/process.py\", line 258, in _bootstrap\n",
      "    self.run()\n",
      "  File \"/usr/lib/python3.6/multiprocessing/process.py\", line 93, in run\n",
      "    self._target(*self._args, **self._kwargs)\n",
      "  File \"/usr/lib/python3.6/multiprocessing/pool.py\", line 108, in worker\n",
      "    task = get()\n",
      "  File \"/usr/lib/python3.6/multiprocessing/process.py\", line 93, in run\n",
      "    self._target(*self._args, **self._kwargs)\n",
      "  File \"/usr/lib/python3.6/multiprocessing/pool.py\", line 108, in worker\n",
      "    task = get()\n",
      "  File \"/usr/lib/python3.6/multiprocessing/pool.py\", line 108, in worker\n",
      "    task = get()\n",
      "  File \"/usr/local/lib/python3.6/dist-packages/sklearn/externals/joblib/pool.py\", line 360, in get\n",
      "    racquire()\n",
      "  File \"/usr/lib/python3.6/multiprocessing/process.py\", line 93, in run\n",
      "    self._target(*self._args, **self._kwargs)\n",
      "  File \"/usr/lib/python3.6/multiprocessing/process.py\", line 93, in run\n",
      "    self._target(*self._args, **self._kwargs)\n",
      "  File \"/usr/local/lib/python3.6/dist-packages/sklearn/externals/joblib/pool.py\", line 360, in get\n",
      "    racquire()\n",
      "  File \"/usr/lib/python3.6/multiprocessing/pool.py\", line 108, in worker\n",
      "    task = get()\n",
      "Traceback (most recent call last):\n",
      "  File \"/usr/local/lib/python3.6/dist-packages/sklearn/externals/joblib/pool.py\", line 360, in get\n",
      "    racquire()\n",
      "  File \"/usr/lib/python3.6/multiprocessing/pool.py\", line 108, in worker\n",
      "    task = get()\n",
      "  File \"/usr/local/lib/python3.6/dist-packages/sklearn/externals/joblib/pool.py\", line 360, in get\n",
      "    racquire()\n",
      "KeyboardInterrupt\n",
      "  File \"/usr/lib/python3.6/multiprocessing/process.py\", line 258, in _bootstrap\n",
      "    self.run()\n",
      "  File \"/usr/lib/python3.6/multiprocessing/pool.py\", line 108, in worker\n",
      "    task = get()\n",
      "  File \"/usr/lib/python3.6/multiprocessing/pool.py\", line 108, in worker\n",
      "    task = get()\n",
      "  File \"/usr/lib/python3.6/multiprocessing/process.py\", line 93, in run\n",
      "    self._target(*self._args, **self._kwargs)\n",
      "  File \"/usr/local/lib/python3.6/dist-packages/sklearn/externals/joblib/pool.py\", line 360, in get\n",
      "    racquire()\n",
      "  File \"/usr/lib/python3.6/multiprocessing/pool.py\", line 108, in worker\n",
      "    task = get()\n",
      "  File \"/usr/lib/python3.6/multiprocessing/pool.py\", line 108, in worker\n",
      "    task = get()\n",
      "  File \"/usr/local/lib/python3.6/dist-packages/sklearn/externals/joblib/pool.py\", line 360, in get\n",
      "    racquire()\n",
      "KeyboardInterrupt\n",
      "  File \"/usr/local/lib/python3.6/dist-packages/sklearn/externals/joblib/pool.py\", line 362, in get\n",
      "    return recv()\n",
      "KeyboardInterrupt\n",
      "  File \"/usr/local/lib/python3.6/dist-packages/sklearn/externals/joblib/pool.py\", line 360, in get\n",
      "    racquire()\n",
      "  File \"/usr/local/lib/python3.6/dist-packages/sklearn/externals/joblib/pool.py\", line 360, in get\n",
      "    racquire()\n",
      "KeyboardInterrupt\n",
      "KeyboardInterrupt\n",
      "KeyboardInterrupt\n",
      "  File \"/usr/lib/python3.6/multiprocessing/connection.py\", line 250, in recv\n",
      "    buf = self._recv_bytes()\n",
      "  File \"/usr/lib/python3.6/multiprocessing/connection.py\", line 407, in _recv_bytes\n",
      "    buf = self._recv(4)\n",
      "KeyboardInterrupt\n",
      "  File \"/usr/lib/python3.6/multiprocessing/connection.py\", line 379, in _recv\n",
      "    chunk = read(handle, remaining)\n",
      "KeyboardInterrupt\n"
     ]
    },
    {
     "ename": "KeyboardInterrupt",
     "evalue": "",
     "output_type": "error",
     "traceback": [
      "\u001b[0;31m---------------------------------------------------------------------------\u001b[0m",
      "\u001b[0;31mKeyboardInterrupt\u001b[0m                         Traceback (most recent call last)",
      "\u001b[0;32m<timed eval>\u001b[0m in \u001b[0;36m<module>\u001b[0;34m()\u001b[0m\n",
      "\u001b[0;32m/usr/local/lib/python3.6/dist-packages/sklearn/model_selection/_search.py\u001b[0m in \u001b[0;36mfit\u001b[0;34m(self, X, y, groups, **fit_params)\u001b[0m\n\u001b[1;32m    637\u001b[0m                                   error_score=self.error_score)\n\u001b[1;32m    638\u001b[0m           for parameters, (train, test) in product(candidate_params,\n\u001b[0;32m--> 639\u001b[0;31m                                                    cv.split(X, y, groups)))\n\u001b[0m\u001b[1;32m    640\u001b[0m \u001b[0;34m\u001b[0m\u001b[0m\n\u001b[1;32m    641\u001b[0m         \u001b[0;31m# if one choose to see train score, \"out\" will contain train score info\u001b[0m\u001b[0;34m\u001b[0m\u001b[0;34m\u001b[0m\u001b[0m\n",
      "\u001b[0;32m/usr/local/lib/python3.6/dist-packages/sklearn/externals/joblib/parallel.py\u001b[0m in \u001b[0;36m__call__\u001b[0;34m(self, iterable)\u001b[0m\n\u001b[1;32m    787\u001b[0m                 \u001b[0;31m# consumption.\u001b[0m\u001b[0;34m\u001b[0m\u001b[0;34m\u001b[0m\u001b[0m\n\u001b[1;32m    788\u001b[0m                 \u001b[0mself\u001b[0m\u001b[0;34m.\u001b[0m\u001b[0m_iterating\u001b[0m \u001b[0;34m=\u001b[0m \u001b[0;32mFalse\u001b[0m\u001b[0;34m\u001b[0m\u001b[0m\n\u001b[0;32m--> 789\u001b[0;31m             \u001b[0mself\u001b[0m\u001b[0;34m.\u001b[0m\u001b[0mretrieve\u001b[0m\u001b[0;34m(\u001b[0m\u001b[0;34m)\u001b[0m\u001b[0;34m\u001b[0m\u001b[0m\n\u001b[0m\u001b[1;32m    790\u001b[0m             \u001b[0;31m# Make sure that we get a last message telling us we are done\u001b[0m\u001b[0;34m\u001b[0m\u001b[0;34m\u001b[0m\u001b[0m\n\u001b[1;32m    791\u001b[0m             \u001b[0melapsed_time\u001b[0m \u001b[0;34m=\u001b[0m \u001b[0mtime\u001b[0m\u001b[0;34m.\u001b[0m\u001b[0mtime\u001b[0m\u001b[0;34m(\u001b[0m\u001b[0;34m)\u001b[0m \u001b[0;34m-\u001b[0m \u001b[0mself\u001b[0m\u001b[0;34m.\u001b[0m\u001b[0m_start_time\u001b[0m\u001b[0;34m\u001b[0m\u001b[0m\n",
      "\u001b[0;32m/usr/local/lib/python3.6/dist-packages/sklearn/externals/joblib/parallel.py\u001b[0m in \u001b[0;36mretrieve\u001b[0;34m(self)\u001b[0m\n\u001b[1;32m    697\u001b[0m             \u001b[0;32mtry\u001b[0m\u001b[0;34m:\u001b[0m\u001b[0;34m\u001b[0m\u001b[0m\n\u001b[1;32m    698\u001b[0m                 \u001b[0;32mif\u001b[0m \u001b[0mgetattr\u001b[0m\u001b[0;34m(\u001b[0m\u001b[0mself\u001b[0m\u001b[0;34m.\u001b[0m\u001b[0m_backend\u001b[0m\u001b[0;34m,\u001b[0m \u001b[0;34m'supports_timeout'\u001b[0m\u001b[0;34m,\u001b[0m \u001b[0;32mFalse\u001b[0m\u001b[0;34m)\u001b[0m\u001b[0;34m:\u001b[0m\u001b[0;34m\u001b[0m\u001b[0m\n\u001b[0;32m--> 699\u001b[0;31m                     \u001b[0mself\u001b[0m\u001b[0;34m.\u001b[0m\u001b[0m_output\u001b[0m\u001b[0;34m.\u001b[0m\u001b[0mextend\u001b[0m\u001b[0;34m(\u001b[0m\u001b[0mjob\u001b[0m\u001b[0;34m.\u001b[0m\u001b[0mget\u001b[0m\u001b[0;34m(\u001b[0m\u001b[0mtimeout\u001b[0m\u001b[0;34m=\u001b[0m\u001b[0mself\u001b[0m\u001b[0;34m.\u001b[0m\u001b[0mtimeout\u001b[0m\u001b[0;34m)\u001b[0m\u001b[0;34m)\u001b[0m\u001b[0;34m\u001b[0m\u001b[0m\n\u001b[0m\u001b[1;32m    700\u001b[0m                 \u001b[0;32melse\u001b[0m\u001b[0;34m:\u001b[0m\u001b[0;34m\u001b[0m\u001b[0m\n\u001b[1;32m    701\u001b[0m                     \u001b[0mself\u001b[0m\u001b[0;34m.\u001b[0m\u001b[0m_output\u001b[0m\u001b[0;34m.\u001b[0m\u001b[0mextend\u001b[0m\u001b[0;34m(\u001b[0m\u001b[0mjob\u001b[0m\u001b[0;34m.\u001b[0m\u001b[0mget\u001b[0m\u001b[0;34m(\u001b[0m\u001b[0;34m)\u001b[0m\u001b[0;34m)\u001b[0m\u001b[0;34m\u001b[0m\u001b[0m\n",
      "\u001b[0;32m/usr/lib/python3.6/multiprocessing/pool.py\u001b[0m in \u001b[0;36mget\u001b[0;34m(self, timeout)\u001b[0m\n\u001b[1;32m    636\u001b[0m \u001b[0;34m\u001b[0m\u001b[0m\n\u001b[1;32m    637\u001b[0m     \u001b[0;32mdef\u001b[0m \u001b[0mget\u001b[0m\u001b[0;34m(\u001b[0m\u001b[0mself\u001b[0m\u001b[0;34m,\u001b[0m \u001b[0mtimeout\u001b[0m\u001b[0;34m=\u001b[0m\u001b[0;32mNone\u001b[0m\u001b[0;34m)\u001b[0m\u001b[0;34m:\u001b[0m\u001b[0;34m\u001b[0m\u001b[0m\n\u001b[0;32m--> 638\u001b[0;31m         \u001b[0mself\u001b[0m\u001b[0;34m.\u001b[0m\u001b[0mwait\u001b[0m\u001b[0;34m(\u001b[0m\u001b[0mtimeout\u001b[0m\u001b[0;34m)\u001b[0m\u001b[0;34m\u001b[0m\u001b[0m\n\u001b[0m\u001b[1;32m    639\u001b[0m         \u001b[0;32mif\u001b[0m \u001b[0;32mnot\u001b[0m \u001b[0mself\u001b[0m\u001b[0;34m.\u001b[0m\u001b[0mready\u001b[0m\u001b[0;34m(\u001b[0m\u001b[0;34m)\u001b[0m\u001b[0;34m:\u001b[0m\u001b[0;34m\u001b[0m\u001b[0m\n\u001b[1;32m    640\u001b[0m             \u001b[0;32mraise\u001b[0m \u001b[0mTimeoutError\u001b[0m\u001b[0;34m\u001b[0m\u001b[0m\n",
      "\u001b[0;32m/usr/lib/python3.6/multiprocessing/pool.py\u001b[0m in \u001b[0;36mwait\u001b[0;34m(self, timeout)\u001b[0m\n\u001b[1;32m    633\u001b[0m \u001b[0;34m\u001b[0m\u001b[0m\n\u001b[1;32m    634\u001b[0m     \u001b[0;32mdef\u001b[0m \u001b[0mwait\u001b[0m\u001b[0;34m(\u001b[0m\u001b[0mself\u001b[0m\u001b[0;34m,\u001b[0m \u001b[0mtimeout\u001b[0m\u001b[0;34m=\u001b[0m\u001b[0;32mNone\u001b[0m\u001b[0;34m)\u001b[0m\u001b[0;34m:\u001b[0m\u001b[0;34m\u001b[0m\u001b[0m\n\u001b[0;32m--> 635\u001b[0;31m         \u001b[0mself\u001b[0m\u001b[0;34m.\u001b[0m\u001b[0m_event\u001b[0m\u001b[0;34m.\u001b[0m\u001b[0mwait\u001b[0m\u001b[0;34m(\u001b[0m\u001b[0mtimeout\u001b[0m\u001b[0;34m)\u001b[0m\u001b[0;34m\u001b[0m\u001b[0m\n\u001b[0m\u001b[1;32m    636\u001b[0m \u001b[0;34m\u001b[0m\u001b[0m\n\u001b[1;32m    637\u001b[0m     \u001b[0;32mdef\u001b[0m \u001b[0mget\u001b[0m\u001b[0;34m(\u001b[0m\u001b[0mself\u001b[0m\u001b[0;34m,\u001b[0m \u001b[0mtimeout\u001b[0m\u001b[0;34m=\u001b[0m\u001b[0;32mNone\u001b[0m\u001b[0;34m)\u001b[0m\u001b[0;34m:\u001b[0m\u001b[0;34m\u001b[0m\u001b[0m\n",
      "\u001b[0;32m/usr/lib/python3.6/threading.py\u001b[0m in \u001b[0;36mwait\u001b[0;34m(self, timeout)\u001b[0m\n\u001b[1;32m    549\u001b[0m             \u001b[0msignaled\u001b[0m \u001b[0;34m=\u001b[0m \u001b[0mself\u001b[0m\u001b[0;34m.\u001b[0m\u001b[0m_flag\u001b[0m\u001b[0;34m\u001b[0m\u001b[0m\n\u001b[1;32m    550\u001b[0m             \u001b[0;32mif\u001b[0m \u001b[0;32mnot\u001b[0m \u001b[0msignaled\u001b[0m\u001b[0;34m:\u001b[0m\u001b[0;34m\u001b[0m\u001b[0m\n\u001b[0;32m--> 551\u001b[0;31m                 \u001b[0msignaled\u001b[0m \u001b[0;34m=\u001b[0m \u001b[0mself\u001b[0m\u001b[0;34m.\u001b[0m\u001b[0m_cond\u001b[0m\u001b[0;34m.\u001b[0m\u001b[0mwait\u001b[0m\u001b[0;34m(\u001b[0m\u001b[0mtimeout\u001b[0m\u001b[0;34m)\u001b[0m\u001b[0;34m\u001b[0m\u001b[0m\n\u001b[0m\u001b[1;32m    552\u001b[0m             \u001b[0;32mreturn\u001b[0m \u001b[0msignaled\u001b[0m\u001b[0;34m\u001b[0m\u001b[0m\n\u001b[1;32m    553\u001b[0m \u001b[0;34m\u001b[0m\u001b[0m\n",
      "\u001b[0;32m/usr/lib/python3.6/threading.py\u001b[0m in \u001b[0;36mwait\u001b[0;34m(self, timeout)\u001b[0m\n\u001b[1;32m    293\u001b[0m         \u001b[0;32mtry\u001b[0m\u001b[0;34m:\u001b[0m    \u001b[0;31m# restore state no matter what (e.g., KeyboardInterrupt)\u001b[0m\u001b[0;34m\u001b[0m\u001b[0m\n\u001b[1;32m    294\u001b[0m             \u001b[0;32mif\u001b[0m \u001b[0mtimeout\u001b[0m \u001b[0;32mis\u001b[0m \u001b[0;32mNone\u001b[0m\u001b[0;34m:\u001b[0m\u001b[0;34m\u001b[0m\u001b[0m\n\u001b[0;32m--> 295\u001b[0;31m                 \u001b[0mwaiter\u001b[0m\u001b[0;34m.\u001b[0m\u001b[0macquire\u001b[0m\u001b[0;34m(\u001b[0m\u001b[0;34m)\u001b[0m\u001b[0;34m\u001b[0m\u001b[0m\n\u001b[0m\u001b[1;32m    296\u001b[0m                 \u001b[0mgotit\u001b[0m \u001b[0;34m=\u001b[0m \u001b[0;32mTrue\u001b[0m\u001b[0;34m\u001b[0m\u001b[0m\n\u001b[1;32m    297\u001b[0m             \u001b[0;32melse\u001b[0m\u001b[0;34m:\u001b[0m\u001b[0;34m\u001b[0m\u001b[0m\n",
      "\u001b[0;31mKeyboardInterrupt\u001b[0m: "
     ]
    }
   ],
   "source": [
    "%%time\n",
    "# Compute the vocabulary and train the classifier\n",
    "classifier.fit(review, sentiments)"
   ]
  },
  {
   "cell_type": "code",
   "execution_count": 58,
   "metadata": {},
   "outputs": [
    {
     "ename": "AttributeError",
     "evalue": "'GridSearchCV' object has no attribute 'best_score_'",
     "output_type": "error",
     "traceback": [
      "\u001b[0;31m---------------------------------------------------------------------------\u001b[0m",
      "\u001b[0;31mAttributeError\u001b[0m                            Traceback (most recent call last)",
      "\u001b[0;32m<ipython-input-58-43cf706f1fde>\u001b[0m in \u001b[0;36m<module>\u001b[0;34m()\u001b[0m\n\u001b[0;32m----> 1\u001b[0;31m \u001b[0mprint\u001b[0m\u001b[0;34m(\u001b[0m\u001b[0;34m\"Best Accuracy: \"\u001b[0m\u001b[0;34m,\u001b[0m \u001b[0mclassifier\u001b[0m\u001b[0;34m.\u001b[0m\u001b[0mbest_score_\u001b[0m\u001b[0;34m)\u001b[0m\u001b[0;34m\u001b[0m\u001b[0m\n\u001b[0m\u001b[1;32m      2\u001b[0m \u001b[0mprint\u001b[0m\u001b[0;34m(\u001b[0m\u001b[0;34m\"Best Parameters: \"\u001b[0m\u001b[0;34m,\u001b[0m \u001b[0mclassifier\u001b[0m\u001b[0;34m.\u001b[0m\u001b[0mbest_params_\u001b[0m\u001b[0;34m)\u001b[0m\u001b[0;34m\u001b[0m\u001b[0m\n",
      "\u001b[0;31mAttributeError\u001b[0m: 'GridSearchCV' object has no attribute 'best_score_'"
     ]
    }
   ],
   "source": [
    "print(\"Best Accuracy: \", classifier.best_score_)\n",
    "print(\"Best Parameters: \", classifier.best_params_)"
   ]
  },
  {
   "cell_type": "code",
   "execution_count": null,
   "metadata": {},
   "outputs": [],
   "source": []
  }
 ],
 "metadata": {
  "kernelspec": {
   "display_name": "Python 3",
   "language": "python",
   "name": "python3"
  },
  "language_info": {
   "codemirror_mode": {
    "name": "ipython",
    "version": 3
   },
   "file_extension": ".py",
   "mimetype": "text/x-python",
   "name": "python",
   "nbconvert_exporter": "python",
   "pygments_lexer": "ipython3",
   "version": "3.6.6"
  }
 },
 "nbformat": 4,
 "nbformat_minor": 2
}
