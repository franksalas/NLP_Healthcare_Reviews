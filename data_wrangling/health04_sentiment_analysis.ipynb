{
 "cells": [
  {
   "cell_type": "markdown",
   "metadata": {},
   "source": [
    "## Sentiment Analysis"
   ]
  },
  {
   "cell_type": "code",
   "execution_count": 1,
   "metadata": {},
   "outputs": [],
   "source": [
    "import warnings\n",
    "warnings.filterwarnings('ignore')"
   ]
  },
  {
   "cell_type": "code",
   "execution_count": 2,
   "metadata": {},
   "outputs": [],
   "source": [
    "import pandas as pd\n",
    "import numpy as np\n",
    "from datetime import datetime"
   ]
  },
  {
   "cell_type": "code",
   "execution_count": 3,
   "metadata": {},
   "outputs": [],
   "source": [
    "path = 'yelp_data/health_text.csv'\n",
    "\n",
    "df = pd.read_csv(path)\n",
    "df.drop(['Unnamed: 0'],axis=1,inplace=True)"
   ]
  },
  {
   "cell_type": "code",
   "execution_count": 4,
   "metadata": {},
   "outputs": [
    {
     "name": "stdout",
     "output_type": "stream",
     "text": [
      "<class 'pandas.core.frame.DataFrame'>\n",
      "RangeIndex: 64006 entries, 0 to 64005\n",
      "Data columns (total 3 columns):\n",
      "stars         64006 non-null int64\n",
      "text          64006 non-null object\n",
      "clean_text    64006 non-null object\n",
      "dtypes: int64(1), object(2)\n",
      "memory usage: 1.5+ MB\n"
     ]
    }
   ],
   "source": [
    "df.info()"
   ]
  },
  {
   "cell_type": "code",
   "execution_count": 5,
   "metadata": {},
   "outputs": [
    {
     "data": {
      "text/html": [
       "<div>\n",
       "<style scoped>\n",
       "    .dataframe tbody tr th:only-of-type {\n",
       "        vertical-align: middle;\n",
       "    }\n",
       "\n",
       "    .dataframe tbody tr th {\n",
       "        vertical-align: top;\n",
       "    }\n",
       "\n",
       "    .dataframe thead th {\n",
       "        text-align: right;\n",
       "    }\n",
       "</style>\n",
       "<table border=\"1\" class=\"dataframe\">\n",
       "  <thead>\n",
       "    <tr style=\"text-align: right;\">\n",
       "      <th></th>\n",
       "      <th>stars</th>\n",
       "      <th>text</th>\n",
       "      <th>clean_text</th>\n",
       "    </tr>\n",
       "  </thead>\n",
       "  <tbody>\n",
       "    <tr>\n",
       "      <th>0</th>\n",
       "      <td>1</td>\n",
       "      <td>Please stay away from this place if you can! I...</td>\n",
       "      <td>please stay away place bad care imaginable sta...</td>\n",
       "    </tr>\n",
       "    <tr>\n",
       "      <th>1</th>\n",
       "      <td>5</td>\n",
       "      <td>My husband has been a patient of Dr. Byrne for...</td>\n",
       "      <td>husband patient dr byrne last year half last m...</td>\n",
       "    </tr>\n",
       "    <tr>\n",
       "      <th>2</th>\n",
       "      <td>4</td>\n",
       "      <td>Dr. Byrne is a great doctor! She has great bed...</td>\n",
       "      <td>dr byrne great doctor great bed side manner ex...</td>\n",
       "    </tr>\n",
       "    <tr>\n",
       "      <th>3</th>\n",
       "      <td>3</td>\n",
       "      <td>I'm raising my review as Dr Bryne's has been m...</td>\n",
       "      <td>raise review dr bryne receptive daughter go an...</td>\n",
       "    </tr>\n",
       "    <tr>\n",
       "      <th>4</th>\n",
       "      <td>1</td>\n",
       "      <td>I wish I could give 0 stars. Worst office I've...</td>\n",
       "      <td>wish could give star bad office ever horrible ...</td>\n",
       "    </tr>\n",
       "  </tbody>\n",
       "</table>\n",
       "</div>"
      ],
      "text/plain": [
       "   stars                                               text  \\\n",
       "0      1  Please stay away from this place if you can! I...   \n",
       "1      5  My husband has been a patient of Dr. Byrne for...   \n",
       "2      4  Dr. Byrne is a great doctor! She has great bed...   \n",
       "3      3  I'm raising my review as Dr Bryne's has been m...   \n",
       "4      1  I wish I could give 0 stars. Worst office I've...   \n",
       "\n",
       "                                          clean_text  \n",
       "0  please stay away place bad care imaginable sta...  \n",
       "1  husband patient dr byrne last year half last m...  \n",
       "2  dr byrne great doctor great bed side manner ex...  \n",
       "3  raise review dr bryne receptive daughter go an...  \n",
       "4  wish could give star bad office ever horrible ...  "
      ]
     },
     "execution_count": 5,
     "metadata": {},
     "output_type": "execute_result"
    }
   ],
   "source": [
    "df.head()"
   ]
  },
  {
   "cell_type": "markdown",
   "metadata": {},
   "source": [
    "## Textblob"
   ]
  },
  {
   "cell_type": "code",
   "execution_count": 6,
   "metadata": {},
   "outputs": [],
   "source": [
    "from textblob import TextBlob\n",
    "import itertools"
   ]
  },
  {
   "cell_type": "markdown",
   "metadata": {},
   "source": [
    "## iterate over text and get sentiment value"
   ]
  },
  {
   "cell_type": "code",
   "execution_count": 7,
   "metadata": {},
   "outputs": [],
   "source": [
    "def get_sentiment(dataframe):\n",
    "    '''input df w/text cols and star val\n",
    "    returns: dataframe with sent value for each text col'''\n",
    "    t1 = datetime.now()\n",
    "    print('starting: {}'.format(t1))\n",
    "    sent_val, sent_val_clean, star_val = [],[],[]\n",
    "    for idx, review in itertools.islice(dataframe.iterrows(), len(dataframe)):\n",
    "        blob_text = TextBlob(review['text'])\n",
    "        blob_clean_text = TextBlob(review['clean_text'])\n",
    "        sent_val.append(blob_text.sentiment.polarity)\n",
    "        sent_val_clean.append(blob_clean_text.sentiment.polarity)\n",
    "        star_val.append(review['stars'])\n",
    "    # create dataframe\n",
    "    print(\"Done with values:\")\n",
    "    sent_df = pd.DataFrame()\n",
    "    sent_df['stars'] = star_val\n",
    "    sent_df['sent_value'] = sent_val\n",
    "    sent_df['sent_value_clean'] = sent_val_clean\n",
    "    print('Done, total time: {}'.format(datetime.now() - t1))\n",
    "    return sent_df"
   ]
  },
  {
   "cell_type": "code",
   "execution_count": 8,
   "metadata": {},
   "outputs": [
    {
     "data": {
      "text/html": [
       "<div>\n",
       "<style scoped>\n",
       "    .dataframe tbody tr th:only-of-type {\n",
       "        vertical-align: middle;\n",
       "    }\n",
       "\n",
       "    .dataframe tbody tr th {\n",
       "        vertical-align: top;\n",
       "    }\n",
       "\n",
       "    .dataframe thead th {\n",
       "        text-align: right;\n",
       "    }\n",
       "</style>\n",
       "<table border=\"1\" class=\"dataframe\">\n",
       "  <thead>\n",
       "    <tr style=\"text-align: right;\">\n",
       "      <th></th>\n",
       "      <th>stars</th>\n",
       "      <th>text</th>\n",
       "      <th>clean_text</th>\n",
       "    </tr>\n",
       "  </thead>\n",
       "  <tbody>\n",
       "    <tr>\n",
       "      <th>0</th>\n",
       "      <td>1</td>\n",
       "      <td>Please stay away from this place if you can! I...</td>\n",
       "      <td>please stay away place bad care imaginable sta...</td>\n",
       "    </tr>\n",
       "    <tr>\n",
       "      <th>1</th>\n",
       "      <td>5</td>\n",
       "      <td>My husband has been a patient of Dr. Byrne for...</td>\n",
       "      <td>husband patient dr byrne last year half last m...</td>\n",
       "    </tr>\n",
       "    <tr>\n",
       "      <th>2</th>\n",
       "      <td>4</td>\n",
       "      <td>Dr. Byrne is a great doctor! She has great bed...</td>\n",
       "      <td>dr byrne great doctor great bed side manner ex...</td>\n",
       "    </tr>\n",
       "    <tr>\n",
       "      <th>3</th>\n",
       "      <td>3</td>\n",
       "      <td>I'm raising my review as Dr Bryne's has been m...</td>\n",
       "      <td>raise review dr bryne receptive daughter go an...</td>\n",
       "    </tr>\n",
       "    <tr>\n",
       "      <th>4</th>\n",
       "      <td>1</td>\n",
       "      <td>I wish I could give 0 stars. Worst office I've...</td>\n",
       "      <td>wish could give star bad office ever horrible ...</td>\n",
       "    </tr>\n",
       "  </tbody>\n",
       "</table>\n",
       "</div>"
      ],
      "text/plain": [
       "   stars                                               text  \\\n",
       "0      1  Please stay away from this place if you can! I...   \n",
       "1      5  My husband has been a patient of Dr. Byrne for...   \n",
       "2      4  Dr. Byrne is a great doctor! She has great bed...   \n",
       "3      3  I'm raising my review as Dr Bryne's has been m...   \n",
       "4      1  I wish I could give 0 stars. Worst office I've...   \n",
       "\n",
       "                                          clean_text  \n",
       "0  please stay away place bad care imaginable sta...  \n",
       "1  husband patient dr byrne last year half last m...  \n",
       "2  dr byrne great doctor great bed side manner ex...  \n",
       "3  raise review dr bryne receptive daughter go an...  \n",
       "4  wish could give star bad office ever horrible ...  "
      ]
     },
     "execution_count": 8,
     "metadata": {},
     "output_type": "execute_result"
    }
   ],
   "source": [
    "df.head()"
   ]
  },
  {
   "cell_type": "code",
   "execution_count": 9,
   "metadata": {},
   "outputs": [
    {
     "name": "stdout",
     "output_type": "stream",
     "text": [
      "starting: 2018-09-25 22:14:31.392362\n",
      "Done with values:\n",
      "Done, total time: 0:02:55.605755\n"
     ]
    }
   ],
   "source": [
    "sentiment_df = get_sentiment(df)"
   ]
  },
  {
   "cell_type": "code",
   "execution_count": 10,
   "metadata": {},
   "outputs": [
    {
     "data": {
      "text/html": [
       "<div>\n",
       "<style scoped>\n",
       "    .dataframe tbody tr th:only-of-type {\n",
       "        vertical-align: middle;\n",
       "    }\n",
       "\n",
       "    .dataframe tbody tr th {\n",
       "        vertical-align: top;\n",
       "    }\n",
       "\n",
       "    .dataframe thead th {\n",
       "        text-align: right;\n",
       "    }\n",
       "</style>\n",
       "<table border=\"1\" class=\"dataframe\">\n",
       "  <thead>\n",
       "    <tr style=\"text-align: right;\">\n",
       "      <th></th>\n",
       "      <th>stars</th>\n",
       "      <th>sent_value</th>\n",
       "      <th>sent_value_clean</th>\n",
       "    </tr>\n",
       "  </thead>\n",
       "  <tbody>\n",
       "    <tr>\n",
       "      <th>0</th>\n",
       "      <td>1</td>\n",
       "      <td>-0.050645</td>\n",
       "      <td>-0.036719</td>\n",
       "    </tr>\n",
       "    <tr>\n",
       "      <th>1</th>\n",
       "      <td>5</td>\n",
       "      <td>0.024962</td>\n",
       "      <td>0.069479</td>\n",
       "    </tr>\n",
       "    <tr>\n",
       "      <th>2</th>\n",
       "      <td>4</td>\n",
       "      <td>0.513333</td>\n",
       "      <td>0.317778</td>\n",
       "    </tr>\n",
       "    <tr>\n",
       "      <th>3</th>\n",
       "      <td>3</td>\n",
       "      <td>-0.035714</td>\n",
       "      <td>0.002806</td>\n",
       "    </tr>\n",
       "    <tr>\n",
       "      <th>4</th>\n",
       "      <td>1</td>\n",
       "      <td>-0.048246</td>\n",
       "      <td>-0.084259</td>\n",
       "    </tr>\n",
       "  </tbody>\n",
       "</table>\n",
       "</div>"
      ],
      "text/plain": [
       "   stars  sent_value  sent_value_clean\n",
       "0      1   -0.050645         -0.036719\n",
       "1      5    0.024962          0.069479\n",
       "2      4    0.513333          0.317778\n",
       "3      3   -0.035714          0.002806\n",
       "4      1   -0.048246         -0.084259"
      ]
     },
     "execution_count": 10,
     "metadata": {},
     "output_type": "execute_result"
    }
   ],
   "source": [
    "sentiment_df.head()"
   ]
  },
  {
   "cell_type": "markdown",
   "metadata": {},
   "source": [
    "## get categorical value\n",
    "\n",
    "- create a function that returns categorical value from the sentiment value"
   ]
  },
  {
   "cell_type": "code",
   "execution_count": 11,
   "metadata": {},
   "outputs": [],
   "source": [
    "def sent_score(sent_val):\n",
    "    '''inputs value, returns cat value'''\n",
    "    if sent_val > 0:\n",
    "        score = 'positive'\n",
    "    elif sent_val < 0:\n",
    "        score = 'negative'\n",
    "    else:\n",
    "        score = 'neutral'\n",
    "    return score"
   ]
  },
  {
   "cell_type": "markdown",
   "metadata": {},
   "source": [
    "#### Test"
   ]
  },
  {
   "cell_type": "code",
   "execution_count": 12,
   "metadata": {},
   "outputs": [
    {
     "data": {
      "text/plain": [
       "-0.05064484126984127"
      ]
     },
     "execution_count": 12,
     "metadata": {},
     "output_type": "execute_result"
    }
   ],
   "source": [
    "sentiment_df.sent_value[0]"
   ]
  },
  {
   "cell_type": "code",
   "execution_count": 13,
   "metadata": {},
   "outputs": [
    {
     "data": {
      "text/plain": [
       "'negative'"
      ]
     },
     "execution_count": 13,
     "metadata": {},
     "output_type": "execute_result"
    }
   ],
   "source": [
    "sent_score(sentiment_df.sent_value[0])"
   ]
  },
  {
   "cell_type": "code",
   "execution_count": 14,
   "metadata": {},
   "outputs": [
    {
     "name": "stdout",
     "output_type": "stream",
     "text": [
      "CPU times: user 31.2 ms, sys: 15.6 ms, total: 46.9 ms\n",
      "Wall time: 41.4 ms\n"
     ]
    }
   ],
   "source": [
    "%%time\n",
    "sentiment_df['sent_score'] = sentiment_df.sent_value.apply(sent_score)\n",
    "sentiment_df['sent_score_clean'] = sentiment_df.sent_value_clean.apply(sent_score)"
   ]
  },
  {
   "cell_type": "code",
   "execution_count": 15,
   "metadata": {},
   "outputs": [
    {
     "name": "stdout",
     "output_type": "stream",
     "text": [
      "<class 'pandas.core.frame.DataFrame'>\n",
      "RangeIndex: 64006 entries, 0 to 64005\n",
      "Data columns (total 5 columns):\n",
      "stars               64006 non-null int64\n",
      "sent_value          64006 non-null float64\n",
      "sent_value_clean    64006 non-null float64\n",
      "sent_score          64006 non-null object\n",
      "sent_score_clean    64006 non-null object\n",
      "dtypes: float64(2), int64(1), object(2)\n",
      "memory usage: 2.4+ MB\n"
     ]
    }
   ],
   "source": [
    "sentiment_df.info()"
   ]
  },
  {
   "cell_type": "code",
   "execution_count": 16,
   "metadata": {},
   "outputs": [
    {
     "data": {
      "text/html": [
       "<div>\n",
       "<style scoped>\n",
       "    .dataframe tbody tr th:only-of-type {\n",
       "        vertical-align: middle;\n",
       "    }\n",
       "\n",
       "    .dataframe tbody tr th {\n",
       "        vertical-align: top;\n",
       "    }\n",
       "\n",
       "    .dataframe thead th {\n",
       "        text-align: right;\n",
       "    }\n",
       "</style>\n",
       "<table border=\"1\" class=\"dataframe\">\n",
       "  <thead>\n",
       "    <tr style=\"text-align: right;\">\n",
       "      <th></th>\n",
       "      <th>stars</th>\n",
       "      <th>sent_value</th>\n",
       "      <th>sent_value_clean</th>\n",
       "      <th>sent_score</th>\n",
       "      <th>sent_score_clean</th>\n",
       "    </tr>\n",
       "  </thead>\n",
       "  <tbody>\n",
       "    <tr>\n",
       "      <th>0</th>\n",
       "      <td>1</td>\n",
       "      <td>-0.050645</td>\n",
       "      <td>-0.036719</td>\n",
       "      <td>negative</td>\n",
       "      <td>negative</td>\n",
       "    </tr>\n",
       "    <tr>\n",
       "      <th>1</th>\n",
       "      <td>5</td>\n",
       "      <td>0.024962</td>\n",
       "      <td>0.069479</td>\n",
       "      <td>positive</td>\n",
       "      <td>positive</td>\n",
       "    </tr>\n",
       "    <tr>\n",
       "      <th>2</th>\n",
       "      <td>4</td>\n",
       "      <td>0.513333</td>\n",
       "      <td>0.317778</td>\n",
       "      <td>positive</td>\n",
       "      <td>positive</td>\n",
       "    </tr>\n",
       "    <tr>\n",
       "      <th>3</th>\n",
       "      <td>3</td>\n",
       "      <td>-0.035714</td>\n",
       "      <td>0.002806</td>\n",
       "      <td>negative</td>\n",
       "      <td>positive</td>\n",
       "    </tr>\n",
       "    <tr>\n",
       "      <th>4</th>\n",
       "      <td>1</td>\n",
       "      <td>-0.048246</td>\n",
       "      <td>-0.084259</td>\n",
       "      <td>negative</td>\n",
       "      <td>negative</td>\n",
       "    </tr>\n",
       "  </tbody>\n",
       "</table>\n",
       "</div>"
      ],
      "text/plain": [
       "   stars  sent_value  sent_value_clean sent_score sent_score_clean\n",
       "0      1   -0.050645         -0.036719   negative         negative\n",
       "1      5    0.024962          0.069479   positive         positive\n",
       "2      4    0.513333          0.317778   positive         positive\n",
       "3      3   -0.035714          0.002806   negative         positive\n",
       "4      1   -0.048246         -0.084259   negative         negative"
      ]
     },
     "execution_count": 16,
     "metadata": {},
     "output_type": "execute_result"
    }
   ],
   "source": [
    "sentiment_df.head()"
   ]
  },
  {
   "cell_type": "code",
   "execution_count": 17,
   "metadata": {},
   "outputs": [
    {
     "data": {
      "text/html": [
       "<div>\n",
       "<style scoped>\n",
       "    .dataframe tbody tr th:only-of-type {\n",
       "        vertical-align: middle;\n",
       "    }\n",
       "\n",
       "    .dataframe tbody tr th {\n",
       "        vertical-align: top;\n",
       "    }\n",
       "\n",
       "    .dataframe thead th {\n",
       "        text-align: right;\n",
       "    }\n",
       "</style>\n",
       "<table border=\"1\" class=\"dataframe\">\n",
       "  <thead>\n",
       "    <tr style=\"text-align: right;\">\n",
       "      <th></th>\n",
       "      <th>stars</th>\n",
       "      <th>text</th>\n",
       "      <th>clean_text</th>\n",
       "    </tr>\n",
       "  </thead>\n",
       "  <tbody>\n",
       "    <tr>\n",
       "      <th>0</th>\n",
       "      <td>1</td>\n",
       "      <td>Please stay away from this place if you can! I...</td>\n",
       "      <td>please stay away place bad care imaginable sta...</td>\n",
       "    </tr>\n",
       "    <tr>\n",
       "      <th>1</th>\n",
       "      <td>5</td>\n",
       "      <td>My husband has been a patient of Dr. Byrne for...</td>\n",
       "      <td>husband patient dr byrne last year half last m...</td>\n",
       "    </tr>\n",
       "    <tr>\n",
       "      <th>2</th>\n",
       "      <td>4</td>\n",
       "      <td>Dr. Byrne is a great doctor! She has great bed...</td>\n",
       "      <td>dr byrne great doctor great bed side manner ex...</td>\n",
       "    </tr>\n",
       "    <tr>\n",
       "      <th>3</th>\n",
       "      <td>3</td>\n",
       "      <td>I'm raising my review as Dr Bryne's has been m...</td>\n",
       "      <td>raise review dr bryne receptive daughter go an...</td>\n",
       "    </tr>\n",
       "    <tr>\n",
       "      <th>4</th>\n",
       "      <td>1</td>\n",
       "      <td>I wish I could give 0 stars. Worst office I've...</td>\n",
       "      <td>wish could give star bad office ever horrible ...</td>\n",
       "    </tr>\n",
       "  </tbody>\n",
       "</table>\n",
       "</div>"
      ],
      "text/plain": [
       "   stars                                               text  \\\n",
       "0      1  Please stay away from this place if you can! I...   \n",
       "1      5  My husband has been a patient of Dr. Byrne for...   \n",
       "2      4  Dr. Byrne is a great doctor! She has great bed...   \n",
       "3      3  I'm raising my review as Dr Bryne's has been m...   \n",
       "4      1  I wish I could give 0 stars. Worst office I've...   \n",
       "\n",
       "                                          clean_text  \n",
       "0  please stay away place bad care imaginable sta...  \n",
       "1  husband patient dr byrne last year half last m...  \n",
       "2  dr byrne great doctor great bed side manner ex...  \n",
       "3  raise review dr bryne receptive daughter go an...  \n",
       "4  wish could give star bad office ever horrible ...  "
      ]
     },
     "execution_count": 17,
     "metadata": {},
     "output_type": "execute_result"
    }
   ],
   "source": [
    "df.head()"
   ]
  },
  {
   "cell_type": "markdown",
   "metadata": {},
   "source": [
    "## Merge with original dataframe"
   ]
  },
  {
   "cell_type": "code",
   "execution_count": 18,
   "metadata": {},
   "outputs": [],
   "source": [
    "# select only columns non duplicates\n",
    "cols_to_use = df.columns.difference(sentiment_df.columns)"
   ]
  },
  {
   "cell_type": "code",
   "execution_count": 19,
   "metadata": {},
   "outputs": [],
   "source": [
    "data_sentiment = pd.merge(sentiment_df, df[cols_to_use], left_index=True, right_index=True, how='outer')"
   ]
  },
  {
   "cell_type": "code",
   "execution_count": 20,
   "metadata": {},
   "outputs": [
    {
     "name": "stdout",
     "output_type": "stream",
     "text": [
      "<class 'pandas.core.frame.DataFrame'>\n",
      "Int64Index: 64006 entries, 0 to 64005\n",
      "Data columns (total 7 columns):\n",
      "stars               64006 non-null int64\n",
      "sent_value          64006 non-null float64\n",
      "sent_value_clean    64006 non-null float64\n",
      "sent_score          64006 non-null object\n",
      "sent_score_clean    64006 non-null object\n",
      "clean_text          64006 non-null object\n",
      "text                64006 non-null object\n",
      "dtypes: float64(2), int64(1), object(4)\n",
      "memory usage: 6.4+ MB\n"
     ]
    }
   ],
   "source": [
    "data_sentiment.info()"
   ]
  },
  {
   "cell_type": "markdown",
   "metadata": {},
   "source": [
    "## rearange columns"
   ]
  },
  {
   "cell_type": "code",
   "execution_count": 21,
   "metadata": {},
   "outputs": [
    {
     "data": {
      "text/plain": [
       "['stars',\n",
       " 'sent_value',\n",
       " 'sent_value_clean',\n",
       " 'sent_score',\n",
       " 'sent_score_clean',\n",
       " 'clean_text',\n",
       " 'text']"
      ]
     },
     "execution_count": 21,
     "metadata": {},
     "output_type": "execute_result"
    }
   ],
   "source": [
    "list(data_sentiment.columns)"
   ]
  },
  {
   "cell_type": "code",
   "execution_count": 22,
   "metadata": {},
   "outputs": [],
   "source": [
    "data_sentiment = data_sentiment[['stars','text','sent_value','sent_score','clean_text', 'sent_value_clean','sent_score_clean']]"
   ]
  },
  {
   "cell_type": "code",
   "execution_count": 23,
   "metadata": {},
   "outputs": [
    {
     "data": {
      "text/html": [
       "<div>\n",
       "<style scoped>\n",
       "    .dataframe tbody tr th:only-of-type {\n",
       "        vertical-align: middle;\n",
       "    }\n",
       "\n",
       "    .dataframe tbody tr th {\n",
       "        vertical-align: top;\n",
       "    }\n",
       "\n",
       "    .dataframe thead th {\n",
       "        text-align: right;\n",
       "    }\n",
       "</style>\n",
       "<table border=\"1\" class=\"dataframe\">\n",
       "  <thead>\n",
       "    <tr style=\"text-align: right;\">\n",
       "      <th></th>\n",
       "      <th>stars</th>\n",
       "      <th>text</th>\n",
       "      <th>sent_value</th>\n",
       "      <th>sent_score</th>\n",
       "      <th>clean_text</th>\n",
       "      <th>sent_value_clean</th>\n",
       "      <th>sent_score_clean</th>\n",
       "    </tr>\n",
       "  </thead>\n",
       "  <tbody>\n",
       "    <tr>\n",
       "      <th>0</th>\n",
       "      <td>1</td>\n",
       "      <td>Please stay away from this place if you can! I...</td>\n",
       "      <td>-0.050645</td>\n",
       "      <td>negative</td>\n",
       "      <td>please stay away place bad care imaginable sta...</td>\n",
       "      <td>-0.036719</td>\n",
       "      <td>negative</td>\n",
       "    </tr>\n",
       "    <tr>\n",
       "      <th>1</th>\n",
       "      <td>5</td>\n",
       "      <td>My husband has been a patient of Dr. Byrne for...</td>\n",
       "      <td>0.024962</td>\n",
       "      <td>positive</td>\n",
       "      <td>husband patient dr byrne last year half last m...</td>\n",
       "      <td>0.069479</td>\n",
       "      <td>positive</td>\n",
       "    </tr>\n",
       "    <tr>\n",
       "      <th>2</th>\n",
       "      <td>4</td>\n",
       "      <td>Dr. Byrne is a great doctor! She has great bed...</td>\n",
       "      <td>0.513333</td>\n",
       "      <td>positive</td>\n",
       "      <td>dr byrne great doctor great bed side manner ex...</td>\n",
       "      <td>0.317778</td>\n",
       "      <td>positive</td>\n",
       "    </tr>\n",
       "    <tr>\n",
       "      <th>3</th>\n",
       "      <td>3</td>\n",
       "      <td>I'm raising my review as Dr Bryne's has been m...</td>\n",
       "      <td>-0.035714</td>\n",
       "      <td>negative</td>\n",
       "      <td>raise review dr bryne receptive daughter go an...</td>\n",
       "      <td>0.002806</td>\n",
       "      <td>positive</td>\n",
       "    </tr>\n",
       "    <tr>\n",
       "      <th>4</th>\n",
       "      <td>1</td>\n",
       "      <td>I wish I could give 0 stars. Worst office I've...</td>\n",
       "      <td>-0.048246</td>\n",
       "      <td>negative</td>\n",
       "      <td>wish could give star bad office ever horrible ...</td>\n",
       "      <td>-0.084259</td>\n",
       "      <td>negative</td>\n",
       "    </tr>\n",
       "  </tbody>\n",
       "</table>\n",
       "</div>"
      ],
      "text/plain": [
       "   stars                                               text  sent_value  \\\n",
       "0      1  Please stay away from this place if you can! I...   -0.050645   \n",
       "1      5  My husband has been a patient of Dr. Byrne for...    0.024962   \n",
       "2      4  Dr. Byrne is a great doctor! She has great bed...    0.513333   \n",
       "3      3  I'm raising my review as Dr Bryne's has been m...   -0.035714   \n",
       "4      1  I wish I could give 0 stars. Worst office I've...   -0.048246   \n",
       "\n",
       "  sent_score                                         clean_text  \\\n",
       "0   negative  please stay away place bad care imaginable sta...   \n",
       "1   positive  husband patient dr byrne last year half last m...   \n",
       "2   positive  dr byrne great doctor great bed side manner ex...   \n",
       "3   negative  raise review dr bryne receptive daughter go an...   \n",
       "4   negative  wish could give star bad office ever horrible ...   \n",
       "\n",
       "   sent_value_clean sent_score_clean  \n",
       "0         -0.036719         negative  \n",
       "1          0.069479         positive  \n",
       "2          0.317778         positive  \n",
       "3          0.002806         positive  \n",
       "4         -0.084259         negative  "
      ]
     },
     "execution_count": 23,
     "metadata": {},
     "output_type": "execute_result"
    }
   ],
   "source": [
    "data_sentiment.head()"
   ]
  },
  {
   "cell_type": "code",
   "execution_count": 24,
   "metadata": {},
   "outputs": [],
   "source": [
    "path = 'yelp_data/health_text_sentiment.csv'\n",
    "data_sentiment.to_csv(path)"
   ]
  },
  {
   "cell_type": "code",
   "execution_count": null,
   "metadata": {},
   "outputs": [],
   "source": []
  }
 ],
 "metadata": {
  "kernelspec": {
   "display_name": "Python 3",
   "language": "python",
   "name": "python3"
  },
  "language_info": {
   "codemirror_mode": {
    "name": "ipython",
    "version": 3
   },
   "file_extension": ".py",
   "mimetype": "text/x-python",
   "name": "python",
   "nbconvert_exporter": "python",
   "pygments_lexer": "ipython3",
   "version": "3.6.6"
  }
 },
 "nbformat": 4,
 "nbformat_minor": 2
}
