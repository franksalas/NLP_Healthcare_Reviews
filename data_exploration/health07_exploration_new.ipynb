{
 "cells": [
  {
   "cell_type": "code",
   "execution_count": 1,
   "metadata": {},
   "outputs": [],
   "source": [
    "import warnings\n",
    "warnings.filterwarnings('ignore')"
   ]
  },
  {
   "cell_type": "code",
   "execution_count": 2,
   "metadata": {},
   "outputs": [],
   "source": [
    "import numpy as np\n",
    "import pandas as pd\n",
    "import matplotlib.pyplot as plt\n",
    "import seaborn as sns\n",
    "import json\n",
    "%matplotlib inline\n",
    "plt.style.use('ggplot')"
   ]
  },
  {
   "cell_type": "code",
   "execution_count": 12,
   "metadata": {},
   "outputs": [],
   "source": [
    "# %%time\n",
    "# path3 = \"yelp_data/yelp_academic_dataset_checkin.json\"\n",
    "# #df3 = pd.read_json(path, lines=True)\n",
    "# with open(path3, encoding=\"utf-8\") as f:\n",
    "#     data = pd.DataFrame(json.loads(line) for line in f)"
   ]
  },
  {
   "cell_type": "code",
   "execution_count": null,
   "metadata": {},
   "outputs": [],
   "source": []
  },
  {
   "cell_type": "code",
   "execution_count": null,
   "metadata": {},
   "outputs": [],
   "source": []
  },
  {
   "cell_type": "code",
   "execution_count": 13,
   "metadata": {},
   "outputs": [],
   "source": [
    "path = 'yelp_data/health_text_sentiment.csv'\n",
    "path2 = 'yelp_data/health_raw00.csv'\n",
    "\n",
    "df = pd.read_csv(path)\n",
    "df2 = pd.read_csv(path2)\n",
    "df.drop(['Unnamed: 0'],axis=1,inplace=True)\n",
    "df2.drop(['Unnamed: 0'],axis=1,inplace=True)"
   ]
  },
  {
   "cell_type": "code",
   "execution_count": 14,
   "metadata": {},
   "outputs": [
    {
     "data": {
      "text/html": [
       "<div>\n",
       "<style scoped>\n",
       "    .dataframe tbody tr th:only-of-type {\n",
       "        vertical-align: middle;\n",
       "    }\n",
       "\n",
       "    .dataframe tbody tr th {\n",
       "        vertical-align: top;\n",
       "    }\n",
       "\n",
       "    .dataframe thead th {\n",
       "        text-align: right;\n",
       "    }\n",
       "</style>\n",
       "<table border=\"1\" class=\"dataframe\">\n",
       "  <thead>\n",
       "    <tr style=\"text-align: right;\">\n",
       "      <th></th>\n",
       "      <th>business_id</th>\n",
       "      <th>categories</th>\n",
       "      <th>name</th>\n",
       "      <th>state</th>\n",
       "      <th>categories_list</th>\n",
       "      <th>cool</th>\n",
       "      <th>date</th>\n",
       "      <th>funny</th>\n",
       "      <th>review_id</th>\n",
       "      <th>stars</th>\n",
       "      <th>text</th>\n",
       "      <th>useful</th>\n",
       "      <th>user_id</th>\n",
       "    </tr>\n",
       "  </thead>\n",
       "  <tbody>\n",
       "    <tr>\n",
       "      <th>0</th>\n",
       "      <td>y-4xTZNKVm8mAZpiXMS5ZA</td>\n",
       "      <td>urologists, doctors, health &amp; medical</td>\n",
       "      <td>Lauren Byrne, MD</td>\n",
       "      <td>AZ</td>\n",
       "      <td>['urologists', ' doctors', ' health &amp; medical']</td>\n",
       "      <td>0</td>\n",
       "      <td>2018-03-03</td>\n",
       "      <td>0</td>\n",
       "      <td>TNNkSmMfshsD3G60jTNjDA</td>\n",
       "      <td>1</td>\n",
       "      <td>Please stay away from this place if you can! I...</td>\n",
       "      <td>2</td>\n",
       "      <td>xv2V2GO5IZYvtw4oW7gQ1w</td>\n",
       "    </tr>\n",
       "    <tr>\n",
       "      <th>1</th>\n",
       "      <td>y-4xTZNKVm8mAZpiXMS5ZA</td>\n",
       "      <td>urologists, doctors, health &amp; medical</td>\n",
       "      <td>Lauren Byrne, MD</td>\n",
       "      <td>AZ</td>\n",
       "      <td>['urologists', ' doctors', ' health &amp; medical']</td>\n",
       "      <td>0</td>\n",
       "      <td>2015-11-29</td>\n",
       "      <td>0</td>\n",
       "      <td>v-iKdstPdCxJr8zV1ZMdrw</td>\n",
       "      <td>5</td>\n",
       "      <td>My husband has been a patient of Dr. Byrne for...</td>\n",
       "      <td>1</td>\n",
       "      <td>SjvWP7c9toeZoV_q62zhTA</td>\n",
       "    </tr>\n",
       "    <tr>\n",
       "      <th>2</th>\n",
       "      <td>y-4xTZNKVm8mAZpiXMS5ZA</td>\n",
       "      <td>urologists, doctors, health &amp; medical</td>\n",
       "      <td>Lauren Byrne, MD</td>\n",
       "      <td>AZ</td>\n",
       "      <td>['urologists', ' doctors', ' health &amp; medical']</td>\n",
       "      <td>0</td>\n",
       "      <td>2016-06-03</td>\n",
       "      <td>0</td>\n",
       "      <td>BmNDRCV9_NzQ_KCChyfdEw</td>\n",
       "      <td>4</td>\n",
       "      <td>Dr. Byrne is a great doctor! She has great bed...</td>\n",
       "      <td>2</td>\n",
       "      <td>sZVHm1aLtvyH9trAc2_MgA</td>\n",
       "    </tr>\n",
       "    <tr>\n",
       "      <th>3</th>\n",
       "      <td>y-4xTZNKVm8mAZpiXMS5ZA</td>\n",
       "      <td>urologists, doctors, health &amp; medical</td>\n",
       "      <td>Lauren Byrne, MD</td>\n",
       "      <td>AZ</td>\n",
       "      <td>['urologists', ' doctors', ' health &amp; medical']</td>\n",
       "      <td>0</td>\n",
       "      <td>2017-03-17</td>\n",
       "      <td>0</td>\n",
       "      <td>t_TKVMxKFYm9Hl-TIO7UUw</td>\n",
       "      <td>3</td>\n",
       "      <td>I'm raising my review as Dr Bryne's has been m...</td>\n",
       "      <td>3</td>\n",
       "      <td>8Y_irXocZdZxLs_qgzpjBw</td>\n",
       "    </tr>\n",
       "    <tr>\n",
       "      <th>4</th>\n",
       "      <td>y-4xTZNKVm8mAZpiXMS5ZA</td>\n",
       "      <td>urologists, doctors, health &amp; medical</td>\n",
       "      <td>Lauren Byrne, MD</td>\n",
       "      <td>AZ</td>\n",
       "      <td>['urologists', ' doctors', ' health &amp; medical']</td>\n",
       "      <td>0</td>\n",
       "      <td>2016-08-31</td>\n",
       "      <td>0</td>\n",
       "      <td>NWRrpGRgWZBBj3lvCZGVKA</td>\n",
       "      <td>1</td>\n",
       "      <td>I wish I could give 0 stars. Worst office I've...</td>\n",
       "      <td>1</td>\n",
       "      <td>hVKPDGpG12z7vpScXaSakw</td>\n",
       "    </tr>\n",
       "  </tbody>\n",
       "</table>\n",
       "</div>"
      ],
      "text/plain": [
       "              business_id                             categories  \\\n",
       "0  y-4xTZNKVm8mAZpiXMS5ZA  urologists, doctors, health & medical   \n",
       "1  y-4xTZNKVm8mAZpiXMS5ZA  urologists, doctors, health & medical   \n",
       "2  y-4xTZNKVm8mAZpiXMS5ZA  urologists, doctors, health & medical   \n",
       "3  y-4xTZNKVm8mAZpiXMS5ZA  urologists, doctors, health & medical   \n",
       "4  y-4xTZNKVm8mAZpiXMS5ZA  urologists, doctors, health & medical   \n",
       "\n",
       "               name state                                  categories_list  \\\n",
       "0  Lauren Byrne, MD    AZ  ['urologists', ' doctors', ' health & medical']   \n",
       "1  Lauren Byrne, MD    AZ  ['urologists', ' doctors', ' health & medical']   \n",
       "2  Lauren Byrne, MD    AZ  ['urologists', ' doctors', ' health & medical']   \n",
       "3  Lauren Byrne, MD    AZ  ['urologists', ' doctors', ' health & medical']   \n",
       "4  Lauren Byrne, MD    AZ  ['urologists', ' doctors', ' health & medical']   \n",
       "\n",
       "   cool        date  funny               review_id  stars  \\\n",
       "0     0  2018-03-03      0  TNNkSmMfshsD3G60jTNjDA      1   \n",
       "1     0  2015-11-29      0  v-iKdstPdCxJr8zV1ZMdrw      5   \n",
       "2     0  2016-06-03      0  BmNDRCV9_NzQ_KCChyfdEw      4   \n",
       "3     0  2017-03-17      0  t_TKVMxKFYm9Hl-TIO7UUw      3   \n",
       "4     0  2016-08-31      0  NWRrpGRgWZBBj3lvCZGVKA      1   \n",
       "\n",
       "                                                text  useful  \\\n",
       "0  Please stay away from this place if you can! I...       2   \n",
       "1  My husband has been a patient of Dr. Byrne for...       1   \n",
       "2  Dr. Byrne is a great doctor! She has great bed...       2   \n",
       "3  I'm raising my review as Dr Bryne's has been m...       3   \n",
       "4  I wish I could give 0 stars. Worst office I've...       1   \n",
       "\n",
       "                  user_id  \n",
       "0  xv2V2GO5IZYvtw4oW7gQ1w  \n",
       "1  SjvWP7c9toeZoV_q62zhTA  \n",
       "2  sZVHm1aLtvyH9trAc2_MgA  \n",
       "3  8Y_irXocZdZxLs_qgzpjBw  \n",
       "4  hVKPDGpG12z7vpScXaSakw  "
      ]
     },
     "execution_count": 14,
     "metadata": {},
     "output_type": "execute_result"
    }
   ],
   "source": [
    "df2.head()"
   ]
  },
  {
   "cell_type": "code",
   "execution_count": 17,
   "metadata": {},
   "outputs": [
    {
     "data": {
      "image/png": "[encoded data removed]",
      "text/plain": [
       "<Figure size 576x288 with 1 Axes>"
      ]
     },
     "metadata": {
      "needs_background": "light"
     },
     "output_type": "display_data"
    }
   ],
   "source": [
    "#Get the distribution of the ratings\n",
    "x=df2['stars'].value_counts()\n",
    "x=x.sort_index()\n",
    "#plot\n",
    "plt.figure(figsize=(8,4))\n",
    "ax= sns.barplot(x.index, x.values, alpha=0.8)\n",
    "plt.title(\"Star Review Distribution\")\n",
    "plt.ylabel('# of businesses', fontsize=12)\n",
    "plt.xlabel('Stars ', fontsize=12)\n",
    "\n",
    "#adding the text labels\n",
    "rects = ax.patches\n",
    "labels = x.values\n",
    "for rect, label in zip(rects, labels):\n",
    "    height = rect.get_height()\n",
    "    ax.text(rect.get_x() + rect.get_width()/2, height + 5, label, ha='center', va='bottom')\n",
    "\n",
    "plt.show()"
   ]
  },
  {
   "cell_type": "markdown",
   "metadata": {},
   "source": [
    "## Categories"
   ]
  },
  {
   "cell_type": "code",
   "execution_count": null,
   "metadata": {},
   "outputs": [],
   "source": []
  },
  {
   "cell_type": "markdown",
   "metadata": {},
   "source": [
    "## state"
   ]
  },
  {
   "cell_type": "code",
   "execution_count": 18,
   "metadata": {},
   "outputs": [
    {
     "data": {
      "image/png": "[encoded data removed]",
      "text/plain": [
       "<Figure size 1152x288 with 1 Axes>"
      ]
     },
     "metadata": {
      "needs_background": "light"
     },
     "output_type": "display_data"
    }
   ],
   "source": [
    "#Get the distribution of the ratings\n",
    "x=df2['state'].value_counts()\n",
    "x=x.sort_values(ascending=False)\n",
    "x=x.iloc[0:20]\n",
    "plt.figure(figsize=(16,4))\n",
    "ax = sns.barplot(x.index, x.values, alpha=0.8)\n",
    "plt.title(\"Which state has the most reviews?\")\n",
    "locs, labels = plt.xticks()\n",
    "plt.setp(labels, rotation=45)\n",
    "plt.ylabel('# businesses', fontsize=12)\n",
    "plt.xlabel('state', fontsize=12)\n",
    "\n",
    "#adding the text labels\n",
    "rects = ax.patches\n",
    "labels = x.values\n",
    "for rect, label in zip(rects, labels):\n",
    "    height = rect.get_height()\n",
    "    ax.text(rect.get_x() + rect.get_width()/2, height + 5, label, ha='center', va='bottom')\n",
    "\n",
    "plt.show()"
   ]
  },
  {
   "cell_type": "code",
   "execution_count": null,
   "metadata": {},
   "outputs": [],
   "source": []
  },
  {
   "cell_type": "code",
   "execution_count": null,
   "metadata": {},
   "outputs": [],
   "source": []
  },
  {
   "cell_type": "code",
   "execution_count": null,
   "metadata": {},
   "outputs": [],
   "source": []
  },
  {
   "cell_type": "code",
   "execution_count": null,
   "metadata": {},
   "outputs": [],
   "source": []
  },
  {
   "cell_type": "code",
   "execution_count": null,
   "metadata": {},
   "outputs": [],
   "source": []
  },
  {
   "cell_type": "code",
   "execution_count": null,
   "metadata": {},
   "outputs": [],
   "source": []
  }
 ],
 "metadata": {
  "kernelspec": {
   "display_name": "Python 3",
   "language": "python",
   "name": "python3"
  },
  "language_info": {
   "codemirror_mode": {
    "name": "ipython",
    "version": 3
   },
   "file_extension": ".py",
   "mimetype": "text/x-python",
   "name": "python",
   "nbconvert_exporter": "python",
   "pygments_lexer": "ipython3",
   "version": "3.6.6"
  }
 },
 "nbformat": 4,
 "nbformat_minor": 2
}
